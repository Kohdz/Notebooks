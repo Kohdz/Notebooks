{
 "cells": [
  {
   "cell_type": "markdown",
   "metadata": {},
   "source": [
    "# Fastest Route"
   ]
  },
  {
   "cell_type": "markdown",
   "metadata": {},
   "source": [
    "sometimes the fastest route is not the direct route. Perhaps taking route $ c $, which as an additional stop is the fastest route"
   ]
  },
  {
   "cell_type": "markdown",
   "metadata": {},
   "source": [
    "<center><img src=\"images/55.png\" width=200></center>"
   ]
  },
  {
   "cell_type": "markdown",
   "metadata": {},
   "source": [
    "If we have undiscovered weights, we cannot be sure that $ A $ to $ C $ is the sortest path. Maybe $ A $ to $ B $ to $ C $ is the sortest"
   ]
  },
  {
   "cell_type": "markdown",
   "metadata": {},
   "source": [
    "<center><img src=\"images/56.png\" width=200></center>"
   ]
  },
  {
   "cell_type": "markdown",
   "metadata": {},
   "source": [
    "Notice howerver, that $ A $ to $ B $ is the fastest route, even though we dont know route from $ C $ to $ B $"
   ]
  },
  {
   "cell_type": "markdown",
   "metadata": {},
   "source": [
    "# Naive Algorithm"
   ]
  },
  {
   "cell_type": "markdown",
   "metadata": {},
   "source": [
    "## Optimal Substructure"
   ]
  },
  {
   "cell_type": "markdown",
   "metadata": {},
   "source": [
    "__Observation__:\n",
    "> Any subpath of an optimal path is also optimal\n"
   ]
  },
  {
   "cell_type": "markdown",
   "metadata": {},
   "source": [
    "__Proof__:\n",
    "- proof by contridiction\n",
    "- Consider an optional path from $ A $ to $ B $ and two vertices $ u $ and $ v $ on this path. IF there were shorter path from $ u $  to $ v $ we would get a shorter path from $ A $ to $ B $"
   ]
  },
  {
   "cell_type": "markdown",
   "metadata": {},
   "source": [
    "<center><img src=\"images/57.png\" width=200></center>"
   ]
  },
  {
   "cell_type": "markdown",
   "metadata": {},
   "source": [
    "__Corollary__:\n",
    "- if $ A -> ... u -> B $ is a shortest path from $ A $ to $ B $, then:\n",
    "\n",
    "$$ d(A, B) = d(A, u) + w(u, B) $$"
   ]
  },
  {
   "cell_type": "markdown",
   "metadata": {},
   "source": [
    "__Edge Relaxation__:\n",
    "- $ dist[v]$ will be an upper bound on the actual distance from $ A $ to $ v $\n",
    "- thus the shortest path will be at most $ dist[v] $\n",
    "- The edge relacation procedure for an edge $ (u, v) $ just checks whether going from $ A $ to $ v $ through $ u $ improves the current vaue of $ dist[v]$"
   ]
  },
  {
   "cell_type": "markdown",
   "metadata": {},
   "source": [
    "<center><img src=\"images/58.png\" width=400></center>"
   ]
  },
  {
   "cell_type": "markdown",
   "metadata": {},
   "source": [
    "## Naive Approach"
   ]
  },
  {
   "cell_type": "markdown",
   "metadata": {},
   "source": [
    "<center><img src=\"images/59.png\" width=300></center>"
   ]
  },
  {
   "cell_type": "markdown",
   "metadata": {},
   "source": [
    "__Correct Distance__:\n",
    "> After the call to Naive Algorithm all the distances are set correctly"
   ]
  },
  {
   "cell_type": "markdown",
   "metadata": {},
   "source": [
    "__Proof__:\n",
    "- Assume, for the sake of contradiction, that no edge can be relaxed and there is a vertex $ v $ such that $ dist[v] > d(A, v) $\n",
    "- Consider a shortest path from $ A $ to $ v $ and let $ u $ be the first vertex on this path with the same property. Let $ p $ be the vertex right before $ u $\n",
    "- Then $ d(A, p) = dist[p]$ and hence $ d(A, u) = d(A, p) + w(p, u) = dist[p] + w(p, u) $\n",
    "- $ dist[u] > d(A, u) = dist[p] + w(p, u) => edge(p, u) $ can be relaxed -- a contradiction "
   ]
  },
  {
   "cell_type": "markdown",
   "metadata": {},
   "source": [
    "<center><img src=\"images/60.png\" width=300></center>"
   ]
  },
  {
   "cell_type": "markdown",
   "metadata": {},
   "source": [
    "# Diklstra's Algorithm"
   ]
  },
  {
   "cell_type": "markdown",
   "metadata": {},
   "source": [
    "### Intuition\n",
    "- Start at $ A $\n",
    "<center><img src=\"images/61.png\" width=200></center>\n",
    "- we relax all the adges from A, meaning we know that its conencted to $ B $ and $ C $\n",
    "<center><img src=\"images/62.png\" width=200></center>\n",
    "- we can be sure distance between $ A $ to  $ B $ is $ 5 $\n",
    "- we dont know to $ C $ because $ B $ to $ C $ might be lessen then $ A $ to $ C $\n",
    "- we know distance for $ B $ so we mark it with a color\n",
    "<center><img src=\"images/63.png\" width=200></center>\n",
    "- now we relax all the edges from $ B $ and we find $ B $ to $ C $ \n",
    "<center><img src=\"images/63.png\" width=200></center>\n",
    "- We see that that $ A $ to $ C $ is now $ 8 $\n",
    "- We then discover more outgoing edges\n",
    "<center><img src=\"images/65.png\" width=200></center>\n",
    "- The next vertex is $ E $ because its the vertex with the min known distance\n",
    "<center><img src=\"images/66.png\" width=200></center>\n",
    "- while $ C $ and $ D $ it is possible that their $ dist $ values are larger than actual distances"
   ]
  },
  {
   "cell_type": "markdown",
   "metadata": {},
   "source": [
    "## Main idea of Dijkstra's Algo"
   ]
  },
  {
   "cell_type": "markdown",
   "metadata": {},
   "source": [
    "__Dijkstra__:\n",
    "- We maintain a set $ R $ of vertices for which $ dist $ is already set correctly (\"Known Region\")\n",
    "- The first vertex added to $ R R is $ A $\n",
    "- On each iteration we take a vertex outside of $ R $ with the minimal $ dist-value $, add it to $ R $, and relax all its outgoing edges"
   ]
  },
  {
   "cell_type": "markdown",
   "metadata": {},
   "source": [
    "# Example of Dijkstra's Algorithm"
   ]
  },
  {
   "cell_type": "markdown",
   "metadata": {},
   "source": [
    "<center><img src=\"images/67.png\" width=400></center>"
   ]
  },
  {
   "cell_type": "markdown",
   "metadata": {},
   "source": [
    "Process:\n",
    "- Start with $ 0 $\n",
    "<center><img src=\"images/68.png\" width=200></center>\n",
    "- we check the edges and relax them from infinity to their value\n",
    "<center><img src=\"images/69.png\" width=200></center>\n",
    "- Now we need to select the next node to process\n",
    "- we select the node with a vale of $ 3 $ because its the closest\n",
    "<center><img src=\"images/70.png\" width=200></center>\n",
    "- we process the second selected node\n",
    "- We cannot relax the edge going to $ 10 $ because $ 3 + 8 = 11 $ and the node value is 10.\n",
    "- next edge has line $ 3 $. $ 3 + 3 = 6 $ which is less then infinity.\n",
    "- So we can update this value\n",
    "<center><img src=\"images/71.png\" width=200></center>\n",
    "- next edge $ 3 + 5 $ is less then infinty, so we relax that edge\n",
    "<center><img src=\"images/72.png\" width=200></center>\n",
    "- we make the $ 6 $ node our next node because its the lowest node\n",
    "<center><img src=\"images/73.png\" width=200></center>\n",
    "- update our nodes from $ 6 $ . Note that the node which was $ 10 $ now becomes $ 9 $ because of a edge going from node $ 6 $ to it\n",
    "<center><img src=\"images/74.png\" width=200></center>\n",
    "- move on to the next node which is $ 7 $\n",
    "<center><img src=\"images/75.png\" width=200></center>\n",
    "- finally we selct the last node and select it\n",
    "<center><img src=\"images/76.png\" width=200></center>\n",
    "- Finally we have to go though all of the nodes and update their values\n",
    "<center><img src=\"images/77.png\" width=200></center>"
   ]
  },
  {
   "cell_type": "markdown",
   "metadata": {},
   "source": [
    "# Dijkstra's Algorithm: Implementation"
   ]
  },
  {
   "cell_type": "markdown",
   "metadata": {},
   "source": [
    "<center><img src=\"images/78.png\" width=400></center>"
   ]
  },
  {
   "cell_type": "markdown",
   "metadata": {},
   "source": [
    "__Overview__:\n",
    "- Were going to be using a priority queue\n",
    "- ` dist[u] <- inf, prev[u] <- NaN `: this line initalizes $ dist[u] $ to infinity and `: prev[u]` to None\n",
    "- ` prev[u] `: basically keeps track of shortest path\n",
    "- ` dist[A] = 0 `: first node has zero distance from itself\n",
    "- ` H <- MakeQueue(V)`: creates pirority queue\n",
    "- Our priority queue will allow us to select the know min value\n",
    "- ` u <- ExtractMin(H) `: remove min value from the queue and assign it to $ u $\n",
    "- ` for all (u, v) in E`: we look at all the outgoing edges from $ u $\n",
    "- `if dist[v] > dist[u] + w(u, v)`: check if it is possible to relax $ u $\n",
    "- ` dist[v] <- dist[u] + w(u, v)`: relax the edge\n",
    "- `prev[u] <- u `: if we relaxed the edge $ u $ is the previous to last vetex on the best known path from $ A $ to $ v $\n",
    "- `ChangePriority(H, v, dist[v]`: change the key of known $ v $ because the key of the nodew must always be eual to its dist value"
   ]
  },
  {
   "cell_type": "markdown",
   "metadata": {},
   "source": [
    "# Dijkstra's Algorithm: Proof of Correctness"
   ]
  },
  {
   "cell_type": "markdown",
   "metadata": {},
   "source": [
    "Critical line is `u <- ExtractMin(H)`"
   ]
  },
  {
   "cell_type": "markdown",
   "metadata": {},
   "source": [
    "__Correct Distance Lemma__:\n",
    "> When a node $ u $ is selected via `ExtractMin, dist[u] = d(A, u)`"
   ]
  },
  {
   "cell_type": "markdown",
   "metadata": {},
   "source": [
    "This means that in the end, this dist-value will also be equal to the distance becasue dist-values are always the upper bound on the correct distance because they are substantiated by a specifc path"
   ]
  },
  {
   "cell_type": "markdown",
   "metadata": {},
   "source": [
    "__Proof__:\n",
    "- if node $ D $ has the min dist-value out of all the nodes in the unknown region, then we cannot come to it shorter because at some point nwe need to get from know region to unknown region, via some node which has dist-value at least the same or bigger than the dist-value of $ D $ \n",
    "- And we'll have to add at lease one or more deges which are non-negative and so there's no way to come to the node $ D $ shorter than by the current best path we can know.\n",
    "- So this is a contradiction with the assumptuon that the dist-value of the node $ D $ is not equal to the actual distance"
   ]
  },
  {
   "cell_type": "markdown",
   "metadata": {},
   "source": [
    "<center><img src=\"images/79.png\" width=400></center>"
   ]
  },
  {
   "cell_type": "markdown",
   "metadata": {},
   "source": [
    "# Analysis"
   ]
  },
  {
   "cell_type": "markdown",
   "metadata": {},
   "source": [
    "Core parts:\n",
    "- Initalization which runs porportional to the number of nodes\n",
    "- next is the make queue operation, which depends on impementation\n",
    "- next is the min extract, which is $ v $ nodes \n",
    "- then there is the `changePriority` operation for every relaxed edge"
   ]
  },
  {
   "cell_type": "markdown",
   "metadata": {},
   "source": [
    "<center><img src=\"images/80.png\" width=300></center>"
   ]
  },
  {
   "cell_type": "markdown",
   "metadata": {},
   "source": [
    "__Runing Time__:\n",
    "- $ O (V) + T(MakeQueue) + |V| * T(ExtractMin) + |E| * T(ChangePriority)$\n",
    "- Priority Queue implemented as array:\n",
    "    - $ O(|V| + |V| + |V|^2 + |E|) = O(|V|^2) $\n",
    "- Priority Queue implemented as binary heap:\n",
    "    - $ O(|V| + |V| + V|log|V| + E|log|V| = O ((|V| + |E|)log|V|) $\n",
    "- Binary Heap is worse on a full graph"
   ]
  }
 ],
 "metadata": {
  "kernelspec": {
   "display_name": "Python 3",
   "language": "python",
   "name": "python3"
  },
  "language_info": {
   "codemirror_mode": {
    "name": "ipython",
    "version": 3
   },
   "file_extension": ".py",
   "mimetype": "text/x-python",
   "name": "python",
   "nbconvert_exporter": "python",
   "pygments_lexer": "ipython3",
   "version": "3.8.3"
  }
 },
 "nbformat": 4,
 "nbformat_minor": 4
}
