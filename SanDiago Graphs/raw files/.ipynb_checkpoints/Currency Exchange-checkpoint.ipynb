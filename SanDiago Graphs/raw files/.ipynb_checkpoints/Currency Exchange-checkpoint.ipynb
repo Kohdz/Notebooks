{
 "cells": [
  {
   "cell_type": "markdown",
   "metadata": {},
   "source": [
    "# Bellman-Ford Algorithm"
   ]
  },
  {
   "cell_type": "markdown",
   "metadata": {},
   "source": [
    "Dijkstra's algorithm allows us to find shortest path for any weighted graph but where all the edges have non-negative weights"
   ]
  },
  {
   "cell_type": "markdown",
   "metadata": {},
   "source": [
    "Bellman-Ford Algorithm allows us to use negative weights"
   ]
  },
  {
   "cell_type": "markdown",
   "metadata": {},
   "source": [
    "__Currency Exchange__:\n",
    "> You cannot convert some currencies into some others with given exchange rates. What is the manimum amount in Russian rubles you can get from 1000 US dollars using unlimited number of currency conversions? Is it possible to get as many Russian rubles as you want? Is it possible to get as many US dollars as you want?"
   ]
  },
  {
   "cell_type": "markdown",
   "metadata": {},
   "source": [
    "## Arbitrage"
   ]
  },
  {
   "cell_type": "markdown",
   "metadata": {},
   "source": [
    "One of the reasonse this question is important is because of __Arbitrage__"
   ]
  },
  {
   "cell_type": "markdown",
   "metadata": {},
   "source": [
    "<center><img src=\"images/81.png\" width=500></center>"
   ]
  },
  {
   "cell_type": "markdown",
   "metadata": {},
   "source": [
    "After going through three banks, you got a profit for $ 25,406 $ due to the rates"
   ]
  },
  {
   "cell_type": "markdown",
   "metadata": {},
   "source": [
    "<center><img src=\"images/82.png\" width=400></center>"
   ]
  },
  {
   "cell_type": "markdown",
   "metadata": {},
   "source": [
    "So your starting out with 1 USD and going though diffrent nodes and ending up at $ RUR $. Your goal is to maxamize the return"
   ]
  },
  {
   "cell_type": "markdown",
   "metadata": {},
   "source": [
    "<center><img src=\"images/83.png\" width=300></center>"
   ]
  },
  {
   "cell_type": "markdown",
   "metadata": {},
   "source": [
    "__Maximum Product Over Paths__:\n",
    "- Input:\n",
    "    - currency exchange graph with weighted edges $ e_i $ between some pairs of currencies with weights $ r_{e_i} $ corresponding to the exchange rate\n",
    "- Output:\n",
    "    - Maximize: the product of weights of edges over all the paths from one \n",
    "    node to another in the graph\n",
    "    <img src=\"images/84.png\" width=200>\n",
    "    \n",
    "    over paths $ (e_1, e_2, ..., e_k) $ from $ USD $ to $ RUR $ in the graph"
   ]
  },
  {
   "cell_type": "markdown",
   "metadata": {},
   "source": [
    "Weird thing about this is that we need to maxmize and not minmize. Even weirder is that we need to maximize the product"
   ]
  },
  {
   "cell_type": "markdown",
   "metadata": {},
   "source": [
    "# Reduction to Shortest Paths"
   ]
  },
  {
   "cell_type": "markdown",
   "metadata": {},
   "source": [
    "__Approaches__:\n",
    "- Replace product with sum by taking logarithms of weights\n",
    "- Negate weights to solve minimization problem instead of maximization problem"
   ]
  },
  {
   "cell_type": "markdown",
   "metadata": {},
   "source": [
    "## Taking the Logarithm"
   ]
  },
  {
   "cell_type": "markdown",
   "metadata": {},
   "source": [
    "$ xy = 2^{log_2(x)}*2^{log_2(y)} = 2^{log_2(x) + log_2(y)} $"
   ]
  },
  {
   "cell_type": "markdown",
   "metadata": {},
   "source": [
    "The equation above is the correspondence between product $ X $ and $ Y $ and sum of their logarithms"
   ]
  },
  {
   "cell_type": "markdown",
   "metadata": {},
   "source": [
    "More specifically, if you want to maximize the product of $ x $ and $ y $ is is equivalent to maximizing the sum of the logarithms of $ x $ and $ y $"
   ]
  },
  {
   "cell_type": "markdown",
   "metadata": {},
   "source": [
    "$ xy => max <=> log_2(x) + log_2(y) -> max $"
   ]
  },
  {
   "cell_type": "markdown",
   "metadata": {},
   "source": [
    "$ 4 * 1 * 1/2 = 2 = 2^1  $"
   ]
  },
  {
   "cell_type": "markdown",
   "metadata": {},
   "source": [
    "$ log_2(4) + log_2(1) + log_2(1/2) = 2 + 0 + (-1) = 1 $"
   ]
  },
  {
   "cell_type": "markdown",
   "metadata": {},
   "source": [
    "<center><img src=\"images/85.png\" width=450></center>"
   ]
  },
  {
   "cell_type": "markdown",
   "metadata": {},
   "source": [
    "So basically our problem of maximizing the product of exchange rates over some paths is equilivant ot maximizing the sum of logarithms of those exchange rates over the same path"
   ]
  },
  {
   "cell_type": "markdown",
   "metadata": {},
   "source": [
    "So now we can actually reduce our problem to maximize the total weight of the path from one node to another by replacing the initial weights"
   ]
  },
  {
   "cell_type": "markdown",
   "metadata": {},
   "source": [
    "We take a minimization problem to a maximization problem by the logarithm route"
   ]
  },
  {
   "cell_type": "markdown",
   "metadata": {},
   "source": [
    "## Negation"
   ]
  },
  {
   "cell_type": "markdown",
   "metadata": {},
   "source": [
    "so to reduce this further to a minimization problem, we should note that to maximize the sum of logarithms is equivalent to minimize minus the sum of logarithms"
   ]
  },
  {
   "cell_type": "markdown",
   "metadata": {},
   "source": [
    "<center><img src=\"images/86.png\" width=450></center>"
   ]
  },
  {
   "cell_type": "markdown",
   "metadata": {},
   "source": [
    "This doesn't yet give us convenient reformation though, so instead we will say that to maximize the sum of logarithms, is equivalent to minimize the sum of minus logarithms"
   ]
  },
  {
   "cell_type": "markdown",
   "metadata": {},
   "source": [
    "So if we replace each logarithm with its negation, then we would need to solve the minimization problem"
   ]
  },
  {
   "cell_type": "markdown",
   "metadata": {},
   "source": [
    "<center><img src=\"images/87.png\" width=450></center>"
   ]
  },
  {
   "cell_type": "markdown",
   "metadata": {},
   "source": [
    "## Reduction"
   ]
  },
  {
   "cell_type": "markdown",
   "metadata": {},
   "source": [
    "__Finally__: replace edge weights $ r_{e_i} by (-log(r_{e_i})) $ and find the shortest path between $ USD $ and $ RUR $ in the graph"
   ]
  },
  {
   "cell_type": "markdown",
   "metadata": {},
   "source": [
    "so we turn it into the shortest path problem"
   ]
  },
  {
   "cell_type": "markdown",
   "metadata": {},
   "source": [
    "__Steps__:\n",
    "- Create currency exchange graphs with wrights $ r_{e_i} $ corresponding to exchange rates\n",
    "- Replace $ r_{e_i} -> (-log(r_{e_i})) $\n",
    "- Find the shortest path from $ USD $ to $ RUR $ by Dijkstra's algorithm\n",
    "- Do the exchanges corresponding to the shortest path"
   ]
  },
  {
   "cell_type": "markdown",
   "metadata": {},
   "source": [
    "The steps above actually do not work for this problem"
   ]
  },
  {
   "cell_type": "markdown",
   "metadata": {},
   "source": [
    "__Where Dijkstra's algorithm goes wrong?__\n",
    "- Dijkstra's algorithm relies on the fact that a shortest path from $ s $ to $ t $ gors only through vertices that are closer to $ s $ than $ t $\n",
    "- This is no longer the case for graphs with negative edges\n",
    "<center><img src=\"images/88.png\" width=200></center>\n",
    "- the algorithm is going to say shortest path is $ S $ to $ A $ $(5)$ and not $ S $ to $ B $ to $ A $ $(-10)$"
   ]
  },
  {
   "cell_type": "markdown",
   "metadata": {},
   "source": [
    "<center><img src=\"images/89.png\" width=300></center>"
   ]
  },
  {
   "cell_type": "markdown",
   "metadata": {},
   "source": [
    "when we take the minus logrithm, we get the following edges"
   ]
  },
  {
   "cell_type": "markdown",
   "metadata": {},
   "source": [
    "<center><img src=\"images/90.png\" width=300></center>"
   ]
  },
  {
   "cell_type": "markdown",
   "metadata": {},
   "source": [
    "The shortest path is going through $ EUR $ but because it is negative, it says that the shortest is simply going straight to $ USD $"
   ]
  },
  {
   "cell_type": "markdown",
   "metadata": {},
   "source": [
    "## Negatice Weight Cycles"
   ]
  },
  {
   "cell_type": "markdown",
   "metadata": {},
   "source": [
    "there is a nastier problem when you allow negative edges, which is negative cycles"
   ]
  },
  {
   "cell_type": "markdown",
   "metadata": {},
   "source": [
    "<center><img src=\"images/91.png\" width=350></center>"
   ]
  },
  {
   "cell_type": "markdown",
   "metadata": {},
   "source": [
    "In currency exchange, a negative cycle can make you a billionaire!"
   ]
  },
  {
   "cell_type": "markdown",
   "metadata": {},
   "source": [
    "# Bellman-Ford Algorthm Implementation"
   ]
  },
  {
   "cell_type": "markdown",
   "metadata": {},
   "source": [
    "We will need to make sure that there are no negative weight cycles, negitive weight edges are ok"
   ]
  },
  {
   "cell_type": "markdown",
   "metadata": {},
   "source": [
    "__Naive Algorithm__:\n",
    "- the naive algorithm we implmented where we relaxed edges works for even negative weights\n"
   ]
  },
  {
   "cell_type": "markdown",
   "metadata": {},
   "source": [
    "<center><img src=\"images/92.png\" width=300></center>"
   ]
  },
  {
   "cell_type": "markdown",
   "metadata": {},
   "source": [
    "It is standard if we can imporve the `dist[v]` by `dist[u]` and the weight of the edge connecting $ U $ and $ V $. we do update it and also update the previous node for $ V $ to become $ U $"
   ]
  },
  {
   "cell_type": "markdown",
   "metadata": {},
   "source": [
    "## Algorithm"
   ]
  },
  {
   "cell_type": "markdown",
   "metadata": {},
   "source": [
    "<center><img src=\"images/93.png\" width=350></center>"
   ]
  },
  {
   "cell_type": "markdown",
   "metadata": {},
   "source": [
    "Steps:\n",
    "- `for all u in V`: we loop through all nodes\n",
    "- `dist[u] <- inf`: we initialize the distance to infinity\n",
    "- `prev[u] <- None`: we dont have any path yet so we init to None\n",
    "- `dist[S] <- 0`: we init the distance of the starting Node to 0\n",
    "- `repeat |V| - 1 times`: we do number of nodes in graph -1 iterations \n",
    "- `for all (u, v) in E`: for each iteration we try to relax all the edges"
   ]
  },
  {
   "cell_type": "markdown",
   "metadata": {},
   "source": [
    "## Run Time:"
   ]
  },
  {
   "cell_type": "markdown",
   "metadata": {},
   "source": [
    "__Lemma__:\n",
    "> The running time of Bellman-Ford algorithm is $ O (|V||E|)"
   ]
  },
  {
   "cell_type": "markdown",
   "metadata": {},
   "source": [
    "__Proof__:\n",
    "- Initalize dist - $ O(|V|) $\n",
    "- $ |V| - 1 $ iterations, each $ O(|E|) - O(|V||E|)$ "
   ]
  },
  {
   "cell_type": "markdown",
   "metadata": {},
   "source": [
    "## Example"
   ]
  },
  {
   "cell_type": "markdown",
   "metadata": {},
   "source": [
    "<center><img src=\"images/94.png\" width=450></center>"
   ]
  },
  {
   "cell_type": "markdown",
   "metadata": {},
   "source": [
    "__Steps__:\n",
    "-  in the first iteration, it tried to update all of the edges to relax them\n",
    "- $ S $ to $ A $ and update edge\n",
    "<center><img src=\"images/94.png\" width=200></center>\n",
    "- Update $ S $ to $ B $ to $ 3 $ and update $ A $ to $ B $ to $ 2 $\n",
    "<center><img src=\"images/96.png\" width=200></center>\n",
    "- update $ C $ to $ - 1 $ because $ 2 (B) - 3  = -1 $ \n",
    "- with all of that our firtst iteration is complete\n",
    "<center><img src=\"images/97.png\" width=200></center>\n",
    "- for our graph, further iterations change nothing and we get this as the final result\n",
    "<center><img src=\"images/98.png\" width=200></center>"
   ]
  },
  {
   "cell_type": "markdown",
   "metadata": {},
   "source": [
    "# Proof of Correctness"
   ]
  },
  {
   "cell_type": "markdown",
   "metadata": {},
   "source": [
    "__Lemma__:\n",
    "> After $ k $ iterations of relaxations, for any node $ u $, $ dist[u] $ is less than or equal to the smallest lenght of a path form $ S $ to $ u $ that contains at most $ k $ edges"
   ]
  },
  {
   "cell_type": "markdown",
   "metadata": {},
   "source": [
    "__Proof__:\n",
    "- use mathematical induction\n",
    "- Base: after $ 0 $ iterations, all dist-values are inf, but for `dist[S] = 0`, which is correct\n",
    "- Induction: proved for $ k $ -> prove for $ k + 1 $\n",
    "- Before $ k + 1-th$ iteration, `dst[u]` is less than or equal to the smallest lenght of a path from $ S $ to $ u $ containing at most $ k $ edges\n",
    "- Each path from $ S $ to $ u $ goes through one of the incoming edges $ (v, u) $\n",
    "- Relaxing by $ (v, u)$ is comparing it with the smallest lenght of a path from $ S $ to $ u $ through $ v $ containing at most $ k + 1 $ edges"
   ]
  },
  {
   "cell_type": "markdown",
   "metadata": {},
   "source": [
    "__Corollary__:\n",
    "> In a graph without negative weight cycle, Bellman-Ford algorithm correctly finds all distances from the starting node $ S $"
   ]
  },
  {
   "cell_type": "markdown",
   "metadata": {},
   "source": [
    "__Proof__:\n",
    "- Any path with at least $ V $ edges contains a cycle\n",
    "- The cycle can be removed without making the path longer\n",
    "- Shortest path contains at most $ V - 1 $ edges and will be found after $ V - 1 $ iterations"
   ]
  },
  {
   "cell_type": "markdown",
   "metadata": {},
   "source": [
    "__Corollary__:\n",
    "> If there is no negative weight cycle reachable form $ S $ such that $ u $ is reachable from this negative-weight cycle, Bellman-Ford algorithm correctly finds `dist[u] = d(S, u)`"
   ]
  },
  {
   "cell_type": "markdown",
   "metadata": {},
   "source": [
    "# Negative Cycles"
   ]
  },
  {
   "cell_type": "markdown",
   "metadata": {},
   "source": [
    "__Lemma__:\n",
    "> A graph $ G $ contains a negative weight cycle if and only if $ |V| $-th (additional) iteration of `BellmanFord(G, S)` updates some dist-value"
   ]
  },
  {
   "cell_type": "markdown",
   "metadata": {},
   "source": [
    "__Proof__:\n",
    "- If there are no negative cycles, then all shortest paths from $ S $ contain at most $ |V| - 1 $ edges, so no dist-value can be updated on $ |V|$-th iteration \n",
    "- There's a negative weight cycle, say $ a -> b -> c -> a $ but no relaxations on $ |V| $-th iteration\n",
    "<center><img src=\"images/99.png\" width=200></center>\n",
    "- what happens if we sum these inequalities \n",
    "<center><img src=\"images/100.png\" width=300></center>"
   ]
  },
  {
   "cell_type": "markdown",
   "metadata": {},
   "source": [
    "## Algorithm for finding Negative Cycle"
   ]
  },
  {
   "cell_type": "markdown",
   "metadata": {},
   "source": [
    "__Algorithms__:\n",
    "- Run $ |V| $ iterations of Bellman-Ford algorithm, save node $ v $ relaxed on the last iteration\n",
    "- $ v $ is reachable from a negative cycle\n",
    "- Start from $ x <- v $, follow the link $ x <- prev[x] $ for $ |V| $ times - we will definitely on the cylce\n",
    "- Save $ y <- x $ and go $ x <- prev[x] $ until $ x = y $ again"
   ]
  },
  {
   "cell_type": "markdown",
   "metadata": {},
   "source": [
    "Even if you can detech the negative cycle, that does not mean you can make the exchange. Because what happens if you are in a negative cycle and have no way of leaving the cycle to go to $ RUR $ "
   ]
  },
  {
   "cell_type": "markdown",
   "metadata": {},
   "source": [
    "<center><img src=\"images/101.png\" width=300></center>"
   ]
  },
  {
   "cell_type": "markdown",
   "metadata": {},
   "source": [
    "# Infinite Arbitrage"
   ]
  },
  {
   "cell_type": "markdown",
   "metadata": {},
   "source": [
    "__Lemma__:\n",
    "> It is possible to get any amount of currency $ u $ from currency $ S $ if and only if $ u $ is reachable from some node $ w $ for which ` dist[w] ` decreased on iteration $ v $ of Bellman-Ford"
   ]
  },
  {
   "cell_type": "markdown",
   "metadata": {},
   "source": [
    "__Proof__:\n",
    "<center><img src=\"images/102.png\" width=300></center>\n",
    "\n",
    "- `dist[w]` decreased on iteration $ V => w $ is reachable from a negative weight cylce\n",
    "- $ w $ is reachable => $ u $ is also reachable => infinite arbitrage\n",
    "\n"
   ]
  },
  {
   "cell_type": "markdown",
   "metadata": {},
   "source": [
    "__Proof__:\n",
    "- After $ V - 1 $ iterations, `dist[u] = L`\n",
    "- infinite arbitrage to $ u $ => there exists a path shorter than $ L $\n",
    "- Thus `dist[u]` will decreased on some iteration $ k >= V $\n",
    "- if $ edge(x, y) $ was not relaxed and `dist[x]` did not decrease on $ i-th $ iteration, then $ edge(x, y) $ will not be relaxed on $ i + 1-st$ iteration\n",
    "- Only nodes reachable from those relaxed on previous iterations can be relaxed\n",
    "- `dist[u]` is decreased on iteration $ k >= V => u $ is reachable from some node relaxed on $ V-th $ iteration"
   ]
  },
  {
   "cell_type": "markdown",
   "metadata": {},
   "source": [
    "## Detect Infinite Arbitrage"
   ]
  },
  {
   "cell_type": "markdown",
   "metadata": {},
   "source": [
    "__Steps__:\n",
    "- Do $ |V| $ iterations of Bellman-Ford, save all noded relaxed on $ V $-th iterations - set $ A $\n",
    "- Put all nodes from $ A $ in a queue $ Q $\n",
    "- do BFS with queue $ Q $ and find all nodes reachable from $ A $\n",
    "- All those nodes and only those can have infinte arbitrage\n",
    "- During BFS, remember the parent of each visited node \n",
    "- Reconstruct the path to $ u $ from some node $ w $ relazed on iteration $ V $\n",
    "- Go back from $ w $ to find negative cycle from which $ w $ is reachable\n",
    "- Use this negative cycle to achive infinite arbitrage from $ S $ to $ u $ "
   ]
  }
 ],
 "metadata": {
  "kernelspec": {
   "display_name": "Python 3",
   "language": "python",
   "name": "python3"
  },
  "language_info": {
   "codemirror_mode": {
    "name": "ipython",
    "version": 3
   },
   "file_extension": ".py",
   "mimetype": "text/x-python",
   "name": "python",
   "nbconvert_exporter": "python",
   "pygments_lexer": "ipython3",
   "version": "3.8.3"
  }
 },
 "nbformat": 4,
 "nbformat_minor": 4
}
