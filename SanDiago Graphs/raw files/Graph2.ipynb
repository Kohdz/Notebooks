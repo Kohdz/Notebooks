{
 "cells": [
  {
   "cell_type": "markdown",
   "metadata": {},
   "source": [
    "# Directed Graph"
   ]
  },
  {
   "cell_type": "markdown",
   "metadata": {},
   "source": [
    "> A directed graph is a graph where each edge has a start vertex and an end vertex"
   ]
  },
  {
   "cell_type": "markdown",
   "metadata": {},
   "source": [
    "## Examples"
   ]
  },
  {
   "cell_type": "markdown",
   "metadata": {},
   "source": [
    "Directed graph might be used to represent\n",
    "- Streets with one-way roads\n",
    "- Links between webpages\n",
    "- Followers on social network\n",
    "- dependencies between tasks"
   ]
  },
  {
   "cell_type": "markdown",
   "metadata": {},
   "source": [
    "# Directed DFS"
   ]
  },
  {
   "cell_type": "markdown",
   "metadata": {},
   "source": [
    "Can run __DFS__ in directed graphs\n",
    "- Only follow directed edges\n",
    "- $ explore(v) $ finds all vertices reachable from $ v $\n",
    "- Can still compute pre- and post- orderings"
   ]
  },
  {
   "cell_type": "markdown",
   "metadata": {},
   "source": [
    "# Linear Orderings"
   ]
  },
  {
   "cell_type": "markdown",
   "metadata": {},
   "source": [
    "Imagine you had the following morning routine as shown below"
   ]
  },
  {
   "cell_type": "markdown",
   "metadata": {},
   "source": [
    "![](images/23.png)"
   ]
  },
  {
   "cell_type": "markdown",
   "metadata": {},
   "source": [
    "we would like to order tasks to respect dependencies as below, is it possible"
   ]
  },
  {
   "cell_type": "markdown",
   "metadata": {},
   "source": [
    "![](images/24.png)"
   ]
  },
  {
   "cell_type": "markdown",
   "metadata": {},
   "source": [
    "It may not be possible to order a graph if there are cycles"
   ]
  },
  {
   "cell_type": "markdown",
   "metadata": {},
   "source": [
    "## Cycle"
   ]
  },
  {
   "cell_type": "markdown",
   "metadata": {},
   "source": [
    "> A __cycle__ in a graph $ G $ is a sequence of vertices $ v_1, v_2, ..., v_n $ so that $ (v_1, v_2), (v_2, v_3), ..., (v_{n-1}, v_n), (v_n, v_1) $ are all edges"
   ]
  },
  {
   "cell_type": "markdown",
   "metadata": {},
   "source": [
    "__Theorem__:\n",
    "> If $ G $ contains a cycle, it cannot be linearly ordered"
   ]
  },
  {
   "cell_type": "markdown",
   "metadata": {},
   "source": [
    "__Proof__:\n",
    "- Has cycle $ v_1, ..., v_n $\n",
    "- Suppose linearly ordered\n",
    "- Suppose $v_k$ comes first\n",
    "- Then $v_k $ comes before $ v_{k-1}$, contradiction"
   ]
  },
  {
   "cell_type": "markdown",
   "metadata": {},
   "source": [
    "# DAGs"
   ]
  },
  {
   "cell_type": "markdown",
   "metadata": {},
   "source": [
    "> A directed graph $ G $ is a __Directed Acyclic Graph__ (DAG) if it has no cycles"
   ]
  },
  {
   "cell_type": "markdown",
   "metadata": {},
   "source": [
    "You need to be a DAG to linearly order, but is it sufficient?"
   ]
  },
  {
   "cell_type": "markdown",
   "metadata": {},
   "source": [
    "# Topological Sort"
   ]
  },
  {
   "cell_type": "markdown",
   "metadata": {},
   "source": [
    "__Theorem__:\n",
    "> Any DAG can be linearly ordered"
   ]
  },
  {
   "cell_type": "markdown",
   "metadata": {},
   "source": [
    "## Last Vertex"
   ]
  },
  {
   "cell_type": "markdown",
   "metadata": {},
   "source": [
    "Consider the last vertex in the ordering. It cannot have any edges pointing out of it.\n",
    "\n",
    "coming last means you can have edges pointing to it, but not from it"
   ]
  },
  {
   "cell_type": "markdown",
   "metadata": {},
   "source": [
    "![](images/25.png)"
   ]
  },
  {
   "cell_type": "markdown",
   "metadata": {},
   "source": [
    "## Source and Sinks"
   ]
  },
  {
   "cell_type": "markdown",
   "metadata": {},
   "source": [
    "> A source is a vertex with no incoming edges. A sink is a verted with no outgoing edges"
   ]
  },
  {
   "cell_type": "markdown",
   "metadata": {},
   "source": [
    "__Basic Idea__: of implementing a topological sort\n",
    "- Find sink\n",
    "- Put at end of order\n",
    "- Remove from graph\n",
    "- Repeat"
   ]
  },
  {
   "cell_type": "markdown",
   "metadata": {},
   "source": [
    "![](images/26.png)"
   ]
  },
  {
   "cell_type": "markdown",
   "metadata": {},
   "source": [
    "How do we even find a sink?"
   ]
  },
  {
   "cell_type": "markdown",
   "metadata": {},
   "source": [
    "### Follow Path"
   ]
  },
  {
   "cell_type": "markdown",
   "metadata": {},
   "source": [
    "Follow path as far as possible $ v_1 -> v_2 -> ... -> v_n $. \n",
    "\n",
    "\n",
    "\n",
    "Eventually either:\n",
    "- Cannot extend (found sink)\n",
    "- Repeat a vertex (have a cycle)"
   ]
  },
  {
   "cell_type": "markdown",
   "metadata": {},
   "source": [
    "## Algorithm "
   ]
  },
  {
   "cell_type": "markdown",
   "metadata": {},
   "source": [
    "![](images/27.png)"
   ]
  },
  {
   "cell_type": "markdown",
   "metadata": {},
   "source": [
    "### Big O"
   ]
  },
  {
   "cell_type": "markdown",
   "metadata": {},
   "source": [
    "- $ O (|V|)$ paths\n",
    "- Each takes $ O (|V|)$ time\n",
    "- Runtime $ O (|V|^2) $"
   ]
  },
  {
   "cell_type": "markdown",
   "metadata": {},
   "source": [
    "To speed up algorithm, instead of going all the way back to the beginning, we simply back up 1 step"
   ]
  },
  {
   "cell_type": "markdown",
   "metadata": {},
   "source": [
    "![](images/28.png)"
   ]
  },
  {
   "cell_type": "markdown",
   "metadata": {},
   "source": [
    "In-other words, we simply do a __DFS__. More specifically, were doing a post-order!"
   ]
  },
  {
   "cell_type": "markdown",
   "metadata": {},
   "source": [
    "## Better Algorithm"
   ]
  },
  {
   "cell_type": "markdown",
   "metadata": {},
   "source": [
    "![](images/29.png)"
   ]
  },
  {
   "cell_type": "markdown",
   "metadata": {},
   "source": [
    "__Theorem__:\n",
    "> if $ G $ is a DAG, with an edge $ u $ to $ v $, $ post(u) > post(v) $"
   ]
  },
  {
   "cell_type": "markdown",
   "metadata": {},
   "source": [
    "__Proof__:\n",
    "\n",
    "Consider the following cases\n",
    "1. Explore $ v $ before exploring $ u $\n",
    "2. Explore $ v $ while exploring $ u $\n",
    "3. Explore $ v $ after exploring $ u $ (cannot happen since there is an edgee)"
   ]
  },
  {
   "cell_type": "markdown",
   "metadata": {},
   "source": [
    "__Case I__: Explore $ v $ before exploring $ u $\n",
    "- Cannot reach $ u $ from $ v $ (DAG)\n",
    "- Must finish exploring $ v $ before finding $ u $\n",
    "- $ post(u) > post(v) $ "
   ]
  },
  {
   "cell_type": "markdown",
   "metadata": {},
   "source": [
    "__Case II__: Explore $ v $ while  exploring $ u $\n",
    "- Must finish exploring $ v $ before can finish exploring $ u $\n",
    "- Therefore $ post(u) > post(v) $"
   ]
  },
  {
   "cell_type": "markdown",
   "metadata": {},
   "source": [
    "# Strongly Connected Components"
   ]
  },
  {
   "cell_type": "markdown",
   "metadata": {},
   "source": [
    "## Connectivity in Digraphs"
   ]
  },
  {
   "cell_type": "markdown",
   "metadata": {},
   "source": [
    "In undirected graphs, have connected components or you dont\n",
    "\n",
    "Directed graphs are more complicated"
   ]
  },
  {
   "cell_type": "markdown",
   "metadata": {},
   "source": [
    "![](images/30.png)"
   ]
  },
  {
   "cell_type": "markdown",
   "metadata": {},
   "source": [
    "In the graph above, from vertex $ D $ you can reach every other graph. But D is a source vertex, once you leave it, you cannot come back"
   ]
  },
  {
   "cell_type": "markdown",
   "metadata": {},
   "source": [
    "$ F $ is the oppsite, once you reach $ F $, you cannot get out of it"
   ]
  },
  {
   "cell_type": "markdown",
   "metadata": {},
   "source": [
    "## Possible Notions"
   ]
  },
  {
   "cell_type": "markdown",
   "metadata": {},
   "source": [
    "- Connected by edges in any directions\n",
    "- One vertex reachable from another\n",
    "- Two vertices both reachable from the other"
   ]
  },
  {
   "cell_type": "markdown",
   "metadata": {},
   "source": [
    "## Strongle Conencted Components"
   ]
  },
  {
   "cell_type": "markdown",
   "metadata": {},
   "source": [
    "> Two vertices $ v, w $ in directed graph are __connected__ if you can reach $ v $ from $ w $ and can reach $ w $ from $ v $"
   ]
  },
  {
   "cell_type": "markdown",
   "metadata": {},
   "source": [
    "__Theorem__:\n",
    "> A directed graph can be partitioned into __strongly connected components__ where two vertices are connected if and only if there are in he same component"
   ]
  },
  {
   "cell_type": "markdown",
   "metadata": {},
   "source": [
    "![](images/31.png)"
   ]
  },
  {
   "cell_type": "markdown",
   "metadata": {},
   "source": [
    "__Proof__: Need to show an equvalence relation"
   ]
  },
  {
   "cell_type": "markdown",
   "metadata": {},
   "source": [
    "![](images/32.png)"
   ]
  },
  {
   "cell_type": "markdown",
   "metadata": {},
   "source": [
    "## Metagraph"
   ]
  },
  {
   "cell_type": "markdown",
   "metadata": {},
   "source": [
    "Even strongly connected components have edges to other components. We can draw something called the metagraph to show these"
   ]
  },
  {
   "cell_type": "markdown",
   "metadata": {},
   "source": [
    "![](images/33.png)"
   ]
  },
  {
   "cell_type": "markdown",
   "metadata": {},
   "source": [
    "__Theorem__:\n",
    "> The metagraph of a graph $ G $ is always a DAG"
   ]
  },
  {
   "cell_type": "markdown",
   "metadata": {},
   "source": [
    "__Proof__:\n",
    "> Suppose its not. Must be a cycle $ C $. Any nodes in cycle can reach any others. Should all be in same $ SCC $.  Contradiction."
   ]
  },
  {
   "cell_type": "markdown",
   "metadata": {},
   "source": [
    "# Computing Strongly Connected Components"
   ]
  },
  {
   "cell_type": "markdown",
   "metadata": {},
   "source": [
    "__Problem__:\n",
    "- Input: A directed graph $ G $\n",
    "- Output: The strongly connected components of $ G $"
   ]
  },
  {
   "cell_type": "markdown",
   "metadata": {},
   "source": [
    "## Easy Algorithm"
   ]
  },
  {
   "cell_type": "markdown",
   "metadata": {},
   "source": [
    "![](images/34.png)"
   ]
  },
  {
   "cell_type": "markdown",
   "metadata": {},
   "source": [
    "Problem with it is the runtime, which is $ O (|V|^2 + |V||E|) $"
   ]
  },
  {
   "cell_type": "markdown",
   "metadata": {},
   "source": [
    "## Sink Components"
   ]
  },
  {
   "cell_type": "markdown",
   "metadata": {},
   "source": [
    "__Idea:__ If $ v $ is in a sink SCC, $ explore(v) $ finds vertices reachable from $ v $. This is exactly the SCC of $ v $"
   ]
  },
  {
   "cell_type": "markdown",
   "metadata": {},
   "source": [
    "![](images/35.png)"
   ]
  },
  {
   "cell_type": "markdown",
   "metadata": {},
   "source": [
    "## Finding Sink Components"
   ]
  },
  {
   "cell_type": "markdown",
   "metadata": {},
   "source": [
    "Need a way to find a sink SCC"
   ]
  },
  {
   "cell_type": "markdown",
   "metadata": {},
   "source": [
    "__Theorem__:\n",
    "> if $ C $ and $ C' $ are two strongly connected components with an edge from some vertex of $ C $ to some vertex of $ C' $, then largest post in $ C $ bigger than latgest post in $ C' $"
   ]
  },
  {
   "cell_type": "markdown",
   "metadata": {},
   "source": [
    "__Proof__:\n",
    "- Cases\n",
    "    1. Vist $ C $ before visit $ C' $ \n",
    "    2. Vist $ C' $ before vist $ C $"
   ]
  },
  {
   "cell_type": "markdown",
   "metadata": {},
   "source": [
    "__Case I__: Visit $ C $ first\n",
    "- Can reach everything in $ C' $ from $ C $\n",
    "- Explore all of $ C' $ while exploring $ C $\n",
    "- $ C $ has largest post"
   ]
  },
  {
   "cell_type": "markdown",
   "metadata": {},
   "source": [
    "__Case II__: Visit $ C' $ first\n",
    "- Cannot reach $ C $ from $ C' $\n",
    "- Must finish exploring $ C' $ before exploring $ C $\n",
    "- $ C $ has larget post"
   ]
  },
  {
   "cell_type": "markdown",
   "metadata": {},
   "source": [
    "__Conclusion__: The vertex with the largest post-order number is a source component!"
   ]
  },
  {
   "cell_type": "markdown",
   "metadata": {},
   "source": [
    "the problem, however, is we want to find a sink component. We can solve this by taking the reverse graph"
   ]
  },
  {
   "cell_type": "markdown",
   "metadata": {},
   "source": [
    "## Reverse Graph"
   ]
  },
  {
   "cell_type": "markdown",
   "metadata": {},
   "source": [
    "Let $ G^R $ be the graph obetained from $ G $ by reversing all of the edges"
   ]
  },
  {
   "cell_type": "markdown",
   "metadata": {},
   "source": [
    "![](images/36.png)"
   ]
  },
  {
   "cell_type": "markdown",
   "metadata": {},
   "source": [
    "__Reverse graph Components__:\n",
    "- $ G^R $ and $ G $ have same SSCs\n",
    "- Source components of $ G^R $ arew sink components of $ G $"
   ]
  },
  {
   "cell_type": "markdown",
   "metadata": {},
   "source": [
    "Find sink components of $ G $ by running DFS on $ G^R $"
   ]
  },
  {
   "cell_type": "markdown",
   "metadata": {},
   "source": [
    "## Basic Algorithm"
   ]
  },
  {
   "cell_type": "markdown",
   "metadata": {},
   "source": [
    "![](images/37.png)"
   ]
  },
  {
   "cell_type": "markdown",
   "metadata": {},
   "source": [
    "You DFS the revers graph, the largest post number is the sink, we explore that and find the vertex and that is our first component. We remove it from the graph and do it again"
   ]
  },
  {
   "cell_type": "markdown",
   "metadata": {},
   "source": [
    "![](images/38.png)"
   ]
  },
  {
   "cell_type": "markdown",
   "metadata": {},
   "source": [
    "Algorithm may be ineffecient due to having to re-run the DFS"
   ]
  },
  {
   "cell_type": "markdown",
   "metadata": {},
   "source": [
    "__Improvement__:\n",
    "- Don't need to rerun __DFS__ on $ G^R $\n",
    "- Largest remaining post number comes from sink component"
   ]
  },
  {
   "cell_type": "markdown",
   "metadata": {},
   "source": [
    "## New Algorithm"
   ]
  },
  {
   "cell_type": "markdown",
   "metadata": {},
   "source": [
    "![](images/39.png)"
   ]
  },
  {
   "cell_type": "markdown",
   "metadata": {},
   "source": [
    "Again, we simply store the post-order numbers and simply begin to visit them in reverse order from greatest to least"
   ]
  },
  {
   "cell_type": "markdown",
   "metadata": {},
   "source": [
    "![](images/40.png)"
   ]
  },
  {
   "cell_type": "markdown",
   "metadata": {},
   "source": [
    "## Runtime"
   ]
  },
  {
   "cell_type": "markdown",
   "metadata": {},
   "source": [
    "__Big O__:\n",
    "- Esentially __DFS__ on $ G^R $ and then on $ G $\n",
    "- Runtime $ O (|V| + |E|) $"
   ]
  }
 ],
 "metadata": {
  "kernelspec": {
   "display_name": "Python 3",
   "language": "python",
   "name": "python3"
  },
  "language_info": {
   "codemirror_mode": {
    "name": "ipython",
    "version": 3
   },
   "file_extension": ".py",
   "mimetype": "text/x-python",
   "name": "python",
   "nbconvert_exporter": "python",
   "pygments_lexer": "ipython3",
   "version": "3.8.3"
  }
 },
 "nbformat": 4,
 "nbformat_minor": 4
}
