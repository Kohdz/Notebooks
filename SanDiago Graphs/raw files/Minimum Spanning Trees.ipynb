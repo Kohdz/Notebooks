{
 "cells": [
  {
   "cell_type": "markdown",
   "metadata": {},
   "source": [
    "## Connecting Computers by Wires"
   ]
  },
  {
   "cell_type": "markdown",
   "metadata": {},
   "source": [
    "<center><img src=\"images/103.png\" width=300></center>"
   ]
  },
  {
   "cell_type": "markdown",
   "metadata": {},
   "source": [
    "Total cost for optimal path above is $ 2 + 1 + 3 + 4 + 2 = 12 $"
   ]
  },
  {
   "cell_type": "markdown",
   "metadata": {},
   "source": [
    "## Building Roads"
   ]
  },
  {
   "cell_type": "markdown",
   "metadata": {},
   "source": [
    "<center><img src=\"images/104.png\" width=300></center>"
   ]
  },
  {
   "cell_type": "markdown",
   "metadata": {},
   "source": [
    "## Formal Definition of MST"
   ]
  },
  {
   "cell_type": "markdown",
   "metadata": {},
   "source": [
    "__MST__:\n",
    "- Input:\n",
    "    - A connected, undirected graph $ G = (V, E) $ with postive edge weight\n",
    "- Output:\n",
    "    - A subset of edges $ E' $ in $ E $ of minimum total weight such that the graph $ (V, E') $ is conencted"
   ]
  },
  {
   "cell_type": "markdown",
   "metadata": {},
   "source": [
    "Its called minimum because were looking for the minimum total weight. Its called spanning  because were looking for all the connected edges. Its called tree because $ E' $ is going to be for a tree"
   ]
  },
  {
   "cell_type": "markdown",
   "metadata": {},
   "source": [
    "## Properties of a Tree"
   ]
  },
  {
   "cell_type": "markdown",
   "metadata": {},
   "source": [
    "- A tree is an undirected graph that is connected and acyclic\n",
    "- a tree on $ n $ vertices has $ n - 1 $ edges\n",
    "- Any connected undirected graph $ G(V, E) $ with $ |E| = |V| -1 $ is a tree\n",
    "- An undirected graph is a tree if there is a unique path between any pair of its vertices"
   ]
  },
  {
   "cell_type": "markdown",
   "metadata": {},
   "source": [
    "Any optimal solution must be acyclic simply because of the fact that if a cycle exists, then there are two path you can take. So if you remove a single path, then what you are left with is a tree."
   ]
  },
  {
   "cell_type": "markdown",
   "metadata": {},
   "source": [
    "# Greedy Algorithms"
   ]
  },
  {
   "cell_type": "markdown",
   "metadata": {},
   "source": [
    "__Kruskal's Algorithm__:\n",
    "> repeatedly add the next lightest edge if this doesn't produce a cycle\n",
    "- Intially our graph is empty so we just add the lowest value\n",
    "<center><img style=\"margin-bottom:12px\" src=\"images/105.png\" width=200></center>\n",
    "\n",
    "- there is another edge with a cost of $ 1 $ so we add it\n",
    "<center><img style=\"margin-bottom:12px\" src=\"images/106.png\" width=200></center>\n",
    "\n",
    "- Next One has a value of $ 2 $ so we add it\n",
    "- But the one after that is $ 3 $ and we dont add it because of cycles\n",
    "<center><img style=\"margin-bottom:12px\" src=\"images/107.png\" width=200></center>\n",
    "\n",
    "- The next lightest edge has a weight of $ 4 $\n",
    "<center><img style=\"margin-bottom:12px\" src=\"images/108.png\" width=200></center>\n",
    "\n",
    "- we skip $ 5 $ because of cycle and we add $ 6 $\n",
    "<center><img style=\"margin-bottom:12px\" src=\"images/109.png\" width=200></center>"
   ]
  },
  {
   "cell_type": "markdown",
   "metadata": {},
   "source": [
    "__Prim's Algorithm__:\n",
    "> Repeatedly attach a new vertex to the current tree by a lightest edge\n",
    "\n",
    "- Select a root for the tree\n",
    "\n",
    "<center><img style=\"margin-bottom:12px\" src=\"images/110.png\" width=200></center>\n",
    "\n",
    "- in each iteration, we attach a new node \n",
    "- we do this by using the lightest possible edge\n",
    "\n",
    "<center><img style=\"margin-bottom:12px\" src=\"images/111.png\" width=200></center>\n",
    "\n",
    "- Our tree has two nodes and we attach the next smallest node\n",
    "<center><img style=\"margin-bottom:12px\" src=\"images/112.png\" width=200></center>\n",
    "\n",
    "- the next one has weight $ 2 $ and the one after that $ 6 $\n",
    "<center><img style=\"margin-bottom:12px\" src=\"images/113.png\" width=200></center>\n",
    "\n",
    "- finally the last one is attached by an edge with weight $ 1 $"
   ]
  },
  {
   "cell_type": "markdown",
   "metadata": {},
   "source": [
    "# Cut Property"
   ]
  },
  {
   "cell_type": "markdown",
   "metadata": {},
   "source": [
    "To prove both of Kruskal's and Prim's Algorithm work is to prove that they are safe. Meaning if at the current step, we have a subset of edges which we call $ e' $, whic is a subset of some optimal solution, then by adding this edge, according to one of these two strageties, to this set, gives us also a set of edges with is also a part od some optimal solution"
   ]
  },
  {
   "cell_type": "markdown",
   "metadata": {},
   "source": [
    "__Cut Properity__"
   ]
  },
  {
   "cell_type": "markdown",
   "metadata": {},
   "source": [
    "<center><img style=\"margin-bottom:12px\" src=\"images/114.png\" width=450></center>"
   ]
  },
  {
   "cell_type": "markdown",
   "metadata": {},
   "source": [
    "We know that $ X $ is a subset of some minimum spanning tree"
   ]
  },
  {
   "cell_type": "markdown",
   "metadata": {},
   "source": [
    "<center><img style=\"margin-bottom:12px\" src=\"images/115.png\" width=300></center>"
   ]
  },
  {
   "cell_type": "markdown",
   "metadata": {},
   "source": [
    "Then consider some parition of the set of the vertices into two parts"
   ]
  },
  {
   "cell_type": "markdown",
   "metadata": {},
   "source": [
    "What is important is that any two vertices that are joining lie in the same partition"
   ]
  },
  {
   "cell_type": "markdown",
   "metadata": {},
   "source": [
    "<center><img style=\"margin-bottom:12px\" src=\"images/116.png\" width=300></center>"
   ]
  },
  {
   "cell_type": "markdown",
   "metadata": {},
   "source": [
    "Next we consider some lightest edge $ e $. What lemma states is tat if we add this edge to our $ X $ then the resulting edge will also be some MST"
   ]
  },
  {
   "cell_type": "markdown",
   "metadata": {},
   "source": [
    "<center><img style=\"margin-bottom:12px\" src=\"images/117.png\" width=300></center>"
   ]
  },
  {
   "cell_type": "markdown",
   "metadata": {},
   "source": [
    "## Cut Property Proof"
   ]
  },
  {
   "cell_type": "markdown",
   "metadata": {},
   "source": [
    "<center><img style=\"margin-bottom:12px\" src=\"images/118.png\" width=300></center>"
   ]
  },
  {
   "cell_type": "markdown",
   "metadata": {},
   "source": [
    "we assume $ X $ is a part of some minimum spanning tree"
   ]
  },
  {
   "cell_type": "markdown",
   "metadata": {},
   "source": [
    "<center><img style=\"margin-bottom:12px\" src=\"images/119.png\" width=300></center>"
   ]
  },
  {
   "cell_type": "markdown",
   "metadata": {},
   "source": [
    "We we then take $ e $ which is the lightet edge between $ S $ and $ V - S $"
   ]
  },
  {
   "cell_type": "markdown",
   "metadata": {},
   "source": [
    "<center><img style=\"margin-bottom:12px\" src=\"images/120.png\" width=300></center>"
   ]
  },
  {
   "cell_type": "markdown",
   "metadata": {},
   "source": [
    "we know that $ X $ is a part of some $ MST $ $ T $ and need to show that $ X + {e} $ is also a part of a (possible different) $ MST $ "
   ]
  },
  {
   "cell_type": "markdown",
   "metadata": {},
   "source": [
    "To prove it, consider two cases"
   ]
  },
  {
   "cell_type": "markdown",
   "metadata": {},
   "source": [
    "- case 1: if $ e $ is a subset of $ T $, then there is nothing to prove, so asume that $ e $ is not a subset of $ T $"
   ]
  },
  {
   "cell_type": "markdown",
   "metadata": {},
   "source": [
    "<center><img style=\"margin-bottom:12px\" src=\"images/121.png\" width=300></center>"
   ]
  },
  {
   "cell_type": "markdown",
   "metadata": {},
   "source": [
    "- assume the new tree $ T $. adding $ e $ to $ T $ creates a cycle; let $ e' $ be an edge of this cycle that crosses $ S $ and $ V - S $\n",
    "- since the edge joins the two parts and since it is a cycle it but go to both the left part and right part\n",
    "- $ e' $ is the edge that joins the two portions\n",
    "- then $ T' = T + {e'] - {e} $ is an $ MST $ containing $ X + {e}$: it is a tree, and $ w(T') <= w(T)$ since $ w(e) <= w(e') $"
   ]
  },
  {
   "cell_type": "markdown",
   "metadata": {},
   "source": [
    "<center><img style=\"margin-bottom:12px\" src=\"images/122.png\" width=300></center>"
   ]
  },
  {
   "cell_type": "markdown",
   "metadata": {},
   "source": [
    "# Kurskal's Algorithm"
   ]
  },
  {
   "cell_type": "markdown",
   "metadata": {},
   "source": [
    "- Algorithm: repeatedly add to $ X $ the next lightest edge $ e $ that doesn't produce a cycle\n",
    "- At any point of time, the set $ X $ is a forest, that is, a collection of trees\n",
    "- The next edge $ e $ connects two different trees -say, $ T_1 $ and $ T_2 $\n",
    "- The edge $ e $ is the lightest between $ T_1 $ and $ V - T_1 $ hence adding $ e $ is safe"
   ]
  },
  {
   "cell_type": "markdown",
   "metadata": {},
   "source": [
    "## Implementation Details"
   ]
  },
  {
   "cell_type": "markdown",
   "metadata": {},
   "source": [
    "- use disjoint sets data structure\n",
    "- initially, each vertex lies in a seprate set\n",
    "- each set is the set of vertices of a conencted component \n",
    "- to check wheter the current edge $ (u, v) $ produces a cycel, we check whether $ u $ and $ v $ belong to the same set"
   ]
  },
  {
   "cell_type": "markdown",
   "metadata": {},
   "source": [
    "## Example"
   ]
  },
  {
   "cell_type": "markdown",
   "metadata": {},
   "source": [
    "<center><img style=\"margin-bottom:12px\" src=\"images/123.png\" width=450></center>"
   ]
  },
  {
   "cell_type": "markdown",
   "metadata": {},
   "source": [
    "- Initally, each vertex lies in a seprate set. \n",
    "- Ne then start processing edges in order of non-decreasing weight\n",
    "- First edge is $ A $ to $ E $\n",
    "- note that we saw they were not in the same edge, so we connect edges and we update our disjointed set\n",
    "- <center><img style=\"margin-bottom:12px\" src=\"images/124.png\" width=300></center>\n",
    "- we go to the next shortest edge $ C $ to $ F $\n",
    "- we update out data structure\n",
    "- <center><img style=\"margin-bottom:12px\" src=\"images/125.png\" width=300></center>\n",
    "- We repeat process for  $ A $ to $ D $\n",
    "<center><img style=\"margin-bottom:12px\" src=\"images/126.png\" width=300></center>\n",
    "- you might be thinkink of connecting $ D $ to $ E $ because its the smallest edge, but you would be wrong, becasue since $ E $ and $ D $ are already in the same set, you wold be creating a cycle\n",
    "- so we just do $ A $ to $ B $\n",
    "<center><img style=\"margin-bottom:12px\" src=\"images/127.png\" width=300></center>\n",
    "- finall we connect $ B $ to $ F $ and we finish\n",
    "<center><img style=\"margin-bottom:12px\" src=\"images/128.png\" width=300></center>\n",
    "- Notice that our optimal path is $ AEDBCF $"
   ]
  },
  {
   "cell_type": "markdown",
   "metadata": {},
   "source": [
    "## Kruskal's Pesudo-Code"
   ]
  },
  {
   "cell_type": "markdown",
   "metadata": {},
   "source": [
    "<center><img style=\"margin-bottom:12px\" src=\"images/129.png\" width=400></center>"
   ]
  },
  {
   "cell_type": "markdown",
   "metadata": {},
   "source": [
    "- `for all u in V`: loop through all vertices\n",
    "- `MakeSet(v)`: makes a set of all vertices\n",
    "- `X <- empty set`: init $ X $ to an empty set\n",
    "- `for all {u, v} in edges in non-decreasing order`: we process all the edges in non-decreasing weight\n",
    "- `if Find(u) != Find(v)`: we check if there is a cycle or not\n",
    "- ` add {u, v} to X`: if they are different, you can add the edges to path $ X $\n",
    "- ` Union(u, v)`: we update our data structure"
   ]
  },
  {
   "cell_type": "markdown",
   "metadata": {},
   "source": [
    "## Running Time"
   ]
  },
  {
   "cell_type": "markdown",
   "metadata": {},
   "source": [
    "__Sorting Edges__:\n",
    "- $ O(|E| log|E|) = O(|E| log|V|^2) = O(2|E|log|V|) = O(|E|log|V|) $\n",
    "\n",
    "__Processing Edges__:\n",
    "- $ 2|E| * T(Find) + |V| * T(Union) = O ((|E| + |V| log|V| = O(|E|log|V|) $\n",
    "\n",
    "Total Running Time: $ O(|E|log|V|) $"
   ]
  },
  {
   "cell_type": "markdown",
   "metadata": {},
   "source": [
    "# Prim's Algorithm"
   ]
  },
  {
   "cell_type": "markdown",
   "metadata": {},
   "source": [
    "- $ X $ is alaways a subtree, grows by one edge at each iteration\n",
    "- we add a lightest edge between a vertex of the tree and a vertex not in the tree\n",
    "- very simmilar to Dijkstra's Algorithm"
   ]
  },
  {
   "cell_type": "markdown",
   "metadata": {},
   "source": [
    "<center><img style=\"margin-bottom:12px\" src=\"images/130.png\" width=450></center>"
   ]
  },
  {
   "cell_type": "markdown",
   "metadata": {},
   "source": []
  },
  {
   "cell_type": "markdown",
   "metadata": {},
   "source": [
    "- we will be using a pirority queue and thus will be setting all nodes to $ inf $\n",
    "- we will then pick an arbirtary node and change its value to $ 0 $\n",
    "- we process the adjacent nodes and change its value to 1 and 8 respectively\n",
    "- <center><img style=\"margin-bottom:12px\" src=\"images/131.png\" width=200></center>\n",
    "- we select the smallest weight and attach it to our current tree\n",
    "- <center><img style=\"margin-bottom:12px\" src=\"images/132.png\" width=200></center>\n",
    "- continue the cycle\n",
    "- <center><img style=\"margin-bottom:12px\" src=\"images/133.png\" width=200></center>"
   ]
  },
  {
   "cell_type": "markdown",
   "metadata": {},
   "source": [
    "## Prim's Pesudo-Code"
   ]
  },
  {
   "cell_type": "markdown",
   "metadata": {},
   "source": [
    "<center><img style=\"margin-bottom:12px\" src=\"images/134.png\" width=450></center>"
   ]
  },
  {
   "cell_type": "markdown",
   "metadata": {},
   "source": [
    "- `cost[u] <- inf, parent[u] <- nil`: we dont know the cost of anything so we initilize it to $ inf $. the array `parent[u]` is our tree\n",
    "- `cost[u] <- 0`: we select a random vertex and make its cost $ 0 $\n",
    "- `PrioQ <- MakeQueue(V)`: put all of the costs in the Queue. All of their costs except the initial one is $ inf $\n",
    "- ` v <- ExtractMin(PrioQ)`: you extract the min from the queue and attach it to the current tree\n",
    "- `for all {v, z} in E`: what we are doing is iterating through all its neighbors $ z $\n",
    "- `if z in PriorityQ and cost[z] > w(v, z)`: if $ z $ is in our queue and not our tree, and if the current cost of z is greater than the weight  of the edges from $ v $ to $ z $, then this means that we've just found a cheaper way to attach the vertex $ z $ to the current tree\n",
    "- `cost[z] <- w(v, z), parent[z] <- v`: we update the cost of the edge wright to $ z $ and we attach $ z $ to $ v $. meaning $ z $ is going to be the parent of $ v $\n",
    "- `ChangePriority(Prioq, z, cost[z])`: we modify our Queue to reflect the changes"
   ]
  },
  {
   "cell_type": "markdown",
   "metadata": {},
   "source": [
    "## Running Time"
   ]
  },
  {
   "cell_type": "markdown",
   "metadata": {},
   "source": [
    "__The running time is__:\n",
    "- $ |V| * T(ExtractMin) + |E| * T(ChangePriority) $\n",
    "- for array-based implementation, the running time is $ O (|V|^2) $\n",
    "- for binary heap-based implementation, the running time is $ O((|V| + |E|log|V|) =  O(|E|log|V|) $"
   ]
  },
  {
   "cell_type": "markdown",
   "metadata": {},
   "source": [
    "## Summary"
   ]
  },
  {
   "cell_type": "markdown",
   "metadata": {},
   "source": [
    "__Kruskal__: repeatedly add the next lightest edge if this doesn't produce a cycle, use disjoint sets to check whether the current edge joins two vertices from different components"
   ]
  },
  {
   "cell_type": "markdown",
   "metadata": {},
   "source": [
    "__Prim__: repeatedyl attach a new vertex to the current tree by a lightest edge; use priority queue to quickly find the next lightest edge"
   ]
  }
 ],
 "metadata": {
  "kernelspec": {
   "display_name": "Python 3",
   "language": "python",
   "name": "python3"
  },
  "language_info": {
   "codemirror_mode": {
    "name": "ipython",
    "version": 3
   },
   "file_extension": ".py",
   "mimetype": "text/x-python",
   "name": "python",
   "nbconvert_exporter": "python",
   "pygments_lexer": "ipython3",
   "version": "3.8.3"
  }
 },
 "nbformat": 4,
 "nbformat_minor": 4
}
