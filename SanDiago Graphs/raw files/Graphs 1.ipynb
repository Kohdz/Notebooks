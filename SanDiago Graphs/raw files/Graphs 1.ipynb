{
 "cells": [
  {
   "cell_type": "markdown",
   "metadata": {},
   "source": [
    "# Basics"
   ]
  },
  {
   "cell_type": "markdown",
   "metadata": {},
   "source": [
    "Graphs:\n",
    "- Represent connections between objects\n",
    "- Describe many important phenomena"
   ]
  },
  {
   "cell_type": "markdown",
   "metadata": {},
   "source": [
    "Definition\n",
    "> An (unidirected) Graph is a collection of $ V $ of vertices and a collection of $ E $ of edges each of which connects a pair of vertices"
   ]
  },
  {
   "cell_type": "markdown",
   "metadata": {},
   "source": [
    "![](images/01.png)"
   ]
  },
  {
   "cell_type": "markdown",
   "metadata": {},
   "source": [
    "## Loops and Multiple Edges"
   ]
  },
  {
   "cell_type": "markdown",
   "metadata": {},
   "source": [
    "Loops connect a vertex to itself and sometimes multiple edges exist between the same vertices"
   ]
  },
  {
   "cell_type": "markdown",
   "metadata": {},
   "source": [
    "## Representing Graphs"
   ]
  },
  {
   "cell_type": "markdown",
   "metadata": {},
   "source": [
    "### Edge List"
   ]
  },
  {
   "cell_type": "markdown",
   "metadata": {},
   "source": [
    "![](images/02.png)"
   ]
  },
  {
   "cell_type": "markdown",
   "metadata": {},
   "source": [
    "### Adjacency Matrix"
   ]
  },
  {
   "cell_type": "markdown",
   "metadata": {},
   "source": [
    "Entries 1 if there is an edge, 0 if there is not. Were esentailly making a lookup table"
   ]
  },
  {
   "cell_type": "markdown",
   "metadata": {},
   "source": [
    "![](images/03.png)"
   ]
  },
  {
   "cell_type": "markdown",
   "metadata": {},
   "source": [
    "### Adjacency List"
   ]
  },
  {
   "cell_type": "markdown",
   "metadata": {},
   "source": [
    "For each vertex, a list of adjacent vertices. For each vertex, we store its neighbors"
   ]
  },
  {
   "cell_type": "markdown",
   "metadata": {},
   "source": [
    "![](images/04.png)"
   ]
  },
  {
   "cell_type": "markdown",
   "metadata": {},
   "source": [
    "#### Big O"
   ]
  },
  {
   "cell_type": "markdown",
   "metadata": {},
   "source": [
    "Different Operations are faster in different representations"
   ]
  },
  {
   "cell_type": "markdown",
   "metadata": {},
   "source": [
    "![](images/05.png)"
   ]
  },
  {
   "cell_type": "markdown",
   "metadata": {},
   "source": [
    "Graph algorithms runtimes depend on $ | V | $ and $ |E |$ "
   ]
  },
  {
   "cell_type": "markdown",
   "metadata": {},
   "source": [
    "the runtime depends largly on the density of the graph"
   ]
  },
  {
   "cell_type": "markdown",
   "metadata": {},
   "source": [
    "![](images/06.png)"
   ]
  },
  {
   "cell_type": "markdown",
   "metadata": {},
   "source": [
    "![](images/07.png)"
   ]
  },
  {
   "cell_type": "markdown",
   "metadata": {},
   "source": [
    "# Exploring Graphs"
   ]
  },
  {
   "cell_type": "markdown",
   "metadata": {},
   "source": [
    "## Path"
   ]
  },
  {
   "cell_type": "markdown",
   "metadata": {},
   "source": [
    "> A path in a graph $ G $ is a sequence of vertices $ v_0, v_1, ... v_n $ so that all $ i_1 (v_i, v_i+1) $ is an edge of $ G $"
   ]
  },
  {
   "cell_type": "markdown",
   "metadata": {},
   "source": [
    "## Reachability"
   ]
  },
  {
   "cell_type": "markdown",
   "metadata": {},
   "source": [
    "Input: Graph $ G $ and veertex $ s $\n",
    "\n",
    "output: The collection of vertices $ v $ of $ G $ so that there is a path from $ s $ to $ v $"
   ]
  },
  {
   "cell_type": "markdown",
   "metadata": {},
   "source": [
    "in the graph below, the vertices $ A, C, D, F, H, I $ are reachable from $ A $"
   ]
  },
  {
   "cell_type": "markdown",
   "metadata": {},
   "source": [
    "![](images/08.png)"
   ]
  },
  {
   "cell_type": "markdown",
   "metadata": {},
   "source": [
    "__Basic Idea__: We want to make sure that we have explored every edge leaving every vertex we have found"
   ]
  },
  {
   "cell_type": "markdown",
   "metadata": {},
   "source": [
    "![](images/09.png)"
   ]
  },
  {
   "cell_type": "markdown",
   "metadata": {},
   "source": [
    "What we need to do:\n",
    "- keep track of visited vertices\n",
    "- keep track of unprocessed vertices\n",
    "- which order we want to see the nodes"
   ]
  },
  {
   "cell_type": "markdown",
   "metadata": {},
   "source": [
    "## Depth First Ordering"
   ]
  },
  {
   "cell_type": "markdown",
   "metadata": {},
   "source": [
    "We will explore new edges in Depth First order. We will follow a long path forward only backtracking when we hit a dead end"
   ]
  },
  {
   "cell_type": "markdown",
   "metadata": {},
   "source": [
    "![](images/10.png)"
   ]
  },
  {
   "cell_type": "markdown",
   "metadata": {},
   "source": [
    "we need adjacency list representation!"
   ]
  },
  {
   "cell_type": "markdown",
   "metadata": {},
   "source": [
    "So in DFS, where we use recursion, we basically backtrack when we pop the stack. When we return from a recursive policy!"
   ]
  },
  {
   "cell_type": "markdown",
   "metadata": {},
   "source": [
    "__Therom__: Iff all vertice start unvisited, $ Explore(v) $ marks as visited exactly the vertices reachable from $ v $"
   ]
  },
  {
   "cell_type": "markdown",
   "metadata": {},
   "source": [
    "__Proof__:\n",
    "- Only explore things reachable from $ v $\n",
    "- $ w $ not marked as visited unless explored\n",
    "- if $ w $ explored, neighbors explored\n",
    "- $ u $ reachable from $ v $ by path\n",
    "- Assume $ w $ furthest along path explored\n",
    "![](images/11.png)\n",
    "- Must explore next item"
   ]
  },
  {
   "cell_type": "markdown",
   "metadata": {},
   "source": [
    "__Reach all Vertices__: Sometimes you want to find all vertices of $ G $, not just thoese reachable from $ v $. The algorithm we would use in this case would be the $ DFS $ algorithm\n",
    "\n"
   ]
  },
  {
   "cell_type": "markdown",
   "metadata": {},
   "source": [
    "![](images/12.png)"
   ]
  },
  {
   "cell_type": "markdown",
   "metadata": {},
   "source": [
    "### Runtime"
   ]
  },
  {
   "cell_type": "markdown",
   "metadata": {},
   "source": [
    "Number of calls to explore:\n",
    " - Each explored vertex is marked visited\n",
    " - No vertex is explored after visited once\n",
    " - Each vertex is explored exactly once"
   ]
  },
  {
   "cell_type": "markdown",
   "metadata": {},
   "source": [
    "Checking for neightbors:\n",
    "\n",
    "- Each vertex checks each neighbor\n",
    "- Total number of neighbors over all vertices is $ O(|E|) $"
   ]
  },
  {
   "cell_type": "markdown",
   "metadata": {},
   "source": [
    "Big O:\n",
    "- $ O(1) $ work per vertex\n",
    "- $ O (1) $ work per edge\n",
    "- Total $ O (|V| + |E|) $"
   ]
  },
  {
   "cell_type": "markdown",
   "metadata": {},
   "source": [
    "# Connectivity"
   ]
  },
  {
   "cell_type": "markdown",
   "metadata": {},
   "source": [
    "__Theorm__: \n",
    "> The vertices of a graph $ G $ can be partitioned into __Connected Components__ so that $ v $ is reachable from $ w $ if and only if there are in the same connected component"
   ]
  },
  {
   "cell_type": "markdown",
   "metadata": {},
   "source": [
    "Its like island, so bridges connect smaller islands together but some islands dont have bridges"
   ]
  },
  {
   "cell_type": "markdown",
   "metadata": {},
   "source": [
    "__Proof__:\n",
    "Need to show reachability is an __equivalence relation__. Namely:\n",
    "- $ v $ is reachable from $ v $\n",
    "- if $ v $ reachable from $ w $, $ w $ reachable from $ v $ \n",
    "- if $ v $ reachable from $ u $, and $ w $ reachable from $ v $, $ w $ reachable from $ u $"
   ]
  },
  {
   "cell_type": "markdown",
   "metadata": {},
   "source": [
    "![](images/13.png)"
   ]
  },
  {
   "cell_type": "markdown",
   "metadata": {},
   "source": [
    "## Problem"
   ]
  },
  {
   "cell_type": "markdown",
   "metadata": {},
   "source": [
    "__Connected Components__:\n",
    "- Input: Graph $ G $\n",
    "- Output: The connected components of $ G $ "
   ]
  },
  {
   "cell_type": "markdown",
   "metadata": {},
   "source": [
    "Idea: $ Explore(v) $ finds the connected component of $ v $. Just need to repeat to find other components. Modify DFS to do this. Modify goal to label connected components"
   ]
  },
  {
   "cell_type": "markdown",
   "metadata": {},
   "source": [
    "![](images/14.png)"
   ]
  },
  {
   "cell_type": "markdown",
   "metadata": {},
   "source": [
    "Modifications of DFS:"
   ]
  },
  {
   "cell_type": "markdown",
   "metadata": {},
   "source": [
    "![](images/15.png)"
   ]
  },
  {
   "cell_type": "markdown",
   "metadata": {},
   "source": [
    "![](images/16.png)"
   ]
  },
  {
   "cell_type": "markdown",
   "metadata": {},
   "source": [
    "__Correctness__:\n",
    "- Each new explore finds new connected component\n",
    "- Eventually find every vertex\n",
    "- Runtime still $ O (|V| + |E|) $"
   ]
  },
  {
   "cell_type": "markdown",
   "metadata": {},
   "source": [
    "## Pre-visit and Post-visit Orderings"
   ]
  },
  {
   "cell_type": "markdown",
   "metadata": {},
   "source": [
    "Sometimes we dont just want to label a node as visited and want to do extra work. If we had functions $ previsit(v) $ and $ postvisit(v) $, this is where we would add them"
   ]
  },
  {
   "cell_type": "markdown",
   "metadata": {},
   "source": [
    "![](images/17.png)"
   ]
  },
  {
   "cell_type": "markdown",
   "metadata": {},
   "source": [
    "__Clock__:\n",
    "- we might want to keep a clock with previsit/postvisit\n",
    "- clock ticks at each pre/post visit\n",
    "- records previsit and postvist times for each $ v $"
   ]
  },
  {
   "cell_type": "markdown",
   "metadata": {},
   "source": [
    "![](images/18.png)"
   ]
  },
  {
   "cell_type": "markdown",
   "metadata": {},
   "source": [
    "### Computing Pre- and Post- Numbers"
   ]
  },
  {
   "cell_type": "markdown",
   "metadata": {},
   "source": [
    "Initialize clock to 1"
   ]
  },
  {
   "cell_type": "markdown",
   "metadata": {},
   "source": [
    "![](images/19.png)"
   ]
  },
  {
   "cell_type": "markdown",
   "metadata": {},
   "source": [
    "__Result__: Previsit and Postvisit numbers tell us about the execution of DFS\n"
   ]
  },
  {
   "cell_type": "markdown",
   "metadata": {},
   "source": [
    "__Lemma__:\n",
    "> For any vertices $ u $, $ v $ the intervals $ [pre(u), post(u)]$ and $ [pre(v), post(v)] $ are either nested or disjoint "
   ]
  },
  {
   "cell_type": "markdown",
   "metadata": {},
   "source": [
    "![](images/20.png)"
   ]
  },
  {
   "cell_type": "markdown",
   "metadata": {},
   "source": [
    "__Proof__: Assume that $ u $ visited before $ v $. \n",
    "\n",
    "Two cases:\n",
    "1. Find $ v $ while exploring $ u $ ($ u $ an ancestor of $ v $)\n",
    "2. Find $ v $ after exploring $ u $ ($ u $is a cousin og $ v $)"
   ]
  },
  {
   "cell_type": "markdown",
   "metadata": {},
   "source": [
    "__Case 1__:\n",
    "![](images/21.png)"
   ]
  },
  {
   "cell_type": "markdown",
   "metadata": {},
   "source": [
    "__Case 2__:\n",
    "![](images/22.png)"
   ]
  }
 ],
 "metadata": {
  "kernelspec": {
   "display_name": "Python 3",
   "language": "python",
   "name": "python3"
  },
  "language_info": {
   "codemirror_mode": {
    "name": "ipython",
    "version": 3
   },
   "file_extension": ".py",
   "mimetype": "text/x-python",
   "name": "python",
   "nbconvert_exporter": "python",
   "pygments_lexer": "ipython3",
   "version": "3.8.3"
  }
 },
 "nbformat": 4,
 "nbformat_minor": 4
}
