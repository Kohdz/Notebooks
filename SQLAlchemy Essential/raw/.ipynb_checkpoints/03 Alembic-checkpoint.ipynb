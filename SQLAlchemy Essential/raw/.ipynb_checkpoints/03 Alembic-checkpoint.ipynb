{
 "cells": [
  {
   "cell_type": "markdown",
   "id": "narrow-sponsorship",
   "metadata": {},
   "source": [
    "## Overview"
   ]
  },
  {
   "cell_type": "markdown",
   "id": "pacific-burst",
   "metadata": {},
   "source": [
    "- `Alembic` is a tool for handling database changes that leverages SQLalchemy to perform migrations\n",
    "- SQLALchemy will only create missing tables when we use the metadata's `create_all` method, it doesn't update the database tables to match any changes we might make to the columns\n",
    "- it would also not delete tavles that were removed from the code\n",
    "- Alembic uses SQLAlchemy to perform the migrations, they can be used on a wide array of backend databases\n",
    "- Alembic programatically creates and perfomrs migrations to hadnle changes to the database"
   ]
  },
  {
   "cell_type": "markdown",
   "id": "looking-foster",
   "metadata": {},
   "source": [
    "## Getting Started with Alembic"
   ]
  },
  {
   "cell_type": "markdown",
   "id": "decimal-comment",
   "metadata": {},
   "source": [
    "### Creating the Migrations Enviorment"
   ]
  },
  {
   "cell_type": "markdown",
   "id": "critical-bobby",
   "metadata": {},
   "source": [
    "- run `alembic init alembic` command to create the migrations enviroment\n",
    "- to create migration enviorment in the `migrations/` directory, you have to use `alembic init migeations`\n",
    "- this creates the migration enviorment and also creates an `alembic.ini` file with the configuration options"
   ]
  },
  {
   "cell_type": "markdown",
   "id": "breathing-press",
   "metadata": {},
   "source": [
    "![](images/05.png)"
   ]
  },
  {
   "cell_type": "markdown",
   "id": "strange-darkness",
   "metadata": {},
   "source": [
    "- the `versions/` directory will hold our migration scripts\n",
    "- the `env.py` file is used by Alembic to define an dinstantiate a `SQLAlchemy` engine, connect to that engine and start a transaction, and calls the migration engine properly when you run the  alembic commands\n",
    "- the `script.py.mako` template is used when creating a migration, and it defines the basic structure of a migration"
   ]
  },
  {
   "cell_type": "markdown",
   "id": "little-helen",
   "metadata": {},
   "source": [
    "### Configuring the Migration Environment"
   ]
  },
  {
   "cell_type": "markdown",
   "id": "pending-evening",
   "metadata": {},
   "source": [
    "- the setting in the `alembic.ini` and `env.py` files need to be tweaked so that alembic can work with out database and application "
   ]
  },
  {
   "cell_type": "markdown",
   "id": "willing-alarm",
   "metadata": {},
   "source": [
    "- in the `alembic.ini` file we need to change the `sqlalchemy.url` to match our database conenction string\n",
    "- in this case, we want to set it to connect to a `SQLite` file named `alembictest.db` in the current directory"
   ]
  },
  {
   "cell_type": "markdown",
   "id": "lyric-scheduling",
   "metadata": {},
   "source": [
    "- we need to change the `env.py` file to point to our `metadata`, which is an attribute of the `Base` instance we created in `db.py` file\n",
    "- it uses the metadata to compare what it finds in the database to the models defined in SQLAlchemy\n",
    "- we start by adding the current directory to the path that Python uses for locating modules so that it can see our app module\n",
    "- finally we change the target metadata line in `env.py` to match our metadata object"
   ]
  },
  {
   "cell_type": "code",
   "execution_count": 3,
   "id": "angry-sugar",
   "metadata": {},
   "outputs": [],
   "source": [
    "import os\n",
    "import sys\n",
    "\n",
    "class Base:\n",
    "    metadata = None\n",
    "\n",
    "sys.path.append(os.getcwd())\n",
    "target_metadata = Base.metadata\n",
    "\n"
   ]
  },
  {
   "cell_type": "markdown",
   "id": "infectious-revelation",
   "metadata": {},
   "source": [
    "## Building migrations"
   ]
  },
  {
   "cell_type": "markdown",
   "id": "introductory-magazine",
   "metadata": {},
   "source": [
    "- we will be exploring how to use autogenerate for adding tables and how to handcraft migrations to accomplush things that autogenerate cannot do"
   ]
  },
  {
   "cell_type": "markdown",
   "id": "challenging-mattress",
   "metadata": {},
   "source": [
    "## Generating a Base Empty Migration"
   ]
  },
  {
   "cell_type": "markdown",
   "id": "chemical-guidance",
   "metadata": {},
   "source": [
    "- use the command `alembic revision -m \"Empty Init\"`\n",
    "- this will create a migration file in the `versions/` subfolder"
   ]
  },
  {
   "cell_type": "markdown",
   "id": "copyrighted-atlantic",
   "metadata": {},
   "source": [
    "1. the migration message we specified\n",
    "2. the alembic revision ID\n",
    "3. the previous revision used to determine how to downgrade\n",
    "4. the branch associated with this migration\n",
    "5. any migrations that this one depends on"
   ]
  },
  {
   "cell_type": "code",
   "execution_count": 7,
   "id": "adopted-nerve",
   "metadata": {},
   "outputs": [],
   "source": [
    "'''\n",
    "Empty Init # 1\n",
    "\n",
    "Revision ID: 8a8a9d067\n",
    "Revises:\n",
    "Date: 2015-09-13 20:10:05.486995\n",
    "'''\n",
    "\n",
    "revision = '8a8a9d067' # 2\n",
    "down_revision = None # 3\n",
    "branch_labels = None # 4\n",
    "depends_on = None # 5\n",
    "\n",
    "#from alembic import op\n",
    "import sqlalchemy as sa\n",
    "\n",
    "def upgrade():\n",
    "    pass\n",
    "\n",
    "def downgrade():\n",
    "    pass\n"
   ]
  },
  {
   "cell_type": "markdown",
   "id": "nuclear-dairy",
   "metadata": {},
   "source": [
    "- to run all the migrations form whatever the current database state is to the highest `Alembic` migration, we execute\n",
    "    - `alembic upgrade head`"
   ]
  },
  {
   "cell_type": "markdown",
   "id": "floating-thanks",
   "metadata": {},
   "source": [
    "### Autogenerating a Migration"
   ]
  },
  {
   "cell_type": "markdown",
   "id": "interstate-arena",
   "metadata": {},
   "source": [
    "- `alembic revision --autogenerate -m \"Added User model\"`\n",
    "- then once the migration is generated, simply update\n",
    "    - `alembic upgrade head`"
   ]
  },
  {
   "cell_type": "markdown",
   "id": "contemporary-acrylic",
   "metadata": {},
   "source": [
    "![](images/06.png)"
   ]
  },
  {
   "cell_type": "markdown",
   "id": "vertical-marker",
   "metadata": {},
   "source": [
    "![](images/07.png)"
   ]
  },
  {
   "cell_type": "markdown",
   "id": "trying-alpha",
   "metadata": {},
   "source": [
    "- changes to column type or changes in a server default will not be detected by `autogeneration's` capabilities and limitations"
   ]
  },
  {
   "cell_type": "markdown",
   "id": "popular-oriental",
   "metadata": {},
   "source": [
    "### Building a Migration Manually"
   ]
  },
  {
   "cell_type": "markdown",
   "id": "senior-productivity",
   "metadata": {},
   "source": [
    "- Alembic cant detech a table name change, so we need to do this ourselves\n",
    "1. create a nre migration that we can edit\n",
    "    - `alembic revision -m \"Renaming table name\"`\n",
    "2. with our migration created, we need to edit the migration file and add the rename operation to the upgrade and downgrade methods\n",
    "    \n",
    "        def upgrade():\n",
    "            op.rename_table('cookies', 'new_cookies')\n",
    "           \n",
    "        def downgrade():\n",
    "            op.rename_table('new_cookies', 'cookies')\n",
    "\n",
    "3. after that we are ready to run our migrations with the alembic upgrade command\n",
    "    - `alembic upgrade head`\n",
    "4. to confirm what happened, go into database and see change"
   ]
  },
  {
   "cell_type": "markdown",
   "id": "collectible-stake",
   "metadata": {},
   "source": [
    "![](images/08.png)"
   ]
  },
  {
   "cell_type": "markdown",
   "id": "occupational-caribbean",
   "metadata": {},
   "source": [
    "![](images/09.png)"
   ]
  },
  {
   "cell_type": "markdown",
   "id": "worthy-technique",
   "metadata": {},
   "source": [
    "## Controlling Alembic"
   ]
  },
  {
   "cell_type": "markdown",
   "id": "brief-peace",
   "metadata": {},
   "source": [
    "- we are going to learn the current migration level of the database, how to downgrade from a migration and how to mark the database at a certain migration level"
   ]
  },
  {
   "cell_type": "markdown",
   "id": "precise-excellence",
   "metadata": {},
   "source": [
    "### Determining a Database's Migration Level"
   ]
  },
  {
   "cell_type": "markdown",
   "id": "affected-exercise",
   "metadata": {},
   "source": [
    "- to check what the last migration applied to the database is use the following command:\n",
    "     - `alembic current`\n",
    "- it returns the revision ID of the current migration and tells you whether it is the latest migration \n",
    "- latest migration is also know as the head"
   ]
  },
  {
   "cell_type": "markdown",
   "id": "executive-commander",
   "metadata": {},
   "source": [
    "- we can also confrim what the last migration changed by using\n",
    "    - `alembic history`"
   ]
  },
  {
   "cell_type": "markdown",
   "id": "efficient-orbit",
   "metadata": {},
   "source": [
    "### Downgrading Migrations"
   ]
  },
  {
   "cell_type": "markdown",
   "id": "revolutionary-cincinnati",
   "metadata": {},
   "source": [
    "- to downgrade, we need to choose the revision `ID` for the migration we want to go back to\n",
    "- `alembic downgrade <REVISION-ID>`"
   ]
  },
  {
   "cell_type": "markdown",
   "id": "pressed-thumbnail",
   "metadata": {},
   "source": [
    "- when we downgrade, it leaves us with an issue\n",
    "- namely, when we use `alembic upgrade head` it will go the current revision ID and casuse issues"
   ]
  },
  {
   "cell_type": "markdown",
   "id": "graphic-morning",
   "metadata": {},
   "source": [
    "### Marking the Database Migration Level"
   ]
  },
  {
   "cell_type": "markdown",
   "id": "reduced-philippines",
   "metadata": {},
   "source": [
    "- when we want to skip a migration or restore a database, we want to explicitly mark the database as being a specific migration level to correct the issue\n",
    "    - below we mark the database migration level\n",
    "    - `alembic stamp <REVSION-ID>`\n",
    "- stamping the database migration level does not actually run the migrations,\n",
    "- it merely updates the Alembic table to reflect the migration level we supplied in the command\n",
    "- this effectively skips applying the `<REVISION-ID>` we mentioned above"
   ]
  },
  {
   "cell_type": "markdown",
   "id": "normal-offense",
   "metadata": {},
   "source": [
    "### Generating SQL"
   ]
  },
  {
   "cell_type": "markdown",
   "id": "convenient-standard",
   "metadata": {},
   "source": [
    "- if you want to change your production database's schema with `SQL`, Alembic has that support\n",
    "- this is important when we have massively distributed enviorments and need to run many different database servers\n",
    "- the process is the same as performing an `online` Alembic upgrade like we did earlier\n",
    "- we can specifiy both the starting and ending versions of the `SQL` script for upgrading from an empty database"
   ]
  },
  {
   "cell_type": "markdown",
   "id": "brave-professor",
   "metadata": {},
   "source": [
    "- `alembic upgrade <START-REVISION-ID:END-REVISION-ID>`\n",
    "- `alembic upgrade <START-REVISION-ID:END-REVISION-ID> --sql > migration.sql`\n",
    "- `cat migration.sql`"
   ]
  }
 ],
 "metadata": {
  "kernelspec": {
   "display_name": "Python 3",
   "language": "python",
   "name": "python3"
  },
  "language_info": {
   "codemirror_mode": {
    "name": "ipython",
    "version": 3
   },
   "file_extension": ".py",
   "mimetype": "text/x-python",
   "name": "python",
   "nbconvert_exporter": "python",
   "pygments_lexer": "ipython3",
   "version": "3.9.2"
  }
 },
 "nbformat": 4,
 "nbformat_minor": 5
}
