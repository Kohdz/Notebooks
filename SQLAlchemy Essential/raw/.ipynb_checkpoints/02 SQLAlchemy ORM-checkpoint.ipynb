{
 "cells": [
  {
   "cell_type": "markdown",
   "id": "equipped-posting",
   "metadata": {},
   "source": [
    "## Overview"
   ]
  },
  {
   "cell_type": "markdown",
   "id": "employed-lunch",
   "metadata": {},
   "source": [
    "- `SQLAlchemy ORM` is what most people think `SQLAlchemy` is\n",
    "- it provides effecient ways to bind database schema and operations to the same data objects used in your application\n",
    "- `ORM` is super simple to use and most people do not think about the effiency of their queries"
   ]
  },
  {
   "cell_type": "markdown",
   "id": "automated-barrel",
   "metadata": {},
   "source": [
    "### Defining Schema with SQLAlchemy ORM"
   ]
  },
  {
   "cell_type": "markdown",
   "id": "assigned-diameter",
   "metadata": {},
   "source": [
    "- SQLAlchemy ORM is focused around user-defined data objects instead of the schema of the underlying database\n",
    "- in `SQLAlchemy Core` we create a metadata container and then declared a `Table` object associated with the metadata\n",
    "- in SQLAlchemy ORM we are going to define a class that inherits from a special base class called `declarative_base`\n",
    "- the `delaractive_base` combines a metadata container and a mapper that maps our class to a database table\n",
    "- it also maps instances of the class to records in the table if they have been saved"
   ]
  },
  {
   "cell_type": "markdown",
   "id": "figured-advancement",
   "metadata": {},
   "source": [
    "### Defining Tables via ORM Classes"
   ]
  },
  {
   "cell_type": "markdown",
   "id": "congressional-factory",
   "metadata": {},
   "source": [
    "A proper class for use with the ORM must do four things\n",
    "- Inherit from the `declarative_base` object\n",
    "- contain `__tablename__` which is the table name to be used in the database\n",
    "- contain one or more attributes that are Column objects\n",
    "- ensure one or more attributes make up a primary key"
   ]
  },
  {
   "cell_type": "markdown",
   "id": "stuck-security",
   "metadata": {},
   "source": [
    "- defining columns in ORM class is very similar to defining columns in a `Table object` \n",
    "- the difference is when defining columns in an `ORM` class, we dont have to supply the column name as the first argument to the `Column` constructor\n",
    "- instead the column name will be set to the name of the class attribute to which it is assigned\n",
    "- all types from SQLALchemy `Core` also apply here"
   ]
  },
  {
   "cell_type": "markdown",
   "id": "quarterly-salmon",
   "metadata": {},
   "source": [
    "- we a primary key because the `ORM` has to have a way to uniquely identify and associate an instance of the class with a specific record in the underlying database table"
   ]
  },
  {
   "cell_type": "markdown",
   "id": "technological-spirit",
   "metadata": {},
   "source": [
    "1. creates an instance of the `declarative_base`\n",
    "2. Inherit from the `Base`\n",
    "3. defien the table name\n",
    "4. define an attribute ansd set it to be a primary key"
   ]
  },
  {
   "cell_type": "code",
   "execution_count": 1,
   "id": "compressed-round",
   "metadata": {},
   "outputs": [
    {
     "data": {
      "text/plain": [
       "Table('cookies', MetaData(), Column('cookie_id', Integer(), table=<cookies>, primary_key=True, nullable=False), Column('cookie_name', String(length=50), table=<cookies>), Column('cookie_recipe_url', String(length=255), table=<cookies>), Column('cookie_sku', String(length=55), table=<cookies>), Column('quantity', Integer(), table=<cookies>), Column('unit_cost', Numeric(precision=12, scale=2), table=<cookies>), schema=None)"
      ]
     },
     "execution_count": 1,
     "metadata": {},
     "output_type": "execute_result"
    }
   ],
   "source": [
    "from sqlalchemy import Table, Column, Integer, Numeric, String\n",
    "from sqlalchemy.ext.declarative import declarative_base\n",
    "\n",
    "Base = declarative_base() # 1\n",
    "\n",
    "class Cookie(Base): # 2\n",
    "    __tablename__ = 'cookies' # 3\n",
    "\n",
    "    cookie_id = Column(Integer(), primary_key=True) # 4\n",
    "    cookie_name = Column(String(50), index=True)\n",
    "    cookie_recipe_url = Column(String(255))\n",
    "    cookie_sku = Column(String(55))\n",
    "    quantity = Column(Integer())\n",
    "    unit_cost = Column(Numeric(12, 2))\n",
    "    \n",
    "    \n",
    "Cookie.__table__"
   ]
  },
  {
   "cell_type": "markdown",
   "id": "clean-journal",
   "metadata": {},
   "source": [
    "1. here we are making this column required `(nullable=False)` and requiring the values to be unique\n",
    "2. the default sets this column to the current time if a date isnt specified\n",
    "3. using `onupdate` here will reset this column to the current time every time any part of the record is updated"
   ]
  },
  {
   "cell_type": "code",
   "execution_count": 2,
   "id": "strange-tribe",
   "metadata": {},
   "outputs": [],
   "source": [
    "from datetime import datetime\n",
    "from sqlalchemy import DateTime\n",
    "\n",
    "class User(Base):\n",
    "    __tablename__ = 'user'\n",
    "    \n",
    "    user_id = Column(Integer(), primary_key=True)\n",
    "    username = Column(String(15), nullable=False, unique=True) # 1\n",
    "    email_address = Column(String(255), nullable=False)\n",
    "    phone = Column(String(20), nullable=False)\n",
    "    password = Column(String(25), nullable=False)\n",
    "    created_on = Column(DateTime(), default=datetime.now) #2 \n",
    "    updated_on = Column(DateTime(), default=datetime.now, onupdate=datetime.now) #3\n"
   ]
  },
  {
   "cell_type": "markdown",
   "id": "satellite-tunnel",
   "metadata": {},
   "source": [
    "### Key, Constraints and Indexes"
   ]
  },
  {
   "cell_type": "markdown",
   "id": "ancient-marsh",
   "metadata": {},
   "source": [
    "- using the `SQLAlchemy ORM` we are building classes and not using the table constructor\n",
    "- in the ORM, these can be added by using the `__table_args__` attribute on our class\n",
    "- `__table_args__` expects to get a tuple of additional table arguments "
   ]
  },
  {
   "cell_type": "code",
   "execution_count": 3,
   "id": "careful-broadcast",
   "metadata": {},
   "outputs": [
    {
     "ename": "ImportError",
     "evalue": "cannot import name 'somedatatable' from 'sqlalchemy' (c:\\users\\vicktree\\appdata\\local\\programs\\python\\python39\\lib\\site-packages\\sqlalchemy\\__init__.py)",
     "output_type": "error",
     "traceback": [
      "\u001b[1;31m---------------------------------------------------------------------------\u001b[0m",
      "\u001b[1;31mImportError\u001b[0m                               Traceback (most recent call last)",
      "\u001b[1;32m<ipython-input-3-a35c0d5c4fef>\u001b[0m in \u001b[0;36m<module>\u001b[1;34m\u001b[0m\n\u001b[1;32m----> 1\u001b[1;33m \u001b[1;32mfrom\u001b[0m \u001b[0msqlalchemy\u001b[0m \u001b[1;32mimport\u001b[0m \u001b[0msomedatatable\u001b[0m\u001b[1;33m,\u001b[0m \u001b[0mPrimaryKeyConstraint\u001b[0m\u001b[1;33m,\u001b[0m \u001b[0mUniqueConstraint\u001b[0m\u001b[1;33m,\u001b[0m \u001b[0mCheckConstraint\u001b[0m\u001b[1;33m\u001b[0m\u001b[1;33m\u001b[0m\u001b[0m\n\u001b[0m\u001b[0;32m      2\u001b[0m \u001b[1;33m\u001b[0m\u001b[0m\n\u001b[0;32m      3\u001b[0m \u001b[1;32mdef\u001b[0m \u001b[0msome_data_class\u001b[0m\u001b[1;33m(\u001b[0m\u001b[1;33m)\u001b[0m\u001b[1;33m:\u001b[0m\u001b[1;33m\u001b[0m\u001b[1;33m\u001b[0m\u001b[0m\n\u001b[0;32m      4\u001b[0m     \u001b[1;32mclass\u001b[0m \u001b[0mSomeDataClass\u001b[0m\u001b[1;33m(\u001b[0m\u001b[0mBase\u001b[0m\u001b[1;33m)\u001b[0m\u001b[1;33m:\u001b[0m\u001b[1;33m\u001b[0m\u001b[1;33m\u001b[0m\u001b[0m\n\u001b[0;32m      5\u001b[0m         \u001b[0m__tablename__\u001b[0m \u001b[1;33m=\u001b[0m \u001b[1;34m'somedatatable'\u001b[0m\u001b[1;33m\u001b[0m\u001b[1;33m\u001b[0m\u001b[0m\n",
      "\u001b[1;31mImportError\u001b[0m: cannot import name 'somedatatable' from 'sqlalchemy' (c:\\users\\vicktree\\appdata\\local\\programs\\python\\python39\\lib\\site-packages\\sqlalchemy\\__init__.py)"
     ]
    }
   ],
   "source": [
    "from sqlalchemy import somedatatable, PrimaryKeyConstraint, UniqueConstraint, CheckConstraint\n",
    "\n",
    "def some_data_class():\n",
    "    class SomeDataClass(Base):\n",
    "        __tablename__ = 'somedatatable'\n",
    "        __table_args__ = (ForeignKeyConstraint(['id'], ['other_table.id']),\n",
    "                            CheckConstraint(unit_cost >= 0.00,\n",
    "                                name='unit_cost_positive'))\n"
   ]
  },
  {
   "cell_type": "markdown",
   "id": "running-nutrition",
   "metadata": {},
   "source": [
    "### Relationships"
   ]
  },
  {
   "cell_type": "markdown",
   "id": "illegal-instrument",
   "metadata": {},
   "source": [
    "- the `ORM` uses a similar `ForeignKey` column to constrain and link the objects\n",
    "- howerver it also uses a `relationship` directive to provide a property that can be used to access the related objects\n",
    "- the additional propertied that can be accessed on objects has draw backs due to the overhead, but the utility outweight the drawbacks "
   ]
  },
  {
   "cell_type": "markdown",
   "id": "assisted-stadium",
   "metadata": {},
   "source": [
    "1. Notice how we import the relationship and backref methods from `sqlalchemy.orm`\n",
    "2. we are defining a `ForeignKey` just as we did with SQLAlchemy Code\n",
    "3. this establishes a one-to-many relationsip"
   ]
  },
  {
   "cell_type": "code",
   "execution_count": null,
   "id": "fewer-audit",
   "metadata": {},
   "outputs": [],
   "source": [
    "from sqlalchemy import ForeignKey, Boolean\n",
    "from sqlalchemy.orm import relationship, backref # 3\n",
    "\n",
    "class Order(Base):\n",
    "    __tablename__ = 'orders'\n",
    "    \n",
    "    order_id = Column(Integer(), primary_key=True)\n",
    "    user_id = Column(Integer(), ForeignKey('users.user_id')) # 2\n",
    "    shipped = Column(Boolean(), default=False)\n",
    "    \n",
    "    order_by = None\n",
    "    \n",
    "    ''' \n",
    "      what ever you class you give to relationship(), that class will get a \n",
    "      column applied to it \n",
    "    '''\n",
    "    use = relationship(\"User\", backref=backref('orders', order_by=order_by)) # 3\n",
    "    "
   ]
  },
  {
   "cell_type": "markdown",
   "id": "signed-handbook",
   "metadata": {},
   "source": [
    "- the user relationship defined in the `Order` class establishes a one-to-many relationship with the `User` class\n",
    "- we can get the `User` related to this `Order` by accessing the user property\n",
    "- this relationship also establishes an `orders` property on the `User` class via the `backref` keyword argument\n",
    "- the `relationship` directive needs a target class for the relationship and can optionally include a back reference to be added to target class\n",
    "- SQLAlchemy knows to use the `ForeignKey` we defined that matches the class we defined in the relationship\n"
   ]
  },
  {
   "cell_type": "markdown",
   "id": "settled-guide",
   "metadata": {},
   "source": [
    "- `ForeignKey(users.user_id)` has the `users` table's `user_id` column, maps to the `User` class via the `__tablename__` attribute of `users` and forms the relationship\n",
    "- it is also possible to establish a one-to-one relationship with the `Cookie` class\n",
    "- the `uselist=False` keyword argument defines it as a one-to-one relationship\n",
    "- we also use a simpler back refrence as we do not care to control the order"
   ]
  },
  {
   "cell_type": "code",
   "execution_count": null,
   "id": "recovered-inspection",
   "metadata": {},
   "outputs": [],
   "source": [
    "class LineItem(Base):\n",
    "    __tablename__ = 'line_items'\n",
    "    \n",
    "    line_item_id = Column(Integer(), primary_key=True)\n",
    "    order_id = Column(Integer(), ForeignKey('orders.order_id'))\n",
    "    cookie_id = Column(Integer(), ForeignKey('cookies.cookie_id'))\n",
    "    quantity = Column(Integer())\n",
    "    extended_cost = Column(Numeric(12, 2))\n",
    "    \n",
    "    # order_by\n",
    "    order = relationship(\"Order\", backref=backref('line_items', \n",
    "                                                 order_by=line_item_id))\n",
    "    \n",
    "    # this establishes a one-to-one relationsip\n",
    "    cookie = relationship(\"Cookie\", uselist=False)"
   ]
  },
  {
   "cell_type": "markdown",
   "id": "greenhouse-spencer",
   "metadata": {},
   "source": [
    "### Persisting the Schema"
   ]
  },
  {
   "cell_type": "markdown",
   "id": "sufficient-reserve",
   "metadata": {},
   "source": [
    "- to create our database tables, we are going to use the `create_all` method on the metadata within our `Base` instance"
   ]
  },
  {
   "cell_type": "code",
   "execution_count": null,
   "id": "retained-disposition",
   "metadata": {},
   "outputs": [],
   "source": [
    "from sqlalchemy import create_engine\n",
    "engine = create_engine('sqlite:///:memory')\n",
    "\n",
    "Base.metadata.create_all(engine)"
   ]
  },
  {
   "cell_type": "markdown",
   "id": "arabic-wesley",
   "metadata": {},
   "source": [
    "## Working with Data via SQLAlchemy ORM"
   ]
  },
  {
   "cell_type": "markdown",
   "id": "funky-campbell",
   "metadata": {},
   "source": [
    "## Session"
   ]
  },
  {
   "cell_type": "markdown",
   "id": "entire-raising",
   "metadata": {},
   "source": [
    "- the session is the way the `SQLAlchemy ORM` interacts with the database\n",
    "- it wraps the database connection via an engine, provides an identity map for objects that you load via the session or associate with the session\n",
    "- the identity map is a cache-like data structure that contains a unique list of objects determined by the objects table and primary key\n",
    "- a session also wraps a `transaction` and that transcation will be open untill the session is commited or rolled back"
   ]
  },
  {
   "cell_type": "markdown",
   "id": "optimum-thinking",
   "metadata": {},
   "source": [
    "- to create a new session, SQLAlchemy provides the `sessionmaker` class to ensure that sessions can be created with the same parameters through an application\n",
    "- it does this by creating a `Session` class that has been configured according to the arguments passed to the `sessionmaker` factory\n",
    "- the `sessionmaker` factory should be used just once in your application global scope and treated like a configuration setting"
   ]
  },
  {
   "cell_type": "markdown",
   "id": "following-tuition",
   "metadata": {},
   "source": [
    "1. Imported the `sessionmaker`\n",
    "2. Defines a Session class with the bind configuration supplied by `sessionmaker`\n",
    "3. Create a `session` for our use from our generated `Session` class"
   ]
  },
  {
   "cell_type": "code",
   "execution_count": null,
   "id": "identical-defendant",
   "metadata": {},
   "outputs": [],
   "source": [
    "from sqlalchemy import create_engine\n",
    "from sqlalchemy.orm import sessionmaker # 1\n",
    "\n",
    "engine = create_engine('sqlite:///:memory:') \n",
    "\n",
    "Session = sessionmaker(bind=engine) # 2\n",
    "\n",
    "session = Session() # 3"
   ]
  },
  {
   "cell_type": "markdown",
   "id": "quantitative-stock",
   "metadata": {},
   "source": [
    " - `session` has everything it needs to connect to the database, it wont connect untill we give it some instructions that require it to do so"
   ]
  },
  {
   "cell_type": "code",
   "execution_count": null,
   "id": "liquid-yeast",
   "metadata": {},
   "outputs": [],
   "source": [
    "from datetime import datetime\n",
    "from sqlalchemy import (Table, Column, Integer, Numeric, String, DateTime,\n",
    " ForeignKey)\n",
    "from sqlalchemy.ext.declarative import declarative_base\n",
    "from sqlalchemy.orm import relationship, backref\n",
    "\n",
    "Base = declarative_base()\n",
    "\n",
    "class Cookie(Base):\n",
    "    __tablename__ = 'cookies'\n",
    "    cookie_id = Column(Integer(), primary_key=True)\n",
    "    cookie_name = Column(String(50), index=True)\n",
    "    cookie_recipe_url = Column(String(255))\n",
    "    cookie_sku = Column(String(55))\n",
    "    quantity = Column(Integer())\n",
    "    unit_cost = Column(Numeric(12, 2))\n",
    "    \n",
    "    def __repr__(self):\n",
    "        return \"Cookie(cookie_name='{self.cookie_name}', \" \\\n",
    "                    \"cookie_recipe_url='{self.cookie_recipe_url}', \" \\\n",
    "                    \"cookie_sku='{self.cookie_sku}', \" \\\n",
    "                    \"quantity={self.quantity}, \" \\\n",
    "                    \"unit_cost={self.unit_cost})\".format(self=self)\n",
    "    \n",
    "    \n",
    "class User(Base):\n",
    "    __tablename__ = 'users'\n",
    "    user_id = Column(Integer(), primary_key=True)    \n",
    "\n",
    "    username = Column(String(15), nullable=False, unique=True)\n",
    "    email_address = Column(String(255), nullable=False)\n",
    "    phone = Column(String(20), nullable=False)\n",
    "    password = Column(String(25), nullable=False)\n",
    "    created_on = Column(DateTime(), default=datetime.now)\n",
    "    updated_on = Column(DateTime(), default=datetime.now,\n",
    "    onupdate=datetime.now) \n",
    "    \n",
    "def __repr__(self):\n",
    "    return \"User(username='{self.username}', \" \\\n",
    "        \"email_address='{self.email_address}', \" \\\n",
    "        \"phone='{self.phone}', \" \\\n",
    "        \"password='{self.password}')\".format(self=self)\n",
    "\n",
    "\n",
    "class Order(Base):\n",
    "    __tablename__ = 'orders'\n",
    "    order_id = Column(Integer(), primary_key=True)\n",
    "    user_id = Column(Integer(), ForeignKey('users.user_id'))\n",
    "    \n",
    "    user = relationship(\"User\", backref=backref('orders', order_by=order_id))\n",
    "    \n",
    "    def __repr__(self):\n",
    "        return \"Order(user_id={self.user_id}, \" \\\n",
    "            \"shipped={self.shipped})\".format(self=self)\n",
    "\n",
    "class LineItems(Base):\n",
    "    __tablename__ = 'line_items'\n",
    "    line_item_id = Column(Integer(), primary_key=True)\n",
    "    order_id = Column(Integer(), ForeignKey('orders.order_id'))\n",
    "    cookie_id = Column(Integer(), ForeignKey('cookies.cookie_id'))\n",
    "    quantity = Column(Integer())\n",
    "    extended_cost = Column(Numeric(12, 2))\n",
    "    order = relationship(\"Order\", backref=backref('line_items',\n",
    "    order_by=line_item_id))\n",
    "    cookie = relationship(\"Cookie\", uselist=False, order_by=id)\n",
    "    \n",
    "    def __repr__(self):\n",
    "            return \"LineItems(order_id={self.order_id}, \" \\\n",
    "                        \"cookie_id={self.cookie_id}, \" \\\n",
    "                        \"quantity={self.quantity}, \" \\\n",
    "                        \"extended_cost={self.extended_cost})\".format(\n",
    "                    self=self)\n",
    "\n",
    "\n",
    "# creeates the table in the database defined by the engine\n",
    "Base.metadata.create_all(engine)"
   ]
  },
  {
   "cell_type": "markdown",
   "id": "attempted-alliance",
   "metadata": {},
   "source": [
    "### Inserting Data"
   ]
  },
  {
   "cell_type": "markdown",
   "id": "stuffed-hollow",
   "metadata": {},
   "source": [
    "- to create a new cookie record in our database, we initialize a new instance of the `Cookie` class that has the sdesired data in it\n",
    "- we then add that new instance of the `Cookie` object to the session and commit the session\n",
    "- this is even easier to do because inheriting from the `declarative_base` provides a default constructor that we use"
   ]
  },
  {
   "cell_type": "markdown",
   "id": "personal-acrylic",
   "metadata": {},
   "source": [
    "1. creating an instance of the `Cookie` class\n",
    "2. Adding the instance to the session\n",
    "3. Commiting the session"
   ]
  },
  {
   "cell_type": "code",
   "execution_count": null,
   "id": "dominican-channel",
   "metadata": {},
   "outputs": [],
   "source": [
    "def insert():\n",
    "    cc_cookie = Cookie(cookie_name='chocolate chip',\n",
    "                 cookie_recipe_url='http://some.aweso.me/cookie/recipe.html',\n",
    "                 cookie_sku='CC01',\n",
    "                 quantity=12,\n",
    "                 unit_cost=0.50)\n",
    "\n",
    "    session.add(cc_cookie) # 2\n",
    "    session.commit() # 3\n",
    "\n",
    "\n",
    "\n",
    "    #print(cc_cookie.cookie_id)"
   ]
  },
  {
   "cell_type": "markdown",
   "id": "found-heavy",
   "metadata": {},
   "source": [
    "when running insert, the following happens in the database:\n",
    "- we create the instance of the `Cookie` class and then add it to the session, nothing is sent to the database\n",
    "- when we call` commit()` on the session, then eveything is sent to the database\n"
   ]
  },
  {
   "cell_type": "markdown",
   "id": "grand-flush",
   "metadata": {},
   "source": [
    "- when `commit` is called, the following happens"
   ]
  },
  {
   "cell_type": "markdown",
   "id": "banner-appointment",
   "metadata": {},
   "source": [
    "\n",
    "    # start transcation\n",
    "    INFO:sqlalchemy.engine.base.Engine:BEGIN (implicit) \n",
    "\n",
    "    # insert the record into the database\n",
    "    INFO:sqlalchemy.engine.base.Engine:INSERT INTO cookies  (cookie_name, cookie_recipe_url, cookie_sku, quantity, unit_cost) VALUES (?, ?, ?, ?, ?)\n",
    "\n",
    "    # the values for the insert\n",
    "    INFO:sqlalchemy.engine.base.Engine:('chocolate chip', 'http://some.aweso.me/cookie/recipe.html', 'CC01', 12, 0.5)\n",
    "\n",
    "    # commit the transcation\n",
    "    INFO:sqlalchemy.engine.base.Engine:COMMIT"
   ]
  },
  {
   "cell_type": "markdown",
   "id": "dirty-scoop",
   "metadata": {},
   "source": [
    "- to get the details of whats happening in your datbase, all you have do to do is set `echo=True` in the `create_engine` statement"
   ]
  },
  {
   "cell_type": "markdown",
   "id": "imported-escape",
   "metadata": {},
   "source": [
    "1. adds the dark choclate chip cookie\n",
    "2. adds the molasses cookie\n",
    "3. flushes the session"
   ]
  },
  {
   "cell_type": "code",
   "execution_count": null,
   "id": "narrative-journey",
   "metadata": {},
   "outputs": [],
   "source": [
    "def insert_multiple():\n",
    "    dcc = Cookie(cookie_name='dark chocolate chip',\n",
    "        cookie_recipe_url='http://some.aweso.me/cookie/recipe_dark.html',\n",
    "        cookie_sku='CC02',\n",
    "        quantity=1,\n",
    "     unit_cost=0.75)\n",
    "\n",
    "    mol = Cookie(cookie_name='molasses',\n",
    "        cookie_recipe_url='http://some.aweso.me/cookie/recipe_molasses.html',\n",
    "        cookie_sku='MOL01',\n",
    "        quantity=1,\n",
    "        unit_cost=0.80)\n",
    "\n",
    "    session.add(dcc) # 1\n",
    "    session.add(mol) # 2\n",
    "    session.flush()  # 3\n",
    "\n",
    "    print(dcc.cookie_id)\n",
    "    print(mol.cookie_id)"
   ]
  },
  {
   "cell_type": "markdown",
   "id": "median-jaguar",
   "metadata": {},
   "source": [
    "- a `flush()` is like a commit, howerver, it doesnt perform a database commit and end the transaction\n",
    "- because of this, instances are still connected to the session and can be used to perform additional database tasks without triggering additional database queries\n",
    "- we also issue the `session.flush()` statement one time even though we added multiple records into the database\n",
    "- "
   ]
  },
  {
   "cell_type": "code",
   "execution_count": null,
   "id": "herbal-disclaimer",
   "metadata": {},
   "outputs": [],
   "source": [
    "def bulk_save():\n",
    "    c1 = Cookie(cookie_name='peanut butter',\n",
    "        cookie_recipe_url='http://some.aweso.me/cookie/peanut.html',\n",
    "        cookie_sku='PB01',\n",
    "        quantity=24,\n",
    "        unit_cost=0.25)\n",
    "    c2 = Cookie(cookie_name='oatmeal raisin',\n",
    "        cookie_recipe_url='http://some.okay.me/cookie/raisin.html',\n",
    "        cookie_sku='EWW01',\n",
    "        quantity=100,\n",
    "        unit_cost=1.00)\n",
    "\n",
    "    # notice we are not using session.add()\n",
    "    # adds the cookies to a list and saves them all\n",
    "    session.bulk_save_objects([c1,c2]) \n",
    "    session.commit()\n",
    "    print(c1.cookie_id)\n"
   ]
  },
  {
   "cell_type": "markdown",
   "id": "polish-wrist",
   "metadata": {},
   "source": [
    "the speed of using `bulk_save_object` comes at the expense of\n",
    "- relationship settings and actions are not respected or triggered\n",
    "- the objects are not conencted to the session\n",
    "- fetching primary keys is not done by default\n",
    "- no events will be triggered\n"
   ]
  },
  {
   "cell_type": "markdown",
   "id": "practical-cleaning",
   "metadata": {},
   "source": [
    "> use `bulk_save_objects` when you are ingesting data from an external data source such as a `CSV` or a large `JSON` document with nested arrays "
   ]
  },
  {
   "cell_type": "markdown",
   "id": "german-terrace",
   "metadata": {},
   "source": [
    "### Querying Data"
   ]
  },
  {
   "cell_type": "markdown",
   "id": "voluntary-short",
   "metadata": {},
   "source": [
    "- to build a query you start by using the `query()` method on the session instance\n",
    "- the return value is a of objects\n",
    "- these objects are connected to the session, which menas we can change them or delete them and persist that change to the database"
   ]
  },
  {
   "cell_type": "code",
   "execution_count": null,
   "id": "related-aurora",
   "metadata": {},
   "outputs": [],
   "source": [
    "cookies = session.query(Cookie).all()"
   ]
  },
  {
   "cell_type": "markdown",
   "id": "modern-customs",
   "metadata": {},
   "source": [
    "- if we wnat to iterater throug all of them, we dont append `all()`"
   ]
  },
  {
   "cell_type": "code",
   "execution_count": null,
   "id": "narrow-drunk",
   "metadata": {},
   "outputs": [],
   "source": [
    "for cookie in session.query(Cookie):\n",
    "    print(cookie)"
   ]
  },
  {
   "cell_type": "markdown",
   "id": "correct-association",
   "metadata": {},
   "source": [
    "- there are a few other methods to fetch results\n",
    "- `first()`\n",
    "    - returns the first object if there is one\n",
    "- `one()`\n",
    "    - queries all the rows and raises an exception if anything other than a single result is returned\n",
    "- `scalar()`\n",
    "    - returns the first element of the first result, `None` if there is no result, or an error if there is more than one result"
   ]
  },
  {
   "cell_type": "markdown",
   "id": "threaded-albany",
   "metadata": {},
   "source": [
    "__Tips for Good Production Code__:\n",
    "- use the iterable version of the query over the `all()` method. It is more memory efficient than handling a full list of objects and we tend to operate on the data one record at a time anyway\n",
    "- to get a single record, use the `first()` method (rather than `one()` or `scalar()` because it is clearer to developers. The only exception to this is when you must ensure that there is one and only one result from a query\n",
    "- use the `scalar()` method sparingly; it raises errors if a query ever returns more than one row with one column. In a query that selects entire records, it will return the entire record object which is confusing"
   ]
  },
  {
   "cell_type": "markdown",
   "id": "worthy-static",
   "metadata": {},
   "source": [
    "- sqlalchemy does not add a bunch of overhead to the queries or objects; however, accounting for the data you get back from a query is often the first place to look if a query is consuming too much memory"
   ]
  },
  {
   "cell_type": "markdown",
   "id": "exclusive-product",
   "metadata": {},
   "source": [
    "###  Controlling the Columns in the Query"
   ]
  },
  {
   "cell_type": "markdown",
   "id": "sealed-roads",
   "metadata": {},
   "source": [
    "__Ordering__:\n",
    "- use the `order_by()` statement\n",
    "- `sessions.query(Cookie).order_by(Cookie.quantity)`\n",
    "- use `desc()` to reverse order\n",
    "- you can use `desc` as a function or method but it is perfered you use it as a `function`"
   ]
  },
  {
   "cell_type": "markdown",
   "id": "indirect-friendly",
   "metadata": {},
   "source": [
    "__Limiting__:\n",
    "- we can use array slicing\n",
    "    - `session.query(Cookie).order_by(Cookie.quantity)[:2]`\n",
    "- slicing can be very ineffecient with large result set\n",
    "- we also have the `limit()` statement\n",
    "    - `...limit(2)`"
   ]
  },
  {
   "cell_type": "markdown",
   "id": "relative-leave",
   "metadata": {},
   "source": [
    "### Built-in SQL Functions and Labels"
   ]
  },
  {
   "cell_type": "markdown",
   "id": "gross-shift",
   "metadata": {},
   "source": [
    "- to use SQL function in the backend database we need to import `sqlalchemy.func` module generator that makes them avaliable\n",
    "- `inv_count = session.query(func.sum(Cookie.quantity)).scalar()`\n",
    "- `....(func.count(Cookie.cookie_name)..`"
   ]
  },
  {
   "cell_type": "markdown",
   "id": "aggressive-bumper",
   "metadata": {},
   "source": [
    "- using functions such as `count()` and `sum()` will end up returning tuples or results with column names like `count_1`\n",
    "- SQLAlchemy provides a way to lable these returns more explicitly with the use of the `label()` function\n",
    "- `...query(func.count(Cookie.cookie_name).label('inventory_count').first()`"
   ]
  },
  {
   "cell_type": "markdown",
   "id": "behind-article",
   "metadata": {},
   "source": [
    "### Filtering"
   ]
  },
  {
   "cell_type": "markdown",
   "id": "mobile-coalition",
   "metadata": {},
   "source": [
    "- filtering queries is done by appending `filter()` statement to our query\n",
    "- a typical filter() clause has a `column`, an `operator` and a `value` or `column`\n",
    "- you can chain multiple `ClauseElement` expressions in a filter statement with the use of `ANDs`\n",
    "- `...query(Cookies).filter(Cookie.cookie_name == 'choclate chip').first()`"
   ]
  },
  {
   "cell_type": "markdown",
   "id": "global-jimmy",
   "metadata": {},
   "source": [
    "- `filter_by()` methods works similarly to the `filter()` method except instrad of explicitly providing the class as part of the filter expression it uses attribute keyword expressions from the primary entity of the query or the last entity that was joined to the statement\n",
    "- `...filter_by(cookie_name='choclate chip').first()`"
   ]
  },
  {
   "cell_type": "markdown",
   "id": "current-baseline",
   "metadata": {},
   "source": [
    "- we can also use a where statement to find all the cookie names that contain the work \"choclate\"\n",
    "- `filter(Cookie.cookie_name.like(\"%chocolate%\"))`\n",
    "- there are negative versions like `notlike` and `notin_()`\n",
    "- if we do not use these `ClauseElements` we will have to use operators"
   ]
  },
  {
   "cell_type": "markdown",
   "id": "given-separate",
   "metadata": {},
   "source": [
    "![](images/02.png)"
   ]
  },
  {
   "cell_type": "markdown",
   "id": "wireless-conditions",
   "metadata": {},
   "source": [
    "### Operators"
   ]
  },
  {
   "cell_type": "markdown",
   "id": "antique-england",
   "metadata": {},
   "source": [
    "- we got all of the python operators\n",
    "-  the `==` operator gets an additional overload when compared to `None`. which converts it to an `IS NULL` statement\n",
    "- you got you classic string concatnation\n",
    "- you can also use `operators` to compute values from multiple columns, where you can multiply them, ett\n",
    "- `cast(Cookie.quantity * Cookie.unit_cost)\n",
    "    - `cast` is a function that allows us to convert types, simmilar to `.fomat`\n",
    "    - note without the use of `label`, the column would not be listed in the keys of the result object "
   ]
  },
  {
   "cell_type": "markdown",
   "id": "fresh-electric",
   "metadata": {},
   "source": [
    "### Boolean Operators"
   ]
  },
  {
   "cell_type": "markdown",
   "id": "amazing-election",
   "metadata": {},
   "source": [
    "- you want to be careful with using bit wise operators such as `&`, `|`, `~`\n",
    "- the bitwise operators take presendance over normal operators"
   ]
  },
  {
   "cell_type": "markdown",
   "id": "baking-curve",
   "metadata": {},
   "source": [
    "### Conjunctions"
   ]
  },
  {
   "cell_type": "markdown",
   "id": "meaning-omaha",
   "metadata": {},
   "source": [
    "- we can chain multiple `filter()` clauses together but its not readable\n",
    "- the conjuctions are `and_()`, `or_()` and `not_()` "
   ]
  },
  {
   "cell_type": "markdown",
   "id": "activated-congo",
   "metadata": {},
   "source": [
    "### Updating Data"
   ]
  },
  {
   "cell_type": "markdown",
   "id": "indie-uniform",
   "metadata": {},
   "source": [
    "- simmilar to the `insert` clause but you can specifiy a `where` clause to specify what you want to update\n",
    "- you can either get the object, update an attribute and then commit it or you can update it in place\n",
    "    - `query.update({Cookie.quantity: Cookie.quantity - 20})`\n",
    "- the `update()` method causes the record to be updated outside of the session and returns the number of rows updated"
   ]
  },
  {
   "cell_type": "markdown",
   "id": "conceptual-segment",
   "metadata": {},
   "source": [
    "### Deleting Data"
   ]
  },
  {
   "cell_type": "markdown",
   "id": "divine-there",
   "metadata": {},
   "source": [
    "- you can use the `delete()` function or the `delete()` method on the table\n",
    "- `delete` takes no value paramaters, only an `where` clause\n",
    "- `session.delete(dcc_cookie)`\n",
    "- we can also do an inplace delete: `query.delete()`"
   ]
  },
  {
   "cell_type": "markdown",
   "id": "conventional-triumph",
   "metadata": {},
   "source": [
    "### Joins"
   ]
  },
  {
   "cell_type": "code",
   "execution_count": null,
   "id": "copyrighted-rebound",
   "metadata": {},
   "outputs": [],
   "source": [
    "def joins():\n",
    "    \n",
    "    query = session.query(Order.order_id, User.username, Cookie.cookie_name)\n",
    "    \n",
    "    query = query.join(User).join(LineItem).join(Cookie)\n",
    "    \n",
    "    result = query.filter(User.username == 'cookiemon').all()\n",
    "    \n",
    "    "
   ]
  },
  {
   "cell_type": "markdown",
   "id": "increasing-amateur",
   "metadata": {},
   "source": [
    "- if we wanted to include stuff from outside of our data, we use the `outerjoin()` method"
   ]
  },
  {
   "cell_type": "markdown",
   "id": "utility-poultry",
   "metadata": {},
   "source": [
    "- we are joining stuff here but what if we have a self-referential table like a table of `managers` and their `reports`?\n",
    "- the ORM allows us to establish a relationship that points to the same table\n",
    "- we need to specify `remote_side`"
   ]
  },
  {
   "cell_type": "code",
   "execution_count": null,
   "id": "vietnamese-definition",
   "metadata": {},
   "outputs": [],
   "source": [
    "\n",
    "def self_referential_table():\n",
    "    class Employee(Base):\n",
    "        __tablename__ = 'employees'\n",
    "\n",
    "        id = Column(Integer(), primary_key=True)\n",
    "        manager_id = Column(Integer(), ForeignKey('employees.id'))\n",
    "        name = Column(String(255), nullable=False)\n",
    "\n",
    "        manager = relationship(\"Employee\", backref=backref('reports',\n",
    "                                                          remote_side=[id]))"
   ]
  },
  {
   "cell_type": "markdown",
   "id": "mighty-easter",
   "metadata": {},
   "source": [
    "### Grouping"
   ]
  },
  {
   "cell_type": "markdown",
   "id": "aggressive-colony",
   "metadata": {},
   "source": [
    "- when grouping, you need one or more columns to group on and one or more columns that it makes sense to aggregate with `count`, `sum`, `etc.`\n",
    "- `session.quert(User,username, func.count(Order.order_id))`\n",
    "- `query.outerjoin(Order).group_by(User.username)`"
   ]
  },
  {
   "cell_type": "markdown",
   "id": "electoral-reliance",
   "metadata": {},
   "source": [
    "### Chaning"
   ]
  },
  {
   "cell_type": "markdown",
   "id": "french-biodiversity",
   "metadata": {},
   "source": [
    "- chaining is powerful if you use it conditionally\n",
    "- for example, you want to use filter if `X` is true other wise you dont filter "
   ]
  },
  {
   "cell_type": "markdown",
   "id": "blank-leather",
   "metadata": {},
   "source": [
    "### Raw Queries"
   ]
  },
  {
   "cell_type": "markdown",
   "id": "saving-corpus",
   "metadata": {},
   "source": [
    "- sometime you want to use small text snippets to make the query easy to understand\n",
    "- that is where you would use `text()`\n",
    "- `session.quert(User).filter(text(\"username='test'\")`"
   ]
  },
  {
   "cell_type": "markdown",
   "id": "taken-champion",
   "metadata": {},
   "source": [
    "## Understanding the Session and Exceptions"
   ]
  },
  {
   "cell_type": "markdown",
   "id": "realistic-luxembourg",
   "metadata": {},
   "source": [
    "### Session States"
   ]
  },
  {
   "cell_type": "markdown",
   "id": "seven-diabetes",
   "metadata": {},
   "source": [
    "- there are four possible states for data object instances\n",
    "- __Transient__:\n",
    "    - the instance is not in session and is not in the database\n",
    "- __Pending__:\n",
    "    - the instance has been added to the session with `add()` but hasent been flushed or commited\n",
    "- __Persistent__:\n",
    "     - the object in session has a corresponding record in the database\n",
    "- __Detached__:\n",
    "    - the instance is no longer connected to the session, but has a record in the database"
   ]
  },
  {
   "cell_type": "markdown",
   "id": "spatial-subscriber",
   "metadata": {},
   "source": [
    "- to see the instance state, we can use a powerful `inspect()` method provided by SQLAlchemy\n",
    "        from sqlalchemy import inspect\n",
    "        inspect = inspect(cc_cookie)\n",
    "- we can loop through the sesion state to get it\n",
    "        for state in ['transient', 'pending', 'persistent', 'detched']:\n",
    "            print('{:>10}: {}.format(state, getattr(insp, state)))\n",
    "            \n",
    "            \n",
    "        transient: True\n",
    "        pending: False\n",
    "        persistent: False\n",
    "        detached: False\n",
    "\n",
    "- the state of the cookie is in `transient`, which is the state all newly created objects are in\n",
    "- if we add `cc_cookie` into the current session and rerun, we get `pending` to be true\n",
    "- after the cookie has been added, the state moves to `persistent`\n",
    "-  to get the cookie to the `detached` state, we call the `expunge()` method on the session\n",
    "    - you do this if you are moving data from one session to another\n",
    "    - an example of this is when you are moving data from your primary database to a data warehouse\n",
    "- in producation mode, you want to call `insp.transient`, `insp.pending`, etc"
   ]
  },
  {
   "cell_type": "markdown",
   "id": "monthly-martin",
   "metadata": {},
   "source": [
    "- we can also see how an object moves through the session states\n",
    "- we have to use the inspectors modified property: `insp.modified`\n",
    "- this will return `True` and we can use the inspectors `attrs` collection to find out what changed\n",
    "    1. checks the attribute state to see if the session can find any changed\n",
    "    2. prints the `history object` of the changed attribute\n",
    "    \n",
    "    \n",
    "        for attr, attr_state in insp.attrs.items():\n",
    "            if attr_state.history_has_changed(): (1)\n",
    "                print(f'{attr}: {attr_state.value')\n",
    "                print('history: {attr_state.history}' (2)"
   ]
  },
  {
   "cell_type": "markdown",
   "id": "incomplete-picture",
   "metadata": {},
   "source": [
    "### Exceptions"
   ]
  },
  {
   "cell_type": "markdown",
   "id": "dominant-reunion",
   "metadata": {},
   "source": [
    "- two common errors are `MultipleResultsFound` and `DetachedInstanceError`\n",
    "- intersting thing about thest exceptions is that they tell you which line they are occuring on"
   ]
  },
  {
   "cell_type": "markdown",
   "id": "future-justice",
   "metadata": {},
   "source": [
    "#### MultipleResultsFound Execption"
   ]
  },
  {
   "cell_type": "markdown",
   "id": "ideal-survivor",
   "metadata": {},
   "source": [
    "- the exception occurs when we use the `.one()` query method but get more than one result back\n",
    "- another error related to this one is the `NoResultFound` exception which occurs when you use `.one()` method and the query returned no results"
   ]
  },
  {
   "cell_type": "markdown",
   "id": "accessible-helicopter",
   "metadata": {},
   "source": [
    "- all of SQLAlchemy exceptions are available in the `sqlalchemy.orm.exc` module"
   ]
  },
  {
   "cell_type": "markdown",
   "id": "assigned-optimum",
   "metadata": {},
   "source": [
    "#### DetachedInstanceError"
   ]
  },
  {
   "cell_type": "markdown",
   "id": "mexican-samba",
   "metadata": {},
   "source": [
    "- occurs when we attempt to access an attribute on an instance that needs to be loaded from the database, but the instance we are using is not currently attached to the database\n",
    "- this error acts simmilar to `ObjectDeletedError`, `StaleDataError`, `ConcurrentModificationError`\n",
    "- those errors are related to information differing between the instance, the session, and the database"
   ]
  },
  {
   "cell_type": "markdown",
   "id": "incident-biodiversity",
   "metadata": {},
   "source": [
    "- in the code below, we are querying to get an instance of an order\n",
    "- ocne we have our instance, we detach it from the session with expunge\n",
    "- then we attempt to load the `line_items` attributes\n",
    "- because `line_items` is a relationship, by default it doesent load all that data untill you ask for it\n",
    "- in our case, we detached the instance from the session and the relationship doesent have a session to execute a query to load the `line_items` attribute and it raises the `DettachedInstanceError"
   ]
  },
  {
   "cell_type": "code",
   "execution_count": null,
   "id": "green-canvas",
   "metadata": {},
   "outputs": [],
   "source": [
    "def triggere_detached_instance_error():\n",
    "    \n",
    "    cookiemon = User('cookiemon', 'mon@cookie.com', '111-111-1111', 'password')\n",
    "    session.add(cookiemon)\n",
    "    o1 = Order()\n",
    "    o1.user = cookiemon\n",
    "    session.add(o1)\n",
    "    \n",
    "    cc = session.query(Cookie).filter(Cookie.cookie_name == \"Change choclate chip\").one()\n",
    "    \n",
    "    line1 = LineItem(order=o1, cookie=cc, quantity=2, extended_cost=1.00)\n",
    "    \n",
    "    session.add(line1)\n",
    "    session.commit()\n",
    "    \n",
    "    # causing the detachment error\n",
    "    order = session.query(Order).first()\n",
    "    session.expunge(order)\n",
    "    order.line_items"
   ]
  },
  {
   "cell_type": "markdown",
   "id": "engaging-treasury",
   "metadata": {},
   "source": [
    "- to solve this issue, you could use a `try/excpet` block to add it back to the session\n",
    "- the problem howerver, is that the error is normally an indicator of an exception occuring prior to this point"
   ]
  },
  {
   "cell_type": "markdown",
   "id": "bright-inspiration",
   "metadata": {},
   "source": [
    "- all of these exceptions above are due to errors occuring in a single line\n",
    "- for failures occuring on multiple statements, we need to handle them using transactions"
   ]
  },
  {
   "cell_type": "markdown",
   "id": "polished-watts",
   "metadata": {},
   "source": [
    "### Transactions"
   ]
  },
  {
   "cell_type": "markdown",
   "id": "phantom-flesh",
   "metadata": {},
   "source": [
    "- `Transactions` are a group of statements that we need to succeed or fail as a group\n",
    "- when we first create a session, it is not connected to a database\n",
    "- when we undertake our first action wih a session such as a `query`, it starts a connection and a transaction\n",
    "- this means by default we don't need to manually create transactions"
   ]
  },
  {
   "cell_type": "markdown",
   "id": "global-forest",
   "metadata": {},
   "source": [
    "- howerver, if we need to handle any exception where part of the transaction succeeds and another part fails or where the result of a transaction creates an exception, then we must know how to control the transaction manually\n",
    "- an example of this is when we add a constraint such as not completing an order if the number of cookies is below a threshold\n",
    "\n",
    "        class Cookie(Base):\n",
    "            __table_args__ = (CheckConstraint('quantity >=0', name='quantity_postive'),)\n",
    "\n",
    "- with the constraint we basically broke our current session and if we attempt to issue any more statements via the session such as a query, we get the following error:\n",
    "    - `InvalidRequestError: This Session's transaction has been rolled back due to a previous exception during flush.`\n",
    "    - the `InvalidRequestError` is really caused due to the `IntergityErro`\n",
    "- to recover from this session state, we need to manually roll back the transaction\n",
    "- the `session.rollback()` method on the session will restore our session to a working station"
   ]
  },
  {
   "cell_type": "code",
   "execution_count": null,
   "id": "legendary-constraint",
   "metadata": {},
   "outputs": [],
   "source": [
    "from sqlalchemy.exc import IntegrityError\n",
    "\n",
    "def ship_it(order_id):\n",
    "    order = session.query(Order).get(order_id)\n",
    "    \n",
    "    for li in order.line_items:\n",
    "        li.cookie.quantity = li.cookie.quantity - li.quantity\n",
    "        session.add(li.cookie)\n",
    "    \n",
    "    order.shipped = True\n",
    "    session.add(order)\n",
    "    \n",
    "    try:\n",
    "        session.commit()\n",
    "        print(\"shipped order ID: {}\".format(order_id))\n",
    "    except IntegrityError as error:\n",
    "        print('ERROR: {!s}'.format(error.orig))\n",
    "        \n",
    "        # rolling back the transcation if an exception occurs\n",
    "        session.rollback()"
   ]
  },
  {
   "cell_type": "markdown",
   "id": "severe-poster",
   "metadata": {},
   "source": [
    "## Testing With SQLAlchemy ORM"
   ]
  },
  {
   "cell_type": "markdown",
   "id": "interior-devices",
   "metadata": {},
   "source": [
    "- in `SQLAlchemy` it can be alot of work to correctly mock out a query statement or a model for unit testing\n",
    "- so we end up testing against a database and how to mock out `SQLAlchemy` queries and connections "
   ]
  },
  {
   "cell_type": "markdown",
   "id": "tamil-fifty",
   "metadata": {},
   "source": [
    "### Testing with a Test Database"
   ]
  },
  {
   "cell_type": "markdown",
   "id": "informational-victorian",
   "metadata": {},
   "source": [
    "- out databse is setup via the `DataAccessLayer` class\n",
    "- we will use that class to initialize the database engine and session whenever we like"
   ]
  },
  {
   "cell_type": "code",
   "execution_count": null,
   "id": "instant-flesh",
   "metadata": {},
   "outputs": [],
   "source": [
    "from sqlalchemy.ext.declarative import declarative_base\n",
    "\n",
    "Base = declarative_base()\n",
    "\n",
    "class DataAccessLayer:\n",
    "    \n",
    "    # initializes a connection with a specific connection string like a factory\n",
    "    def __init__(self):\n",
    "        self.engine = None\n",
    "        self.conn_string = 'some conn string'\n",
    "        \n",
    "    # creates all the tables in out Base class and uses sessionmaker to create\n",
    "    # a easy way to make sessions for our use in our application\n",
    "    def connect(self):\n",
    "        self.engine = create_engine(self.conn_string)\n",
    "        Base.metadata.create_all(self.engine)\n",
    "        self.Session = sessionmaker(bind=self.engine)\n",
    "        \n",
    "# the connect method provides an isntance of the DataAccessLayer class that \n",
    "# can be imported through the application \n",
    "dal = DataAccessLayer()\n",
    "\n",
    "class Cookie(Base):\n",
    "    pass\n",
    "\n",
    "\n",
    "class User(Base):\n",
    "    pass\n",
    "\n",
    "\n",
    "class LineItem(Base):\n",
    "    pass\n",
    "\n",
    "\n",
    "def get_orders_by_customer(cust_name, shipped=None, details=False):\n",
    "    query = dal.session.query(Order.order_id, User.username, User.phone)\n",
    "    query = query.join(User)\n",
    "    \n",
    "    if details:\n",
    "        query = query.add_columns(Cookie.cookie-name, LineItem.quantity,\n",
    "                                 LineItem.extened_cost)\n",
    "        query = query.join(LineItem).join(Cookie)\n",
    "        \n",
    "        if shipped is not None:\n",
    "            query = query.filter(Order.shipped == shipped)\n",
    "        result = query.filter(User.username == cust_name).all()\n",
    "        return results"
   ]
  },
  {
   "cell_type": "markdown",
   "id": "legislative-theology",
   "metadata": {},
   "source": [
    "- the things we want to test are:\n",
    "    - `cust_name` which can be blank, a valid or invalid string\n",
    "    - `shipped` can be `None`, `True` or `False`\n",
    "    - `details` can be True or False\n",
    "    - in other words, test all the possible combinations, we will need 12 (3*3*2) tests"
   ]
  },
  {
   "cell_type": "code",
   "execution_count": null,
   "id": "natural-irrigation",
   "metadata": {},
   "outputs": [],
   "source": [
    "import unittest\n",
    "# from db import dal\n",
    "\n",
    "class TestApp(unittest.TestCase):\n",
    "    \n",
    "    @classmethod\n",
    "    def setUpClass(cls):\n",
    "        dal.conn_string = 'sqllite:///:memory:'\n",
    "        dal.connect()\n",
    "        dal.session = dal.Session()\n",
    "        \n",
    "        # a function that adds data to our session\n",
    "        prep_db(dal.session)\n",
    "        dal.session.close()\n",
    "        \n",
    "    \n",
    "    # we need to create a new session for every test, that is why\n",
    "    # we add it in the setup\n",
    "    def setUp(self):\n",
    "        dal.session = dal.Session()\n",
    "        \n",
    "    # we have to rollback every session that is why we add that in\n",
    "    # the teardown\n",
    "    def tearDown(self):\n",
    "        dal.session.rollback()\n",
    "        dal.session.close()\n",
    "    \n",
    "def test_orders_by_customer_blank(self):\n",
    "    results = get_orders_by_customer('')\n",
    "    self.assertEqual(results, [])\n",
    "    \n",
    "    \n",
    "def test_orders_by_customer_blank_details(self):\n",
    "    results = get_orders_by_customer('', details=True)\n",
    "    self.assertEqual(results, [])\n",
    "\n",
    "'''\n",
    "def test...\n",
    "'''"
   ]
  },
  {
   "cell_type": "markdown",
   "id": "guided-costa",
   "metadata": {},
   "source": [
    "### Using Mocks"
   ]
  },
  {
   "cell_type": "markdown",
   "id": "destroyed-worse",
   "metadata": {},
   "source": [
    "- powerful technique when you have a test enviorment where creating a test database does not make sense or simplyis not feasible\n",
    "- if you have a large amount of logic that operates on the result of the query, it can be useful to mock out the SQLAlchemy code to return the value you want\n",
    "- you can still create an `in-memeory` database but just dont load any data into it\n",
    "- you can also mock out the database connection itself"
   ]
  },
  {
   "cell_type": "markdown",
   "id": "photographic-advocacy",
   "metadata": {},
   "source": [
    "1. Patching `dal.session` in the app module with a mock\n",
    "2. that mock is passed into the test function as `mock_dal`\n",
    "3. we set the return value of the execute method to the chained return value of the all method which we set to `self.cookie_order`\n",
    "4. now we call the test function where the `dal.connection` will be mocked and return the value we set in the prior step"
   ]
  },
  {
   "cell_type": "code",
   "execution_count": null,
   "id": "settled-charlotte",
   "metadata": {},
   "outputs": [],
   "source": [
    "import mock \n",
    "\n",
    "@mock.patch('app.dal.session') # 1\n",
    "def test_orders_by_customer(self, mock_dal): # 2\n",
    "    mock_dal.query.return_value.join.return_value.filter.return_value. \\\n",
    "        all.return_value = self.cookie_orders # 3\n",
    "    results = get_orders_by_customer('cookiemon') # 4\n",
    "    self.assertEqual(results, self.cookie_orders)\n"
   ]
  },
  {
   "cell_type": "markdown",
   "id": "great-applicant",
   "metadata": {},
   "source": [
    "## Relfection with SQLAlchemy ORM and Automap"
   ]
  },
  {
   "cell_type": "markdown",
   "id": "square-shoulder",
   "metadata": {},
   "source": [
    "- if you want to reflect a database schema into `ORM-style` classes we have to use the SQLAlchemy extension automap that lets us do that\n",
    "- we will be using the `Chinook` database"
   ]
  },
  {
   "cell_type": "markdown",
   "id": "excessive-keyboard",
   "metadata": {},
   "source": [
    "### Reflecting a Database with Automap"
   ]
  },
  {
   "cell_type": "markdown",
   "id": "healthy-stereo",
   "metadata": {},
   "source": [
    "1. this reflection has created ORM objects for each table that is accessible under the `class` property of the `automap Base`"
   ]
  },
  {
   "cell_type": "code",
   "execution_count": null,
   "id": "composite-preview",
   "metadata": {},
   "outputs": [],
   "source": [
    "from sqlalchemy.ext.automap import automap_base\n",
    "from sqlalchemy import create_engine\n",
    "\n",
    "# initialize a Base object\n",
    "Base = automap_base()\n",
    "engine = ''\n",
    "\n",
    "try:\n",
    "    engine = create_engine('sqlite://Chinook_Sqlite.sqlite')\n",
    "except:\n",
    "    print('cant create engine Chinook_not exists')\n",
    "          \n",
    "          \n",
    "# reflects the entire database\n",
    "try:\n",
    "    Base.prepare(engine, reflect=True) # 1\n",
    "except:\n",
    "    print('cant reflext databse Chinook_not exists')\n",
    "    \n",
    "try:\n",
    "    Base.classes.keys\n",
    "except:\n",
    "    print('cant get list of classes becasue Chinkook_not exist')\n",
    "    \n",
    "try:\n",
    "    Artist = Base.classes.Artist\n",
    "    Album = Base.classes.Album\n",
    "except:\n",
    "    print('cant create objects to refrence Artist and Album becasue Chinook_not exist')"
   ]
  },
  {
   "cell_type": "markdown",
   "id": "forty-carter",
   "metadata": {},
   "source": [
    "- we can perform a simply query on the objects that were reflected from the database\n",
    "\n",
    "        session = Session(engine)\n",
    "        for artist in session.query(Artist).limit(10:\n",
    "            print(artist.ArtistId, artist.Name)"
   ]
  },
  {
   "cell_type": "markdown",
   "id": "understanding-richardson",
   "metadata": {},
   "source": [
    "### Reflected Relationships"
   ]
  },
  {
   "cell_type": "markdown",
   "id": "clear-roberts",
   "metadata": {},
   "source": [
    "- automap can automatically reflect and establish `many-to-one`, `one-to-many`, and `many-to-many` relationships\n",
    "- when automap creates a relationship, it creates a `<related-object>_collection` property on the object\n",
    "\n",
    "        artist = session.quert(Artist).first()\n",
    "        for album in artist.album_collection:\n",
    "            print(f'{artist.name} - {album.Title}')"
   ]
  },
  {
   "cell_type": "markdown",
   "id": "negative-humidity",
   "metadata": {},
   "source": [
    "- you can configure automap and override certain aspects of its behavior to tailor the classes it creates to percise sepcifications"
   ]
  }
 ],
 "metadata": {
  "kernelspec": {
   "display_name": "Python 3",
   "language": "python",
   "name": "python3"
  },
  "language_info": {
   "codemirror_mode": {
    "name": "ipython",
    "version": 3
   },
   "file_extension": ".py",
   "mimetype": "text/x-python",
   "name": "python",
   "nbconvert_exporter": "python",
   "pygments_lexer": "ipython3",
   "version": "3.9.2"
  }
 },
 "nbformat": 4,
 "nbformat_minor": 5
}
