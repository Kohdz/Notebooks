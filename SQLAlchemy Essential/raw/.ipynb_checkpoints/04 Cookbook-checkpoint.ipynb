{
 "cells": [
  {
   "cell_type": "markdown",
   "id": "circular-duncan",
   "metadata": {},
   "source": [
    "## Hybrid Attributes"
   ]
  },
  {
   "cell_type": "markdown",
   "id": "colored-vampire",
   "metadata": {},
   "source": [
    "- Hybird attributes are those that exhibit one behavior when accessed as a class method and another when accessed on an instance\n",
    "- another way to think of this si that the attribute will generate valid `SQL` when it is used in a SQLAlchemy statement and when accessed on an instance the hybrid attribute will executr the python code directly against the instance"
   ]
  },
  {
   "cell_type": "markdown",
   "id": "elder-reform",
   "metadata": {},
   "source": [
    "- the important point is that if we use the `hybird_property` or `hybrid_method` on a python object, we simply get a value\n",
    "        >>> Cookies.have_enough\n",
    "            False\n",
    "- if we use it in a query, it becomes a `SQL` statement\n",
    "        session.query(Cookie).order_by(desc(Cookie.inventory_value))"
   ]
  },
  {
   "cell_type": "code",
   "execution_count": null,
   "id": "flexible-cursor",
   "metadata": {},
   "outputs": [],
   "source": [
    "def hybrid_attr():\n",
    "    class Cookie(Base):\n",
    "        __tablename__ = 'cookies'\n",
    "        cookie_id = Column(Integer, primary_key=True)\n",
    "        \n",
    "    @hybrid_property\n",
    "    def inventroy_value(self):\n",
    "        return self.unit_cost * self.quantity\n",
    "    \n",
    "    # creates hybrid method because we need an idditional input\n",
    "    @hybrid_method\n",
    "    def bake_more(self, min_quantity):\n",
    "        return self.quantity < min_quantity\n",
    "    "
   ]
  },
  {
   "cell_type": "markdown",
   "id": "willing-domestic",
   "metadata": {},
   "source": [
    "## Associateion Proxy"
   ]
  },
  {
   "cell_type": "markdown",
   "id": "incorporated-holmes",
   "metadata": {},
   "source": [
    "- an `association proxy` is a pointer across a relationship to a specific attribute\n",
    "- it makes it easier to access an attribute across a relationship in code\n",
    "- it would come in handly if we wanted a list of ingredient names that are used to make our cookie "
   ]
  },
  {
   "cell_type": "markdown",
   "id": "strategic-opera",
   "metadata": {},
   "source": [
    "- imagine if you had to do this every time you wanted ingredients:\n",
    "        >>> [ingredient.name for ingredient in cc_cookie.ingredients]\n",
    "- we can turn that entire list comprehesion into\n",
    "        >>> cc_cookie.ingredient_names\n",
    "- we can even add new ingredients through the association proxy\n",
    "        >>> cookie.ingredient_names.append('tamato')\n",
    "        >>> session.flush()\n",
    "- be careful if you already had 'tamato' in the ingrdients, then the assocaition proxy will try to create it and you would get an error "
   ]
  },
  {
   "cell_type": "markdown",
   "id": "greatest-coffee",
   "metadata": {},
   "source": [
    "To establish an association proxy that we can use for attribute access and ingredient creation, we need to do three things\n",
    "- Import the association proxy\n",
    "- Add an `__init__` method to the target object that makes it easy to create new instances with just the required values\n",
    "- Create an association proxy that targets the table name and column you want to proxy"
   ]
  },
  {
   "cell_type": "code",
   "execution_count": 2,
   "id": "educated-museum",
   "metadata": {},
   "outputs": [],
   "source": [
    "def association_proxy():\n",
    "    \n",
    "    from sqlalchemy.ext.associationproxy import association_proxy\n",
    "    \n",
    "    '''\n",
    "    ...\n",
    "    \n",
    "    '''\n",
    "    class Ingredient(Base):\n",
    "        __tablename__ = 'ingredients'\n",
    "        \n",
    "        # defining an __init__ method that only requires a name\n",
    "        def __init__(self, name):\n",
    "            self.name = name\n",
    "            \n",
    "    class Cookie(Base):\n",
    "        __tablename__ = 'cookies'\n",
    "        \n",
    "        \n",
    "        # establish an association proxy to the ingredients name\n",
    "        # attribute that we can refrence as ingredient_names\n",
    "        ingredient_names = association_proxy('ingredients', 'name')\n",
    "    "
   ]
  },
  {
   "cell_type": "markdown",
   "id": "roman-firewall",
   "metadata": {},
   "source": [
    "## Integrating SQLAlchemy with Flask"
   ]
  },
  {
   "cell_type": "markdown",
   "id": "collectible-colony",
   "metadata": {},
   "source": [
    "- flask `SQLAlchemy` will provide preconfigured scoped sessions that afre tied to the page life cycle of your Flask application\n",
    "     - `pip install flask-sqlalchemy`"
   ]
  },
  {
   "cell_type": "markdown",
   "id": "official-tractor",
   "metadata": {},
   "source": [
    "- it is recommended to use the app factory pattern\n",
    "- the app factory pattern uses a function that assembles an application with all the appropriate add-ons and configurations"
   ]
  },
  {
   "cell_type": "code",
   "execution_count": null,
   "id": "accessible-nightmare",
   "metadata": {},
   "outputs": [],
   "source": [
    "def app_factory():\n",
    "    \n",
    "    from flask import Flask\n",
    "    from flask.ext.sqlalchemy import SQLAlchemy\n",
    "    from config import config\n",
    "    \n",
    "    db = SQLAlchemy()\n",
    "    \n",
    "    # defines the create_app app factory \n",
    "    def create_app(config_name):\n",
    "        app = Flask(__name__)\n",
    "        app.config.from_object(config[config_name])\n",
    "        \n",
    "        # initializes the instance with the app context\n",
    "        db.init_app(app)\n",
    "        return app\n"
   ]
  },
  {
   "cell_type": "markdown",
   "id": "fourth-water",
   "metadata": {},
   "source": [
    "- only major change is that the sessions is nested in the `db.session` object\n",
    "- one thing `Flask-SQLAlchemy` adds that is not found in normal is the the addition of a `query` method to every `ORM` data class\n",
    "- it is not reccomended you use it\n",
    "- it looks like the following\n",
    "    - `Cookie.query.all()`"
   ]
  },
  {
   "cell_type": "markdown",
   "id": "faced-ebony",
   "metadata": {},
   "source": [
    "## SQLAcodegen"
   ]
  },
  {
   "cell_type": "markdown",
   "id": "similar-undergraduate",
   "metadata": {},
   "source": [
    "- `SQLAcodegen` uses reflection to build a collection of OREM data classes that you can use in your application code base to avoid reflecting the database multiple times\n",
    "- `SQLAcodegen` has the ability to detect `many-to-one`, `one-to-one`, and `many-to-many` relationships"
   ]
  },
  {
   "cell_type": "markdown",
   "id": "adult-mandate",
   "metadata": {},
   "source": [
    "- first install `SQLAcodegen`\n",
    "    - `pip install sqlacodegen`\n",
    "- to run SQLAcodegen we need to specifiy a database connection string for it to connect to\n",
    "     - `sqlacodegen sqlite:///Chinook_Sqlite.sqlite`\n",
    "- when we run the command below, it builds up a complete file that contains all the ORM data classes of the database along with the proper imports\n",
    "    - `sqlacodegen sqlite://Chinook_Sqlite.sqlite --tables Atrist, Track\n",
    "- the file is ready for use in our application\n",
    "- you might need to tweak the setting for the `Base` object if it was established elsewhere"
   ]
  },
  {
   "cell_type": "markdown",
   "id": "injured-census",
   "metadata": {},
   "source": [
    "- when we speicfied the `Artist` and `Track` tables, `SQLAcodegen` built classes for those tables and all the tbales had a relationship with those tables\n",
    "- `SQLAcodegen` does this to ensure that the code it builds is ready to be used\n",
    "- if you want to save the generated classes directly to a file, you can do so with standard redirection\n",
    "    - `sqlacodegen sqlite:///Chinook_Sqlite.sqlite --tables Artist,Track > db.py`"
   ]
  }
 ],
 "metadata": {
  "kernelspec": {
   "display_name": "Python 3",
   "language": "python",
   "name": "python3"
  },
  "language_info": {
   "codemirror_mode": {
    "name": "ipython",
    "version": 3
   },
   "file_extension": ".py",
   "mimetype": "text/x-python",
   "name": "python",
   "nbconvert_exporter": "python",
   "pygments_lexer": "ipython3",
   "version": "3.9.2"
  }
 },
 "nbformat": 4,
 "nbformat_minor": 5
}
