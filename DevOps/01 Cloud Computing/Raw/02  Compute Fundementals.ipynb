{
 "cells": [
  {
   "cell_type": "markdown",
   "metadata": {},
   "source": [
    "# Servers In The Cloud"
   ]
  },
  {
   "cell_type": "markdown",
   "metadata": {},
   "source": [
    "Servers in the cloud have revolutionized the IT industry\n",
    "- Scale capacity up and down based on demands\n",
    "- Storage, more memory, and computing power can be added as needed\n",
    "- Obtain servers in minutes\n",
    "- No need for onsite hardware or capital expenses"
   ]
  },
  {
   "cell_type": "markdown",
   "metadata": {},
   "source": [
    "# Elastic Cloud Compute (EC2)"
   ]
  },
  {
   "cell_type": "markdown",
   "metadata": {},
   "source": [
    "EC2 is a foundational piece of AWS cloud computing platform and is a service that provides servers for rent in the cloud "
   ]
  },
  {
   "cell_type": "markdown",
   "metadata": {},
   "source": [
    "They are called instances. Instances are physical servers in a data center and are not to be confused with serverless"
   ]
  },
  {
   "cell_type": "markdown",
   "metadata": {},
   "source": [
    "## Pricing Options"
   ]
  },
  {
   "cell_type": "markdown",
   "metadata": {},
   "source": [
    "There are several pricing options for EC2\n",
    "- On Demand- Pay as you go, no contract\n",
    "- Dedicated Hosts- you have your own dedicated hardware and don't share it with others\n",
    "- Spot- you place a bid on an instance price. If there is extra capacity that falls below your bid, and EC2 instance is provisioned. If the price goes above your bid while the instance is running, the instance is terminated\n",
    "- Reserved Instances- You earn huge discounts if you pay up front and sign a 1-year or 3-year contract"
   ]
  },
  {
   "cell_type": "markdown",
   "metadata": {},
   "source": [
    "### TIPS"
   ]
  },
  {
   "cell_type": "markdown",
   "metadata": {},
   "source": [
    "- Spot instances can save you up to $ 90$% off the on-demand pricing\n",
    "- There are several instance types that provide varying combinations of $ CPU $, memory, storage and networking capacity"
   ]
  },
  {
   "cell_type": "markdown",
   "metadata": {},
   "source": [
    "# Elastic Block Store"
   ]
  },
  {
   "cell_type": "markdown",
   "metadata": {},
   "source": [
    "Elastic Block Store (EBS) is a storage solution for EC2 instances and is a physical hard drive that is attached to the EC2 instance to increase storage"
   ]
  },
  {
   "cell_type": "markdown",
   "metadata": {},
   "source": [
    "## Tips"
   ]
  },
  {
   "cell_type": "markdown",
   "metadata": {},
   "source": [
    "- EBS is found on the EC2 dashboard\n",
    "- There are several EBS volume types that fall under the categories of Solid State Drive (SSD) and Hard Disk Drive (HDD)"
   ]
  },
  {
   "cell_type": "markdown",
   "metadata": {},
   "source": [
    "# Security"
   ]
  },
  {
   "cell_type": "markdown",
   "metadata": {},
   "source": [
    "Security in the cloud allows you to have complete control over your virtual networking enviorment"
   ]
  },
  {
   "cell_type": "markdown",
   "metadata": {},
   "source": [
    "- Configure your virtual network with public or private facing subnets\n",
    "- Launch your servers in the selected network to secure access"
   ]
  },
  {
   "cell_type": "markdown",
   "metadata": {},
   "source": [
    "# Virtual Private Cloud (VPC)"
   ]
  },
  {
   "cell_type": "markdown",
   "metadata": {},
   "source": [
    "To Save costs, everything is part of the same broadcast network and communicate with each other. If you want more control/security, use a VPC"
   ]
  },
  {
   "cell_type": "markdown",
   "metadata": {},
   "source": [
    "![](images/02_compute/01.png)"
   ]
  },
  {
   "cell_type": "markdown",
   "metadata": {},
   "source": [
    "Virtual Private Cloud or VPC allows you to create your own private network in the cloud. You can launch services, like EC2, inside of that private network. A VPC spans all avalibility zones in the region"
   ]
  },
  {
   "cell_type": "markdown",
   "metadata": {},
   "source": [
    "VPC allows you to control your virtual networking enviorment wich includes\n",
    "- IP adress ranges\n",
    "- subnets\n",
    "- route tables\n",
    "- network gateways"
   ]
  },
  {
   "cell_type": "markdown",
   "metadata": {},
   "source": [
    "## Tips\n",
    "- VPC is found under networking and content delivery section of the console\n",
    "- The default limit is 5 VPC's per region. You can request an increase\n",
    "- Your AWS resources are automatically provisioned in a default VPC\n",
    "- There are no additional charges for creating and using the VPC\n",
    "- You can store data in the Amazon S3 and restrict access so that its only accessible for instance in your VPC"
   ]
  },
  {
   "cell_type": "markdown",
   "metadata": {},
   "source": [
    "# Launch an EC2 Instance"
   ]
  },
  {
   "cell_type": "markdown",
   "metadata": {},
   "source": [
    "![](images/02_compute/02.png)"
   ]
  },
  {
   "cell_type": "markdown",
   "metadata": {},
   "source": [
    "![](images/02_compute/03.png)"
   ]
  },
  {
   "cell_type": "markdown",
   "metadata": {},
   "source": [
    "![](images/02_compute/04.png)"
   ]
  },
  {
   "cell_type": "markdown",
   "metadata": {},
   "source": [
    "![](images/02_compute/05.png)"
   ]
  },
  {
   "cell_type": "markdown",
   "metadata": {},
   "source": [
    "# Compute Power"
   ]
  },
  {
   "cell_type": "markdown",
   "metadata": {},
   "source": [
    "Compute power in the cloud is a faster way to build applications,  providing:\n",
    "- no servers to manage (serverless)\n",
    "- ability to continously scale\n",
    "- ability to run code on demand in response to events\n",
    "- pay only when your code runs "
   ]
  },
  {
   "cell_type": "markdown",
   "metadata": {},
   "source": [
    "## Lambda"
   ]
  },
  {
   "cell_type": "markdown",
   "metadata": {},
   "source": [
    "AWS Lambda provides you with computing power in the cloud by allowing you to execute code without standing up or managing servers"
   ]
  },
  {
   "cell_type": "markdown",
   "metadata": {},
   "source": [
    "### Tips\n",
    "- Lambda is found under the compute section of the console\n",
    "- Lambda have a time limit of 15 mins \n",
    "- The code you run on Lambda is called a \"Lambda Function\"\n",
    "- Lambda code can be triggered by other AWS service \n",
    "- AWS Lambda code can be triggered by other AWS services\n",
    "- Lambda supports Python, Go, PowerShell, Node, C#, etc.\n",
    "- Lambda code can be authored via the console"
   ]
  },
  {
   "cell_type": "markdown",
   "metadata": {},
   "source": [
    "![](images/02_compute/06.png)"
   ]
  },
  {
   "cell_type": "markdown",
   "metadata": {},
   "source": [
    "![](images/02_compute/07.png)"
   ]
  },
  {
   "cell_type": "markdown",
   "metadata": {},
   "source": [
    "![](images/02_compute/08.png)"
   ]
  },
  {
   "cell_type": "markdown",
   "metadata": {},
   "source": [
    "# Elastic Beanstalk"
   ]
  },
  {
   "cell_type": "markdown",
   "metadata": {},
   "source": [
    "Elastic Beanstalk is an orchestration service that allows you to deploy a web application at the touch of a button by spinning up (or provisioning) all of the services that you need to run your application"
   ]
  },
  {
   "cell_type": "markdown",
   "metadata": {},
   "source": [
    "## Tips"
   ]
  },
  {
   "cell_type": "markdown",
   "metadata": {},
   "source": [
    "- Elastic Beanstalk is found under the compute section of the console\n",
    "- Elastic Beanstalk can be used with backend technologies such as Python and Docker\n",
    "- You can run your application in a VPC"
   ]
  },
  {
   "cell_type": "markdown",
   "metadata": {},
   "source": [
    "# Deploy App to Beanstalk"
   ]
  },
  {
   "cell_type": "markdown",
   "metadata": {},
   "source": [
    "![](images/02_compute/09.png)"
   ]
  },
  {
   "cell_type": "markdown",
   "metadata": {},
   "source": [
    "![](images/02_compute/10.png)"
   ]
  },
  {
   "cell_type": "markdown",
   "metadata": {},
   "source": [
    "![](images/02_compute/11.png)"
   ]
  },
  {
   "cell_type": "markdown",
   "metadata": {},
   "source": [
    "![](images/02_compute/12.png)"
   ]
  }
 ],
 "metadata": {
  "kernelspec": {
   "display_name": "Python 3",
   "language": "python",
   "name": "python3"
  },
  "language_info": {
   "codemirror_mode": {
    "name": "ipython",
    "version": 3
   },
   "file_extension": ".py",
   "mimetype": "text/x-python",
   "name": "python",
   "nbconvert_exporter": "python",
   "pygments_lexer": "ipython3",
   "version": "3.8.3"
  }
 },
 "nbformat": 4,
 "nbformat_minor": 4
}
