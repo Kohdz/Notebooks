{
 "cells": [
  {
   "cell_type": "markdown",
   "metadata": {},
   "source": [
    "# Messaging In The Cloud"
   ]
  },
  {
   "cell_type": "markdown",
   "metadata": {},
   "source": [
    "There are often times that users of your applicaitions need to be notified when certain events happen. Notifications, such as text messages or emails can be sent through services in the cloud. The use of the cloud offers benefits like lowered costs, increased storage, and flexibility"
   ]
  },
  {
   "cell_type": "markdown",
   "metadata": {},
   "source": [
    "Messaging is a from of notification, but instead of the human receiving the message, another application is such as devices or internet-based applications"
   ]
  },
  {
   "cell_type": "markdown",
   "metadata": {},
   "source": [
    "# SNS"
   ]
  },
  {
   "cell_type": "markdown",
   "metadata": {},
   "source": [
    "Amazons Simple Notification services is a cloud service that allows you to send notifications to the users of your applications. SNS allows you to decouple the notification logic from being embedded in your applications and allows notifications to be published to a large number of subscribers"
   ]
  },
  {
   "cell_type": "markdown",
   "metadata": {},
   "source": [
    "## Features"
   ]
  },
  {
   "cell_type": "markdown",
   "metadata": {},
   "source": [
    "- SNS uses a publish/subscribe model\n",
    "- subscribes can be people or other AWS services\n",
    "- SNS publishes using mobile, text messages or email\n",
    "- SNS can publish messages to Amazon SQS queues, AWS Lambda functions and HTTP/S webhooks"
   ]
  },
  {
   "cell_type": "markdown",
   "metadata": {},
   "source": [
    "## Tips"
   ]
  },
  {
   "cell_type": "markdown",
   "metadata": {},
   "source": [
    "- SNS is found under the application integration section onf the AWS management console\n",
    "- SNS topic names are limited to 256 characters\n",
    "- A notification can contain only one message"
   ]
  },
  {
   "cell_type": "markdown",
   "metadata": {},
   "source": [
    "# Queues"
   ]
  },
  {
   "cell_type": "markdown",
   "metadata": {},
   "source": [
    "A queue is a data structure that holds requests called messages. Messages in a queue are commonly processed in order, first in, first out (FIFO)"
   ]
  },
  {
   "cell_type": "markdown",
   "metadata": {},
   "source": [
    "Messaging Queues Improve:\n",
    "- Performance\n",
    "- Scalability\n",
    "- User Expreance"
   ]
  },
  {
   "cell_type": "markdown",
   "metadata": {},
   "source": [
    "Imagine You are a money transfering System:\n",
    "- You get a request for a transcation\n",
    "- you dont make the users wait for the request\n",
    "- you put it on a queue and then later let them know if it is avaliable\n",
    "- you are basically Asynchronously processing data"
   ]
  },
  {
   "cell_type": "markdown",
   "metadata": {},
   "source": [
    "# SQS "
   ]
  },
  {
   "cell_type": "markdown",
   "metadata": {},
   "source": [
    "Amazons Simple Queue Service (SQS) is a fully managed message queuing service that allows you to integrate queueing functionality in your application. SQS offers two types of message queues: standard and FIFO"
   ]
  },
  {
   "cell_type": "markdown",
   "metadata": {},
   "source": [
    "## Features"
   ]
  },
  {
   "cell_type": "markdown",
   "metadata": {},
   "source": [
    "- Send messages\n",
    "- Store messages\n",
    "- Receive messages"
   ]
  },
  {
   "cell_type": "markdown",
   "metadata": {},
   "source": [
    "## Tips"
   ]
  },
  {
   "cell_type": "markdown",
   "metadata": {},
   "source": [
    "- FIFO queues support up to 300 messages per second\n",
    "- FIFO queue guarantee the ordering of messages\n",
    "- Standard queues offer best-effor ordering but no guarantees\n",
    "- Standard queues deliver a message at least once, but ocassionally more than one copy of a message is delivered"
   ]
  },
  {
   "cell_type": "markdown",
   "metadata": {},
   "source": [
    "# SNS Lab"
   ]
  },
  {
   "cell_type": "markdown",
   "metadata": {},
   "source": [
    "![](images/06_messaging/02.png)"
   ]
  },
  {
   "cell_type": "markdown",
   "metadata": {},
   "source": [
    "![](images/06_messaging/03.png)"
   ]
  },
  {
   "cell_type": "markdown",
   "metadata": {},
   "source": [
    "![](images/06_messaging/04.png)"
   ]
  },
  {
   "cell_type": "markdown",
   "metadata": {},
   "source": [
    "![](images/06_messaging/04.png)"
   ]
  },
  {
   "cell_type": "markdown",
   "metadata": {},
   "source": [
    "![](images/06_messaging/01.png)"
   ]
  },
  {
   "cell_type": "markdown",
   "metadata": {},
   "source": [
    "# Container Technology"
   ]
  },
  {
   "cell_type": "markdown",
   "metadata": {},
   "source": [
    "A container consists of everything an application needs to run: the application itself and its dependencies (e.g. libraries, utilities, configuration files), all bundeled into one package"
   ]
  },
  {
   "cell_type": "markdown",
   "metadata": {},
   "source": [
    "Each container is a independent component that runs on its own and can be moved from enviorment to enviorment"
   ]
  },
  {
   "cell_type": "markdown",
   "metadata": {},
   "source": [
    "Kubernetes is a container ocharstration for docker"
   ]
  },
  {
   "cell_type": "markdown",
   "metadata": {},
   "source": [
    "## Migration"
   ]
  },
  {
   "cell_type": "markdown",
   "metadata": {},
   "source": [
    "In stead of having to migrate the application from development to publication, you can just move the container"
   ]
  },
  {
   "cell_type": "markdown",
   "metadata": {},
   "source": [
    "## Example"
   ]
  },
  {
   "cell_type": "markdown",
   "metadata": {},
   "source": [
    "Suppose you had a huge application that you wanted to break down into microservices architecture. Docker works well because each component is its own independent enviorment"
   ]
  },
  {
   "cell_type": "markdown",
   "metadata": {},
   "source": [
    "# Elastic Container Service (ECS)"
   ]
  },
  {
   "cell_type": "markdown",
   "metadata": {},
   "source": [
    "ECS is an orchestration service used for automating deployment, scaling, and managing of your containerized applications"
   ]
  },
  {
   "cell_type": "markdown",
   "metadata": {},
   "source": [
    "ECS works well with Docker containers by:\n",
    "- ECS is under the Compute section\n",
    "- You can schedule long-running applications, services and batch processes using EC2\n",
    "- Docker is the only container platform supported by Amazon EC2"
   ]
  },
  {
   "cell_type": "markdown",
   "metadata": {},
   "source": [
    "A cluster is a set of container instances running the container agent"
   ]
  }
 ],
 "metadata": {
  "kernelspec": {
   "display_name": "Python 3",
   "language": "python",
   "name": "python3"
  },
  "language_info": {
   "codemirror_mode": {
    "name": "ipython",
    "version": 3
   },
   "file_extension": ".py",
   "mimetype": "text/x-python",
   "name": "python",
   "nbconvert_exporter": "python",
   "pygments_lexer": "ipython3",
   "version": "3.8.3"
  }
 },
 "nbformat": 4,
 "nbformat_minor": 4
}
