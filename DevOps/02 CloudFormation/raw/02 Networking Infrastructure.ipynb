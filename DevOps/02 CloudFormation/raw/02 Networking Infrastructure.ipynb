{
 "cells": [
  {
   "cell_type": "markdown",
   "metadata": {},
   "source": [
    "# Overview"
   ]
  },
  {
   "cell_type": "markdown",
   "metadata": {},
   "source": [
    "We will be writting the code to generate the network infrastucture you see below"
   ]
  },
  {
   "cell_type": "markdown",
   "metadata": {},
   "source": [
    "![](images/09_networkII/01.png)"
   ]
  },
  {
   "cell_type": "markdown",
   "metadata": {},
   "source": [
    "We will be building out the Networking Infrastructure with code. We will be building VPCs, attaching the internet gateway, subnets, routing for subnets, etc."
   ]
  },
  {
   "cell_type": "markdown",
   "metadata": {},
   "source": [
    "# Network Temology"
   ]
  },
  {
   "cell_type": "markdown",
   "metadata": {},
   "source": [
    "## IPv4"
   ]
  },
  {
   "cell_type": "markdown",
   "metadata": {},
   "source": [
    "![](images/09_networkII/02.png)"
   ]
  },
  {
   "cell_type": "markdown",
   "metadata": {},
   "source": [
    "$172.16.0.0 $ is the decimal version and below is the binary format"
   ]
  },
  {
   "cell_type": "markdown",
   "metadata": {},
   "source": [
    "An Octet consists of $ 4 $ bits and we have $ 4 $ four bits"
   ]
  },
  {
   "cell_type": "markdown",
   "metadata": {},
   "source": [
    "The problem with $ IPv4 $ is that it runs out of space fast because of how wasteful it is"
   ]
  },
  {
   "cell_type": "markdown",
   "metadata": {},
   "source": [
    "# NAT"
   ]
  },
  {
   "cell_type": "markdown",
   "metadata": {},
   "source": [
    "Network adress translation"
   ]
  },
  {
   "cell_type": "markdown",
   "metadata": {},
   "source": [
    "The idea is we can have multipl private network and route them through a $ NAT $ modem. This way, we are using only $ 1 $ IP adress"
   ]
  },
  {
   "cell_type": "markdown",
   "metadata": {},
   "source": [
    "![](images/09_networkII/03.png)"
   ]
  },
  {
   "cell_type": "markdown",
   "metadata": {},
   "source": [
    "The $ NAT $ gateway is open to the internet, requests go through it. Basically if i request google.com, the request goes from my computer to the router. The router has a $ NAT $ gateway which then sends out the request. The response comes back to the router, the router uses the network lookup table and then sends the response to the appropiate device"
   ]
  },
  {
   "cell_type": "markdown",
   "metadata": {},
   "source": [
    "## CIDR"
   ]
  },
  {
   "cell_type": "markdown",
   "metadata": {},
   "source": [
    "Classless Inter-Domain Routing"
   ]
  },
  {
   "cell_type": "markdown",
   "metadata": {},
   "source": [
    "![](images/09_networkII/04.png)"
   ]
  },
  {
   "cell_type": "markdown",
   "metadata": {},
   "source": [
    "CIDR:\n",
    "- Reduces IPv4 echaustion\n",
    "- simplifies routing tables\n",
    "- the number of bits in host id specifies the number of IP you can have within your CIDR block"
   ]
  },
  {
   "cell_type": "markdown",
   "metadata": {},
   "source": [
    "### CIDR Math"
   ]
  },
  {
   "cell_type": "markdown",
   "metadata": {},
   "source": [
    "Suppose you have a VPC of $ 10.0.0.0/20 $. You want to use this to create subnets, both private and public. How can you do this"
   ]
  },
  {
   "cell_type": "markdown",
   "metadata": {},
   "source": [
    "The starting range is $ 10.0.0.0/20 $\n",
    "\n",
    "$ 20 $ means that the first $ 20 $ bits are going to be on. What the 20 is specifying is show below"
   ]
  },
  {
   "cell_type": "markdown",
   "metadata": {},
   "source": [
    "![](images/09_networkII/05.png)"
   ]
  },
  {
   "cell_type": "markdown",
   "metadata": {},
   "source": [
    "To get the ending range, we simply invert the bits\n",
    "Then convert it into its decimal form"
   ]
  },
  {
   "cell_type": "markdown",
   "metadata": {},
   "source": [
    "![](images/09_networkII/06.png)"
   ]
  },
  {
   "cell_type": "markdown",
   "metadata": {},
   "source": [
    "Thus the ending range is $ 10.0.15.255 $"
   ]
  },
  {
   "cell_type": "markdown",
   "metadata": {},
   "source": [
    "How do we pick a valid CIDR block for our subnet?"
   ]
  },
  {
   "cell_type": "markdown",
   "metadata": {},
   "source": [
    "If we have $ 4096 $ total, we can assign that amount because it would exceede what we have"
   ]
  },
  {
   "cell_type": "markdown",
   "metadata": {},
   "source": [
    "What if you wanted $ 28 $ subnets?"
   ]
  },
  {
   "cell_type": "markdown",
   "metadata": {},
   "source": [
    "$$ 32 -28 = 4 $$\n",
    "$$ 2^4 = 16 $$"
   ]
  },
  {
   "cell_type": "markdown",
   "metadata": {},
   "source": [
    "With a subnet of $28$, we can get $16$ IP adresses"
   ]
  },
  {
   "cell_type": "markdown",
   "metadata": {},
   "source": [
    "What would be a valid subnet work for that?"
   ]
  },
  {
   "cell_type": "markdown",
   "metadata": {},
   "source": [
    "$$ 10.0.0.0/28 $$"
   ]
  },
  {
   "cell_type": "markdown",
   "metadata": {},
   "source": [
    "Note that the number $ 28 $ is bigger than the number $ 20 $. This means that you want to reserve the last $ 4 $ bits of your IP adress"
   ]
  },
  {
   "cell_type": "markdown",
   "metadata": {},
   "source": [
    "All of the following would be valid IPs"
   ]
  },
  {
   "cell_type": "markdown",
   "metadata": {},
   "source": [
    "$$ 10.0.1.0/28 $$\n",
    "$$ 10.0.2.0/28 $$\n",
    "$$ 10.0.15.0/28 $$"
   ]
  },
  {
   "cell_type": "markdown",
   "metadata": {},
   "source": [
    "We can go all the way up to $ 15 $ because of our range $ 10.0.15.255 $"
   ]
  },
  {
   "cell_type": "markdown",
   "metadata": {},
   "source": [
    "Also note, for the same reason, the $ 28 $ can go all the way up to $ 255 $, assuming you are not using any IP's in another place"
   ]
  },
  {
   "cell_type": "markdown",
   "metadata": {},
   "source": [
    "https://www.youtube.com/watch?v=z07HTSzzp3o"
   ]
  },
  {
   "cell_type": "markdown",
   "metadata": {},
   "source": [
    "## Resources"
   ]
  },
  {
   "cell_type": "markdown",
   "metadata": {},
   "source": [
    "Resource feilds are required; you must have atleast one resource. Here is where we define and configute the resources that CloudFormation will manage for us"
   ]
  },
  {
   "cell_type": "markdown",
   "metadata": {},
   "source": [
    "    Resources:\n",
    "        VPC:\n",
    "            TYPE: AWS::EC2::VPC"
   ]
  },
  {
   "cell_type": "markdown",
   "metadata": {},
   "source": [
    "## Common Commands"
   ]
  },
  {
   "cell_type": "markdown",
   "metadata": {},
   "source": [
    "The common commands we will be using are `aws cloudformation create-stack` and `aws cloudformation`"
   ]
  },
  {
   "cell_type": "markdown",
   "metadata": {},
   "source": [
    "# Parameters"
   ]
  },
  {
   "cell_type": "markdown",
   "metadata": {},
   "source": [
    "Something you use to pass values to your cloud formation script. These are the input parameters for the template. They give us the flexibility to change some settings without having to modify the template code"
   ]
  },
  {
   "cell_type": "markdown",
   "metadata": {},
   "source": [
    "The paramater files is away from the script because we dont want to risk making a typo in an already tested script. So we just keep the paramaters seprate"
   ]
  },
  {
   "cell_type": "markdown",
   "metadata": {},
   "source": [
    "# Bash Script"
   ]
  },
  {
   "cell_type": "markdown",
   "metadata": {},
   "source": [
    "Imagine the following bash Script"
   ]
  },
  {
   "cell_type": "code",
   "execution_count": null,
   "metadata": {},
   "outputs": [],
   "source": [
    "'''\n",
    "    create.sh\n",
    "    aws cloudformation create-stack \\\n",
    "        --stack-name $1 \\\n",
    "        --template-body file://$2 \\\n",
    "        --parameters file://$3 \\\n",
    "        --region=us-west-2\n",
    "'''"
   ]
  },
  {
   "cell_type": "markdown",
   "metadata": {},
   "source": [
    "To use the bash script type:"
   ]
  },
  {
   "cell_type": "markdown",
   "metadata": {},
   "source": [
    "    ./create.sh <pran1> <pram2> <...>"
   ]
  },
  {
   "cell_type": "markdown",
   "metadata": {},
   "source": [
    "    ./create.sh ourdemoinfra outinfra.yml ourinfra-parms.json"
   ]
  },
  {
   "cell_type": "markdown",
   "metadata": {},
   "source": [
    "The bash scripts allows us to get away withou having to type the full command out\n",
    "\n",
    "`aws cloudformation create-stack --stack-name <NAME> --template-body --parameters`"
   ]
  },
  {
   "cell_type": "markdown",
   "metadata": {},
   "source": [
    "Another example of a bash script"
   ]
  },
  {
   "cell_type": "code",
   "execution_count": null,
   "metadata": {},
   "outputs": [],
   "source": [
    "'''\n",
    "STACK_NAME=awsbootstrap\n",
    "    REGION=us-east-1\n",
    "    CLI_PROFILE=awsbootstrap\n",
    "    EC2_INSTANCE_TYPE=t2.micro\n",
    "    # Deploy the CloudFormation template\n",
    "    echo -e \"\\n\\n=========== Deploying main.yml ===========\"\n",
    "    aws cloudformation deploy \\\n",
    "      --region $REGION \\\n",
    "      --profile $CLI_PROFILE$ \\\n",
    "      --stack-name $STACK_NAME \\\n",
    "      --template-file main.yml \\ \n",
    "      --no-fail-on-empty-changeset \\\n",
    "      --capabilities CAPABILITY_NAMED_IAM \\\n",
    "      --parameter-overrides \\ \n",
    "      EC2InstanceType=$EC2_INSTANCE_TYPE\n",
    "'''"
   ]
  },
  {
   "cell_type": "markdown",
   "metadata": {},
   "source": [
    "To make the script executable, you can use\n",
    " \n",
    "`chmod +x deploy-infra.sh`"
   ]
  },
  {
   "cell_type": "markdown",
   "metadata": {},
   "source": [
    "# Tags"
   ]
  },
  {
   "cell_type": "markdown",
   "metadata": {},
   "source": [
    "tags we are using are refrencing the paramater we are calling `EnviromentName`. The cloud formation function `!Ref` basically goes into our `.json` file and subisites the `EnviormentName` with the name we gave it"
   ]
  },
  {
   "cell_type": "markdown",
   "metadata": {},
   "source": [
    "# Code Overview"
   ]
  },
  {
   "cell_type": "markdown",
   "metadata": {},
   "source": [
    "## Connecting VPC's & Internet Gateways"
   ]
  },
  {
   "cell_type": "markdown",
   "metadata": {},
   "source": [
    "It is important to note when connecting an `Internet Gateway` to a `VPC` we need to define an additional resource called `InternetGatewayAttachment`. This attachment refrences both the VPC and the InternetGateway"
   ]
  },
  {
   "cell_type": "markdown",
   "metadata": {},
   "source": [
    "    Type: AWS::EC2::VPCGatewayAttachment\n",
    "    Properties: \n",
    "      InternetGatewayId: String\n",
    "      VpcId: String\n",
    "      VpnGatewayId: String"
   ]
  },
  {
   "cell_type": "markdown",
   "metadata": {},
   "source": [
    "## Dont Hard-Code Parameters"
   ]
  },
  {
   "cell_type": "markdown",
   "metadata": {},
   "source": [
    "Avoid Hard Coding parameter values. Instead use a sperate parameter file to store parameter values."
   ]
  },
  {
   "cell_type": "markdown",
   "metadata": {},
   "source": [
    "Here is an example parameters file from `network-parameters-json` which is holding key-value for the `Enviroment` & `VpcCiIDR`"
   ]
  },
  {
   "cell_type": "markdown",
   "metadata": {},
   "source": [
    "    [\n",
    "        {\n",
    "            \"ParameterKey\": \"EnvironmentName\",\n",
    "            \"ParameterValue\": \"UdacityProject\"\n",
    "        },\n",
    "        {\n",
    "            \"ParameterKey\": \"VpcCIDR\",\n",
    "            \"ParameterValue\": \"10.0.0.0/16\"\n",
    "        }\n",
    "    ]"
   ]
  },
  {
   "cell_type": "markdown",
   "metadata": {},
   "source": [
    "## Setting Parameters"
   ]
  },
  {
   "cell_type": "markdown",
   "metadata": {},
   "source": [
    "`Parameters` should be declard above your `Resources`:"
   ]
  },
  {
   "cell_type": "markdown",
   "metadata": {},
   "source": [
    "    Parameters:\n",
    "    # whatever you consider a changing value, put it as a parameter instead of hard-coding it into your script\n",
    "    Resources:"
   ]
  },
  {
   "cell_type": "markdown",
   "metadata": {},
   "source": [
    "And should follow the general format of "
   ]
  },
  {
   "cell_type": "markdown",
   "metadata": {},
   "source": [
    "    Parameters:\n",
    "      ParameterLogicalID:\n",
    "        Type: DataType\n",
    "        ParameterProperty: value"
   ]
  },
  {
   "cell_type": "markdown",
   "metadata": {},
   "source": [
    "## Default Parameters"
   ]
  },
  {
   "cell_type": "markdown",
   "metadata": {},
   "source": [
    "You can also provide default values for parameters in case one was not passed in. In this example, you can see that `VpcCIDR` has a default value of `10.0.0.0/16`"
   ]
  },
  {
   "cell_type": "markdown",
   "metadata": {},
   "source": [
    "    Parameters:\n",
    "        EnvironmentName:\n",
    "            Description: An Environment name that will be prefixed to resources\n",
    "            Type: String\n",
    "\n",
    "        VpcCIDR:\n",
    "            Description: Please enter the IP range (CIDR notation) for this\n",
    "            Type: String\n",
    "            Default: 10.0.0.0/16"
   ]
  },
  {
   "cell_type": "markdown",
   "metadata": {},
   "source": [
    "## Calling CloudFormation"
   ]
  },
  {
   "cell_type": "markdown",
   "metadata": {},
   "source": [
    "When calling AWS CloudFormation, you will pass in the name of the `.yaml` file as well as the name of the parameter file as parameters to the CloudFormation call"
   ]
  },
  {
   "cell_type": "markdown",
   "metadata": {},
   "source": [
    "    aws cloudformation create-stack --stack-name MyStack --template-body file://MyCloudformationScript.yml  --parameters file://MyEnvironmentVariables.json "
   ]
  },
  {
   "cell_type": "markdown",
   "metadata": {},
   "source": [
    "# Nat Gateways and Subnets"
   ]
  },
  {
   "cell_type": "markdown",
   "metadata": {},
   "source": [
    "## Adding Subnets"
   ]
  },
  {
   "cell_type": "markdown",
   "metadata": {},
   "source": [
    "To specify a `Subnet` for your `VPC` you use the following syntax"
   ]
  },
  {
   "cell_type": "markdown",
   "metadata": {},
   "source": [
    "    Type: AWS::EC2::Subnet\n",
    "    Properties: \n",
    "      AssignIpv6AddressOnCreation: Boolean\n",
    "      AvailabilityZone: String\n",
    "      CidrBlock: String\n",
    "      Ipv6CidrBlock: String\n",
    "      MapPublicIpOnLaunch: Boolean\n",
    "      Tags: \n",
    "        - Tag\n",
    "      VpcId: String"
   ]
  },
  {
   "cell_type": "markdown",
   "metadata": {},
   "source": [
    "Here is the actual setup of our 2 private `Subnets`"
   ]
  },
  {
   "cell_type": "code",
   "execution_count": null,
   "metadata": {},
   "outputs": [],
   "source": [
    "'''\n",
    "    PrivateSubnet1\n",
    "        Type: AWS::EC2::Subnet\n",
    "        Properties:\n",
    "            VpcId: !Ref VPC\n",
    "            AvailabilityZone: !Select [ 0, !GetAZ's '' ]\n",
    "            CirderBlock: !Ref PrivateSubnet1CIDR\n",
    "            MapPublicIpOnLaunch: false\n",
    "            Tags: \n",
    "                -   Key: Name\n",
    "                    Value: !Sub ${EnvironmentName} Private Subnet (AZ1)\n",
    "\n",
    "    PrivateSubnet2\n",
    "        Type: AWS::EC2::Subnet\n",
    "        Properties:\n",
    "            VpcId: !Ref VPC\n",
    "            AvailabilityZone: !Select [ 1, !GetAZ's '' ]\n",
    "            CirderBlock: !Ref PrivateSubnet1CIDR\n",
    "            MapPublicIpOnLaunch: false\n",
    "            Tags: \n",
    "                -   Key: Name\n",
    "                    Value: !Sub ${EnvironmentName} Private Subnet (AZ2)\n",
    "'''"
   ]
  },
  {
   "cell_type": "markdown",
   "metadata": {},
   "source": [
    "You can see the index being used from the returning `AvailabilityZone`'s array. Notice that our `subnets` are not sharing `AvailabilityZones`. We are keeping them seprated like we displayed in our diagram from the previous lesson:"
   ]
  },
  {
   "cell_type": "markdown",
   "metadata": {},
   "source": [
    "PrivateSubnet1: `AvailabilityZone: !Select [ 0, !GetAZ's '' ]`\n",
    "\n",
    "PrivateSubnet2: `AvailabilityZone: !Select [ 1, !GetAZ's '' ]`"
   ]
  },
  {
   "cell_type": "markdown",
   "metadata": {},
   "source": [
    "The code `!select [0, !GetAZs‘’]` calls the function GetAZ, which returns a list of availability zones, which are indexed 0, 1, etc."
   ]
  },
  {
   "cell_type": "markdown",
   "metadata": {},
   "source": [
    "- As a side node, you can name your subnets using tags, to keep track when you create many subnets"
   ]
  },
  {
   "cell_type": "markdown",
   "metadata": {},
   "source": [
    "## Adding a NAT Gateway"
   ]
  },
  {
   "cell_type": "markdown",
   "metadata": {},
   "source": [
    "You can use `NAT Gateways` in both your public and/or private `Subnets`. The following code is the basic syntac for declaring a `NAT Gateway`"
   ]
  },
  {
   "cell_type": "markdown",
   "metadata": {},
   "source": [
    "    Type: AWS::EC2::NatGateway\n",
    "    Properties: \n",
    "      AllocationId: String\n",
    "      SubnetId: String\n",
    "      Tags: \n",
    "        - Tag"
   ]
  },
  {
   "cell_type": "markdown",
   "metadata": {},
   "source": [
    "The following declarations are from the sample code shown in the above vide:"
   ]
  },
  {
   "cell_type": "markdown",
   "metadata": {},
   "source": [
    "    NatGateway1EIP:\n",
    "        Type: AWS::EC2::EIP\n",
    "        DependsOn: InternetGatewayAttachment\n",
    "        Properties: \n",
    "            Domain: vpc\n",
    "\n",
    "    NatGateway2EIP:\n",
    "        Type: AWS::EC2::EIP\n",
    "        DependsOn: InternetGatewayAttachment\n",
    "        Properties:\n",
    "            Domain: vpc\n",
    "\n",
    "    NatGateway1: \n",
    "        Type: AWS::EC2::NatGateway\n",
    "        Properties: \n",
    "            AllocationId: !GetAtt NatGateway1EIP.AllocationId\n",
    "            SubnetId: !Ref PublicSubnet1\n",
    "\n",
    "    NatGateway2: \n",
    "        Type: AWS::EC2::NatGateway\n",
    "        Properties:\n",
    "            AllocationId: !GetAtt NatGateway2EIP.AllocationId\n",
    "            SubnetId: !Ref PublicSubnet2"
   ]
  },
  {
   "cell_type": "markdown",
   "metadata": {},
   "source": [
    "The `EPI` in `AWS::EC2::EPI` stands for elastic IP. This will give us a known/constant IP adress to use instead of a disposable or ever-changing IP adress. This is important when you have applications that depend on a particular IP adress. "
   ]
  },
  {
   "cell_type": "markdown",
   "metadata": {},
   "source": [
    "`NateGateway1EPI` uses this type for that very reason"
   ]
  },
  {
   "cell_type": "markdown",
   "metadata": {},
   "source": [
    "     NatGateway1EIP:\n",
    "            Type: AWS::EC2::EIP\n",
    "            DependsOn: InternetGatewayAttachment\n",
    "            Properties: \n",
    "                Domain: vpc"
   ]
  },
  {
   "cell_type": "markdown",
   "metadata": {},
   "source": [
    "- Use the `DependsOn` attribute to protect your dependencies from being created without the proper requirements. In the scenario above the EPI allocation will only happen after the `InternetGatewayAttachement` has completed"
   ]
  },
  {
   "cell_type": "markdown",
   "metadata": {},
   "source": [
    "# Routing"
   ]
  },
  {
   "cell_type": "markdown",
   "metadata": {},
   "source": [
    "Routing is the action of applying routing rules to your network, in this case, to your VPC. "
   ]
  },
  {
   "cell_type": "markdown",
   "metadata": {},
   "source": [
    "Resources follow the _routing rules_ which defines what resource has access to communicate with another resource. It blocks traffic from resources that do not follow the routing rule"
   ]
  },
  {
   "cell_type": "markdown",
   "metadata": {},
   "source": [
    "## Route Tables"
   ]
  },
  {
   "cell_type": "markdown",
   "metadata": {},
   "source": [
    "We create `RouteTables` for `VPC`s so that we can add `Route`s that we later associate with `Subnet`s. The following is the syntax used to define a `RouteTable`"
   ]
  },
  {
   "cell_type": "markdown",
   "metadata": {},
   "source": [
    "    Type: AWS::EC2::RouteTable\n",
    "    Properties: \n",
    "      Tags: \n",
    "        - Tag\n",
    "      VpcId: String"
   ]
  },
  {
   "cell_type": "markdown",
   "metadata": {},
   "source": [
    "The only requires property for setting up a `RouteTable` is the `VpcId`. Here is an example table from the video lession"
   ]
  },
  {
   "cell_type": "code",
   "execution_count": null,
   "metadata": {},
   "outputs": [],
   "source": [
    "'''\n",
    "    PublicRouteTable:\n",
    "            Type: AWS::EC2::RouteTable\n",
    "            Properties: \n",
    "                VpcId: !Ref VPC\n",
    "                Tags: \n",
    "                    - Key: Name \n",
    "                      Value: !Sub ${EnvironmentName} Public Routes\n",
    "'''"
   ]
  },
  {
   "cell_type": "markdown",
   "metadata": {},
   "source": [
    "## Routes"
   ]
  },
  {
   "cell_type": "markdown",
   "metadata": {},
   "source": [
    "The following is the syntax used to set up our `Route`"
   ]
  },
  {
   "cell_type": "markdown",
   "metadata": {},
   "source": [
    "    Type: AWS::EC2::Route\n",
    "    Properties: \n",
    "      DestinationCidrBlock: String\n",
    "      DestinationIpv6CidrBlock: String\n",
    "      EgressOnlyInternetGatewayId: String\n",
    "      GatewayId: String\n",
    "      InstanceId: String\n",
    "      NatGatewayId: String\n",
    "      NetworkInterfaceId: String\n",
    "      RouteTableId: String\n",
    "      VpcPeeringConnectionId: String"
   ]
  },
  {
   "cell_type": "markdown",
   "metadata": {},
   "source": [
    "The `DestinationCidrBlock` property is used for destination matching and a `wildcard adress` (`0.0.0/0`) to reference all traffic. So in the following example, when we use the wildcard adress `0.0.0.0/0`, we are saying for any address that comes through this route, send it to the referenced `GatewayId`"
   ]
  },
  {
   "cell_type": "markdown",
   "metadata": {},
   "source": [
    "    DefaultPublicRoute: \n",
    "            Type: AWS::EC2::Route\n",
    "            DependsOn: InternetGatewayAttachment\n",
    "            Properties: \n",
    "                RouteTableId: !Ref PublicRouteTable\n",
    "                DestinationCidrBlock: 0.0.0.0/0\n",
    "                GatewayId: !Ref InternetGateway"
   ]
  },
  {
   "cell_type": "markdown",
   "metadata": {},
   "source": [
    "## SubnetRouteTable Association"
   ]
  },
  {
   "cell_type": "markdown",
   "metadata": {},
   "source": [
    "In order to associate `Subnet`s with our `Route Table` we will need to use a `SubnetRouteTableAssociation`. `SubnetRouteTableAssociation`s are defined using the following syntax"
   ]
  },
  {
   "cell_type": "markdown",
   "metadata": {},
   "source": [
    "    Type: AWS::EC2::SubnetRouteTableAssociation\n",
    "    Properties: \n",
    "      RouteTableId: String\n",
    "      SubnetId: String"
   ]
  },
  {
   "cell_type": "markdown",
   "metadata": {},
   "source": [
    "This only takes two properties, which are the id's used for our `RouteTable` and out `Subnet`. You can see refrences used in the example from our video lesson above"
   ]
  },
  {
   "cell_type": "markdown",
   "metadata": {},
   "source": [
    "    PublicSubnet1RouteTableAssociation:\n",
    "            Type: AWS::EC2::SubnetRouteTableAssociation\n",
    "            Properties:\n",
    "                RouteTableId: !Ref PublicRouteTable\n",
    "                SubnetId: !Ref PublicSubnet1"
   ]
  },
  {
   "cell_type": "markdown",
   "metadata": {},
   "source": [
    "- `Routes` should be defined starting with the most specific rule and transitioning to the least specific rule"
   ]
  },
  {
   "cell_type": "code",
   "execution_count": null,
   "metadata": {},
   "outputs": [],
   "source": [
    "'''\n",
    "    PublicRouteTable:\n",
    "            Type: AWS::EC2::RouteTable\n",
    "            Properties: \n",
    "                VpcId: !Ref VPC\n",
    "                Tags: \n",
    "                    - Key: Name \n",
    "                      Value: !Sub ${EnvironmentName} Public Routes\n",
    "\n",
    "        DefaultPublicRoute: \n",
    "            Type: AWS::EC2::Route\n",
    "            DependsOn: InternetGatewayAttachment\n",
    "            Properties: \n",
    "                RouteTableId: !Ref PublicRouteTable\n",
    "                DestinationCidrBlock: 0.0.0.0/0\n",
    "                GatewayId: !Ref InternetGateway\n",
    "\n",
    "        PublicSubnet1RouteTableAssociation:\n",
    "            Type: AWS::EC2::SubnetRouteTableAssociation\n",
    "            Properties:\n",
    "                RouteTableId: !Ref PublicRouteTable\n",
    "                SubnetId: !Ref PublicSubnet1\n",
    "\n",
    "        PublicSubnet2RouteTableAssociation:\n",
    "            Type: AWS::EC2::SubnetRouteTableAssociation\n",
    "            Properties:\n",
    "                RouteTableId: !Ref PublicRouteTable\n",
    "                SubnetId: !Ref PublicSubnet2\n",
    "\n",
    "\n",
    "        PrivateRouteTable1:\n",
    "            Type: AWS::EC2::RouteTable\n",
    "            Properties: \n",
    "                VpcId: !Ref VPC\n",
    "                Tags: \n",
    "                    - Key: Name \n",
    "                      Value: !Sub ${EnvironmentName} Private Routes (AZ1)\n",
    "\n",
    "        DefaultPrivateRoute1:\n",
    "            Type: AWS::EC2::Route\n",
    "            Properties:\n",
    "                RouteTableId: !Ref PrivateRouteTable1\n",
    "                DestinationCidrBlock: 0.0.0.0/0\n",
    "                NatGatewayId: !Ref NatGateway1\n",
    "\n",
    "        PrivateSubnet1RouteTableAssociation:\n",
    "            Type: AWS::EC2::SubnetRouteTableAssociation\n",
    "            Properties:\n",
    "                RouteTableId: !Ref PrivateRouteTable1\n",
    "                SubnetId: !Ref PrivateSubnet1\n",
    "\n",
    "        PrivateRouteTable2:\n",
    "            Type: AWS::EC2::RouteTable\n",
    "            Properties: \n",
    "                VpcId: !Ref VPC\n",
    "                Tags: \n",
    "                    - Key: Name \n",
    "                      Value: !Sub ${EnvironmentName} Private Routes (AZ2)\n",
    "\n",
    "        DefaultPrivateRoute2:\n",
    "            Type: AWS::EC2::Route\n",
    "            Properties:\n",
    "                RouteTableId: !Ref PrivateRouteTable2\n",
    "                DestinationCidrBlock: 0.0.0.0/0\n",
    "                NatGatewayId: !Ref NatGateway2\n",
    "\n",
    "        PrivateSubnet2RouteTableAssociation:\n",
    "            Type: AWS::EC2::SubnetRouteTableAssociation\n",
    "            Properties:\n",
    "                RouteTableId: !Ref PrivateRouteTable2\n",
    "                SubnetId: !Ref PrivateSubnet2\n",
    "'''"
   ]
  },
  {
   "cell_type": "markdown",
   "metadata": {},
   "source": [
    "# Output"
   ]
  },
  {
   "cell_type": "markdown",
   "metadata": {},
   "source": [
    "Basically, there are IP adresses and other information about the infrastructure you created. "
   ]
  },
  {
   "cell_type": "markdown",
   "metadata": {},
   "source": [
    "What if someone else wants to use that infomation? Well you can store all that stuff in variables under the output ta"
   ]
  },
  {
   "cell_type": "markdown",
   "metadata": {},
   "source": [
    "These are like return values for the template. We can use them to make it easy to find some of the resources that CloudFormation will create for us"
   ]
  },
  {
   "cell_type": "markdown",
   "metadata": {},
   "source": [
    "Outputs Benefit:\n",
    "- we can import the outputed values into another stack\n",
    "- return in a response\n",
    "- view in AWS console"
   ]
  },
  {
   "cell_type": "markdown",
   "metadata": {},
   "source": [
    "To declare an `Output` use the following syntax:"
   ]
  },
  {
   "cell_type": "markdown",
   "metadata": {},
   "source": [
    "    Outputs:\n",
    "      Logical ID:\n",
    "        Description: Information about the value\n",
    "        Value: Value to return\n",
    "        Export:\n",
    "          Name: Value to export"
   ]
  },
  {
   "cell_type": "markdown",
   "metadata": {},
   "source": [
    "The `Value` is required but the `Name` is optional. In the following example, we are returning the id of our `VPC` as well as our Enviroment's Name"
   ]
  },
  {
   "cell_type": "code",
   "execution_count": null,
   "metadata": {},
   "outputs": [],
   "source": [
    "'''\n",
    "    VPC: \n",
    "            Description: A reference to the created VPC\n",
    "            Value: !Ref VPC\n",
    "            Export:\n",
    "              Name: !Sub ${EnvironmentName}-VPCID\n",
    "'''"
   ]
  },
  {
   "cell_type": "markdown",
   "metadata": {},
   "source": [
    "## Join  Function"
   ]
  },
  {
   "cell_type": "markdown",
   "metadata": {},
   "source": [
    "You can use the `join` function to combine a group of `values`. The syntax requires you provide a `delimiter` and a list of values you want to append. `!Join` will join several strings and values, put them together and output that value"
   ]
  },
  {
   "cell_type": "markdown",
   "metadata": {},
   "source": [
    "`Join` function syntax"
   ]
  },
  {
   "cell_type": "markdown",
   "metadata": {},
   "source": [
    "    Fn::Join: [ delimiter, [ comma-delimited list of values ] ]"
   ]
  },
  {
   "cell_type": "markdown",
   "metadata": {},
   "source": [
    "In the following example we are using `!Join` to combine our subnets before returning their values"
   ]
  },
  {
   "cell_type": "code",
   "execution_count": null,
   "metadata": {},
   "outputs": [],
   "source": [
    "'''\n",
    "PublicSubnets:\n",
    "            Description: A list of the public subnets\n",
    "            Value: !Join [ \",\", [ !Ref PublicSubnet1, !Ref PublicSubnet2 ]]\n",
    "            Export:\n",
    "              Name: !Sub ${EnvironmentName}-PUB-NETS\n",
    "'''"
   ]
  },
  {
   "cell_type": "markdown",
   "metadata": {},
   "source": [
    "## subsitutation"
   ]
  },
  {
   "cell_type": "markdown",
   "metadata": {},
   "source": [
    "`!Sub` stands for subsitutation and will sub it with whatever is in the `{}`\n",
    "\n"
   ]
  },
  {
   "cell_type": "code",
   "execution_count": null,
   "metadata": {},
   "outputs": [],
   "source": [
    "'''\n",
    "    - !sub ${EnviromentName}-VPCID\n",
    "'''"
   ]
  }
 ],
 "metadata": {
  "kernelspec": {
   "display_name": "Python 3",
   "language": "python",
   "name": "python3"
  },
  "language_info": {
   "codemirror_mode": {
    "name": "ipython",
    "version": 3
   },
   "file_extension": ".py",
   "mimetype": "text/x-python",
   "name": "python",
   "nbconvert_exporter": "python",
   "pygments_lexer": "ipython3",
   "version": "3.8.3"
  }
 },
 "nbformat": 4,
 "nbformat_minor": 4
}
