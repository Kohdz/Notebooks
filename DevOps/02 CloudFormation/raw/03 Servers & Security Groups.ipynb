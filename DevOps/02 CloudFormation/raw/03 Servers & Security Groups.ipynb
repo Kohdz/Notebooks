{
 "cells": [
  {
   "cell_type": "markdown",
   "metadata": {},
   "source": [
    "# Security Groups"
   ]
  },
  {
   "cell_type": "markdown",
   "metadata": {},
   "source": [
    "The following is the syntax required to create a `SecurityGroup`:"
   ]
  },
  {
   "cell_type": "markdown",
   "metadata": {},
   "source": [
    "Security groups are assoicated with specific resources and not tied to the subnets"
   ]
  },
  {
   "cell_type": "markdown",
   "metadata": {},
   "source": [
    "    Type: AWS::EC2::SecurityGroup\n",
    "    Properties: \n",
    "      GroupDescription: String\n",
    "      GroupName: String\n",
    "      SecurityGroupEgress: \n",
    "        - Egress\n",
    "      SecurityGroupIngress: \n",
    "        - Ingress\n",
    "      Tags: \n",
    "        - Tag\n",
    "      VpcId: String"
   ]
  },
  {
   "cell_type": "markdown",
   "metadata": {},
   "source": [
    "Although they are not required, the `SecurityGroupEgress` and `SecurityGroupIngress` property rules are the most critical to the `SecurityGroup` as it defines where the traffic will go. While `SecurityGroupEgress` defines outbound traffic, `SecurityGroupIngress` defines the inbound traffic"
   ]
  },
  {
   "cell_type": "markdown",
   "metadata": {},
   "source": [
    "## Ingress Rules and Egress Rules"
   ]
  },
  {
   "cell_type": "markdown",
   "metadata": {},
   "source": [
    "- Ingress rules are for inbound traffic, and egress rules are for the outbound traffic\n",
    "- Ingress rules restrict or allow traffic trying to reach our resources on specific ports\n",
    "- Egress rules restrict or allow traffic originating from our server --typically we are ok allowing all outbound traffic without restrictions as this doesn't pose a risk for a security breach"
   ]
  },
  {
   "cell_type": "markdown",
   "metadata": {},
   "source": [
    "## Traffic is blocked by default"
   ]
  },
  {
   "cell_type": "markdown",
   "metadata": {},
   "source": [
    "- In cloud traffic is completely blocked, so you have to explicitly open ports to allow traffic in and out. This is a general networking concept"
   ]
  },
  {
   "cell_type": "markdown",
   "metadata": {},
   "source": [
    "## Limit inbound traffic for security"
   ]
  },
  {
   "cell_type": "markdown",
   "metadata": {},
   "source": [
    "- For ingress rules, we want to limit inbound traffic, for security, to a single port or just a handful of ports required by the application we are running\n",
    "- If it's a public web server, for example, it will require `port 80` open to the world (World = `0.0.0.0/0`)\n",
    "- Should you need the SSH port open, restrict this port only to specify IP adress\n",
    "- should you need the SSH port open, restrict this port only to your specific IP adress"
   ]
  },
  {
   "cell_type": "markdown",
   "metadata": {},
   "source": [
    "## For outbound traffic, give full access"
   ]
  },
  {
   "cell_type": "markdown",
   "metadata": {},
   "source": [
    "For egress rules, we want to give this resource full access to the internet so we give egress access to all ports, from `0` all the way to `65535`"
   ]
  },
  {
   "cell_type": "markdown",
   "metadata": {},
   "source": [
    "# Creating AutoScaling Group"
   ]
  },
  {
   "cell_type": "markdown",
   "metadata": {},
   "source": [
    "The autoscaling group must be given a launch configuration and a scaling policy"
   ]
  },
  {
   "cell_type": "markdown",
   "metadata": {},
   "source": [
    "The following is the syntax used for `AutoScaling` `LaunchConfiguration`:"
   ]
  },
  {
   "cell_type": "markdown",
   "metadata": {},
   "source": [
    "    Type: AWS::AutoScaling::LaunchConfiguration\n",
    "    Properties: \n",
    "      AssociatePublicIpAddress: Boolean\n",
    "      BlockDeviceMappings: \n",
    "        - BlockDeviceMapping\n",
    "      ClassicLinkVPCId: String\n",
    "      ClassicLinkVPCSecurityGroups: \n",
    "        - String\n",
    "      EbsOptimized: Boolean\n",
    "      IamInstanceProfile: String\n",
    "      ImageId: String\n",
    "      InstanceId: String\n",
    "      InstanceMonitoring: Boolean\n",
    "      InstanceType: String\n",
    "      KernelId: String\n",
    "      KeyName: String\n",
    "      LaunchConfigurationName: String\n",
    "      PlacementTenancy: String\n",
    "      RamDiskId: String\n",
    "      SecurityGroups: \n",
    "        - String\n",
    "      SpotPrice: String\n",
    "      UserData: String"
   ]
  },
  {
   "cell_type": "markdown",
   "metadata": {},
   "source": [
    "The `ImageId` and `Instance Type` are the only required properties for a `LaunchConfiguration`. Howerver, there are many useful properties you will likely want to include"
   ]
  },
  {
   "cell_type": "markdown",
   "metadata": {},
   "source": [
    "In the example below we have done the following:\n",
    "- Specified 10gbs for our `VolumeSize`\n",
    "- Referenced the previously defined `WebServerSecGroup` for our `SecurityGroup`\n",
    "- Set our `InstanceType` to `t3.medium` for our EC2 Instance"
   ]
  },
  {
   "cell_type": "markdown",
   "metadata": {},
   "source": [
    "    WebAppLaunchConfig:\n",
    "        Type: AWS::AutoScaling::LaunchConfiguration\n",
    "        Properties:\n",
    "          UserData:\n",
    "            Fn::Base64: !Sub |\n",
    "              #!/bin/bash\n",
    "              apt-get update -y\n",
    "              apt-get install unzip awscli -y\n",
    "              apt-get install apache2 -y\n",
    "              systemctl start apache2.service\n",
    "              cd /var/www/html\n",
    "              aws s3 cp s3://udacity-demo-1/udacity.zip .\n",
    "              unzip -o udacity.zip\n",
    "          ImageId: ami-005bdb005fb00e791\n",
    "          IamInstanceProfile: !Ref ProfileWithRolesForOurApp\n",
    "          SecurityGroups:\n",
    "          - Ref: WebServerSecGroup\n",
    "          InstanceType: t3.small\n",
    "          BlockDeviceMappings:\n",
    "          - DeviceName: \"/dev/sdk\"\n",
    "            Ebs:\n",
    "              VolumeSize: '10'"
   ]
  },
  {
   "cell_type": "markdown",
   "metadata": {},
   "source": [
    "The following is the required syntax for `TargetGroup`"
   ]
  },
  {
   "cell_type": "markdown",
   "metadata": {},
   "source": [
    "    Type: AWS::ElasticLoadBalancingV2::TargetGroup\n",
    "    Properties: \n",
    "      HealthCheckEnabled: Boolean\n",
    "      HealthCheckIntervalSeconds: Integer\n",
    "      HealthCheckPath: String\n",
    "      HealthCheckPort: String\n",
    "      HealthCheckProtocol: String\n",
    "      HealthCheckTimeoutSeconds: Integer\n",
    "      HealthyThresholdCount: Integer\n",
    "      Matcher: \n",
    "        Matcher\n",
    "      Name: String\n",
    "      Port: Integer\n",
    "      Protocol: String\n",
    "      Tags: \n",
    "        - Tag\n",
    "      TargetGroupAttributes: \n",
    "        - TargetGroupAttribute\n",
    "      TargetType: String\n",
    "      Targets: \n",
    "        - TargetDescription\n",
    "      UnhealthyThresholdCount: Integer\n",
    "      VpcId: String"
   ]
  },
  {
   "cell_type": "markdown",
   "metadata": {},
   "source": [
    "`Health Checks` are the requests your `Application Load Balancer` sends to its registered targets. These periodic requests test the status of these targets. You can see us defining our `Health Check` properties in the example below:"
   ]
  },
  {
   "cell_type": "markdown",
   "metadata": {},
   "source": [
    "     WebAppTargetGroup:\n",
    "        Type: AWS::ElasticLoadBalancingV2::TargetGroup\n",
    "        Properties:\n",
    "          HealthCheckIntervalSeconds: 35\n",
    "          HealthCheckPath: /\n",
    "          HealthCheckProtocol: HTTP\n",
    "          HealthCheckTimeoutSeconds: 30\n",
    "          HealthyThresholdCount: 2\n",
    "          Port: 80\n",
    "          Protocol: HTTP\n",
    "          UnhealthyThresholdCount: 5\n",
    "          VpcId: \n",
    "            Fn::ImportValue:\n",
    "              Fn::Sub: \"${EnvironmentName}-VPCID\""
   ]
  },
  {
   "cell_type": "markdown",
   "metadata": {},
   "source": [
    "In the above example we specify the following:\n",
    "- The port where our targets receive traffic - `Port: 80`\n",
    "- The protocol the load balancer uses when performing health checks on targets - `HealthCheckProtocol: HTTP`\n",
    "- The time it takes to determine a non-responsive target is unhealthy- `HealthCheckingIntervalSeconds: 35`\n",
    "- The number of health/unhealthy checks required to change the health status - `HealthyThresholdCount: 2` `UnhealthyThreshholdCount: 5`"
   ]
  },
  {
   "cell_type": "markdown",
   "metadata": {},
   "source": [
    "# Security Group Error"
   ]
  },
  {
   "cell_type": "markdown",
   "metadata": {},
   "source": [
    "For the load balancer, we basically have port `80` as both inbound and outbound"
   ]
  },
  {
   "cell_type": "markdown",
   "metadata": {},
   "source": [
    "Thus your basically limiting the load balancer to only be able to talk with `HTTP` "
   ]
  },
  {
   "cell_type": "markdown",
   "metadata": {},
   "source": [
    "That is why we add port `8080` as shown below"
   ]
  },
  {
   "cell_type": "markdown",
   "metadata": {},
   "source": [
    "![](images/09_networkII/07.png)"
   ]
  }
 ],
 "metadata": {
  "kernelspec": {
   "display_name": "Python 3",
   "language": "python",
   "name": "python3"
  },
  "language_info": {
   "codemirror_mode": {
    "name": "ipython",
    "version": 3
   },
   "file_extension": ".py",
   "mimetype": "text/x-python",
   "name": "python",
   "nbconvert_exporter": "python",
   "pygments_lexer": "ipython3",
   "version": "3.8.3"
  }
 },
 "nbformat": 4,
 "nbformat_minor": 4
}
