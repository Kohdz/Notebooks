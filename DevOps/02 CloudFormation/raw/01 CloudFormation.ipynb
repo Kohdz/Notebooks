{
 "cells": [
  {
   "cell_type": "markdown",
   "metadata": {},
   "source": [
    "# Cloud Formations"
   ]
  },
  {
   "cell_type": "markdown",
   "metadata": {},
   "source": [
    "Cloud formation lets you create and update the things you have in AWS without having to click around on the console or write fragile scripts"
   ]
  },
  {
   "cell_type": "markdown",
   "metadata": {},
   "source": [
    "With CloudFormation, you define your AWS resources as a YAML script. Then you point CloudFormation to your AWS account, and it creates all the resources you defined. "
   ]
  },
  {
   "cell_type": "markdown",
   "metadata": {},
   "source": [
    "If you make a change that has already been made, it wont don anything. If you update a part, it will only update that part"
   ]
  },
  {
   "cell_type": "markdown",
   "metadata": {},
   "source": [
    "Rule of thumb is to allow CloudFormation to deal with all the AWS things that are either static or change very rarely; things including"
   ]
  },
  {
   "cell_type": "markdown",
   "metadata": {},
   "source": [
    "- VPC configuration\n",
    "- security groups\n",
    "- load balancers\n",
    "- deployment pipelines\n",
    "- IAM roles"
   ]
  },
  {
   "cell_type": "markdown",
   "metadata": {},
   "source": [
    "Not for CloudFormation\n",
    "- DynamoDB tables\n",
    "- Kinesis streams\n",
    "- Auto Scaling settings\n",
    "- S3 buckets"
   ]
  },
  {
   "cell_type": "markdown",
   "metadata": {},
   "source": [
    "# Diagrams"
   ]
  },
  {
   "cell_type": "markdown",
   "metadata": {},
   "source": [
    "When you do not actually have the physical serve, as is the case in cloud computing, you have to make diagrams"
   ]
  },
  {
   "cell_type": "markdown",
   "metadata": {},
   "source": [
    "When your creating the infrastucture, you cant just start working on it, you need to show your team, etc."
   ]
  },
  {
   "cell_type": "markdown",
   "metadata": {},
   "source": [
    "Implementing a diagram means to take it and implement it into a script and deploy it into production"
   ]
  },
  {
   "cell_type": "markdown",
   "metadata": {},
   "source": [
    "# Lucid Charts"
   ]
  },
  {
   "cell_type": "markdown",
   "metadata": {},
   "source": [
    "A good diagraming tool program, where you can make a free account"
   ]
  },
  {
   "cell_type": "markdown",
   "metadata": {},
   "source": [
    "## AWS Container"
   ]
  },
  {
   "cell_type": "markdown",
   "metadata": {},
   "source": [
    "The first item is an AWS container, it just captures everything in your account"
   ]
  },
  {
   "cell_type": "markdown",
   "metadata": {},
   "source": [
    "- Users are not inside of your AWS account"
   ]
  },
  {
   "cell_type": "markdown",
   "metadata": {},
   "source": [
    "## Avalibility Zones"
   ]
  },
  {
   "cell_type": "markdown",
   "metadata": {},
   "source": [
    "- the ability zone is where your data centers are\n",
    "- never have only one data center because it can be a single point of faliure\n",
    "- when they say design diagram with high avaliablity means to have many data centers"
   ]
  },
  {
   "cell_type": "markdown",
   "metadata": {},
   "source": [
    "# Virtual Private Cloud "
   ]
  },
  {
   "cell_type": "markdown",
   "metadata": {},
   "source": [
    "A virtual private cloud is a pool of networked cloud resources. It can span more than one avability zone"
   ]
  },
  {
   "cell_type": "markdown",
   "metadata": {},
   "source": [
    "![](images/08_cloud/01.png)"
   ]
  },
  {
   "cell_type": "markdown",
   "metadata": {},
   "source": [
    "The main attribute of the VPC is to block a set of IP adresses or the adress space. This implies the number of avaliable IP adresses that you will have to deploy resources within this private network such as window server, linux servers, databases."
   ]
  },
  {
   "cell_type": "markdown",
   "metadata": {},
   "source": [
    "Each number in the $ 10.0.0/16 $ is called an octed because each number has 8 bits in binary"
   ]
  },
  {
   "cell_type": "markdown",
   "metadata": {},
   "source": [
    "$ 10.0.0/16 $ means reserve the top 16 bits, two octets or first two numbers ot be the fixed part of the network"
   ]
  },
  {
   "cell_type": "markdown",
   "metadata": {},
   "source": [
    "This is same as how your area code for the phone number $ 718 $ is the same for large group of phone numbers"
   ]
  },
  {
   "cell_type": "markdown",
   "metadata": {},
   "source": [
    "![](images/08_cloud/02.png)"
   ]
  },
  {
   "cell_type": "markdown",
   "metadata": {},
   "source": [
    "This leaves you with the last two mumbers, two octives, or 16 bits avaliable for your IP adreses"
   ]
  },
  {
   "cell_type": "markdown",
   "metadata": {},
   "source": [
    "## Subnets"
   ]
  },
  {
   "cell_type": "markdown",
   "metadata": {},
   "source": [
    "- create sepreation between resources\n",
    "- Block or Allow access to/form groups of resources\n",
    "- provide services to a specified set of resources"
   ]
  },
  {
   "cell_type": "markdown",
   "metadata": {},
   "source": [
    "![](images/08_cloud/03.png)"
   ]
  },
  {
   "cell_type": "markdown",
   "metadata": {},
   "source": [
    "If our VPC is $ 10.0.0.0/16 $, we could create a subnet called $ 10.0.1.0/24 $. This means that that the the top three bits, totaling $ 24 $ bits are constant. This is with $ 8 $ bits for adresses or $ 255 $ avaliable adresses"
   ]
  },
  {
   "cell_type": "markdown",
   "metadata": {},
   "source": [
    "The 255 subnets can be created by doing $ 10.0.1.1 $ or $ 10.0.1.2 $ or $ 10.0.1.255 $"
   ]
  },
  {
   "cell_type": "markdown",
   "metadata": {},
   "source": [
    "The goal of subnets is to use the IP adresses as our key for routing traffic"
   ]
  },
  {
   "cell_type": "markdown",
   "metadata": {},
   "source": [
    "So for example your database, you want that in a private subnet because you dont want to expose traffic to it"
   ]
  },
  {
   "cell_type": "markdown",
   "metadata": {},
   "source": [
    "## Subnet Key Points"
   ]
  },
  {
   "cell_type": "markdown",
   "metadata": {},
   "source": [
    "- A subnet is a subset of the overall VPC network and it only exists in a single availability zone, unlike its parent network the VPC\n",
    "- A subnet contains resources and can be assigned access rights that apply to all resources within that subnet\n",
    "- Subnets can be public or private. Public subnets are accessible to external users. Private subnets are only accessed internally by other resources within your cloud container"
   ]
  },
  {
   "cell_type": "markdown",
   "metadata": {},
   "source": [
    "## Key Points"
   ]
  },
  {
   "cell_type": "markdown",
   "metadata": {},
   "source": [
    "- VPCs provide you with private IP adresses for your networking resources\n",
    "- Subnets are smaller subnets of your available IP adress space\n",
    "- The $ /00 $ at the end is the number of bits, from left to right that are fixed\n",
    "- Subnets help with routing and services to specific groups of resources\n",
    "- Create subnets and VPCs with future expansion in mind"
   ]
  },
  {
   "cell_type": "markdown",
   "metadata": {},
   "source": [
    "## Use IP adresses for routing traffic"
   ]
  },
  {
   "cell_type": "markdown",
   "metadata": {},
   "source": [
    "- Use IP adresses as the \"keys\" for routing traffic. We can route traffic to stay within the VPC, or within a prticular subnet, for security reasons\n",
    "- For example, a database or any sensitive data will be placed in a private subnet. A public server, like a web server, can be placed in a public subnet. Routing rules applied to a subnet allow us to define access to all resources placed inside the subnet"
   ]
  },
  {
   "cell_type": "markdown",
   "metadata": {},
   "source": [
    "## Internet"
   ]
  },
  {
   "cell_type": "markdown",
   "metadata": {},
   "source": [
    "If you have a VPC, you need to add an internet gateway"
   ]
  },
  {
   "cell_type": "markdown",
   "metadata": {},
   "source": [
    "If you had only an internal facing tool that you dont want to connect to the internet, you would use a direct connection or a VPN"
   ]
  },
  {
   "cell_type": "markdown",
   "metadata": {},
   "source": [
    "The direct connection is basically a physicall line from you to the server"
   ]
  },
  {
   "cell_type": "markdown",
   "metadata": {},
   "source": [
    "### Network Adress Translation (NAT)"
   ]
  },
  {
   "cell_type": "markdown",
   "metadata": {},
   "source": [
    "Network Adress Translation (NAT) Gateway provides outbound-ony internet gateway for private services to access the internet."
   ]
  },
  {
   "cell_type": "markdown",
   "metadata": {},
   "source": [
    "This keeps the private service protected from inbound connections, but allows it to connect to the internet in order to perform functions such as downloading software updates"
   ]
  },
  {
   "cell_type": "markdown",
   "metadata": {},
   "source": [
    "The NAT gateway serves as an intermediary to take a private resource request, connect to the internet, and then relay the response back to the private resource without exposing that private resource's IP adress to the public"
   ]
  },
  {
   "cell_type": "markdown",
   "metadata": {},
   "source": [
    "Place NAT gateways inside the public subnets and not the private subnets. NAT gateways need to be in the public subnet so that they can communicate with the public internet, and handle requests from resources that are in a private subnet"
   ]
  },
  {
   "cell_type": "markdown",
   "metadata": {},
   "source": [
    "Basically, your private subnets cannot conenct directly to the internet, thus they need to use a NAT to connect for them. They then simply use the NAT"
   ]
  },
  {
   "cell_type": "markdown",
   "metadata": {},
   "source": [
    "# Autoscaling Groups"
   ]
  },
  {
   "cell_type": "markdown",
   "metadata": {},
   "source": [
    "An autoscaling group manages multiple instances of the same resource (for example, servers), based on need."
   ]
  },
  {
   "cell_type": "markdown",
   "metadata": {},
   "source": [
    "For instance, when there is a lot of internet traffic to a site, the autoscaling group can start more servers and vice versa"
   ]
  },
  {
   "cell_type": "markdown",
   "metadata": {},
   "source": [
    "Autoscaling:\n",
    "- Need more than one subnet\n",
    "- It can be used for both high availability and elasticity\n",
    "- Elasticity is the ability to expand and contract your resources to meet demand"
   ]
  },
  {
   "cell_type": "markdown",
   "metadata": {},
   "source": [
    "## Best Pratices"
   ]
  },
  {
   "cell_type": "markdown",
   "metadata": {},
   "source": [
    "- It is reccommended that an autoscaling group spans more than one availability zone, for reliabilit \n",
    "- If we set the autoscaling group to run one resource, it will run that one resource in one of the availability zones\n",
    "- If there is a failure of that resource, the autoscaling group will shut it down in that availability zone and start that same resource in the other availability zone\n"
   ]
  },
  {
   "cell_type": "markdown",
   "metadata": {},
   "source": [
    "# Load Balancers"
   ]
  },
  {
   "cell_type": "markdown",
   "metadata": {},
   "source": [
    "- A service designed to distribute work requests meant for a target group\n",
    "- A target group is a collection of servers providing a common service\n",
    "- As requests come in, the load balancer will spread the requests evenly across its target group\n",
    "- load balancer can be combined with an autoscaling group\n",
    "- load balancer can perform health checks\n",
    "- without load balancers there would have to be two different urls to access each EC2 instance"
   ]
  },
  {
   "cell_type": "markdown",
   "metadata": {},
   "source": [
    "![](images/08_cloud/04.png)"
   ]
  },
  {
   "cell_type": "markdown",
   "metadata": {},
   "source": [
    "# Security Group"
   ]
  },
  {
   "cell_type": "markdown",
   "metadata": {},
   "source": [
    "- Security groups manage traffic at the server level (the resource level)\n",
    "- Security groups arent for managing higher level groups such as subnets, VPC or user accounts\n",
    "- The same security group can be assigned to multople resources that require the same security access settings defined by the security group"
   ]
  },
  {
   "cell_type": "markdown",
   "metadata": {},
   "source": [
    "# Routing Table"
   ]
  },
  {
   "cell_type": "markdown",
   "metadata": {},
   "source": [
    "- Route tables allow the routing of traffic to or away from your network\n",
    "- A set of entries or rules associated with one or more of your subnets inside of your VPC\n",
    "- These rules allow or deny traffic to/from the address ranges that you can specify\n",
    "- Rules can be as open as the entire world or restricted to a single IP adress\n"
   ]
  },
  {
   "cell_type": "markdown",
   "metadata": {},
   "source": [
    "![](images/08_cloud/05.png)"
   ]
  },
  {
   "cell_type": "markdown",
   "metadata": {},
   "source": [
    "- What makes the route of the private network private, is that its target is the `vgw-id` which poitns to the virtual private gateway\n",
    "- note that the `local` on the tables means that the same subnets in the VPN can talk to each other\n",
    "- the `igw-id` refers to the internet gateway\n",
    "- follow the pink and green lines"
   ]
  },
  {
   "cell_type": "markdown",
   "metadata": {},
   "source": [
    "# S3"
   ]
  },
  {
   "cell_type": "markdown",
   "metadata": {},
   "source": [
    "- An S3 bucket is a public service for users to upload or download files\n",
    "- Place the S3 service outside of your VPC\n",
    "- This is because S3 is an service and thus you require internet traffic to reach"
   ]
  },
  {
   "cell_type": "markdown",
   "metadata": {},
   "source": [
    "![](images/08_cloud/06.png)"
   ]
  }
 ],
 "metadata": {
  "kernelspec": {
   "display_name": "Python 3",
   "language": "python",
   "name": "python3"
  },
  "language_info": {
   "codemirror_mode": {
    "name": "ipython",
    "version": 3
   },
   "file_extension": ".py",
   "mimetype": "text/x-python",
   "name": "python",
   "nbconvert_exporter": "python",
   "pygments_lexer": "ipython3",
   "version": "3.8.3"
  }
 },
 "nbformat": 4,
 "nbformat_minor": 4
}
