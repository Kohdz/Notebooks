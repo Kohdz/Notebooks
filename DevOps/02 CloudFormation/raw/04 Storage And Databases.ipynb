{
 "cells": [
  {
   "cell_type": "markdown",
   "metadata": {},
   "source": [
    "# Presisting Data"
   ]
  },
  {
   "cell_type": "markdown",
   "metadata": {},
   "source": [
    "- Most applications need their data to persist and not be lost, which requires a database\n",
    "- We don't want a database to be a single point of failure, so we'll use resources that are designed for reliability. For example, RDS for the database, and S3 for the filestore\n",
    "- Relational Database Service (RDS): AWS service for creating databases"
   ]
  },
  {
   "cell_type": "markdown",
   "metadata": {},
   "source": [
    "## Choosing A Database"
   ]
  },
  {
   "cell_type": "markdown",
   "metadata": {},
   "source": [
    "- AWS Aurora and MySQL have no additional licensing costs\n",
    "- Microsoft SQL servers will have additional licensing costs"
   ]
  },
  {
   "cell_type": "markdown",
   "metadata": {},
   "source": [
    "## Mult-AZ Deployments"
   ]
  },
  {
   "cell_type": "markdown",
   "metadata": {},
   "source": [
    "- If you are using a database in a development enviorment, you can save money by using a single availability zone\n",
    "- For production databases, use multiple AZs for reliability. If one AZ fails, the other one will still be available"
   ]
  },
  {
   "cell_type": "markdown",
   "metadata": {},
   "source": [
    "## A Single RDS Server Can Host Multiple Databases"
   ]
  },
  {
   "cell_type": "markdown",
   "metadata": {},
   "source": [
    "- Note that you can use a single RDS databases that hosts multiple applications, each with different logins and users for those applications\n",
    "- In other words, you don't need to create a seprate RDS service for each applications"
   ]
  },
  {
   "cell_type": "markdown",
   "metadata": {},
   "source": [
    "## Configure Network and Security"
   ]
  },
  {
   "cell_type": "markdown",
   "metadata": {},
   "source": [
    "- Subnet groups are needed for deploying in multiple AZs\n",
    "- We want to place our RDS in more than one Availability Zone (data center). We can place the RDS in two AZs to eliminate single point of failure and have high availabiltiy\n",
    "- We created 4 subnets (2 private and 2 public), so the RDS can potentially be duplicated in all four subnets\n",
    "- Howerver, keep in mind that we usually perfer to put databases in a private subnet, for security. There may be use cases where you put a database in a public subnet, but generally put it in the private subnets"
   ]
  },
  {
   "cell_type": "markdown",
   "metadata": {},
   "source": [
    "## Usually, dont make a database public"
   ]
  },
  {
   "cell_type": "markdown",
   "metadata": {},
   "source": [
    "- We'll choose \"No\" for public accessibility\" to keep a database private\n",
    "- We'd normally use a private IP adress to access a database"
   ]
  },
  {
   "cell_type": "markdown",
   "metadata": {},
   "source": [
    "## AZ"
   ]
  },
  {
   "cell_type": "markdown",
   "metadata": {},
   "source": [
    "- Let AWS choose the availability zone. Choose \"no preference\""
   ]
  },
  {
   "cell_type": "markdown",
   "metadata": {},
   "source": [
    "## VPC Security Groups"
   ]
  },
  {
   "cell_type": "markdown",
   "metadata": {},
   "source": [
    "- Default means every resource in the VPC can talk to any other resource that is within that same VPC\n",
    "- We keep this default to allow resources in the VPC to reach the database"
   ]
  },
  {
   "cell_type": "markdown",
   "metadata": {},
   "source": [
    "## Encryption"
   ]
  },
  {
   "cell_type": "markdown",
   "metadata": {},
   "source": [
    "- We can use encryption for sensitive production workloads. We can disable encryption for our database here"
   ]
  },
  {
   "cell_type": "markdown",
   "metadata": {},
   "source": [
    "## Database Creation"
   ]
  },
  {
   "cell_type": "markdown",
   "metadata": {},
   "source": [
    "The most important thing about your database you need to know is the endpoint"
   ]
  },
  {
   "cell_type": "markdown",
   "metadata": {},
   "source": [
    "If you have your user name, password, endpoint and asscess to port 3306 you can connect to your application running in your server and you will be able to connect"
   ]
  },
  {
   "cell_type": "markdown",
   "metadata": {},
   "source": [
    "# Using CloudFormation"
   ]
  },
  {
   "cell_type": "markdown",
   "metadata": {},
   "source": [
    "Not reccomended for data you want to keep"
   ]
  },
  {
   "cell_type": "markdown",
   "metadata": {},
   "source": [
    "## CloudFormation Rentention Policy"
   ]
  },
  {
   "cell_type": "markdown",
   "metadata": {},
   "source": [
    "- you'll want to keep your data to persist even if your stack of resoruces is updated or deleted. \n",
    "- Retention policy: keeps a service even if the entire stack of infrastructure is marked for removal\n",
    "- In cloudFormation, the syntax is `DeletionPolicy: retain`. This is very useful to assign to your data storage (database, file sotrage), to make sure that your data is saved even when the stack is updated or deleted"
   ]
  },
  {
   "cell_type": "markdown",
   "metadata": {},
   "source": [
    "# Filestores"
   ]
  },
  {
   "cell_type": "markdown",
   "metadata": {},
   "source": [
    "- Use filestores instead of databases for large files, such as videos and text documents\n",
    "- Configuration files are sensitive encrypted data are best stored in specific filestores rather than inside the servers\n",
    "- Autoscaling groups may create or destroy servers, so keep data you want to persist in a seprate resource such as filestore"
   ]
  },
  {
   "cell_type": "markdown",
   "metadata": {},
   "source": [
    "# S3 Buckets"
   ]
  },
  {
   "cell_type": "markdown",
   "metadata": {},
   "source": [
    "- Choose a DNS compliant name for the S3 bucket"
   ]
  },
  {
   "cell_type": "markdown",
   "metadata": {},
   "source": [
    "## Command line arguments"
   ]
  },
  {
   "cell_type": "markdown",
   "metadata": {},
   "source": [
    "`aws s3 <link to s3 bucket>`"
   ]
  },
  {
   "cell_type": "markdown",
   "metadata": {},
   "source": [
    "The line above lists files in the S3 bucket"
   ]
  },
  {
   "cell_type": "markdown",
   "metadata": {},
   "source": [
    "`aws s3 cp <file name> <link to S3 bucket>`"
   ]
  },
  {
   "cell_type": "markdown",
   "metadata": {},
   "source": [
    "The line above copies a file form your local machine to the S3 bucket"
   ]
  },
  {
   "cell_type": "markdown",
   "metadata": {},
   "source": [
    "## Versioning"
   ]
  },
  {
   "cell_type": "markdown",
   "metadata": {},
   "source": [
    "- You can keep past versions of your S3 bucket, which means that deleted files will still exist in prior versions of your S3 bucket"
   ]
  },
  {
   "cell_type": "markdown",
   "metadata": {},
   "source": [
    "# Key Points"
   ]
  },
  {
   "cell_type": "markdown",
   "metadata": {},
   "source": [
    "- S3 can be used to store your config file, media or log files\n",
    "- Your servers don't need credentials to access S3 provided they have a role assigned\n",
    "- We reccomend you choose RDS as opposed to installing your own server that you have to manage and backup yourself"
   ]
  }
 ],
 "metadata": {
  "kernelspec": {
   "display_name": "Python 3",
   "language": "python",
   "name": "python3"
  },
  "language_info": {
   "codemirror_mode": {
    "name": "ipython",
    "version": 3
   },
   "file_extension": ".py",
   "mimetype": "text/x-python",
   "name": "python",
   "nbconvert_exporter": "python",
   "pygments_lexer": "ipython3",
   "version": "3.8.3"
  }
 },
 "nbformat": 4,
 "nbformat_minor": 4
}
