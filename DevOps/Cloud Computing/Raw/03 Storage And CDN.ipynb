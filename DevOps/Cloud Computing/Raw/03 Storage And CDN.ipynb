{
 "cells": [
  {
   "cell_type": "markdown",
   "metadata": {},
   "source": [
    "# Storage"
   ]
  },
  {
   "cell_type": "markdown",
   "metadata": {},
   "source": [
    "Storage and database services in the cloud provide a place for companies to collect, store and analyze the data they have collected"
   ]
  },
  {
   "cell_type": "markdown",
   "metadata": {},
   "source": [
    "Storage services provide benefits such as durability, avalibility and scalability"
   ]
  },
  {
   "cell_type": "markdown",
   "metadata": {},
   "source": [
    "## Durability"
   ]
  },
  {
   "cell_type": "markdown",
   "metadata": {},
   "source": [
    "- Guarantees no data loss\n",
    "- High durability\n",
    "- Your data will be there"
   ]
  },
  {
   "cell_type": "markdown",
   "metadata": {},
   "source": [
    "## Availbility"
   ]
  },
  {
   "cell_type": "markdown",
   "metadata": {},
   "source": [
    "- How quickly you access data \n",
    "- High availability \n",
    "- Fast and reliable"
   ]
  },
  {
   "cell_type": "markdown",
   "metadata": {},
   "source": [
    "## Scalability"
   ]
  },
  {
   "cell_type": "markdown",
   "metadata": {},
   "source": [
    "- Applications can meet demands seamlessly by adding or removing resources\n",
    "- This maintains a steady state and fast respone time \n",
    "- Three types of scaling\n",
    "    - Verticle scaling\n",
    "    - Horizontal scaling\n",
    "    - Diagonal scaling"
   ]
  },
  {
   "cell_type": "markdown",
   "metadata": {},
   "source": [
    "### Verticle Scaling"
   ]
  },
  {
   "cell_type": "markdown",
   "metadata": {},
   "source": [
    "- also called scaling up\n",
    "- modify the server to meet demands\n",
    "- adding more memory or capacity\n",
    "- Depth Search"
   ]
  },
  {
   "cell_type": "markdown",
   "metadata": {},
   "source": [
    "### Horizontal Scaling"
   ]
  },
  {
   "cell_type": "markdown",
   "metadata": {},
   "source": [
    "- Scaling Out\n",
    "- Add or remove servers\n",
    "- Breadth Search"
   ]
  },
  {
   "cell_type": "markdown",
   "metadata": {},
   "source": [
    "### Diagonal Scaling"
   ]
  },
  {
   "cell_type": "markdown",
   "metadata": {},
   "source": [
    "- Combination of horizontal and vertical scaling\n",
    "- offers maximum flexibility"
   ]
  },
  {
   "cell_type": "markdown",
   "metadata": {},
   "source": [
    "# S3"
   ]
  },
  {
   "cell_type": "markdown",
   "metadata": {},
   "source": [
    "- Stands for Simple Storage Service\n",
    "- object store system\n",
    "- text, image, html files\n",
    "- gives you a url you can use to access it"
   ]
  },
  {
   "cell_type": "markdown",
   "metadata": {},
   "source": [
    "## Bucket"
   ]
  },
  {
   "cell_type": "markdown",
   "metadata": {},
   "source": [
    "- all files or objects are in buckets"
   ]
  },
  {
   "cell_type": "markdown",
   "metadata": {},
   "source": [
    "## Design"
   ]
  },
  {
   "cell_type": "markdown",
   "metadata": {},
   "source": [
    "- durability of 99.999%\n",
    "- multiple availability zones\n",
    "- availability of 99.99%"
   ]
  },
  {
   "cell_type": "markdown",
   "metadata": {},
   "source": [
    "## Use Cases"
   ]
  },
  {
   "cell_type": "markdown",
   "metadata": {},
   "source": [
    "- hosting a static website\n",
    "- content delivery\n",
    "- backup and recovery\n",
    "- archiving and big data\n",
    "- application data\n",
    "- hybrid cloud storage"
   ]
  },
  {
   "cell_type": "markdown",
   "metadata": {},
   "source": [
    "## Storage Clases"
   ]
  },
  {
   "cell_type": "markdown",
   "metadata": {},
   "source": [
    "- essentially different levels\n",
    "- S3 Glacier is for data archiving\n",
    "- S3 Glacier is cheaper than the regular storage"
   ]
  },
  {
   "cell_type": "markdown",
   "metadata": {},
   "source": [
    "### S3 Glacier"
   ]
  },
  {
   "cell_type": "markdown",
   "metadata": {},
   "source": [
    "- suppose you have monthly log files\n",
    "- for audit purposes you want to keep the file \n",
    "- they need to be avaliable to auditors at least one a year"
   ]
  },
  {
   "cell_type": "markdown",
   "metadata": {},
   "source": [
    "# DynamoDB "
   ]
  },
  {
   "cell_type": "markdown",
   "metadata": {},
   "source": [
    "- is a NoSQL document database service that is fully managed\n",
    "- NoSQL databases are schema-less meaning the database does not contain a fixed or rigid data structure\n",
    "- they are able to handles this load unlike orcale databases because they dont have a schema\n",
    "- each row or record in a DynamoDB record is called a document"
   ]
  },
  {
   "cell_type": "markdown",
   "metadata": {},
   "source": [
    "## Data"
   ]
  },
  {
   "cell_type": "markdown",
   "metadata": {},
   "source": [
    "- Data is stored in JSON-like text\n",
    "- JSON is simple text representing data in a key-value pair"
   ]
  },
  {
   "cell_type": "markdown",
   "metadata": {},
   "source": [
    "    {\n",
    "        \"id: 1,\n",
    "        \"Occupation\": \"Software Engineer\",\n",
    "        \"Company\": \"Amazon\"\n",
    "    }"
   ]
  },
  {
   "cell_type": "markdown",
   "metadata": {},
   "source": [
    "## Tips"
   ]
  },
  {
   "cell_type": "markdown",
   "metadata": {},
   "source": [
    "- DynamoDB is serverless as there are no servers to provision, patch or manage\n",
    "- DynamoDB supports key-value and document data models\n",
    "- DynamoDB synchronously replicates data across three AZs in an AWS region\n",
    "- DynamoDB suports GET/PUT operations using a primary key"
   ]
  },
  {
   "cell_type": "markdown",
   "metadata": {},
   "source": [
    "# MongoDB Lab"
   ]
  },
  {
   "cell_type": "markdown",
   "metadata": {},
   "source": [
    "![](images/03_storage/01.png)"
   ]
  },
  {
   "cell_type": "markdown",
   "metadata": {},
   "source": [
    "![](images/03_storage/02.png)"
   ]
  },
  {
   "cell_type": "markdown",
   "metadata": {},
   "source": [
    "![](images/03_storage/03.png)"
   ]
  },
  {
   "cell_type": "markdown",
   "metadata": {},
   "source": [
    "![](images/03_storage/04.png)"
   ]
  },
  {
   "cell_type": "markdown",
   "metadata": {},
   "source": [
    "# Rational Database Service (RDS)"
   ]
  },
  {
   "cell_type": "markdown",
   "metadata": {},
   "source": [
    "Rational Database services aid in the adminstration and management of databases. They assit with tasks that include upgrades, patching, installing, backup, monitoring, etc."
   ]
  },
  {
   "cell_type": "markdown",
   "metadata": {},
   "source": [
    "RDS sits on top of your database and helps automate time consuming tasks"
   ]
  },
  {
   "cell_type": "markdown",
   "metadata": {},
   "source": [
    "## Database Engine Support"
   ]
  },
  {
   "cell_type": "markdown",
   "metadata": {},
   "source": [
    "- Orcale\n",
    "- PostgreSQL\n",
    "- MySQL\n",
    "- MariaDB\n",
    "- SQL Server"
   ]
  },
  {
   "cell_type": "markdown",
   "metadata": {},
   "source": [
    "# Redshift"
   ]
  },
  {
   "cell_type": "markdown",
   "metadata": {},
   "source": [
    "- Redshift is a cloud datawarehousing service that helps companies manage big data\n",
    "- Redshift allows you to run fast queries against your data using SQL, ETL, and BI tools\n",
    "- Redshift stores data in a column format to aid in fast querying"
   ]
  },
  {
   "cell_type": "markdown",
   "metadata": {},
   "source": [
    "## Features"
   ]
  },
  {
   "cell_type": "markdown",
   "metadata": {},
   "source": [
    "- A warehouse is designed for fast query and analysis\n",
    "- Not transaction processing\n",
    "- Usually contains historical data from transcational systems\n",
    "- recently accesed elements may live in a database the data from 10 years ago might be stores in redshift"
   ]
  },
  {
   "cell_type": "markdown",
   "metadata": {},
   "source": [
    "## Format"
   ]
  },
  {
   "cell_type": "markdown",
   "metadata": {},
   "source": [
    "- Data is in a columnar format\n",
    "- Not a row storage like a rational database\n",
    "- the fact it uses columns is the reason for its speed"
   ]
  },
  {
   "cell_type": "markdown",
   "metadata": {},
   "source": [
    "## Tips"
   ]
  },
  {
   "cell_type": "markdown",
   "metadata": {},
   "source": [
    "- Redshift can be found under the database section\n",
    "- Redshift delivers great performance by using machine learning\n",
    "- Redshift Spectrum is a feature that enables you to run queries against data in S3\n",
    "- Redshift encrypts and keeps your data secure in transit and at rest\n",
    "- Redshift clusters can be isolated using Amazon Virtual Private Cloud (VPC)"
   ]
  },
  {
   "cell_type": "markdown",
   "metadata": {},
   "source": [
    "# RDS Lab"
   ]
  },
  {
   "cell_type": "markdown",
   "metadata": {},
   "source": [
    "![](images/03_storage/05.png)"
   ]
  },
  {
   "cell_type": "markdown",
   "metadata": {},
   "source": [
    "![](images/03_storage/06.png)"
   ]
  },
  {
   "cell_type": "markdown",
   "metadata": {},
   "source": [
    "![](images/03_storage/07.png)"
   ]
  },
  {
   "cell_type": "markdown",
   "metadata": {},
   "source": [
    "![](images/03_storage/08.png)"
   ]
  },
  {
   "cell_type": "markdown",
   "metadata": {},
   "source": [
    "# CDN"
   ]
  },
  {
   "cell_type": "markdown",
   "metadata": {},
   "source": [
    "A Content Delivery Network (CDN) speeds up delivery of your static and dynamic web content by caching content in an edge location close to your user base"
   ]
  },
  {
   "cell_type": "markdown",
   "metadata": {},
   "source": [
    "## Benefits"
   ]
  },
  {
   "cell_type": "markdown",
   "metadata": {},
   "source": [
    "- low latency\n",
    "- decreased sever load\n",
    "- better user expreance"
   ]
  },
  {
   "cell_type": "markdown",
   "metadata": {},
   "source": [
    "## Latency"
   ]
  },
  {
   "cell_type": "markdown",
   "metadata": {},
   "source": [
    "- time it takes from user requesting to the time they get the request\n",
    "- high latency means website takes long to load"
   ]
  },
  {
   "cell_type": "markdown",
   "metadata": {},
   "source": [
    "# Cloud Front"
   ]
  },
  {
   "cell_type": "markdown",
   "metadata": {},
   "source": [
    "Cloud Front is Amazons service for content delivery"
   ]
  },
  {
   "cell_type": "markdown",
   "metadata": {},
   "source": [
    "![](images/03_storage/08.png)"
   ]
  },
  {
   "cell_type": "markdown",
   "metadata": {},
   "source": [
    "Basically, there are edge locations and when a user requests something from Orgin, it gets cached in the edge location. The next time that the user requests something, they do no need to go to the orgin, but instead get it from the edge location"
   ]
  },
  {
   "cell_type": "markdown",
   "metadata": {},
   "source": [
    "Cloud Front works with other AWS services such as S3, EC2, etc."
   ]
  },
  {
   "cell_type": "markdown",
   "metadata": {},
   "source": [
    "## Tips"
   ]
  },
  {
   "cell_type": "markdown",
   "metadata": {},
   "source": [
    "- CloudFront is found under thr networking and content delivery section on the AWS management console\n",
    "- Amazon continously adds new edge locations\n",
    "- cloudfront ensures that end-user requests are served from the closest edge location\n",
    "- CloudFront words with non-AWS orgin sources\n",
    "- You can use GeoIP blocking to serve content (or not serve content) to specific countries\n",
    "- Cache control headers determine how frequently CloudFront needs to check the orgigin for an updated version of the file\n",
    "- The maximum size of a single file that can be delivered is 20GB"
   ]
  },
  {
   "cell_type": "markdown",
   "metadata": {},
   "source": [
    "# S3 and Cloud Front Lab"
   ]
  },
  {
   "cell_type": "markdown",
   "metadata": {},
   "source": [
    "![](images/03_storage/09.png)"
   ]
  },
  {
   "cell_type": "markdown",
   "metadata": {},
   "source": [
    "![](images/03_storage/10.png)"
   ]
  },
  {
   "cell_type": "markdown",
   "metadata": {},
   "source": [
    "![](images/03_storage/11.png)"
   ]
  },
  {
   "cell_type": "markdown",
   "metadata": {},
   "source": [
    "![](images/03_storage/12.png)"
   ]
  }
 ],
 "metadata": {
  "kernelspec": {
   "display_name": "Python 3",
   "language": "python",
   "name": "python3"
  },
  "language_info": {
   "codemirror_mode": {
    "name": "ipython",
    "version": 3
   },
   "file_extension": ".py",
   "mimetype": "text/x-python",
   "name": "python",
   "nbconvert_exporter": "python",
   "pygments_lexer": "ipython3",
   "version": "3.8.3"
  }
 },
 "nbformat": 4,
 "nbformat_minor": 4
}
