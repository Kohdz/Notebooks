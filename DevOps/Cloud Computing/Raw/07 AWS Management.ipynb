{
 "cells": [
  {
   "cell_type": "markdown",
   "metadata": {},
   "source": [
    "# Logging"
   ]
  },
  {
   "cell_type": "markdown",
   "metadata": {},
   "source": [
    "Logging provides visibility into your cloud resources and applications. Logging and auditing services help proactively monitor your resources and application"
   ]
  },
  {
   "cell_type": "markdown",
   "metadata": {},
   "source": [
    "Logging allows you to answer important questions:\n",
    "- How is the server performing\n",
    "- What is the current load on the server\n",
    "- What is the root cause of an application error your seeing\n",
    "- What is the path that leads to this error"
   ]
  },
  {
   "cell_type": "markdown",
   "metadata": {},
   "source": [
    "# Cloud Trail"
   ]
  },
  {
   "cell_type": "markdown",
   "metadata": {},
   "source": [
    "- Cloud Trail allows you to audit or monitor everything on your AWS account\n",
    "- Logs actions through AWS management console and AWS SDK\n",
    "- means SDK, command line tools, AWS services are loged"
   ]
  },
  {
   "cell_type": "markdown",
   "metadata": {},
   "source": [
    "# Cloud Watch"
   ]
  },
  {
   "cell_type": "markdown",
   "metadata": {},
   "source": [
    "Cloud watch is a service that monitors resources and applications that run on AWS by collecting data in the form of logs, metrics and events"
   ]
  },
  {
   "cell_type": "markdown",
   "metadata": {},
   "source": [
    "## Features"
   ]
  },
  {
   "cell_type": "markdown",
   "metadata": {},
   "source": [
    "- Collect and track metrics\n",
    "- Collect and monitor log files\n",
    "- Set alarms and create triggers to run your AWS resources\n",
    "- React to changes in your AWS resources"
   ]
  },
  {
   "cell_type": "markdown",
   "metadata": {},
   "source": [
    "# Uses "
   ]
  },
  {
   "cell_type": "markdown",
   "metadata": {},
   "source": [
    "- use CloudWatch logs written from lambda functions to diagnose and monitor issues and application flow\n",
    "- Also use CloudWatch as a trigger for lambda function"
   ]
  },
  {
   "cell_type": "markdown",
   "metadata": {},
   "source": [
    "# Cloud Watch Lab"
   ]
  },
  {
   "cell_type": "markdown",
   "metadata": {},
   "source": [
    "![](images/07_Management/01.png)"
   ]
  },
  {
   "cell_type": "markdown",
   "metadata": {},
   "source": [
    "![](images/07_Management/02.png)"
   ]
  },
  {
   "cell_type": "markdown",
   "metadata": {},
   "source": [
    "![](images/07_Management/03.png)"
   ]
  },
  {
   "cell_type": "markdown",
   "metadata": {},
   "source": [
    "# Infrastructure As Code"
   ]
  },
  {
   "cell_type": "markdown",
   "metadata": {},
   "source": [
    "- Infrastructure as Code allows you to describe and provision all the infrastructure resources in your cloud envoirment\n",
    "- You can stand up servers, databaases, runtime parameters, resources, etc based on scripts you write\n",
    "- IAS is a time-saving feature because it allws you to provision (or stand up) resources in a reproducible way"
   ]
  },
  {
   "cell_type": "markdown",
   "metadata": {},
   "source": [
    "## How It Works"
   ]
  },
  {
   "cell_type": "markdown",
   "metadata": {},
   "source": [
    "- Scripts out infrastructure\n",
    "- which makes infrastructure into code\n",
    "- you can manage a collection of related resources and treat them as one logical unit"
   ]
  },
  {
   "cell_type": "markdown",
   "metadata": {},
   "source": [
    "# Logical Unit"
   ]
  },
  {
   "cell_type": "markdown",
   "metadata": {},
   "source": [
    "- Imagine you had to do the following\n",
    "    - Configure a VPC security group\n",
    "    - Launch an EC2 Instance\n",
    "    - Create load balancers\n",
    "    - create an RDS instance\n",
    "    - Create AutoScaling\n",
    "- Instead of manually doing each of these things, we can write scripts to do it"
   ]
  },
  {
   "cell_type": "markdown",
   "metadata": {},
   "source": [
    "# Cloud Formation"
   ]
  },
  {
   "cell_type": "markdown",
   "metadata": {},
   "source": [
    "Awa Cloud Formation allows you to model your entire infrastructure in a text file template allowing you to provision AWS resources based on the script you write"
   ]
  },
  {
   "cell_type": "markdown",
   "metadata": {},
   "source": [
    "## Tips"
   ]
  },
  {
   "cell_type": "markdown",
   "metadata": {},
   "source": [
    "- Cloud formation is found under the Management and Governance section on AWS \n",
    "- Cloud Formation templates are written using JSON or YAML\n",
    "- You can still individually manage AWS resources that are part of a CloudFormation stack"
   ]
  },
  {
   "cell_type": "markdown",
   "metadata": {},
   "source": [
    "    {\"AWSTemplateFormatVersion\":\"2010-0909\",\n",
    "        \"Description\": \"...\",\n",
    "        \"Paramaters\": {\n",
    "            \"Vpcid\":{\n",
    "                \"Types\":\"AWS::EC2::VPC::id\",\n",
    "                \"Description\":\"...\".\n",
    "                \"ConstraintDescription\":\"...\".\n",
    "                }\n",
    "          }\n",
    "    }"
   ]
  },
  {
   "cell_type": "markdown",
   "metadata": {},
   "source": [
    "# Cloud Formation Lab"
   ]
  },
  {
   "cell_type": "markdown",
   "metadata": {},
   "source": [
    "![](images/07_Management/04.png)"
   ]
  },
  {
   "cell_type": "markdown",
   "metadata": {},
   "source": [
    "    {\n",
    "      \"AWSTemplateFormatVersion\": \"2010-09-09\",\n",
    "      \"Description\": \"Basic S3 Bucket CloudFormation template\",\n",
    "      \"Resources\": {\n",
    "        \"S3BucketCreatedByCloudFormation\": {\n",
    "          \"Type\": \"AWS::S3::Bucket\",\n",
    "          \"Properties\": {\n",
    "            \"AccessControl\": \"PublicRead\"\n",
    "          }\n",
    "        }\n",
    "      },\n",
    "      \"Outputs\": {\n",
    "        \"BucketName\": {\n",
    "          \"Value\": {\n",
    "            \"Ref\": \"S3BucketCreatedByCloudFormation\"\n",
    "          },\n",
    "      \"Description\": \"Name of the newly created Amazon S3 Bucket\"\n",
    "        }\n",
    "      }\n",
    "    }"
   ]
  },
  {
   "cell_type": "markdown",
   "metadata": {},
   "source": [
    "Hit the Refresh button in the upper right-hand corner so that the Designer is not out of date."
   ]
  },
  {
   "cell_type": "markdown",
   "metadata": {},
   "source": [
    "![](images/07_Management/05.png)"
   ]
  },
  {
   "cell_type": "markdown",
   "metadata": {},
   "source": [
    "![](images/07_Management/06.png)"
   ]
  },
  {
   "cell_type": "markdown",
   "metadata": {},
   "source": [
    "![](images/07_Management/07.png)"
   ]
  },
  {
   "cell_type": "markdown",
   "metadata": {},
   "source": [
    "![](images/07_Management/08.png)"
   ]
  },
  {
   "cell_type": "markdown",
   "metadata": {},
   "source": [
    "# AWS CLI"
   ]
  },
  {
   "cell_type": "markdown",
   "metadata": {},
   "source": [
    "The CLI allows you to access and control services running in your AWS account from the command line"
   ]
  }
 ],
 "metadata": {
  "kernelspec": {
   "display_name": "Python 3",
   "language": "python",
   "name": "python3"
  },
  "language_info": {
   "codemirror_mode": {
    "name": "ipython",
    "version": 3
   },
   "file_extension": ".py",
   "mimetype": "text/x-python",
   "name": "python",
   "nbconvert_exporter": "python",
   "pygments_lexer": "ipython3",
   "version": "3.8.3"
  }
 },
 "nbformat": 4,
 "nbformat_minor": 4
}
