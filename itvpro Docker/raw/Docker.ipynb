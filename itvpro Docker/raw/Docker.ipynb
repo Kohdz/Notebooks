{
 "cells": [
  {
   "cell_type": "markdown",
   "id": "described-corps",
   "metadata": {},
   "source": [
    "## Overview"
   ]
  },
  {
   "cell_type": "markdown",
   "id": "brutal-conjunction",
   "metadata": {},
   "source": [
    "![](images/01.png)"
   ]
  },
  {
   "cell_type": "markdown",
   "id": "intermediate-spelling",
   "metadata": {},
   "source": [
    "![](images/02.png)"
   ]
  },
  {
   "cell_type": "markdown",
   "id": "super-still",
   "metadata": {},
   "source": [
    "- `Docker Daemon` is like the server and you make requests to it to do things\n",
    "- we mainly dont neeed to talk to the `Docker Daemon` because we have the `Docker Client` which we can talk to"
   ]
  },
  {
   "cell_type": "markdown",
   "id": "quarterly-leadership",
   "metadata": {},
   "source": [
    " `docker run -it <CONTAINER> /bin/sh`"
   ]
  },
  {
   "cell_type": "markdown",
   "id": "hispanic-snake",
   "metadata": {},
   "source": [
    "- an docker `image` is like a class, a blueprint and you can create `containers` with it"
   ]
  },
  {
   "cell_type": "markdown",
   "id": "searching-wrist",
   "metadata": {},
   "source": [
    "- the `-d` tag is used to make the contaner a daemon\n",
    "- `-p` to set the port"
   ]
  },
  {
   "cell_type": "markdown",
   "id": "legendary-lecture",
   "metadata": {},
   "source": [
    "- docker kill `<container-id/container-name>`\n",
    "- docker stop `<container-id>`\n",
    "- docker rename `<previos-name>` `<new-name>`\n",
    "- docker run --name `<new-name>` -itd `<running-worker>`\n",
    "- docker container ls -a\n",
    "- docker rm `<container-id>`\n",
    "- docker run -itd --name `<new-container-name>` --restart=always `<container-name>`\n",
    " "
   ]
  },
  {
   "cell_type": "markdown",
   "id": "portuguese-agreement",
   "metadata": {},
   "source": [
    "- docker `rm` removes the image\n",
    "- docker `rmi` removes the container"
   ]
  },
  {
   "cell_type": "markdown",
   "id": "sound-humanity",
   "metadata": {},
   "source": [
    "## Inspecting Docker Images and Containers"
   ]
  },
  {
   "cell_type": "markdown",
   "id": "indie-relay",
   "metadata": {},
   "source": [
    "- docker search `nginx`\n",
    "- docker image ls\n",
    "- docker top `<container-id>\n",
    "    - gives us a snapshot of whats running\n",
    "- docker inspect worker\n",
    "- docker stats worker\n",
    "    - gives `CPU` usage or `MEMERY` usage\n",
    "- docker log `<worker-name>`\n",
    "- docker attach `<container-id>`\n",
    "    - this lets you go into a container\n",
    "- docker exec `<container-id>` ls\n",
    "- docker run -it --name `<new-name>` `<container-id>`\n",
    "    - lets you go inside of a container"
   ]
  },
  {
   "cell_type": "markdown",
   "id": "varying-rendering",
   "metadata": {},
   "source": [
    "## Docker and Data"
   ]
  },
  {
   "cell_type": "markdown",
   "id": "trying-manhattan",
   "metadata": {},
   "source": [
    "- data might not be safe inside of a container "
   ]
  },
  {
   "cell_type": "markdown",
   "id": "exceptional-specific",
   "metadata": {},
   "source": [
    "- docker run -t -v `<local:/container>`\n",
    "    - the `v` signifies a volume and links containers\n",
    "    - docker run -t -v testData:/testData \n",
    "    - make sure the folders are linked correctly"
   ]
  },
  {
   "cell_type": "markdown",
   "id": "subjective-deadline",
   "metadata": {},
   "source": [
    "- docker create -v `<local-dir>` -- name `<container-name>` `<image-name>`\n",
    "    - docker create -v /data --name datastore busybox\n",
    "    - this command creates a container with an associated volume\n",
    "    - type `docker container ls --all` to see it"
   ]
  },
  {
   "cell_type": "markdown",
   "id": "distant-deficit",
   "metadata": {},
   "source": [
    "- docker run -it --volumes-from `<container-name>` -- `<image-name>`\n",
    "    - docker run -it --volumes-from datastore --name worker busybox\n",
    "    - this command links the data connection created earlier to a new container\n",
    "    - multiple reads are good but multiple writes are bad!  "
   ]
  },
  {
   "cell_type": "markdown",
   "id": "mexican-alarm",
   "metadata": {},
   "source": [
    "## Docker and Data Use Case"
   ]
  },
  {
   "cell_type": "markdown",
   "id": "hollow-dictionary",
   "metadata": {},
   "source": [
    "- docker run -d -p 27017:27017 -- `<new-name>` `<image-name>`\n",
    "    - docker run -d -p 27017:27017 mongodb mongo"
   ]
  },
  {
   "cell_type": "markdown",
   "id": "sacred-repair",
   "metadata": {},
   "source": [
    "- sometimes data can be lost so you want to just have a data layer in a seprate container"
   ]
  },
  {
   "cell_type": "markdown",
   "id": "urban-pendant",
   "metadata": {},
   "source": [
    "- create a volumes conenction to \n",
    "    - docker creater -v /data/db --name mongo_data mongo\n",
    "- create a container which has access to that volume\n",
    "    - docker run - -p 27017:27017 --name mongodb --volumes-from mongo_data mongo"
   ]
  },
  {
   "cell_type": "markdown",
   "id": "loving-rwanda",
   "metadata": {},
   "source": [
    "## Building our First Docker Image"
   ]
  },
  {
   "cell_type": "markdown",
   "id": "concerned-comedy",
   "metadata": {},
   "source": [
    "- a `Dockerfile` is something that lets you wrap your application in its runtime and your container becomes the application\n",
    "- each container should only do one thing"
   ]
  },
  {
   "cell_type": "markdown",
   "id": "metropolitan-cotton",
   "metadata": {},
   "source": [
    "- first line starts with a `FROM`\n",
    "    - basically asks where do you want to pull from\n",
    "    - `FROM ubuntu:20.04`\n",
    "- `CMD` lets you exectute a command once the docker file is executed\n",
    "    - `CMD [\"echo\", \"hello there\"]`\n",
    "- note double quotes matter for docker"
   ]
  },
  {
   "cell_type": "markdown",
   "id": "official-lambda",
   "metadata": {},
   "source": [
    "- `docker build .`\n",
    "    - builds the docker image in the directory\n",
    "    - docker images can be used to see the docker file\n",
    "- `docker build -t baseimage .`\n",
    "    - `-t` allows you to rename or tage images\n",
    "    - `-t` if you retag, you can use updated versions, etc.\n",
    "- if you just change the `tag` name without any image changes, then you dont actually store the image multiple times, but just the refrence\n",
    "- even if you change some code, only the part that changes takes up more space, the rest is just refrenced "
   ]
  },
  {
   "cell_type": "markdown",
   "id": "clear-export",
   "metadata": {},
   "source": [
    "- `RUN` is like a bash command\n",
    "    - `RUN apt-get update -y`\n",
    "    - `RUN apt-get nginx -y`\n",
    "    - the `-y` asks you to confirm to build"
   ]
  },
  {
   "cell_type": "markdown",
   "id": "alleged-bradley",
   "metadata": {},
   "source": [
    "- `CMD [\"nginx\", \"-g\", \"daemon off;\"]`"
   ]
  },
  {
   "cell_type": "markdown",
   "id": "functional-flashing",
   "metadata": {},
   "source": [
    "- `EXPOSE 80`\n",
    "- docker run -d -p 80:80 baseimage"
   ]
  },
  {
   "cell_type": "markdown",
   "id": "nuclear-selling",
   "metadata": {},
   "source": [
    "- `ENTRYPOINT` is simmilary to `CMD` \n",
    "- `ENTRYPOINT ['nginx']\n",
    "- `CMD [\"-g\", \"daemon off;\"]\n",
    "- from my estimation, `CMD` is used to pass arguments but the main feature is passed to `ENTRYPOINT`\n",
    "- you can use `&&` or other boolean operators if you want\n",
    "- try not to use `&&` because debugging becomes a nightmare"
   ]
  },
  {
   "cell_type": "markdown",
   "id": "operational-oxygen",
   "metadata": {},
   "source": [
    "## Storing Our Custom Docker Images"
   ]
  },
  {
   "cell_type": "markdown",
   "id": "narrow-concord",
   "metadata": {},
   "source": [
    "- you can try to move them to `tar` files, etc\n",
    "- most common way people use are registeries\n",
    "- if you are pushing to docker you need to rename to `<docker-username>/<image-name>` "
   ]
  },
  {
   "cell_type": "markdown",
   "id": "german-prague",
   "metadata": {},
   "source": [
    "- docker `commit` -m `\"<message>\"` `<container-id>` \n",
    "    - can be used to take a snapshot of the container\n",
    "- imagine you have a lightweight base container that you want to modify\n",
    "- you want to have a simple server and add a `html` file to serve\n",
    "- well you can ssh into the container, add files, and use `commit` to create a version of that container\n",
    "- normally you might want to use the `Dockerfile` to build that"
   ]
  },
  {
   "cell_type": "markdown",
   "id": "exclusive-vermont",
   "metadata": {},
   "source": [
    "- docker image history `<container-id>`\n",
    "- images have a `history` tag that keeps track of the comment messages\n",
    "- if you mess up with you can do is, rename image, delete it locally using `docker rmi <container-id>` and then commit agian\n"
   ]
  },
  {
   "cell_type": "markdown",
   "id": "exclusive-adrian",
   "metadata": {},
   "source": [
    "- after you do a docker `commit`, you have to do a docker `push`"
   ]
  },
  {
   "cell_type": "markdown",
   "id": "animal-necessity",
   "metadata": {},
   "source": [
    "- if you want to not push to repository but want to export it for local use\n",
    "you can use export command\n",
    "- docker export `<container-name>`  - o `<container-name>`"
   ]
  },
  {
   "cell_type": "markdown",
   "id": "desirable-cooking",
   "metadata": {},
   "source": [
    "- there is also a `save` paramater\n",
    "- docker `save` `<container-name>` -o `<container-name.image.tar`"
   ]
  },
  {
   "cell_type": "markdown",
   "id": "senior-custom",
   "metadata": {},
   "source": [
    "- `export` and `save` are the same\n",
    "- probally better to `save` the image then have to run a container and `export` the container"
   ]
  },
  {
   "cell_type": "markdown",
   "id": "connected-tattoo",
   "metadata": {},
   "source": [
    "## Building an Application with Docker"
   ]
  },
  {
   "cell_type": "markdown",
   "id": "violent-restoration",
   "metadata": {},
   "source": [
    "- docker allows you to avoid having to set up server everytime you want to deploy\n",
    "- `ADD <file-path>` is used to add a file in a directory\n",
    "- `WORKDIR <file-path>` is used to decide where you container is going to start \n",
    "    - `docker run ...` will put you in the he specified folder\n",
    "- `ADD` vs `COPY`\n",
    "    -`ADD` is for urls and stuff\n",
    "    - `COPY` is for directories\n",
    "    - `COPY` is the bare minimum and `ADD` has extra functionalities\n",
    "    - for example, in some cases `ADD` will actually un-zip tar files, etc."
   ]
  },
  {
   "cell_type": "markdown",
   "id": "latter-mongolia",
   "metadata": {},
   "source": [
    "    FROM ubuntu:20.04\n",
    "    RUN apt-get update -y;\n",
    "    RUN apt-get install curl -y;\n",
    "    RUN curl -sL https://deb.nodesource.com/setup_6.x | bash -;\n",
    "    RUN apt-get install nodejs -y;\n",
    "    \n",
    "    COPY index.js /app/index.js\n",
    "    COPY package.json /app/package.json\n",
    "    WORKDIR /app\n",
    "    RUN npm install\n",
    "    CMD [\"node\", \"index.js\"]\n",
    "    "
   ]
  },
  {
   "cell_type": "markdown",
   "id": "bacterial-accreditation",
   "metadata": {},
   "source": [
    "- if you cant kill a docker container with `CTRL + C` just use `docker kill <container-id>`  "
   ]
  },
  {
   "cell_type": "markdown",
   "id": "rapid-beach",
   "metadata": {},
   "source": [
    "- one neat thing you can do is simply create a docker image and then pull from that docker image\n",
    "- if you see repeated code, you can just think of it as a function\n",
    "- each docker file should do one thing"
   ]
  },
  {
   "cell_type": "markdown",
   "id": "smooth-exhibit",
   "metadata": {},
   "source": [
    "    FROM `<prviously-built-image>`\n",
    "\n",
    "    COPY index.js /app/index.js\n",
    "    COPY package.json /app/package.json\n",
    "    COPY data.json /app/data.json\n",
    "\n",
    "    WORKDIR /app\n",
    "    RUN npm install\n",
    "\n",
    "    ENTRYPOINT [\"node\"]\n",
    "    CMD [\"index.js\"]"
   ]
  },
  {
   "cell_type": "markdown",
   "id": "explicit-family",
   "metadata": {},
   "source": [
    "## Multi-Container Apps with Docker"
   ]
  },
  {
   "cell_type": "markdown",
   "id": "parallel-green",
   "metadata": {},
   "source": [
    "- `VOLUME` is creating a folder inside of a container\n",
    "- `EXPOSE` is to expose a port"
   ]
  },
  {
   "cell_type": "markdown",
   "id": "exempt-roller",
   "metadata": {},
   "source": [
    "- old way of running two containers together is using `--link redis:redis`\n",
    "- this is no longer reccommended  "
   ]
  },
  {
   "cell_type": "markdown",
   "id": "acceptable-running",
   "metadata": {},
   "source": [
    "- the reccomended way to do this is to use `networks`\n",
    "- docker network create `<network-name>`\n",
    "- we simply add the apps to the network\n",
    "- docker run -d -p 5000:5000 --name redis `--net <app-name> redis <web-app-name>`"
   ]
  },
  {
   "cell_type": "markdown",
   "id": "understanding-rugby",
   "metadata": {},
   "source": [
    "- when adding a database remember you need to create a data volume link"
   ]
  },
  {
   "cell_type": "markdown",
   "id": "attractive-safety",
   "metadata": {},
   "source": [
    "- `docker create -v /data/db --name mongo_data mongo`\n",
    "- `docker run -d --name mongo --net webapp --volumes-from mongo_data mongo`\n",
    "- `docker run -d --name redis --net webapp redis`\n",
    "- `docker run --net webapp --name app -p 5000:5000 <container-name>`"
   ]
  },
  {
   "cell_type": "markdown",
   "id": "embedded-european",
   "metadata": {},
   "source": [
    "## Docker Compose"
   ]
  },
  {
   "cell_type": "markdown",
   "id": "architectural-prerequisite",
   "metadata": {},
   "source": [
    "- an orchestration management tool for docker\n",
    "-  for volumes you can use absolute paths, relative paths or named volumes\n",
    "- images built with compose prepends the app name with parent folder\n",
    "- `docker-compose up` to run\n",
    "- `docker-compose stop` to gracefully stop \n",
    "- `docker-compose up -d`"
   ]
  },
  {
   "cell_type": "markdown",
   "id": "collectible-cheese",
   "metadata": {},
   "source": [
    "    version: '3'\n",
    "    services:\n",
    "        app:\n",
    "            build: ./app\n",
    "            ports:\n",
    "                - \"8080:8080\"\n",
    "             volumes:\n",
    "                 - '/nodecompose'\n",
    "            networks:\n",
    "                - webapp\n",
    "        redis:\n",
    "             image: redis\n",
    "             posts:\n",
    "                 - \"6379:6379\"\n",
    "             networks:\n",
    "                 - webapp\n",
    "        mongo:\n",
    "            image: mongo\n",
    "            ports:\n",
    "                - \"27017:27017\"\n",
    "            volumes:\n",
    "                - mongo_data:/data/db\n",
    "            networks:\n",
    "                - webapp\n",
    "                \n",
    "     volumes:\n",
    "         mongo_data:\n",
    "             driver: local\n",
    "     \n",
    "     networks:\n",
    "         webapp:\n",
    "             driver: bridge\n",
    "              "
   ]
  },
  {
   "cell_type": "markdown",
   "id": "opposed-assist",
   "metadata": {},
   "source": [
    "## Docker Machine"
   ]
  },
  {
   "cell_type": "markdown",
   "id": "lined-corporation",
   "metadata": {},
   "source": [
    "- a method of provisioning virtual machies\n",
    "- simmilar to vegrant\n",
    "- a container like a `virtual machine` but in reality its just a file system that shares underlying system processes\n",
    "- docker machine comes installed in windows/mac but not linux\n",
    "- this is a good way to simulate a cluster"
   ]
  },
  {
   "cell_type": "markdown",
   "id": "coated-knife",
   "metadata": {},
   "source": [
    "- `docker machine create`provisions virtual machines with different drivers\n",
    "    - drivers are like `virtual-box` or `vagrent` or `digital-ocean`\n",
    "- `docker create` provisions new containers, new volumes"
   ]
  },
  {
   "cell_type": "markdown",
   "id": "thousand-insured",
   "metadata": {},
   "source": [
    "- benefit of using `docker machine` over just vagrent is that `docker-machine` sets up all of the docker stuff you need\n",
    "- you can just ssh into it and start using it"
   ]
  },
  {
   "cell_type": "markdown",
   "id": "extraordinary-alpha",
   "metadata": {},
   "source": [
    "- there is an `scp` command that lets you copy files between machines"
   ]
  },
  {
   "cell_type": "markdown",
   "id": "olive-discussion",
   "metadata": {},
   "source": [
    "- `docker-machine create -d virtualbox node-0`\n",
    "- `docker-machine ssh node-0`\n",
    "- `docker-machine scp hello.txt node-2:hello.txt` \n",
    "- `docker-machine scp ssh node-2 ls`"
   ]
  },
  {
   "cell_type": "markdown",
   "id": "muslim-ecuador",
   "metadata": {},
   "source": [
    "## Docker Machine with Docker"
   ]
  },
  {
   "cell_type": "markdown",
   "id": "considered-mechanics",
   "metadata": {},
   "source": [
    "- export `DOTOKEN=<token>` to set enviorment\n",
    "- `docker-machine create -d digitalocean --digitalocean-access-token=<DOTOKEN-ENV> node0`"
   ]
  },
  {
   "cell_type": "markdown",
   "id": "conceptual-holly",
   "metadata": {},
   "source": [
    "- `docker machine regenerate-certs` for erros in ssh"
   ]
  },
  {
   "cell_type": "markdown",
   "id": "global-charger",
   "metadata": {},
   "source": [
    "## Docker Swarm"
   ]
  },
  {
   "cell_type": "markdown",
   "id": "alien-slave",
   "metadata": {},
   "source": [
    "- idea of a swarm is to provide a management tool for a cluster of compute nodes that you can distribute containers across\n",
    "- enables you to horizontally scale your container across multiple servers\n",
    "- you can make an `EC2` instance join a swarm"
   ]
  },
  {
   "cell_type": "markdown",
   "id": "optical-works",
   "metadata": {},
   "source": [
    "- you need to have multiple servers \n",
    "- these can be multiple `EC2` instances or just can be created with `docker-machine`"
   ]
  },
  {
   "cell_type": "markdown",
   "id": "composed-anthony",
   "metadata": {},
   "source": [
    "- `docker swarm --init --advertise-addr <docker-machine-ip>`\n",
    "    - other nodes can basically join the \n",
    "    - this gives you a token to join\n",
    "    - if you add workers, they get a `swarm` tag\n",
    "- `docker-machine ssh node-1 <SWARM-TOKEN>`\n",
    "- `docker-machine ssh node-2 <SWARM-TOKEN>`\n",
    "- `docker-machine ssh node-3 <SWARM-TOKEN>`"
   ]
  },
  {
   "cell_type": "markdown",
   "id": "continuing-minutes",
   "metadata": {},
   "source": [
    "- `docker node ls`\n",
    "    - `node` is for managing swarm\n",
    "    - gives you info about all your workers in the swarm\n",
    "    - you can make anyone else a manager, remove them, etc"
   ]
  },
  {
   "cell_type": "markdown",
   "id": "magnetic-haiti",
   "metadata": {},
   "source": [
    "- `docker service --replicas 2 --name webserver nginx:apine`\n",
    "- `docker service ls`\n",
    "- `docker service scale webserver=9`"
   ]
  },
  {
   "cell_type": "markdown",
   "id": "musical-shape",
   "metadata": {},
   "source": [
    "- docker swarm handles how the replicas are spread out\n",
    "- you can try to set the policy on how the containers are distributed"
   ]
  },
  {
   "cell_type": "markdown",
   "id": "professional-talent",
   "metadata": {},
   "source": [
    "## Docker Swarm Digital Ocean"
   ]
  },
  {
   "cell_type": "markdown",
   "id": "first-outdoors",
   "metadata": {},
   "source": [
    "- `for i in 1 2 3; do docker-machine create -d digitalocean --digitalocean-access-token=<DOTOKEN-ENV> node<i>; done`\n",
    "    - creates docker virtual instances\n",
    "- `docker machine ssh node-1`\n",
    "- `docker swarm init --advertise-adder <SWARM-QUEEN-IP>`\n",
    "- `docker swarm join-token worker`\n",
    "- `docker-machine ssh node-2 <SWARM-TOKEN>`\n",
    "- `docker-machine ssh node-3 <SWARM-TOKEN>`\n",
    "- `docker node ls`\n",
    "- `docker service create --name webserver -p 80:80 --replicas 12 nginx:alpine`"
   ]
  },
  {
   "cell_type": "markdown",
   "id": "coral-appointment",
   "metadata": {},
   "source": [
    "## Creating a Docker Swarm Application"
   ]
  },
  {
   "cell_type": "markdown",
   "id": "unable-magnet",
   "metadata": {},
   "source": [
    "- a docker swarm can be handled with docker-compose\n",
    "    - the `deploy` tag used to handle swarm\n",
    "    - you also have to set a `driver` which is sets a single point outsiders see and everything conencts through that\n",
    "- `depends_on` is like a soft conditional statement that will just check that the container is running, not the application in the container"
   ]
  },
  {
   "cell_type": "markdown",
   "id": "integral-funeral",
   "metadata": {},
   "source": [
    "    version: '3'\n",
    "    services:\n",
    "        redis:\n",
    "            image: redis:3.2-alpine\n",
    "            ports:\n",
    "                - \"6379\"\n",
    "            networks:\n",
    "                - webapp\n",
    "             deploy:\n",
    "                 placement:\n",
    "                     - constraints: [node.role == manager]\n",
    "        mongo:\n",
    "            image: mongo\n",
    "            volumes:\n",
    "                - mongo_data:/data/db\n",
    "            networks:\n",
    "                - webapp\n",
    "            deploy:\n",
    "                placement:\n",
    "                    constraints: [node.role == manager]\n",
    "            app:\n",
    "                image:<DOCKER-REGISTRY-NAME>\n",
    "                ports: \n",
    "                    - \"5000:5000\"\n",
    "                networks:\n",
    "                    - webapp\n",
    "                depends_on:\n",
    "                    - redis\n",
    "                    - mongo\n",
    "            deploy:\n",
    "                mode: replicated\n",
    "                replicas: 2\n",
    "\n",
    "    networks:\n",
    "        webapp:\n",
    "            driver: overlay\n",
    "\n",
    "    volumes:\n",
    "        mongo_data:"
   ]
  },
  {
   "cell_type": "markdown",
   "id": "sweet-beatles",
   "metadata": {},
   "source": [
    "- you have to use `docker-cloud` and not `docker swarm`\n",
    "- the compose file we created above is actually a `stack` file\n",
    "- its constructed as a compose file but its actually used to describe an application that is a stack of services\n",
    "- you have to make sure the swarm is set up \n",
    "- you need to transfer the docker-compose file we created above to go to the leader\n",
    "- `docker-machine scp docker-comosoe.yml node-1:docker-compose.yml`\n",
    "- `docker stack deploy --compose-file docker-compose.yml <STACK-NAME>\n",
    "- `docker node ls`"
   ]
  }
 ],
 "metadata": {
  "kernelspec": {
   "display_name": "Python 3",
   "language": "python",
   "name": "python3"
  },
  "language_info": {
   "codemirror_mode": {
    "name": "ipython",
    "version": 3
   },
   "file_extension": ".py",
   "mimetype": "text/x-python",
   "name": "python",
   "nbconvert_exporter": "python",
   "pygments_lexer": "ipython3",
   "version": "3.9.2"
  }
 },
 "nbformat": 4,
 "nbformat_minor": 5
}
