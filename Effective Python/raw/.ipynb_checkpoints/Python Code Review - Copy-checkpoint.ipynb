{
 "cells": [
  {
   "cell_type": "markdown",
   "id": "complicated-hacker",
   "metadata": {},
   "source": [
    "## General"
   ]
  },
  {
   "cell_type": "markdown",
   "id": "wooden-secretary",
   "metadata": {},
   "source": [
    "- (__Item:2__) Follow PEP8\n",
    "    - use in line negation (`if a is not b`) instead of negation of postive expressions (if not a is b)\n",
    "    - try to reduce level of `nesting` using `classes`, `generators`, `etc.`\n",
    "    - imports should be in a section in the following order: `standard library` modules, `third-party` modules, `your` own modules. Each subsection should have imports in alphabetical order\n",
    "    - in loops use `_` for unused variables\n",
    "    - try to return function instead of calling function and then returning it\n",
    "    - try combining exception handling\n",
    "    - try to make your function generalizable as possible\n",
    "    - use `long` and descriptive variable names \n",
    "- (__Item 5__) Write `Helper Functions` Instead of Complex Expressions\n",
    "- (__Item 6__): Perfer Multiple Assignment `Unpacking` over Indexing\n",
    "- (__Item 7__): Perfer `enumerate` over `range`\n",
    "- (__Item 8__): Use `zip` top process Iterators in Parallel\n",
    "- (__Item 9__): Avoid `else` Blocks After `for` and `while` Loops\n",
    "- (__Item 10__): Prevent Repetition with Assignment Expressions / `Walrus Operator`"
   ]
  },
  {
   "cell_type": "markdown",
   "id": "lesbian-conspiracy",
   "metadata": {},
   "source": [
    "## Lists and Dictionaries"
   ]
  },
  {
   "cell_type": "markdown",
   "id": "fossil-memphis",
   "metadata": {},
   "source": [
    "- (__Item 12:__) Avoid `Striding` and `Slicing` in a Signle Expression\n",
    "    - If you need all three parameters, consider doing two assignments (one to stride and another to slice) or using `islice` from the `itertools`\n",
    "- (__Item 13:__) Perfer `Catch-All` Unpacking Over Slicing (`*unpacking`) \n",
    "- (__Item: 14__) Sort by `Complex` Criteria Using the `Key` Parameter\n",
    "    - tuples have built in `__it__` and you can compare them\n",
    "    - sort(key=lambda x: (x.weight, -x.name)\n",
    "- (__Item: 16__) Perfer `get` Over `in` and `KeyError` to Handle Missing Dictionary Keys \n",
    "- (__Item: 17__) Perfer `defaultdict` Over `setdefault` to Handle Missing Items in Internal State\n",
    "    - try to use `if (names := votes.get(key)) is None:`\n",
    "- (__Item: 18__) Know How to Construct Key-Dependent Default Values with `__missing__`"
   ]
  },
  {
   "cell_type": "markdown",
   "id": "injured-meter",
   "metadata": {},
   "source": [
    "## Functions"
   ]
  },
  {
   "cell_type": "markdown",
   "id": "relative-freedom",
   "metadata": {},
   "source": [
    "- (__Item: 19__) Never Unpack More Than Three Variables from Functions\n",
    "- (__Item: 22__) Reduce Visual Noise with Variable Positional Arguments (`*args`)\n",
    "    - not good pratice to use this with generators\n",
    "- (__Item: 23__) Provide Optional Behavior with Keyword Arguments (`**kwargs`)\n",
    "- (__Item: 24__) Use `None` and Docstrings to Specify Dynamic Default Arguments\n",
    "    -  during function definition at module load time. This can cause odd behaviors for dynamic values (like {}, [], or datetime.now())\n",
    "- (__Item: 25__) Enforce Clarity with Keyword-Only and Positional-Only Arguments\n",
    "    - `safe_division_d(x, y, /, *, found=False, ignore=False)`\n",
    "- (__Item: 26__) Define Function Decorators with `functools.wraps`"
   ]
  },
  {
   "cell_type": "markdown",
   "id": "bearing-alert",
   "metadata": {},
   "source": [
    "## Comprehensions and Generators"
   ]
  },
  {
   "cell_type": "markdown",
   "id": "pleasant-reality",
   "metadata": {},
   "source": [
    "- (__Item: 27__) Use Comprehensions Instead of `map` and `filter`\n",
    "- (__Item: 28__) Avoid More Than Two Control Subexpressions in Comprehension\n",
    "    - meaning have two `for` loops or one for loop and one `if`\n",
    "- (__Item: 29__) Avoid Repeated Work in Comprehensions by Using Assignment Expression\n",
    "- (__Item: 30__) Consider `Generators` Instead of Returning `Lists`\n",
    "- (__Item: 31__) Be Denfensive when Iterative Over `Arguments`\n",
    "- (__Item: 32__) Consider `Generator Expressions` for Large `Lists` Comprehensions\n",
    "    - Generator expressions execute very quickly when chained together and are memory efficient\n",
    "- (__Item: 33__) Compose Multiple Generators with `yeild from`\n",
    "- (__Item: 35__) Avoid Causing State Transitions in Generators with `throw\n",
    "- (__Item: 36__) Consider `itertools` foe working with iterators and generators\n",
    "    - `chain`, `repeat`, `cycle`, `tee`, `zip_longest`, `islice`, `takewhile`, `dropwhile`, ``, `filterfalse`, `accumulate`, `product`, `permutations`, `combinations`"
   ]
  },
  {
   "cell_type": "markdown",
   "id": "mighty-prospect",
   "metadata": {},
   "source": [
    "## Classes and Interfaces"
   ]
  },
  {
   "cell_type": "markdown",
   "id": "compact-spare",
   "metadata": {},
   "source": [
    "- (__Item: 37__) Compose Classes Instead of Nesting Many Levels of Built-in Types\n",
    "    - bascially if you have to futher then one level of nesting, i.e, a dictionay in a tuple or a tuple in a dictionary , re-think aprpoach \n",
    "    - it is time to use classes to create a layer of abstraction between your interfaces and concrete implementations\n",
    "    - use `namedtuple` for lightweight immutable data containers before you need the flexibility of a full class\n",
    "   - move your code to using multiple classes when you internal state dictionaries get complicated\n",
    "- (__Item: 38__) Accept Functions instead of Classes for Simple Interfaces\n",
    "    - you can pass fuction or class methods to functions as API hooks\n",
    "    - using a helper class to provide the behavior of a stateful closure is clearner\n",
    "    -  when you need a function to maintain state, consider defining a class that provides the` __cal__` method instead of defining a stateful closure\n",
    "- (__Item: 39__) Use `@classmethod` Polymorphism to Construct Objects Generically\n",
    "    - Use `@classmethod` to define alternative constructors for your classes\n",
    "    - Use class method polymorphism to provide generic ways to build and connect many concrete subclasses\n",
    "    - essentially what this will allow you to do is generically connect and initialize things like `mapreduce`\n",
    "- (__Item: 40__) Initialize Parent Classes with `super`\n",
    "    - use `.mro()` to see order of function calls\n",
    "- (__Item: 41__) Consider Composing Functionality with Mixin Classes\n",
    "- (__Item: 42__) Perfer Public Attributes over Private Ones\n",
    "    - Use documentation of protected fields to guide subclasses instead of trying to force access control with private attributes.\n",
    "- (__Item: 43__) Iherit from `collections.abc` for Custom Container Types"
   ]
  },
  {
   "cell_type": "markdown",
   "id": "organic-round",
   "metadata": {},
   "source": [
    "## Collaboration"
   ]
  },
  {
   "cell_type": "markdown",
   "id": "difficult-kenya",
   "metadata": {},
   "source": [
    "- (__Item: 84__) Write Docstrings for Every Function, Class and Module\n",
    "    - write documentation for every module, class, method and function using docstrings\n",
    "    - for `modules`: introduce the contents of a module and any important classes or functions that all users should know about\n",
    "    - for `classes`: document behavior, important attributes, and subclass behavior in the docstring following the `class` statement\n",
    "    - for `functions`/`methods`: document every argument, returned value, raised exception, and other behaviors in the docstring following the `def` statement\n",
    "    - if your're using `type` annotations, omit the information that already present in the type annotations from docstrings since it would be redundant to have it in both places\n",
    "- (__Item: 85__) Use Packages to Organize Modules and Provide Stable APIs\n",
    "- (__Item: __)\n",
    "- (__Item: __)\n",
    "- (__Item: __)\n",
    "- (__Item: __)\n",
    "- (__Item: __)\n",
    "- (__Item: __)\n",
    "- (__Item: __)\n",
    "- (__Item: __)\n",
    "- (__Item: __)\n",
    "- (__Item: __)\n",
    "- (__Item: __)\n",
    "- (__Item: __)\n",
    "- (__Item: __)\n",
    "- (__Item: __)\n",
    "- (__Item: __)\n",
    "- (__Item: __)\n"
   ]
  },
  {
   "cell_type": "markdown",
   "id": "sapphire-upgrade",
   "metadata": {},
   "source": []
  }
 ],
 "metadata": {
  "kernelspec": {
   "display_name": "Python 3",
   "language": "python",
   "name": "python3"
  },
  "language_info": {
   "codemirror_mode": {
    "name": "ipython",
    "version": 3
   },
   "file_extension": ".py",
   "mimetype": "text/x-python",
   "name": "python",
   "nbconvert_exporter": "python",
   "pygments_lexer": "ipython3",
   "version": "3.9.2"
  }
 },
 "nbformat": 4,
 "nbformat_minor": 5
}
