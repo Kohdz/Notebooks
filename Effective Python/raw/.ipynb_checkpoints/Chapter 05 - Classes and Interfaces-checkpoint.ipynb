{
 "cells": [
  {
   "cell_type": "markdown",
   "id": "competitive-parking",
   "metadata": {},
   "source": [
    "## Item 37: Compose Classes Instead of Nesting Many Levels of Built-in Types"
   ]
  },
  {
   "cell_type": "markdown",
   "id": "dependent-barcelona",
   "metadata": {},
   "source": [
    "- pythons built-in dictionary type is wounderful for maintaining dynamic internal state over the lifetime of an object\n",
    "- by `dynamic` we mean situations where you need to do bookkeeping for unexpected set of identifiers\n",
    "- imagine you need to redord the grades of a set of students whose names arent known in advance"
   ]
  },
  {
   "cell_type": "markdown",
   "id": "approved-actor",
   "metadata": {},
   "source": [
    "- __Nesting Many Levels of Built-in Types Means dont put a dictionary in another dictionary or dont put a tuple in a dictionary inside of a dictionary__"
   ]
  },
  {
   "cell_type": "markdown",
   "id": "charming-thomas",
   "metadata": {},
   "source": [
    "- dictionaries and their related built-in types are easy to use that theres a danger of overextending them to write britle code\n",
    "- for example, say I want to extend the student/grade class feature to keep a `list` of grades by subject, not just overall\n",
    "- I can do this by chainging the `_grade` dictionary to map student names (its keys) to yet another dictionary (its values)\n",
    "- the inner most dictionary will map subjects (its keys) to a `list` of grades (its values)\n",
    "- we will use a `defaultdict` instance for the inner dictionary to handle missing subjects"
   ]
  },
  {
   "cell_type": "markdown",
   "id": "ahead-feelings",
   "metadata": {},
   "source": [
    "- imagine that the requirements change agian\n",
    "- we also want tot track the weight of each score toward the overall grade in the class so that midterm and final exams are more important than pop quizes\n",
    "- instead of mapping subjects (its keys) to a `list` of grades (its values), I can use the tuple of (score, weight) in the values `list`"
   ]
  },
  {
   "cell_type": "code",
   "execution_count": 8,
   "id": "postal-intake",
   "metadata": {},
   "outputs": [
    {
     "name": "stdout",
     "output_type": "stream",
     "text": [
      "80.25\n"
     ]
    }
   ],
   "source": [
    "from collections import defaultdict\n",
    "\n",
    "class WeightedGradebook:\n",
    "    def __init__(self):\n",
    "        self._grades = {}\n",
    "    \n",
    "    def add_student(self, name):\n",
    "        self._grades[name] = defaultdict(list)\n",
    "    \n",
    "    def report_grade(self, name, subject, score, weight):\n",
    "        by_subject = self._grades[name]\n",
    "        grade_list = by_subject[subject]\n",
    "        grade_list.append((score, weight))\n",
    "\n",
    "    def average_grade(self, name):\n",
    "        by_subject = self._grades[name]\n",
    "        score_sum, score_count = 0, 0\n",
    "        for subject, scores in by_subject.items():\n",
    "            subject_avg, total_weight = 0, 0\n",
    "\n",
    "            for score, weight in scores:\n",
    "                subject_avg += score * weight\n",
    "                total_weight += weight\n",
    "\n",
    "            score_sum += subject_avg / total_weight\n",
    "            score_count += 1\n",
    "    \n",
    "        return score_sum / score_count\n",
    "\n",
    "book = WeightedGradebook()\n",
    "book.add_student('Albert Einstein')\n",
    "book.report_grade('Albert Einstein', 'Math', 75, 0.05)\n",
    "book.report_grade('Albert Einstein', 'Math', 65, 0.15)\n",
    "book.report_grade('Albert Einstein', 'Math', 70, 0.80)\n",
    "book.report_grade('Albert Einstein', 'Gym', 100, 0.40)\n",
    "book.report_grade('Albert Einstein', 'Gym', 85, 0.60)\n",
    "print(book.average_grade('Albert Einstein'))"
   ]
  },
  {
   "cell_type": "markdown",
   "id": "pleased-premiere",
   "metadata": {},
   "source": [
    "- as you can imagine the complexity is just going to get unmanageable\n",
    "- this is when we need to make the leap from built-in types like `dictionaries`, `tuples`, `sets` and lists to a hierarchy of classes\n",
    "- when you realize that the class is getting complicated, break it all out into classes\n",
    "- you can then provide well-defined interfaces that better encapsulate your data\n",
    "- this lets you create a layer of abstraction between your interfacesand your concrete implementations"
   ]
  },
  {
   "cell_type": "markdown",
   "id": "representative-villa",
   "metadata": {},
   "source": [
    "### Refactoring to Classes"
   ]
  },
  {
   "cell_type": "markdown",
   "id": "mechanical-lawsuit",
   "metadata": {},
   "source": [
    "- we can start moving to classes at the bottom of the dependency tree:\n",
    "    - a single grade\n",
    "- a class seems too heavyweight for such simple information\n",
    "- a `tuple` though, seems appropriate because grades are immutable\n",
    "- below I use the tuple of (score, weight) to track grades in a list  "
   ]
  },
  {
   "cell_type": "code",
   "execution_count": 9,
   "id": "english-glasgow",
   "metadata": {},
   "outputs": [],
   "source": [
    "grades = []\n",
    "grades.append((95, 0.45))\n",
    "grades.append((85, 0.55))\n",
    "total = sum(score * weight for score, weight in grades)\n",
    "total_weight = sum(weight for _, weight in grades)\n",
    "average_grade = total / total_weight"
   ]
  },
  {
   "cell_type": "markdown",
   "id": "little-ballet",
   "metadata": {},
   "source": [
    "- note the `_` is used in loops where we want to ignore the unused variable\n",
    "- the problem with the code above is that the `tuple` instances are postitional\n",
    "- if we want to associate more information with a grade, such as a set of notes from the teacher, we need to rewrite  every uage of the two-tuple to be aware that there are now three items present instead\n",
    "- this means we now have to use multiple `_` in the code"
   ]
  },
  {
   "cell_type": "code",
   "execution_count": 10,
   "id": "chubby-arctic",
   "metadata": {},
   "outputs": [],
   "source": [
    "grades = []\n",
    "grades.append((95, 0.45, 'Great job'))\n",
    "grades.append((85, 0.55, 'Better next time'))\n",
    "total = sum(score * weight for score, weight, _ in grades)\n",
    "total_weight = sum(weight for _, weight, _ in grades)\n",
    "average_grade = total / total_weight"
   ]
  },
  {
   "cell_type": "markdown",
   "id": "metric-investment",
   "metadata": {},
   "source": [
    "- the pattern of extending tuples longer and longer is similar to deepening layers of dictionaries\n",
    "- as soon as you find yourself going longer than a two-tuple, it's time to consider another approach\n",
    "- as soon as you see yourself going longer than a two tuple, its time to reconsider your approach"
   ]
  },
  {
   "cell_type": "markdown",
   "id": "pending-amplifier",
   "metadata": {},
   "source": [
    "- the `namedtuple` type in the `collections` built-in module does exactly what we need in this case\n",
    "- it lets us easily define tiny, immutable data classes"
   ]
  },
  {
   "cell_type": "code",
   "execution_count": 11,
   "id": "demonstrated-cylinder",
   "metadata": {},
   "outputs": [],
   "source": [
    "from collections import namedtuple\n",
    "\n",
    "Grade = namedtuple('Grade', ('score', 'weight'))"
   ]
  },
  {
   "cell_type": "markdown",
   "id": "ecological-court",
   "metadata": {},
   "source": [
    "- these classes can be constructed with positional or keyword arguments\n",
    "- the fields are accessible with named attributes\n",
    "- having named attributes makes it easy to move from a `namedtuple` to a class later if the requirements change again and we need to say, support mutability or behaviors in the simple data containers"
   ]
  },
  {
   "cell_type": "markdown",
   "id": "figured-tattoo",
   "metadata": {},
   "source": [
    "__Limitations of `namedtuple`__:\n",
    "- you cant specify default argument values for `namedtuple` class\n",
    "    - this makes them unwieldy when your data may have many optional properties. If you find yourself using more than a handful of attributes, using the built in `dataclass` module may be a better choice\n",
    "- the attribute values of `namedtuple` instances are still accessible using numerical indexes and iterations\n",
    "    - especially in externalized APIs, this can lead to unintentional usage that makes it harfer to mvoe to a real `class` later\n",
    "    - if your not in control of all of the  usages of your `namedtuple` instances, its better to explicitly define a new class"
   ]
  },
  {
   "cell_type": "markdown",
   "id": "subsequent-sphere",
   "metadata": {},
   "source": [
    "- Next, we write a class to represent a single subject that contains a `set` of grades"
   ]
  },
  {
   "cell_type": "code",
   "execution_count": 12,
   "id": "agreed-purchase",
   "metadata": {},
   "outputs": [],
   "source": [
    "class Subject:\n",
    "    def __init__(self):\n",
    "        self._grades = []\n",
    "        \n",
    "    def report_grade(self, score, weight):\n",
    "        self._grades.append(Grade(score, weight))\n",
    "        \n",
    "    def average_grade(self):\n",
    "        total, total_weight = 0, 0\n",
    "        for grade in self._grades:\n",
    "            total += grade.score * grade.weight\n",
    "            total_weight += grade.weight\n",
    "        return total / total_weight"
   ]
  },
  {
   "cell_type": "markdown",
   "id": "turned-battlefield",
   "metadata": {},
   "source": [
    "- then we write a class to represent a set of subjects that are being studied by a single student"
   ]
  },
  {
   "cell_type": "code",
   "execution_count": 13,
   "id": "exact-circuit",
   "metadata": {},
   "outputs": [],
   "source": [
    "class Student:\n",
    "    def __init__(self):\n",
    "        self._subjects = defaultdict(Subject)\n",
    "        \n",
    "    def get_subject(self, name):\n",
    "        return self._subjects[name]\n",
    "    \n",
    "    def average_grade(self):\n",
    "        total, count = 0, 0\n",
    "        for subject in self._subjects.values():\n",
    "            total += subject.average_grade()\n",
    "            count += 1\n",
    "        return total / count"
   ]
  },
  {
   "cell_type": "markdown",
   "id": "spectacular-window",
   "metadata": {},
   "source": [
    "- finally we write a container for all the students, keyed dynamically by their names"
   ]
  },
  {
   "cell_type": "code",
   "execution_count": 14,
   "id": "favorite-judge",
   "metadata": {},
   "outputs": [],
   "source": [
    "class Gradebook:\n",
    "    def __init__(self):\n",
    "        self._students = defaultdict(Student)\n",
    "        \n",
    "    def get_student(self, name):\n",
    "        return self._students[name]"
   ]
  },
  {
   "cell_type": "markdown",
   "id": "short-villa",
   "metadata": {},
   "source": [
    "- the line count of these classes in almost dbouble the previous implementation size, but this code is much easier to read"
   ]
  },
  {
   "cell_type": "code",
   "execution_count": 15,
   "id": "desirable-cable",
   "metadata": {},
   "outputs": [
    {
     "name": "stdout",
     "output_type": "stream",
     "text": [
      "80.25\n"
     ]
    }
   ],
   "source": [
    "book = Gradebook()\n",
    "albert = book.get_student('Albert Einstein')\n",
    "math = albert.get_subject('Math')\n",
    "math.report_grade(75, 0.05)\n",
    "math.report_grade(65, 0.15)\n",
    "math.report_grade(70, 0.80)\n",
    "gym = albert.get_subject('Gym')\n",
    "gym.report_grade(100, 0.40)\n",
    "gym.report_grade(85, 0.60)\n",
    "print(albert.average_grade())"
   ]
  },
  {
   "cell_type": "markdown",
   "id": "ideal-champagne",
   "metadata": {},
   "source": [
    "- avoid making dictionaries with values that are dictionaries, long tuples or complex nesting of other built-in types\n",
    "- use `namedtuple` for lightweight immutable data containers before you need the flexibility of a full class\n",
    "- move your code to using multiple classes when you internal state dictionaries get complicated"
   ]
  },
  {
   "cell_type": "markdown",
   "id": "prompt-coordinator",
   "metadata": {},
   "source": [
    "## Item 38: Accept Functions Instead of Classes for Simple Interfaces"
   ]
  },
  {
   "cell_type": "markdown",
   "id": "academic-leone",
   "metadata": {},
   "source": [
    "- many of pythons built-in APIs allow you to customize behavior by passing in a function\n",
    "- these `hooks` are used by APIs to call back your code while they execute\n",
    "- for example the `list` type's `sort` method takes an optional `key` argument thats used to determine each index's value for sorting\n",
    "- Here we sort a `list` of names based on their lenghts by providing the `len` built-in function as the `key` hook"
   ]
  },
  {
   "cell_type": "code",
   "execution_count": 16,
   "id": "knowing-hunter",
   "metadata": {},
   "outputs": [
    {
     "name": "stdout",
     "output_type": "stream",
     "text": [
      "['Plato', 'Socrates', 'Aristotle', 'Archimedes']\n"
     ]
    }
   ],
   "source": [
    "names = ['Socrates', 'Archimedes', 'Plato', 'Aristotle']\n",
    "names.sort(key=len)\n",
    "print(names)"
   ]
  },
  {
   "cell_type": "markdown",
   "id": "under-carrier",
   "metadata": {},
   "source": [
    "- in other languages, you might expect hooks to be defined by an abstract class\n",
    "- in python, many hooks are just stateless function with well-defined arguments and return values\n",
    "- functions are ideal for hooks because they are easier to describe and simpler to define than classes\n",
    "- functions work as hooks because `Python` has `first-class` functions: Functions and methods can be passed around and refrenced like any other value in the language"
   ]
  },
  {
   "cell_type": "markdown",
   "id": "descending-benefit",
   "metadata": {},
   "source": [
    "- for example, say I that I want to customize the behavior of the `defaultdict` class\n",
    "-  this data structure allows you to supply a function that will be called with no arguments each time a missing key is accessed\n",
    "- the function must return the default value that the missing key should have in the dictionary\n",
    "- here I define a hook that logs each time a key is missing and returns 0 for the default value"
   ]
  },
  {
   "cell_type": "code",
   "execution_count": 17,
   "id": "simplified-senator",
   "metadata": {},
   "outputs": [],
   "source": [
    "def log_missing():\n",
    "    print('key added')\n",
    "    return 0"
   ]
  },
  {
   "cell_type": "markdown",
   "id": "hungarian-turning",
   "metadata": {},
   "source": [
    "- given an initial dictionary and a set of desered increments, I can cause the `log_missing` function to run and print twice (for 'red' and 'orange')"
   ]
  },
  {
   "cell_type": "code",
   "execution_count": 19,
   "id": "invalid-patent",
   "metadata": {},
   "outputs": [
    {
     "name": "stdout",
     "output_type": "stream",
     "text": [
      "Before: {'green': 12, 'blue': 3}\n",
      "key added\n",
      "key added\n",
      "After:  {'green': 12, 'blue': 20, 'red': 5, 'orange': 9}\n"
     ]
    }
   ],
   "source": [
    "from collections import defaultdict\n",
    "\n",
    "current = {'green': 12, 'blue': 3}\n",
    "increments = [\n",
    "    ('red', 5),\n",
    "    ('blue', 17),\n",
    "    ('orange', 9),\n",
    "]\n",
    "\n",
    "result = defaultdict(log_missing, current)\n",
    "print('Before:', dict(result))\n",
    "\n",
    "for key, amount in increments:\n",
    "    result[key] += amount\n",
    "print('After: ', dict(result))"
   ]
  },
  {
   "cell_type": "markdown",
   "id": "threatened-bundle",
   "metadata": {},
   "source": [
    "- supplying functions like `log_missing` makes the `APIs` easy to build and test because it separates side effects from deterministic behavior\n",
    "- for example, say I want the default value hook passed to `defaultdict` to count the total number of keys that were missing\n",
    "- one way to achieve this is by using a stateful closure (function inside of function)\n",
    "- we define a helper function that uses such a closure as the default vale hook"
   ]
  },
  {
   "cell_type": "code",
   "execution_count": 20,
   "id": "arctic-chile",
   "metadata": {},
   "outputs": [],
   "source": [
    "def increment_with_report(current, increments):\n",
    "    added_count = 0\n",
    "    \n",
    "    def missing():\n",
    "        nonlocal added_count # stateful closure\n",
    "        added_count += 1\n",
    "        return 0\n",
    "    \n",
    "    result = defaultdict(missing, current)\n",
    "    for key, amount in increments:\n",
    "        result[key] += amount\n",
    "        \n",
    "    return result, added_count"
   ]
  },
  {
   "cell_type": "markdown",
   "id": "removable-wrist",
   "metadata": {},
   "source": [
    "- running the function produces the expected result `(2)`, even though the `defaultdict` has no idea that the `missing` hook maintains state\n",
    "- antother benefit of accepting simple functions for interfaces is that it's easy to add functionality later by hiding state in a closure"
   ]
  },
  {
   "cell_type": "code",
   "execution_count": 21,
   "id": "changing-receipt",
   "metadata": {},
   "outputs": [],
   "source": [
    "result, count = increment_with_report(current, increments)\n",
    "assert count == 2 "
   ]
  },
  {
   "cell_type": "markdown",
   "id": "dangerous-athens",
   "metadata": {},
   "source": [
    "- the problem with defining a closure for stateful hooks is that its harder to read than a statless function\n",
    "- another approach is to define a small class that encapsulates the state you want to track"
   ]
  },
  {
   "cell_type": "code",
   "execution_count": 22,
   "id": "secure-survivor",
   "metadata": {},
   "outputs": [],
   "source": [
    "class CountMissing:\n",
    "    def __init__(self):\n",
    "        self.added = 0\n",
    "        \n",
    "    def missing(self):\n",
    "        self.added += 1\n",
    "        return 0"
   ]
  },
  {
   "cell_type": "markdown",
   "id": "working-confidentiality",
   "metadata": {},
   "source": [
    "- in other languages, you might expect that now `defaultdict` woule have to be modified to accommodate the interface of `CountMissing`\n",
    "- but in Python, thanks to first-class functions, you can reference the `CountMissing.missing` directly on an object and pass it to `defaultdict` as the default value hook"
   ]
  },
  {
   "cell_type": "code",
   "execution_count": 23,
   "id": "together-miniature",
   "metadata": {},
   "outputs": [],
   "source": [
    "counter = CountMissing()\n",
    "result = defaultdict(counter.missing, current) # Method ref\n",
    "for key, amount in increments:\n",
    "    result[key] += amount\n",
    "assert counter.added == 2"
   ]
  },
  {
   "cell_type": "markdown",
   "id": "existing-florist",
   "metadata": {},
   "source": [
    "- using a helper class like this to provide the behavior of a stateful closure is clearner then using the `increment_with_report` function\n",
    "- in isolation howerver, its still not clear what the purpose of the `CountMissing` class is\n",
    "- who constructs the `CountMissing` object, who calls the `missing` method\n",
    "- unless you see its usage with `defaultdict`, the class is a mystery"
   ]
  },
  {
   "cell_type": "markdown",
   "id": "distinguished-harbor",
   "metadata": {},
   "source": [
    "- to celarify the situation, Python allows classes to define the `__call__` special method\n",
    "- `__call__` allows an object to be called just like a function\n",
    "- it also causes the callable built-in function to return `True` for such instances, just like a normal function or method\n",
    "- all objects that can be executed in this manner are reffered to as `callables`"
   ]
  },
  {
   "cell_type": "code",
   "execution_count": 24,
   "id": "twenty-edward",
   "metadata": {},
   "outputs": [],
   "source": [
    "class BetterCountMissing:\n",
    "    def __init__(self):\n",
    "        self.added = 0\n",
    "        \n",
    "    def __call__(self):\n",
    "        self.added += 1\n",
    "        return 0\n",
    "    \n",
    "counter = BetterCountMissing()\n",
    "assert counter() == 0\n",
    "assert callable(counter)"
   ]
  },
  {
   "cell_type": "markdown",
   "id": "biblical-crazy",
   "metadata": {},
   "source": [
    "- here we use a `BetterCountMissing` instance as the default value hook for a `defaultdict` to track the number of missing keys that were added"
   ]
  },
  {
   "cell_type": "code",
   "execution_count": 25,
   "id": "critical-bruce",
   "metadata": {},
   "outputs": [],
   "source": [
    "counter = BetterCountMissing()\n",
    "result = defaultdict(counter, current) # Relies on __call__\n",
    "for key, amount in increments:\n",
    "    result[key] += amount\n",
    "assert counter.added == 2"
   ]
  },
  {
   "cell_type": "markdown",
   "id": "desirable-helen",
   "metadata": {},
   "source": [
    "- this is much clearer than the `CountMissing.missing` example\n",
    "- the `__call__` method indicates that a class's instances will be used somewhere a function argument would also be suitible (like API hooks)\n",
    "- it directs new readers of the code to the entry point thats responsible for the class's primary behavior\n",
    "- it provides a strong hint that the goal of the class is to act as a stateful closure\n",
    "- best of all `defaultdict` still has no view into what going on when you use `__call__`\n",
    "- all that `defaultdict` requires is a function for the default value hook\n",
    "- python provides different ways to satisfy a simple function interface and you can choose the one that works best for what you need to accomplish"
   ]
  },
  {
   "cell_type": "markdown",
   "id": "afraid-inspiration",
   "metadata": {},
   "source": [
    "- instead of defining and instantiating classes, you can oftern simply use functions for simple interfaces betweeen components in python\n",
    "- refrences to functions and methods in python are first class, meaning they can be used in expressions\n",
    "- the `__call__` special method enables instances of a class to be called like plain python function\n",
    "- when you need a function to maintain state, consider defining a class that provides the `__cal__` method instead of defining a stateful closure"
   ]
  },
  {
   "cell_type": "markdown",
   "id": "dutch-workshop",
   "metadata": {},
   "source": [
    "## Item 39: Use `@classmethod` Polymorphism to Construct Objects Generically"
   ]
  },
  {
   "cell_type": "markdown",
   "id": "dressed-african",
   "metadata": {},
   "source": [
    "- in python not only do objects support polymorphims, but classes do as well\n",
    "- polymorphism enables multiple classes in a hierarchy to implement their own unique versions of a method\n",
    "- this means that many classes can fulfill the same interface or abstract base class while provididing different functionality\n",
    "- for example, samy that I'm writting a `MapReduce` implementation and I want a common class to represent the input data\n",
    "- Here, I define such a class with a `read` method that must be defined by subclasses"
   ]
  },
  {
   "cell_type": "code",
   "execution_count": 65,
   "id": "unknown-scott",
   "metadata": {},
   "outputs": [],
   "source": [
    "class InputData:\n",
    "    def __init__(self, data):\n",
    "        self.data = data\n",
    "    \n",
    "    def read(self):\n",
    "        raise NotImplementedError"
   ]
  },
  {
   "cell_type": "markdown",
   "id": "thick-mount",
   "metadata": {},
   "source": [
    "- I also have a concrete subclass of InputData that reads data from a file on disk"
   ]
  },
  {
   "cell_type": "code",
   "execution_count": null,
   "id": "small-outreach",
   "metadata": {},
   "outputs": [],
   "source": [
    "class PathInputData(InputData):\n",
    "    def __init__(self, path):\n",
    "        super().__init__()\n",
    "        self.path = path\n",
    "        \n",
    "    def read(self):\n",
    "        with open(self.path) as f:\n",
    "            return f.read()"
   ]
  },
  {
   "cell_type": "markdown",
   "id": "french-truck",
   "metadata": {},
   "source": [
    "- you could have any number of `InputData` subclasses, like `PathInputData` and each of them could implement the standard interface for read to return the data to process\n",
    "- other `InputData` subclasses could read the network, decompress data transparently, and so on\n",
    "- I'd want a similar abstract interface for `MapReduce` worker that consumes the input data in a standard way "
   ]
  },
  {
   "cell_type": "code",
   "execution_count": 15,
   "id": "parliamentary-sight",
   "metadata": {},
   "outputs": [],
   "source": [
    "class Worker:\n",
    "    def __init__(self, input_data):\n",
    "        self.input_data = input_data\n",
    "        self.result = None\n",
    "    \n",
    "    def map(self):\n",
    "        raise NotImplementedError\n",
    "    \n",
    "    def reduce(self, other):\n",
    "        raise NotImplementedError"
   ]
  },
  {
   "cell_type": "markdown",
   "id": "desirable-recording",
   "metadata": {},
   "source": [
    "- below I define a concrete subclass of Worker to implement the specific `MapReduce` function I want to apply- a simple newline counter"
   ]
  },
  {
   "cell_type": "code",
   "execution_count": 16,
   "id": "aggregate-universal",
   "metadata": {},
   "outputs": [],
   "source": [
    "class LineCountWorker(Worker):\n",
    "    def map(self):\n",
    "        data = self.input_data.read()\n",
    "        self.result = data.count('\\n')\n",
    "    \n",
    "    def reduce(self, other):\n",
    "        self.result += other.result"
   ]
  },
  {
   "cell_type": "markdown",
   "id": "foreign-equipment",
   "metadata": {},
   "source": [
    "- one issue we have is that all of the classes are good but what conencts?\n",
    "- the classes are only useful once the objects are constructed\n",
    "- what is responsible for building the objects and orchestrating the `MapReduce`?"
   ]
  },
  {
   "cell_type": "markdown",
   "id": "transsexual-aerospace",
   "metadata": {},
   "source": [
    "- the simplest approach is to manually build and connect the objects with some helper functions\n",
    "- below we list the contents of a directory and construct a `PAthInputData` instance for each file it contains"
   ]
  },
  {
   "cell_type": "code",
   "execution_count": 17,
   "id": "assumed-chess",
   "metadata": {},
   "outputs": [],
   "source": [
    "import os\n",
    "\n",
    "def generate_inputs(data_dir):\n",
    "    for name in os.listdir(data_dir):\n",
    "        yield PathInputData(os.path.join(data_dir, name))"
   ]
  },
  {
   "cell_type": "markdown",
   "id": "choice-missouri",
   "metadata": {},
   "source": [
    "- next I create the `LineCountWorker` instances by using the `InputData` instances returned by `generate_inputs`"
   ]
  },
  {
   "cell_type": "code",
   "execution_count": 18,
   "id": "major-helping",
   "metadata": {},
   "outputs": [],
   "source": [
    "def create_workers(input_list):\n",
    "    workers = []\n",
    "    for input_data in input_list:\n",
    "        workers.append(LineCountWorker(input_data))\n",
    "    return workers"
   ]
  },
  {
   "cell_type": "markdown",
   "id": "lucky-budget",
   "metadata": {},
   "source": [
    "- we execute these `Worker` instances by fanning out the `map` step to multiple threads\n",
    " - then we call `reduce` repeatedly to combine the results into one final value"
   ]
  },
  {
   "cell_type": "code",
   "execution_count": 56,
   "id": "round-johnson",
   "metadata": {},
   "outputs": [],
   "source": [
    "from threading import Thread\n",
    "\n",
    "def execute(workers):\n",
    "    threads = [Thread(target=w.map) for w in workers]\n",
    "    for thread in threads: thread.start()\n",
    "    for thread in threads: thread.join()\n",
    "    \n",
    "    first, *rest = workers\n",
    "    for worker in rest:\n",
    "        first.reduce(worker)\n",
    "    return first.result"
   ]
  },
  {
   "cell_type": "markdown",
   "id": "charming-oliver",
   "metadata": {},
   "source": [
    "- finally we conenct all the pieces together in a function to run each step"
   ]
  },
  {
   "cell_type": "code",
   "execution_count": 57,
   "id": "answering-header",
   "metadata": {},
   "outputs": [],
   "source": [
    "def mapreduce(data_dir):\n",
    "    inputs = generate_inputs(data_dir)\n",
    "    workers = create_workers(inputs)\n",
    "    return execute(workers)"
   ]
  },
  {
   "cell_type": "markdown",
   "id": "metallic-binary",
   "metadata": {},
   "source": [
    "- running this function on a set of test input files works as expected"
   ]
  },
  {
   "cell_type": "code",
   "execution_count": 58,
   "id": "lyric-valuation",
   "metadata": {},
   "outputs": [],
   "source": [
    "import os\n",
    "import random\n",
    "\n",
    "def write_test_files(tmpdir):\n",
    "    os.makedirs(tmpdir)\n",
    "    for i in range(100):\n",
    "        with open(os.path.join(tmpdir, str(i)), 'w') as f:\n",
    "            f.write('\\n' * random.randint(0, 100))\n",
    "\n",
    "# tmpdir = 'test_inputs' + str(random.randint(1,101))\n",
    "# write_test_files(tmpdir)\n",
    "\n",
    "# result = mapreduce(tmpdir)\n",
    "# print(f'There are {result} lines')"
   ]
  },
  {
   "cell_type": "markdown",
   "id": "killing-booking",
   "metadata": {},
   "source": [
    "__Problem with the code above__:\n",
    "- the huge issue is that the `mapreduce` function is not generic at all\n",
    "- If we wanted to write another `InputData` or `Worker` subclass, I would also have to rewrite the `generate_input`, `create_workers` and `mapreduce` functions to match"
   ]
  },
  {
   "cell_type": "markdown",
   "id": "smoking-subscriber",
   "metadata": {},
   "source": [
    "- the problem boils donw to needing a generic way to construc objects\n",
    "- in other programming languages, you could use `constructor polymorphism`\n",
    "    - you would require that each `InputData` subclass provides a special constructor that can be used generically by the helper methods that orchestrate the `MapReduce` (simmilar to the factory pattern)\n",
    " - problem in python is that it only allows for a single constructor method `__init__`\n",
    " - its unreasonable to require every `InputData` subclass to have a compatible constructor"
   ]
  },
  {
   "cell_type": "markdown",
   "id": "effective-vault",
   "metadata": {},
   "source": [
    "- the best way to solve this problem is with a `class method` polymorphism\n",
    "- this is exactly like the instance method polymorphims used for `InputData.read`, except that it's for whole classes instead of their constructed objects"
   ]
  },
  {
   "cell_type": "markdown",
   "id": "composite-thread",
   "metadata": {},
   "source": [
    "- lets apply this idea to the `MapReduce` classes\n",
    "- we can extend the `InputData class` with a generic `@classmethod` that's responsible for creating new `InputData` instance using a common interface"
   ]
  },
  {
   "cell_type": "code",
   "execution_count": 59,
   "id": "suburban-hamburg",
   "metadata": {},
   "outputs": [],
   "source": [
    "class GenericInputData:\n",
    "    def read(self):\n",
    "        raise NotImplementedError\n",
    "    \n",
    "    @classmethod\n",
    "    def generate_inputs(cls, config):\n",
    "        raise NotImplementedError"
   ]
  },
  {
   "cell_type": "markdown",
   "id": "polished-playback",
   "metadata": {},
   "source": [
    "- we have `generate_inputs` take a dictionary with a set of configuration parameters that the `GenericInputData` concrete subclass needs to interpret\n",
    "- below I use the `config` to find the directory to list for input files"
   ]
  },
  {
   "cell_type": "code",
   "execution_count": 60,
   "id": "executive-crazy",
   "metadata": {},
   "outputs": [],
   "source": [
    "class PathInputData(GenericInputData):\n",
    "    def __init__(self, path):\n",
    "        super().__init__()\n",
    "        self.path = path\n",
    "        \n",
    "    def read(self):\n",
    "        with open(self.path) as f:\n",
    "            return f.read()\n",
    "    @classmethod\n",
    "    def generate_inputs(cls, config):\n",
    "        data_dir = config['data_dir']\n",
    "        for name in os.listdir(data_dir):\n",
    "            yield cls(os.path.join(data_dir, name))"
   ]
  },
  {
   "cell_type": "markdown",
   "id": "exotic-resident",
   "metadata": {},
   "source": [
    "- similarly we can make the `create_workers` helper part of the `GeenricWorker` class\n",
    "- we use the `input_classs` parameter, which must be a subclass of `GenericInputData`, to generate the necessary inputs\n",
    "- I construct instances of the `GenericWorker` concrete subclass by using `cls()` as a generic constructor"
   ]
  },
  {
   "cell_type": "code",
   "execution_count": 61,
   "id": "thirty-interest",
   "metadata": {},
   "outputs": [],
   "source": [
    "class GenericWorker:\n",
    "    def __init__(self, input_data):\n",
    "        self.input_data = input_data\n",
    "        self.result = None\n",
    "    \n",
    "    def map(self):\n",
    "        raise NotImplementedError\n",
    "    \n",
    "    def reduce(self, other):\n",
    "        raise NotImplementedError\n",
    "    \n",
    "    @classmethod\n",
    "    def create_workers(cls, input_class, config):\n",
    "        workers = []\n",
    "        for input_data in input_class.generate_inputs(config):\n",
    "            workers.append(cls(input_data))\n",
    "        return workers"
   ]
  },
  {
   "cell_type": "markdown",
   "id": "smoking-keyboard",
   "metadata": {},
   "source": [
    "- note that the call to the `input_class.generate_inputs` above is the class polymorphism that were using to show\n",
    "- you can see how `create_workers` calling `cls()` provides an alternative way to construct `GenericWorkers` object besides using the `__init__` method directly"
   ]
  },
  {
   "cell_type": "markdown",
   "id": "isolated-fiber",
   "metadata": {},
   "source": [
    "- the effect on my concrete `GenericWorker` subclass is nothing more than changing its parent class"
   ]
  },
  {
   "cell_type": "code",
   "execution_count": 62,
   "id": "neutral-librarian",
   "metadata": {},
   "outputs": [],
   "source": [
    "class LineCountWorker(GenericWorker):\n",
    "    def map(self):\n",
    "        data = self.input_data.read()\n",
    "        self.result = data.count('\\n')\n",
    "    \n",
    "    def reduce(self, other):\n",
    "        self.result += other.result"
   ]
  },
  {
   "cell_type": "markdown",
   "id": "aware-collection",
   "metadata": {},
   "source": [
    " finally we can rewrite the `mapreduce` function to be completely generic by calling `create_workers`"
   ]
  },
  {
   "cell_type": "code",
   "execution_count": 63,
   "id": "shaped-representation",
   "metadata": {},
   "outputs": [],
   "source": [
    "def mapreduce(worker_class, input_class, config):\n",
    "    workers = worker_class.create_workers(input_class, config)\n",
    "    return execute(workers)"
   ]
  },
  {
   "cell_type": "markdown",
   "id": "finnish-europe",
   "metadata": {},
   "source": [
    "- running the new worker on a set of test files produces the same result as the old implementation\n",
    "- the difference is that `mapreduce` function requires more parameters so that it can operate generically"
   ]
  },
  {
   "cell_type": "code",
   "execution_count": 64,
   "id": "funny-sierra",
   "metadata": {},
   "outputs": [
    {
     "name": "stdout",
     "output_type": "stream",
     "text": [
      "There are 4910 lines\n"
     ]
    }
   ],
   "source": [
    "config = {'data_dir': tmpdir}\n",
    "result = mapreduce(LineCountWorker, PathInputData, config)\n",
    "print(f'There are {result} lines')"
   ]
  },
  {
   "cell_type": "markdown",
   "id": "detailed-recording",
   "metadata": {},
   "source": [
    "- python only supports a single constructor per class: the `__init__` method\n",
    "- use `@classmethod` to define alternative constructors for your classes\n",
    "- use `class method` polymorphism to provide generic ways to build and conenct many concrete subclasses"
   ]
  },
  {
   "cell_type": "markdown",
   "id": "environmental-bangkok",
   "metadata": {},
   "source": [
    "## Item 40: Initialize Parent Classes with `super`"
   ]
  },
  {
   "cell_type": "markdown",
   "id": "crazy-relevance",
   "metadata": {},
   "source": [
    "- the old, simple way to initialize a parent class from a child class is to directly call the parent class's `__init__` method with the child instance"
   ]
  },
  {
   "cell_type": "code",
   "execution_count": 3,
   "id": "infectious-olive",
   "metadata": {},
   "outputs": [],
   "source": [
    "class MyBaseClass:\n",
    "    def __init__(self, value):\n",
    "        self.value = value\n",
    "        \n",
    "class MyChildClass(MyBaseClass):\n",
    "    def __init__(self):\n",
    "        MyBaseClass.__init__(self, 5)"
   ]
  },
  {
   "cell_type": "markdown",
   "id": "ecological-stream",
   "metadata": {},
   "source": [
    "- the code works well for basic class hierarchies but brakes in many cases\n",
    "- if a class is affected by multiple inheritance (something to avoid in general), calling the superclasses `__init__` methods directly can lead to unpredictable behavior\n",
    "- one problem is that the `__init__` call order isn't specified across all subclasses\n"
   ]
  },
  {
   "cell_type": "markdown",
   "id": "fossil-board",
   "metadata": {},
   "source": [
    "- below, we define two parent classes that operate on the instance's `value` field"
   ]
  },
  {
   "cell_type": "code",
   "execution_count": 6,
   "id": "ambient-modern",
   "metadata": {},
   "outputs": [
    {
     "name": "stdout",
     "output_type": "stream",
     "text": [
      "First ordering value is (5 * 2) + 5 =  15\n"
     ]
    }
   ],
   "source": [
    "class TimesTwo:\n",
    "    def __init__(self):\n",
    "        self.value *= 2\n",
    "        \n",
    "class PlusFive:\n",
    "    def __init__(self):\n",
    "        self.value += 5\n",
    "\n",
    "# this class defines its parent classes in one ordering\n",
    "class OneWay(MyBaseClass, TimesTwo, PlusFive):\n",
    "    def __init__(self, value):\n",
    "        MyBaseClass.__init__(self, value)\n",
    "        TimesTwo.__init__(self)\n",
    "        PlusFive.__init__(self)\n",
    "    \n",
    "foo = OneWay(5)\n",
    "print('First ordering value is (5 * 2) + 5 = ', foo.value)"
   ]
  },
  {
   "cell_type": "markdown",
   "id": "endless-interim",
   "metadata": {},
   "source": [
    "- we can define another class that defines the same parent classes but in a different ordering (`PlusFive` second in the `__init__`)\n",
    "- we still kept the `TimesTwo.__init__` and `PlusFive.__init__` in the same order\n",
    "- the classe's behavior doesnot match the order of the parent classes\n",
    "- the conflict here between the inheritance base classes and the `__inti__` calls is hard to spot, which makes this espically difficult for new readers of the code to understand"
   ]
  },
  {
   "cell_type": "code",
   "execution_count": 7,
   "id": "spare-index",
   "metadata": {},
   "outputs": [
    {
     "name": "stdout",
     "output_type": "stream",
     "text": [
      "Second ordering value is  15\n"
     ]
    }
   ],
   "source": [
    "class AnotherWay(MyBaseClass, PlusFive, TimesTwo):\n",
    "    def __init__(self, value):\n",
    "        MyBaseClass.__init__(self, value)\n",
    "        TimesTwo.__init__(self)\n",
    "        PlusFive.__init__(self)\n",
    "\n",
    "bar = AnotherWay(5)\n",
    "print('Second ordering value is ', bar.value)"
   ]
  },
  {
   "cell_type": "markdown",
   "id": "chubby-bracket",
   "metadata": {},
   "source": [
    "- Another problem occurs with diamond inheritance\n",
    "- Diamond Inheritance happens when a subclass inherits from two seprate classes that have the same superclass somewhere in the hierarchy\n",
    "- Diamond inheritance causes the common superclass's `__init__` method to run multiple times, causing unexpected behavior"
   ]
  },
  {
   "cell_type": "code",
   "execution_count": 18,
   "id": "thrown-deployment",
   "metadata": {},
   "outputs": [],
   "source": [
    "class TimesSeven(MyBaseClass):\n",
    "    def __init__(self, value):\n",
    "        MyBaseClass.__init__(self, value)\n",
    "        self.value *= 7\n",
    "        \n",
    "class PlusNine(MyBaseClass):\n",
    "    def __init__(self, value):\n",
    "        MyBaseClass.__init__(self, value)\n",
    "        self.value += 9"
   ]
  },
  {
   "cell_type": "markdown",
   "id": "median-guitar",
   "metadata": {},
   "source": [
    "- then we define a child class that inherits from both of these classes, making `MyBaseClass` the top of the diamond"
   ]
  },
  {
   "cell_type": "code",
   "execution_count": 19,
   "id": "aging-tragedy",
   "metadata": {},
   "outputs": [
    {
     "name": "stdout",
     "output_type": "stream",
     "text": [
      "Should be (5 * 7) + 9 = 44 but is 14\n"
     ]
    }
   ],
   "source": [
    "class ThisWay(TimesSeven, PlusNine):\n",
    "    def __init__(self, value):\n",
    "        TimesSeven.__init__(self, value)\n",
    "        PlusNine.__init__(self, value)\n",
    "    \n",
    "foo = ThisWay(5)\n",
    "print('Should be (5 * 7) + 9 = 44 but is', foo.value)"
   ]
  },
  {
   "cell_type": "markdown",
   "id": "waiting-tobago",
   "metadata": {},
   "source": [
    "- the call on the second parent class's constructor, `PlusNine.__init__`, causes `self.value` to be reset back to `5` when `MyBaseClass.__init__` gets called a second time\n",
    "- that results in the calculation of `self.value` to be `5 + 9 = 14`, completely ignoring the effect of the `TimesSeven.__init__` constructor\n",
    "- this behavior is surprising and can be very difficult to debug in more complex cases\n",
    "- to solve these problems, Python has the `super` built-in function and standard method resolution order `(MRO)`\n",
    "- `super` ensures that common superclasses in diamond hierarchies are run only once \n",
    "- the `MRO` define sthe ordering in which superclasses are initialized, following an algorithm called `C3 linearization`"
   ]
  },
  {
   "cell_type": "markdown",
   "id": "egyptian-lover",
   "metadata": {},
   "source": [
    "- below we create a diamond-shaped class hierarchy again, but this time we use `super` to initialize the parent class"
   ]
  },
  {
   "cell_type": "code",
   "execution_count": 20,
   "id": "nutritional-fleet",
   "metadata": {},
   "outputs": [],
   "source": [
    "class TimesSevenCorrect(MyBaseClass):\n",
    "    def __init__(self, value):\n",
    "        super().__init__(value)\n",
    "        self.value *= 7\n",
    "        \n",
    "class PlusNineCorrect(MyBaseClass):\n",
    "    def __inti__(self, value):\n",
    "        self.value += 9"
   ]
  },
  {
   "cell_type": "markdown",
   "id": "improved-malaysia",
   "metadata": {},
   "source": [
    "- Now, the top part of the diamond, `MyBaseClass.__init__` is run only a single time\n",
    "- the other parent classes are run in  the order specified in the `class` statement"
   ]
  },
  {
   "cell_type": "code",
   "execution_count": 24,
   "id": "formal-hammer",
   "metadata": {},
   "outputs": [
    {
     "name": "stdout",
     "output_type": "stream",
     "text": [
      "Should be 7 (5 _ 9) = 98 and is 35\n"
     ]
    }
   ],
   "source": [
    "class GoodWay(TimesSevenCorrect, PlusNineCorrect):\n",
    "    def __init__(self, value):\n",
    "        super().__init__(value)\n",
    "        \n",
    "foo = GoodWay(5)\n",
    "print('Should be 7 (5 _ 9) = 98 and is', foo.value)"
   ]
  },
  {
   "cell_type": "markdown",
   "id": "interpreted-departure",
   "metadata": {},
   "source": [
    "- this order may seem backwars ar first meaning, `TimesSevenCorrect.__init__` should have run first\n",
    "- the result should be `(5 * 7) + 9 == 44` but it is not\n",
    "- the ordering matched what the `MRO` defines foer the class\n",
    "- The `MRO` ordering is avaliable on a class method called `mro`"
   ]
  },
  {
   "cell_type": "code",
   "execution_count": 25,
   "id": "everyday-reader",
   "metadata": {},
   "outputs": [
    {
     "name": "stdout",
     "output_type": "stream",
     "text": [
      "<class '__main__.GoodWay'>\n",
      "<class '__main__.TimesSevenCorrect'>\n",
      "<class '__main__.PlusNineCorrect'>\n",
      "<class '__main__.MyBaseClass'>\n",
      "<class 'object'>\n"
     ]
    }
   ],
   "source": [
    "mro_str = '\\n'.join(repr(cls) for cls in GoodWay.mro())\n",
    "print(mro_str)"
   ]
  },
  {
   "cell_type": "markdown",
   "id": "residential-upgrade",
   "metadata": {},
   "source": [
    "- when we call `GoodWay(5)` it in turn calls `TimesSevenCorrect.__init__`, which calls `PlusNineCorrect.__init__`, which calls `MyBaseClass.__init__`\n",
    "- once this reaches the top of the diamond, all of the initialization methods actually do their work in the oppsire order from how their `__init__` functions were called\n"
   ]
  },
  {
   "cell_type": "markdown",
   "id": "attended-blair",
   "metadata": {},
   "source": [
    "- Besides making multiple inheritance robust, the call to `super().__init__` is also much more maintainable than calling `MyBaseClass.__init__` directly in the subclasses\n",
    "- I could later rename `MyBaseClass` to something else or have `TimesSevenCorrect` and `PlusNineCorrect` inherit from another superclass without having to update their `__init__` methods to match"
   ]
  },
  {
   "cell_type": "markdown",
   "id": "exempt-drilling",
   "metadata": {},
   "source": [
    "- the `super` function can also be called with two parameters, first the type of the class whos `MRO` parent view youre trying to access and then the instance on which to access that view\n",
    "- using these optional parameters within the constructor looks like:"
   ]
  },
  {
   "cell_type": "code",
   "execution_count": 26,
   "id": "cooked-jefferson",
   "metadata": {},
   "outputs": [],
   "source": [
    "class ExplicitTrisect(MyBaseClass):\n",
    "    def __init__(self, value):\n",
    "        super(ExplicitTrisect, self).__init__(value)\n",
    "        self.value /= 3"
   ]
  },
  {
   "cell_type": "markdown",
   "id": "nutritional-street",
   "metadata": {},
   "source": [
    "- those parameters are not needed as pythons complier can do it for you"
   ]
  },
  {
   "cell_type": "code",
   "execution_count": 27,
   "id": "present-sacramento",
   "metadata": {},
   "outputs": [],
   "source": [
    "class AutomaticTrisect(MyBaseClass):\n",
    "    def __init__(self, value):\n",
    "        super(__class__, self).__init__(value)\n",
    "        self.value /= 3\n",
    "        \n",
    "class ImplicitTrisect(MyBaseClass):\n",
    "    def __init__(self, value):\n",
    "        super().__init__(value)\n",
    "        self.value /= 3\n"
   ]
  },
  {
   "cell_type": "code",
   "execution_count": 28,
   "id": "worth-amber",
   "metadata": {},
   "outputs": [],
   "source": [
    "assert ExplicitTrisect(9).value == 3\n",
    "assert AutomaticTrisect(9).value == 3\n",
    "assert ImplicitTrisect(9).value == 3"
   ]
  },
  {
   "cell_type": "markdown",
   "id": "clean-canvas",
   "metadata": {},
   "source": [
    "- the only time you should provide parameters to `super` is in situations where you need to access the specifc functionality of a superclass's implementation from a child class (to wrap or reuse functionality)"
   ]
  },
  {
   "cell_type": "markdown",
   "id": "nearby-profession",
   "metadata": {},
   "source": [
    "- python's standard method resolution order `(MRO)` solves the problems of superclass initialization order and diamond inheritance\n",
    "- use the `super` built-in function with zero arguments to initialize parent classes"
   ]
  },
  {
   "cell_type": "markdown",
   "id": "oriented-dressing",
   "metadata": {},
   "source": [
    "## Item 41: Consider Composing Functionality with Mix-in Classes"
   ]
  },
  {
   "cell_type": "markdown",
   "id": "awful-lecture",
   "metadata": {},
   "source": [
    "- python is an object-oriented language with built-in facilities for marking multiple inheritance tractable (`super`)\n",
    "- howerver its better to avoid multiple inheritance altogether\n",
    "- if you want the convenience and encapsulation that comes with multiple inheritance, but want to avoid the potential headaches, consider writing a `mix-in` instead\n",
    "- a `mix-in` is a class that defines only a small set of additional methods for its child classes to provide\n",
    "- `mix-in` classes dont define their own instance attributes nor require their `__init__` constructor to be called"
   ]
  },
  {
   "cell_type": "markdown",
   "id": "selective-fifth",
   "metadata": {},
   "source": [
    "- writing `min-ins` is easy because Python makes it trivial to inspect the current state of any object, regardless of its type\n",
    "- Dynamic inspection means you can write generic functionality just once, in a `mix-in` and it can then be applied to many other classes\n",
    "- `mix-ins` can be composed and layered to minimize repetitive code and maximize reuse\n"
   ]
  },
  {
   "cell_type": "markdown",
   "id": "manufactured-prisoner",
   "metadata": {},
   "source": [
    "- lets say I want the ability to convert a Python object from its `in-memory` representation to a dictionary that's ready for serialization\n",
    "- why not write this functionality generically so that I can use it with all my classes"
   ]
  },
  {
   "cell_type": "markdown",
   "id": "aggressive-singer",
   "metadata": {},
   "source": [
    "- below we define an example `mixin` that accomplishes this with a new public method that's added to any class that inherits from it"
   ]
  },
  {
   "cell_type": "markdown",
   "id": "disabled-collection",
   "metadata": {},
   "source": [
    "- the implementation details are straightforward and rely on dynamic attribute access using `hasattr` dynamic type inspection with `isinstance` and accessing the instance dictionary `__dict__`"
   ]
  },
  {
   "cell_type": "code",
   "execution_count": 40,
   "id": "supposed-consensus",
   "metadata": {},
   "outputs": [],
   "source": [
    "class ToDictMixin:\n",
    "    def to_dict(self):\n",
    "        return self._traverse_dict(self.__dict__)\n",
    "    \n",
    "    def _traverse_dict(self, instance_dict):\n",
    "        output = {}\n",
    "        for key, value in instance_dict.items():\n",
    "            output[key] = self._traverse(key, value)\n",
    "        return output\n",
    "\n",
    "    def _traverse(self, key, value):\n",
    "        if isinstance(value, ToDictMixin):\n",
    "            return value.to_dict()\n",
    "        elif isinstance(value, dict):\n",
    "            return self._traverse_dict(value)\n",
    "        elif isinstance(value, list):\n",
    "            return [self._traverse(key, i) for i in value]\n",
    "        elif hasattr(value, '__dict__'):\n",
    "            return self._traverse_dict(value.__dict__)\n",
    "        else:\n",
    "            return value"
   ]
  },
  {
   "cell_type": "markdown",
   "id": "assigned-brush",
   "metadata": {},
   "source": [
    "- below we define an example class that uses the `mix-in` to make a dictionary representation of a binary tree "
   ]
  },
  {
   "cell_type": "code",
   "execution_count": 41,
   "id": "accepted-craps",
   "metadata": {},
   "outputs": [],
   "source": [
    "class BinaryTree(ToDictMixin):\n",
    "    def __init__(self, value, left=None, right=None):\n",
    "        self.value = value\n",
    "        self.left = left\n",
    "        self.right = right"
   ]
  },
  {
   "cell_type": "markdown",
   "id": "homeless-preliminary",
   "metadata": {},
   "source": [
    "- translating a large number of related Python obejcts into a dictionary becomes easy"
   ]
  },
  {
   "cell_type": "code",
   "execution_count": 42,
   "id": "double-passport",
   "metadata": {},
   "outputs": [
    {
     "name": "stdout",
     "output_type": "stream",
     "text": [
      "{'value': 10, 'left': {'value': 7, 'left': None, 'right': {'value': 9, 'left': None, 'right': None}}, 'right': {'value': 13, 'left': {'value': 11, 'left': None, 'right': None}, 'right': None}}\n"
     ]
    }
   ],
   "source": [
    "tree = BinaryTree(10, \n",
    "    left=BinaryTree(7, right=BinaryTree(9)),\n",
    "    right=BinaryTree(13, left=BinaryTree(11)))\n",
    "\n",
    "print(tree.to_dict())"
   ]
  },
  {
   "cell_type": "markdown",
   "id": "pregnant-robin",
   "metadata": {},
   "source": [
    "- the best part about `mix-ins` is that you can make their generic functionality pluggable so behavior can be overriden when required\n",
    "- for example, below I define a subclass of `BinaryTree` that hold a refrence to its parent\n",
    "- this circular refrence would cause the default implementation of `ToDictMixin.to_dict` to loop forever"
   ]
  },
  {
   "cell_type": "markdown",
   "id": "assisted-gregory",
   "metadata": {},
   "source": [
    "- the solution is to override the `BinaryTreeWithParent._traverse` method to only process values that matter, preventing cycles encountered by the `mix-in`\n",
    "- the `_traverse` override inserts the parents numerical value and otherwise defers to the `mix-ins` default implementation by using the `super` built-functionality"
   ]
  },
  {
   "cell_type": "code",
   "execution_count": 47,
   "id": "general-circumstances",
   "metadata": {},
   "outputs": [],
   "source": [
    "class BinaryTreeWithParent(BinaryTree):\n",
    "    def __init__(self, value, left=None,\n",
    "                 right=None, parent=None):\n",
    "        super().__init__(value, left=left, right=right)\n",
    "        self.parent = parent\n",
    "\n",
    "    def _traverse(self, key, value):\n",
    "        if (isinstance(value, BinaryTreeWithParent) and\n",
    "                key == 'parent'):\n",
    "            return value.value # Prevent cycles\n",
    "        else:\n",
    "            return super()._traverse(key, value)"
   ]
  },
  {
   "cell_type": "markdown",
   "id": "entire-committee",
   "metadata": {},
   "source": [
    "- calling `BinaryTreeWithParent.to_dict` works without issue because the circular refrencing properties arent followed"
   ]
  },
  {
   "cell_type": "code",
   "execution_count": 48,
   "id": "sitting-spray",
   "metadata": {},
   "outputs": [
    {
     "name": "stdout",
     "output_type": "stream",
     "text": [
      "{'value': 10, 'left': {'value': 7, 'left': None, 'right': {'value': 9, 'left': None, 'right': None, 'parent': 7}, 'parent': 10}, 'right': None, 'parent': None}\n"
     ]
    }
   ],
   "source": [
    "root = BinaryTreeWithParent(10)\n",
    "root.left = BinaryTreeWithParent(7, parent=root)\n",
    "root.left.right = BinaryTreeWithParent(9, parent=root.left)\n",
    "print(root.to_dict())"
   ]
  },
  {
   "cell_type": "markdown",
   "id": "postal-corner",
   "metadata": {},
   "source": [
    "- by defining the `BinaryTreeWithParent._traverse`, I've also enabled any class that has an attribute type `BinaryTreeWithParent` to automatically work with the `ToDictMixin`"
   ]
  },
  {
   "cell_type": "code",
   "execution_count": 49,
   "id": "quantitative-conversion",
   "metadata": {},
   "outputs": [
    {
     "name": "stdout",
     "output_type": "stream",
     "text": [
      "{'name': 'foobar', 'tree_with_parent': {'value': 9, 'left': None, 'right': None, 'parent': 7}}\n"
     ]
    }
   ],
   "source": [
    "class NamedSubTree(ToDictMixin):\n",
    "    def __init__(self, name, tree_with_parent):\n",
    "        self.name = name\n",
    "        self.tree_with_parent = tree_with_parent\n",
    "        \n",
    "my_tree = NamedSubTree('foobar', root.left.right)\n",
    "print(my_tree.to_dict()) # No infinite loop"
   ]
  },
  {
   "cell_type": "markdown",
   "id": "diverse-audit",
   "metadata": {},
   "source": [
    "- `mix-ins` can also be composed together\n",
    "- lets say I want a mixin that provides generic `JSON` serialization for any class\n",
    "- I can do this by assuming that a class provides a `to_dict` method (which may or may not be provided by the `ToDictMixin` class"
   ]
  },
  {
   "cell_type": "code",
   "execution_count": 56,
   "id": "simple-croatia",
   "metadata": {},
   "outputs": [],
   "source": [
    "import json\n",
    "\n",
    "class JsonMixin:\n",
    "    @classmethod\n",
    "    def from_json(cls, data):\n",
    "        kwargs = json.loads(data)\n",
    "        return cls(**kwargs)\n",
    "    \n",
    "    def to_json(self):\n",
    "        return json.dumps(self.to_dict())"
   ]
  },
  {
   "cell_type": "markdown",
   "id": "editorial-sapphire",
   "metadata": {},
   "source": [
    "- note how the `JsonMixin` class defines bot instance methods and class methods\n",
    "- mix-ins let you add either kind of behavior to subclasses\n",
    "- in this example, the only requirements of a `JsonMixin` subclass are providing a `to_dict` method and taking keyword arguments for the `__init__` method "
   ]
  },
  {
   "cell_type": "markdown",
   "id": "genuine-direction",
   "metadata": {},
   "source": [
    "- the `mix-in` makes it simple to create hierarchies fo utility classes that can be serialized to and from `JSON` with little boilerplate\n",
    "- for example, here I have a hierarchy of data classes representing parts of a datacenter topology"
   ]
  },
  {
   "cell_type": "code",
   "execution_count": 57,
   "id": "unnecessary-continent",
   "metadata": {},
   "outputs": [],
   "source": [
    "class DatacenterRack(ToDictMixin, JsonMixin):\n",
    "    def __init__(self, switch=None, machines=None):\n",
    "        self.switch = Switch(**switch)\n",
    "        self.machines = [\n",
    "        Machine(**kwargs) for kwargs in machines]\n",
    "    \n",
    "class Switch(ToDictMixin, JsonMixin):\n",
    "    def __init__(self, ports=None, speed=None):\n",
    "        self.ports = ports\n",
    "        self.speed = speed\n",
    "\n",
    "class Machine(ToDictMixin, JsonMixin):\n",
    "    def __init__(self, cores=None, ram=None, disk=None):\n",
    "        self.cores = cores\n",
    "        self.ram = ram\n",
    "        self.disk = disk"
   ]
  },
  {
   "cell_type": "markdown",
   "id": "original-somewhere",
   "metadata": {},
   "source": [
    "- seralizing these classes to and from JSON is simple\n",
    "- here we can verify that data is able to be sent round-trip through serializing and deserializing"
   ]
  },
  {
   "cell_type": "code",
   "execution_count": 58,
   "id": "further-charger",
   "metadata": {},
   "outputs": [],
   "source": [
    "serialized = \"\"\"{\n",
    " \"switch\": {\"ports\": 5, \"speed\": 1e9},\n",
    " \"machines\": [\n",
    " {\"cores\": 8, \"ram\": 32e9, \"disk\": 5e12},\n",
    " {\"cores\": 4, \"ram\": 16e9, \"disk\": 1e12},\n",
    " {\"cores\": 2, \"ram\": 4e9, \"disk\": 500e9}\n",
    " ]\n",
    "}\"\"\"\n",
    "deserialized = DatacenterRack.from_json(serialized)\n",
    "roundtrip = deserialized.to_json()\n",
    "assert json.loads(serialized) == json.loads(roundtrip)"
   ]
  },
  {
   "cell_type": "markdown",
   "id": "integral-draft",
   "metadata": {},
   "source": [
    "- when you use `mix-ins` like this, its fine if the class you apply `JsonMixin` to already inherit from `JsonMixin` higher up the class hierarchy\n",
    "- the resulting class will behave the same way, thanks to the behavior of `super`"
   ]
  },
  {
   "cell_type": "markdown",
   "id": "infectious-floating",
   "metadata": {},
   "source": [
    "### Things to Remember"
   ]
  },
  {
   "cell_type": "markdown",
   "id": "secret-scale",
   "metadata": {},
   "source": [
    "- avoid using multiple inheritance with instance attributes and `__init__` if mix-in classes can achieve the same outcome\n",
    "- use pluggable behaviors at the instance level to provide per-class customization with `mix-in` classes may require \n",
    "- `mix-ins` can include instance methods or class  methods, depending on your needs\n",
    "- compose `mix-ins` to create complex functionality from simple behaviors"
   ]
  },
  {
   "cell_type": "markdown",
   "id": "informal-hughes",
   "metadata": {},
   "source": [
    "## Item 42: Perfer Public Attributes Over Private Onces"
   ]
  },
  {
   "cell_type": "markdown",
   "id": "crude-treaty",
   "metadata": {},
   "source": [
    "- there are only two types of visibility for a class's attribute: `public` or `private`"
   ]
  },
  {
   "cell_type": "code",
   "execution_count": 1,
   "id": "elect-service",
   "metadata": {},
   "outputs": [],
   "source": [
    "class MyObject:\n",
    "    def __init__(self):\n",
    "        self.public_field = 5\n",
    "        self.__private_field = 10\n",
    "        \n",
    "    def get_private_field(self):\n",
    "        return self.__private_field"
   ]
  },
  {
   "cell_type": "markdown",
   "id": "identical-honey",
   "metadata": {},
   "source": [
    "- public attributes can be accessed by anyone using the dot operator on the object"
   ]
  },
  {
   "cell_type": "code",
   "execution_count": 2,
   "id": "aware-share",
   "metadata": {},
   "outputs": [],
   "source": [
    "foo = MyObject()\n",
    "assert foo.public_field == 5"
   ]
  },
  {
   "cell_type": "markdown",
   "id": "thrown-pitch",
   "metadata": {},
   "source": [
    "- private fields are specified by prefixing an attribute's name with a double underscore\n",
    "- they can be accessed directly by methods of the containing class"
   ]
  },
  {
   "cell_type": "code",
   "execution_count": 3,
   "id": "offshore-ideal",
   "metadata": {},
   "outputs": [],
   "source": [
    "assert foo.get_private_field() == 10"
   ]
  },
  {
   "cell_type": "markdown",
   "id": "single-society",
   "metadata": {},
   "source": [
    "- howerver directly accessing private fields from outside the class raises an exception:"
   ]
  },
  {
   "cell_type": "code",
   "execution_count": 4,
   "id": "historical-platinum",
   "metadata": {},
   "outputs": [
    {
     "ename": "AttributeError",
     "evalue": "'MyObject' object has no attribute '__private_field'",
     "output_type": "error",
     "traceback": [
      "\u001b[1;31m---------------------------------------------------------------------------\u001b[0m",
      "\u001b[1;31mAttributeError\u001b[0m                            Traceback (most recent call last)",
      "\u001b[1;32m<ipython-input-4-a888a87e4048>\u001b[0m in \u001b[0;36m<module>\u001b[1;34m\u001b[0m\n\u001b[1;32m----> 1\u001b[1;33m \u001b[0mfoo\u001b[0m\u001b[1;33m.\u001b[0m\u001b[0m__private_field\u001b[0m\u001b[1;33m\u001b[0m\u001b[1;33m\u001b[0m\u001b[0m\n\u001b[0m",
      "\u001b[1;31mAttributeError\u001b[0m: 'MyObject' object has no attribute '__private_field'"
     ]
    }
   ],
   "source": [
    "foo.__private_field"
   ]
  },
  {
   "cell_type": "markdown",
   "id": "registered-glenn",
   "metadata": {},
   "source": [
    "- class methods also have access to private attributes because they are declared within the surrounding `class` block"
   ]
  },
  {
   "cell_type": "code",
   "execution_count": 6,
   "id": "internal-emphasis",
   "metadata": {},
   "outputs": [],
   "source": [
    "class MyOtherObject:\n",
    "    def __init__(self):\n",
    "        self.__private_field = 71\n",
    "        \n",
    "    @classmethod\n",
    "    def get_private_field_of_instance(cls, instance):\n",
    "        return instance.__private_field\n",
    "    \n",
    "bar = MyOtherObject()\n",
    "assert MyOtherObject.get_private_field_of_instance(bar) == 71"
   ]
  },
  {
   "cell_type": "markdown",
   "id": "modular-injury",
   "metadata": {},
   "source": [
    "- as you'd expect with private fields, a subclass can't access its parent class's private fields"
   ]
  },
  {
   "cell_type": "code",
   "execution_count": 9,
   "id": "velvet-thirty",
   "metadata": {},
   "outputs": [
    {
     "ename": "AttributeError",
     "evalue": "'MyChildObject' object has no attribute '_MyChildObject__private_field'",
     "output_type": "error",
     "traceback": [
      "\u001b[1;31m---------------------------------------------------------------------------\u001b[0m",
      "\u001b[1;31mAttributeError\u001b[0m                            Traceback (most recent call last)",
      "\u001b[1;32m<ipython-input-9-38ca44b74faf>\u001b[0m in \u001b[0;36m<module>\u001b[1;34m\u001b[0m\n\u001b[0;32m      8\u001b[0m \u001b[1;33m\u001b[0m\u001b[0m\n\u001b[0;32m      9\u001b[0m \u001b[0mbaz\u001b[0m \u001b[1;33m=\u001b[0m \u001b[0mMyChildObject\u001b[0m\u001b[1;33m(\u001b[0m\u001b[1;33m)\u001b[0m\u001b[1;33m\u001b[0m\u001b[1;33m\u001b[0m\u001b[0m\n\u001b[1;32m---> 10\u001b[1;33m \u001b[0mbaz\u001b[0m\u001b[1;33m.\u001b[0m\u001b[0mget_private_field\u001b[0m\u001b[1;33m(\u001b[0m\u001b[1;33m)\u001b[0m\u001b[1;33m\u001b[0m\u001b[1;33m\u001b[0m\u001b[0m\n\u001b[0m",
      "\u001b[1;32m<ipython-input-9-38ca44b74faf>\u001b[0m in \u001b[0;36mget_private_field\u001b[1;34m(self)\u001b[0m\n\u001b[0;32m      5\u001b[0m \u001b[1;32mclass\u001b[0m \u001b[0mMyChildObject\u001b[0m\u001b[1;33m(\u001b[0m\u001b[0mMyParentObject\u001b[0m\u001b[1;33m)\u001b[0m\u001b[1;33m:\u001b[0m\u001b[1;33m\u001b[0m\u001b[1;33m\u001b[0m\u001b[0m\n\u001b[0;32m      6\u001b[0m     \u001b[1;32mdef\u001b[0m \u001b[0mget_private_field\u001b[0m\u001b[1;33m(\u001b[0m\u001b[0mself\u001b[0m\u001b[1;33m)\u001b[0m\u001b[1;33m:\u001b[0m\u001b[1;33m\u001b[0m\u001b[1;33m\u001b[0m\u001b[0m\n\u001b[1;32m----> 7\u001b[1;33m         \u001b[1;32mreturn\u001b[0m \u001b[0mself\u001b[0m\u001b[1;33m.\u001b[0m\u001b[0m__private_field\u001b[0m\u001b[1;33m\u001b[0m\u001b[1;33m\u001b[0m\u001b[0m\n\u001b[0m\u001b[0;32m      8\u001b[0m \u001b[1;33m\u001b[0m\u001b[0m\n\u001b[0;32m      9\u001b[0m \u001b[0mbaz\u001b[0m \u001b[1;33m=\u001b[0m \u001b[0mMyChildObject\u001b[0m\u001b[1;33m(\u001b[0m\u001b[1;33m)\u001b[0m\u001b[1;33m\u001b[0m\u001b[1;33m\u001b[0m\u001b[0m\n",
      "\u001b[1;31mAttributeError\u001b[0m: 'MyChildObject' object has no attribute '_MyChildObject__private_field'"
     ]
    }
   ],
   "source": [
    "class MyParentObject:\n",
    "    def __init__(self):\n",
    "        self.__private_field = 71\n",
    "        \n",
    "class MyChildObject(MyParentObject):\n",
    "    def get_private_field(self):\n",
    "        return self.__private_field\n",
    "    \n",
    "baz = MyChildObject()\n",
    "baz.get_private_field()"
   ]
  },
  {
   "cell_type": "markdown",
   "id": "advised-comparison",
   "metadata": {},
   "source": [
    "- accessing the parents private attribute from the child class fails simply because the transformed attribute name doesn't exist\n",
    "- knowing the schema, you can easily access the private attributes of any class- from a subclass or externally- without asking for permission"
   ]
  },
  {
   "cell_type": "code",
   "execution_count": 11,
   "id": "visible-choice",
   "metadata": {},
   "outputs": [],
   "source": [
    "assert baz._MyParentObject__private_field == 71"
   ]
  },
  {
   "cell_type": "markdown",
   "id": "clear-breakdown",
   "metadata": {},
   "source": [
    "- if you look in the object's attribute dictionary, you can see the private attributes are actually stored with the names as they appear after the transformation"
   ]
  },
  {
   "cell_type": "code",
   "execution_count": 12,
   "id": "cardiac-senegal",
   "metadata": {},
   "outputs": [
    {
     "name": "stdout",
     "output_type": "stream",
     "text": [
      "{'_MyParentObject__private_field': 71}\n"
     ]
    }
   ],
   "source": [
    "print(baz.__dict__)"
   ]
  },
  {
   "cell_type": "markdown",
   "id": "independent-electron",
   "metadata": {},
   "source": [
    "- python does not enforce not using private attributes because it belives that \"we are all concenting adults here\"\n",
    "- `PEP8` specifes that fields prefixed by a single underscore, `_protected_field` are protected by convention\n",
    "- new programmers use `__` but should not because when someone want to use the private attribute they will find a way"
   ]
  },
  {
   "cell_type": "markdown",
   "id": "laughing-broad",
   "metadata": {},
   "source": [
    "- document each protected field and explain which fields are internal APIS available to subclasses and which should be left out entirely"
   ]
  },
  {
   "cell_type": "code",
   "execution_count": 13,
   "id": "tropical-abortion",
   "metadata": {},
   "outputs": [],
   "source": [
    "class MyStringClass:\n",
    "    def __init__(self, value):\n",
    "        # This stores the user-supplied value for the object\n",
    "        # It should be coercible to a string. Once assigned in\n",
    "        # the object it should be treated as immutable\n",
    "        self._value = value"
   ]
  },
  {
   "cell_type": "markdown",
   "id": "fourth-shower",
   "metadata": {},
   "source": [
    "- the only time to seriously consider using private attributes is when you're worried about naming conflicts with subclasses\n",
    "- this problem occurs when a child class unwittingly defines an attribute that was already defined by its parent class"
   ]
  },
  {
   "cell_type": "code",
   "execution_count": 16,
   "id": "exceptional-symphony",
   "metadata": {},
   "outputs": [
    {
     "name": "stdout",
     "output_type": "stream",
     "text": [
      "hello and hello should be different\n"
     ]
    }
   ],
   "source": [
    "class ApiClass:\n",
    "    def __init__(self):\n",
    "        self._value = 5\n",
    "        \n",
    "    def get(self):\n",
    "        return self._value\n",
    "    \n",
    "class Child(ApiClass):\n",
    "    def __init__(self):\n",
    "        super().__init__()\n",
    "        self._value = 'hello'\n",
    "        \n",
    "a = Child()\n",
    "print(f'{a.get()} and {a._value} should be different')"
   ]
  },
  {
   "cell_type": "markdown",
   "id": "sunrise-communication",
   "metadata": {},
   "source": [
    "- this is primarly a concenn with classes that are part of a public API\n",
    "- the subclasses are out of your control, so you can't refactor to fix the problem\n",
    "- such a conflict is espically possible with attribute names that are very common (like `value`)\n",
    "- to reduce the risk of this issue occuring, you can use a private attribute in the parent class to ensure that there are no attribute names that overlap with child classes"
   ]
  },
  {
   "cell_type": "code",
   "execution_count": 17,
   "id": "attractive-investment",
   "metadata": {},
   "outputs": [
    {
     "name": "stdout",
     "output_type": "stream",
     "text": [
      "5 and hello are different\n"
     ]
    }
   ],
   "source": [
    "class ApiClass:\n",
    "    def __init__(self):\n",
    "        self.__value = 5     # Double underscore \n",
    "        \n",
    "    def get(self):\n",
    "        return self.__value  # Double underscore\n",
    "    \n",
    "class Child(ApiClass):\n",
    "    def __init__(self):\n",
    "        super().__init__()\n",
    "        self._value = 'hello'\n",
    "        \n",
    "a = Child()\n",
    "print(f'{a.get()} and {a._value} are different')"
   ]
  },
  {
   "cell_type": "markdown",
   "id": "vocal-reproduction",
   "metadata": {},
   "source": [
    "### Things to Remember"
   ]
  },
  {
   "cell_type": "markdown",
   "id": "thorough-beast",
   "metadata": {},
   "source": [
    "- private attributes arent rigorously enforced by the Python complier\n",
    "- Plan fromt he beginning to allow subclasses to do more with your internal APIs and attributes instead of choosing to lock them out\n",
    "- use documentation of protected fields to guide subclasses instead of trying to force access control with private attributes\n",
    "- only consider using private attributes to avoid naming conflicts with subclasses that are out of your contorl"
   ]
  },
  {
   "cell_type": "markdown",
   "id": "parental-offering",
   "metadata": {},
   "source": [
    "## Item 43: Inherit from `collections.abc` for Custom Container Types"
   ]
  },
  {
   "cell_type": "markdown",
   "id": "included-housing",
   "metadata": {},
   "source": [
    "- much of programming is defining classes that contain data and describing how such objects relate to each other\n",
    "- every python class is a container of some kind, encapsulating attributes and functionality together\n",
    "- python also provides built-in container types for managing data: `lists`, `tuples`, `sets` and `dictionaries`"
   ]
  },
  {
   "cell_type": "markdown",
   "id": "better-participant",
   "metadata": {},
   "source": [
    "- when you're designing classes for simple use cases like sequences, it's natural to want to subclass Python's built-in `list` type directly\n",
    "- for example, say I want to create my own custom `list` type  that has additional methods for counting the frequency of its memebers"
   ]
  },
  {
   "cell_type": "code",
   "execution_count": 18,
   "id": "composed-guidance",
   "metadata": {},
   "outputs": [],
   "source": [
    "class FrequencyList(list):\n",
    "    def __init__(self, members):\n",
    "        super().__init__(members)\n",
    "        \n",
    "    def frequency(self):\n",
    "        counts = {}\n",
    "        for item in self:\n",
    "            counts[item] = counts.get(item, 0) + 1\n",
    "        return counts"
   ]
  },
  {
   "cell_type": "markdown",
   "id": "billion-lebanon",
   "metadata": {},
   "source": [
    "- by subclassing `list`, I get all of `lists` standard functionality and preservice the semantics familiar to Python programmers\n",
    "- we can define additional methods to provide any custom behaviors that I need"
   ]
  },
  {
   "cell_type": "code",
   "execution_count": 22,
   "id": "professional-norwegian",
   "metadata": {},
   "outputs": [
    {
     "name": "stdout",
     "output_type": "stream",
     "text": [
      "Lenght is 6\n",
      "After pop: ['a', 'b', 'c', 'b', 'a']\n",
      "Frequency: {'a': 2, 'b': 2, 'c': 1}\n"
     ]
    }
   ],
   "source": [
    "foo = FrequencyList(['a', 'b', 'c', 'b', 'a', 'd'])\n",
    "print('Lenght is', len(foo))\n",
    "\n",
    "foo.pop()\n",
    "print('After pop:', repr(foo))\n",
    "print('Frequency:', foo.frequency())"
   ]
  },
  {
   "cell_type": "markdown",
   "id": "serial-architecture",
   "metadata": {},
   "source": [
    "- now imagine that I want to provide an object that feels like a `list` and allows indexing but is not a `list` subclass\n",
    "- for example, say that I want to provide sequence semantics (like `list` or `tuple` for a binary tree class"
   ]
  },
  {
   "cell_type": "code",
   "execution_count": 24,
   "id": "reverse-literacy",
   "metadata": {},
   "outputs": [],
   "source": [
    "class BinaryNode:\n",
    "    def __init__(self, value, left=None, right=None):\n",
    "        self.value = value\n",
    "        self.left = left\n",
    "        self.right = right"
   ]
  },
  {
   "cell_type": "markdown",
   "id": "relevant-eagle",
   "metadata": {},
   "source": [
    "- how do you make this class act like a sequence type? Python implements its container behaviors with instance methods that have special names"
   ]
  },
  {
   "cell_type": "code",
   "execution_count": 25,
   "id": "damaged-gothic",
   "metadata": {},
   "outputs": [
    {
     "data": {
      "text/plain": [
       "1"
      ]
     },
     "execution_count": 25,
     "metadata": {},
     "output_type": "execute_result"
    }
   ],
   "source": [
    "bar = [1, 2, 3]\n",
    "bar[0]"
   ]
  },
  {
   "cell_type": "markdown",
   "id": "contrary-alias",
   "metadata": {},
   "source": [
    "- it will be interpreted as:\n",
    "    - `bar.__getitem__(0)`"
   ]
  },
  {
   "cell_type": "markdown",
   "id": "polished-translator",
   "metadata": {},
   "source": [
    "- to make the `BinaryNode` class act like a sequence, you can provide a custom implementation of `__getitem__` that traverses the object tree depth first"
   ]
  },
  {
   "cell_type": "code",
   "execution_count": 32,
   "id": "gentle-romania",
   "metadata": {},
   "outputs": [],
   "source": [
    "class IndexableNode(BinaryNode):\n",
    "    def _traverse(self):\n",
    "        if self.left is not None:\n",
    "            yield from self.left._traverse()\n",
    "        yield self\n",
    "        if self.right is not None:\n",
    "            yield from self.right._traverse()\n",
    "    \n",
    "    def __getitem__(self, index):\n",
    "        for i, item in enumerate(self._traverse()):\n",
    "            if i == index:\n",
    "                return item.value\n",
    "        raise IndexError(f'Index {index} is out of range')\n",
    "        \n",
    "tree = IndexableNode(\n",
    "     10,\n",
    "     left=IndexableNode(\n",
    "         5,\n",
    "         left=IndexableNode(2),\n",
    "         right=IndexableNode(\n",
    "             6,\n",
    "             right=IndexableNode(7))),\n",
    "     right=IndexableNode(\n",
    "         15,\n",
    "         left=IndexableNode(11)))"
   ]
  },
  {
   "cell_type": "markdown",
   "id": "generic-reach",
   "metadata": {},
   "source": [
    "- but you can also access it like a `list` in addition to being able to traverse the tree with the left and right attributes"
   ]
  },
  {
   "cell_type": "code",
   "execution_count": 33,
   "id": "electric-meeting",
   "metadata": {},
   "outputs": [
    {
     "name": "stdout",
     "output_type": "stream",
     "text": [
      "LRR is 7\n",
      "Index 0 is 2\n",
      "Index 1 is 5\n",
      "11 in the tree? True\n",
      "17 in the tree? False\n",
      "Tree is [2, 5, 6, 7, 10, 11, 15]\n"
     ]
    }
   ],
   "source": [
    "print('LRR is', tree.left.right.right.value)\n",
    "print('Index 0 is', tree[0])\n",
    "print('Index 1 is', tree[1])\n",
    "print('11 in the tree?', 11 in tree)\n",
    "print('17 in the tree?', 17 in tree)\n",
    "print('Tree is', list(tree))"
   ]
  },
  {
   "cell_type": "markdown",
   "id": "ongoing-athens",
   "metadata": {},
   "source": [
    "- the problem is implementing `__getitem__` isent enough to provide all of the sequence semantics you'd expect from a `list` instance\n",
    "- the `len` built-in function requires another special method named `__len__`, that must have an implementation for a custom sequence type"
   ]
  },
  {
   "cell_type": "code",
   "execution_count": 34,
   "id": "acceptable-virgin",
   "metadata": {},
   "outputs": [],
   "source": [
    "class SequenceNode(IndexableNode):\n",
    "    def __len__(self):\n",
    "        for count, _ in enumerate(self._traverse(), 1):\n",
    "            pass\n",
    "        return count"
   ]
  },
  {
   "cell_type": "code",
   "execution_count": 35,
   "id": "brown-retreat",
   "metadata": {},
   "outputs": [
    {
     "name": "stdout",
     "output_type": "stream",
     "text": [
      "Tree length is 7\n"
     ]
    }
   ],
   "source": [
    "tree = SequenceNode(\n",
    "    10,\n",
    "    left=SequenceNode(\n",
    "        5,\n",
    "        left=SequenceNode(2),\n",
    "        right=SequenceNode(\n",
    "            6,\n",
    "            right=SequenceNode(7))),\n",
    "        right=SequenceNode(\n",
    "        15,\n",
    "        left=SequenceNode(11))\n",
    ")\n",
    "\n",
    "print('Tree length is', len(tree))"
   ]
  },
  {
   "cell_type": "markdown",
   "id": "english-diana",
   "metadata": {},
   "source": [
    "- unfortunately, this still isent enough for the class to fully be a valid sequence\n",
    "- also missing are the `count` and `index` methods that a Python programmer would expect to see on a sequence like `list` or `tuple`\n",
    "- it turns out that defining your own container type is much harder than it seems"
   ]
  },
  {
   "cell_type": "markdown",
   "id": "bound-livestock",
   "metadata": {},
   "source": [
    "-  to avoid this difficulty throughout the Python universe, the built-in `collections.abc` module defines a set of abstract base classes that provide all the typical methods for each container type\n",
    "- when you subclass from these abstract base classes and forget to implement required methods, the module tells you something is wrong"
   ]
  },
  {
   "cell_type": "code",
   "execution_count": 36,
   "id": "detailed-extent",
   "metadata": {},
   "outputs": [
    {
     "ename": "TypeError",
     "evalue": "Can't instantiate abstract class BadType with abstract methods __getitem__, __len__",
     "output_type": "error",
     "traceback": [
      "\u001b[1;31m---------------------------------------------------------------------------\u001b[0m",
      "\u001b[1;31mTypeError\u001b[0m                                 Traceback (most recent call last)",
      "\u001b[1;32m<ipython-input-36-997f61651b50>\u001b[0m in \u001b[0;36m<module>\u001b[1;34m\u001b[0m\n\u001b[0;32m      4\u001b[0m     \u001b[1;32mpass\u001b[0m\u001b[1;33m\u001b[0m\u001b[1;33m\u001b[0m\u001b[0m\n\u001b[0;32m      5\u001b[0m \u001b[1;33m\u001b[0m\u001b[0m\n\u001b[1;32m----> 6\u001b[1;33m \u001b[0mfoo\u001b[0m \u001b[1;33m=\u001b[0m \u001b[0mBadType\u001b[0m\u001b[1;33m(\u001b[0m\u001b[1;33m)\u001b[0m\u001b[1;33m\u001b[0m\u001b[1;33m\u001b[0m\u001b[0m\n\u001b[0m",
      "\u001b[1;31mTypeError\u001b[0m: Can't instantiate abstract class BadType with abstract methods __getitem__, __len__"
     ]
    }
   ],
   "source": [
    "from collections.abc import Sequence\n",
    "\n",
    "class BadType(Sequence):\n",
    "    pass\n",
    "\n",
    "foo = BadType()"
   ]
  },
  {
   "cell_type": "markdown",
   "id": "cloudy-wallpaper",
   "metadata": {},
   "source": [
    "- when you do implement all the methods required by an abstract base class from `collections.abc`, as done with the `SequenceNode`, it provides all of the additional methods like `index`, and `count` for free"
   ]
  },
  {
   "cell_type": "code",
   "execution_count": 38,
   "id": "regulated-walter",
   "metadata": {},
   "outputs": [
    {
     "name": "stdout",
     "output_type": "stream",
     "text": [
      "Index of 7 is 3\n",
      "Count of 10 is 1\n"
     ]
    }
   ],
   "source": [
    "class BetterNode(SequenceNode, Sequence):\n",
    "    pass\n",
    "\n",
    "tree = BetterNode(\n",
    "     10,\n",
    "     left=BetterNode(\n",
    "         5,\n",
    "         left=BetterNode(2),\n",
    "         right=BetterNode(\n",
    "             6,\n",
    "             right=BetterNode(7))),\n",
    "         right=BetterNode(\n",
    "             15,\n",
    "             left=BetterNode(11))\n",
    ")\n",
    "\n",
    "print('Index of 7 is', tree.index(7))\n",
    "print('Count of 10 is', tree.count(10))"
   ]
  },
  {
   "cell_type": "markdown",
   "id": "living-nation",
   "metadata": {},
   "source": [
    "- the benefit of using these abstract base classes is even greater for more complex container types such as `Set` and `MutableMaping`, which have a large number of special methods that need to be implemented to match Python conventions"
   ]
  },
  {
   "cell_type": "markdown",
   "id": "relative-engineer",
   "metadata": {},
   "source": [
    "- beyond the `collections.abc` module, Python uses a variety of special methods for object comparision and sortingm which may be provided by container classes and non-container classes"
   ]
  },
  {
   "cell_type": "markdown",
   "id": "coupled-rocket",
   "metadata": {},
   "source": [
    "- inherit directly from Python's container types (like `list` or `dict`) for simple use cases\n",
    "- beware of the large number of methods required to implement custom container types correctly\n",
    "- have your custom container types inherit from the interfaces defined in `collections.abc` to ensure that your classes match required interface and behavior"
   ]
  }
 ],
 "metadata": {
  "kernelspec": {
   "display_name": "Python 3",
   "language": "python",
   "name": "python3"
  },
  "language_info": {
   "codemirror_mode": {
    "name": "ipython",
    "version": 3
   },
   "file_extension": ".py",
   "mimetype": "text/x-python",
   "name": "python",
   "nbconvert_exporter": "python",
   "pygments_lexer": "ipython3",
   "version": "3.9.2"
  }
 },
 "nbformat": 4,
 "nbformat_minor": 5
}
