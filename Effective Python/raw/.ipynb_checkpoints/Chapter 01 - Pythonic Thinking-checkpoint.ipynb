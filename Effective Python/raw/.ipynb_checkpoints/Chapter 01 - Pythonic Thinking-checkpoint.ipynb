{
 "cells": [
  {
   "cell_type": "markdown",
   "id": "fourth-punishment",
   "metadata": {},
   "source": [
    "## Overview"
   ]
  },
  {
   "cell_type": "markdown",
   "id": "canadian-number",
   "metadata": {},
   "source": [
    "- python programmers perfer to be explicit, to choose simple over complex and to maximize readability"
   ]
  },
  {
   "cell_type": "code",
   "execution_count": 1,
   "id": "disturbed-geneva",
   "metadata": {},
   "outputs": [
    {
     "name": "stdout",
     "output_type": "stream",
     "text": [
      "sys.version_info(major=3, minor=9, micro=2, releaselevel='final', serial=0)\n",
      "3.9.2 (tags/v3.9.2:1a79785, Feb 19 2021, 13:44:55) [MSC v.1928 64 bit (AMD64)]\n"
     ]
    }
   ],
   "source": [
    "# find the version of python you are using\n",
    "\n",
    "import sys\n",
    "print(sys.version_info)\n",
    "print(sys.version)"
   ]
  },
  {
   "cell_type": "markdown",
   "id": "patent-flight",
   "metadata": {},
   "source": [
    "## Item 2: Follow the PEP 8 Style Guide"
   ]
  },
  {
   "cell_type": "markdown",
   "id": "alive-atlantic",
   "metadata": {},
   "source": [
    "### Whitespace"
   ]
  },
  {
   "cell_type": "markdown",
   "id": "careful-arbor",
   "metadata": {},
   "source": [
    "- use spaces instead of tabs for indentation\n",
    "- use four spaces for each level of syntactically significant indenting\n",
    "- lines should be 79 chars in lenght\n",
    "- continuation of long expressions into additional lines should be indented by four extra spaces from their normal indentation level\n",
    "- functions and classes should be seprated by two blank lines\n",
    "- methods should be seprated by one blank line\n",
    "- in a dictionary, put no whitespace between each key and colon an put a single space before the corresponding value if it fits on the same line\n",
    "- for type annotations, ensure that there is no sepration between the variable name and the colon and use a space before the type information"
   ]
  },
  {
   "cell_type": "markdown",
   "id": "unlimited-landscape",
   "metadata": {},
   "source": [
    "### Naming"
   ]
  },
  {
   "cell_type": "markdown",
   "id": "advanced-protest",
   "metadata": {},
   "source": [
    "- functions, variables and attributes should be in `lowercase_underscore` format\n",
    "- protected instance attributes should be in `_leading_underscore` format\n",
    "- private instance attributes should be in `__double_leading_underscore_` format\n",
    "- modlule-level constants should be in `ALL_CAPS`\n",
    "- instance methods in classes should use `self`, which refers to the object, as the name of the first parameter\n",
    "- class methods should use `cls` which refers to the class, as the name of the first parameter"
   ]
  },
  {
   "cell_type": "markdown",
   "id": "balanced-mapping",
   "metadata": {},
   "source": [
    "### Expressions and Statements "
   ]
  },
  {
   "cell_type": "markdown",
   "id": "skilled-column",
   "metadata": {},
   "source": [
    "- use in line negation `(if a is not b)` instead of negation of postive expressions `(if not a is b)`\n",
    "- dont check for empty containers or sequences `(like [] or \")` by comparing hte lenght to zero `(if len(somelist) == 0)`. Use `if not somelist` and assume that empty values will implicitly evaluate to `False`\n",
    "- the same thing goes for non-empty containers or sequences `(like [l] of 'hi')`. The statement if `somelist` is implicitly `True` for non-empty values\n",
    "- avoid single-line `if` statements, `for` and `while` loops, and `except` compound statements. Spread these over multiple lines for clarity\n",
    "- if you cant fit an expression on one line, surround it with parentheses and add line breaks and indentation to make it easier to read\n",
    "- perfer surrounding multiline expressions with parentheses over using the `\\` line contnuation character"
   ]
  },
  {
   "cell_type": "markdown",
   "id": "worldwide-response",
   "metadata": {},
   "source": [
    "## Imports"
   ]
  },
  {
   "cell_type": "markdown",
   "id": "collect-circumstances",
   "metadata": {},
   "source": [
    "- always put `import` statements (including `from x import y`) at the top of a file\n",
    "- always use absolute names for modules when importing them, not relative to the current modules own path. For example, to import the `foo` module from within the `bar` package, you should use `from bar import foo` not just `import foo`\n",
    "- if you must do relative imports, use the explicit syntax from `. import foo`\n",
    "- imports should be in a section in the following order: `standard library modules`, `third-party modules`, `your own modules`. Each subsection should have imports in alphabetical order"
   ]
  },
  {
   "cell_type": "markdown",
   "id": "soviet-baking",
   "metadata": {},
   "source": [
    "## Item 3: Know the Differences Between `bytes` and `str`"
   ]
  },
  {
   "cell_type": "markdown",
   "id": "disabled-squad",
   "metadata": {},
   "source": [
    "- in python there are two types that represent sequences of character data: `bytes` and `str`\n",
    "- instances of `bytes` contain raw, unsigned 8-bit values (displayed in ASCII encoding"
   ]
  },
  {
   "cell_type": "code",
   "execution_count": 2,
   "id": "macro-hypothetical",
   "metadata": {},
   "outputs": [
    {
     "name": "stdout",
     "output_type": "stream",
     "text": [
      "[104, 101, 108, 108, 111]\n",
      "b'hello'\n"
     ]
    }
   ],
   "source": [
    "a = b'h\\x65llo'\n",
    "print(list(a))\n",
    "print(a)"
   ]
  },
  {
   "cell_type": "markdown",
   "id": "norman-puppy",
   "metadata": {},
   "source": [
    "- instances of `str` contain Unicode `code points` that represent textual characters from human language"
   ]
  },
  {
   "cell_type": "code",
   "execution_count": 3,
   "id": "existing-reducing",
   "metadata": {},
   "outputs": [
    {
     "name": "stdout",
     "output_type": "stream",
     "text": [
      "['a', '̀', ' ', 'p', 'r', 'o', 'p', 's']\n",
      "à props\n"
     ]
    }
   ],
   "source": [
    "a = 'a\\u0300 props'\n",
    "print(list(a))\n",
    "print(a)"
   ]
  },
  {
   "cell_type": "markdown",
   "id": "innocent-earthquake",
   "metadata": {},
   "source": [
    "- `str` instances do not have an associated binary encoding\n",
    "    - call the `bytes()` method to convert the str\n",
    "- `byte` instances do not have an assoicated text encoding\n",
    "    - call the `str()` method to convert the bytes"
   ]
  },
  {
   "cell_type": "markdown",
   "id": "sweet-terminal",
   "metadata": {},
   "source": [
    "- it is important to do encoding and decoding of unicode data at the furthest boundary of your interface\n",
    "- the approach is called the `Unicode sandwich`\n",
    "- the code of your program should use the `str` type containing Unicode data ans should not assume anything about character encoding"
   ]
  },
  {
   "cell_type": "code",
   "execution_count": 5,
   "id": "simplified-mandate",
   "metadata": {},
   "outputs": [
    {
     "name": "stdout",
     "output_type": "stream",
     "text": [
      "'foo'\n",
      "'bar'\n"
     ]
    }
   ],
   "source": [
    "# takes a byte or str instance and always returns str\n",
    "\n",
    "def to_str(bytes_or_str):\n",
    "    if isinstance(bytes_or_str, bytes):\n",
    "        value = bytes_or_str.decode('utf-8')\n",
    "    else:\n",
    "        value = bytes_or_str\n",
    "    return value\n",
    "\n",
    "print(repr(to_str(b'foo')))\n",
    "print(repr(to_str('bar')))\n"
   ]
  },
  {
   "cell_type": "code",
   "execution_count": 8,
   "id": "occupational-forestry",
   "metadata": {},
   "outputs": [
    {
     "name": "stdout",
     "output_type": "stream",
     "text": [
      "b'foo'\n",
      "b'bar'\n"
     ]
    }
   ],
   "source": [
    "# takes a byte or str instance and always returns a bytes\n",
    "def to_bytes(bytes_or_str):\n",
    "    if isinstance(bytes_or_str, str):\n",
    "        value = bytes_or_str.encode('utf-8')\n",
    "    else:\n",
    "        value = bytes_or_str\n",
    "    return value\n",
    "\n",
    "print(repr(to_bytes(b'foo')))\n",
    "print(repr(to_bytes('bar')))"
   ]
  },
  {
   "cell_type": "markdown",
   "id": "protecting-journalist",
   "metadata": {},
   "source": [
    "__common gotchas__:\n",
    "1. `bytes` and `str` seem to work the same way but their instances are not compatible with each other"
   ]
  },
  {
   "cell_type": "code",
   "execution_count": 14,
   "id": "hydraulic-darkness",
   "metadata": {},
   "outputs": [
    {
     "name": "stdout",
     "output_type": "stream",
     "text": [
      "b'onetwo'\n",
      "onetwo\n",
      "\n",
      "False\n",
      "\n",
      "b'red blue'\n",
      "red blue\n",
      "red b'blue'\n",
      "\n"
     ]
    }
   ],
   "source": [
    "# by using + operator, you can add bytes to bytes and str to str\n",
    "print(b'one' + b'two')\n",
    "print('one' + 'two')\n",
    "print('')\n",
    "\n",
    "# you cant add a byte to a str\n",
    "# b'one' + 'two'\n",
    "\n",
    "# - you can compare `bytes` to `str` by using binary operators \n",
    "assert b'red' > b'blue'\n",
    "\n",
    "# comparing bytes to str will result in false\n",
    "print(b'foo' == 'foo')\n",
    "print('')\n",
    "\n",
    "# the % operator works with format strings for each type, respectively\n",
    "print(b'red %s' % b'blue')\n",
    "print('red %s' % 'blue')\n",
    "print('')\n",
    "\n",
    "# you can also pass a bytes instance to a str format strig\n",
    "# the code invokes the __repr__ method\n",
    "print('red %s' % b'blue')\n"
   ]
  },
  {
   "cell_type": "markdown",
   "id": "chief-portal",
   "metadata": {},
   "source": [
    "2. second issue is that operations involving file handles (returned by the `open` built-in function) defaults to requiring Unicode string instead of raw `bytes`\n",
    "- a problem could be you open a file in write `w` mode and not binary write `wb` mode\n",
    "- simmilarly you need to use `rb` and not `r` if expecting bytes"
   ]
  },
  {
   "cell_type": "markdown",
   "id": "terminal-lying",
   "metadata": {},
   "source": [
    "- you wnat to explicitly pass the `encoding` parameter"
   ]
  },
  {
   "cell_type": "markdown",
   "id": "stupid-honor",
   "metadata": {},
   "source": [
    "## Item 4: Perfer Interpolated `F-String` over C-style format Strings and `str.format`"
   ]
  },
  {
   "cell_type": "markdown",
   "id": "sticky-official",
   "metadata": {},
   "source": [
    "- the most common is to use `%`, which uses `C` style formatting\n",
    "- you can escapte the formatting by using a double `%%`"
   ]
  },
  {
   "cell_type": "code",
   "execution_count": 23,
   "id": "private-freedom",
   "metadata": {},
   "outputs": [
    {
     "name": "stdout",
     "output_type": "stream",
     "text": [
      "Binary is 187, hex is 3167\n"
     ]
    }
   ],
   "source": [
    "a = 0b10111011\n",
    "b = 0xc5f\n",
    "print('Binary is %d, hex is %d' % (a, b))"
   ]
  },
  {
   "cell_type": "markdown",
   "id": "automotive-cotton",
   "metadata": {},
   "source": [
    " - python has the ability to also do formatting with a dictionary instead of a `tuple`\n",
    " - the `keys` from the dictionary are matched with format specifiers with the corresponding name, such as `%(key)s`\n",
    " - this approachs problem is that it makes code increase in `verbosity`\n",
    " - each key must be specified at least twice"
   ]
  },
  {
   "cell_type": "code",
   "execution_count": 24,
   "id": "unique-efficiency",
   "metadata": {},
   "outputs": [
    {
     "name": "stdout",
     "output_type": "stream",
     "text": [
      "my_var     = 1.23\n"
     ]
    }
   ],
   "source": [
    "key = 'my_var'\n",
    "value = 1.234\n",
    "\n",
    "new_way = '%(key)-10s = %(value).2f' % {\n",
    " 'key': key, 'value': value} \n",
    "\n",
    "print(new_way)"
   ]
  },
  {
   "cell_type": "markdown",
   "id": "right-cincinnati",
   "metadata": {},
   "source": [
    "### The `format` and `str.format`"
   ]
  },
  {
   "cell_type": "markdown",
   "id": "center-sperm",
   "metadata": {},
   "source": [
    "- formatting behavior is specified by the `__format__` special method\n",
    "- you can escape the str.format by using double `{{}}`"
   ]
  },
  {
   "cell_type": "code",
   "execution_count": 25,
   "id": "biological-times",
   "metadata": {},
   "outputs": [
    {
     "name": "stdout",
     "output_type": "stream",
     "text": [
      "1,234.57\n",
      "*      my string       *\n",
      "\n",
      "my_var = 1.234\n",
      "my_var     = 1.23\n",
      "\n",
      "1.234 = my_var\n"
     ]
    }
   ],
   "source": [
    "a = 1234.5678\n",
    "formatted = format(a, ',.2f')\n",
    "\n",
    "print(formatted)\n",
    "b = 'my string'\n",
    "\n",
    "formatted = format(b, '^20s')\n",
    "print('*', formatted, '*')\n",
    "print()\n",
    "\n",
    "# you can specify a placeholder\n",
    "key = 'my_var'\n",
    "value = 1.234\n",
    "\n",
    "formatted = '{} = {}'.format(key, value)\n",
    "print(formatted)\n",
    "\n",
    "# way to think about how this works is that the format specifiers will be \n",
    "# passed to the format function along with the vlaue format(value, '.2f')\n",
    "formatted = '{:<10} = {:.2f}'.format(key, value)\n",
    "print(formatted)\n",
    "print(\"\")\n",
    "\n",
    "# you can also re-order the formatting\n",
    "formatted = '{1} = {0}'.format(key, value)\n",
    "print(formatted)\n",
    "print(\"\")\n",
    "\n",
    "# the same positional index may also be referenced multiple times\n",
    "formatted = '{0} loves food. See {0} cook.'.format(name)\n",
    "print(formatted)\n",
    "print(\"\")\n"
   ]
  },
  {
   "cell_type": "markdown",
   "id": "completed-front",
   "metadata": {},
   "source": [
    "- problem with `str.format` is that it is sill hard to read"
   ]
  },
  {
   "cell_type": "markdown",
   "id": "frank-welding",
   "metadata": {},
   "source": [
    "### Interpolated Format Strings"
   ]
  },
  {
   "cell_type": "code",
   "execution_count": 27,
   "id": "dominant-academy",
   "metadata": {},
   "outputs": [
    {
     "name": "stdout",
     "output_type": "stream",
     "text": [
      "my_var = 1.234\n",
      "\n",
      "'my_var'   = 1.23\n"
     ]
    }
   ],
   "source": [
    "key = 'my_var'\n",
    "value = 1.234\n",
    "formatted = f'{key} = {value}'\n",
    "print(formatted)\n",
    "print(\"\")\n",
    "\n",
    "formatted = f'{key!r:<10} = {value:.2f}'\n",
    "print(formatted)"
   ]
  },
  {
   "cell_type": "code",
   "execution_count": 28,
   "id": "spiritual-internet",
   "metadata": {},
   "outputs": [],
   "source": [
    "f_string = f'{key:<10} = {value:.2f}'\n",
    "\n",
    "c_tuple = '%-10s = %.2f' % (key, value)\n",
    "\n",
    "str_args = '{:<10} = {:.2f}'.format(key, value)\n",
    "\n",
    "str_kw = '{key:<10} = {value:.2f}'.format(key=key,\n",
    " value=value)\n",
    "\n",
    "c_dict = '%(key)-10s = %(value).2f' % {'key': key,\n",
    " 'value': value}\n",
    "\n",
    "assert c_tuple == c_dict == f_string\n",
    "assert str_args == str_kw == f_string"
   ]
  },
  {
   "cell_type": "markdown",
   "id": "prescription-nomination",
   "metadata": {},
   "source": [
    "## Item 5: Write Helper Functions Instead of Complex Expressions"
   ]
  },
  {
   "cell_type": "markdown",
   "id": "prime-surgery",
   "metadata": {},
   "source": [
    "- unrelated, but this is a cool expression\n",
    "    - `red = my_values.get('red',[\"\"]) or 0`\n",
    "- when you hace complex expressions, its better to add the logic to two variables\n",
    "- if you are going to repeat code more than once use a helper function"
   ]
  },
  {
   "cell_type": "markdown",
   "id": "reserved-sewing",
   "metadata": {},
   "source": [
    "## Item 6: Perfer Multiple Assignment Unpacking over Indexing"
   ]
  },
  {
   "cell_type": "markdown",
   "id": "decent-debut",
   "metadata": {},
   "source": [
    "- python has built-in tuple type that can be used to create immutable, ordered sequences of values\n",
    "- a `tuple` is a pair of two values such as keys and values from a dictionary\n",
    "- onces a tuple is created, you cannot modify it"
   ]
  },
  {
   "cell_type": "code",
   "execution_count": 33,
   "id": "checked-opening",
   "metadata": {},
   "outputs": [
    {
     "name": "stdout",
     "output_type": "stream",
     "text": [
      "(('chips', 140), ('popcorn', 80), ('nuts', 190))\n"
     ]
    }
   ],
   "source": [
    "snack_calories = {\n",
    "    'chips': 140,\n",
    "    'popcorn': 80,\n",
    "    'nuts': 190\n",
    "}\n",
    "\n",
    "items = tuple(snack_calories.items())\n",
    "print(items)"
   ]
  },
  {
   "cell_type": "code",
   "execution_count": 34,
   "id": "overall-divorce",
   "metadata": {},
   "outputs": [
    {
     "name": "stdout",
     "output_type": "stream",
     "text": [
      "Peanut butter and Jelly\n"
     ]
    }
   ],
   "source": [
    "# values in a tuple can be accessed though numerical indexes\n",
    "item = ('Peanut butter', 'Jelly')\n",
    "first = item[0]\n",
    "second = item[1]\n",
    "print(first, 'and', second)"
   ]
  },
  {
   "cell_type": "markdown",
   "id": "norman-typing",
   "metadata": {},
   "source": [
    "- python also has syntax for `unpacking` which allows for assigning multiple values in a single statement"
   ]
  },
  {
   "cell_type": "code",
   "execution_count": 35,
   "id": "healthy-senegal",
   "metadata": {},
   "outputs": [
    {
     "name": "stdout",
     "output_type": "stream",
     "text": [
      "Peanut butter and Jelly\n"
     ]
    }
   ],
   "source": [
    "item = ('Peanut butter', 'Jelly')\n",
    "first, second = item # Unpacking\n",
    "print(first, 'and', second)"
   ]
  },
  {
   "cell_type": "markdown",
   "id": "religious-singer",
   "metadata": {},
   "source": [
    "- unpacking has less visual noise than accessing the tuple's indexes and often requires fewer lines"
   ]
  },
  {
   "cell_type": "code",
   "execution_count": 38,
   "id": "dominant-restoration",
   "metadata": {},
   "outputs": [
    {
     "name": "stdout",
     "output_type": "stream",
     "text": [
      "Favorite salty is pretzels with 100 calories\n",
      "Favorite sweet is cookies with 180 calories\n",
      "Favorite veggie is carrots with 20 calories\n"
     ]
    }
   ],
   "source": [
    "# lol you can actually unpack dictionaries\n",
    "\n",
    "favorite_snacks = {\n",
    " 'salty': ('pretzels', 100),\n",
    " 'sweet': ('cookies', 180),\n",
    " 'veggie': ('carrots', 20),\n",
    "}\n",
    "((type1, (name1, cals1)),\n",
    " (type2, (name2, cals2)),\n",
    " (type3, (name3, cals3))) = favorite_snacks.items()\n",
    "\n",
    "print(f'Favorite {type1} is {name1} with {cals1} calories')\n",
    "print(f'Favorite {type2} is {name2} with {cals2} calories')\n",
    "print(f'Favorite {type3} is {name3} with {cals3} calories')"
   ]
  },
  {
   "cell_type": "markdown",
   "id": "seasonal-johnston",
   "metadata": {},
   "source": [
    "- unpacking can be used to swap values in place without the need to create temporary variables"
   ]
  },
  {
   "cell_type": "code",
   "execution_count": 39,
   "id": "impossible-prime",
   "metadata": {},
   "outputs": [
    {
     "name": "stdout",
     "output_type": "stream",
     "text": [
      "['arugula', 'bacon', 'carrots', 'pretzels']\n"
     ]
    }
   ],
   "source": [
    "def bubble_sort(a):\n",
    "    for _ in range(len(a)):\n",
    "        for i in range(1, len(a)):\n",
    "            if a[i] < a[i-1]:\n",
    "                a[i-1], a[i] = a[i], a[i-1] # Swap\n",
    "                \n",
    "names = ['pretzels', 'carrots', 'arugula', 'bacon']\n",
    "bubble_sort(names)\n",
    "print(names)"
   ]
  },
  {
   "cell_type": "markdown",
   "id": "accessible-refrigerator",
   "metadata": {},
   "source": [
    "- unpacking can be using with enumerate"
   ]
  },
  {
   "cell_type": "code",
   "execution_count": 40,
   "id": "fatty-crack",
   "metadata": {},
   "outputs": [
    {
     "name": "stdout",
     "output_type": "stream",
     "text": [
      "#1: bacon has 350 calories\n",
      "#2: donut has 240 calories\n",
      "#3: muffin has 190 calories\n"
     ]
    }
   ],
   "source": [
    "snacks = [('bacon', 350), ('donut', 240), ('muffin', 190)]\n",
    "\n",
    "for rank, (name, calories) in enumerate(snacks, 1):\n",
    "    print(f'#{rank}: {name} has {calories} calories')"
   ]
  },
  {
   "cell_type": "markdown",
   "id": "assigned-solomon",
   "metadata": {},
   "source": [
    "## Perfer `enumerate` over `range`"
   ]
  },
  {
   "cell_type": "markdown",
   "id": "super-ceremony",
   "metadata": {},
   "source": [
    "- `range` is useful for built-in function is useful for loops that iterate over a set of integers\n",
    "- when you have a data structure to iterate over, like a list of strings, you cna loop directly over the sequences"
   ]
  },
  {
   "cell_type": "code",
   "execution_count": 41,
   "id": "flying-battery",
   "metadata": {},
   "outputs": [
    {
     "name": "stdout",
     "output_type": "stream",
     "text": [
      "vanilla is delicious\n",
      "chocolate is delicious\n",
      "pecan is delicious\n",
      "strawberry is delicious\n"
     ]
    }
   ],
   "source": [
    "flavor_list = ['vanilla', 'chocolate', 'pecan', 'strawberry']\n",
    "for flavor in flavor_list:\n",
    "    print(f'{flavor} is delicious')"
   ]
  },
  {
   "cell_type": "markdown",
   "id": "static-soundtrack",
   "metadata": {},
   "source": [
    "- often you want to iterate over a `list` and also know the index of the current item in the `list`\n",
    "- using `range` to do this can make thing cluncky\n",
    "- that is whey we have `enumerate`"
   ]
  },
  {
   "cell_type": "code",
   "execution_count": 43,
   "id": "coastal-musical",
   "metadata": {},
   "outputs": [
    {
     "name": "stdout",
     "output_type": "stream",
     "text": [
      "1: vanilla\n",
      "2: chocolate\n",
      "3: pecan\n",
      "4: strawberry\n"
     ]
    }
   ],
   "source": [
    "flavor_list = ['vanilla', 'chocolate', 'pecan', 'strawberry']\n",
    "\n",
    "for i, flavor in enumerate(flavor_list, 0):\n",
    "    print(f'{i + 1}: {flavor}')"
   ]
  },
  {
   "cell_type": "markdown",
   "id": "amazing-laptop",
   "metadata": {},
   "source": [
    "## Item 8: Use `Zip` to process Iterators in Parallel"
   ]
  },
  {
   "cell_type": "markdown",
   "id": "clear-sword",
   "metadata": {},
   "source": [
    "- sometimes you may have many lists of related objects such as a list of `names` and their `age`\n",
    "- the items in the derived `list` are lated to the items in the source `list` by their indexes\n"
   ]
  },
  {
   "cell_type": "markdown",
   "id": "satisfactory-experience",
   "metadata": {},
   "source": [
    "- you could iterate over those lists by using `range` or `enumerate` but that is alot of noise\n",
    "- thus we want to use `zip`"
   ]
  },
  {
   "cell_type": "code",
   "execution_count": 47,
   "id": "behind-jewel",
   "metadata": {},
   "outputs": [],
   "source": [
    "names = ['Cecilia', 'Lise', 'Marie']\n",
    "counts = [len(n) for n in names]\n",
    "\n",
    "longest_name = None\n",
    "max_count = 0\n",
    "\n",
    "for name, count in zip(names, counts):\n",
    "    if count > max_count:\n",
    "        longest_name = name\n",
    "        max_count = count"
   ]
  },
  {
   "cell_type": "markdown",
   "id": "radical-pledge",
   "metadata": {},
   "source": [
    "- `zip` wraps two or more iterators with a lazy generator\n",
    "- the `zip` generator yeilds tuples containing the next value for each iterator\n",
    "- these tuples can be unpacked directly within a `for` statement\n",
    "- `zip` consumes the iterators it wraps one item at a time. which means it can be used with infinitely long inputs without risk of a program using too much memory and crashing "
   ]
  },
  {
   "cell_type": "markdown",
   "id": "composite-warner",
   "metadata": {},
   "source": [
    "- warning with `zip` is that if you have lists with different sizes, `zip` will ignore some items if it does not have a pair\n",
    "- if you dont expect lists of same behavior to be passed, consider using `zip_longest` from the `itertools` module"
   ]
  },
  {
   "cell_type": "markdown",
   "id": "collect-disease",
   "metadata": {},
   "source": [
    "## Item 9: Avoid `else` Blocks After `for` and `while` Loops"
   ]
  },
  {
   "cell_type": "code",
   "execution_count": 48,
   "id": "prerequisite-cologne",
   "metadata": {},
   "outputs": [
    {
     "name": "stdout",
     "output_type": "stream",
     "text": [
      "Loop 0\n",
      "Loop 1\n",
      "Loop 2\n",
      "Else block!\n"
     ]
    }
   ],
   "source": [
    "for i in range(3):\n",
    "    print('Loop', i)\n",
    "else:\n",
    "    print('Else block!')"
   ]
  },
  {
   "cell_type": "markdown",
   "id": "spiritual-extreme",
   "metadata": {},
   "source": [
    "## Item 10: Prevent Repetition with Assignment Expressions"
   ]
  },
  {
   "cell_type": "markdown",
   "id": "greek-cheat",
   "metadata": {},
   "source": [
    "- an assignment expression or a `walrus operator` is a new syntax introduced to solve a long-standing problem with the language that can cause code duplication\n",
    "- the assignment is `a := b` \n",
    "- walrus operator is useful because they enable you to assign variables in places where assignment statements are disallowed such as in the conditional expression of an if statement"
   ]
  },
  {
   "cell_type": "markdown",
   "id": "after-polish",
   "metadata": {},
   "source": [
    "- in the example below, we only use count once, but we need to define it above"
   ]
  },
  {
   "cell_type": "code",
   "execution_count": 51,
   "id": "built-breakfast",
   "metadata": {},
   "outputs": [],
   "source": [
    "fresh_fruit = {\n",
    "    'apple': 10,\n",
    "    'banana': 8,\n",
    "    'lemon': 5,\n",
    "}\n",
    "\n",
    "def make_lemonade(count):\n",
    "    pass\n",
    "\n",
    "def out_of_stock():\n",
    "    pass\n",
    "count = fresh_fruit.get('lemon', 0)\n",
    "if count:\n",
    "    make_lemonade(count)\n",
    "else:\n",
    "    out_of_stock()"
   ]
  },
  {
   "cell_type": "markdown",
   "id": "plastic-quantum",
   "metadata": {},
   "source": [
    "- the pattern of fetching a value, checking to see if its non-zero, and then using it is extremely common\n"
   ]
  },
  {
   "cell_type": "code",
   "execution_count": 55,
   "id": "burning-twelve",
   "metadata": {},
   "outputs": [],
   "source": [
    "if (count := fresh_fruit.get('lemon', 0)) >= 4:\n",
    "        make_lemonade(count)\n",
    "else:\n",
    "    out_of_stock()  "
   ]
  },
  {
   "cell_type": "markdown",
   "id": "going-reliance",
   "metadata": {},
   "source": [
    "- Another common variation of this repetitve pattern occurs when I need to assign a variable in the enclosing scope depending on some condition, and then refrence that variable shortly afterward in a function call"
   ]
  },
  {
   "cell_type": "code",
   "execution_count": 56,
   "id": "mental-excitement",
   "metadata": {},
   "outputs": [],
   "source": [
    "def slice_bananas(count):\n",
    "    pass\n",
    "    \n",
    "class OutOfBananas(Exception):\n",
    "    pass\n",
    "\n",
    "def make_smoothies(count):\n",
    "    pass\n",
    "\n",
    "pieces = 0\n",
    "count = fresh_fruit.get('banana', 0)\n",
    "if count >= 2:\n",
    "    pieces = slice_bananas(count)\n",
    "    \n",
    "try:\n",
    "    smoothies = make_smoothies(pieces)\n",
    "except OutOfBananas:\n",
    "    out_of_stock()"
   ]
  },
  {
   "cell_type": "markdown",
   "id": "inclusive-opposition",
   "metadata": {},
   "source": [
    "- the walrus operator can again be used to shorten this example by one line of code\n",
    "- this small change removes any emphasis on the count variable"
   ]
  },
  {
   "cell_type": "code",
   "execution_count": 58,
   "id": "honey-wound",
   "metadata": {},
   "outputs": [],
   "source": [
    "pieces = 0\n",
    "if (count := fresh_fruit.get('banana', 0)) >= 2:\n",
    "    prieces = slice_bananas(count)\n",
    "    \n",
    "try:\n",
    "    smoothies = make_smoothies(pieces)\n",
    "except OutOfBananas:\n",
    "    out_of_stock()"
   ]
  },
  {
   "cell_type": "markdown",
   "id": "lesser-taiwan",
   "metadata": {},
   "source": [
    "- walrus operator also helps us with multiple ugle statements"
   ]
  },
  {
   "cell_type": "code",
   "execution_count": 60,
   "id": "otherwise-specification",
   "metadata": {},
   "outputs": [],
   "source": [
    "if (count := fresh_fruit.get('banana', 0)) >= 2:\n",
    "    pieces = slice_bananas(count)\n",
    "    to_enjoy = make_smoothies(pieces)\n",
    "elif (count := fresh_fruit.get('apple', 0)) >= 4:\n",
    "    to_enjoy = make_cider(count)\n",
    "elif count := fresh_fruit.get('lemon', 0):\n",
    "    to_enjoy = make_lemonade(count)\n",
    "else:\n",
    "    to_enjoy = 'Nothing'"
   ]
  },
  {
   "cell_type": "markdown",
   "id": "cardiovascular-hollow",
   "metadata": {},
   "source": [
    "- python also does not have a `do/while` loop\n",
    "- the code below is repetitive because it requires two seprate `fresh_fruit` = `pick_fruit() calls\n",
    "- one before the loop to set initial conditions and another at the end of the loop to replensish the list of delivered fruits"
   ]
  },
  {
   "cell_type": "code",
   "execution_count": 62,
   "id": "beneficial-monroe",
   "metadata": {},
   "outputs": [],
   "source": [
    "def pick_fruit():\n",
    "    pass\n",
    "\n",
    "def make_juice(fruit, count):\n",
    "    pass\n",
    "\n",
    "bottles = []\n",
    "fresh_fruit = pick_fruit()\n",
    "while fresh_fruit:\n",
    "    for fruit, count in fresh_fruit.items():\n",
    "        batch = make_juice(fruit, count)\n",
    "        bottles.extend(batch)\n",
    "    fresh_fruit = pick_fruit()"
   ]
  },
  {
   "cell_type": "markdown",
   "id": "creative-sleeve",
   "metadata": {},
   "source": [
    "- the walrus operator inporves the code above"
   ]
  },
  {
   "cell_type": "code",
   "execution_count": 63,
   "id": "naughty-banking",
   "metadata": {},
   "outputs": [],
   "source": [
    "bottles = []\n",
    "while fresh_fruit := pick_fruit():\n",
    "        for fruit, count in fresh_fruit.items():\n",
    "            batck = make_juice(fruit, count)\n",
    "            bottles.extend(batch)"
   ]
  },
  {
   "cell_type": "markdown",
   "id": "recorded-party",
   "metadata": {},
   "source": [
    "__Overview of Walrus__:\n",
    "- basically if you just need to initalize a variable before using it in an `if` statement, use walrus\n",
    "- if you want to emulate the `switch/case` or `do/while` use the walrus"
   ]
  }
 ],
 "metadata": {
  "kernelspec": {
   "display_name": "Python 3",
   "language": "python",
   "name": "python3"
  },
  "language_info": {
   "codemirror_mode": {
    "name": "ipython",
    "version": 3
   },
   "file_extension": ".py",
   "mimetype": "text/x-python",
   "name": "python",
   "nbconvert_exporter": "python",
   "pygments_lexer": "ipython3",
   "version": "3.9.2"
  }
 },
 "nbformat": 4,
 "nbformat_minor": 5
}
