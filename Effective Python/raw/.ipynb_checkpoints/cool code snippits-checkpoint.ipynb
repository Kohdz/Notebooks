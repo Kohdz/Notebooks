{
 "cells": [
  {
   "cell_type": "code",
   "execution_count": 4,
   "id": "married-excuse",
   "metadata": {},
   "outputs": [],
   "source": [
    "def walrus_get():\n",
    "    if (names := votes.get(key)) is None:\n",
    "        votes[key] = names = []\n",
    "\n",
    "    names.append(who)"
   ]
  },
  {
   "cell_type": "code",
   "execution_count": 2,
   "id": "earned-median",
   "metadata": {},
   "outputs": [],
   "source": [
    "def dict_refrencing_set():\n",
    "    if (japan := visits.get('Japan')) is None: # Long\n",
    "        visits['Japan'] = japan = set()\n",
    "        japan.add('Kyoto')\n",
    "        print(visits)"
   ]
  },
  {
   "cell_type": "code",
   "execution_count": 1,
   "id": "compliant-collectible",
   "metadata": {},
   "outputs": [],
   "source": [
    "def underscore_tuple():\n",
    "    _, result = careful_divide(x, y)\n",
    "    if not result:\n",
    "        print('Invalid inputs')"
   ]
  },
  {
   "cell_type": "code",
   "execution_count": 5,
   "id": "similar-conversion",
   "metadata": {},
   "outputs": [],
   "source": [
    "from typing import Optional\n",
    "from datetime import datetime\n",
    "\n",
    "def log_typed(message: str, when: Optional[datetime]=None) -> None:\n",
    "    \"\"\"Log a message with a timestamp.\n",
    "    \n",
    "    Args:\n",
    "        message: Message to print.\n",
    "        when: datetime of when the message occurred.\n",
    "            Defaults to the present time.\n",
    "    \"\"\"\n",
    "    if when is None:\n",
    "         when = datetime.now()\n",
    "    print(f'{when}: {message}')"
   ]
  },
  {
   "cell_type": "code",
   "execution_count": null,
   "id": "legitimate-perspective",
   "metadata": {},
   "outputs": [],
   "source": [
    "def safe_division_d(numerator, denominator, /, *, # Changed\n",
    "                     ignore_overflow=False,\n",
    "                     ignore_zero_division=False):\n",
    "    pass"
   ]
  },
  {
   "cell_type": "code",
   "execution_count": null,
   "id": "racial-permit",
   "metadata": {},
   "outputs": [],
   "source": [
    "order = ['screws', 'wingnuts', 'clips']\n",
    "def get_batches(count, size):\n",
    "    return count // size\n",
    "\n",
    "found = ((name, batches) for name in order\n",
    "          if (batches := get_batches(stock.get(name, 0), 8)))\n",
    "\n",
    "print(next(found))\n",
    "print(next(found))"
   ]
  },
  {
   "cell_type": "code",
   "execution_count": 1,
   "id": "exciting-costa",
   "metadata": {},
   "outputs": [
    {
     "name": "stdout",
     "output_type": "stream",
     "text": [
      "Manual nesting 6.71s\n",
      "Composed nesting 5.94s\n",
      "11.5% less time\n"
     ]
    }
   ],
   "source": [
    "# Damn a micro-benchmerk code\n",
    "\n",
    "import timeit\n",
    "def child():\n",
    "    for i in range(1_000_000):\n",
    "        yield i\n",
    "\n",
    "def slow():\n",
    "    for i in child():\n",
    "        yield i\n",
    "\n",
    "def fast():\n",
    "     yield from child()\n",
    "\n",
    "baseline = timeit.timeit(    \n",
    "    stmt='for _ in slow(): pass',\n",
    "    globals=globals(),\n",
    "    number=50)\n",
    "print(f'Manual nesting {baseline:.2f}s')\n",
    "\n",
    "comparison = timeit.timeit(\n",
    "    stmt='for _ in fast(): pass',\n",
    "    globals=globals(),\n",
    "    number=50)\n",
    "print(f'Composed nesting {comparison:.2f}s')\n",
    "reduction = -(comparison - baseline) / baseline\n",
    "print(f'{reduction:.1%} less time')"
   ]
  },
  {
   "cell_type": "code",
   "execution_count": 3,
   "id": "qualified-chicken",
   "metadata": {},
   "outputs": [],
   "source": [
    "def consice_loops():\n",
    "    total = sum(score * weight for score, weight in grades)\n",
    "    total_weight = sum(weight for _, weight in grades)"
   ]
  },
  {
   "cell_type": "code",
   "execution_count": 4,
   "id": "meaning-transmission",
   "metadata": {},
   "outputs": [],
   "source": [
    "# passing function to functions, wild!!!!\n",
    "def increment_with_report(current, increments):\n",
    "    added_count = 0\n",
    "    \n",
    "    def missing():\n",
    "        nonlocal added_count # stateful closure\n",
    "        added_count += 1\n",
    "        return 0\n",
    "    \n",
    "    result = defaultdict(missing, current)\n",
    "    for key, amount in increments:\n",
    "        result[key] += amount\n",
    "        \n",
    "    return result, added_count"
   ]
  },
  {
   "cell_type": "markdown",
   "id": "english-wallace",
   "metadata": {},
   "source": [
    "- huge points of confustion `chaning generators` and generator `send` method"
   ]
  },
  {
   "cell_type": "markdown",
   "id": "supposed-portugal",
   "metadata": {},
   "source": [
    "- also confused about dictionary `defautltdict` vs `setdefault` or something simmilar\n",
    "- reread item 17"
   ]
  },
  {
   "cell_type": "code",
   "execution_count": null,
   "id": "white-radical",
   "metadata": {},
   "outputs": [],
   "source": [
    "# when you want something to inherit from InputData, make it inherit\n",
    "class InputData:\n",
    "    def read(self):\n",
    "        raise NotImplementedError"
   ]
  },
  {
   "cell_type": "code",
   "execution_count": 3,
   "id": "ranging-adapter",
   "metadata": {},
   "outputs": [],
   "source": [
    "class Resistor:\n",
    "    pass\n",
    "\n",
    "class FixedResistance(Resistor):\n",
    "    def __init__(self, ohms):\n",
    "        super().__init__(ohms)\n",
    "    \n",
    "    @property\n",
    "    def ohms(self):\n",
    "        return self._ohms\n",
    "    \n",
    "    @ohms.setter\n",
    "    def ohms(self, ohms):\n",
    "        if hasattr(self, '_ohms'):\n",
    "            raise AttributeError(\"Ohms is immutable\")\n",
    "        self._ohms = ohms"
   ]
  },
  {
   "cell_type": "markdown",
   "id": "satisfactory-platinum",
   "metadata": {},
   "source": [
    "### 1. compound if:"
   ]
  },
  {
   "cell_type": "markdown",
   "id": "psychological-processing",
   "metadata": {},
   "source": [
    "- refactor conditionals into a boolean / functions"
   ]
  },
  {
   "cell_type": "code",
   "execution_count": 8,
   "id": "smart-butter",
   "metadata": {},
   "outputs": [],
   "source": [
    "def compound_if_statement_bool():\n",
    "    \n",
    "    first_days_of_summer = today.month == 6 and today.day == 21\n",
    "    if first_days_of_summer:\n",
    "        print(\"first day of summer\")"
   ]
  },
  {
   "cell_type": "code",
   "execution_count": 9,
   "id": "healthy-european",
   "metadata": {},
   "outputs": [],
   "source": [
    "year = 1000\n",
    "\n",
    "def leap_year(year):\n",
    "    return year % 4 == 0 and (year % 100 != 0 or year % 400 == 0)\n",
    "\n",
    "if leap_year(year):\n",
    "    print('Leap year')"
   ]
  },
  {
   "cell_type": "markdown",
   "id": "alpine-boating",
   "metadata": {},
   "source": [
    "### 2. Nested if:"
   ]
  },
  {
   "cell_type": "markdown",
   "id": "textile-boring",
   "metadata": {},
   "source": [
    "    if\n",
    "        if\n",
    "            if\n",
    "                do something\n",
    "            end if\n",
    "        end if\n",
    "    end if"
   ]
  },
  {
   "cell_type": "markdown",
   "id": "creative-telling",
   "metadata": {},
   "source": [
    "- hard to understand and test\n",
    "- wasting character space on whitelines"
   ]
  },
  {
   "cell_type": "markdown",
   "id": "desirable-crime",
   "metadata": {},
   "source": [
    "__ways to flatten arrow code__:\n",
    "- main idea is to __always return as soon as possible__\n",
    "- replace conditional with guard clauses\n",
    "- convert postive checks into negative checks"
   ]
  },
  {
   "cell_type": "code",
   "execution_count": 12,
   "id": "electric-poison",
   "metadata": {},
   "outputs": [],
   "source": [
    "import requests\n",
    "def nested_if():\n",
    "    resp = requests.get(\"https://api.divvybikes.com\")\n",
    "\n",
    "    if resp.status_code == HTTPStatus.ok:\n",
    "        station_data = resp.json()[\"data\"][\"stations\"]\n",
    "\n",
    "        for station in station_data:\n",
    "            if station[\"station_id\"] == STATION_ID:\n",
    "                if station[\"num_bikes_available\"] <= 3:\n",
    "                    return \"Hurry up! Bikes are almost out!\"\n",
    "                else:\n",
    "                    return \"No need to rush just yet\"\n",
    "\n",
    "    # notice how far this else statement is\n",
    "    else:\n",
    "        resp.raise_for_status()"
   ]
  },
  {
   "cell_type": "code",
   "execution_count": 13,
   "id": "auburn-boost",
   "metadata": {},
   "outputs": [],
   "source": [
    "import requests\n",
    "def flattened_if():\n",
    "    resp = requests.get(\"https://api.divvybikes.com\")\n",
    "\n",
    "    # Guard Clause\n",
    "    if resp.status_code != HTTPStatus.ok:\n",
    "        resp.raise_for_status()\n",
    "        return\n",
    "\n",
    "        for station in station_data:\n",
    "            if station[\"station_id\"] == STATION_ID:\n",
    "                if station[\"num_bikes_available\"] <= 3:\n",
    "                    return \"Hurry up! Bikes are almost out!\"\n",
    "                # we removed the else because we did not need it\n",
    "                return \"No need to rush just yet\"\n"
   ]
  },
  {
   "cell_type": "markdown",
   "id": "transparent-share",
   "metadata": {},
   "source": [
    "### 3. Duplicate ifs"
   ]
  },
  {
   "cell_type": "markdown",
   "id": "geological-engineer",
   "metadata": {},
   "source": [
    "- repeated if statements sprinkled throught the entire code base"
   ]
  },
  {
   "cell_type": "markdown",
   "id": "adjustable-tradition",
   "metadata": {},
   "source": [
    "### Potiental Problem Areas:\n",
    "    - if changing code in multiple places to add new features\n",
    "    - modifying existing tests to add new functionality"
   ]
  },
  {
   "cell_type": "markdown",
   "id": "affecting-gather",
   "metadata": {},
   "source": [
    "### Perfer Polymorphism to `If/Else`"
   ]
  },
  {
   "cell_type": "markdown",
   "id": "broad-elevation",
   "metadata": {},
   "source": [
    "- create a base class and add methods to it"
   ]
  },
  {
   "cell_type": "markdown",
   "id": "assigned-flavor",
   "metadata": {},
   "source": []
  },
  {
   "cell_type": "code",
   "execution_count": 3,
   "id": "ancient-system",
   "metadata": {},
   "outputs": [],
   "source": [
    "def fn_1():\n",
    "    return 1\n",
    "\n",
    "def fn_2():\n",
    "    return 1 \n",
    "\n",
    "assert fn_1() == fn_2(), \"we can write a cool statement\" "
   ]
  },
  {
   "cell_type": "markdown",
   "id": "technological-excellence",
   "metadata": {},
   "source": []
  },
  {
   "cell_type": "markdown",
   "id": "mature-invitation",
   "metadata": {},
   "source": []
  },
  {
   "cell_type": "code",
   "execution_count": null,
   "id": "enabling-equality",
   "metadata": {},
   "outputs": [],
   "source": [
    "# What the heck does this do?\n",
    "\n",
    "from contextlib import contextmanager\n",
    "\n",
    "import logging\n",
    "\n",
    "def my_function():\n",
    "    logging.debug('Some debug data')\n",
    "    logging.error('Error log here')\n",
    "    logging.debug('More debug data')\n",
    "\n",
    "@contextmanager\n",
    "def debug_logging(level):\n",
    "    logger = logging.getLogger()\n",
    "    old_level = logger.getEffectiveLevel()\n",
    "    logger.setLevel(level)\n",
    "    try:\n",
    "        yield\n",
    "    finally:\n",
    "        logger.setLevel(old_level)\n",
    "        \n",
    "        \n",
    "my_function()\n",
    "\n",
    "with debug_logging(logging.DEBUG):\n",
    "    print('* Inside: ')\n",
    "    my_function()\n",
    "    \n",
    "print('* After: ')\n",
    "my_function()"
   ]
  },
  {
   "cell_type": "code",
   "execution_count": null,
   "id": "finished-array",
   "metadata": {},
   "outputs": [],
   "source": []
  },
  {
   "cell_type": "code",
   "execution_count": null,
   "id": "conditional-virginia",
   "metadata": {},
   "outputs": [],
   "source": []
  },
  {
   "cell_type": "code",
   "execution_count": null,
   "id": "violent-pierce",
   "metadata": {},
   "outputs": [],
   "source": []
  }
 ],
 "metadata": {
  "kernelspec": {
   "display_name": "Python 3",
   "language": "python",
   "name": "python3"
  },
  "language_info": {
   "codemirror_mode": {
    "name": "ipython",
    "version": 3
   },
   "file_extension": ".py",
   "mimetype": "text/x-python",
   "name": "python",
   "nbconvert_exporter": "python",
   "pygments_lexer": "ipython3",
   "version": "3.9.2"
  }
 },
 "nbformat": 4,
 "nbformat_minor": 5
}
