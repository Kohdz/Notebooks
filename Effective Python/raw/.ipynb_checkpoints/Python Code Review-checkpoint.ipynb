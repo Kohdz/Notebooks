{
 "cells": [
  {
   "cell_type": "markdown",
   "id": "complicated-hacker",
   "metadata": {},
   "source": [
    "## General"
   ]
  },
  {
   "cell_type": "markdown",
   "id": "wooden-secretary",
   "metadata": {},
   "source": [
    "- (__Item:2__) Follow PEP8\n",
    "    - use in line negation (`if a is not b`) instead of negation of postive expressions (if not a is b)\n",
    "    - try to reduce level of `nesting` using `classes`, `generators`, `etc.`\n",
    "    - imports should be in a section in the following order: `standard library` modules, `third-party` modules, `your` own modules. Each subsection should have imports in alphabetical order\n",
    "    - in loops use `_` for unused variables\n",
    "    - try to return function instead of calling function and then returning it\n",
    "    - try combining exception handling\n",
    "    - try to make your function generalizable as possible\n",
    "    - use `long` and descriptive variable names \n",
    "    - optimize `if` statements to ensure failure occurs as quickly as possible\n",
    "- (__Item 5__) Write `Helper Functions` Instead of Complex Expressions\n",
    "- (__Item 6__): Perfer Multiple Assignment `Unpacking` over Indexing\n",
    "- (__Item 7__): Perfer `enumerate` over `range`\n",
    "- (__Item 8__): Use `zip` top process Iterators in Parallel\n",
    "- (__Item 9__): Avoid `else` Blocks After `for` and `while` Loops\n",
    "- (__Item 10__): Prevent Repetition with Assignment Expressions / `Walrus Operator`"
   ]
  },
  {
   "cell_type": "markdown",
   "id": "lesbian-conspiracy",
   "metadata": {},
   "source": [
    "## Lists and Dictionaries"
   ]
  },
  {
   "cell_type": "markdown",
   "id": "fossil-memphis",
   "metadata": {},
   "source": [
    "- (__Item 12:__) Avoid `Striding` and `Slicing` in a Signle Expression\n",
    "    - If you need all three parameters, consider doing two assignments (one to stride and another to slice) or using `islice` from the `itertools`\n",
    "- (__Item 13:__) Perfer `Catch-All` Unpacking Over Slicing (`*unpacking`) \n",
    "- (__Item: 14__) Sort by `Complex` Criteria Using the `Key` Parameter\n",
    "    - tuples have built in `__it__` and you can compare them\n",
    "    - sort(key=lambda x: (x.weight, -x.name)\n",
    "- (__Item: 16__) Perfer `get` Over `in` and `KeyError` to Handle Missing Dictionary Keys \n",
    "- (__Item: 17__) Perfer `defaultdict` Over `setdefault` to Handle Missing Items in Internal State\n",
    "    - try to use `if (names := votes.get(key)) is None:`\n",
    "- (__Item: 18__) Know How to Construct Key-Dependent Default Values with `__missing__`"
   ]
  },
  {
   "cell_type": "markdown",
   "id": "injured-meter",
   "metadata": {},
   "source": [
    "## Functions"
   ]
  },
  {
   "cell_type": "markdown",
   "id": "relative-freedom",
   "metadata": {},
   "source": [
    "- (__Item: 19__) Never Unpack More Than Three Variables from Functions\n",
    "- (__Item: 20__) Perfer Raising Exceptions to Returning `None`\n",
    "- (__Item: 22__) Reduce Visual Noise with Variable Positional Arguments (`*args`)\n",
    "    - not good pratice to use this with generators\n",
    "- (__Item: 23__) Provide Optional Behavior with Keyword Arguments (`**kwargs`)\n",
    "- (__Item: 24__) Use `None` and Docstrings to Specify Dynamic Default Arguments\n",
    "    -  during function definition at module load time. This can cause odd behaviors for dynamic values (like {}, [], or datetime.now())\n",
    "- (__Item: 25__) Enforce Clarity with Keyword-Only and Positional-Only Arguments\n",
    "    - `safe_division_d(x, y, /, *, found=False, ignore=False)`\n",
    "- (__Item: 26__) Define Function Decorators with `functools.wraps`"
   ]
  },
  {
   "cell_type": "markdown",
   "id": "bearing-alert",
   "metadata": {},
   "source": [
    "## Comprehensions and Generators"
   ]
  },
  {
   "cell_type": "markdown",
   "id": "pleasant-reality",
   "metadata": {},
   "source": [
    "- (__Item: 27__) Use Comprehensions Instead of `map` and `filter`\n",
    "- (__Item: 28__) Avoid More Than Two Control Subexpressions in Comprehension\n",
    "    - meaning have two `for` loops or one for loop and one `if`\n",
    "- (__Item: 29__) Avoid Repeated Work in Comprehensions by Using Assignment Expression\n",
    "- (__Item: 30__) Consider `Generators` Instead of Returning `Lists`\n",
    "- (__Item: 31__) Be Denfensive when Iterative Over `Arguments`\n",
    "- (__Item: 32__) Consider `Generator Expressions` for Large `Lists` Comprehensions\n",
    "    - Generator expressions execute very quickly when chained together and are memory efficient\n",
    "- (__Item: 33__) Compose Multiple Generators with `yeild from`\n",
    "- (__Item: 35__) Avoid Causing State Transitions in Generators with `throw\n",
    "- (__Item: 36__) Consider `itertools` foe working with iterators and generators\n",
    "    - `chain`, `repeat`, `cycle`, `tee`, `zip_longest`, `islice`, `takewhile`, `dropwhile`, ``, `filterfalse`, `accumulate`, `product`, `permutations`, `combinations`"
   ]
  },
  {
   "cell_type": "markdown",
   "id": "mighty-prospect",
   "metadata": {},
   "source": [
    "## Classes and Interfaces"
   ]
  },
  {
   "cell_type": "markdown",
   "id": "compact-spare",
   "metadata": {},
   "source": [
    "- (__Item: 37__) Compose Classes Instead of Nesting Many Levels of Built-in Types\n",
    "    - bascially if you have to futher then one level of nesting, i.e, a dictionay in a tuple or a tuple in a dictionary , re-think aprpoach \n",
    "    - it is time to use classes to create a layer of abstraction between your interfaces and concrete implementations\n",
    "    - use `namedtuple` for lightweight immutable data containers before you need the flexibility of a full class\n",
    "   - move your code to using multiple classes when you internal state dictionaries get complicated\n",
    "- (__Item: 38__) Accept Functions instead of Classes for Simple Interfaces\n",
    "    - you can pass fuction or class methods to functions as API hooks\n",
    "    - using a helper class to provide the behavior of a stateful closure is clearner\n",
    "    -  when you need a function to maintain state, consider defining a class that provides the` __cal__` method instead of defining a stateful closure\n",
    "- (__Item: 39__) Use `@classmethod` Polymorphism to Construct Objects Generically\n",
    "    - Use `@classmethod` to define alternative constructors for your classes\n",
    "    - Use class method polymorphism to provide generic ways to build and connect many concrete subclasses\n",
    "    - essentially what this will allow you to do is generically connect and initialize things like `mapreduce`\n",
    "- (__Item: 40__) Initialize Parent Classes with `super`\n",
    "    - use `.mro()` to see order of function calls\n",
    "- (__Item: 41__) Consider Composing Functionality with Mixin Classes\n",
    "- (__Item: 42__) Perfer Public Attributes over Private Ones\n",
    "    - Use documentation of protected fields to guide subclasses instead of trying to force access control with private attributes.\n",
    "- (__Item: 43__) Iherit from `collections.abc` for Custom Container Types"
   ]
  },
  {
   "cell_type": "markdown",
   "id": "heavy-regulation",
   "metadata": {},
   "source": [
    "## Metaclasses and Attributes"
   ]
  },
  {
   "cell_type": "markdown",
   "id": "structural-symbol",
   "metadata": {},
   "source": [
    "- (__Item: 44__) Use Plain Attributes Instead of `Sette`r and `Getter` Methods \n",
    "    - Use `@property` to define special behavior when attributes are `geters` and `seters`\n",
    "    - Ensure that `@property` methods are fast; for slow or complex work— especially involving I/O or causing side effects—use normal methods instead\n",
    "- (__Item: 45__) Consider `@property` Instead of Refactoring Attributes\n",
    "    - dont overuse `@property`. When you keep extending @property, it’s time to refactor the class\n",
    "- (__Item: 46__) Use Descriptors for Reusable `@property` methods\n",
    "    - the problem with the @property is reuse; the methods `@property` decorates cant be reused for multiple attributes of the same or unrelated class\n",
    "    - Reuse the behavior od @property methods by defining your own `descriptor protocol` classes with `__get__` and `__set__`\n",
    "    - Use WeakKeyDictionary to ensure that your descriptor classes don’t cause memory leaks\n",
    "- (__Item: 47__) Use `__getattr__`. `__getattribute__` and `__setattr__` for Lazy Attributes\n",
    "    - Use `__getattr__` and `__setattr__` to lazily load and save attributes\n",
    "    - `__getattribute__` is more advance then `__getattr__` and will be called on every call even if attribute is set\n",
    "    - there is considerable overhead added; use `super()` to avoid infinite recursion for an object\n",
    "- (__Item: 48__) Validate Subclasses with `__init_subclass__`\n",
    "    - Metaclasses can be used to inspect or modify a class after it’s defined but before it’s created, but they’re often more heavyweight than what you need\n",
    "    - Use `__init_subclass__` to ensure that subclasses are well formed at the time they are defined, before objects of their type are constructed and does not require `metaclasses` or `type` inheritane\n",
    "- (__Item: 49__) Register Class Existence with `__init_subclass__`\n",
    "    - class registration is a helpful pattern for building modular Python programs\n",
    "    - `metaclasses` let you run registration code automatically each time a base class is subclassed in a program\n",
    "- (__Item: 50__) Annotate Class Attributes with `__set_name__`\n",
    "    - `metaclasses` enable you to modify a class's attributes before the class is fully defined\n",
    "    - define `set_name__` on your descriptor classes to allow them to take into account their surrounding class and its property names\n",
    "    - avoid memory leaks and the `weakref` module by having descriptors store data they manipulate directly withing a class's instance dictionary\n",
    "- (__Item: 51__) Perfer Class Decorators Over Metaclasses for Composable Class Extensions\n",
    "    - A class decorator is a simple function that receives a class instance as a parameter and returns either a new class or a modified version of the original class\n",
    "    - Class decorators are useful when you want to modify every method or attribute of a class "
   ]
  },
  {
   "cell_type": "markdown",
   "id": "green-murder",
   "metadata": {},
   "source": [
    "## Robustness and Performance"
   ]
  },
  {
   "cell_type": "markdown",
   "id": "accepting-earth",
   "metadata": {},
   "source": [
    "- (__Item: 65__) Take Advantage of Each Block in `try`/`except`/`else`/`finally`\n",
    "    - use `try`/`finally` when you want exceptions to propagate up but also want to run cleanup code even when exceptions occur\n",
    "    - use `try`/`else` to make it clear which excaptions will be handled by your code and which exceptions will propagate up\n",
    "- (__Item: 66__) Consider `contextlib` and `with` Statements for Reusable `try`/`finally` Behavior\n",
    "    - The `contextlib` built-in module provides a `contextmanager` decorator that makes it easy to use your own functions in `with` statements\n",
    "    - The value `yielded` by context managers is supplied to the `as` part of the with statement.  your code an directly access the cause of a special context\n",
    "- (__Item: 67__) Use `datetime` Instead of `time` for Local Clocks\n",
    "- (__Item: 68__) Make `pickle` Reliable with `copyreg`\n",
    "- (__Item: 69__) Use `decimal` or `fraction` when Precision is Paramount\n",
    "- (__Item: 70__) Profile Before Optimizing\n",
    "    - use `cProfiler` over `Profiler`\n",
    "    - `Stats` lets you select what data you want to see\n",
    "- (__Item: 71__) Perfer `deque` for Producer-Consumer Queues\n",
    "- (__Item: 72__) Consider Searching Sorted Sequences with `bisect`\n",
    "- (__Item: 73__) Know How to Use `heapq` for Priority Queues \n",
    "    -  To use heapq, the items being prioritized must have a natural sort order, which requires special methods like __lt__ to be defined for classes\n",
    "- (__Item: 74__) Consider `memoryview` and `bytearray` for zero-copy interactions"
   ]
  },
  {
   "cell_type": "markdown",
   "id": "narrow-marina",
   "metadata": {},
   "source": [
    "## Testing and Debugging"
   ]
  },
  {
   "cell_type": "markdown",
   "id": "modern-genealogy",
   "metadata": {},
   "source": [
    "- (__Item: 75__) Using `repr` Strings for Debugging Output \n",
    "    - `repr` can be used to type-check\n",
    "    - you can reach into the object instance dictionary, which is stored in the __dict__ attribute\n",
    "- (__Item: 76__) Verify Related Behaviors in `TestCase` Subclasses\n",
    "    - use `help(TeseCase)` to find methods like `assertEqual` or `assertTrue`\n",
    "    -  consider writing data-driven tests using the subTest helper method in order to reduce boilerplate\n",
    "- (__Item: 77__) Isolate Tests from Each Other with `setUp`, `tearDown`, `setUpModule` and `tearDownModule`\n",
    "    - it’s important to write both `unit tests` (for isolated functionality) and `integration tests` (for modules that interact with each other)\n",
    "- (__Item: 78__) Use Mocks to Test Code with Complex Dependencies\n",
    "    -  use `ANY` to indicate any value is ok for an argument\n",
    "    - use `call` to test how many times a function was called\n",
    "- (__Item: 79__) Encapsulate Dependencies to Facilitate Mocking and Testing\n",
    "- (__Item: 80__) Consider Interactive Debugging with `pdb` \n",
    "    - The pdb module can be used for debug exceptions after they happen in independent Python programs (using `python -m pdb -c continue <program path>`) or the interactive Python interpreter (using import `pdb; pdb.pm()`)\n",
    "- (__Item: 81__) Use `tracemalloc` to Understand Memory Usage and Leaks \n",
    "- `gc` module can help you understand which object exist\n",
    "- `tracemalloc` helps to understanding the source of memeory usage"
   ]
  },
  {
   "cell_type": "markdown",
   "id": "compatible-split",
   "metadata": {},
   "source": [
    "## Collaboration"
   ]
  },
  {
   "cell_type": "markdown",
   "id": "helpful-guess",
   "metadata": {},
   "source": [
    "- (__Item: 84__) Write Docstrings for Every `Function`, `Class` and `Module`\n",
    "- (__Item: 85__) Use Packages to Organize Modules and Provide Stable `APIs` \n",
    "- (__Item: 87__) Define a Root `Exception` to Insulate Callers from APIs\n",
    "- (__Item: 88__) Know How to Break Circular Dependencies\n",
    "- (__Item: 89__) Consider `Warnings` to Refactor and Migrate Usage\n",
    "- (__Item: 90__) Consider Static Analysis via typing to Obviate Bugs"
   ]
  }
 ],
 "metadata": {
  "kernelspec": {
   "display_name": "Python 3",
   "language": "python",
   "name": "python3"
  },
  "language_info": {
   "codemirror_mode": {
    "name": "ipython",
    "version": 3
   },
   "file_extension": ".py",
   "mimetype": "text/x-python",
   "name": "python",
   "nbconvert_exporter": "python",
   "pygments_lexer": "ipython3",
   "version": "3.9.2"
  }
 },
 "nbformat": 4,
 "nbformat_minor": 5
}
