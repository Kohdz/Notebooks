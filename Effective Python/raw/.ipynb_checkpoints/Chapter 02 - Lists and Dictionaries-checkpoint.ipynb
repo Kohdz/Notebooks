{
 "cells": [
  {
   "cell_type": "markdown",
   "id": "specialized-effects",
   "metadata": {},
   "source": [
    "## Item 11: Know How to Slice Sequences"
   ]
  },
  {
   "cell_type": "markdown",
   "id": "apart-spanish",
   "metadata": {},
   "source": [
    "- be careful of slicling with negative numbers as you can end up with suprising results\n",
    "- `somelist[-0:]` will result in `somelist[:]` and copy the orginal list\n",
    "- result of slicing a `list` is a whole new `list`\n",
    "- in assignments, slices replace the specified range in the orginal `list`\n",
    "- you can shrink a list if you index a larger range and replace it with a shorter range\n",
    "- simmilarly you can grow a list when indexing it\n",
    "- if you assign to a slice with no start or end indexes, you replace the entire contents of the `list` with a copy of whats refrenced and not allocating a new `list`\n"
   ]
  },
  {
   "cell_type": "markdown",
   "id": "wound-gibson",
   "metadata": {},
   "source": [
    "## Item 12: Avoid Striding and Slicing in a Single Expression"
   ]
  },
  {
   "cell_type": "markdown",
   "id": "capital-french",
   "metadata": {},
   "source": [
    "- in python, there is a special syntax to stride to form a list\n",
    "- `somelist[start:end:strinde]`\n",
    "- the syntax above lets you take every `nth` item when slicing a sequence"
   ]
  },
  {
   "cell_type": "code",
   "execution_count": 1,
   "id": "dramatic-values",
   "metadata": {},
   "outputs": [
    {
     "name": "stdout",
     "output_type": "stream",
     "text": [
      "['red', 'yellow', 'blue']\n",
      "['orange', 'green', 'purple']\n"
     ]
    }
   ],
   "source": [
    "x = ['red', 'orange', 'yellow', 'green', 'blue', 'purple']\n",
    "odds = x[::2]\n",
    "evens = x[1::2]\n",
    "\n",
    "print(odds)\n",
    "print(evens)"
   ]
  },
  {
   "cell_type": "markdown",
   "id": "mexican-montreal",
   "metadata": {},
   "source": [
    "- problem with stride is that it has unexpected behavior\n",
    "- for example, if you are trying to reverse using it `x[::-1]`\n",
    "- the syntax work for strings but as soon as the data is encoded as `UTF-8` it breakes "
   ]
  },
  {
   "cell_type": "markdown",
   "id": "historical-journey",
   "metadata": {},
   "source": [
    "- in general avoid using a `stride` along with start and end indexes\n",
    "- if you need to use it, perer making it a postive value and omit start and end indexes\n",
    "- if you need to use stride, perfer making it a postive value anbd omit start and end indexes\n",
    "- striding and then slicing creates an extra shallow copy of the data\n",
    "- if your program cant afford the `time` or `memory` consider using `itertools` which is clearer to read and does not permit negative values for start, end, or stride "
   ]
  },
  {
   "cell_type": "code",
   "execution_count": 2,
   "id": "statutory-sender",
   "metadata": {},
   "outputs": [],
   "source": [
    "y = x[::2] # ['a', 'c', 'e', 'g']\n",
    "z = y[1:-1] # ['c', 'e']"
   ]
  },
  {
   "cell_type": "markdown",
   "id": "duplicate-basement",
   "metadata": {},
   "source": [
    "## Item 13: Perfer Catch-All Unpacking Over Slicing"
   ]
  },
  {
   "cell_type": "markdown",
   "id": "magnetic-answer",
   "metadata": {},
   "source": [
    "- one limitation of unpacking is that you need to know the lenght of the sequence you are unpacking in advance\n",
    "- the solution to the unpacking problem is below but it is noisy and error prone"
   ]
  },
  {
   "cell_type": "code",
   "execution_count": 5,
   "id": "fewer-uzbekistan",
   "metadata": {},
   "outputs": [
    {
     "name": "stdout",
     "output_type": "stream",
     "text": [
      "20 19 [15, 9, 8, 7, 6, 4, 1, 0]\n"
     ]
    }
   ],
   "source": [
    "car_ages = [0, 9, 4, 8, 7, 20, 19, 1, 6, 15]\n",
    "car_ages_descending = sorted(car_ages, reverse=True)\n",
    "\n",
    "oldest = car_ages_descending[0]\n",
    "second_oldest = car_ages_descending[1]\n",
    "others = car_ages_descending[2:]\n",
    "\n",
    "print(oldest, second_oldest, others)"
   ]
  },
  {
   "cell_type": "markdown",
   "id": "geological-steal",
   "metadata": {},
   "source": [
    "- to correct this, python has introduces catch-all unpacking through a `starred expression`\n",
    "- a starred expression may appear in any position\n",
    "- the catch is that you need to have atleast one required part or you get an error\n",
    "- you also cant use multiple catch-all expressions in a single-level unpacking pattern"
   ]
  },
  {
   "cell_type": "code",
   "execution_count": 8,
   "id": "american-status",
   "metadata": {},
   "outputs": [
    {
     "name": "stdout",
     "output_type": "stream",
     "text": [
      "20 19 [15, 9, 8, 7, 6, 4, 1, 0]\n",
      "0 1 [20, 19, 15, 9, 8, 7, 6, 4]\n"
     ]
    }
   ],
   "source": [
    "oldest, second_oldest, *others = car_ages_descending\n",
    "print(oldest, second_oldest, others)\n",
    "\n",
    "*others, second_youngest, youngest = car_ages_descending\n",
    "print(youngest, second_youngest, others)"
   ]
  },
  {
   "cell_type": "markdown",
   "id": "excellent-repair",
   "metadata": {},
   "source": [
    "- you can use multiple starred expressions in an unpacking assignment statement, as long as they're catch-alls for different parts of the multilevel structure being packed\n",
    "- it is not reccomended"
   ]
  },
  {
   "cell_type": "code",
   "execution_count": 9,
   "id": "immune-munich",
   "metadata": {},
   "outputs": [
    {
     "name": "stdout",
     "output_type": "stream",
     "text": [
      "Best at Downtown is Silver Shadow, 2 others\n",
      "Best at Airport is Skyline, 3 others\n"
     ]
    }
   ],
   "source": [
    "car_inventory = {\n",
    " 'Downtown': ('Silver Shadow', 'Pinto', 'DMC'),\n",
    " 'Airport': ('Skyline', 'Viper', 'Gremlin', 'Nova'),\n",
    "}\n",
    "((loc1, (best1, *rest1)),\n",
    " (loc2, (best2, *rest2))) = car_inventory.items()\n",
    "print(f'Best at {loc1} is {best1}, {len(rest1)} others')\n",
    "print(f'Best at {loc2} is {best2}, {len(rest2)} others')"
   ]
  },
  {
   "cell_type": "markdown",
   "id": "current-powder",
   "metadata": {},
   "source": [
    "- starred expressions becomes `list` instances in all cases\n",
    "- if there are no leftovers, then the leftover becomes an empty list"
   ]
  },
  {
   "cell_type": "code",
   "execution_count": 10,
   "id": "suitable-relationship",
   "metadata": {},
   "outputs": [
    {
     "name": "stdout",
     "output_type": "stream",
     "text": [
      "1 2 []\n"
     ]
    }
   ],
   "source": [
    "short_list = [1, 2]\n",
    "first, second, *rest = short_list\n",
    "print(first, second, rest)"
   ]
  },
  {
   "cell_type": "markdown",
   "id": "scheduled-ordinary",
   "metadata": {},
   "source": [
    "- you can also unpack arbitrary iterators with the unpacking syntax\n",
    "- below is an example a generator that yields the rows of a CSV file containing all car orders from the dealership this week"
   ]
  },
  {
   "cell_type": "code",
   "execution_count": 11,
   "id": "alien-atlas",
   "metadata": {},
   "outputs": [],
   "source": [
    "def generate_csv():\n",
    "    yield ('Date', 'Make' , 'Model', 'Year', 'Price')"
   ]
  },
  {
   "cell_type": "markdown",
   "id": "muslim-prediction",
   "metadata": {},
   "source": [
    "- processing the results of the generator using indexes and slices is ok but requires multiple lines and its visually noisy"
   ]
  },
  {
   "cell_type": "code",
   "execution_count": 13,
   "id": "requested-romantic",
   "metadata": {},
   "outputs": [
    {
     "name": "stdout",
     "output_type": "stream",
     "text": [
      "CSV Header: ('Date', 'Make', 'Model', 'Year', 'Price')\n",
      "Row count:  0\n"
     ]
    }
   ],
   "source": [
    "all_csv_rows = list(generate_csv())\n",
    "header = all_csv_rows[0]\n",
    "rows = all_csv_rows[1:]\n",
    "\n",
    "print('CSV Header:', header)\n",
    "print('Row count: ', len(rows))"
   ]
  },
  {
   "cell_type": "markdown",
   "id": "personalized-artist",
   "metadata": {},
   "source": [
    "- unpacking with a starred expression makes it easy to process the first row- the header separately from the rest of the iterators contents"
   ]
  },
  {
   "cell_type": "code",
   "execution_count": 14,
   "id": "pressing-religious",
   "metadata": {},
   "outputs": [
    {
     "name": "stdout",
     "output_type": "stream",
     "text": [
      "CSV Header: ('Date', 'Make', 'Model', 'Year', 'Price')\n",
      "Row count:  0\n"
     ]
    }
   ],
   "source": [
    "it = generate_csv()\n",
    "header, *rows = it\n",
    "\n",
    "print('CSV Header:', header)\n",
    "print('Row count: ', len(rows))"
   ]
  },
  {
   "cell_type": "markdown",
   "id": "hundred-athletics",
   "metadata": {},
   "source": [
    "- the problem with unpacking an iterator risks the potential of using up all of the memory on your computer and causing your program to crash"
   ]
  },
  {
   "cell_type": "markdown",
   "id": "italian-fireplace",
   "metadata": {},
   "source": [
    "## Item 14: Sort by Complex Criteria Using the `key` Parameter"
   ]
  },
  {
   "cell_type": "markdown",
   "id": "indirect-diploma",
   "metadata": {},
   "source": [
    "- you cant sort classes because the `sort` method tries to call comparision special methods that are not define dby the class\n",
    "- but there might still be some attribute on an object that you wold like to use for sorting\n",
    "- that is where the `key` parameter can be used\n",
    "- the `key` function should be a comparable value to use in place of an item for sorting purposes\n",
    "- with the lambda function passed as the `key` parameter you can access attributes of items "
   ]
  },
  {
   "cell_type": "code",
   "execution_count": 17,
   "id": "above-sociology",
   "metadata": {},
   "outputs": [
    {
     "name": "stdout",
     "output_type": "stream",
     "text": [
      "Unsorted: [Tool('level', 3.5), Tool('hammer', 1.25), Tool('screwdriver', 0.5), Tool('chisel', 0.25)]\n",
      "\n",
      "Sorted:  [Tool('chisel', 0.25), Tool('screwdriver', 0.5), Tool('hammer', 1.25), Tool('level', 3.5)]\n"
     ]
    }
   ],
   "source": [
    "class Tool:\n",
    "    def __init__(self, name, weight):\n",
    "        self.name = name\n",
    "        self.weight = weight\n",
    "        \n",
    "    def __repr__(self):\n",
    "        return f'Tool({self.name!r}, {self.weight})'\n",
    "    \n",
    "tools = [\n",
    "    Tool('level', 3.5),\n",
    "    Tool('hammer', 1.25),\n",
    "    Tool('screwdriver', 0.5),\n",
    "    Tool('chisel', 0.25),\n",
    "]\n",
    "\n",
    "print('Unsorted:', repr(tools))\n",
    "tools.sort(key=lambda x: x.weight)\n",
    "print('\\nSorted: ', tools)"
   ]
  },
  {
   "cell_type": "markdown",
   "id": "pharmaceutical-fifteen",
   "metadata": {},
   "source": [
    "- for strings you might also want to process them such as using lowercase before sorting"
   ]
  },
  {
   "cell_type": "code",
   "execution_count": 18,
   "id": "parliamentary-victim",
   "metadata": {},
   "outputs": [
    {
     "name": "stdout",
     "output_type": "stream",
     "text": [
      "Case sensitive:  ['New York', 'Paris', 'home', 'work']\n",
      "Case insensitive: ['home', 'New York', 'Paris', 'work']\n"
     ]
    }
   ],
   "source": [
    "places = ['home', 'work', 'New York', 'Paris']\n",
    "places.sort()\n",
    "\n",
    "print('Case sensitive: ', places)\n",
    "places.sort(key=lambda x: x.lower())\n",
    "print('Case insensitive:', places)"
   ]
  },
  {
   "cell_type": "markdown",
   "id": "social-arbitration",
   "metadata": {},
   "source": [
    "- sometimes you need to sort by multiple criteria\n",
    "- the simplest solution in Python is to use the `tuple` type\n",
    "- Tuples are immutable sequences of arbitrary python values\n",
    "- tuples are comparable by default and have a natural ordering, meaning they implement all of the special methods such a  `__lt__` that are required by the `sort` method\n",
    "- `Tuples` impement these special method comparators by iterating over each position in the `tuple` and comparing the corespondig values one index at a time"
   ]
  },
  {
   "cell_type": "markdown",
   "id": "immune-merit",
   "metadata": {},
   "source": [
    "- in the first position in the tuples being compared are equal, then the tuple comparision will move on to the second position"
   ]
  },
  {
   "cell_type": "code",
   "execution_count": 19,
   "id": "parallel-jordan",
   "metadata": {},
   "outputs": [],
   "source": [
    "saw = (5, 'circular saw')\n",
    "jackhammer = (40, 'jackhammer')\n",
    "assert not (jackhammer < saw) # Matches expectations"
   ]
  },
  {
   "cell_type": "code",
   "execution_count": 20,
   "id": "adjustable-prairie",
   "metadata": {},
   "outputs": [],
   "source": [
    "drill = (4, 'drill')\n",
    "sander = (4, 'sander')\n",
    "assert drill[0] == sander[0] # Same weight\n",
    "assert drill[1] < sander[1] # Alphabetically less\n",
    "assert drill < sander # Thus, drill comes first"
   ]
  },
  {
   "cell_type": "markdown",
   "id": "prostate-model",
   "metadata": {},
   "source": [
    "- you can take advantage of this `tuple` comparision in order to sort the list by multiple parameters"
   ]
  },
  {
   "cell_type": "markdown",
   "id": "equal-stability",
   "metadata": {},
   "source": [
    "- one limitation of having the key function return a `tuple` is that the direction of sorting for all critera must be the same, either all ascending or decending order\n",
    "- providing `reversed=True` will effect all the tuple criteria"
   ]
  },
  {
   "cell_type": "code",
   "execution_count": 24,
   "id": "operational-border",
   "metadata": {},
   "outputs": [
    {
     "name": "stdout",
     "output_type": "stream",
     "text": [
      "[Tool('drill', 4), Tool('sander', 4), Tool('circular saw', 5), Tool('jackhammer', 40)]\n",
      "\n",
      "[Tool('jackhammer', 40), Tool('circular saw', 5), Tool('sander', 4), Tool('drill', 4)]\n"
     ]
    }
   ],
   "source": [
    "power_tools = [\n",
    " Tool('drill', 4),\n",
    " Tool('circular saw', 5),\n",
    " Tool('jackhammer', 40),\n",
    " Tool('sander', 4),\n",
    "]\n",
    "\n",
    "power_tools.sort(key=lambda x: (x.weight, x.name))\n",
    "print(power_tools)\n",
    "print(\"\")\n",
    "\n",
    "power_tools.sort(key=lambda x: (x.weight, x.name),\n",
    " reverse=True) # Makes all criteria descending\n",
    "print(power_tools)"
   ]
  },
  {
   "cell_type": "markdown",
   "id": "invalid-reply",
   "metadata": {},
   "source": [
    "- for numerical values its possible to mix sorting directions by using the `unary` minus operator in the `key` function\n",
    "- this negates one of the values in the returned `tuple` effectively reversing its sort order while leaving the other in tact"
   ]
  },
  {
   "cell_type": "code",
   "execution_count": 25,
   "id": "professional-destination",
   "metadata": {},
   "outputs": [
    {
     "name": "stdout",
     "output_type": "stream",
     "text": [
      "[Tool('jackhammer', 40), Tool('circular saw', 5), Tool('drill', 4), Tool('sander', 4)]\n"
     ]
    }
   ],
   "source": [
    "power_tools.sort(key=lambda x: (-x.weight, x.name))\n",
    "print(power_tools)"
   ]
  },
  {
   "cell_type": "markdown",
   "id": "talented-guarantee",
   "metadata": {},
   "source": [
    "- if the `key` lambda is giving you an error, just combine multiple sorting"
   ]
  },
  {
   "cell_type": "markdown",
   "id": "loose-investigator",
   "metadata": {},
   "source": [
    "## Item 15: Be Cautious When Relying on `dict` Insertion Ordering"
   ]
  },
  {
   "cell_type": "markdown",
   "id": "marine-antarctica",
   "metadata": {},
   "source": [
    "- after `Python 3.6` dictionaries perserve insertion order\n",
    "- a concenquence of this is that keyword arguments to functions -- including the `**kwargs` catch-all parameter previously would come though an seemingly random order which made it hard to debug function calls"
   ]
  },
  {
   "cell_type": "markdown",
   "id": "coated-monthly",
   "metadata": {},
   "source": [
    "- classes also use the `dict` type for their instance dictionaries\n",
    "- so you can assume that the order that the values are perserved"
   ]
  },
  {
   "cell_type": "code",
   "execution_count": 26,
   "id": "heated-valuable",
   "metadata": {},
   "outputs": [
    {
     "name": "stdout",
     "output_type": "stream",
     "text": [
      "alligator = hatchling\n",
      "elephant = calf\n"
     ]
    }
   ],
   "source": [
    "class MyClass:\n",
    "     def __init__(self):\n",
    "        self.alligator = 'hatchling'\n",
    "        self.elephant = 'calf'\n",
    "\n",
    "a = MyClass()\n",
    "\n",
    "for key, value in a.__dict__.items():\n",
    "    print(f'{key} = {value}')"
   ]
  },
  {
   "cell_type": "markdown",
   "id": "explicit-delight",
   "metadata": {},
   "source": [
    "- there is still the `OrderedDict` class that perserves ordering\n",
    "- if you need to handle a high rate of key insertions and popitem calls, `OrderdedDict` may be a better fit than the standard `dict`"
   ]
  },
  {
   "cell_type": "markdown",
   "id": "adjacent-nudist",
   "metadata": {},
   "source": [
    "- order is not always maintained\n",
    "- python makes it easy for programmers to define their own custom container types that emulate the standard `protocols` matching `list`, `dict`, and the other types\n",
    "- they inherit form `collections.abc`\n",
    "- python is not statically typed, so modt code relies on `duck typing`, where an object's behavior is its de facto type, instead of rigid class hierarchies"
   ]
  },
  {
   "cell_type": "markdown",
   "id": "weekly-apartment",
   "metadata": {},
   "source": [
    "- lets say you wanted a program to show the results of a contest for the cutest baby animal"
   ]
  },
  {
   "cell_type": "code",
   "execution_count": 34,
   "id": "aggressive-application",
   "metadata": {},
   "outputs": [],
   "source": [
    "votes = {\n",
    " 'otter': 1281,\n",
    " 'polar bear': 587,\n",
    " 'fox': 863,\n",
    "}"
   ]
  },
  {
   "cell_type": "markdown",
   "id": "accepted-portugal",
   "metadata": {},
   "source": [
    "- we can define a function to process this voting and save the rank of each animal name into a provided empty dictionary"
   ]
  },
  {
   "cell_type": "code",
   "execution_count": 28,
   "id": "varied-mainland",
   "metadata": {},
   "outputs": [],
   "source": [
    "def populate_ranks(votes, ranks):\n",
    "    names = list(votes.keys())\n",
    "    names.sort(key=votes.get, reverse=True)\n",
    "    \n",
    "    for i, name in enumerate(names, 1):\n",
    "        ranks[name] = i"
   ]
  },
  {
   "cell_type": "markdown",
   "id": "velvet-shower",
   "metadata": {},
   "source": [
    "- we also need a function that will tell me what animal won the contest\n",
    "- this function works by assuming that `populate_ranks` will assign the contest of the `ranks` dictionary in ascending order, meaning that the first key must be the winner"
   ]
  },
  {
   "cell_type": "code",
   "execution_count": 32,
   "id": "surrounded-assessment",
   "metadata": {},
   "outputs": [],
   "source": [
    "def get_winner(ranks):\n",
    "    return next(iter(ranks))"
   ]
  },
  {
   "cell_type": "markdown",
   "id": "unlike-printing",
   "metadata": {},
   "source": [
    "- we can check that our program runs correctly"
   ]
  },
  {
   "cell_type": "code",
   "execution_count": 33,
   "id": "editorial-tamil",
   "metadata": {},
   "outputs": [
    {
     "name": "stdout",
     "output_type": "stream",
     "text": [
      "{'otter': 1, 'fox': 2, 'polar bear': 3}\n",
      "otter\n"
     ]
    }
   ],
   "source": [
    "ranks = {}\n",
    "populate_ranks(votes, ranks)\n",
    "print(ranks)\n",
    "winner = get_winner(ranks)\n",
    "print(winner)"
   ]
  },
  {
   "cell_type": "markdown",
   "id": "physical-count",
   "metadata": {},
   "source": [
    "- lets sat the requirements for the program have changed\n",
    "- the `UI` element that shows the results should be in alphabetical order instead of `rank` order\n",
    "- to accomplicsh this, I can use the `collections.abc` built-in module to define a new dictionary-like class that `iterates` its contents in alphabetical order"
   ]
  },
  {
   "cell_type": "code",
   "execution_count": 45,
   "id": "painted-uganda",
   "metadata": {},
   "outputs": [],
   "source": [
    "from collections.abc import MutableMapping\n",
    "\n",
    "class SortedDict(MutableMapping):\n",
    "    \n",
    "    def __init__(self):\n",
    "        self.data = {}\n",
    "        \n",
    "    def __getitem__(self, key):\n",
    "        return self.data[key]\n",
    "    \n",
    "    def __setitem__(self, key, value):\n",
    "        self.data[key] = value\n",
    "        \n",
    "    def __setitem__(self, key, value):\n",
    "        self.data[key] = value\n",
    "        \n",
    "    def __delitem__(self, key):\n",
    "        del self.data[key]\n",
    "        \n",
    "    def __iter__(self):\n",
    "        keys = list(self.data.keys())\n",
    "        keys.sort()\n",
    "        for key in keys:\n",
    "            yield key\n",
    "            \n",
    "    def __len__(self):\n",
    "        return len(self.data)"
   ]
  },
  {
   "cell_type": "markdown",
   "id": "closing-flooring",
   "metadata": {},
   "source": [
    "- we can use `SortedDict` instance in place of a standard dict with the functions form before and no erros will be raised since the class conforms to the protocal of a standard dictionary\n",
    "- howerver the results are incorrect"
   ]
  },
  {
   "cell_type": "code",
   "execution_count": 46,
   "id": "hazardous-marker",
   "metadata": {},
   "outputs": [
    {
     "name": "stdout",
     "output_type": "stream",
     "text": [
      "{'otter': 1, 'fox': 2, 'polar bear': 3}\n",
      "fox\n"
     ]
    }
   ],
   "source": [
    "sorted_ranks = SortedDict()\n",
    "populate_ranks(votes, sorted_ranks)\n",
    "print(sorted_ranks.data)\n",
    "winner = get_winner(sorted_ranks)\n",
    "print(winner)"
   ]
  },
  {
   "cell_type": "markdown",
   "id": "opposed-energy",
   "metadata": {},
   "source": [
    "- the problem is that the implementation of `get_winner` assumes that the dictonary's iteration is in insertion order to match `populate_ranks`\n",
    "- this code is using the `SortedDict` instead of `dict`, so the assumption is no longer true\n",
    "- thus the value returned for the winner is `fox`, which is true alphabetically"
   ]
  },
  {
   "cell_type": "markdown",
   "id": "controlling-scope",
   "metadata": {},
   "source": [
    "- one solutions are to either reimplement the `get_winner` function to no longer assume that the ranks dictionary has a specific iteration order\n",
    "- this is the most conserative and robust solution"
   ]
  },
  {
   "cell_type": "code",
   "execution_count": 47,
   "id": "compressed-exception",
   "metadata": {},
   "outputs": [
    {
     "name": "stdout",
     "output_type": "stream",
     "text": [
      "otter\n"
     ]
    }
   ],
   "source": [
    "def get_winner(ranks):\n",
    "    for name, rank in ranks.items():\n",
    "        if rank == 1:\n",
    "            return name\n",
    "        \n",
    "winner = get_winner(sorted_ranks)\n",
    "print(winner)"
   ]
  },
  {
   "cell_type": "markdown",
   "id": "fatal-peripheral",
   "metadata": {},
   "source": [
    "- another approach is to add an explicit check to the top of the function to ensure that the type of `ranks` matches my expectations and to raise an expection if not\n",
    "- this solution likely has better runtime performance than the more conserative approach"
   ]
  },
  {
   "cell_type": "code",
   "execution_count": 48,
   "id": "processed-nicholas",
   "metadata": {},
   "outputs": [
    {
     "name": "stdout",
     "output_type": "stream",
     "text": [
      "ust provide a dict instance\n"
     ]
    }
   ],
   "source": [
    "def get_winner(ranks):\n",
    "    if not isinstance(ranks, dict):\n",
    "        raise TypeError('must provide a dict instance')\n",
    "    return next(iter(ranks))\n",
    "\n",
    "\n",
    "try:\n",
    "    get_winner(sorted_ranks)\n",
    "except TypeError:\n",
    "    print('ust provide a dict instance')"
   ]
  },
  {
   "cell_type": "markdown",
   "id": "interracial-saturn",
   "metadata": {},
   "source": [
    "- the third alternative is to use type annotations to enforce that the value passed to `get_winner` is a dict instance and not a `MutableMapping` with dictionary-like behavior\n",
    "- you can run the `mypy` tool in strict mode on an annotated version"
   ]
  },
  {
   "cell_type": "code",
   "execution_count": 50,
   "id": "colored-garbage",
   "metadata": {},
   "outputs": [
    {
     "name": "stdout",
     "output_type": "stream",
     "text": [
      "{'otter': 1, 'fox': 2, 'polar bear': 3}\n",
      "fox\n"
     ]
    }
   ],
   "source": [
    "# would have thrown an error if mypy was implented \n",
    "\n",
    "from typing import Dict, MutableMapping\n",
    "def populate_ranks(votes: Dict[str, int],\n",
    "                  ranks: Dict[str, int]) -> None:\n",
    "\n",
    "    names = list(votes.keys())\n",
    "    names.sort(key=votes.get, reverse=True)\n",
    "\n",
    "    for i, name in enumerate(names, 1):\n",
    "        ranks[name] = i\n",
    "\n",
    "def get_winner(ranks: Dict[str, int]) -> str:\n",
    "    return next(iter(ranks))\n",
    "\n",
    "\n",
    "votes = {\n",
    " 'otter': 1281,\n",
    " 'polar bear': 587,\n",
    " 'fox': 863,\n",
    "}\n",
    "\n",
    "sorted_ranks = SortedDict()\n",
    "populate_ranks(votes, sorted_ranks)\n",
    "print(sorted_ranks.data)\n",
    "winner = get_winner(sorted_ranks)\n",
    "print(winner)\n"
   ]
  },
  {
   "cell_type": "markdown",
   "id": "awful-smith",
   "metadata": {},
   "source": [
    "- there are three ways to be careful about dictionary-like classes: write code that doesnt rely on insertion, ordering, explicitly check for the `dict type` at runtime"
   ]
  },
  {
   "cell_type": "markdown",
   "id": "different-shock",
   "metadata": {},
   "source": [
    "## Perfer `get` over `in` and `KeyError` to Handle Missing Dictionary Keys"
   ]
  },
  {
   "cell_type": "markdown",
   "id": "guilty-operations",
   "metadata": {},
   "source": [
    "- the three `fundemental` operations for interacting with dictionaries are `accessing`, `assigning` and `deleting` keys and their associated values\n",
    "- the contents of dictionaries are dynamic and thus its entirely possible, even likely that when you try to access or delte a key it wont be possible"
   ]
  },
  {
   "cell_type": "markdown",
   "id": "suffering-force",
   "metadata": {},
   "source": [
    "- you could use `try/except` but that is not the best approach\n"
   ]
  },
  {
   "cell_type": "code",
   "execution_count": 51,
   "id": "electrical-niagara",
   "metadata": {},
   "outputs": [],
   "source": [
    "counters = {\n",
    " 'pumpernickel': 2,\n",
    " 'sourdough': 1,\n",
    "}\n",
    "\n",
    "key = 'pumpernickel'\n",
    "count = counters.get(key, 0)\n",
    "counters[key] = count + 1"
   ]
  },
  {
   "cell_type": "markdown",
   "id": "baking-brain",
   "metadata": {},
   "source": [
    "- you should generally use `Counter` class if you have to count keys\n",
    "- if dictionaries have a more complex type, such as a `list`, do the following"
   ]
  },
  {
   "cell_type": "code",
   "execution_count": 53,
   "id": "located-desktop",
   "metadata": {},
   "outputs": [
    {
     "name": "stdout",
     "output_type": "stream",
     "text": [
      "{'baguette': ['Bob', 'Alice'], 'ciabatta': ['Coco', 'Deb'], 'brioche': ['Elmer']}\n"
     ]
    }
   ],
   "source": [
    "votes = {\n",
    " 'baguette': ['Bob', 'Alice'],\n",
    " 'ciabatta': ['Coco', 'Deb'],\n",
    "}\n",
    "\n",
    "key = 'brioche'\n",
    "who = 'Elmer'\n",
    "\n",
    "if key in votes:\n",
    "    names = votes[key]\n",
    "else:\n",
    "    votes[key] = names = []\n",
    "    \n",
    "names.append(who)\n",
    "print(votes)"
   ]
  },
  {
   "cell_type": "code",
   "execution_count": 54,
   "id": "patient-philadelphia",
   "metadata": {},
   "outputs": [],
   "source": [
    "try:\n",
    "    names = votes[key]\n",
    "except KeyError:\n",
    "    votes[key] = names = []\n",
    "    names.append(who)"
   ]
  },
  {
   "cell_type": "markdown",
   "id": "becoming-magnitude",
   "metadata": {},
   "source": [
    "- you could also use the `get` method to fetch a `list` value when the key is present, or do one fetch and one assignment if the key isn't present"
   ]
  },
  {
   "cell_type": "code",
   "execution_count": 56,
   "id": "needed-carter",
   "metadata": {},
   "outputs": [],
   "source": [
    "names = votes.get(key)\n",
    "if names is None:\n",
    "    votes[key] = names = []\n",
    "    \n",
    "names.append(who)"
   ]
  },
  {
   "cell_type": "markdown",
   "id": "sunset-springfield",
   "metadata": {},
   "source": [
    "- that above can be shortened to one line which improve readability"
   ]
  },
  {
   "cell_type": "code",
   "execution_count": 58,
   "id": "statutory-baltimore",
   "metadata": {},
   "outputs": [],
   "source": [
    "if (names := votes.get(key)) is None:\n",
    "    votes[key] = names = []\n",
    "\n",
    "names.append(who)"
   ]
  },
  {
   "cell_type": "markdown",
   "id": "green-grill",
   "metadata": {},
   "source": [
    "- the `dict` type also provides the `setdefault` method to help shorten this pattern even further\n",
    "- `setdefault` tries to fetch the value of akey in the dictionary\n",
    "- if the key is not present, the method assigns that key to the default value provided\n",
    "- and then the method returnd the value for that key: either the originally present value or the newly inserted default value\n",
    "- `setdefault` is used below to implement the same logic as in the `get` example above\n"
   ]
  },
  {
   "cell_type": "code",
   "execution_count": 62,
   "id": "illegal-pitch",
   "metadata": {},
   "outputs": [],
   "source": [
    "# readibility is not obvious, so you might not want to go with approach\n",
    "\n",
    "names = votes.setdefault(key, [])\n",
    "names.append(who)"
   ]
  },
  {
   "cell_type": "markdown",
   "id": "thrown-satin",
   "metadata": {},
   "source": [
    "- another problem with the top approach is that the default value passed to `setdefault` is assigned directly into the dictionary when the key is missing instead of being cipied\n",
    "- inother words, you get an empty array if nothing was provided to the `value` default parameter\n",
    "- checking for this mistake leads to overhead which leads to worse performance "
   ]
  },
  {
   "cell_type": "code",
   "execution_count": 61,
   "id": "stable-request",
   "metadata": {},
   "outputs": [
    {
     "name": "stdout",
     "output_type": "stream",
     "text": [
      "Before {'foo': []}\n",
      "After:  {'foo': ['hello']}\n"
     ]
    }
   ],
   "source": [
    "data = {}\n",
    "key = 'foo'\n",
    "value = []\n",
    "data.setdefault(key, value)\n",
    "print('Before', data)\n",
    "value.append('hello')\n",
    "print('After: ', data)"
   ]
  },
  {
   "cell_type": "markdown",
   "id": "selective-taiwan",
   "metadata": {},
   "source": [
    "## Item 17: Perfer `defaultdict` over `setdefault` to Handle Missing Items in Internal State"
   ]
  },
  {
   "cell_type": "markdown",
   "id": "norman-circuit",
   "metadata": {},
   "source": [
    "- when you work with a dictionary you did not create, you can handle missing key in multiple ways (i.e. item 16, perfer `get` over `keyerror`)\n",
    "- there are cases howerver we need to use `setdefault`"
   ]
  },
  {
   "cell_type": "markdown",
   "id": "nonprofit-somalia",
   "metadata": {},
   "source": [
    "- lets say I want to keep track of the cities I have visited in countries around the world"
   ]
  },
  {
   "cell_type": "code",
   "execution_count": 63,
   "id": "standard-sympathy",
   "metadata": {},
   "outputs": [],
   "source": [
    "visits = {\n",
    " 'Mexico': {'Tulum', 'Puerto Vallarta'},\n",
    " 'Japan': {'Hakone'},\n",
    "}"
   ]
  },
  {
   "cell_type": "markdown",
   "id": "prompt-attendance",
   "metadata": {},
   "source": [
    "- I can use the `setdefault` method to add new citites to the sets, whether the country name is already present in the dictionary or not\n",
    "- this approach is shorter than using the `get` method"
   ]
  },
  {
   "cell_type": "code",
   "execution_count": 64,
   "id": "acoustic-salvation",
   "metadata": {},
   "outputs": [
    {
     "name": "stdout",
     "output_type": "stream",
     "text": [
      "{'Mexico': {'Tulum', 'Puerto Vallarta'}, 'Japan': {'Hakone', 'Kyoto'}, 'France': {'Arles'}}\n"
     ]
    }
   ],
   "source": [
    "visits.setdefault('France', set()).add('Arles') # Short\n",
    "\n",
    "if (japan := visits.get('Japan')) is None: # Long\n",
    "    visits['Japan'] = japan = set()\n",
    "\n",
    "japan.add('Kyoto')\n",
    "\n",
    "print(visits)"
   ]
  },
  {
   "cell_type": "markdown",
   "id": "experienced-plant",
   "metadata": {},
   "source": [
    "- what about situations when you do control the creation of the dictionary being accessed\n",
    "- this is generally the case when youre using a dictionary instance to keep track of the internal state of a class, for example\n",
    "- below is the example above wrapped in a class weith helper methods to access the dynamic inner state stored in a dictionary"
   ]
  },
  {
   "cell_type": "code",
   "execution_count": 66,
   "id": "funky-victorian",
   "metadata": {},
   "outputs": [],
   "source": [
    "class Visits:\n",
    "    def __init__(self):\n",
    "        self.data = {}\n",
    "        \n",
    "    def add(self, country, city):\n",
    "        city_set = self.data.setdefault(country, set())\n",
    "        city_set.add(city)"
   ]
  },
  {
   "cell_type": "markdown",
   "id": "streaming-quarterly",
   "metadata": {},
   "source": [
    "- the new class hides the complexities of calling `setdefault` correctly and it provides a nicer interface for the programmer"
   ]
  },
  {
   "cell_type": "code",
   "execution_count": 67,
   "id": "pregnant-mouth",
   "metadata": {},
   "outputs": [
    {
     "name": "stdout",
     "output_type": "stream",
     "text": [
      "{'Russia': {'Yekaterinburg'}, 'Tanzania': {'Zanzibar'}}\n"
     ]
    }
   ],
   "source": [
    "visits = Visits()\n",
    "visits.add('Russia', 'Yekaterinburg')\n",
    "visits.add('Tanzania', 'Zanzibar')\n",
    "print(visits.data)"
   ]
  },
  {
   "cell_type": "markdown",
   "id": "atlantic-status",
   "metadata": {},
   "source": [
    "- the implementation of the `Visits.add` method is not idea\n",
    "- the `setdefault` method is still confusingly named, which makes it more difficult for a new reader of the code to immediately understand whats happening\n",
    "- the implementation is also not effecient because it constructs a new `set` instance on every call, regardless of whether the given country was already present in the data dictionary"
   ]
  },
  {
   "cell_type": "markdown",
   "id": "moral-space",
   "metadata": {},
   "source": [
    "- the `defaultdict` calss from `collections` simplifies the common use case by automatically storing a default value when a key doesent exits"
   ]
  },
  {
   "cell_type": "code",
   "execution_count": 68,
   "id": "aerial-bhutan",
   "metadata": {},
   "outputs": [
    {
     "name": "stdout",
     "output_type": "stream",
     "text": [
      "defaultdict(<class 'set'>, {'England': {'London', 'Bath'}})\n"
     ]
    }
   ],
   "source": [
    "from collections import defaultdict\n",
    "\n",
    "class Visits:\n",
    "    def __init__(self):\n",
    "        self.data = defaultdict(set)\n",
    "        \n",
    "    def add(self, country, city):\n",
    "        self.data[country].add(city)\n",
    "        \n",
    "visits = Visits()\n",
    "visits.add('England', 'Bath')\n",
    "visits.add('England', 'London')\n",
    "print(visits.data)"
   ]
  },
  {
   "cell_type": "markdown",
   "id": "dedicated-excuse",
   "metadata": {},
   "source": [
    "- note we avoid having to call the `setdefault` method which could be costly considering how many times we call it"
   ]
  },
  {
   "cell_type": "markdown",
   "id": "separate-buddy",
   "metadata": {},
   "source": [
    "- If you’re creating a dictionary to manage an arbitrary set of potential keys, then you should prefer using a defaultdict instance from the collections built-in module if it suits your problem.\n",
    "- If a dictionary of arbitrary keys is passed to you, and you don’t control its creation, then you should prefer the get method to access its items. However, it’s worth considering using the setdefault method for the few situations in which it leads to shorter code"
   ]
  },
  {
   "cell_type": "markdown",
   "id": "coupled-violation",
   "metadata": {},
   "source": [
    "## Item 18: Know How To Construct Key-Dependend Default Values with `__missing__"
   ]
  },
  {
   "cell_type": "markdown",
   "id": "compatible-crash",
   "metadata": {},
   "source": [
    "- there are times when neither `setdefault` not `defaultdict` is the right fit\n",
    "- imagine I want to write a program to manage social network profile pictures on the filesystem\n",
    "- I need a dictionary to map the profile picture pathnames to open file handles so I can read and write those images as needed\n",
    "- below, this is done by using a normal `dict` instance and checking for the presence of keys, using the `get` method and an assignment expression"
   ]
  },
  {
   "cell_type": "code",
   "execution_count": 71,
   "id": "binding-automation",
   "metadata": {},
   "outputs": [],
   "source": [
    "pictures = {}\n",
    "path = 'profile_1234.png'\n",
    "if (handle := pictures.get(path)) is None:\n",
    "    try:\n",
    "        handle = open(path, 'a+b')\n",
    "    except OSError:\n",
    "        print(f'Failed to open path {path}')\n",
    "        raise\n",
    "    else:\n",
    "        pictures[path] = handle\n",
    "handle.seek(0)\n",
    "image_data = handle.read()"
   ]
  },
  {
   "cell_type": "markdown",
   "id": "sacred-jurisdiction",
   "metadata": {},
   "source": [
    "- when the file exists in the dictionary, this code make only a signle dictionary access\n",
    "- if the file handle does not exist, the dictionary is accessed once by `get` and then it is assigned in the `else` clase\n",
    "- the call to the read method stands clearly seprate from the code that calls `open` and handles exceptions "
   ]
  },
  {
   "cell_type": "markdown",
   "id": "marine-climb",
   "metadata": {},
   "source": [
    "- we could use `KeyError` but that would require more dictionary accesses and levels of nesting\n",
    "- we could also use `setdefault` method"
   ]
  },
  {
   "cell_type": "code",
   "execution_count": 72,
   "id": "naval-medication",
   "metadata": {},
   "outputs": [],
   "source": [
    "try:\n",
    "    handle = pictures.setdefault(path, open(path, 'a+b'))\n",
    "except OSError:\n",
    "    print(f'Failed to open path {path}')\n",
    "    raise\n",
    "else:\n",
    "    handle.seek(0)\n",
    "    image_data = handle.read()"
   ]
  },
  {
   "cell_type": "markdown",
   "id": "macro-stewart",
   "metadata": {},
   "source": [
    "- the problems with the code above is that the `open` built-in function to create the file handle is always called, even when the path is already present in the dictionary\n",
    "- this results in additional file handle that may confilict with the existing open handles in the same programs\n",
    "- exceptions may be raised by the open call and need to be handeled but it may not be possible to differentate tem from exceptions that may be raised by the `setdefault` call on the same line"
   ]
  },
  {
   "cell_type": "markdown",
   "id": "split-dress",
   "metadata": {},
   "source": [
    "- if your trying to manage internal state, another assumption you might make is that `defaultdict` could be used for keeping track of these profile pictures"
   ]
  },
  {
   "cell_type": "code",
   "execution_count": 75,
   "id": "liquid-transcription",
   "metadata": {},
   "outputs": [
    {
     "ename": "TypeError",
     "evalue": "open_picture() missing 1 required positional argument: 'profile_path'",
     "output_type": "error",
     "traceback": [
      "\u001b[1;31m---------------------------------------------------------------------------\u001b[0m",
      "\u001b[1;31mTypeError\u001b[0m                                 Traceback (most recent call last)",
      "\u001b[1;32m<ipython-input-75-c41ae1a68d9f>\u001b[0m in \u001b[0;36m<module>\u001b[1;34m\u001b[0m\n\u001b[0;32m      9\u001b[0m \u001b[1;33m\u001b[0m\u001b[0m\n\u001b[0;32m     10\u001b[0m \u001b[0mpictures\u001b[0m \u001b[1;33m=\u001b[0m \u001b[0mdefaultdict\u001b[0m\u001b[1;33m(\u001b[0m\u001b[0mopen_picture\u001b[0m\u001b[1;33m)\u001b[0m\u001b[1;33m\u001b[0m\u001b[1;33m\u001b[0m\u001b[0m\n\u001b[1;32m---> 11\u001b[1;33m \u001b[0mhandle\u001b[0m \u001b[1;33m=\u001b[0m \u001b[0mpictures\u001b[0m\u001b[1;33m[\u001b[0m\u001b[0mpath\u001b[0m\u001b[1;33m]\u001b[0m\u001b[1;33m\u001b[0m\u001b[1;33m\u001b[0m\u001b[0m\n\u001b[0m\u001b[0;32m     12\u001b[0m \u001b[0mhandle\u001b[0m\u001b[1;33m.\u001b[0m\u001b[0mseek\u001b[0m\u001b[1;33m(\u001b[0m\u001b[1;36m0\u001b[0m\u001b[1;33m)\u001b[0m\u001b[1;33m\u001b[0m\u001b[1;33m\u001b[0m\u001b[0m\n\u001b[0;32m     13\u001b[0m \u001b[0mimage_data\u001b[0m \u001b[1;33m=\u001b[0m \u001b[0mhandle\u001b[0m\u001b[1;33m.\u001b[0m\u001b[0mread\u001b[0m\u001b[1;33m(\u001b[0m\u001b[1;33m)\u001b[0m\u001b[1;33m\u001b[0m\u001b[1;33m\u001b[0m\u001b[0m\n",
      "\u001b[1;31mTypeError\u001b[0m: open_picture() missing 1 required positional argument: 'profile_path'"
     ]
    }
   ],
   "source": [
    "from collections import defaultdict\n",
    "\n",
    "def open_picture(profile_path):\n",
    "    try:\n",
    "        return open(profile_path, 'a+b')\n",
    "    except OSError:\n",
    "        print(f'Failed to open path {profile_path}')\n",
    "        raise\n",
    "    \n",
    "pictures = defaultdict(open_picture)\n",
    "try:\n",
    "    handle = pictures[path]\n",
    "    handle.seek(0)\n",
    "    image_data = handle.read()\n",
    "except TypeError:\n",
    "    print('open_picture() missing 1 required positional')"
   ]
  },
  {
   "cell_type": "markdown",
   "id": "lesser-target",
   "metadata": {},
   "source": [
    "-"
   ]
  },
  {
   "cell_type": "markdown",
   "id": "stunning-induction",
   "metadata": {},
   "source": []
  },
  {
   "cell_type": "markdown",
   "id": "quarterly-physics",
   "metadata": {},
   "source": []
  },
  {
   "cell_type": "markdown",
   "id": "efficient-petite",
   "metadata": {},
   "source": []
  },
  {
   "cell_type": "markdown",
   "id": "chinese-cargo",
   "metadata": {},
   "source": []
  },
  {
   "cell_type": "markdown",
   "id": "macro-rogers",
   "metadata": {},
   "source": []
  },
  {
   "cell_type": "markdown",
   "id": "innocent-islam",
   "metadata": {},
   "source": []
  },
  {
   "cell_type": "markdown",
   "id": "confidential-belize",
   "metadata": {},
   "source": []
  },
  {
   "cell_type": "markdown",
   "id": "senior-monroe",
   "metadata": {},
   "source": []
  }
 ],
 "metadata": {
  "kernelspec": {
   "display_name": "Python 3",
   "language": "python",
   "name": "python3"
  },
  "language_info": {
   "codemirror_mode": {
    "name": "ipython",
    "version": 3
   },
   "file_extension": ".py",
   "mimetype": "text/x-python",
   "name": "python",
   "nbconvert_exporter": "python",
   "pygments_lexer": "ipython3",
   "version": "3.9.2"
  }
 },
 "nbformat": 4,
 "nbformat_minor": 5
}
