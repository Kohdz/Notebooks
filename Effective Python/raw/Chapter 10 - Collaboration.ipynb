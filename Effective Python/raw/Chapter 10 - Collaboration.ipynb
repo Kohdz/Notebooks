{
 "cells": [
  {
   "cell_type": "markdown",
   "id": "portuguese-importance",
   "metadata": {},
   "source": [
    "## Item 83: Use Virtual Enviorments for Isolated and Reproducible Dependencies"
   ]
  },
  {
   "cell_type": "markdown",
   "id": "logical-wheat",
   "metadata": {},
   "source": [
    "    source bin/activate\n",
    "    (myproject)\n",
    "    \n",
    "    On Windows the same script is available as:\n",
    "    C:\\> myproject\\Scripts\\activate.bat\n",
    "    (myproject) C:>\n",
    "    \n",
    "    Or with PowerShell as:\n",
    "    PS C:\\> myproject\\Scripts\\activate.ps1\n",
    "    (myproject) PS C:>\n",
    "    \n",
    "    \n",
    "    To leave type\n",
    "    (myproject) deactivate"
   ]
  },
  {
   "cell_type": "markdown",
   "id": "possible-definition",
   "metadata": {},
   "source": [
    "- to test an import you can type\n",
    "    - `python -c 'import flask`"
   ]
  },
  {
   "cell_type": "markdown",
   "id": "measured-ribbon",
   "metadata": {},
   "source": [
    "- to see which python you are using (virtual or not)\n",
    "    - `which python3`"
   ]
  },
  {
   "cell_type": "markdown",
   "id": "optional-burton",
   "metadata": {},
   "source": [
    "## Item 84: Write Docstrings for Every Function, Class and Module"
   ]
  },
  {
   "cell_type": "markdown",
   "id": "defined-integer",
   "metadata": {},
   "source": [
    "- you can add documentation by providing a `docstring` immediately after the `def` statement of a function"
   ]
  },
  {
   "cell_type": "code",
   "execution_count": 1,
   "id": "circular-hierarchy",
   "metadata": {},
   "outputs": [],
   "source": [
    "def palindrome(word):\n",
    "    \"\"\"Return True if the given word is a palindrome\"\"\"\n",
    "    return word == word[::-1]\n",
    "\n",
    "assert palindrome('tacocat')\n",
    "assert not palindrome('banana')"
   ]
  },
  {
   "cell_type": "markdown",
   "id": "tested-poker",
   "metadata": {},
   "source": [
    "- you can retrieve the docstring from within the Python program by accessing the function's `__doc__` special attribute"
   ]
  },
  {
   "cell_type": "code",
   "execution_count": 2,
   "id": "worldwide-upper",
   "metadata": {},
   "outputs": [
    {
     "name": "stdout",
     "output_type": "stream",
     "text": [
      "'Return True if the given word is a palindrome'\n"
     ]
    }
   ],
   "source": [
    "print(repr(palindrome.__doc__))"
   ]
  },
  {
   "cell_type": "markdown",
   "id": "significant-radius",
   "metadata": {},
   "source": [
    "- you can also run the built-in `pydoc` module from the command line to run a local web server that hosts all of the Python documentation that's accessible to your interpreter, including modules that you've written\n",
    "    - `python3 -m pydoc -p 1234`"
   ]
  },
  {
   "cell_type": "markdown",
   "id": "fitted-father",
   "metadata": {},
   "source": [
    "- support for docstrings and the `__doc__` attribute has three consequences:\n",
    "    - the accessibility of documentation makes interative development easier. you can inspect functions/classes and modules to see their documentation by using the `help` built-in function\n",
    "    - a standard way of defining documentation makes it easy to build tools tht convert text into more appealing formats. this has led to excellent documentation-generation tools such as `Sphinx`\n",
    "    - Python's first-class, accessible and good-looking documentation encourages peopel to write more documentation"
   ]
  },
  {
   "cell_type": "markdown",
   "id": "administrative-territory",
   "metadata": {},
   "source": [
    "https://www.python.org/dev/peps/pep-0257/"
   ]
  },
  {
   "cell_type": "markdown",
   "id": "absolute-charles",
   "metadata": {},
   "source": [
    "### Documenting Modules"
   ]
  },
  {
   "cell_type": "markdown",
   "id": "friendly-radio",
   "metadata": {},
   "source": [
    "- each module should have a top-level docstring -a string literal that is the first statement in a source file\n",
    "- it should use three double qoutes \n",
    "- the goal of the docstring is to introduce the module and its contents"
   ]
  },
  {
   "cell_type": "markdown",
   "id": "critical-possible",
   "metadata": {},
   "source": [
    "- thge first line of the docstring should be a single sentence describing the modules purpose\n",
    "- the paragraph that follows should contain the details that all users of the module should know about its operation\n",
    "- the module docstring is also a jumping-off point where you can high-light important classes and fucntions found in the module"
   ]
  },
  {
   "cell_type": "code",
   "execution_count": 3,
   "id": "complimentary-stevens",
   "metadata": {},
   "outputs": [
    {
     "data": {
      "text/plain": [
       "\"Library for finding linguistic patterns in words.\\n\\nTesting how words relate to each other can be tricky sometimes!\\nThis module provides easy ways to determine when words you've\\nfound have special properties\\n\\nAvailable functions:\\n- palindrome: Determine if a word is a palindrome\\n- check_anagram: Determine if two words are anagrams\\n\""
      ]
     },
     "execution_count": 3,
     "metadata": {},
     "output_type": "execute_result"
    }
   ],
   "source": [
    "# words.py\n",
    "#!/usr/bin env python3\n",
    "\"\"\"Library for finding linguistic patterns in words.\n",
    "\n",
    "Testing how words relate to each other can be tricky sometimes!\n",
    "This module provides easy ways to determine when words you've\n",
    "found have special properties\n",
    "\n",
    "Available functions:\n",
    "- palindrome: Determine if a word is a palindrome\n",
    "- check_anagram: Determine if two words are anagrams\n",
    "\"\"\"\n"
   ]
  },
  {
   "cell_type": "markdown",
   "id": "color-fountain",
   "metadata": {},
   "source": [
    "### Documenting Classes"
   ]
  },
  {
   "cell_type": "markdown",
   "id": "temporal-tutorial",
   "metadata": {},
   "source": [
    "- each class should have a class-level docstring\n",
    "- the first line is the single sentence purpose of the class\n",
    "- paragraphs that follow discuss important details of the class's operation\n",
    "- important public attributes and methods of the class should be highlighted in the class-level docstring\n",
    "- it should provide guidance to subclasses on how to properly interact with protected attributes"
   ]
  },
  {
   "cell_type": "code",
   "execution_count": 4,
   "id": "immune-aruba",
   "metadata": {},
   "outputs": [],
   "source": [
    "class Player:\n",
    "    \"\"\"Represents a player of the game\n",
    "    \n",
    "    Subclasses may override the 'tick' methods to provide \n",
    "    custome animations for the player's movement depending\n",
    "    on their power level, etc.\n",
    "    \n",
    "    public attributes:\n",
    "    - power: Unused power-ups (float betweeen 0 and 1)\n",
    "    - coins: Coins found during the level (integer)\n",
    "    \"\"\""
   ]
  },
  {
   "cell_type": "markdown",
   "id": "trying-stylus",
   "metadata": {},
   "source": [
    "### Documenting Functions"
   ]
  },
  {
   "cell_type": "markdown",
   "id": "dried-plasma",
   "metadata": {},
   "source": [
    "- each public function and method should have a docstring\n",
    "- the first line is a single-sentence description of what the function does\n",
    "- the paragraph that folows should describe any specific behaviors and the arguments for the function\n",
    "- any return values should be mentioned\n",
    "- any exceptions that callers must handle as part of the interface should be explained"
   ]
  },
  {
   "cell_type": "code",
   "execution_count": 5,
   "id": "swedish-observation",
   "metadata": {},
   "outputs": [],
   "source": [
    "def find_anagrams(word, dictionary):\n",
    "    \"\"\"Find all anagrams for a word\n",
    "    \n",
    "    This function only runs as fast as the test for\n",
    "    membership in the 'dictionary' container\n",
    "    \n",
    "    Args:\n",
    "        word: String of the target word.\n",
    "        dictionary: collections.abc.Container with all\n",
    "            strings that are known to be actual words\n",
    "            \n",
    "    Returns:\n",
    "        List of anagrams that were found. Empty if \n",
    "        none were found\n",
    "    \"\"\""
   ]
  },
  {
   "cell_type": "markdown",
   "id": "provincial-motel",
   "metadata": {},
   "source": [
    "__Special Cases in Writing Docstrings for functions__:\n",
    "- if a function has no arguments and a simple return value, a single-sentence description is probably good enough\n",
    "- if a function doesn't return anything, it's better to leave out any mention of the return value instead of saying \"return None\"\n",
    "- if a function's interface includes raising exceptions, its docstring should describe each exception that's raised and when it's raised\n",
    "- if you dont expect a function to raise an exception during normal operation, don't mention that fact\n",
    "- if a function accepts a variable number of arguments or keyword arguments, use `*args` and `**kwargs` in the documented list of arguments to describe their purpose\n",
    "- if a function has arguments with default values, those defaults should be mentioned\n",
    "- if a function i s a generator, its docstring should describe what the generator yeilds when its iterated\n",
    "- if a function is an asynchronous coroutine, its docstring should explain when it will stop execution"
   ]
  },
  {
   "cell_type": "markdown",
   "id": "union-termination",
   "metadata": {},
   "source": [
    "### Using Docstring and Type Annotations"
   ]
  },
  {
   "cell_type": "markdown",
   "id": "running-alignment",
   "metadata": {},
   "source": [
    "- if you are using `type` annotations, then there are no reason to specify that in the `doc-string`"
   ]
  },
  {
   "cell_type": "code",
   "execution_count": 9,
   "id": "incorrect-craps",
   "metadata": {},
   "outputs": [],
   "source": [
    "from typing import Container, List\n",
    "\n",
    "def find_anagrams(word:str, dictionary: Container[str]) -> List[str]:\n",
    "    \"\"\"Find all anagrams for a word.\n",
    "    \n",
    "    This function only runs as fast as the test for \n",
    "    membership in the 'dictionary' container\n",
    "\n",
    "    Args:\n",
    "        word: Target word.\n",
    "        dictionary: ALl known actual words\n",
    "        \n",
    "    Returns:\n",
    "        Anagrams that were found\n",
    "    \"\"\""
   ]
  },
  {
   "cell_type": "markdown",
   "id": "ultimate-relations",
   "metadata": {},
   "source": [
    "### Things to Remember"
   ]
  },
  {
   "cell_type": "markdown",
   "id": "fifteen-cache",
   "metadata": {},
   "source": [
    "- write documentation for every module, class, method and function using docstrings\n",
    "- for `modules`: introduce the contents of a module and any important classes or functions that all users should know about\n",
    "- for `classes`: document behavior, important attributes, and subclass behavior in the docstring following the `class` statement\n",
    "- for `functions`/`methods`: document every argument, returned value, raised exception, and other behaviors in the docstring following the `def` statement\n",
    "- if your're using `type` annotations, omit the information that already present in the type annotations from docstrings since it would be redundant to have it in both places"
   ]
  },
  {
   "cell_type": "markdown",
   "id": "lonely-smart",
   "metadata": {},
   "source": [
    "## Item 85: Use Packages to Organize Modules and Provide Stable APIs"
   ]
  },
  {
   "cell_type": "markdown",
   "id": "twenty-might",
   "metadata": {},
   "source": [
    "- at some point in the refactoring, you'll find youself with so many modules that you need another layer in your program to make it understandable\n",
    "- for this purpose, Python provides `packages`\n",
    "- packages are modules that contain other modules"
   ]
  },
  {
   "cell_type": "markdown",
   "id": "environmental-folder",
   "metadata": {},
   "source": [
    "- in most cases, packages are defined by putting an empty file named `__Init__.py` into a directory\n",
    "- once the `__init__.py` is present, any other Python file in that directory will be available for import, using a path relative to the directory\n"
   ]
  },
  {
   "cell_type": "markdown",
   "id": "ranking-composer",
   "metadata": {},
   "source": [
    "        main.py\n",
    "        mypackage/__init__.py\n",
    "        mypackage/models.py\n",
    "        mypackage/utils.py"
   ]
  },
  {
   "cell_type": "markdown",
   "id": "invisible-discussion",
   "metadata": {},
   "source": [
    "- to import `utils` module, we use the absolute module name that includes the package directory's name:\n",
    "\n",
    "        # main.py\n",
    "        from mypackage import utils"
   ]
  },
  {
   "cell_type": "markdown",
   "id": "virtual-steal",
   "metadata": {},
   "source": [
    "- the pattern continues when we have package directories present within other packages\n",
    "    - `mypackage.foo.bar`"
   ]
  },
  {
   "cell_type": "markdown",
   "id": "narrative-remains",
   "metadata": {},
   "source": [
    "### Namespaces"
   ]
  },
  {
   "cell_type": "markdown",
   "id": "about-contrary",
   "metadata": {},
   "source": [
    "- the first use of a package is to help divide your modules into seprate namespaces\n",
    "- they enable you to have many modules with the same filename but different absolute paths that are unique\n",
    "- here's a program that imports attributes from two modules with the same filename `utils.py`"
   ]
  },
  {
   "cell_type": "markdown",
   "id": "laden-reconstruction",
   "metadata": {},
   "source": [
    "    # main.py\n",
    "    from analysis.utils import log_base2_bucket\n",
    "    from frontend.utils import stringify\n",
    "    \n",
    "    bucket = stringify(log_base2_bucket(33))"
   ]
  },
  {
   "cell_type": "markdown",
   "id": "underlying-mirror",
   "metadata": {},
   "source": [
    "- this approach breakes when the functions, classes or submodules defined in the package have the same names\n",
    "- say that we want to use the `inspect` function from both the `analysis.utils` and the `frontend.utils` modules\n",
    "- importing the attribute directly won't work because the second `import` statement will overwrite the value of `inspect` in the current scope"
   ]
  },
  {
   "cell_type": "markdown",
   "id": "heated-damage",
   "metadata": {},
   "source": [
    "    # main2.py\n",
    "    from analysis.utils import inspect\n",
    "    from frontend.utils import inspect # Overwrites!"
   ]
  },
  {
   "cell_type": "markdown",
   "id": "colored-rebecca",
   "metadata": {},
   "source": [
    "- the solution is to use the `as` clause of the import statement to rename whatever I've imported for the current scope"
   ]
  },
  {
   "cell_type": "markdown",
   "id": "sudden-pacific",
   "metadata": {},
   "source": [
    "    # main3.py\n",
    "    from analysis.utils import inspect as analysis_inspect\n",
    "    from frontend.utils import inspect as frontend_inspect\n",
    "    \n",
    "    value = 33\n",
    "    if analysis_inspect(value) == frontend_inspect(value):\n",
    "     print('Inspection equal!')"
   ]
  },
  {
   "cell_type": "markdown",
   "id": "fundamental-submission",
   "metadata": {},
   "source": [
    "- another approach for avoiding imported name conflicts is to always access names by their higest unique module name\n",
    "- using the example above, that would mean we would use the basic `import` statement instead of `import from`"
   ]
  },
  {
   "cell_type": "markdown",
   "id": "failing-discipline",
   "metadata": {},
   "source": [
    "    # main4.py\n",
    "    import analysis.utils\n",
    "    import frontend.utils\n",
    "    \n",
    "    value = 33\n",
    "    if (analysis.utils.inspect(value) ==\n",
    "     frontend.utils.inspect(value)):\n",
    "     print('Inspection equal!')"
   ]
  },
  {
   "cell_type": "markdown",
   "id": "downtown-chorus",
   "metadata": {},
   "source": [
    "### Stable APIs"
   ]
  },
  {
   "cell_type": "markdown",
   "id": "unknown-research",
   "metadata": {},
   "source": [
    "- the second use of packages in Python is to provide strict, stable APIs for external consumers\n",
    "- by hiding your internal code oganization form external users, you can refactor and improve your package's internal modules without breaking existing users"
   ]
  },
  {
   "cell_type": "markdown",
   "id": "international-alcohol",
   "metadata": {},
   "source": [
    "- python can limit the surface area exposed to API consumers by using the `__all__` special attribute of a module or package\n",
    "- the value of `__all__` is a `list` of every name to export from the module as part of its public API\n",
    "- when consuming code executes `from foo import *`, only the attributes in `foo.__all__` will be imprted from `foo`\n",
    "- if `__all__` isn't present in foo, then only public attributes- those without a leading underscore- are imported"
   ]
  },
  {
   "cell_type": "markdown",
   "id": "amino-station",
   "metadata": {},
   "source": [
    "- say that we want to provide a package for calculating collisions between moving projectiles\n",
    "- we define the `models` module of `mypackage` to contain the representation of projectiles"
   ]
  },
  {
   "cell_type": "code",
   "execution_count": 13,
   "id": "greek-destination",
   "metadata": {},
   "outputs": [],
   "source": [
    "# models.py\n",
    "__all__ = ['Projectile']\n",
    "\n",
    "class Projectile:\n",
    "    def __init__(self, mass, velocity):\n",
    "        self.mass = mass\n",
    "        self.velocity = velocity"
   ]
  },
  {
   "cell_type": "markdown",
   "id": "rural-brisbane",
   "metadata": {},
   "source": [
    "- we also define a ` utils` module in `mypackage` to perform operations on the `Projectile` instance, such as simulating collisions between them"
   ]
  },
  {
   "cell_type": "code",
   "execution_count": 20,
   "id": "standing-spirituality",
   "metadata": {},
   "outputs": [],
   "source": [
    "# utils.py\n",
    "# from . models import Projectile\n",
    "\n",
    "__all__ = ['simulate_collision']\n",
    "\n",
    "def _dot_product(a, b):\n",
    "    ...\n",
    "    \n",
    "def simulate_collision(a, b):\n",
    "    return (a, b)"
   ]
  },
  {
   "cell_type": "markdown",
   "id": "consecutive-pride",
   "metadata": {},
   "source": [
    "- now we would like to provide all of the public parts of this API as a set of attributes that are available on the `mypackage` module\n",
    "- this will allow downstream consumers to always import directly form `mypackage` instead of importing from `packgage.modules` or `mypackage.utils`\n",
    "- this ensures that the API consumer's code will continue to work even if the internal organization of `mypackage` changes (e.g,. `models.py` is deleted)"
   ]
  },
  {
   "cell_type": "markdown",
   "id": "textile-singer",
   "metadata": {},
   "source": [
    "- to do this with Python packages, you need to modift the `__init__.py` file in the `mypackage` directory\n",
    "- this file is what actually becomes the contents of the `mypackage` module when its improted\n",
    "- thus you can specify an explicit API for `mpypackage` by limiting what you imported into `__init__.py`\n",
    "- since all of my internal modules already specify `__all__`, we can expose the public interface of `mypackage` by simply importing everything from the internal modules and updating `__all__` accordingly"
   ]
  },
  {
   "cell_type": "code",
   "execution_count": 21,
   "id": "widespread-arthritis",
   "metadata": {},
   "outputs": [
    {
     "data": {
      "text/plain": [
       "'\\n# init__.py\\n\\n__all__ = []\\nfrom .models import *\\n\\n__all__ += models.__all__\\nfrom .utils import *\\n__all__ += utils.__all\\n'"
      ]
     },
     "execution_count": 21,
     "metadata": {},
     "output_type": "execute_result"
    }
   ],
   "source": [
    "\"\"\"\n",
    "# init__.py\n",
    "\n",
    "__all__ = []\n",
    "from .models import *\n",
    "\n",
    "__all__ += models.__all__\n",
    "from .utils import *\n",
    "__all__ += utils.__all\n",
    "\"\"\""
   ]
  },
  {
   "cell_type": "markdown",
   "id": "magnetic-stephen",
   "metadata": {},
   "source": [
    "- here's a consumer of the API that directly imports from `mypackage` instead of accessing the inner modules"
   ]
  },
  {
   "cell_type": "code",
   "execution_count": 22,
   "id": "decimal-simple",
   "metadata": {},
   "outputs": [],
   "source": [
    "# api_consumer.py\n",
    "#from mypackage import *\n",
    "\n",
    "a = Projectile(1.5, 3)\n",
    "b = Projectile(4, 1.7)\n",
    "after_a, after_b = simulate_collision(a, b)"
   ]
  },
  {
   "cell_type": "markdown",
   "id": "suspected-ordinance",
   "metadata": {},
   "source": [
    "- notably, internal-only functions like `mypackage.utils._dot_product` will not be available to the API consumer on `mypackage` because they weren't present in `__all__`\n",
    "- being omitted from `__all__` also means that they weren't imported by the `from mypackage improt *` statement\n",
    "- the internal-only names are effectively hidden"
   ]
  },
  {
   "cell_type": "markdown",
   "id": "referenced-consultancy",
   "metadata": {},
   "source": [
    "- the approach is great when its important to provide an explicit stable API\n",
    "- if you are howerver building an API for use between your own modules, the functionality of `__all__` is probably unnecessary and should be avoided\n",
    "- the namespacing provided by packages is usually enough for a team of programmers to collaborate on large amounts of code they control while maintaining reasonable interface boundaries"
   ]
  },
  {
   "cell_type": "markdown",
   "id": "unusual-chocolate",
   "metadata": {},
   "source": [
    "## Item 86: Consider Module-Scoped Code to Configure Deployment Environments"
   ]
  },
  {
   "cell_type": "markdown",
   "id": "protective-tiffany",
   "metadata": {},
   "source": [
    "- every program has at least one development environment: the `production environment`\n",
    "- the goal of writing a program in the first place is to put it to work in the production environment\n",
    "- sometimes you need a `development environment` to be able to test because the `production environment` may not be reproducable"
   ]
  },
  {
   "cell_type": "code",
   "execution_count": 3,
   "id": "delayed-lover",
   "metadata": {},
   "outputs": [],
   "source": [
    "TESTING = True\n",
    "\n",
    "class TestingDatabase:\n",
    "    ...\n",
    "class RealDatabase:\n",
    "    ...\n",
    "\n",
    "if TESTING:\n",
    "    Database = TestingDatabase\n",
    "else:\n",
    "    Database = RealDatabase"
   ]
  },
  {
   "cell_type": "markdown",
   "id": "precise-express",
   "metadata": {},
   "source": [
    "- you can use an `if` statement at the module level to decide how the module will define names\n",
    "- for complex configurations use a dedicated `configuration` file and tools kike `configparser` built-in module"
   ]
  },
  {
   "cell_type": "markdown",
   "id": "extreme-marsh",
   "metadata": {},
   "source": [
    "## Item 87: Define a Root `Exception` to Insulate Callers from APIs"
   ]
  },
  {
   "cell_type": "markdown",
   "id": "checked-practitioner",
   "metadata": {},
   "source": [
    "- python has a built-in hierarchy of exceptions for the language and standard library\n",
    "- there's a draw to using the built-in exception types for reporting errors instead of defining your own types\n",
    "- for `APIs` its much more powerful to define a root `Exception` in my module and having all other exceptions raised by that module inherit from the root exception"
   ]
  },
  {
   "cell_type": "code",
   "execution_count": 4,
   "id": "considered-surge",
   "metadata": {},
   "outputs": [],
   "source": [
    "class Error(Exception):\n",
    "    \"\"\"Base-class for all exceptions raised by this module\"\"\"\n",
    "    \n",
    "class InvalidDensityError(Error):\n",
    "    \"\"\"There was a problem with provided density value\"\"\"\n",
    "    \n",
    "class InvalidVolumeError(Error):\n",
    "    \"\"\"There was a problem with the provided weight value\"\"\"\n",
    "    \n",
    "    \n",
    "def determine_weight(volume, density):\n",
    "    if density < 0:\n",
    "        raise InvalidDensityError('Density must be positive')\n",
    "    if volume < 0:\n",
    "        raise InvalidVolumeError('Volume must be positive')\n",
    "    if volume == 0:\n",
    "        density / volume"
   ]
  },
  {
   "cell_type": "markdown",
   "id": "olive-carnival",
   "metadata": {},
   "source": [
    "- having a root exception in a module makes it easy for consumers of an API to catch all of the exceptions that were raised deliberately\n",
    "- for example, a consumer of my API makes a function call with a `try`/`except` statement that catches my root exception"
   ]
  },
  {
   "cell_type": "markdown",
   "id": "arbitrary-rover",
   "metadata": {},
   "source": [
    "- the `try`/`except` also prevents my API's exceptions from propagating too far upward and breaking the calling program\n",
    "- it insulates the calling code from my API"
   ]
  },
  {
   "cell_type": "markdown",
   "id": "expected-virgin",
   "metadata": {},
   "source": [
    "###  the `insulation` has three helpful effects:\n"
   ]
  },
  {
   "cell_type": "markdown",
   "id": "civil-little",
   "metadata": {},
   "source": [
    "- first, the root exception lets callers understand when there's a problem with their usage of an API\n",
    "- if callers are using my API properly, they should catch the various exceptions that are deliberately raised\n",
    "- if they don't handle such exceptions, it will propagate all the way to the insulating `except`  block that catches my module's root exception\n"
   ]
  },
  {
   "cell_type": "markdown",
   "id": "headed-concern",
   "metadata": {},
   "source": [
    "- the second advantage of using root exceptions is that they can help find bugs in an API module's code\n",
    "- if you have not raised the exception yourself, then its a bug\n",
    "- using the `try`/`except` statement above will not insulate the API consumers from bugs in my API modules code\n",
    "- to do that, the caller needs to add another `except` block that catches Python's base `Exception` class\n",
    "- this allows the API consumer to detect when there's a bug in the API module's implementation that need to be fixed\n",
    "- the output for the example below includes botht he `logging.exception` message and the default interpreter output for the exception since it was re-raised"
   ]
  },
  {
   "cell_type": "code",
   "execution_count": 5,
   "id": "existing-forge",
   "metadata": {},
   "outputs": [
    {
     "ename": "NameError",
     "evalue": "name 'my_module' is not defined",
     "output_type": "error",
     "traceback": [
      "\u001b[1;31m---------------------------------------------------------------------------\u001b[0m",
      "\u001b[1;31mNameError\u001b[0m                                 Traceback (most recent call last)",
      "\u001b[1;32m<ipython-input-5-cc7fcf1eec70>\u001b[0m in \u001b[0;36m<module>\u001b[1;34m\u001b[0m\n\u001b[0;32m      1\u001b[0m \u001b[1;32mtry\u001b[0m\u001b[1;33m:\u001b[0m\u001b[1;33m\u001b[0m\u001b[1;33m\u001b[0m\u001b[0m\n\u001b[1;32m----> 2\u001b[1;33m     \u001b[0mweight\u001b[0m \u001b[1;33m=\u001b[0m \u001b[0mmy_module\u001b[0m\u001b[1;33m.\u001b[0m\u001b[0mdetermine_weight\u001b[0m\u001b[1;33m(\u001b[0m\u001b[1;36m0\u001b[0m\u001b[1;33m,\u001b[0m \u001b[1;36m1\u001b[0m\u001b[1;33m)\u001b[0m\u001b[1;33m\u001b[0m\u001b[1;33m\u001b[0m\u001b[0m\n\u001b[0m\u001b[0;32m      3\u001b[0m \u001b[1;32mexcept\u001b[0m \u001b[0mmy_module\u001b[0m\u001b[1;33m.\u001b[0m\u001b[0mInvalidDensityError\u001b[0m\u001b[1;33m:\u001b[0m\u001b[1;33m\u001b[0m\u001b[1;33m\u001b[0m\u001b[0m\n",
      "\u001b[1;31mNameError\u001b[0m: name 'my_module' is not defined",
      "\nDuring handling of the above exception, another exception occurred:\n",
      "\u001b[1;31mNameError\u001b[0m                                 Traceback (most recent call last)",
      "\u001b[1;32m<ipython-input-5-cc7fcf1eec70>\u001b[0m in \u001b[0;36m<module>\u001b[1;34m\u001b[0m\n\u001b[0;32m      1\u001b[0m \u001b[1;32mtry\u001b[0m\u001b[1;33m:\u001b[0m\u001b[1;33m\u001b[0m\u001b[1;33m\u001b[0m\u001b[0m\n\u001b[0;32m      2\u001b[0m     \u001b[0mweight\u001b[0m \u001b[1;33m=\u001b[0m \u001b[0mmy_module\u001b[0m\u001b[1;33m.\u001b[0m\u001b[0mdetermine_weight\u001b[0m\u001b[1;33m(\u001b[0m\u001b[1;36m0\u001b[0m\u001b[1;33m,\u001b[0m \u001b[1;36m1\u001b[0m\u001b[1;33m)\u001b[0m\u001b[1;33m\u001b[0m\u001b[1;33m\u001b[0m\u001b[0m\n\u001b[1;32m----> 3\u001b[1;33m \u001b[1;32mexcept\u001b[0m \u001b[0mmy_module\u001b[0m\u001b[1;33m.\u001b[0m\u001b[0mInvalidDensityError\u001b[0m\u001b[1;33m:\u001b[0m\u001b[1;33m\u001b[0m\u001b[1;33m\u001b[0m\u001b[0m\n\u001b[0m\u001b[0;32m      4\u001b[0m     \u001b[0mweight\u001b[0m \u001b[1;33m=\u001b[0m \u001b[1;36m0\u001b[0m\u001b[1;33m\u001b[0m\u001b[1;33m\u001b[0m\u001b[0m\n\u001b[0;32m      5\u001b[0m \u001b[1;32mexcept\u001b[0m \u001b[0mmy_module\u001b[0m\u001b[1;33m.\u001b[0m\u001b[0mError\u001b[0m\u001b[1;33m:\u001b[0m\u001b[1;33m\u001b[0m\u001b[1;33m\u001b[0m\u001b[0m\n",
      "\u001b[1;31mNameError\u001b[0m: name 'my_module' is not defined"
     ]
    }
   ],
   "source": [
    "try:\n",
    "    weight = my_module.determine_weight(0, 1)\n",
    "except my_module.InvalidDensityError:\n",
    "    weight = 0\n",
    "except my_module.Error:\n",
    "    logging.exception('Bug in the calling code')\n",
    "except Exception:\n",
    "    logging.exception('Bug in the API code!')\n",
    "    raise # Re-raise exception to the caller"
   ]
  },
  {
   "cell_type": "markdown",
   "id": "color-alberta",
   "metadata": {},
   "source": [
    "- the third impack of using root exception is future-proofing an API\n",
    "- over time we might want to expand an API to provide more specific exceptions in certain situations\n",
    "- for example, we could add `Exception` subclass that indicates the error condition of supplying negative densities\n",
    "- the calling code will continue to work exactly as before it already catches `InvalidDensityError` exceptions\n",
    "- in the future, the caller could decide to special-case the new type of exception and change the handling behavior accordingly"
   ]
  },
  {
   "cell_type": "code",
   "execution_count": 6,
   "id": "minus-equality",
   "metadata": {},
   "outputs": [
    {
     "ename": "NameError",
     "evalue": "name 'my_module' is not defined",
     "output_type": "error",
     "traceback": [
      "\u001b[1;31m---------------------------------------------------------------------------\u001b[0m",
      "\u001b[1;31mNameError\u001b[0m                                 Traceback (most recent call last)",
      "\u001b[1;32m<ipython-input-6-082b42a7e20f>\u001b[0m in \u001b[0;36m<module>\u001b[1;34m\u001b[0m\n\u001b[0;32m      1\u001b[0m \u001b[1;32mtry\u001b[0m\u001b[1;33m:\u001b[0m\u001b[1;33m\u001b[0m\u001b[1;33m\u001b[0m\u001b[0m\n\u001b[1;32m----> 2\u001b[1;33m     \u001b[0mweight\u001b[0m \u001b[1;33m=\u001b[0m \u001b[0mmy_module\u001b[0m\u001b[1;33m.\u001b[0m\u001b[0mdetermine_weight\u001b[0m\u001b[1;33m(\u001b[0m\u001b[1;36m1\u001b[0m\u001b[1;33m,\u001b[0m \u001b[1;33m-\u001b[0m\u001b[1;36m1\u001b[0m\u001b[1;33m)\u001b[0m\u001b[1;33m\u001b[0m\u001b[1;33m\u001b[0m\u001b[0m\n\u001b[0m\u001b[0;32m      3\u001b[0m \u001b[1;32mexcept\u001b[0m \u001b[0mmy_module\u001b[0m\u001b[1;33m.\u001b[0m\u001b[0mNegativeDensityError\u001b[0m\u001b[1;33m:\u001b[0m\u001b[1;33m\u001b[0m\u001b[1;33m\u001b[0m\u001b[0m\n",
      "\u001b[1;31mNameError\u001b[0m: name 'my_module' is not defined",
      "\nDuring handling of the above exception, another exception occurred:\n",
      "\u001b[1;31mNameError\u001b[0m                                 Traceback (most recent call last)",
      "\u001b[1;32m<ipython-input-6-082b42a7e20f>\u001b[0m in \u001b[0;36m<module>\u001b[1;34m\u001b[0m\n\u001b[0;32m      1\u001b[0m \u001b[1;32mtry\u001b[0m\u001b[1;33m:\u001b[0m\u001b[1;33m\u001b[0m\u001b[1;33m\u001b[0m\u001b[0m\n\u001b[0;32m      2\u001b[0m     \u001b[0mweight\u001b[0m \u001b[1;33m=\u001b[0m \u001b[0mmy_module\u001b[0m\u001b[1;33m.\u001b[0m\u001b[0mdetermine_weight\u001b[0m\u001b[1;33m(\u001b[0m\u001b[1;36m1\u001b[0m\u001b[1;33m,\u001b[0m \u001b[1;33m-\u001b[0m\u001b[1;36m1\u001b[0m\u001b[1;33m)\u001b[0m\u001b[1;33m\u001b[0m\u001b[1;33m\u001b[0m\u001b[0m\n\u001b[1;32m----> 3\u001b[1;33m \u001b[1;32mexcept\u001b[0m \u001b[0mmy_module\u001b[0m\u001b[1;33m.\u001b[0m\u001b[0mNegativeDensityError\u001b[0m\u001b[1;33m:\u001b[0m\u001b[1;33m\u001b[0m\u001b[1;33m\u001b[0m\u001b[0m\n\u001b[0m\u001b[0;32m      4\u001b[0m     \u001b[1;32mraise\u001b[0m \u001b[0mValueError\u001b[0m\u001b[1;33m(\u001b[0m\u001b[1;34m'Must supply non-negative density'\u001b[0m\u001b[1;33m)\u001b[0m\u001b[1;33m\u001b[0m\u001b[1;33m\u001b[0m\u001b[0m\n\u001b[0;32m      5\u001b[0m \u001b[1;32mexcept\u001b[0m \u001b[0mmy_module\u001b[0m\u001b[1;33m.\u001b[0m\u001b[0mInvalidDensityError\u001b[0m\u001b[1;33m:\u001b[0m\u001b[1;33m\u001b[0m\u001b[1;33m\u001b[0m\u001b[0m\n",
      "\u001b[1;31mNameError\u001b[0m: name 'my_module' is not defined"
     ]
    }
   ],
   "source": [
    "try:\n",
    "    weight = my_module.determine_weight(1, -1)\n",
    "except my_module.NegativeDensityError:\n",
    "    raise ValueError('Must supply non-negative density')\n",
    "except my_module.InvalidDensityError:\n",
    "    weight = 0\n",
    "except my_module.Error:\n",
    "    logging.exception('Bug in the calling code')\n",
    "except Exception:\n",
    "    logging.exception('Bug in the API code!')\n",
    "    raise"
   ]
  },
  {
   "cell_type": "markdown",
   "id": "extended-helmet",
   "metadata": {},
   "source": [
    "- we can make `API` future-proofing better by providing a broader set of exceptions directly below the root exception\n",
    "- for example, we can make it so that one set of errors is related to calculating `weights`, another related to calculating `volume` and a third related to calculating density"
   ]
  },
  {
   "cell_type": "code",
   "execution_count": 8,
   "id": "acquired-collectible",
   "metadata": {},
   "outputs": [],
   "source": [
    "# my_module.py\n",
    "class Error(Exception):\n",
    "    \"\"\"Base-class for all exceptions raised by this module.\"\"\"\n",
    "\n",
    "class WeightError(Error):\n",
    "    \"\"\"Base-class for weight calculation errors.\"\"\"\n",
    "\n",
    "class VolumeError(Error):\n",
    "    \"\"\"Base-class for volume calculation errors.\"\"\"\n",
    "\n",
    "class DensityError(Error):\n",
    "    \"\"\"Base-class for density calculation errors.\"\"\""
   ]
  },
  {
   "cell_type": "markdown",
   "id": "normal-creator",
   "metadata": {},
   "source": [
    "- specific exceptions would inherit from these general exceptions\n",
    "- each intermediate exception acts as its kind of root exception\n",
    "- this makes it easier to insulate layers of calling code from `API` code based on broad functionality"
   ]
  },
  {
   "cell_type": "markdown",
   "id": "serial-skirt",
   "metadata": {},
   "source": [
    "## Item 88: Know How to Break Circular Dependencies"
   ]
  },
  {
   "cell_type": "markdown",
   "id": "fifty-planner",
   "metadata": {},
   "source": [
    "- when a module is imported, here is what Python actually does, in a `DFS` manor:"
   ]
  },
  {
   "cell_type": "markdown",
   "id": "saved-south",
   "metadata": {},
   "source": [
    "__Pythons Import Machinery__:\n",
    "1. searches for a module in locations from `sys.path`\n",
    "2. loads the code from the module and ensures that it compiles\n",
    "3. creates a corresponding empty module obejct\n",
    "4. inserts the module into `sys.modules`\n",
    "5. runs the code in the module object to define its contents"
   ]
  },
  {
   "cell_type": "markdown",
   "id": "sustained-shark",
   "metadata": {},
   "source": [
    "- the problem with a circular dependency is that the attributes of a module arent defined untill the code for those attributes has executed\n",
    "- but the module can be loaded with the `import` statement immediately after its inserted into the `sys.modules` (aftert step 4)"
   ]
  },
  {
   "cell_type": "markdown",
   "id": "theoretical-astronomy",
   "metadata": {},
   "source": [
    "- the best solution to this problem is to refactor the code so that the `prefs` data structure is at the bottom of the dependency tree"
   ]
  },
  {
   "cell_type": "markdown",
   "id": "fitted-superior",
   "metadata": {},
   "source": [
    "### Reording Imports"
   ]
  },
  {
   "cell_type": "markdown",
   "id": "impaired-vanilla",
   "metadata": {},
   "source": [
    "- the first approach is to change the orfer of imports\n",
    "- put the `module` causing the trouble towards the bottom"
   ]
  },
  {
   "cell_type": "markdown",
   "id": "arabic-spyware",
   "metadata": {},
   "source": [
    "### Import, Configure, Run"
   ]
  },
  {
   "cell_type": "markdown",
   "id": "pediatric-bullet",
   "metadata": {},
   "source": [
    "- a second solution is to have modules minimize side effects at import time\n",
    "- we can have modules only define functions, classes, and constants\n",
    "- we can avoid actually running any functions at import time\n",
    "- then we can have each module provide a `configure` function that we can call once all the other modules have finished importing\n",
    "- the purpose of `configure` is to prepare each module's state by accessing the attributes of other modules\n",
    "- we run `configure` after all modules have been imported (step 5 complete), so all attributes must be defined"
   ]
  },
  {
   "cell_type": "markdown",
   "id": "concrete-graphics",
   "metadata": {},
   "source": [
    "- the approach works in many situations and enables patterns like `dependency injections` but make code hard to read because it separates the definition of objects from their configuration"
   ]
  },
  {
   "cell_type": "markdown",
   "id": "ranging-diagnosis",
   "metadata": {},
   "source": [
    "### Dynamic Imports"
   ]
  },
  {
   "cell_type": "markdown",
   "id": "southwest-batch",
   "metadata": {},
   "source": [
    "- the third solution is to use `import` statement within a function or method\n",
    "- this is called `dynamic import` because the improts happen while the program is running, not while the program is first starting up and initializing its modules"
   ]
  },
  {
   "cell_type": "markdown",
   "id": "administrative-boundary",
   "metadata": {},
   "source": [
    "### Things to Remember"
   ]
  },
  {
   "cell_type": "markdown",
   "id": "mexican-military",
   "metadata": {},
   "source": [
    "- circular dependencies happen when two modules must call into each other at import time\n",
    "- they can cause your program to crash at startup\n",
    "- best way to break a circular dependency is by refactoring multiple dependencies into a separate module at the bottom of the dependency tree"
   ]
  },
  {
   "cell_type": "markdown",
   "id": "muslim-circuit",
   "metadata": {},
   "source": [
    "## Item 89: Consider `Warnings` to Refactor and Migrate Usage"
   ]
  },
  {
   "cell_type": "markdown",
   "id": "wanted-wheat",
   "metadata": {},
   "source": [
    "- for large `APIs` making changes will not be possible\n",
    "- thus we need a way to notify and encourage the people that you collaborate with to refactor their code and migrate their API usage to the latest forms"
   ]
  },
  {
   "cell_type": "markdown",
   "id": "graduate-payment",
   "metadata": {},
   "source": [
    "- for this purpose python provides the built-in `warnings` module\n",
    "- using warnings is a programmatic way to inform other programers that thair code needs to be modified due to change to an underlying library that depends on\n",
    "- `warnings` are all about communication between humans about what to expect in their collaboration with each other"
   ]
  },
  {
   "cell_type": "code",
   "execution_count": 9,
   "id": "instrumental-simon",
   "metadata": {},
   "outputs": [
    {
     "name": "stderr",
     "output_type": "stream",
     "text": [
      "<ipython-input-9-a79ca2631358>:5: DeprecationWarning: people is None\n",
      "  warnings.warn(\n"
     ]
    }
   ],
   "source": [
    "import warnings\n",
    "\n",
    "def warn(people):\n",
    "    if people is None:\n",
    "        warnings.warn(\n",
    "         'people is None', DeprecationWarning)\n",
    "        \n",
    "warn(None)\n",
    "        "
   ]
  },
  {
   "cell_type": "markdown",
   "id": "decent-colleague",
   "metadata": {},
   "source": [
    "- `warnings.warm` function supports the `stacklevel` parameter, which makes it possible to report the correct place in the stack as the cause of the warning\n",
    "- `stacklevel` also makes it easy to write function that can issue warnings on behalf of other code, reducing boilerplate"
   ]
  },
  {
   "cell_type": "code",
   "execution_count": 11,
   "id": "million-grounds",
   "metadata": {},
   "outputs": [],
   "source": [
    "def require(name, value, default):\n",
    "    if value is not None:\n",
    "        return value\n",
    "    warnings.warn(\n",
    "        f'{name} will be required soon, update your code',\n",
    "        DeprecationWarning,\n",
    "        stacklevel=3)\n",
    "    return default\n",
    "\n",
    "def warn(people):\n",
    "    if people is None:\n",
    "        need_people = require('people', 4, 'humpy')\n",
    "        \n",
    "warn(None)"
   ]
  },
  {
   "cell_type": "markdown",
   "id": "forty-scott",
   "metadata": {},
   "source": [
    "- the `warnings` module also lets us configure what should happen when a warning is encountered\n",
    "- one option is to make all warnings become errors, which raises the warning as an exception instead of printing it out to `sys.stderr`"
   ]
  },
  {
   "cell_type": "code",
   "execution_count": 13,
   "id": "graduate-biodiversity",
   "metadata": {},
   "outputs": [],
   "source": [
    "warnings.simplefilter('error')\n",
    "try:\n",
    "    warnings.warn('This usage is deprecated',\n",
    "                 DeprecationWarning)\n",
    "except DeprecationWarning:\n",
    "    pass # Expected"
   ]
  },
  {
   "cell_type": "markdown",
   "id": "given-karma",
   "metadata": {},
   "source": [
    "- this exception-raising behavior is especially useful for automates tests in order to detect changes in upstram dependencies and fail tests accordingly\n",
    "- using such test failures is a great way to make it clear to the people you collaborate with that they will need to update thier code\n",
    "- you can use the `-W error` command-line argument to the Python interpreter or the `PYTHONWARNINGS` environment variables to apply this policy"
   ]
  },
  {
   "cell_type": "markdown",
   "id": "seeing-vatican",
   "metadata": {},
   "source": [
    "- once the users responsible for code that depends on a deprecated API are aware that they'll need to do a migration, they can tell the warnings module to ignore the error by using the `simplefilter` and `filterwarnings` function"
   ]
  },
  {
   "cell_type": "code",
   "execution_count": null,
   "id": "reflected-collectible",
   "metadata": {},
   "outputs": [],
   "source": [
    "warnings.simplefilter('ignore')\n",
    "warnings.warn('This will not be printed to stderr')"
   ]
  },
  {
   "cell_type": "markdown",
   "id": "caroline-benjamin",
   "metadata": {},
   "source": [
    "- after a program is deployed into production, it does not make sense for warnings to cause errors because they might crash the program at a critical time\n",
    "- a better approach is to replicate warnings into the `logging` built-in module\n",
    "- we can accomplish this by calling `logging.captureWarnings` function and configure the corresponding `py.warrnings` logger "
   ]
  },
  {
   "cell_type": "code",
   "execution_count": null,
   "id": "timely-loading",
   "metadata": {},
   "outputs": [],
   "source": [
    "fake_stderr = io.StringIO()\n",
    "handler = logging.StreamHandler(fake_stderr)\n",
    "\n",
    "formatter = logging.Formatter(\n",
    " '%(asctime)-15s WARNING] %(message)s')\n",
    "handler.setFormatter(formatter)\n",
    "\n",
    "logging.captureWarnings(True)\n",
    "logger = logging.getLogger('py.warnings')\n",
    "logger.addHandler(handler)\n",
    "logger.setLevel(logging.DEBUG)\n",
    "\n",
    "warnings.resetwarnings()\n",
    "warnings.simplefilter('default')\n",
    "warnings.warn('This will go to the logs output')\n",
    "print(fake_stderr.getvalue())"
   ]
  },
  {
   "cell_type": "markdown",
   "id": "particular-myrtle",
   "metadata": {},
   "source": [
    "- using logging to capture warnings ensures that any error reporting systems that my program already has in place will also receive notice of important warnings in production\n",
    "- this can be especially useful if my test don't cover edge cases that I might see when the program is undergoing real usage"
   ]
  },
  {
   "cell_type": "markdown",
   "id": "consecutive-office",
   "metadata": {},
   "source": [
    "- API library maintainers should also write unit tests to verify that warnings are generated under the correct circumstances with clear and actionable messages\n",
    "- below we use the `warnings.catch_warnings` function as a context manager to wrap a call to the `require` function that I defined above"
   ]
  },
  {
   "cell_type": "code",
   "execution_count": null,
   "id": "prostate-bangkok",
   "metadata": {},
   "outputs": [],
   "source": [
    "with warnings.catch_warnings(record=True) as found-warnings:\n",
    "    found = require('my_args', None, 'fake units')\n",
    "    expected = 'fake units'\n",
    "    assert found == expected"
   ]
  },
  {
   "cell_type": "markdown",
   "id": "unexpected-tonight",
   "metadata": {},
   "source": [
    "- once we have collected the warning messages, I can verify that their number, detail messages and categories match my expec tations"
   ]
  },
  {
   "cell_type": "code",
   "execution_count": null,
   "id": "contained-agreement",
   "metadata": {},
   "outputs": [],
   "source": [
    "assert len(found_warnings) == 1\n",
    "\n",
    "single_warning = found_warnings[0]\n",
    "\n",
    "assert str(single_warning.message) == (\n",
    "    'my_arg will be required soon, update your code')\n",
    "assert single_warning.category == DeprecationWarning"
   ]
  },
  {
   "cell_type": "markdown",
   "id": "intellectual-stage",
   "metadata": {},
   "source": [
    "## Item 90: Consider Static Analysis via `typing` to Obviate Bugs"
   ]
  },
  {
   "cell_type": "markdown",
   "id": "graphic-saver",
   "metadata": {},
   "source": [
    "- Python has introduced special syntax and the built-in `typing` module, which allow you to annotate variables, class fields, functions and methods with `type` information\n",
    "- these `type hints` allow for `gradual typing`, where codebase can be incrementally updated to specific types as desired\n"
   ]
  },
  {
   "cell_type": "markdown",
   "id": "exclusive-wireless",
   "metadata": {},
   "source": [
    "- the benefit of adding type information to Python program is that you can run `static analysis` tools to ingest a programs source code and identify where bugs are most likely to occur\n",
    "- the `typing` built-in module doesn't actually implement any of the type checking functionality itself\n",
    "- the most popular onces are `mypy`, `pytype` and `pyre`"
   ]
  },
  {
   "cell_type": "markdown",
   "id": "psychological-closing",
   "metadata": {},
   "source": [
    "- `python3 -m mypy --strict example.py`"
   ]
  },
  {
   "cell_type": "markdown",
   "id": "dutch-torture",
   "metadata": {},
   "source": [
    "- parameter and variable type annotations are delineated with a colon `name: type`\n",
    "- return value types are specified with `-> type` following the arugment list"
   ]
  },
  {
   "cell_type": "markdown",
   "id": "instant-cement",
   "metadata": {},
   "source": [
    "- a common mistake for beginner programers is to mix `bytes` and `str` instances"
   ]
  },
  {
   "cell_type": "markdown",
   "id": "magnetic-vampire",
   "metadata": {},
   "source": [
    "- type annotations can also be applied to class methods"
   ]
  },
  {
   "cell_type": "code",
   "execution_count": null,
   "id": "funny-prime",
   "metadata": {},
   "outputs": [],
   "source": [
    "class Counter:\n",
    "    def __init__(self) -> None:\n",
    "        self.value: int = 0                   # Field / variable annotation\n",
    "    \n",
    "    def add(self, offset: int) -> None:\n",
    "        value += offset                       # Oops: forgot \"self.\"\n",
    "    def get(self) -> int:\n",
    "        self.value                            # Oops: forgot \"return\""
   ]
  },
  {
   "cell_type": "markdown",
   "id": "creative-mistake",
   "metadata": {},
   "source": [
    "- one of the strenghts of Python's dynamism is the ability to write generic functionality that operates on `duck` types\n",
    "- this allows one implementation to accept a wide range of types, saving a lot of duplicative efforts and simplifying testing\n",
    "- below we define such generic function for combining values from a `list`"
   ]
  },
  {
   "cell_type": "code",
   "execution_count": null,
   "id": "christian-lebanon",
   "metadata": {},
   "outputs": [],
   "source": [
    "def combine(func, values):\n",
    "    assert len(values) > 0\n",
    "    \n",
    "    result = values[0]\n",
    "    for next_value in values[1:]:\n",
    "        result = func(result, next_value)\n",
    "    return result\n",
    "\n",
    "def add(x, y):\n",
    "    return x + y\n",
    "\n",
    "inputs = [1, 2, 3, 4j]\n",
    "result = combine(add, inputs)\n",
    "assert result == 10, result # Fails"
   ]
  },
  {
   "cell_type": "markdown",
   "id": "satellite-configuration",
   "metadata": {},
   "source": [
    "- we can use `typing` modules support for generics to annotate this function and detect the problem statically"
   ]
  },
  {
   "cell_type": "code",
   "execution_count": null,
   "id": "amino-summit",
   "metadata": {},
   "outputs": [],
   "source": [
    "from typing import Callable, List, TypeVar\n",
    "\n",
    "value = TypeVar('Value')\n",
    "Func = Callable[[Value, Value], Value]\n",
    "\n",
    "def combine(func: Func[Value], value: List[Value]) -> Value:\n",
    "    assert len(values) > 0\n",
    "    \n",
    "    result = values[0]\n",
    "    for next_value in values[1:]:\n",
    "        result = func(result, next_value)\n",
    "        \n",
    "    return result\n",
    "\n",
    "Real = TypeVar('Real', int, float)\n",
    "\n",
    "def add(x: Real, y: Real) -> Real:\n",
    "    return x + y\n",
    "\n",
    "inputs = [1, 2, 3, 4j] # Opps: Included a complex number\n",
    "assert result == 10"
   ]
  },
  {
   "cell_type": "markdown",
   "id": "attempted-dependence",
   "metadata": {},
   "source": [
    "- another extremely common error is to encounter a `None` value when you though you have a valid object"
   ]
  },
  {
   "cell_type": "code",
   "execution_count": null,
   "id": "excessive-township",
   "metadata": {},
   "outputs": [],
   "source": [
    "def get_or_default(value, default):\n",
    "    if value is not None:\n",
    "        return value\n",
    "    return value\n",
    "\n",
    "found = get_or_default(3, 5)\n",
    "assert found == 3\n",
    "\n",
    "found = get_or_default(None, 5)\n",
    "assert found == 5, found # Fails"
   ]
  },
  {
   "cell_type": "markdown",
   "id": "historic-virtue",
   "metadata": {},
   "source": [
    "- `typing` module supports option types, which ensure that programs only interact with values after proper null checks have been performed\n",
    "- this allows `mypy` to infer that there's a bug in this code\n",
    "- the `type` used in the return statement must be `None` and does not match the `int` type required by function signature "
   ]
  },
  {
   "cell_type": "code",
   "execution_count": null,
   "id": "flexible-campus",
   "metadata": {},
   "outputs": [],
   "source": [
    "from typing import Optional\n",
    "\n",
    "def get_or_default(value: Optional[int], default: int) -> int:\n",
    "    if value is not None:\n",
    "        return value\n",
    "    return value # Oops: should have returned \"default\""
   ]
  },
  {
   "cell_type": "markdown",
   "id": "thorough-edwards",
   "metadata": {},
   "source": [
    "- you can also use typing with exceptions\n",
    "- unlike Java, which has checked exceptions that are enforced at the API boundary of every method, Python's type annotations are more simmilar to `C#`\n",
    "- exceptions are not considered part of an interface's definition\n",
    "- thus if you want to verify that you're raising and catching exceptions properly, you need to write tests"
   ]
  },
  {
   "cell_type": "markdown",
   "id": "early-malaysia",
   "metadata": {},
   "source": [
    "- one common gotcha in using the `typing` module occurs when you need to deal with forward refrences\n",
    "- imagine we have two classes and one holds a refrence to the other"
   ]
  },
  {
   "cell_type": "code",
   "execution_count": null,
   "id": "clear-meaning",
   "metadata": {},
   "outputs": [],
   "source": [
    "class FirstClass:\n",
    "    def __init__(self, value):\n",
    "        self.value = value\n",
    "        \n",
    "class SecondClass:\n",
    "    def __init__(self, value):\n",
    "        self.value = value\n",
    "        \n",
    "second = SecondClass(5)\n",
    "first = FirstClass(second)"
   ]
  },
  {
   "cell_type": "markdown",
   "id": "eastern-float",
   "metadata": {},
   "source": [
    "- if we apply type hints to this program and run `mypy` it will say that there are no issues\n",
    "    - `python3 -m mypy --strict example.py`"
   ]
  },
  {
   "cell_type": "code",
   "execution_count": null,
   "id": "challenging-graham",
   "metadata": {},
   "outputs": [],
   "source": [
    "class FirstClass:\n",
    "    def __init__(self, value: SecondClass) -> None:\n",
    "self.value = value\n",
    "\n",
    "class SecondClass:\n",
    "    def __init__(self, value: int) -> None:\n",
    "    self.value = value\n",
    "\n",
    "second = SecondClass(5)\n",
    "first = FirstClass(second)"
   ]
  },
  {
   "cell_type": "markdown",
   "id": "another-perfume",
   "metadata": {},
   "source": [
    "- howerver, if we actually try to run this code, it will fail because `SecondClass` is referenced by the type annotation in the `FirstClass.__init__` method's parameters before its actually defined"
   ]
  },
  {
   "cell_type": "code",
   "execution_count": null,
   "id": "sophisticated-factor",
   "metadata": {},
   "outputs": [],
   "source": [
    "class FirstClass:\n",
    "    def __init__(self, value: SecondClass) -> None: # Breaks\n",
    "        self.value = value\n",
    "        \n",
    "class SecondClass:\n",
    "    def __init__(self, value: int) -> None:\n",
    "        self.value = value\n",
    "        \n",
    "second = SecondClass(5)\n",
    "first = FirstClass(second)"
   ]
  },
  {
   "cell_type": "markdown",
   "id": "serious-repeat",
   "metadata": {},
   "source": [
    "- one workaround supported by these static analysis tools is to use a string as the type annotation that contains the forward refrence\n",
    "- the string value is later parsed and evaluated to extract the type information to check"
   ]
  },
  {
   "cell_type": "code",
   "execution_count": null,
   "id": "incoming-watts",
   "metadata": {},
   "outputs": [],
   "source": [
    "class FirstClass:\n",
    "    def __init__(self, value: 'SecondClass') -> None: # OK\n",
    "        self.value = value\n",
    "        \n",
    "class SecondClass:\n",
    "    def __init__(self, value: int) -> None:\n",
    "        self.value = value\n",
    "\n",
    "second = SecondClass(5)\n",
    "first = FirstClass(second)\n"
   ]
  },
  {
   "cell_type": "markdown",
   "id": "involved-occasions",
   "metadata": {},
   "source": [
    "- a better approach is to use from `__future__` import annotations\n",
    "- this instructs the Python interpreter to completely ignore the values supplied in type annotations when the program is being run\n",
    "- this resolves the forward refrence problem and provides a performance improvement at program start time"
   ]
  },
  {
   "cell_type": "code",
   "execution_count": null,
   "id": "recognized-knitting",
   "metadata": {},
   "outputs": [],
   "source": [
    "from __future__ import annotations\n",
    "\n",
    "class FirstClass:\n",
    "    def __init__(self, value: SecondClass) -> None: # OK\n",
    "        self.value = value\n",
    "        \n",
    "class SecondClass:\n",
    "    def __init__(self, value: int) -> None:\n",
    "        self.value = value\n",
    "        \n",
    "second = SecondClass(5)\n",
    "first = FirstClass(second)"
   ]
  },
  {
   "cell_type": "markdown",
   "id": "about-austria",
   "metadata": {},
   "source": [
    "### Type Annotations Best Pratices"
   ]
  },
  {
   "cell_type": "markdown",
   "id": "intelligent-revelation",
   "metadata": {},
   "source": [
    "- its going to slow you down if you try to use type annotations fom the start when writing a new piece of code. General strategy is to write a first version without annotations, then write tests, and then add type information where its most valuable"
   ]
  },
  {
   "cell_type": "markdown",
   "id": "champion-length",
   "metadata": {},
   "source": [
    "- type hints are most important at the boundaries of a codebase, such as an API you provide that many callers depend on\n",
    "- Type hints complement integration tests and warning to ensure that your API caller aren't surprised or broken by your changes\n",
    "- it can be useful to apply type hints to the most complex and error prone parts of your codebase that arent part of an API. Howerver  it may not be worth striving for `100%` coverage in your type annotations because you'll quickly enounter diminishing returns\n",
    "- if possible you should include static analysis as part of your anomated build and test systems to ensure that every commit to your codebase is vetted for errors\n",
    "- in addition, the configuration used for type checking should be maintained in the repository to ensure that all of the people you collaborate with are using the same rules\n",
    "- as you add type information to your code, its important to run the type checker as you go. Otherwise, you may nearly finish sprinkling type hints everwhere and then be hit by a huge wall of errors from the type checking tool"
   ]
  }
 ],
 "metadata": {
  "kernelspec": {
   "display_name": "Python 3",
   "language": "python",
   "name": "python3"
  },
  "language_info": {
   "codemirror_mode": {
    "name": "ipython",
    "version": 3
   },
   "file_extension": ".py",
   "mimetype": "text/x-python",
   "name": "python",
   "nbconvert_exporter": "python",
   "pygments_lexer": "ipython3",
   "version": "3.9.2"
  }
 },
 "nbformat": 4,
 "nbformat_minor": 5
}
