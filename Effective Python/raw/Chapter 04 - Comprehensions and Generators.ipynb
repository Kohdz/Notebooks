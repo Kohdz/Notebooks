{
 "cells": [
  {
   "cell_type": "markdown",
   "id": "inclusive-edgar",
   "metadata": {},
   "source": [
    "## Overview"
   ]
  },
  {
   "cell_type": "markdown",
   "id": "fewer-update",
   "metadata": {},
   "source": [
    "- python provides special syntax, called `comprehensions` for iterating through these types and creating derivative data structures\n",
    "- this style of processing is extended to functions with `generators` which enable a stream of values to be incrementally returned by a function\n",
    "- the result of a call to a generator function can be used where an iterator is apporpriate (loops, starred expressions)"
   ]
  },
  {
   "cell_type": "markdown",
   "id": "injured-singles",
   "metadata": {},
   "source": [
    "## Item 27: Use Comprehensions Instead of `map` and `filter`"
   ]
  },
  {
   "cell_type": "markdown",
   "id": "excellent-muscle",
   "metadata": {},
   "source": [
    "- you should perfer list comprehensions over `map` built in function because `map` requires lambda\n",
    "- so unless you have only one argument, dont use `lambda` stuff\n",
    "- with comprehensions you can also filter things"
   ]
  },
  {
   "cell_type": "code",
   "execution_count": 2,
   "id": "located-paper",
   "metadata": {},
   "outputs": [
    {
     "name": "stdout",
     "output_type": "stream",
     "text": [
      "[4, 16, 36, 64, 100]\n"
     ]
    }
   ],
   "source": [
    "a = [1, 2, 3, 4, 5, 6, 7, 8, 9, 10]\n",
    "even_squares = [x**2 for x in a if x % 2 == 0]\n",
    "print(even_squares)"
   ]
  },
  {
   "cell_type": "markdown",
   "id": "backed-fiber",
   "metadata": {},
   "source": [
    "- dictionary comprehensions also exist"
   ]
  },
  {
   "cell_type": "code",
   "execution_count": 3,
   "id": "overall-giant",
   "metadata": {},
   "outputs": [
    {
     "name": "stdout",
     "output_type": "stream",
     "text": [
      "{2: 4, 4: 16, 6: 36, 8: 64, 10: 100}\n"
     ]
    }
   ],
   "source": [
    "even_squares_dict = {x:x**2 for x in a if x % 2 == 0}\n",
    "print(even_squares_dict)"
   ]
  },
  {
   "cell_type": "markdown",
   "id": "waiting-reader",
   "metadata": {},
   "source": [
    "## Avoid More Than Two Control Subexpressions in Comprehensions"
   ]
  },
  {
   "cell_type": "markdown",
   "id": "destroyed-beast",
   "metadata": {},
   "source": [
    "- it is fine to use two o `for` loops but try not to use any more "
   ]
  },
  {
   "cell_type": "code",
   "execution_count": 4,
   "id": "radical-preview",
   "metadata": {},
   "outputs": [
    {
     "name": "stdout",
     "output_type": "stream",
     "text": [
      "[1, 2, 3, 4, 5, 6, 7, 8, 9]\n"
     ]
    }
   ],
   "source": [
    "matrix = [[1, 2, 3], [4, 5, 6], [7, 8, 9]]\n",
    "flat = [x for row in matrix for x in row]\n",
    "print(flat)"
   ]
  },
  {
   "cell_type": "markdown",
   "id": "official-flower",
   "metadata": {},
   "source": [
    "- another reasonable usage of multiple loops involves replicating the two-level-deep layout of the input `list`\n",
    "- for example, if you wanted the square value in each cell of a two-dimensional matrix"
   ]
  },
  {
   "cell_type": "code",
   "execution_count": 5,
   "id": "sound-passing",
   "metadata": {},
   "outputs": [
    {
     "name": "stdout",
     "output_type": "stream",
     "text": [
      "[[1, 4, 9], [16, 25, 36], [49, 64, 81]]\n"
     ]
    }
   ],
   "source": [
    "squared = [[x**2 for x in row] for row in matrix]\n",
    "print(squared)"
   ]
  },
  {
   "cell_type": "markdown",
   "id": "handy-disaster",
   "metadata": {},
   "source": [
    "- be careful of multi-line comprehensions, espically if they start looking like normal loops"
   ]
  },
  {
   "cell_type": "code",
   "execution_count": 8,
   "id": "organizational-baptist",
   "metadata": {},
   "outputs": [],
   "source": [
    "def bad_comprehension():\n",
    "    flat = [x for sublist1 in my_lists\n",
    "        for sublist2 in sublist1\n",
    "        for x in sublist2]\n",
    "\n",
    "    flat = []\n",
    "    for sublist1 in my_lists:\n",
    "        for sublist2 in sublist1:\n",
    "            flat.extend(sublist2)"
   ]
  },
  {
   "cell_type": "markdown",
   "id": "quiet-literature",
   "metadata": {},
   "source": [
    "## Item 29: Avoid Repeated Work in Comprehensions by Using Assignment Expressions"
   ]
  },
  {
   "cell_type": "markdown",
   "id": "turned-yeast",
   "metadata": {},
   "source": [
    "- Amazing you can combine walrus operator along with a list comprehension\n",
    "- the assignment expression `batches := get_batches(...)` allows us to look up the value for each order key in the `stock` dictionary a single time\n",
    "- `get_batches` then store its corresponding value in the `batches` varible\n",
    "- we can then refrence that variable elsewhere in the comprehension to construct the dict's contents instead of having to call `get_batches` a second time"
   ]
  },
  {
   "cell_type": "code",
   "execution_count": 12,
   "id": "detected-inside",
   "metadata": {},
   "outputs": [],
   "source": [
    "def avoiding_repeated_work():\n",
    "    \n",
    "    result = {}\n",
    "    for name in order:\n",
    "        count = stock.get(name, 0)\n",
    "        batches = get_batches(count, 8)\n",
    "\n",
    "    has_bug = {name: get_batches(stock.get(name, 0), 4)\n",
    "               for name in order\n",
    "               if get_batches(stock.get(name, 0), 8)}\n",
    "\n",
    "    # we can further reduce the ugliness with walrus operator\n",
    "    found = {name: batches for name in order\n",
    "             if (batches := get_batches(stock.get(name, 0), 8))}\n",
    "    \n",
    "    result = {name: tenth for name, count in stock.items()\n",
    "             if (tenth := count // 10) > 0}\n",
    "    "
   ]
  },
  {
   "cell_type": "markdown",
   "id": "working-harassment",
   "metadata": {},
   "source": [
    "- if a comprehension uses the walrus operator in the value part of the comprehension and does not have a condition, it will leak the loop variable into the containing scope\n",
    "- the leakage of the loop variable is simmilar to what happens with a normal `for` loop"
   ]
  },
  {
   "cell_type": "code",
   "execution_count": 14,
   "id": "entire-lafayette",
   "metadata": {},
   "outputs": [
    {
     "name": "stdout",
     "output_type": "stream",
     "text": [
      "Last item of [125, 35, 8, 24] is 24\n"
     ]
    }
   ],
   "source": [
    "stock = {\n",
    " 'nails': 125,\n",
    " 'screws': 35,\n",
    " 'wingnuts': 8,\n",
    " 'washers': 24,\n",
    "}\n",
    "\n",
    "for count in stock.values(): # Leeks loop variable\n",
    "    pass\n",
    "print(f'Last item of {list(stock.values())} is {count}')"
   ]
  },
  {
   "cell_type": "markdown",
   "id": "agreed-diploma",
   "metadata": {},
   "source": [
    "- similar leakage does not happen for the loop variables from comprehensions"
   ]
  },
  {
   "cell_type": "code",
   "execution_count": 16,
   "id": "genetic-mumbai",
   "metadata": {},
   "outputs": [
    {
     "name": "stdout",
     "output_type": "stream",
     "text": [
      "[62, 17, 4, 12]\n",
      "24\n"
     ]
    }
   ],
   "source": [
    "half = [count // 2 for count in stock.values()]\n",
    "print(half) # Works\n",
    "print(count) # Exception because loop variable dident leak"
   ]
  },
  {
   "cell_type": "markdown",
   "id": "plain-coupon",
   "metadata": {},
   "source": [
    "- its better not to leak loop variables, so I recommend using assignment expressions only in the condition part of a comprehension"
   ]
  },
  {
   "cell_type": "markdown",
   "id": "affected-aruba",
   "metadata": {},
   "source": [
    "- assignment expression also work the same way in generator expressions\n",
    "- the difference is using the `()` instead of `[]`"
   ]
  },
  {
   "cell_type": "code",
   "execution_count": 20,
   "id": "inside-medicine",
   "metadata": {},
   "outputs": [
    {
     "name": "stdout",
     "output_type": "stream",
     "text": [
      "('screws', 4)\n",
      "('wingnuts', 1)\n"
     ]
    }
   ],
   "source": [
    "order = ['screws', 'wingnuts', 'clips']\n",
    "def get_batches(count, size):\n",
    "    return count // size\n",
    "\n",
    "found = ((name, batches) for name in order\n",
    "          if (batches := get_batches(stock.get(name, 0), 8)))\n",
    "\n",
    "print(next(found))\n",
    "print(next(found))"
   ]
  },
  {
   "cell_type": "markdown",
   "id": "saving-lafayette",
   "metadata": {},
   "source": [
    "- Although it’s possible to use an assignment expression outside of a comprehension or generator expression’s condition, you should avoid doing so"
   ]
  },
  {
   "cell_type": "markdown",
   "id": "dressed-tucson",
   "metadata": {},
   "source": [
    "## Item 30: Consider Generators Instead of Returning Lists"
   ]
  },
  {
   "cell_type": "code",
   "execution_count": 21,
   "id": "capital-colonial",
   "metadata": {},
   "outputs": [],
   "source": [
    "def index_words(text):\n",
    "    result = []\n",
    "    if text:\n",
    "        result.append(0)\n",
    "    for index, letter in enumerate(text):\n",
    "        if letter == ' ':\n",
    "            result.append(index + 1)\n",
    "    return result"
   ]
  },
  {
   "cell_type": "markdown",
   "id": "phantom-wallet",
   "metadata": {},
   "source": [
    "- normal returns such as the list show above has two problems with it\n",
    "- the __first__ proble is that the code is dense and noise\n",
    "- look at the times `append` is being called\n",
    "- the `result.append` deemphasizes the value being added to the `list (index + 1)`\n",
    "- there is one line for creating the result `list` and another for returning it\n"
   ]
  },
  {
   "cell_type": "markdown",
   "id": "foreign-scanner",
   "metadata": {},
   "source": [
    "- the function `index_words` can be rewritten as shown below"
   ]
  },
  {
   "cell_type": "code",
   "execution_count": 22,
   "id": "consolidated-withdrawal",
   "metadata": {},
   "outputs": [],
   "source": [
    "def index_words_iter(text):\n",
    "    if text:\n",
    "        yield 0\n",
    "    for index, letter in enumerate(text):\n",
    "        if letter == ' ':\n",
    "            yield index + 1"
   ]
  },
  {
   "cell_type": "markdown",
   "id": "imported-newcastle",
   "metadata": {},
   "source": [
    "- when called, a generator function does not actually run but instead immediately returns an iterator\n",
    "- with each call to the `next` built-in function, the iterator advances the generator to its next `yeild` expression\n",
    "- each value passed to `yield` by the generator is returned by the iterator to the caller"
   ]
  },
  {
   "cell_type": "code",
   "execution_count": 24,
   "id": "frozen-conclusion",
   "metadata": {},
   "outputs": [
    {
     "name": "stdout",
     "output_type": "stream",
     "text": [
      "0\n",
      "5\n"
     ]
    }
   ],
   "source": [
    "address = 'Four score and seven years ago...'\n",
    "\n",
    "it = index_words_iter(address)\n",
    "print(next(it))\n",
    "print(next(it))"
   ]
  },
  {
   "cell_type": "markdown",
   "id": "coral-progressive",
   "metadata": {},
   "source": [
    "- the `index_words_iter` function is significantly easier to read because all itneractions with the result `list` have been eliminated\n",
    "- results are passed to `yield` expression instead"
   ]
  },
  {
   "cell_type": "markdown",
   "id": "confidential-storm",
   "metadata": {},
   "source": [
    "- you can easily conver a generator to a list"
   ]
  },
  {
   "cell_type": "code",
   "execution_count": 25,
   "id": "typical-encoding",
   "metadata": {},
   "outputs": [
    {
     "name": "stdout",
     "output_type": "stream",
     "text": [
      "[0, 5, 11, 15, 21, 27]\n"
     ]
    }
   ],
   "source": [
    "result = list(index_words_iter(address))\n",
    "print(result[:10])"
   ]
  },
  {
   "cell_type": "markdown",
   "id": "conscious-motivation",
   "metadata": {},
   "source": [
    "- the __second__ proble with the `index_words` is that it requires all results to be stored in the `list` before being returned\n",
    "- in contrast, a generator version of this function can easily be adapted to take inputs of arbitrary lenght due to its bounded memory requirements\n"
   ]
  },
  {
   "cell_type": "code",
   "execution_count": 26,
   "id": "constitutional-haven",
   "metadata": {},
   "outputs": [],
   "source": [
    "def index_file(handle):\n",
    "    offset = 0\n",
    "    for line in handle:\n",
    "        if line:\n",
    "            yield offset\n",
    "        for letter in line:\n",
    "            offset += 1\n",
    "            if letter == ' ':\n",
    "                yield offset"
   ]
  },
  {
   "cell_type": "markdown",
   "id": "numeric-halloween",
   "metadata": {},
   "source": [
    "- the working memeory for this function is limited to the maximum lenght of one line of input"
   ]
  },
  {
   "cell_type": "code",
   "execution_count": 28,
   "id": "vulnerable-declaration",
   "metadata": {},
   "outputs": [],
   "source": [
    "def using_generator_index_file():\n",
    "    with open('address.txt', 'r') as f:\n",
    "        it = index_file(f)\n",
    "        results = itertools.islice(it, 0, 10)\n",
    "        print(list(results))"
   ]
  },
  {
   "cell_type": "markdown",
   "id": "everyday-antigua",
   "metadata": {},
   "source": [
    "- the gotcha with defining generators like this is that the callers must be aware that the iterators returned are stateful and cant be reused"
   ]
  },
  {
   "cell_type": "markdown",
   "id": "excessive-participant",
   "metadata": {},
   "source": [
    "## Item 31: Be Denfensive When Iterating Over Arguments"
   ]
  },
  {
   "cell_type": "markdown",
   "id": "requested-wrist",
   "metadata": {},
   "source": [
    "- imagine you has a function that told you what percentage of the overall turism a city recieves "
   ]
  },
  {
   "cell_type": "code",
   "execution_count": 29,
   "id": "treated-suggestion",
   "metadata": {},
   "outputs": [
    {
     "name": "stdout",
     "output_type": "stream",
     "text": [
      "[11.538461538461538, 26.923076923076923, 61.53846153846154]\n"
     ]
    }
   ],
   "source": [
    "def normalize(numbers):\n",
    "    total = sum(numbers)\n",
    "    result = []\n",
    "    for value in numbers:\n",
    "        percent = 100 * value / total\n",
    "        result.append(percent)\n",
    "    return result\n",
    "\n",
    "visits = [15, 35, 80]\n",
    "percentages = normalize(visits)\n",
    "print(percentages)\n",
    "assert sum(percentages) == 100.0"
   ]
  },
  {
   "cell_type": "markdown",
   "id": "bronze-christian",
   "metadata": {},
   "source": [
    "- to scale this up, we need to be able to read from a text file"
   ]
  },
  {
   "cell_type": "code",
   "execution_count": 31,
   "id": "presidential-quilt",
   "metadata": {},
   "outputs": [],
   "source": [
    "def read_visits(data_path):\n",
    "    with open(data_path) as f:\n",
    "        for line in f:\n",
    "            yield int(line)\n",
    "    \n",
    "# it = read_visits('my_number.txt')\n",
    "# percentage = normalize(it)\n",
    "# print(percentages)\n",
    "\n",
    "# >>>\n",
    "# []"
   ]
  },
  {
   "cell_type": "markdown",
   "id": "affecting-trademark",
   "metadata": {},
   "source": [
    "- the output of the above statement is `[]` because an iterator produces it results only a signle time\n",
    "- if you iterate over an iterator or a generator that has already raised a `StopIteration` exception, you wont get any results the second time around"
   ]
  },
  {
   "cell_type": "markdown",
   "id": "tested-oregon",
   "metadata": {},
   "source": [
    "- to bypass this problem just create a copy of the iterator and iterater through that\n",
    "- `iterator_copy = list(nums)`\n",
    "- downside is that an iterator can be extreemely large and could cause the program to run out of memeory and crash\n",
    "- a workaround is to accept a function that returns a new iterator each time its called"
   ]
  },
  {
   "cell_type": "code",
   "execution_count": 32,
   "id": "empty-wyoming",
   "metadata": {},
   "outputs": [],
   "source": [
    "def normalize_func(get_iter):\n",
    "    total = sum(get_iter()) # New iterator\n",
    "    result = []\n",
    "    for value in get_iter(): # New iterator\n",
    "        percent = 100 * value / total\n",
    "        result.append(precent)\n",
    "    return result\n",
    "\n",
    "# path = 'my_numbers.txt'\n",
    "# percentages = normalize_func(lambda: read_visits(path))\n",
    "# print(percentages)\n",
    "# assert sum(percentages) == 100.0"
   ]
  },
  {
   "cell_type": "markdown",
   "id": "adjusted-tsunami",
   "metadata": {},
   "source": [
    "- to use `normaize_func` we have to pass it a lambda expression that calls the generator to produce a new iterator each time\n",
    "- the lambda function is clumsy and thus a better way to do this is to use the `iterator protocol`"
   ]
  },
  {
   "cell_type": "markdown",
   "id": "superior-polymer",
   "metadata": {},
   "source": [
    "- the `iterator protocol` is how python `for` loops and related expressions traverse the contents of a container type\n",
    "- when python sees a statement like `for x in foo` it acutally calls `iter(foo)`\n",
    "- the `iter` built-in function calls the `foo.__iterator__` special method in turn \n",
    "- the `__iter__` methoth must return and iterator object (which itself implements the `__next__` special method)\n",
    "- then, the `for` loop repeatedly calls the `next` built-in function on the iterator object untill its exhausted (indicated by raising a `StopIteration` exception)"
   ]
  },
  {
   "cell_type": "markdown",
   "id": "banner-browser",
   "metadata": {},
   "source": [
    "- all that to say that you can achieve all of this behavior for you classes by implementing the `__iter__` method as a generator"
   ]
  },
  {
   "cell_type": "code",
   "execution_count": 39,
   "id": "powerful-arthur",
   "metadata": {},
   "outputs": [],
   "source": [
    "class ReadVisits:\n",
    "    def __init__(self, data_path):\n",
    "        self.data_path = data_path\n",
    "        \n",
    "    def __iter__(self):\n",
    "        with open(self.data_path) as f:\n",
    "            for line in f:\n",
    "                yield int(line)\n",
    "                \n",
    "# visits = ReadVisits(path)\n",
    "# percentages = normalize(visits)\n",
    "# print(percentages)\n",
    "# assert sum(percentages) == 100.0"
   ]
  },
  {
   "cell_type": "markdown",
   "id": "rocky-heating",
   "metadata": {},
   "source": [
    "- this works because the `sum` method in `normalize` calls `ReadVisits.__iter__` to allocate new iterator objects\n",
    "- the `for` loop to normalize the numbers also calls `__iter__` to allocate a second iterator object\n",
    "- each of those iterators will be advanced and exhausted independently, ensuring that each unique iterator sees all of the input data values\n",
    "- the donside of this approach is that it reads the input data multiple times"
   ]
  },
  {
   "cell_type": "markdown",
   "id": "fresh-hormone",
   "metadata": {},
   "source": [
    "- now that you know how containers like `ReadVisits` work, you can write your functions and methods to ensure that parameters arent just iterators\n",
    "- the protocal states that when an iterator is passed to the `iter` built-in function, `iter` returns the iterator itself\n",
    "- in contrast, when a container is passed to the `iter`, a new iterator object is returned each time"
   ]
  },
  {
   "cell_type": "markdown",
   "id": "sexual-means",
   "metadata": {},
   "source": [
    "#### Things To Remember"
   ]
  },
  {
   "cell_type": "markdown",
   "id": "present-auditor",
   "metadata": {},
   "source": [
    "- beware of functions and methods that iterate over input arguments multiple time. If these arguments are iterators, you may see strange behavior and missing values\n",
    "- python iterator protocol defines how containers and iterators interact with `iter` and `next` built-in functions `for` loops and related expressions\n",
    "- you can easily define your own iterable container type by implementing the `__iter__` method as a generator\n",
    "- you can detect that a value is an iterator (instead of a container) if calling `iter` on its produces the same value as you passed in. Alternatively you can use the `isinstance` built-in function along with the `collections.abc.Iterator` class"
   ]
  },
  {
   "cell_type": "markdown",
   "id": "governmental-capture",
   "metadata": {},
   "source": [
    "## Item 32: Consider Generator Expressions for Large List Comprehensions"
   ]
  },
  {
   "cell_type": "markdown",
   "id": "dangerous-december",
   "metadata": {},
   "source": [
    "- the problem with `list comprehensions` is that they may create new `list` instances containing one item for each value in the input sequence\n",
    "- for large inputs, this could pose a problem\n",
    "- if I wanted to read a file and return the number of characters on each line, it would require holding the lenght of every line of the file in memory"
   ]
  },
  {
   "cell_type": "markdown",
   "id": "alleged-stage",
   "metadata": {},
   "source": [
    "- to solve this problem, python provides `generator expressions`, which are a generalization of list comprehensions and generators\n",
    "- generator expressions don;t materialize the whole output sequence when they're run\n",
    "- instead, generator expressions evaluate to an iterator that yeilds one itme at a time from the expression"
   ]
  },
  {
   "cell_type": "code",
   "execution_count": 38,
   "id": "lonely-blocking",
   "metadata": {},
   "outputs": [],
   "source": [
    "def compare_comprehensions():\n",
    "    value = [len(x) for x in open('my_file.txt')] \n",
    "    \n",
    "    it = (len(x) for x in open('my_file.txt'))\n",
    "    print(it)"
   ]
  },
  {
   "cell_type": "markdown",
   "id": "divine-separate",
   "metadata": {},
   "source": [
    "- the returned iterator can be advanced one step at a time to produce the next output from the generator expression, as needed\n",
    "- another major benefit of generator expressions is that they can be combined"
   ]
  },
  {
   "cell_type": "code",
   "execution_count": 37,
   "id": "initial-guide",
   "metadata": {},
   "outputs": [],
   "source": [
    "def combine_expressions():\n",
    "    it = (len(x) for x in open('my_file.txt'))\n",
    "    roots = ((x, x**0.5) for x in it)"
   ]
  },
  {
   "cell_type": "markdown",
   "id": "billion-gibson",
   "metadata": {},
   "source": [
    "- each time I advance this iterator, it also advances the interior iterator, creating a domino effect of looping, evaluating expressions and passing around inputs and outputs, all while being as memory effcient as possible"
   ]
  },
  {
   "cell_type": "markdown",
   "id": "healthy-excellence",
   "metadata": {},
   "source": [
    "- the only gotcha is that iterators returned by generators expressions are stateful so you must be careful not to use these iterators more than once"
   ]
  },
  {
   "cell_type": "markdown",
   "id": "cellular-stomach",
   "metadata": {},
   "source": [
    "- Generator expressions execute very quickly when chained together and are memory efficient"
   ]
  },
  {
   "cell_type": "markdown",
   "id": "brilliant-myrtle",
   "metadata": {},
   "source": [
    "## Item 33: Compose Multiple Generators with `yield` from"
   ]
  },
  {
   "cell_type": "markdown",
   "id": "brown-packet",
   "metadata": {},
   "source": [
    "- lets say I have a graphical program that's using generators to animate the movement of images onscreen\n",
    "- to get the visual effect, I need the images to move quickly at first, puase and then continue moving at a slower pace"
   ]
  },
  {
   "cell_type": "code",
   "execution_count": 40,
   "id": "iraqi-campbell",
   "metadata": {},
   "outputs": [],
   "source": [
    "def move(period, speed):\n",
    "    for _ in range(period):\n",
    "        yield speed\n",
    "        \n",
    "def pause(delay):\n",
    "    for _ in range(delay):\n",
    "        yield 0"
   ]
  },
  {
   "cell_type": "markdown",
   "id": "fatty-mitchell",
   "metadata": {},
   "source": [
    "- to create the final animation, I need to combine `move` and `pause` together to produce a single sequence of onscreen deltas\n",
    "- this is done by calling a generator for each step of the animation, iterating over each generator in turn and then yielding the deltas from all of them in sequence"
   ]
  },
  {
   "cell_type": "code",
   "execution_count": 41,
   "id": "seventh-malpractice",
   "metadata": {},
   "outputs": [],
   "source": [
    "def animate():\n",
    "    for delta in move(4, 5.0):\n",
    "        yield delta\n",
    "    for delta in pause(3):\n",
    "        yield delta\n",
    "    for delta in move(2, 3.0):\n",
    "        yield delta"
   ]
  },
  {
   "cell_type": "markdown",
   "id": "collected-lloyd",
   "metadata": {},
   "source": [
    "- now we can render those deltas onscreen as they're produced by the single `animation` generator"
   ]
  },
  {
   "cell_type": "code",
   "execution_count": 43,
   "id": "persistent-coral",
   "metadata": {},
   "outputs": [
    {
     "name": "stdout",
     "output_type": "stream",
     "text": [
      "Delta: 5.0\n",
      "Delta: 5.0\n",
      "Delta: 5.0\n",
      "Delta: 5.0\n",
      "Delta: 0.0\n",
      "Delta: 0.0\n",
      "Delta: 0.0\n",
      "Delta: 3.0\n",
      "Delta: 3.0\n"
     ]
    }
   ],
   "source": [
    "def render(delta):\n",
    "    print(f'Delta: {delta:.1f}')\n",
    "    # move the image on screen\n",
    "    \n",
    "def run(func):\n",
    "    for delta in func():\n",
    "        render(delta)\n",
    "    \n",
    "run(animate)"
   ]
  },
  {
   "cell_type": "markdown",
   "id": "mechanical-device",
   "metadata": {},
   "source": [
    "- the problem with the code above is the repetitive nature of the `animate` function\n",
    "- the reduncancy of the `for` statements and `yield` expressions for each generator add noise and reduces readability\n"
   ]
  },
  {
   "cell_type": "markdown",
   "id": "configured-russian",
   "metadata": {},
   "source": [
    "- the solution is to use the `yield from` expression\n",
    "- this advanced generator feature allows you to `yeild` all values from a nested generator before returning control to the parent generator"
   ]
  },
  {
   "cell_type": "code",
   "execution_count": 44,
   "id": "individual-smell",
   "metadata": {},
   "outputs": [
    {
     "name": "stdout",
     "output_type": "stream",
     "text": [
      "Delta: 5.0\n",
      "Delta: 5.0\n",
      "Delta: 5.0\n",
      "Delta: 5.0\n",
      "Delta: 0.0\n",
      "Delta: 0.0\n",
      "Delta: 0.0\n",
      "Delta: 3.0\n",
      "Delta: 3.0\n"
     ]
    }
   ],
   "source": [
    "def animate_composed():\n",
    "    yield from move(4, 5.0)\n",
    "    yield from pause(3)\n",
    "    yield from move(2, 3.0)\n",
    "    \n",
    "run(animate_composed)"
   ]
  },
  {
   "cell_type": "markdown",
   "id": "silent-hurricane",
   "metadata": {},
   "source": [
    "- `yeild from` causes the Python interperter to handle the nested `for` loop and `yield` expression boilerplate for you, which results in better performance"
   ]
  },
  {
   "cell_type": "markdown",
   "id": "warming-desperate",
   "metadata": {},
   "source": [
    "## Item 34: Avoid Injecting Data into Generators with `send`"
   ]
  },
  {
   "cell_type": "markdown",
   "id": "intelligent-cannon",
   "metadata": {},
   "source": [
    "- `yield` expressions provide generator functions with a simple way to produce an iterable series of output values\n",
    "- this channel appears to be unidirectional, meaning there's no immediately obvious way to simultaneously stream data in and out of a generator ad it runs\n",
    "- having bidirectional communication could be valuable"
   ]
  },
  {
   "cell_type": "markdown",
   "id": "historical-being",
   "metadata": {},
   "source": [
    "- let say I am writing a program to transmit signals using a software-defined radio\n",
    "- the code can work fine for producing basic waveforms but it cnt be used to constantly vary the amplitude of the wave based on a seprate input\n",
    "- we need a way to modulate the amplitude on each iteration of the generator\n",
    "- python generators support the `send` method, which upgrades `yield` expressions into a two-way channel\n",
    "- the `send`  method can be used to provide streaming inputs to a generator at the same time its yeilding outputs\n",
    "- normally when iterating a generator, the value of the yield expression is `None`"
   ]
  },
  {
   "cell_type": "code",
   "execution_count": 46,
   "id": "dominant-january",
   "metadata": {},
   "outputs": [
    {
     "name": "stdout",
     "output_type": "stream",
     "text": [
      "output = 1\n",
      "received = None\n"
     ]
    }
   ],
   "source": [
    "def my_generator():\n",
    "    received = yield 1\n",
    "    print(f'received = {received}')\n",
    "    \n",
    "it = iter(my_generator())\n",
    "output = next(it) # get first generator output\n",
    "print(f'output = {output}')\n",
    "\n",
    "try:\n",
    "    next(it) # Run generator unitl it exits\n",
    "except StopIteration:\n",
    "    pass"
   ]
  },
  {
   "cell_type": "markdown",
   "id": "seeing-symposium",
   "metadata": {},
   "source": [
    "- when we call the `send` method instead of iterating the generator with a for loop or the next built-in function, the supplied parameter becomes the value of the `yield` expression when the generator is resumed\n",
    "- howerver, when the generator first starts, a `yield` expression has not been encountered yet, so the only valid value for calling `send` initially is `None`"
   ]
  },
  {
   "cell_type": "code",
   "execution_count": 49,
   "id": "legislative-interface",
   "metadata": {},
   "outputs": [
    {
     "name": "stdout",
     "output_type": "stream",
     "text": [
      "output = 1\n",
      "received = hello!\n"
     ]
    }
   ],
   "source": [
    "it = iter(my_generator())\n",
    "output = it.send(None) # Get first generator output\n",
    "print(f'output = {output}')\n",
    "\n",
    "try:\n",
    "    it.send('hello!') # send value into iterator output\n",
    "except StopIteration:\n",
    "    pass"
   ]
  },
  {
   "cell_type": "code",
   "execution_count": 54,
   "id": "experienced-consciousness",
   "metadata": {},
   "outputs": [],
   "source": [
    "import math\n",
    "\n",
    "def wave_modulating(steps):\n",
    "    step_size = 2 * math.pi / steps\n",
    "    amplitude = yield # Receive initial amplitude\n",
    "    for step in range(steps):\n",
    "        radians = step * step_size\n",
    "        fraction = math.sin(radians)\n",
    "        output = amplitude * fraction\n",
    "        amplitude = yield output # Receive next amplitude\n",
    "        \n",
    "def run_modulating(it):\n",
    "    amplitudes = [ None, 7, 7, 7, 2, 2, 2, 2, 10, 10, 10, 10, 10]\n",
    "    for amplitude in amplitudes:\n",
    "        output = it.send(amplitude)\n",
    "        transmit(output)\n",
    "\n",
    "# run_modulating(wave_modulating(12))"
   ]
  },
  {
   "cell_type": "markdown",
   "id": "pediatric-greeting",
   "metadata": {},
   "source": [
    "- just avoid the `send` method entirry due to it confusing `None` Relations\n",
    "- the easiest solution is to pass an iterator into the `wave` function\n",
    "- the iterator should return an input amplitude each time the `next` built-in function is called on it"
   ]
  },
  {
   "cell_type": "markdown",
   "id": "documentary-puppy",
   "metadata": {},
   "source": [
    "## Item 35: Avoid Causing State Transitions in Generators with `throw`"
   ]
  },
  {
   "cell_type": "markdown",
   "id": "clear-multimedia",
   "metadata": {},
   "source": [
    "- the `throw` is an andvanced generator feature for re-raising `Exception` instanced within genrator functions\n",
    "- when the method is called, the `next` occurrence of `yeild` expression `re-raises` the provided Exception instance after its output is received instead of continuing normally"
   ]
  },
  {
   "cell_type": "code",
   "execution_count": 55,
   "id": "subtle-grenada",
   "metadata": {},
   "outputs": [
    {
     "name": "stdout",
     "output_type": "stream",
     "text": [
      "1\n",
      "2\n"
     ]
    },
    {
     "ename": "MyError",
     "evalue": "test error",
     "output_type": "error",
     "traceback": [
      "\u001b[1;31m---------------------------------------------------------------------------\u001b[0m",
      "\u001b[1;31mMyError\u001b[0m                                   Traceback (most recent call last)",
      "\u001b[1;32m<ipython-input-55-8301c72fcd63>\u001b[0m in \u001b[0;36m<module>\u001b[1;34m\u001b[0m\n\u001b[0;32m     10\u001b[0m \u001b[0mprint\u001b[0m\u001b[1;33m(\u001b[0m\u001b[0mnext\u001b[0m\u001b[1;33m(\u001b[0m\u001b[0mit\u001b[0m\u001b[1;33m)\u001b[0m\u001b[1;33m)\u001b[0m \u001b[1;31m# Yield 1\u001b[0m\u001b[1;33m\u001b[0m\u001b[1;33m\u001b[0m\u001b[0m\n\u001b[0;32m     11\u001b[0m \u001b[0mprint\u001b[0m\u001b[1;33m(\u001b[0m\u001b[0mnext\u001b[0m\u001b[1;33m(\u001b[0m\u001b[0mit\u001b[0m\u001b[1;33m)\u001b[0m\u001b[1;33m)\u001b[0m \u001b[1;31m# Yield 2\u001b[0m\u001b[1;33m\u001b[0m\u001b[1;33m\u001b[0m\u001b[0m\n\u001b[1;32m---> 12\u001b[1;33m \u001b[0mprint\u001b[0m\u001b[1;33m(\u001b[0m\u001b[0mit\u001b[0m\u001b[1;33m.\u001b[0m\u001b[0mthrow\u001b[0m\u001b[1;33m(\u001b[0m\u001b[0mMyError\u001b[0m\u001b[1;33m(\u001b[0m\u001b[1;34m'test error'\u001b[0m\u001b[1;33m)\u001b[0m\u001b[1;33m)\u001b[0m\u001b[1;33m)\u001b[0m\u001b[1;33m\u001b[0m\u001b[1;33m\u001b[0m\u001b[0m\n\u001b[0m",
      "\u001b[1;32m<ipython-input-55-8301c72fcd63>\u001b[0m in \u001b[0;36mmy_generator\u001b[1;34m()\u001b[0m\n\u001b[0;32m      4\u001b[0m \u001b[1;32mdef\u001b[0m \u001b[0mmy_generator\u001b[0m\u001b[1;33m(\u001b[0m\u001b[1;33m)\u001b[0m\u001b[1;33m:\u001b[0m\u001b[1;33m\u001b[0m\u001b[1;33m\u001b[0m\u001b[0m\n\u001b[0;32m      5\u001b[0m     \u001b[1;32myield\u001b[0m \u001b[1;36m1\u001b[0m\u001b[1;33m\u001b[0m\u001b[1;33m\u001b[0m\u001b[0m\n\u001b[1;32m----> 6\u001b[1;33m     \u001b[1;32myield\u001b[0m \u001b[1;36m2\u001b[0m\u001b[1;33m\u001b[0m\u001b[1;33m\u001b[0m\u001b[0m\n\u001b[0m\u001b[0;32m      7\u001b[0m     \u001b[1;32myield\u001b[0m \u001b[1;36m3\u001b[0m\u001b[1;33m\u001b[0m\u001b[1;33m\u001b[0m\u001b[0m\n\u001b[0;32m      8\u001b[0m \u001b[1;33m\u001b[0m\u001b[0m\n",
      "\u001b[1;31mMyError\u001b[0m: test error"
     ]
    }
   ],
   "source": [
    "class MyError(Exception):\n",
    "    pass\n",
    "\n",
    "def my_generator():\n",
    "    yield 1\n",
    "    yield 2\n",
    "    yield 3\n",
    "    \n",
    "it = my_generator()\n",
    "print(next(it)) # Yield 1\n",
    "print(next(it)) # Yield 2\n",
    "print(it.throw(MyError('test error')))"
   ]
  },
  {
   "cell_type": "markdown",
   "id": "ethical-springfield",
   "metadata": {},
   "source": [
    "- when you call `throw`, the generator function may catch the injected exception with a standard `try/except` compound statement that surrounds the last `yield` expression that was executed"
   ]
  },
  {
   "cell_type": "code",
   "execution_count": 58,
   "id": "polished-worth",
   "metadata": {},
   "outputs": [
    {
     "name": "stdout",
     "output_type": "stream",
     "text": [
      "1\n",
      "2\n",
      "Got MyError!\n",
      "4\n"
     ]
    }
   ],
   "source": [
    "def my_generator():\n",
    "    yield 1\n",
    "    \n",
    "    try:\n",
    "        yield 2\n",
    "    except MyError:\n",
    "        print('Got MyError!')\n",
    "    else:\n",
    "        yield 3\n",
    "    \n",
    "    yield 4\n",
    "    \n",
    "it = my_generator()\n",
    "print(next(it)) # Yield 1\n",
    "print(next(it)) # Yield 2\n",
    "print(it.throw(MyError('test error')))"
   ]
  },
  {
   "cell_type": "markdown",
   "id": "integral-length",
   "metadata": {},
   "source": [
    "- this functionality provides a two-way communication channel between a generator and its caller that can be useful in certain situations\n",
    "- imagine if you want to write a program with a timer that supports sporadic resents\n"
   ]
  },
  {
   "cell_type": "code",
   "execution_count": 60,
   "id": "convenient-monthly",
   "metadata": {},
   "outputs": [],
   "source": [
    "class Reset(Exception):\n",
    "    pass\n",
    "\n",
    "def timer(period):\n",
    "    current = period\n",
    "    while current:\n",
    "        current -= 1\n",
    "        try:\n",
    "            yield current\n",
    "        except Reset:\n",
    "            current = period"
   ]
  },
  {
   "cell_type": "markdown",
   "id": "acting-bradford",
   "metadata": {},
   "source": [
    "- in the code, whenever the `Reset` exception is raised by the `yield` expression, the counter resets itself to its orginal period"
   ]
  },
  {
   "cell_type": "markdown",
   "id": "electoral-instruction",
   "metadata": {},
   "source": [
    "- a simpler approach is to implement this functionality is to define a statrful closure using an iterable container object"
   ]
  },
  {
   "cell_type": "code",
   "execution_count": 63,
   "id": "bronze-compound",
   "metadata": {},
   "outputs": [],
   "source": [
    "class Timer:\n",
    "    def __init__(self, period):\n",
    "        self.current = period\n",
    "        self.period = period\n",
    "        \n",
    "    def reset(self):\n",
    "        self.current = self.period\n",
    "        \n",
    "    def __iter__(self):\n",
    "        while self.current:\n",
    "            self.current -= 1\n",
    "            yield self.current\n",
    "            \n",
    "def run():\n",
    "    timer = Timer(4)\n",
    "    for current in timer:\n",
    "        if check_for_reset():\n",
    "            timer.reset()\n",
    "        announce(current)"
   ]
  },
  {
   "cell_type": "markdown",
   "id": "immune-piano",
   "metadata": {},
   "source": [
    "- the `throw` method can be used to re-raise exceptions within generators at the position of the most recently ececuted `yield` expression\n",
    "- using `throw` harms readability because it requires additional nesting and boilerplate in order to raise and catch exceptions\n",
    "- a better way to provide exceptional behavior in generators is to use a class that implements the `__iter__` method along with methods to cause exceptional state transitions"
   ]
  },
  {
   "cell_type": "markdown",
   "id": "shared-sound",
   "metadata": {},
   "source": [
    "## Item 36: Consider `itertools` for working with Iterators and Generators"
   ]
  },
  {
   "cell_type": "markdown",
   "id": "underlying-favorite",
   "metadata": {},
   "source": [
    "- `itertools` built-in module contains a large number of functions that are useful for organizing and interacting with iterators \n",
    "- `import itertools`\n",
    "- whenever you find yourself dealing with tricky iteration code, its worth looking at itertools documentation"
   ]
  },
  {
   "cell_type": "code",
   "execution_count": 66,
   "id": "charged-moldova",
   "metadata": {},
   "outputs": [],
   "source": [
    "import itertools"
   ]
  },
  {
   "cell_type": "markdown",
   "id": "visible-cleaners",
   "metadata": {},
   "source": [
    "### Linking Iterator Together"
   ]
  },
  {
   "cell_type": "markdown",
   "id": "qualified-trash",
   "metadata": {},
   "source": [
    "__chain__:\n",
    "- use `chain` to combine multiple iterators into a single sequential iterator"
   ]
  },
  {
   "cell_type": "code",
   "execution_count": 67,
   "id": "suitable-richmond",
   "metadata": {},
   "outputs": [
    {
     "name": "stdout",
     "output_type": "stream",
     "text": [
      "[1, 2, 3, 4, 5, 6]\n"
     ]
    }
   ],
   "source": [
    "it = itertools.chain([1, 2, 3], [4, 5, 6])\n",
    "print(list(it))"
   ]
  },
  {
   "cell_type": "markdown",
   "id": "raised-stomach",
   "metadata": {},
   "source": [
    "__repeat__:\n",
    "- use `repeat` to output a single value forever, or use the second parameter to specify a maximum number of times"
   ]
  },
  {
   "cell_type": "code",
   "execution_count": 68,
   "id": "nuclear-joint",
   "metadata": {},
   "outputs": [
    {
     "name": "stdout",
     "output_type": "stream",
     "text": [
      "['hello', 'hello', 'hello']\n"
     ]
    }
   ],
   "source": [
    "it = itertools.repeat('hello', 3)\n",
    "print(list(it))"
   ]
  },
  {
   "cell_type": "markdown",
   "id": "addressed-calvin",
   "metadata": {},
   "source": [
    "__cycle__:\n",
    "- use `cycle` to repeat an iterators items forever"
   ]
  },
  {
   "cell_type": "code",
   "execution_count": 69,
   "id": "banner-member",
   "metadata": {},
   "outputs": [
    {
     "name": "stdout",
     "output_type": "stream",
     "text": [
      "[1, 2, 1, 2, 1, 2, 1, 2, 1, 2]\n"
     ]
    }
   ],
   "source": [
    "it = itertools.cycle([1, 2])\n",
    "result = [next(it) for _ in range(10)]\n",
    "print(result)"
   ]
  },
  {
   "cell_type": "markdown",
   "id": "settled-picnic",
   "metadata": {},
   "source": [
    "__tee__:\n",
    "- use `tee` to split a single iterator into the number of parallel iterators specified by the second parameter\n",
    "- the memory usage of this function will grow if the iterators `dont` progress at the same speed since buffering will be required to enqueue the pending items"
   ]
  },
  {
   "cell_type": "code",
   "execution_count": 72,
   "id": "aboriginal-thanks",
   "metadata": {},
   "outputs": [
    {
     "name": "stdout",
     "output_type": "stream",
     "text": [
      "['first', 'second']\n",
      "['first', 'second']\n",
      "['first', 'second']\n"
     ]
    }
   ],
   "source": [
    "it1, it2, it3 = itertools.tee(['first', 'second'], 3)\n",
    "\n",
    "print(list(it1))\n",
    "print(list(it2))\n",
    "print(list(it3))"
   ]
  },
  {
   "cell_type": "markdown",
   "id": "living-given",
   "metadata": {},
   "source": [
    "__zip longest__:\n",
    "- this variant of the `zip` built-in function returns a placeholder value when an iterator is exhausted, which may happen if iterators have different lenght"
   ]
  },
  {
   "cell_type": "code",
   "execution_count": 75,
   "id": "alternate-prompt",
   "metadata": {},
   "outputs": [
    {
     "name": "stdout",
     "output_type": "stream",
     "text": [
      "zip:  [('one', 1), ('two', 2)]\n",
      "zip_longest [('one', 1), ('two', 2), ('three', 'nope')]\n"
     ]
    }
   ],
   "source": [
    "keys = ['one', 'two', 'three']\n",
    "values = [1, 2]\n",
    "\n",
    "normal = list(zip(keys, values))\n",
    "print('zip: ', normal)\n",
    "\n",
    "it = itertools.zip_longest(keys, values, fillvalue='nope')\n",
    "longest = list(it)\n",
    "print('zip_longest', longest)"
   ]
  },
  {
   "cell_type": "markdown",
   "id": "formed-chorus",
   "metadata": {},
   "source": [
    "### Filtering Items from an Iterator"
   ]
  },
  {
   "cell_type": "markdown",
   "id": "stone-beijing",
   "metadata": {},
   "source": [
    "- the itertools built-in module includes a number of functions for filtering items from an iterator"
   ]
  },
  {
   "cell_type": "markdown",
   "id": "cooperative-bosnia",
   "metadata": {},
   "source": [
    "__islice__:\n",
    "- use `islice` to slice an iterator by numerical indexes without copying\n",
    "- you can specify the end, start and end, or start, end, and step sizes, and the behavior is simmilar to that of standard sequence slicing and striding"
   ]
  },
  {
   "cell_type": "code",
   "execution_count": 77,
   "id": "moderate-elevation",
   "metadata": {},
   "outputs": [
    {
     "name": "stdout",
     "output_type": "stream",
     "text": [
      "First five:  [1, 2, 3, 4, 5]\n",
      "Middle odds: [3, 5, 7]\n"
     ]
    }
   ],
   "source": [
    "values = [1, 2, 3, 4, 5, 6, 7, 8, 9, 10]\n",
    "\n",
    "first_five = itertools.islice(values, 5)\n",
    "print('First five: ', list(first_five))\n",
    "\n",
    "middle_odds = itertools.islice(values, 2, 8, 2)\n",
    "print('Middle odds:', list(middle_odds))"
   ]
  },
  {
   "cell_type": "markdown",
   "id": "annual-holocaust",
   "metadata": {},
   "source": [
    "__takewhile__:\n",
    "- `takewhile` returns items from an iterator untill a predicate function returns `False` for an item"
   ]
  },
  {
   "cell_type": "code",
   "execution_count": 78,
   "id": "decent-community",
   "metadata": {},
   "outputs": [
    {
     "name": "stdout",
     "output_type": "stream",
     "text": [
      "[1, 2, 3, 4, 5, 6]\n"
     ]
    }
   ],
   "source": [
    "values = [1, 2, 3, 4, 5, 6, 7, 8, 9, 10]\n",
    "less_than_seven = lambda x: x < 7\n",
    "it = itertools.takewhile(less_than_seven, values)\n",
    "print(list(it))"
   ]
  },
  {
   "cell_type": "markdown",
   "id": "subsequent-example",
   "metadata": {},
   "source": [
    "__dropwhile__:\n",
    "- `dropwhile` is the oppsite of `takewhile`, skips items from an iterator untill the predicate function returns `True` for the first time"
   ]
  },
  {
   "cell_type": "code",
   "execution_count": 79,
   "id": "inappropriate-subject",
   "metadata": {},
   "outputs": [
    {
     "name": "stdout",
     "output_type": "stream",
     "text": [
      "[7, 8, 9, 10]\n"
     ]
    }
   ],
   "source": [
    "values = [1, 2, 3, 4, 5, 6, 7, 8, 9, 10]\n",
    "less_than_seven = lambda x: x < 7\n",
    "it = itertools.dropwhile(less_than_seven, values)\n",
    "print(list(it))"
   ]
  },
  {
   "cell_type": "markdown",
   "id": "equipped-infrared",
   "metadata": {},
   "source": [
    "__filterfalse__:\n",
    "- `filterfalse`, which is the oppsite of `filter`\n",
    "- it returns all items from an iterator where a predicate function feturns `False`"
   ]
  },
  {
   "cell_type": "code",
   "execution_count": 82,
   "id": "typical-aspect",
   "metadata": {},
   "outputs": [
    {
     "name": "stdout",
     "output_type": "stream",
     "text": [
      "Filter:         [2, 4, 6, 8, 10]\n",
      "Filter false: [1, 3, 5, 7, 9]\n"
     ]
    }
   ],
   "source": [
    "values = [1, 2, 3, 4, 5, 6, 7, 8, 9, 10]\n",
    "evens = lambda x: x % 2 == 0\n",
    "\n",
    "filter_result = filter(evens, values)\n",
    "print('Filter:        ', list(filter_result))\n",
    "\n",
    "filter_false_result = itertools.filterfalse(evens, values)\n",
    "print('Filter false:', list(filter_false_result))"
   ]
  },
  {
   "cell_type": "markdown",
   "id": "advised-boulder",
   "metadata": {},
   "source": [
    "### Producing Combinations of Items from Iterators"
   ]
  },
  {
   "cell_type": "markdown",
   "id": "satisfactory-mediterranean",
   "metadata": {},
   "source": [
    "- `itertools` built-in module includes a number of functions for producing combinations of items from iterators"
   ]
  },
  {
   "cell_type": "markdown",
   "id": "otherwise-motor",
   "metadata": {},
   "source": [
    "__accumulate__:\n",
    "- `accumulate` folds an item from an iterator into a running value by applying a function that takes two parameters\n",
    "- it outputs the current `accumulated result` for each input value"
   ]
  },
  {
   "cell_type": "code",
   "execution_count": 83,
   "id": "figured-carter",
   "metadata": {},
   "outputs": [
    {
     "name": "stdout",
     "output_type": "stream",
     "text": [
      "Sum:    [1, 3, 6, 10, 15, 21, 28, 36, 45, 55]\n",
      "Modulo [1, 3, 6, 10, 15, 1, 8, 16, 5, 15]\n"
     ]
    }
   ],
   "source": [
    "values = [1, 2, 3, 4, 5, 6, 7, 8, 9, 10]\n",
    "sum_reduce = itertools.accumulate(values)\n",
    "print('Sum:   ', list(sum_reduce))\n",
    "\n",
    "def sum_modulo_20(first, second):\n",
    "    output = first + second\n",
    "    return output % 20\n",
    "\n",
    "modulo_reduce = itertools.accumulate(values, sum_modulo_20)\n",
    "print('Modulo', list(modulo_reduce))"
   ]
  },
  {
   "cell_type": "markdown",
   "id": "medical-western",
   "metadata": {},
   "source": [
    "- this is bascially the same as `reduce` functions from `functools` built-in module but withou outputs `yielded` one step at a time\n",
    "- by default it sums the input if no binary function is specified"
   ]
  },
  {
   "cell_type": "markdown",
   "id": "duplicate-cathedral",
   "metadata": {},
   "source": [
    "__product__:\n",
    "- `product` returns the Cartesian product of items from one or more iterators\n",
    "- which is a nice alternative to using deeply nested list comprehensions\n",
    "- simmilar to combination with a fixed `N`"
   ]
  },
  {
   "cell_type": "code",
   "execution_count": 84,
   "id": "large-fruit",
   "metadata": {},
   "outputs": [
    {
     "name": "stdout",
     "output_type": "stream",
     "text": [
      "Single:  [(1, 1), (1, 2), (2, 1), (2, 2)]\n",
      "Multiple:  [(1, 'a'), (1, 'b'), (2, 'a'), (2, 'b')]\n"
     ]
    }
   ],
   "source": [
    "single = itertools.product([1, 2], repeat=2)\n",
    "print('Single: ', list(single))\n",
    "\n",
    "multiple = itertools.product([1, 2], ['a', 'b'])\n",
    "print('Multiple: ', list(multiple))"
   ]
  },
  {
   "cell_type": "markdown",
   "id": "balanced-supplement",
   "metadata": {},
   "source": [
    "__permutations__:\n",
    "- `permutations` returns the unique ordered permutations of lenght `N` with item from an iterator"
   ]
  },
  {
   "cell_type": "code",
   "execution_count": 86,
   "id": "adult-birmingham",
   "metadata": {},
   "outputs": [
    {
     "name": "stdout",
     "output_type": "stream",
     "text": [
      "[(1, 2), (1, 3), (1, 4), (2, 1), (2, 3), (2, 4), (3, 1), (3, 2), (3, 4), (4, 1), (4, 2), (4, 3)]\n"
     ]
    }
   ],
   "source": [
    "it = itertools.permutations([1, 2, 3, 4], 2)\n",
    "print(list(it))"
   ]
  },
  {
   "cell_type": "markdown",
   "id": "interested-drinking",
   "metadata": {},
   "source": [
    "__combinations__:\n",
    "- `combinations` returns an unordered combinations of lenght `N` with repeated items from an iterator"
   ]
  },
  {
   "cell_type": "code",
   "execution_count": 90,
   "id": "modern-interview",
   "metadata": {},
   "outputs": [
    {
     "name": "stdout",
     "output_type": "stream",
     "text": [
      "[(1, 2), (1, 3), (1, 4), (2, 3), (2, 4), (3, 4)]\n"
     ]
    }
   ],
   "source": [
    "it = itertools.combinations([1, 2, 3, 4], 2)\n",
    "print(list(it))"
   ]
  },
  {
   "cell_type": "markdown",
   "id": "direct-sword",
   "metadata": {},
   "source": [
    " __combinations_with_replacement__:\n",
    "- `combinations_with_replacement` is the same as `combinations` but repeated values are allowed\n",
    "- basically permutations with a variable `N`"
   ]
  },
  {
   "cell_type": "code",
   "execution_count": 91,
   "id": "durable-silly",
   "metadata": {},
   "outputs": [
    {
     "name": "stdout",
     "output_type": "stream",
     "text": [
      "[(1, 1), (1, 2), (1, 3), (1, 4), (2, 2), (2, 3), (2, 4), (3, 3), (3, 4), (4, 4)]\n"
     ]
    }
   ],
   "source": [
    "it = itertools.combinations_with_replacement([1, 2, 3, 4], 2)\n",
    "print(list(it))"
   ]
  },
  {
   "cell_type": "markdown",
   "id": "geographic-highland",
   "metadata": {},
   "source": [
    "- The itertools functions fall into three main categories for working with iterators and generators: linking iterators together,"
   ]
  }
 ],
 "metadata": {
  "kernelspec": {
   "display_name": "Python 3",
   "language": "python",
   "name": "python3"
  },
  "language_info": {
   "codemirror_mode": {
    "name": "ipython",
    "version": 3
   },
   "file_extension": ".py",
   "mimetype": "text/x-python",
   "name": "python",
   "nbconvert_exporter": "python",
   "pygments_lexer": "ipython3",
   "version": "3.9.2"
  }
 },
 "nbformat": 4,
 "nbformat_minor": 5
}
