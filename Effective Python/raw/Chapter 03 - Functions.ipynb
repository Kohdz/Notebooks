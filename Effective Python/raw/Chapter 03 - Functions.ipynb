{
 "cells": [
  {
   "cell_type": "markdown",
   "id": "industrial-height",
   "metadata": {},
   "source": [
    "## Item 19: Never Unpack More Than Three Variables When Functions Return Multiple Values"
   ]
  },
  {
   "cell_type": "markdown",
   "id": "bored-bidding",
   "metadata": {},
   "source": [
    "- you can return multiple values as tuples in python\n",
    "- you can use `Catch-All` Unpacking for function return"
   ]
  },
  {
   "cell_type": "markdown",
   "id": "undefined-rental",
   "metadata": {},
   "source": [
    "- using a large number of variables  is error prone, espically if they are numerical\n",
    "- this could be three individual values or 2 individual and one starred\n",
    "- if you need to unpack more than three, your better off using a lightweight `class` or `namedtuple`"
   ]
  },
  {
   "cell_type": "markdown",
   "id": "mediterranean-massage",
   "metadata": {},
   "source": [
    "## Item 20: Perfer Raising Exceptions to Returning `None`"
   ]
  },
  {
   "cell_type": "code",
   "execution_count": 1,
   "id": "demonstrated-emperor",
   "metadata": {},
   "outputs": [],
   "source": [
    "def careful_divide(a: float, b: float) -> float:\n",
    "    '''\n",
    "    Divides a by b.\n",
    "    \n",
    "    Raises:\n",
    "        ValueError: When the inputs cannot be divided\n",
    "    '''\n",
    "    try:\n",
    "        return a / b\n",
    "    except ZeroDivisionError as e:\n",
    "        raise ValueError('Invalid inputs')    "
   ]
  },
  {
   "cell_type": "markdown",
   "id": "portuguese-valley",
   "metadata": {},
   "source": [
    "## Item 21: Know How Closures Interact with Variable Scope"
   ]
  },
  {
   "cell_type": "markdown",
   "id": "meaningful-scheme",
   "metadata": {},
   "source": [
    "- python supports __closure__: meaning functions refer to variables from the scope in which they were defined\n",
    "- Functions are `first-class` objects in python, meaning you can refer to them directly, assign them to variables, pass them as arguments to other functions, compare them in expressions and `if` statements\n",
    "- this is why you can pass closure functions as the `key` argument"
   ]
  },
  {
   "cell_type": "markdown",
   "id": "hungry-impossible",
   "metadata": {},
   "source": [
    "- when you refrence a variable  in an expression, python interpreter traverses the scope to resolve the reference in order\n",
    "    1. the current functions scope\n",
    "    2. any enclosing scopes (such as other containing functions)\n",
    "    3. the scope of the module that contains the code (also called the `global scope`)\n",
    "    4. the built-in scope (that contains functions like `len` and `str`)\n",
    "- if none of these places are defined a variable with the referenced name, then a `NameError` exception is raised"
   ]
  },
  {
   "cell_type": "markdown",
   "id": "encouraging-montreal",
   "metadata": {},
   "source": [
    "- in the code below, `found` will never change to true because `nonlocal` is not used"
   ]
  },
  {
   "cell_type": "code",
   "execution_count": 3,
   "id": "continuous-congo",
   "metadata": {},
   "outputs": [],
   "source": [
    "def sort_priority2(numbers, group):\n",
    "    found = False\n",
    "    def helper(x):\n",
    "        if x in group:\n",
    "            found = True # Seems simple\n",
    "            return (0, x)\n",
    "        return (1, x)\n",
    "    numbers.sort(key=helper)\n",
    "    return found"
   ]
  },
  {
   "cell_type": "markdown",
   "id": "entire-trigger",
   "metadata": {},
   "source": [
    "- python treats closure variables as new variables even if they have the same name as a global variable\n",
    "- in Python, there is a special syntax for getting data out of a closure, and as mentioned it is `nonlocal`\n",
    "- the limit on `nonlocal` is it wont traverse up the module-level scope \n",
    "- dont use `nonlocal` for anything but simple function"
   ]
  },
  {
   "cell_type": "markdown",
   "id": "adequate-cleaning",
   "metadata": {},
   "source": [
    "- when `nonlocal` starts getting complicated, its better to wrap your state in a helper class"
   ]
  },
  {
   "cell_type": "code",
   "execution_count": 6,
   "id": "according-spectacular",
   "metadata": {},
   "outputs": [],
   "source": [
    "class Sorter:\n",
    "    def __init__(self, group):\n",
    "        self.group = group\n",
    "        self.found = False\n",
    "        \n",
    "    def __call__(self, x):\n",
    "        if x in self.group:\n",
    "            self.found = True\n",
    "            return (0, x)\n",
    "        return (1, x)\n",
    "\n",
    "numbers = [8, 3, 1, 2, 5, 4, 7, 6]\n",
    "group = {2, 3, 5, 7}\n",
    "\n",
    "sorter = Sorter(group)\n",
    "numbers.sort(key=sorter)\n",
    "assert sorter.found is True"
   ]
  },
  {
   "cell_type": "markdown",
   "id": "invalid-answer",
   "metadata": {},
   "source": [
    "## Item 22: Reduce Visual Nosie with Variable Positional Arguments"
   ]
  },
  {
   "cell_type": "markdown",
   "id": "growing-offer",
   "metadata": {},
   "source": [
    "- accepting a variable number of positional arguments can reduce noise `*args`\n",
    "- if you pass a `list` using `*`, then it will pass each element in the list as a seprate element"
   ]
  },
  {
   "cell_type": "code",
   "execution_count": 9,
   "id": "intense-copyright",
   "metadata": {},
   "outputs": [
    {
     "name": "stdout",
     "output_type": "stream",
     "text": [
      "My numbers are: 1, 2\n",
      "Hi there\n"
     ]
    }
   ],
   "source": [
    "def log(message, *values):\n",
    "    if not values:\n",
    "        print(message)\n",
    "    else:\n",
    "        values_str = ', '.join(str(x) for x in values)\n",
    "        print(f'{message}: {values_str}')\n",
    "        \n",
    "log('My numbers are', 1, 2)\n",
    "log('Hi there') # Much better"
   ]
  },
  {
   "cell_type": "markdown",
   "id": "expired-degree",
   "metadata": {},
   "source": [
    "- the __first issue__ with accpeting a variable number of possible arguments is that these optional positional arguments are always turned into a `tuple` before they are passed to a function\n",
    "- this means that if the caller of a function uses the `*` operator on a generator, it will be iterated untill it's exhausted\n",
    "- the resulting tuple includes every value from the generator, which could consume alot of memory and cause the program to crash"
   ]
  },
  {
   "cell_type": "code",
   "execution_count": 18,
   "id": "imposed-swedish",
   "metadata": {},
   "outputs": [
    {
     "name": "stdout",
     "output_type": "stream",
     "text": [
      "(0, 1, 2, 3, 4, 5, 6, 7, 8, 9)\n"
     ]
    }
   ],
   "source": [
    "def my_generator():\n",
    "    for i in range(10):\n",
    "        yield i\n",
    "        \n",
    "def my_func(*args):\n",
    "    print(args)\n",
    "    \n",
    "it = my_generator()\n",
    "my_func(*it)\n"
   ]
  },
  {
   "cell_type": "markdown",
   "id": "humanitarian-wrapping",
   "metadata": {},
   "source": [
    "- functions that accept `*args` are best for situations where you know the number of inputs in the argument list will be reasonably small"
   ]
  },
  {
   "cell_type": "markdown",
   "id": "severe-pledge",
   "metadata": {},
   "source": [
    "- the __second__ issue with `*args` is that you cant add new positional arguments to a function in the future without migrating every caller"
   ]
  },
  {
   "cell_type": "markdown",
   "id": "surface-evans",
   "metadata": {},
   "source": [
    "## Item 23: Provide Optional Behavior with Keyword Arguments"
   ]
  },
  {
   "cell_type": "code",
   "execution_count": 23,
   "id": "reliable-gilbert",
   "metadata": {},
   "outputs": [],
   "source": [
    "def remainder(number, divisor):\n",
    "    return number % divisor"
   ]
  },
  {
   "cell_type": "markdown",
   "id": "bored-product",
   "metadata": {},
   "source": [
    "- if you already have a dictionary and you want to use its contents to call a function like `remainder` you can do this by using the `**` operator"
   ]
  },
  {
   "cell_type": "code",
   "execution_count": 29,
   "id": "lesbian-environment",
   "metadata": {},
   "outputs": [],
   "source": [
    "my_kwargs = {\n",
    "    'number': 20, \n",
    "    'divisor': 7\n",
    "}\n",
    "\n",
    "assert remainder(**my_kwargs) == 6"
   ]
  },
  {
   "cell_type": "markdown",
   "id": "phantom-venezuela",
   "metadata": {},
   "source": [
    "- you can mix and match the operator or use multiple `**kwargs`"
   ]
  },
  {
   "cell_type": "code",
   "execution_count": 33,
   "id": "proud-kitchen",
   "metadata": {},
   "outputs": [],
   "source": [
    "my_kwargs = {\n",
    " 'divisor': 7,\n",
    "}\n",
    "\n",
    "assert remainder(number=20, **my_kwargs) == 6\n",
    "\n",
    "my_kwargs = {\n",
    " 'number': 20,\n",
    "}\n",
    "\n",
    "other_kwargs = {\n",
    " 'divisor': 7,\n",
    "}\n",
    "assert remainder(**my_kwargs, **other_kwargs) == 6"
   ]
  },
  {
   "cell_type": "markdown",
   "id": "variable-century",
   "metadata": {},
   "source": [
    "- first benefit is that keyword arguments make the function call clearer to new readers of the code\n",
    "    - with the `keyword` arguments, `number=20` and `divisor=7` make it immediately obvious which parameter is being used for each purpose\n",
    "- the second benefit of keyword arguments is that they can have default values specified in the function definition and thus eliminates repetitive code\n",
    "- the thid reason to use keyword arguments is that they provide a powerful way to extend a functions parameters while remaining backword compatible with existing callers\n",
    "    - this means you can provide additional functionality without having to migrate alot of existing code"
   ]
  },
  {
   "cell_type": "markdown",
   "id": "floppy-vintage",
   "metadata": {},
   "source": [
    "- optional keyword arguments should always be passed by keyword instead of by position"
   ]
  },
  {
   "cell_type": "markdown",
   "id": "supported-renewal",
   "metadata": {},
   "source": [
    "## Item 24: Use `None` and Docstrings to Specify Dynamic Default Arguments"
   ]
  },
  {
   "cell_type": "markdown",
   "id": "offensive-filling",
   "metadata": {},
   "source": [
    "- sometimes you need to use a non-static type as a keyword argument's default value\n",
    "- for example if I want to print logging messages that are marked with the time of the logged event\n",
    "- in the default case, I want the message to include the time when then function was called\n",
    "- I might use the following approach"
   ]
  },
  {
   "cell_type": "code",
   "execution_count": 35,
   "id": "covered-orlando",
   "metadata": {},
   "outputs": [
    {
     "name": "stdout",
     "output_type": "stream",
     "text": [
      "2021-04-12 08:37:12.308404: Hi there!\n",
      "2021-04-12 08:37:12.308404: Hello again!\n"
     ]
    }
   ],
   "source": [
    "from time import sleep\n",
    "from datetime import datetime\n",
    "\n",
    "def log(message, when=datetime.now()):\n",
    "    print(f'{when}: {message}')\n",
    "    \n",
    "log('Hi there!')\n",
    "sleep(0.1)\n",
    "log('Hello again!')"
   ]
  },
  {
   "cell_type": "markdown",
   "id": "suspected-nickname",
   "metadata": {},
   "source": [
    "- the code above does not work as intended because the time stamps are the same\n",
    "- that is because `datetime.now` is executed only a single time, when the function is defined\n",
    "- a default argument value is evaluated only once per module load\n",
    "- after the module containing the code is loaded, the `datetime.now()` default argument will never be evaluated again"
   ]
  },
  {
   "cell_type": "markdown",
   "id": "southern-holly",
   "metadata": {},
   "source": [
    "- in python we address this by providing a default value of `None` and to the document the actual behavior"
   ]
  },
  {
   "cell_type": "code",
   "execution_count": 37,
   "id": "vanilla-mountain",
   "metadata": {},
   "outputs": [
    {
     "name": "stdout",
     "output_type": "stream",
     "text": [
      "2021-04-12 08:41:49.145273: Hi there!\n",
      "2021-04-12 08:41:49.249204: Hello again!\n"
     ]
    }
   ],
   "source": [
    "def log(message, when=None):\n",
    "    \"\"\"\n",
    "    Log a message with a timestamp\n",
    "    \n",
    "    Args:\n",
    "        message: Message to print.\n",
    "        when: datetime of when the message occurred.\n",
    "            Defaults to the present time.\n",
    "    \"\"\"\n",
    "    if when is None:\n",
    "        when = datetime.now()\n",
    "    print(f'{when}: {message}')\n",
    "\n",
    "log('Hi there!')\n",
    "sleep(0.1)\n",
    "log('Hello again!')"
   ]
  },
  {
   "cell_type": "markdown",
   "id": "laughing-damage",
   "metadata": {},
   "source": [
    "- using the `None` default aregument is espically important when the arguments are mutable\n",
    "- for example, say I want to load a value encoded as `JSON` data\n",
    "- if decoding the data fails, I want an empty dictionary to be returned"
   ]
  },
  {
   "cell_type": "code",
   "execution_count": 41,
   "id": "hawaiian-explanation",
   "metadata": {},
   "outputs": [
    {
     "name": "stdout",
     "output_type": "stream",
     "text": [
      "Foo: {'stuff': 5, 'meep': 1}\n",
      "Bar: {'stuff': 5, 'meep': 1}\n"
     ]
    }
   ],
   "source": [
    "import json\n",
    "\n",
    "def decode(data, default={}):\n",
    "    try:\n",
    "        return json.loads(data)\n",
    "    except ValueError:\n",
    "        return default\n",
    "    \n",
    "foo = decode('bad data')\n",
    "foo['stuff'] = 5\n",
    "bar = decode('also bad')\n",
    "bar['meep'] = 1\n",
    "print('Foo:', foo)\n",
    "print('Bar:', bar)\n"
   ]
  },
  {
   "cell_type": "markdown",
   "id": "theoretical-sessions",
   "metadata": {},
   "source": [
    "- the problem above is the same as the `datetime.now` example\n",
    "- the dectionary specified for `default ` will be shared by all calls to `decode` because `default` argument values are evaluated only one\n",
    "- you might have expected two different dictionaries, but modifying one modifes the other one"
   ]
  },
  {
   "cell_type": "code",
   "execution_count": 42,
   "id": "excessive-vatican",
   "metadata": {},
   "outputs": [
    {
     "name": "stdout",
     "output_type": "stream",
     "text": [
      "Foo: {'stuff': 5}\n",
      "Bar: {'meep': 1}\n"
     ]
    }
   ],
   "source": [
    "def decode(data, default=None):\n",
    "    \"\"\"\n",
    "    Load JSON data from a string\n",
    "    \n",
    "    Args:\n",
    "        data: JSON data to decode\n",
    "        default: Value to return if decoding fails\n",
    "            Defaults to an empty dictionary\n",
    "    \"\"\"\n",
    "    try:\n",
    "        return json.loads(data)\n",
    "    except ValueError:\n",
    "        if default is None:\n",
    "            default = {}\n",
    "        return default\n",
    "    \n",
    "foo = decode('bad data')\n",
    "foo['stuff'] = 5\n",
    "bar = decode('also bad')\n",
    "bar['meep'] = 1\n",
    "print('Foo:', foo)\n",
    "print('Bar:', bar)\n",
    "assert foo is not bar"
   ]
  },
  {
   "cell_type": "code",
   "execution_count": 43,
   "id": "scientific-pendant",
   "metadata": {},
   "outputs": [],
   "source": [
    "from typing import Optional\n",
    "\n",
    "def log_typed(message: str, when: Optional[datetime]=None) -> None: \n",
    "    \"\"\" Log a message with a timestamp\n",
    "    \n",
    "    Args:\n",
    "        message: Message to print\n",
    "        when: datetime of when the message occurred.\n",
    "            Defaults to the present time\n",
    "    \"\"\"\n",
    "    if when is None:\n",
    "        when = datetime.now()\n",
    "    print(f'{when}: {message}')"
   ]
  },
  {
   "cell_type": "markdown",
   "id": "dental-finance",
   "metadata": {},
   "source": [
    "## Item 25: Enforce Clarity with Keyword-Only and Postional-Only Arguments"
   ]
  },
  {
   "cell_type": "markdown",
   "id": "mysterious-dairy",
   "metadata": {},
   "source": [
    "- when you have complex behavior in a function and the the caller can use any parameters, it might be a good idea to enforce things\n",
    "- we can redefine a function to accept keyword-only arguments\n",
    "- the `*` symbol in the argument list indicates the end of positional arguments and the beginning of keyword-onyl arguments"
   ]
  },
  {
   "cell_type": "code",
   "execution_count": 45,
   "id": "acceptable-foster",
   "metadata": {},
   "outputs": [],
   "source": [
    "def safe_division(number, divisor, *,\n",
    "                        ignore_overflow,\n",
    "                        ignore_zero_division):\n",
    "    try:\n",
    "        return number / divisor\n",
    "    except OverflowError:\n",
    "        if ignore_overflow:\n",
    "            return 0\n",
    "        else:\n",
    "            raise\n",
    "    except ZeroDivisionError:\n",
    "        if ignore_zero_division:\n",
    "            return float('inf')\n",
    "        else:\n",
    "            raise\n",
    "            \n",
    "# this will no longer work\n",
    "# safe_division(1.0, 10*500, True, False)\n",
    "\n",
    "# this will work\n",
    "safe_division(1.0, 0, ignore_zero_division=True)"
   ]
  },
  {
   "cell_type": "markdown",
   "id": "authorized-simpson",
   "metadata": {},
   "source": [
    "- but even that is not good because callers may specifiy the first two required arguments (`number` and `divisor`) with a mix of postions and keywords\n",
    "- python offers a solution called `postional-only` arguments\n",
    "- these arguments can be supplied only by position and never by keyword (oppiste of the keyword only example above)"
   ]
  },
  {
   "cell_type": "markdown",
   "id": "proud-better",
   "metadata": {},
   "source": [
    "- the symbol `/` in the argument lsit indicates where positional-only arguments end"
   ]
  },
  {
   "cell_type": "code",
   "execution_count": 49,
   "id": "exact-touch",
   "metadata": {},
   "outputs": [],
   "source": [
    "def safe_division_d(numerator, denominator, /, *, # Changed\n",
    "                     ignore_overflow=False,\n",
    "                     ignore_zero_division=False):\n",
    "    pass"
   ]
  },
  {
   "cell_type": "markdown",
   "id": "ranging-newsletter",
   "metadata": {},
   "source": [
    "- in the above example, you cannot do this\n",
    "    - `safe_division_d(numerator=2, denominator=5)`\n",
    "- but you have to do this\n",
    "    - `ignore_overflow=False, ignore_zero_division=False`"
   ]
  },
  {
   "cell_type": "markdown",
   "id": "existing-rating",
   "metadata": {},
   "source": [
    "- a problem still exists where between the `/` and the `*`, you can arguments may be passed either by position or keyword"
   ]
  },
  {
   "cell_type": "markdown",
   "id": "traditional-testament",
   "metadata": {},
   "source": [
    "## Item 26: Define Function Decorators with `functools.wrap`"
   ]
  },
  {
   "cell_type": "markdown",
   "id": "abandoned-perfume",
   "metadata": {},
   "source": [
    "- a decorator has the baility to run additional code before and after each call to a function it wraps"
   ]
  },
  {
   "cell_type": "code",
   "execution_count": 53,
   "id": "exciting-banner",
   "metadata": {},
   "outputs": [],
   "source": [
    "def trace(func):\n",
    "    def wrapper(*args, **kwargs):\n",
    "        result = func(*args, **kwargs)\n",
    "        print(f'{func.__name__}({args!r}, {kwargs!r}) '\n",
    "              f'-> {result!r}')\n",
    "        return result\n",
    "    return wrapper\n",
    "    \n",
    "@trace\n",
    "def fibonacci(n):\n",
    "    \"\"\"Return the n-th Fibonacci number\"\"\"\n",
    "    if n in (0, 1):\n",
    "        return n\n",
    "    return (fibonacci(n-2) + fibonacci(n-1))"
   ]
  },
  {
   "cell_type": "markdown",
   "id": "micro-wisconsin",
   "metadata": {},
   "source": [
    "- using the `@` symbol is equivalent to calling the decorator on the function it wraps and assigning the return value to the orginal name in the same scope\n",
    "- the decorator function runs the wrapper code before and after fibonacci runs\n",
    "- it prings the arguments anf return value at each level in the recursive stack"
   ]
  },
  {
   "cell_type": "markdown",
   "id": "swiss-report",
   "metadata": {},
   "source": [
    "- the one issue with a wrapper is that if you use `print(fibonacci)`  you dont get `fibonacci` but rather `trace`\n",
    "- the `trace` function returns the wrapper defined within its body\n",
    "- the wrapper function is whats assigned to the `fibonacci` name in the containing module because of the decorator\n",
    "- object serializers brake because they cant determine the location of the orginal fucntion that was decorated"
   ]
  },
  {
   "cell_type": "markdown",
   "id": "accurate-university",
   "metadata": {},
   "source": [
    "- the solution is to use the `wraps` helper from the `functools` module\n",
    "- this is a decorator that helps you write decorators\n",
    "- when you apply it, it copies all of the important metadata about the inner function to the outter function"
   ]
  },
  {
   "cell_type": "code",
   "execution_count": 54,
   "id": "owned-virus",
   "metadata": {},
   "outputs": [],
   "source": [
    "from functools import wraps\n",
    "\n",
    "def trace(func):\n",
    "    @wraps(func)\n",
    "    def wrapper(args, *kwargs):\n",
    "        pass\n",
    "    return wrapper\n",
    "\n",
    "@trace\n",
    "def fibonacci(n):\n",
    "    pass"
   ]
  },
  {
   "cell_type": "markdown",
   "id": "dependent-albany",
   "metadata": {},
   "source": [
    "- Use the wraps decorator from the functools built-in module when you define your own decorators to avoid issues"
   ]
  }
 ],
 "metadata": {
  "kernelspec": {
   "display_name": "Python 3",
   "language": "python",
   "name": "python3"
  },
  "language_info": {
   "codemirror_mode": {
    "name": "ipython",
    "version": 3
   },
   "file_extension": ".py",
   "mimetype": "text/x-python",
   "name": "python",
   "nbconvert_exporter": "python",
   "pygments_lexer": "ipython3",
   "version": "3.9.2"
  }
 },
 "nbformat": 4,
 "nbformat_minor": 5
}
