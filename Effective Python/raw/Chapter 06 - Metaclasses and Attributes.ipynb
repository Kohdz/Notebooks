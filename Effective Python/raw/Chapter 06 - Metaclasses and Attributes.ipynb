{
 "cells": [
  {
   "cell_type": "markdown",
   "id": "hindu-pharmacy",
   "metadata": {},
   "source": [
    "## Overview"
   ]
  },
  {
   "cell_type": "markdown",
   "id": "technical-sandwich",
   "metadata": {},
   "source": [
    "- Metaclasses let you intercept Pythons `class` statement and provide special behavior each time a class is defined\n",
    "- Pythons built-in features for dynamically customizing attribute access provide wounderful tools to ease the transition from simple classes to complex ones"
   ]
  },
  {
   "cell_type": "markdown",
   "id": "stuck-newspaper",
   "metadata": {},
   "source": [
    "- Dynamic attributes enable you to override objects and cause unexpected side effects\n",
    "- metaclasses can create extremely bizarre behaviors that are unapproachable to newcomers"
   ]
  },
  {
   "cell_type": "markdown",
   "id": "wicked-pocket",
   "metadata": {},
   "source": [
    "## Item 44 Use Plain Attributes Instead of Setter and Getter Methods"
   ]
  },
  {
   "cell_type": "code",
   "execution_count": 1,
   "id": "photographic-virus",
   "metadata": {},
   "outputs": [
    {
     "name": "stdout",
     "output_type": "stream",
     "text": [
      "Before: 50000.0\n",
      "After:  10000.0\n"
     ]
    }
   ],
   "source": [
    "class OldResistor:\n",
    "    def __init__(self, ohms):\n",
    "        self._ohms = ohms\n",
    "        \n",
    "    def get_ohms(self):\n",
    "        return self._ohms\n",
    "    \n",
    "    def set_ohms(self, ohms):\n",
    "        self._ohms = ohms\n",
    "        \n",
    "r0 = OldResistor(50e3)\n",
    "print('Before:', r0.get_ohms())\n",
    "r0.set_ohms(10e3)\n",
    "print('After: ', r0.get_ohms())"
   ]
  },
  {
   "cell_type": "markdown",
   "id": "adjustable-grant",
   "metadata": {},
   "source": [
    "- such methods are especially clumsy for operations like incrementing in place"
   ]
  },
  {
   "cell_type": "code",
   "execution_count": 2,
   "id": "fitting-bones",
   "metadata": {},
   "outputs": [],
   "source": [
    "r0.set_ohms(r0.get_ohms() - 4e3)\n",
    "assert r0.get_ohms() == 6e3"
   ]
  },
  {
   "cell_type": "markdown",
   "id": "interested-rocket",
   "metadata": {},
   "source": [
    "- these utility methods do, howerver, help the interface for a class, making it easier to encapsulate functionality, validate usage, and define boundaries\n",
    "- those are important goals when desigdesigning a class to ensure that you don't break callers as the class evolves over time"
   ]
  },
  {
   "cell_type": "markdown",
   "id": "dominant-hands",
   "metadata": {},
   "source": [
    "- in Python, howerver, you never need to implement explicit setter or getter methods\n",
    "- instead you should always start your implementations with sime public attributes"
   ]
  },
  {
   "cell_type": "code",
   "execution_count": 3,
   "id": "offensive-absolute",
   "metadata": {},
   "outputs": [],
   "source": [
    "class Resistor:\n",
    "    def __init__(self, ohms):\n",
    "        self.ohms = ohms\n",
    "        self.voltage = 0\n",
    "        self.current = 0\n",
    "        \n",
    "r1 = Resistor(50e3)\n",
    "r1.ohms = 10e3"
   ]
  },
  {
   "cell_type": "markdown",
   "id": "sharp-austin",
   "metadata": {},
   "source": [
    "- these attributes make operations like incrementing in place natural and clear"
   ]
  },
  {
   "cell_type": "code",
   "execution_count": 4,
   "id": "logical-filter",
   "metadata": {},
   "outputs": [],
   "source": [
    "r1.ohms += 5e3"
   ]
  },
  {
   "cell_type": "markdown",
   "id": "sacred-harris",
   "metadata": {},
   "source": [
    "- later if I decide I need special behavior when an attribute is set, I can migrate to the `@property` decorator and its corresponding `setter` attributes\n",
    "- below we define a new subclass of Resistor that lets me vary the current by assigning the voltage property\n",
    "- note in order for this code to work properly, the names of both the setter and the getter methods must match the intended property name"
   ]
  },
  {
   "cell_type": "code",
   "execution_count": 5,
   "id": "historic-accounting",
   "metadata": {},
   "outputs": [],
   "source": [
    "class VoltageResistance(Resistor):\n",
    "    def __init__(self, ohms):\n",
    "        super().__init__(ohms)\n",
    "        self._voltage = 0\n",
    "        \n",
    "    @property\n",
    "    def voltage(self):\n",
    "        return self._voltage\n",
    "    \n",
    "    @voltage.setter\n",
    "    def voltage(self, voltage):\n",
    "        self._voltage = voltage\n",
    "        self.current = self._voltage / self.ohms"
   ]
  },
  {
   "cell_type": "markdown",
   "id": "coordinated-bread",
   "metadata": {},
   "source": [
    "- now assigning the voltage property will run the voltage setter method, which in turn will update the current attribute of the object to match"
   ]
  },
  {
   "cell_type": "code",
   "execution_count": 6,
   "id": "pursuant-johnson",
   "metadata": {},
   "outputs": [
    {
     "name": "stdout",
     "output_type": "stream",
     "text": [
      "Before: 0.00 amps\n",
      "After: 0.01 amps\n"
     ]
    }
   ],
   "source": [
    "r2 = VoltageResistance(1e3)\n",
    "print(f'Before: {r2.current:.2f} amps')\n",
    "r2.voltage = 10\n",
    "print(f'After: {r2.current:.2f} amps')"
   ]
  },
  {
   "cell_type": "markdown",
   "id": "occupied-confusion",
   "metadata": {},
   "source": [
    "- specifying a `setter` on a property also enables me to perform type checking and validation on values passed to the class"
   ]
  },
  {
   "cell_type": "code",
   "execution_count": 7,
   "id": "baking-portland",
   "metadata": {},
   "outputs": [
    {
     "ename": "ValueError",
     "evalue": "ohms must be > 0; got 0",
     "output_type": "error",
     "traceback": [
      "\u001b[1;31m---------------------------------------------------------------------------\u001b[0m",
      "\u001b[1;31mValueError\u001b[0m                                Traceback (most recent call last)",
      "\u001b[1;32m<ipython-input-7-dff0c4f8d6eb>\u001b[0m in \u001b[0;36m<module>\u001b[1;34m\u001b[0m\n\u001b[0;32m     14\u001b[0m \u001b[1;33m\u001b[0m\u001b[0m\n\u001b[0;32m     15\u001b[0m \u001b[0mr3\u001b[0m \u001b[1;33m=\u001b[0m \u001b[0mBoundedResistance\u001b[0m\u001b[1;33m(\u001b[0m\u001b[1;36m1e3\u001b[0m\u001b[1;33m)\u001b[0m\u001b[1;33m\u001b[0m\u001b[1;33m\u001b[0m\u001b[0m\n\u001b[1;32m---> 16\u001b[1;33m \u001b[0mr3\u001b[0m\u001b[1;33m.\u001b[0m\u001b[0mohms\u001b[0m \u001b[1;33m=\u001b[0m \u001b[1;36m0\u001b[0m\u001b[1;33m\u001b[0m\u001b[1;33m\u001b[0m\u001b[0m\n\u001b[0m",
      "\u001b[1;32m<ipython-input-7-dff0c4f8d6eb>\u001b[0m in \u001b[0;36mohms\u001b[1;34m(self, ohms)\u001b[0m\n\u001b[0;32m     10\u001b[0m     \u001b[1;32mdef\u001b[0m \u001b[0mohms\u001b[0m\u001b[1;33m(\u001b[0m\u001b[0mself\u001b[0m\u001b[1;33m,\u001b[0m \u001b[0mohms\u001b[0m\u001b[1;33m)\u001b[0m\u001b[1;33m:\u001b[0m\u001b[1;33m\u001b[0m\u001b[1;33m\u001b[0m\u001b[0m\n\u001b[0;32m     11\u001b[0m         \u001b[1;32mif\u001b[0m \u001b[0mohms\u001b[0m \u001b[1;33m<=\u001b[0m \u001b[1;36m0\u001b[0m\u001b[1;33m:\u001b[0m\u001b[1;33m\u001b[0m\u001b[1;33m\u001b[0m\u001b[0m\n\u001b[1;32m---> 12\u001b[1;33m             \u001b[1;32mraise\u001b[0m \u001b[0mValueError\u001b[0m\u001b[1;33m(\u001b[0m\u001b[1;34mf'ohms must be > 0; got {ohms}'\u001b[0m\u001b[1;33m)\u001b[0m\u001b[1;33m\u001b[0m\u001b[1;33m\u001b[0m\u001b[0m\n\u001b[0m\u001b[0;32m     13\u001b[0m         \u001b[0mself\u001b[0m\u001b[1;33m.\u001b[0m\u001b[0m_ohms\u001b[0m \u001b[1;33m=\u001b[0m \u001b[0mohms\u001b[0m\u001b[1;33m\u001b[0m\u001b[1;33m\u001b[0m\u001b[0m\n\u001b[0;32m     14\u001b[0m \u001b[1;33m\u001b[0m\u001b[0m\n",
      "\u001b[1;31mValueError\u001b[0m: ohms must be > 0; got 0"
     ]
    }
   ],
   "source": [
    "class BoundedResistance(Resistor):\n",
    "    def __init__(self, ohms):\n",
    "        super().__init__(ohms)\n",
    "        \n",
    "    @property\n",
    "    def ohms(self):\n",
    "        return self._ohms\n",
    "    \n",
    "    @ohms.setter\n",
    "    def ohms(self, ohms):\n",
    "        if ohms <= 0:\n",
    "            raise ValueError(f'ohms must be > 0; got {ohms}')\n",
    "        self._ohms = ohms\n",
    "        \n",
    "r3 = BoundedResistance(1e3)\n",
    "r3.ohms = 0"
   ]
  },
  {
   "cell_type": "markdown",
   "id": "sticky-victor",
   "metadata": {},
   "source": [
    "- this happens because `BoundedResistance.__init__` calls `Resistor.__init__`, which assigns `self.ohms = -5`\n",
    "    - the assignment causes the `@ohms.setter` method from `BoundedResistance` to be called and it immediately runs the validation code before objec construction has completed"
   ]
  },
  {
   "cell_type": "markdown",
   "id": "billion-mailman",
   "metadata": {},
   "source": [
    "- we can even use `@property` to make attributes from parent classes immutable"
   ]
  },
  {
   "cell_type": "code",
   "execution_count": 9,
   "id": "unique-treaty",
   "metadata": {},
   "outputs": [
    {
     "ename": "AttributeError",
     "evalue": "Ohms is immatuble",
     "output_type": "error",
     "traceback": [
      "\u001b[1;31m---------------------------------------------------------------------------\u001b[0m",
      "\u001b[1;31mAttributeError\u001b[0m                            Traceback (most recent call last)",
      "\u001b[1;32m<ipython-input-9-99062b4be95c>\u001b[0m in \u001b[0;36m<module>\u001b[1;34m\u001b[0m\n\u001b[0;32m     14\u001b[0m \u001b[1;33m\u001b[0m\u001b[0m\n\u001b[0;32m     15\u001b[0m \u001b[0mr4\u001b[0m \u001b[1;33m=\u001b[0m \u001b[0mFixedResistance\u001b[0m\u001b[1;33m(\u001b[0m\u001b[1;36m1e3\u001b[0m\u001b[1;33m)\u001b[0m\u001b[1;33m\u001b[0m\u001b[1;33m\u001b[0m\u001b[0m\n\u001b[1;32m---> 16\u001b[1;33m \u001b[0mr4\u001b[0m\u001b[1;33m.\u001b[0m\u001b[0mohms\u001b[0m \u001b[1;33m=\u001b[0m \u001b[1;36m2e3\u001b[0m\u001b[1;33m\u001b[0m\u001b[1;33m\u001b[0m\u001b[0m\n\u001b[0m",
      "\u001b[1;32m<ipython-input-9-99062b4be95c>\u001b[0m in \u001b[0;36mohms\u001b[1;34m(self, ohms)\u001b[0m\n\u001b[0;32m     10\u001b[0m     \u001b[1;32mdef\u001b[0m \u001b[0mohms\u001b[0m\u001b[1;33m(\u001b[0m\u001b[0mself\u001b[0m\u001b[1;33m,\u001b[0m \u001b[0mohms\u001b[0m\u001b[1;33m)\u001b[0m\u001b[1;33m:\u001b[0m\u001b[1;33m\u001b[0m\u001b[1;33m\u001b[0m\u001b[0m\n\u001b[0;32m     11\u001b[0m         \u001b[1;32mif\u001b[0m \u001b[0mhasattr\u001b[0m\u001b[1;33m(\u001b[0m\u001b[0mself\u001b[0m\u001b[1;33m,\u001b[0m \u001b[1;34m'_ohms'\u001b[0m\u001b[1;33m)\u001b[0m\u001b[1;33m:\u001b[0m\u001b[1;33m\u001b[0m\u001b[1;33m\u001b[0m\u001b[0m\n\u001b[1;32m---> 12\u001b[1;33m             \u001b[1;32mraise\u001b[0m \u001b[0mAttributeError\u001b[0m\u001b[1;33m(\u001b[0m\u001b[1;34m\"Ohms is immatuble\"\u001b[0m\u001b[1;33m)\u001b[0m\u001b[1;33m\u001b[0m\u001b[1;33m\u001b[0m\u001b[0m\n\u001b[0m\u001b[0;32m     13\u001b[0m         \u001b[0mself\u001b[0m\u001b[1;33m.\u001b[0m\u001b[0m_ohms\u001b[0m \u001b[1;33m=\u001b[0m \u001b[0mohms\u001b[0m\u001b[1;33m\u001b[0m\u001b[1;33m\u001b[0m\u001b[0m\n\u001b[0;32m     14\u001b[0m \u001b[1;33m\u001b[0m\u001b[0m\n",
      "\u001b[1;31mAttributeError\u001b[0m: Ohms is immatuble"
     ]
    }
   ],
   "source": [
    "class FixedResistance(Resistor):\n",
    "    def __init__(self, ohms):\n",
    "        super().__init__(ohms)\n",
    "        \n",
    "    @property\n",
    "    def ohms(self):\n",
    "        return self._ohms\n",
    "    \n",
    "    @ohms.setter\n",
    "    def ohms(self, ohms):\n",
    "        if hasattr(self, '_ohms'):\n",
    "            raise AttributeError(\"Ohms is immatuble\")\n",
    "        self._ohms = ohms\n",
    "        \n",
    "r4 = FixedResistance(1e3)\n",
    "r4.ohms = 2e3"
   ]
  },
  {
   "cell_type": "markdown",
   "id": "returning-hamburg",
   "metadata": {},
   "source": [
    "- when you use `@property` methods to implement setters and getter, be sure that the behavior you implement is not surprising\n",
    "- for example, dont set other attributes in getter property methods"
   ]
  },
  {
   "cell_type": "markdown",
   "id": "confidential-queens",
   "metadata": {},
   "source": [
    "- the best policy is to modify only related state in `@property.setter` methods\n",
    "- be sure to also avoid any other side effects that the caller may not expect beyond the object, such as importing modules dynamically, running slow helper functions, doing `I/O`, or making expensive database queries\n",
    "- Users of a class will expect its attributes to be like any other Python object: quick and easy\n",
    "- Use normal methods to do anything more complex or slow"
   ]
  },
  {
   "cell_type": "markdown",
   "id": "approximate-pattern",
   "metadata": {},
   "source": [
    "- the biggest shortcomming of `@property` is that the methods for an attribute can only be shared by subclasses\n",
    "- unrelated classes can't share the same implementation\n",
    "- python does support descriptors that enable reusable property logic and many other use cases"
   ]
  },
  {
   "cell_type": "markdown",
   "id": "through-administration",
   "metadata": {},
   "source": [
    "### Things to Remeber"
   ]
  },
  {
   "cell_type": "markdown",
   "id": "adverse-pleasure",
   "metadata": {},
   "source": [
    "- defining new class interfaces using simple public attributes and avoid defining setter and getter methods\n",
    "- use `@property` to define special behavior when attributes are accessed on your objects, if necessary\n",
    "- follow the rule of least surprise and avoid odd side effects in your `@peoperty` methods\n",
    "- ensure that `@property` methods are fast; for slow or complex work- especially involving `I/O` or causing side effect -use normal methods instead"
   ]
  },
  {
   "cell_type": "markdown",
   "id": "wireless-plastic",
   "metadata": {},
   "source": [
    "## Item 45: Consider `@property` Instead of Refactoring Attributes"
   ]
  },
  {
   "cell_type": "markdown",
   "id": "sorted-drain",
   "metadata": {},
   "source": [
    "- the built-in `@property` decorator makes it easy for simple accesses of an instance's attributes to act smarter\n",
    "- one advanced but common use of `@property` is transitioning what was one a simple numerical attribute into an on-the-fly calculations\n",
    "- this is extremely helpful because it lets you migrate all existing usage of a class to have new behaviors without requiring any of the call sites to be rewritten\n",
    "- `@property` also provides an important stopgap for improving interfaces over time"
   ]
  },
  {
   "cell_type": "markdown",
   "id": "conceptual-experiment",
   "metadata": {},
   "source": [
    "- lets say we need to implement a leaky buckey quota using plain python objects\n",
    "- here the `Bucket` class represents how much quota remains and duration for which the quota will be available "
   ]
  },
  {
   "cell_type": "code",
   "execution_count": 19,
   "id": "loved-bahrain",
   "metadata": {},
   "outputs": [],
   "source": [
    "from datetime import datetime, timedelta\n",
    "\n",
    "class Bucket:\n",
    "    def __init__(self, period):\n",
    "        self.period_delta = timedelta(seconds=period)\n",
    "        self.reset_time = datetime.now()\n",
    "        self.quota = 0\n",
    "        \n",
    "    def __repr__(self):\n",
    "        return f'Bucket(quota={self.quota})'"
   ]
  },
  {
   "cell_type": "markdown",
   "id": "saving-ranking",
   "metadata": {},
   "source": [
    "- the leaky bucket algorithm works by ensuring that, whenever the bucket is filled, the amount of quota does not carry over from one period to the next"
   ]
  },
  {
   "cell_type": "code",
   "execution_count": 20,
   "id": "virtual-strap",
   "metadata": {},
   "outputs": [],
   "source": [
    "def fill(bucket, amount):\n",
    "    now = datetime.now()\n",
    "    if (now - bucket.reset_time) > bucket.period_delta:\n",
    "        bucket.quota = 0\n",
    "        bucket.reset_time = now\n",
    "    bucket.quota += amount"
   ]
  },
  {
   "cell_type": "markdown",
   "id": "combined-chancellor",
   "metadata": {},
   "source": [
    "- each time a quota consumer want to do something, it must first ensure that it can deduct the amount of quota it needs to use:"
   ]
  },
  {
   "cell_type": "code",
   "execution_count": 21,
   "id": "residential-baker",
   "metadata": {},
   "outputs": [],
   "source": [
    "def deduct(bucket, amount):\n",
    "    now = datetime.now()\n",
    "    if (now - bucket.reset_time) > bucket.period_delta:\n",
    "        return False # Bucket hasn't been filled this period\n",
    "    if bucket.quota - amount < 0:\n",
    "        return False # Bucket was filled, but not enough\n",
    "    bucket.quota -= amount\n",
    "    return True      # Bucket had enough, quota consumed\n",
    "    "
   ]
  },
  {
   "cell_type": "markdown",
   "id": "metallic-refund",
   "metadata": {},
   "source": [
    "- to use this class, first I fill the bucket up:"
   ]
  },
  {
   "cell_type": "code",
   "execution_count": 22,
   "id": "cross-passenger",
   "metadata": {},
   "outputs": [
    {
     "name": "stdout",
     "output_type": "stream",
     "text": [
      "Bucket(quota=100)\n"
     ]
    }
   ],
   "source": [
    "bucket = Bucket(60)\n",
    "fill(bucket, 100)\n",
    "print(bucket)"
   ]
  },
  {
   "cell_type": "markdown",
   "id": "clear-beverage",
   "metadata": {},
   "source": [
    "- then we deduct the quota the we need"
   ]
  },
  {
   "cell_type": "code",
   "execution_count": 23,
   "id": "dried-austria",
   "metadata": {},
   "outputs": [
    {
     "name": "stdout",
     "output_type": "stream",
     "text": [
      "Had 99 quota\n",
      "Bucket(quota=1)\n"
     ]
    }
   ],
   "source": [
    "if deduct(bucket, 99):\n",
    "    print('Had 99 quota')\n",
    "else:\n",
    "    print('Not enough for 99 quota')\n",
    "print(bucket)"
   ]
  },
  {
   "cell_type": "markdown",
   "id": "equipped-spanish",
   "metadata": {},
   "source": [
    "- eventually we are prevented from making progress because I try to deduct more quota than is available\n",
    "- in this case, the bucket quota level remains unchanged"
   ]
  },
  {
   "cell_type": "code",
   "execution_count": 24,
   "id": "combined-crystal",
   "metadata": {},
   "outputs": [
    {
     "name": "stdout",
     "output_type": "stream",
     "text": [
      "Not enough for 3 quota\n",
      "Bucket(quota=1)\n"
     ]
    }
   ],
   "source": [
    "if deduct(bucket, 3):\n",
    "    print('Had 3 quota')\n",
    "else:\n",
    "    print('Not enough for 3 quota')\n",
    "print(bucket)"
   ]
  },
  {
   "cell_type": "markdown",
   "id": "choice-broadcasting",
   "metadata": {},
   "source": [
    "- the problem with the implementation is that we never know what quota level the bucket started with\n",
    "- the quota is deducted over the course of the period untill it reaches zero\n",
    "- at that point, `deduct` will always return `False` untill the bucket is refilled\n",
    "- when this happend, it would be useful to know whether callers to `deduct` are being blocked because the `Bucket` ran out of quota or because the `Bucket` never had quota during this period in the first place"
   ]
  },
  {
   "cell_type": "markdown",
   "id": "soviet-thesis",
   "metadata": {},
   "source": [
    "- to fix this, I can change the class to keep track of the `max_quota` issued in the period and the `quota_consumes` in the period"
   ]
  },
  {
   "cell_type": "markdown",
   "id": "coordinated-discipline",
   "metadata": {},
   "source": [
    "- to match the previou interface of the orginal `Bucket` class, I use a `@property` method to compute the current level of quota on-the-fly using these new attributes"
   ]
  },
  {
   "cell_type": "markdown",
   "id": "vocational-needle",
   "metadata": {},
   "source": [
    "- when the quota attribute is assigned, we take special action to be compatible with the current usage of the class by the `fill` and `deduct` function"
   ]
  },
  {
   "cell_type": "code",
   "execution_count": 34,
   "id": "difficult-wildlife",
   "metadata": {},
   "outputs": [],
   "source": [
    "class NewBucket:\n",
    "    def __init__(self, period):\n",
    "        self.period_delta = timedelta(seconds=period)\n",
    "        self.reset_time = datetime.now()\n",
    "        self.max_quota = 0\n",
    "        self.quota_consumed = 0\n",
    "        \n",
    "    def __repr__(self):\n",
    "        return (f'NewBucket(max_quota={self.max_quota}, '\n",
    "                f'quota_consumed={self.quota_consumed})')\n",
    "    \n",
    "    @property\n",
    "    def quota(self):\n",
    "        return self.max_quota - self.quota_consumed\n",
    "    \n",
    "    @quota.setter\n",
    "    def quota(self, amount):\n",
    "        delta = self.max_quota - amount\n",
    "        if amount == 0:\n",
    "            # Quota being reset for a new period\n",
    "            self.quota_consumed = 0\n",
    "            self.max_quota = 0\n",
    "        elif delta < 0:\n",
    "            # Quota being filled for the new period\n",
    "            assert self.quota_consumed == 0\n",
    "            self.max_quota = amount\n",
    "        else:\n",
    "            # Quota being consumed during the period\n",
    "            assert self.max_quota >= self.quota_consumed\n",
    "            self.quota_consumed += delta"
   ]
  },
  {
   "cell_type": "markdown",
   "id": "polyphonic-thing",
   "metadata": {},
   "source": [
    "- rerunning the demo code from above produces the same results:"
   ]
  },
  {
   "cell_type": "code",
   "execution_count": 37,
   "id": "secondary-display",
   "metadata": {},
   "outputs": [
    {
     "name": "stdout",
     "output_type": "stream",
     "text": [
      "Initial NewBucket(max_quota=0, quota_consumed=0)\n",
      "Filled NewBucket(max_quota=100, quota_consumed=0)\n",
      "Had 99 quota\n",
      "Now NewBucket(max_quota=100, quota_consumed=99)\n",
      "Not enough for 3 quota\n",
      "Still NewBucket(max_quota=100, quota_consumed=99)\n"
     ]
    }
   ],
   "source": [
    "bucket = NewBucket(60)\n",
    "print('Initial', bucket)\n",
    "fill(bucket, 100)\n",
    "print('Filled', bucket)\n",
    "\n",
    "if deduct(bucket, 99):\n",
    "    print('Had 99 quota')\n",
    "else:\n",
    "    print('Not enough for 99 quota')\n",
    "    \n",
    "print('Now', bucket)\n",
    "if deduct(bucket, 3):\n",
    "    print('Had 3 quota')\n",
    "else:\n",
    "    print('Not enough for 3 quota')\n",
    "\n",
    "print('Still', bucket)"
   ]
  },
  {
   "cell_type": "markdown",
   "id": "fewer-zealand",
   "metadata": {},
   "source": [
    "- best part is that the code using `Bucket.quota` doesent have to change or know that the class has changed\n",
    "- new usage of `Bucket` can do the right thing and access `max_quots` and `quota_consumed` directly\n",
    "- `@property` lets you make incremental progress towards a better data model over time\n",
    "- reading the `Bucket` example above, you may have though that `fill` and `deduct` should have implemented as instance methods in the first place\n",
    "- the `fill`  and `deduct` should have been instance methods but realworld is messy "
   ]
  },
  {
   "cell_type": "markdown",
   "id": "elder-approval",
   "metadata": {},
   "source": [
    "- `@property` is a toll that helps us address problems in real-world code\n",
    "- dont overuse it\n",
    "- when you find yoursel repeatedly extending `@property` methods, its time to refactor your class instead of further paving over your codes poor design"
   ]
  },
  {
   "cell_type": "markdown",
   "id": "temporal-enforcement",
   "metadata": {},
   "source": [
    "### Things To Remember"
   ]
  },
  {
   "cell_type": "markdown",
   "id": "false-julian",
   "metadata": {},
   "source": [
    "- use `@property` to give existing instance attributes new functionality\n",
    "- make incremental progress toward better data models by using `@property`\n",
    "- consider refactoring a class and all call sitesd when you find yourself using `@property` too heavil"
   ]
  },
  {
   "cell_type": "markdown",
   "id": "placed-avenue",
   "metadata": {},
   "source": [
    "## Item 46: Use Descriptors for Reusable `@property` Methods"
   ]
  },
  {
   "cell_type": "markdown",
   "id": "fewer-mortgage",
   "metadata": {},
   "source": [
    "- big problem with `@property` built-in is reuse\n",
    "- the method it decorates can't be reused for multiple attributes of the same class\n",
    "- they cant also be reused by unrelated classes"
   ]
  },
  {
   "cell_type": "markdown",
   "id": "alike-smart",
   "metadata": {},
   "source": [
    "- as an example, say I want a class to validate that the grade received by a student on a homework assignment is a percentage"
   ]
  },
  {
   "cell_type": "code",
   "execution_count": 1,
   "id": "asian-corner",
   "metadata": {},
   "outputs": [],
   "source": [
    "class Homework:\n",
    "    def __init__(self):\n",
    "        self._grade = 0\n",
    "        \n",
    "    @property\n",
    "    def grade(self):\n",
    "        return self._grade\n",
    "    \n",
    "    @grade.setter\n",
    "    def grade(self, value):\n",
    "        if not (0 <= value <= 100):\n",
    "            raise ValueError('Grade must be between 0 and 100')\n",
    "        self._grade = value\n",
    "        \n",
    "        \n",
    "# using @property makes this class easy to use\n",
    "galileo = Homework()\n",
    "galileo.grade = 95"
   ]
  },
  {
   "cell_type": "markdown",
   "id": "narrow-monte",
   "metadata": {},
   "source": [
    "- say that I also want to give the student a grade for an exam where the exam has multiple subjects each with a seprate grade"
   ]
  },
  {
   "cell_type": "code",
   "execution_count": 2,
   "id": "olive-pencil",
   "metadata": {},
   "outputs": [],
   "source": [
    "class Exam:\n",
    "    def __init__(self):\n",
    "        self._writing_grade = 0\n",
    "        self._math_grade = 0\n",
    "        \n",
    "    @staticmethod\n",
    "    def _check_grade(value):\n",
    "        if not (0 <= value <= 100):\n",
    "            raise ValueError('Grade must be between 0 and 100')\n",
    "            \n",
    "\n",
    "    @property\n",
    "    def writing_grade(self):\n",
    "        return self._writing_grade\n",
    "    \n",
    "    @writing_grade.setter\n",
    "    def writing_grade(self, value):\n",
    "        self._check_grade(value)\n",
    "        self._writing_grade = value\n",
    "    \n",
    "    @property\n",
    "    def math_grade(self):\n",
    "        return self._math_grade\n",
    "    \n",
    "    @math_grade.setter\n",
    "    def math_grade(self, value):\n",
    "        self._check_grade(value)\n",
    "        self._math_grade = value"
   ]
  },
  {
   "cell_type": "markdown",
   "id": "separated-sensitivity",
   "metadata": {},
   "source": [
    "- this approach is not general\n",
    "- if we want to resue the precentage validation in other classes beyond homework and exams, we need to write the `@property` boilerplate and `_check_grade` method over and over again"
   ]
  },
  {
   "cell_type": "markdown",
   "id": "blond-quilt",
   "metadata": {},
   "source": [
    "- better way to do this in python is to use a `descriptor`\n",
    "- the `descriptor protocol` defines how attribute access is interpreted by the language\n",
    "- a descriptor class can provide `__get__` and `__set__` methods that let you reuse the grade validation behavior"
   ]
  },
  {
   "cell_type": "markdown",
   "id": "cognitive-taste",
   "metadata": {},
   "source": [
    "- for this purpose, `descriptors` are better than mix-ins because they let you reuse the same logic for many different attributes in a single class"
   ]
  },
  {
   "cell_type": "code",
   "execution_count": 4,
   "id": "aggressive-thriller",
   "metadata": {},
   "outputs": [],
   "source": [
    "class Grade:\n",
    "    def __get__(self, instance, instance_type):\n",
    "        pass\n",
    "    \n",
    "    def __set__(self, instance, value):\n",
    "        pass\n",
    "    \n",
    "class Exam:\n",
    "    # class attributes\n",
    "    math_grade = Grade()\n",
    "    writing_grade = Grade()\n",
    "    science_grade = Grade()"
   ]
  },
  {
   "cell_type": "markdown",
   "id": "dense-camera",
   "metadata": {},
   "source": [
    "- it is important to understand what Python will do when such descriptor attributes are accessed on an `Exam` instance"
   ]
  },
  {
   "cell_type": "markdown",
   "id": "expanded-community",
   "metadata": {},
   "source": [
    "- when we assign a property"
   ]
  },
  {
   "cell_type": "code",
   "execution_count": 5,
   "id": "duplicate-wildlife",
   "metadata": {},
   "outputs": [],
   "source": [
    "exam = Exam()\n",
    "exam.writing_grade = 40"
   ]
  },
  {
   "cell_type": "markdown",
   "id": "cutting-excitement",
   "metadata": {},
   "source": [
    "- it is interpreted as"
   ]
  },
  {
   "cell_type": "code",
   "execution_count": 7,
   "id": "ignored-separation",
   "metadata": {},
   "outputs": [],
   "source": [
    "Exam.__dict__['writing_grade'].__set__(exam, 40)"
   ]
  },
  {
   "cell_type": "markdown",
   "id": "different-monkey",
   "metadata": {},
   "source": [
    "- when I retrieve a property"
   ]
  },
  {
   "cell_type": "code",
   "execution_count": 8,
   "id": "varying-sponsorship",
   "metadata": {},
   "outputs": [],
   "source": [
    "exam.writing_grade"
   ]
  },
  {
   "cell_type": "markdown",
   "id": "upper-access",
   "metadata": {},
   "source": [
    "- it is interpreted as:"
   ]
  },
  {
   "cell_type": "code",
   "execution_count": 9,
   "id": "absent-relief",
   "metadata": {},
   "outputs": [],
   "source": [
    "Exam.__dict__['writing_grade'].__get__(exam, Exam)"
   ]
  },
  {
   "cell_type": "markdown",
   "id": "national-anthropology",
   "metadata": {},
   "source": [
    "- what drives this behavior is the `__getattribute__` method of objects\n",
    "- in short, when an `Exam` instance doesent have an attribute named `writing_grade`, python falls back to the `Exam` class's attribute instead\n",
    "- if this class attibute is an object that has `__get__` and `__set__` methods, python assumes you want to follow the descriptor protocol"
   ]
  },
  {
   "cell_type": "markdown",
   "id": "framed-shade",
   "metadata": {},
   "source": [
    "- knowing this behavior and how we used `@property` for grade validation in the `Homework` class, here's a reasonable first attempt at implementing the `Grade` descriptor"
   ]
  },
  {
   "cell_type": "code",
   "execution_count": 10,
   "id": "equivalent-pakistan",
   "metadata": {},
   "outputs": [
    {
     "name": "stdout",
     "output_type": "stream",
     "text": [
      "Writing 82\n",
      "Science 99\n"
     ]
    }
   ],
   "source": [
    "# Incorrect attempt at using descriptors\n",
    "class Grade:\n",
    "    def __init__(self):\n",
    "        self._value = 0\n",
    "        \n",
    "    def __get__(self, instance, instance_type):\n",
    "        return self._value\n",
    "    \n",
    "    def __set__(self, instance, value):\n",
    "        if not (0 <= value <= 100):\n",
    "            raise ValueError(\n",
    "            'Grade must be between 0 and 100')\n",
    "        self._value = value\n",
    "        \n",
    "class Exam:\n",
    "    math_grade = Grade()\n",
    "    writing_grade = Grade()\n",
    "    science_grade = Grade()\n",
    "\n",
    "\n",
    "first_exam = Exam()\n",
    "first_exam.writing_grade = 82\n",
    "first_exam.science_grade = 99\n",
    "print('Writing', first_exam.writing_grade)\n",
    "print('Science', first_exam.science_grade)"
   ]
  },
  {
   "cell_type": "markdown",
   "id": "innovative-walnut",
   "metadata": {},
   "source": [
    "- accedssing multiple attributes on a single `Exam` instance works as expected as show above\n",
    "- but accessing these attributes on multiple `Exam` instances causes unexpected behavior"
   ]
  },
  {
   "cell_type": "code",
   "execution_count": 11,
   "id": "white-passenger",
   "metadata": {},
   "outputs": [
    {
     "name": "stdout",
     "output_type": "stream",
     "text": [
      "Second 75 is right\n",
      "First 75 is wrong; should be 82\n"
     ]
    }
   ],
   "source": [
    "second_exam = Exam()\n",
    "second_exam.writing_grade = 75\n",
    "print(f'Second {second_exam.writing_grade} is right')\n",
    "print(f'First {first_exam.writing_grade} is wrong; '\n",
    " f'should be 82')"
   ]
  },
  {
   "cell_type": "markdown",
   "id": "baking-liechtenstein",
   "metadata": {},
   "source": [
    "- the problem is that a single `Grade` instance is shared across all `Exam Instances` for the class attribute `writing_grade`\n",
    "- the `Grade` instance for this attribute is constructed once in the program lifetime, "
   ]
  },
  {
   "cell_type": "markdown",
   "id": "twenty-clearance",
   "metadata": {},
   "source": [
    "- to solve this we need the `Grade` class to keep track of its values for each unique `Exam` instance\n",
    "- I can do this by saving the per-instance state in a dictionary"
   ]
  },
  {
   "cell_type": "code",
   "execution_count": 12,
   "id": "inner-manor",
   "metadata": {},
   "outputs": [],
   "source": [
    "class Grade:\n",
    "    def __init__(self):\n",
    "        self._values = {}\n",
    "        \n",
    "    def __get__(self, instance):\n",
    "        if instance is None:\n",
    "            return self\n",
    "        return self._value.get(instance, 0)\n",
    "    \n",
    "    def __set__(self, instance, value):\n",
    "        if not (0 <= value <= 100):\n",
    "            raise ValueError(\n",
    "            'Grade must be between 0 and 100')\n",
    "        self._value[instance] = value"
   ]
  },
  {
   "cell_type": "markdown",
   "id": "executed-article",
   "metadata": {},
   "source": [
    "- the implementation is simple and works well, but there still one gotcha: it leaks memeory\n",
    "- the `_value` dictionary holds a refrence to every instance of `Exam` ever passed to `__set__` over the lifetime of the program\n",
    "- this causes instanes to never have their reference count go to zero, preventing cleanup by the garbage collector"
   ]
  },
  {
   "cell_type": "markdown",
   "id": "three-guide",
   "metadata": {},
   "source": [
    "- to fix this, we can use Pythons `weakref` built-in module\n",
    "- this module provides a special case called `WeakKeyDictionary` that can take the place of the simple dictionary used for `_values`\n",
    "- the unique behavior of `WeakKeyDictionary` is that is removes `Exam` instances form its set of items when the python runtime knows its holding the instances last remaining refrence in the ptogram\n",
    "- python does the bookkeeping for us and ensures that the `_value` dictionary will be empty when all `Exam` instances are no longer in use"
   ]
  },
  {
   "cell_type": "markdown",
   "id": "united-cherry",
   "metadata": {},
   "source": []
  },
  {
   "cell_type": "code",
   "execution_count": 21,
   "id": "dying-sally",
   "metadata": {},
   "outputs": [
    {
     "name": "stdout",
     "output_type": "stream",
     "text": [
      "First 82 is right\n",
      "Second 75 is right\n"
     ]
    }
   ],
   "source": [
    "from weakref import WeakKeyDictionary\n",
    "\n",
    "class Grade:\n",
    "    def __init__(self):\n",
    "        self._values = WeakKeyDictionary()\n",
    "        \n",
    "    def __get__(self, instance, instance_type):\n",
    "        if instance is None:\n",
    "            return self\n",
    "        return self._values.get(instance, 0)\n",
    "\n",
    "    def __set__(self, instance, value):\n",
    "        if not (0 <= value <= 100):\n",
    "            raise ValueError(\n",
    "                'Grade must be between 0 and 100')\n",
    "        self._values[instance] = value\n",
    "        \n",
    "class Exam:\n",
    "    math_grade = Grade()\n",
    "    writing_grade = Grade()\n",
    "    science_grade = Grade()\n",
    "\n",
    "\n",
    "first_exam = Exam()\n",
    "first_exam.writing_grade = 82\n",
    "second_exam = Exam()\n",
    "second_exam.writing_grade = 75\n",
    "print(f'First {first_exam.writing_grade} is right')\n",
    "print(f'Second {second_exam.writing_grade} is right')"
   ]
  },
  {
   "cell_type": "markdown",
   "id": "selected-cornell",
   "metadata": {},
   "source": [
    "### Things to Remember"
   ]
  },
  {
   "cell_type": "markdown",
   "id": "chubby-future",
   "metadata": {},
   "source": [
    "- reuse the behavior and validation of `@property` methods by defining your own descriptor classes\n",
    "- use `WeakKeyDictionary` to ensure that your descriptor classes dont cause memeory leaks\n",
    "- dont get bogged down trying to understand exactly how `__getattribute__` uses the descriptor protocol for getting and setting attributes"
   ]
  },
  {
   "cell_type": "markdown",
   "id": "premium-marathon",
   "metadata": {},
   "source": [
    "## Item 47: Use `__gettr__`, `__getattribute__`, and `__setattr__` for Lazy Attributes"
   ]
  },
  {
   "cell_type": "markdown",
   "id": "incoming-figure",
   "metadata": {},
   "source": [
    "- pythons object hooks make it easy to write generic code for gluing systems together\n",
    "- say we want to represent the records in a database as Python Objects\n",
    "- the database has its schema set already\n",
    "- the code that uses objects corresponding to these records must also know what the database looks like\n",
    "- in python the code that connects python objects to the database does not need to explicitly specify the schema of the records: it can be generic"
   ]
  },
  {
   "cell_type": "markdown",
   "id": "worst-scotland",
   "metadata": {},
   "source": [
    "- how is that possible?\n",
    "- plain instance attributes, `@property` methods and descriptors cant do this because they all need to be defined in advance\n",
    "- python makes the dynamic behavior possible with the `__getattr__` special method\n",
    "- if a class defines `__getattr__` that method is called every time an attribute cant be found in an objects dictionary"
   ]
  },
  {
   "cell_type": "code",
   "execution_count": 22,
   "id": "through-retailer",
   "metadata": {},
   "outputs": [],
   "source": [
    "class LazyRecord:\n",
    "    def __init__(self):\n",
    "        self.exists = 5\n",
    "        \n",
    "    def __getattr__(self, name):\n",
    "        value = f'Value for {name}'\n",
    "        setattr(self, name, value)\n",
    "        return value"
   ]
  },
  {
   "cell_type": "markdown",
   "id": "interior-device",
   "metadata": {},
   "source": [
    "- here we access the missing property `foo` \n",
    "- this causes python to call the `__getattr__` method above, which mutates the instance dictionary `__dict___`"
   ]
  },
  {
   "cell_type": "code",
   "execution_count": 23,
   "id": "annoying-tattoo",
   "metadata": {},
   "outputs": [
    {
     "name": "stdout",
     "output_type": "stream",
     "text": [
      "Before {'exists': 5}\n",
      "foo: Value for foo\n",
      "After:  {'exists': 5, 'foo': 'Value for foo'}\n"
     ]
    }
   ],
   "source": [
    "data = LazyRecord()\n",
    "print('Before', data.__dict__)\n",
    "print('foo:', data.foo)\n",
    "print('After: ', data.__dict__)"
   ]
  },
  {
   "cell_type": "markdown",
   "id": "mobile-coach",
   "metadata": {},
   "source": [
    "- here I add logging to `LazyRecord` to show when `__getattr__` is actually called\n",
    "- note how we call `super().__getattr__()` to use the super classes implementation of `__getattr__` in order to fetch the real property value and avoid infinite recursion"
   ]
  },
  {
   "cell_type": "code",
   "execution_count": 25,
   "id": "vocational-music",
   "metadata": {},
   "outputs": [
    {
     "name": "stdout",
     "output_type": "stream",
     "text": [
      "exists:       5\n",
      "* Called __getattr__('foo'), populating instance dictionary\n",
      "* Returning 'Value for foo'\n",
      "First foo:    Value for foo\n",
      "Second foo:   Value for foo\n"
     ]
    }
   ],
   "source": [
    "class LoggingLazyRecord(LazyRecord):\n",
    "    def __getattr__(self, name):\n",
    "        print(f'* Called __getattr__({name!r}), '\n",
    "            f'populating instance dictionary')\n",
    "        result = super().__getattr__(name)\n",
    "        print(f'* Returning {result!r}')\n",
    "        return result\n",
    "    \n",
    "data = LoggingLazyRecord()\n",
    "print('exists:      ', data.exists)\n",
    "print('First foo:   ', data.foo)\n",
    "print('Second foo:  ', data.foo)"
   ]
  },
  {
   "cell_type": "markdown",
   "id": "toxic-wholesale",
   "metadata": {},
   "source": [
    "- the `exists` attribute is present in the instance dictionary, so `__getattr__` is never called for it\n",
    "- the `foo` attribute is not in the instance dictionary initially, so `__getattr__` is called for the first time\\\n",
    "- but the call to `__getattr__` for `foo` also does a `setattr`, which populates `foo` in the instance dictionary\n",
    "- this is why the second time I access `foo`, it does not log a call to `__getattr__`"
   ]
  },
  {
   "cell_type": "markdown",
   "id": "alleged-airplane",
   "metadata": {},
   "source": [
    "- this behavior is espically helpful for use cases like lazily accessing schemaless data\n",
    "- `__getattr__` runs once to do the hard work of loading a property: all subsequent accesses to retrieve the existing result"
   ]
  },
  {
   "cell_type": "markdown",
   "id": "pending-playlist",
   "metadata": {},
   "source": [
    "- say that I also want transactions in the database system\n",
    "- the next time the user accesses a proprty, I want to know whether the corresponding record in the database is still valid and whether the transaction is still open\n",
    "- the `__getattr__` hook wont let me do this reliably because it will use the objects instance dictionary as the fast path for existing attributes"
   ]
  },
  {
   "cell_type": "markdown",
   "id": "greater-implement",
   "metadata": {},
   "source": [
    "- to enable this more advanced use case, python has another object called `__getattribute__`\n",
    "- this special method is called every time an attribute is accessed on an object, even in cases where it does exist in the attribute dictionary\n",
    "- this enables me to do things like check global transaction state on every property accesses\n",
    "- it is important to  note that such an operation can incur significant overhead and negatively impact performance, but sometimes its work it"
   ]
  },
  {
   "cell_type": "markdown",
   "id": "powered-volunteer",
   "metadata": {},
   "source": [
    "- below we define `ValidatingRecord` to log each time `__getattribute__` is called"
   ]
  },
  {
   "cell_type": "code",
   "execution_count": 27,
   "id": "labeled-coaching",
   "metadata": {},
   "outputs": [
    {
     "name": "stdout",
     "output_type": "stream",
     "text": [
      "* Called __getattribute__('exists')\n",
      "* Found 'exists', returning 5\n",
      "exists:  5\n",
      "* Called __getattribute__('foo')\n",
      "* Setting 'foo' to 'Value for foo'\n",
      "First foo:  Value for foo\n",
      "* Called __getattribute__('foo')\n",
      "* Found 'foo', returning 'Value for foo'\n",
      "Second foo:  Value for foo\n"
     ]
    }
   ],
   "source": [
    "class ValidatingRecord:\n",
    "    def __init__(self):\n",
    "        self.exists = 5\n",
    "        \n",
    "    def __getattribute__(self, name):\n",
    "        print(f'* Called __getattribute__({name!r})')\n",
    "        try:\n",
    "            value = super().__getattribute__(name)\n",
    "            print(f'* Found {name!r}, returning {value!r}')\n",
    "            return value\n",
    "        except AttributeError:\n",
    "            value = f'Value for {name}'\n",
    "            print(f'* Setting {name!r} to {value!r}')\n",
    "            setattr(self, name, value)\n",
    "            return value\n",
    "\n",
    "data = ValidatingRecord()\n",
    "print('exists: ', data.exists)\n",
    "print('First foo: ', data.foo)\n",
    "print('Second foo: ', data.foo)"
   ]
  },
  {
   "cell_type": "markdown",
   "id": "intended-corner",
   "metadata": {},
   "source": [
    "- in the event that a dynamically accessed property should't exist, I can raise an `AttributeError` to cause pythons standard missing property behavior for both `__getattr__` and `__getattribute__`"
   ]
  },
  {
   "cell_type": "code",
   "execution_count": 28,
   "id": "centered-mountain",
   "metadata": {},
   "outputs": [
    {
     "ename": "AttributeError",
     "evalue": "bad_name is missing",
     "output_type": "error",
     "traceback": [
      "\u001b[1;31m---------------------------------------------------------------------------\u001b[0m",
      "\u001b[1;31mAttributeError\u001b[0m                            Traceback (most recent call last)",
      "\u001b[1;32m<ipython-input-28-2c3b6b9673c8>\u001b[0m in \u001b[0;36m<module>\u001b[1;34m\u001b[0m\n\u001b[0;32m      5\u001b[0m \u001b[1;33m\u001b[0m\u001b[0m\n\u001b[0;32m      6\u001b[0m \u001b[0mdata\u001b[0m \u001b[1;33m=\u001b[0m \u001b[0mMissingPropertyRecord\u001b[0m\u001b[1;33m(\u001b[0m\u001b[1;33m)\u001b[0m\u001b[1;33m\u001b[0m\u001b[1;33m\u001b[0m\u001b[0m\n\u001b[1;32m----> 7\u001b[1;33m \u001b[0mdata\u001b[0m\u001b[1;33m.\u001b[0m\u001b[0mbad_name\u001b[0m\u001b[1;33m\u001b[0m\u001b[1;33m\u001b[0m\u001b[0m\n\u001b[0m",
      "\u001b[1;32m<ipython-input-28-2c3b6b9673c8>\u001b[0m in \u001b[0;36m__getattr__\u001b[1;34m(self, name)\u001b[0m\n\u001b[0;32m      2\u001b[0m     \u001b[1;32mdef\u001b[0m \u001b[0m__getattr__\u001b[0m\u001b[1;33m(\u001b[0m\u001b[0mself\u001b[0m\u001b[1;33m,\u001b[0m \u001b[0mname\u001b[0m\u001b[1;33m)\u001b[0m\u001b[1;33m:\u001b[0m\u001b[1;33m\u001b[0m\u001b[1;33m\u001b[0m\u001b[0m\n\u001b[0;32m      3\u001b[0m         \u001b[1;32mif\u001b[0m \u001b[0mname\u001b[0m \u001b[1;33m==\u001b[0m \u001b[1;34m'bad_name'\u001b[0m\u001b[1;33m:\u001b[0m\u001b[1;33m\u001b[0m\u001b[1;33m\u001b[0m\u001b[0m\n\u001b[1;32m----> 4\u001b[1;33m             \u001b[1;32mraise\u001b[0m \u001b[0mAttributeError\u001b[0m\u001b[1;33m(\u001b[0m\u001b[1;34mf'{name} is missing'\u001b[0m\u001b[1;33m)\u001b[0m\u001b[1;33m\u001b[0m\u001b[1;33m\u001b[0m\u001b[0m\n\u001b[0m\u001b[0;32m      5\u001b[0m \u001b[1;33m\u001b[0m\u001b[0m\n\u001b[0;32m      6\u001b[0m \u001b[0mdata\u001b[0m \u001b[1;33m=\u001b[0m \u001b[0mMissingPropertyRecord\u001b[0m\u001b[1;33m(\u001b[0m\u001b[1;33m)\u001b[0m\u001b[1;33m\u001b[0m\u001b[1;33m\u001b[0m\u001b[0m\n",
      "\u001b[1;31mAttributeError\u001b[0m: bad_name is missing"
     ]
    }
   ],
   "source": [
    "class MissingPropertyRecord:\n",
    "    def __getattr__(self, name):\n",
    "        if name == 'bad_name':\n",
    "            raise AttributeError(f'{name} is missing')\n",
    "\n",
    "data = MissingPropertyRecord()\n",
    "data.bad_name"
   ]
  },
  {
   "cell_type": "markdown",
   "id": "constitutional-commerce",
   "metadata": {},
   "source": [
    "- python code implementing generic functionality often relies on the `hasattr` built-in function to determin when properties exist and the `getattr` built-in function to retrieve property values\n",
    "- these functions also look in the instance dictionary for an attribute name before calling `__getattr__`"
   ]
  },
  {
   "cell_type": "code",
   "execution_count": 29,
   "id": "afraid-finish",
   "metadata": {},
   "outputs": [
    {
     "name": "stdout",
     "output_type": "stream",
     "text": [
      "Before:  {'exists': 5}\n",
      "* Called __getattr__('foo'), populating instance dictionary\n",
      "* Returning 'Value for foo'\n",
      "Has first foo:  True\n",
      "After:  {'exists': 5, 'foo': 'Value for foo'}\n",
      "Has second foo:  True\n"
     ]
    }
   ],
   "source": [
    "data = LoggingLazyRecord() # Implements __getattr__\n",
    "print('Before: ', data.__dict__)\n",
    "print('Has first foo: ', hasattr(data, 'foo'))\n",
    "print('After: ', data.__dict__)\n",
    "print('Has second foo: ', hasattr(data, 'foo'))"
   ]
  },
  {
   "cell_type": "markdown",
   "id": "great-diversity",
   "metadata": {},
   "source": [
    "- in the example above, `__getattr__` is called only once\n",
    "- in contrast, classes that implement `__getattribute__` have that method called each time `hasattr` or `getattr` is used with an instance"
   ]
  },
  {
   "cell_type": "code",
   "execution_count": 30,
   "id": "confirmed-flavor",
   "metadata": {},
   "outputs": [
    {
     "name": "stdout",
     "output_type": "stream",
     "text": [
      "* Called __getattribute__('foo')\n",
      "* Setting 'foo' to 'Value for foo'\n",
      "Has first foo:  True\n",
      "* Called __getattribute__('foo')\n",
      "* Found 'foo', returning 'Value for foo'\n",
      "Has second foo:  True\n"
     ]
    }
   ],
   "source": [
    "data = ValidatingRecord() # Implements __getattribute__\n",
    "print('Has first foo: ', hasattr(data, 'foo'))\n",
    "print('Has second foo: ', hasattr(data, 'foo'))"
   ]
  },
  {
   "cell_type": "markdown",
   "id": "transparent-board",
   "metadata": {},
   "source": [
    "- lets say we want to lazily push data back to the database when values are assigned to my python object\n",
    "- we can do this with `__setattr__`, a simmilar `object` hook that lets you intercept arbitrary attribute assignments\n",
    "- unlike when retrieving an attribute when `__getattr__` and `__getattribute__`, there no need for two seprate methods\n",
    "- the `__setattr__` method is always called every time an attribute is assigned on an instance"
   ]
  },
  {
   "cell_type": "code",
   "execution_count": 31,
   "id": "appointed-crazy",
   "metadata": {},
   "outputs": [],
   "source": [
    "class SavingRecord:\n",
    "    def __setattr__(self, name, value):\n",
    "        # save some data for the record\n",
    "        # ...\n",
    "        super().__setattr__(name, value)"
   ]
  },
  {
   "cell_type": "markdown",
   "id": "literary-cache",
   "metadata": {},
   "source": [
    "- here I define a logging subclass of `SavingRecord`\n",
    "- its `__setattr__` method is always called on each attribute assignment"
   ]
  },
  {
   "cell_type": "code",
   "execution_count": 32,
   "id": "endangered-wound",
   "metadata": {},
   "outputs": [
    {
     "name": "stdout",
     "output_type": "stream",
     "text": [
      "Before:  {}\n",
      "* Called __setattr__('foo', 5)\n",
      "After:  {'foo': 5}\n",
      "* Called __setattr__('foo', 7)\n",
      "Finally: {'foo': 7}\n"
     ]
    }
   ],
   "source": [
    "class LoggingSavingRecord(SavingRecord):\n",
    "    def __setattr__(self, name, value):\n",
    "        print(f'* Called __setattr__({name!r}, {value!r})')\n",
    "        super().__setattr__(name, value)\n",
    "        \n",
    "data = LoggingSavingRecord()\n",
    "print('Before: ', data.__dict__)\n",
    "data.foo = 5\n",
    "print('After: ', data.__dict__)\n",
    "data.foo = 7\n",
    "print('Finally:', data.__dict__)"
   ]
  },
  {
   "cell_type": "markdown",
   "id": "worldwide-theta",
   "metadata": {},
   "source": [
    "- the problem with `__getattribute__` and `__setattr__` is that they are called on every attibute access for an object, even when you may not want that to happen"
   ]
  },
  {
   "cell_type": "markdown",
   "id": "adequate-director",
   "metadata": {},
   "source": [
    "- imagine I want attribute access on my objects to look up keys in an associated dictionary"
   ]
  },
  {
   "cell_type": "code",
   "execution_count": 33,
   "id": "established-package",
   "metadata": {},
   "outputs": [],
   "source": [
    "class BrokenDictionaryRecord:\n",
    "    def __init__(self, data):\n",
    "        self.data = {}\n",
    "        \n",
    "    def __getattribute__(self, name):\n",
    "        print(f'* Called __getattribute__({name!r})')\n",
    "        return self._data[name]"
   ]
  },
  {
   "cell_type": "markdown",
   "id": "mature-hunger",
   "metadata": {},
   "source": [
    "- this requires accessing `self._data` form the `__getattribute__` methods\n",
    "- howerver if I actually try to do that, python will recure untill it reaches its stack limit and then die"
   ]
  },
  {
   "cell_type": "code",
   "execution_count": 34,
   "id": "touched-split",
   "metadata": {},
   "outputs": [],
   "source": [
    "# following code causes error\n",
    "# data = BrokenDictionaryRecord({'foo': 3})\n",
    "# data.foo"
   ]
  },
  {
   "cell_type": "markdown",
   "id": "bright-salon",
   "metadata": {},
   "source": [
    "- the problem is that `__getattribute__` access `self._data` which causes `__getattribute__` to run again, which accesses `self._data` again and so on\n",
    "- the solution is to use the `super().__getattribute__` method to fetch the values form the instance attribute dictionary to avoid recursion"
   ]
  },
  {
   "cell_type": "code",
   "execution_count": 35,
   "id": "personal-aggregate",
   "metadata": {},
   "outputs": [
    {
     "name": "stdout",
     "output_type": "stream",
     "text": [
      "* Called __getattribute__('foo')\n",
      "foo:  3\n"
     ]
    }
   ],
   "source": [
    "class DictionaryRecord:\n",
    "    def __init__(self, data):\n",
    "        self._data = data\n",
    "    \n",
    "    def __getattribute__(self, name):\n",
    "        print(f'* Called __getattribute__({name!r})')\n",
    "        data_dict = super().__getattribute__('_data')\n",
    "        return data_dict[name]\n",
    "    \n",
    "data = DictionaryRecord({'foo': 3})\n",
    "print('foo: ', data.foo)"
   ]
  },
  {
   "cell_type": "markdown",
   "id": "creative-shannon",
   "metadata": {},
   "source": [
    "`__setattr__` methods that modify attributes on an objectalso need to use `super().__setattr__` accordingly "
   ]
  },
  {
   "cell_type": "markdown",
   "id": "enhanced-abraham",
   "metadata": {},
   "source": [
    "### Things to Remember"
   ]
  },
  {
   "cell_type": "markdown",
   "id": "victorian-flashing",
   "metadata": {},
   "source": [
    "- Use `__getattr__` and `__setattr__` to lazily load and save attributes for an object\n",
    "- Understand that `__getattr__` only gets called when accessing a\n",
    "missing attribute, whereas `__getattribute__` gets called every time any attribute is accessed\n",
    "- Avoid infinite recursion in `__getattribute__` and `__setattr__` by using methods from `super()` (i.e., the object class) to access instance attributes"
   ]
  },
  {
   "cell_type": "markdown",
   "id": "portable-aside",
   "metadata": {},
   "source": [
    "## Item 48: Validate Subclasses with `__init_subclass__`"
   ]
  },
  {
   "cell_type": "markdown",
   "id": "interim-concrete",
   "metadata": {},
   "source": [
    "- the simplest applications of metaclasses is verifying that a class was defined correctly\n",
    "- when building a complex class hierarchy, you may want to enforce style, require overriding methods, or have strict relationships between class attributes\n",
    "- Metaclasses enable these use cases by providing a reliable way to run your validation code each time a new subclass is defined\n"
   ]
  },
  {
   "cell_type": "markdown",
   "id": "arranged-elements",
   "metadata": {},
   "source": [
    "- often a class's validation code runs in the `__init__` method when an object of the class's type is constructed in `runtime`\n",
    "- using metaclasses for validation can raise errors much earlier, such as when the module containing the class is first imported at program startup"
   ]
  },
  {
   "cell_type": "markdown",
   "id": "acting-oxide",
   "metadata": {},
   "source": [
    "- before we get into how to define a metaclass for validating subclasses, its important to understand the metaclass action for standard objects\n",
    "- a metaclass is defined by inheriting from `typ`\n",
    "- in the default class, a metaclass receives the contents of associated `class` statements in its `__new__` method\n",
    "- below we can inspect and modify the class information before the type is actually constructed "
   ]
  },
  {
   "cell_type": "code",
   "execution_count": 5,
   "id": "silver-malawi",
   "metadata": {},
   "outputs": [
    {
     "name": "stdout",
     "output_type": "stream",
     "text": [
      "* Running <class '__main__.Meta'>.__new__ for MyClass\n",
      "Bases ()\n",
      "{'__module__': '__main__', '__qualname__': 'MyClass', 'stuff': 123, 'foo': <function MyClass.foo at 0x000001D9ABA94CA0>}\n",
      "\n",
      "* Running <class '__main__.Meta'>.__new__ for MySubClass\n",
      "Bases (<class '__main__.MyClass'>,)\n",
      "{'__module__': '__main__', '__qualname__': 'MySubClass', 'other': 567, 'bar': <function MySubClass.bar at 0x000001D9ABAA43A0>}\n"
     ]
    }
   ],
   "source": [
    "class Meta(type):\n",
    "    def __new__(meta, name, bases, class_dict):\n",
    "        print(f'* Running {meta}.__new__ for {name}')\n",
    "        print('Bases', bases)\n",
    "        print(class_dict)\n",
    "        return type.__new__(meta, name, bases, class_dict)\n",
    "    \n",
    "class MyClass(metaclass=Meta):\n",
    "    stuff = 123\n",
    "    \n",
    "    def foo(self):\n",
    "        pass\n",
    "    \n",
    "print(\"\")\n",
    "    \n",
    "class MySubClass(MyClass):\n",
    "    other = 567\n",
    "    \n",
    "    def bar(self):\n",
    "        pass"
   ]
  },
  {
   "cell_type": "markdown",
   "id": "genuine-witness",
   "metadata": {},
   "source": [
    "- the metaclass has access to the names of the classes, the parent classes it inherits from (`bases`), and all the class attributes that were defined in the `class's` body\n",
    "- all classes inherit from `object`, so its not explicitly listed in the `tuples` base classes"
   ]
  },
  {
   "cell_type": "markdown",
   "id": "pressing-passing",
   "metadata": {},
   "source": [
    "- we can add functionality to the `Meta.__new__` method in order to validate all of the parameters of an associated class before its defined\n",
    "- say that I want to represent any type of multi-sided polygon\n",
    "- we can do this by defining a special validating metaclass and using it in the base class of my polygon class hierarchy"
   ]
  },
  {
   "cell_type": "code",
   "execution_count": 17,
   "id": "sound-venue",
   "metadata": {},
   "outputs": [],
   "source": [
    "class ValidatePolygon(type):\n",
    "    def __new__(meta, name, bases, class_dict):\n",
    "        # Only validate subclasses of the Polygon class\n",
    "        if bases:\n",
    "            if class_dict['sides'] < 3:\n",
    "                raise ValueError('Polygons need 3+ sides')\n",
    "        return type.__new__(meta, name, bases, class_dict)\n",
    "\n",
    "class Polygon(metaclass=ValidatePolygon):\n",
    "    sides = None # Must be specified by subclasses\n",
    "    \n",
    "    @classmethod\n",
    "    def interior_angles(cls):\n",
    "        return (cls.sides - 2) * 180\n",
    "\n",
    "class Triangle(Polygon):\n",
    "    sides = 3\n",
    "\n",
    "class Rectangle(Polygon):\n",
    "    sides = 4\n",
    "\n",
    "class Nonagon(Polygon):\n",
    "    sides = 9\n",
    "\n",
    "assert Triangle.interior_angles() == 180\n",
    "assert Rectangle.interior_angles() == 360\n",
    "assert Nonagon.interior_angles() == 1260"
   ]
  },
  {
   "cell_type": "markdown",
   "id": "virtual-begin",
   "metadata": {},
   "source": [
    "- if I try to define a polygon with fewer than three sides, the validation will cause the `class` statement to fail immediately aftet the `class` statement body\n",
    "- this means the program will not even be able to start running when I define such a class"
   ]
  },
  {
   "cell_type": "code",
   "execution_count": 18,
   "id": "muslim-guess",
   "metadata": {},
   "outputs": [
    {
     "name": "stdout",
     "output_type": "stream",
     "text": [
      "Before class\n",
      "Before sides\n",
      "After sides\n"
     ]
    },
    {
     "ename": "ValueError",
     "evalue": "Polygons need 3+ sides",
     "output_type": "error",
     "traceback": [
      "\u001b[1;31m---------------------------------------------------------------------------\u001b[0m",
      "\u001b[1;31mValueError\u001b[0m                                Traceback (most recent call last)",
      "\u001b[1;32m<ipython-input-18-eaa16278af3b>\u001b[0m in \u001b[0;36m<module>\u001b[1;34m\u001b[0m\n\u001b[0;32m      1\u001b[0m \u001b[0mprint\u001b[0m\u001b[1;33m(\u001b[0m\u001b[1;34m'Before class'\u001b[0m\u001b[1;33m)\u001b[0m\u001b[1;33m\u001b[0m\u001b[1;33m\u001b[0m\u001b[0m\n\u001b[0;32m      2\u001b[0m \u001b[1;33m\u001b[0m\u001b[0m\n\u001b[1;32m----> 3\u001b[1;33m \u001b[1;32mclass\u001b[0m \u001b[0mLine\u001b[0m\u001b[1;33m(\u001b[0m\u001b[0mPolygon\u001b[0m\u001b[1;33m)\u001b[0m\u001b[1;33m:\u001b[0m\u001b[1;33m\u001b[0m\u001b[1;33m\u001b[0m\u001b[0m\n\u001b[0m\u001b[0;32m      4\u001b[0m     \u001b[0mprint\u001b[0m\u001b[1;33m(\u001b[0m\u001b[1;34m'Before sides'\u001b[0m\u001b[1;33m)\u001b[0m\u001b[1;33m\u001b[0m\u001b[1;33m\u001b[0m\u001b[0m\n\u001b[0;32m      5\u001b[0m     \u001b[0msides\u001b[0m \u001b[1;33m=\u001b[0m \u001b[1;36m2\u001b[0m\u001b[1;33m\u001b[0m\u001b[1;33m\u001b[0m\u001b[0m\n",
      "\u001b[1;32m<ipython-input-17-80258a6a7e92>\u001b[0m in \u001b[0;36m__new__\u001b[1;34m(meta, name, bases, class_dict)\u001b[0m\n\u001b[0;32m      4\u001b[0m         \u001b[1;32mif\u001b[0m \u001b[0mbases\u001b[0m\u001b[1;33m:\u001b[0m\u001b[1;33m\u001b[0m\u001b[1;33m\u001b[0m\u001b[0m\n\u001b[0;32m      5\u001b[0m             \u001b[1;32mif\u001b[0m \u001b[0mclass_dict\u001b[0m\u001b[1;33m[\u001b[0m\u001b[1;34m'sides'\u001b[0m\u001b[1;33m]\u001b[0m \u001b[1;33m<\u001b[0m \u001b[1;36m3\u001b[0m\u001b[1;33m:\u001b[0m\u001b[1;33m\u001b[0m\u001b[1;33m\u001b[0m\u001b[0m\n\u001b[1;32m----> 6\u001b[1;33m                 \u001b[1;32mraise\u001b[0m \u001b[0mValueError\u001b[0m\u001b[1;33m(\u001b[0m\u001b[1;34m'Polygons need 3+ sides'\u001b[0m\u001b[1;33m)\u001b[0m\u001b[1;33m\u001b[0m\u001b[1;33m\u001b[0m\u001b[0m\n\u001b[0m\u001b[0;32m      7\u001b[0m         \u001b[1;32mreturn\u001b[0m \u001b[0mtype\u001b[0m\u001b[1;33m.\u001b[0m\u001b[0m__new__\u001b[0m\u001b[1;33m(\u001b[0m\u001b[0mmeta\u001b[0m\u001b[1;33m,\u001b[0m \u001b[0mname\u001b[0m\u001b[1;33m,\u001b[0m \u001b[0mbases\u001b[0m\u001b[1;33m,\u001b[0m \u001b[0mclass_dict\u001b[0m\u001b[1;33m)\u001b[0m\u001b[1;33m\u001b[0m\u001b[1;33m\u001b[0m\u001b[0m\n\u001b[0;32m      8\u001b[0m \u001b[1;33m\u001b[0m\u001b[0m\n",
      "\u001b[1;31mValueError\u001b[0m: Polygons need 3+ sides"
     ]
    }
   ],
   "source": [
    "print('Before class')\n",
    "\n",
    "class Line(Polygon):\n",
    "    print('Before sides')\n",
    "    sides = 2\n",
    "    print('After sides')\n",
    "    \n",
    "print('After class')"
   ]
  },
  {
   "cell_type": "markdown",
   "id": "adolescent-swing",
   "metadata": {},
   "source": [
    "- all that above seems like alot of machinery in order to get `Python` to accomplish such a basic task\n",
    "- we can howerver use the syntax `__init__subclass__` special class method- for achieving the special behavior while avoiding metaclasses entirely"
   ]
  },
  {
   "cell_type": "code",
   "execution_count": 22,
   "id": "after-integrity",
   "metadata": {},
   "outputs": [],
   "source": [
    "class BetterPolygon:\n",
    "    sides = None # Must be specified by subclasses\n",
    "    def __init_subclass__(cls):\n",
    "        super().__init_subclass__()\n",
    "        if cls.sides < 3:\n",
    "            raise ValueError('Polygons need 3+ sides')\n",
    "\n",
    "    @classmethod\n",
    "    def interior_angles(cls):\n",
    "        return (cls.sides - 2) * 180\n",
    "\n",
    "class Hexagon(BetterPolygon):\n",
    "    sides = 6\n",
    "\n",
    "assert Hexagon.interior_angles() == 720"
   ]
  },
  {
   "cell_type": "markdown",
   "id": "unlikely-garlic",
   "metadata": {},
   "source": [
    "- we can access the `sides` attribute directly on the `cls` instance in `__init_subclas__` instead of having to go into the class dictionary with `class_dict['sides']`\n",
    "- if I define an invalid subclass of `BetterPolygon`, the same exception is raise"
   ]
  },
  {
   "cell_type": "code",
   "execution_count": 23,
   "id": "sublime-emphasis",
   "metadata": {},
   "outputs": [
    {
     "name": "stdout",
     "output_type": "stream",
     "text": [
      "Before class\n"
     ]
    },
    {
     "ename": "ValueError",
     "evalue": "Polygons need 3+ sides",
     "output_type": "error",
     "traceback": [
      "\u001b[1;31m---------------------------------------------------------------------------\u001b[0m",
      "\u001b[1;31mValueError\u001b[0m                                Traceback (most recent call last)",
      "\u001b[1;32m<ipython-input-23-3df430f0fbb3>\u001b[0m in \u001b[0;36m<module>\u001b[1;34m\u001b[0m\n\u001b[0;32m      1\u001b[0m \u001b[0mprint\u001b[0m\u001b[1;33m(\u001b[0m\u001b[1;34m'Before class'\u001b[0m\u001b[1;33m)\u001b[0m\u001b[1;33m\u001b[0m\u001b[1;33m\u001b[0m\u001b[0m\n\u001b[0;32m      2\u001b[0m \u001b[1;33m\u001b[0m\u001b[0m\n\u001b[1;32m----> 3\u001b[1;33m \u001b[1;32mclass\u001b[0m \u001b[0mPoint\u001b[0m\u001b[1;33m(\u001b[0m\u001b[0mBetterPolygon\u001b[0m\u001b[1;33m)\u001b[0m\u001b[1;33m:\u001b[0m\u001b[1;33m\u001b[0m\u001b[1;33m\u001b[0m\u001b[0m\n\u001b[0m\u001b[0;32m      4\u001b[0m     \u001b[0msides\u001b[0m \u001b[1;33m=\u001b[0m \u001b[1;36m1\u001b[0m\u001b[1;33m\u001b[0m\u001b[1;33m\u001b[0m\u001b[0m\n\u001b[0;32m      5\u001b[0m \u001b[1;33m\u001b[0m\u001b[0m\n",
      "\u001b[1;32m<ipython-input-22-437ce10fa1df>\u001b[0m in \u001b[0;36m__init_subclass__\u001b[1;34m(cls)\u001b[0m\n\u001b[0;32m      4\u001b[0m         \u001b[0msuper\u001b[0m\u001b[1;33m(\u001b[0m\u001b[1;33m)\u001b[0m\u001b[1;33m.\u001b[0m\u001b[0m__init_subclass__\u001b[0m\u001b[1;33m(\u001b[0m\u001b[1;33m)\u001b[0m\u001b[1;33m\u001b[0m\u001b[1;33m\u001b[0m\u001b[0m\n\u001b[0;32m      5\u001b[0m         \u001b[1;32mif\u001b[0m \u001b[0mcls\u001b[0m\u001b[1;33m.\u001b[0m\u001b[0msides\u001b[0m \u001b[1;33m<\u001b[0m \u001b[1;36m3\u001b[0m\u001b[1;33m:\u001b[0m\u001b[1;33m\u001b[0m\u001b[1;33m\u001b[0m\u001b[0m\n\u001b[1;32m----> 6\u001b[1;33m             \u001b[1;32mraise\u001b[0m \u001b[0mValueError\u001b[0m\u001b[1;33m(\u001b[0m\u001b[1;34m'Polygons need 3+ sides'\u001b[0m\u001b[1;33m)\u001b[0m\u001b[1;33m\u001b[0m\u001b[1;33m\u001b[0m\u001b[0m\n\u001b[0m\u001b[0;32m      7\u001b[0m \u001b[1;33m\u001b[0m\u001b[0m\n\u001b[0;32m      8\u001b[0m     \u001b[1;33m@\u001b[0m\u001b[0mclassmethod\u001b[0m\u001b[1;33m\u001b[0m\u001b[1;33m\u001b[0m\u001b[0m\n",
      "\u001b[1;31mValueError\u001b[0m: Polygons need 3+ sides"
     ]
    }
   ],
   "source": [
    "print('Before class')\n",
    "\n",
    "class Point(BetterPolygon):\n",
    "    sides = 1\n",
    "\n",
    "print('After class')"
   ]
  },
  {
   "cell_type": "markdown",
   "id": "regulated-wireless",
   "metadata": {},
   "source": [
    "- another problem with the standard Python metaclass machinery is that you can only specify a signle metaclass per class definition\n",
    "- here, we define a second metaclass that I'd like to use for validating the fill color used for a region (not necessarily just polygons)"
   ]
  },
  {
   "cell_type": "code",
   "execution_count": 26,
   "id": "municipal-university",
   "metadata": {},
   "outputs": [],
   "source": [
    "class ValidateFilled(type):\n",
    "    def __new__(meta, name, bases, class_dict):\n",
    "        # Only validate subclasses of the Filled class\n",
    "        if bases:\n",
    "            if class_dict['color'] not in ('red', 'green'):\n",
    "                raise ValueError('Fill color must be supported')\n",
    "        return type.__new__(meta, name, bases, class_dict)\n",
    "\n",
    "class Filled(metaclass=ValidateFilled):\n",
    "    color = None # Must be specified by subclasses"
   ]
  },
  {
   "cell_type": "markdown",
   "id": "central-memphis",
   "metadata": {},
   "source": [
    "- when we try to use the `Polygon` metaclass and `Filled` metaclasses together, we get a cryptic `error` message"
   ]
  },
  {
   "cell_type": "code",
   "execution_count": 27,
   "id": "decent-woman",
   "metadata": {},
   "outputs": [
    {
     "ename": "TypeError",
     "evalue": "metaclass conflict: the metaclass of a derived class must be a (non-strict) subclass of the metaclasses of all its bases",
     "output_type": "error",
     "traceback": [
      "\u001b[1;31m---------------------------------------------------------------------------\u001b[0m",
      "\u001b[1;31mTypeError\u001b[0m                                 Traceback (most recent call last)",
      "\u001b[1;32m<ipython-input-27-ddfb321e600a>\u001b[0m in \u001b[0;36m<module>\u001b[1;34m\u001b[0m\n\u001b[1;32m----> 1\u001b[1;33m \u001b[1;32mclass\u001b[0m \u001b[0mRedPentagon\u001b[0m\u001b[1;33m(\u001b[0m\u001b[0mFilled\u001b[0m\u001b[1;33m,\u001b[0m \u001b[0mPolygon\u001b[0m\u001b[1;33m)\u001b[0m\u001b[1;33m:\u001b[0m\u001b[1;33m\u001b[0m\u001b[1;33m\u001b[0m\u001b[0m\n\u001b[0m\u001b[0;32m      2\u001b[0m     \u001b[0mcolor\u001b[0m \u001b[1;33m=\u001b[0m \u001b[1;34m'red'\u001b[0m\u001b[1;33m\u001b[0m\u001b[1;33m\u001b[0m\u001b[0m\n\u001b[0;32m      3\u001b[0m     \u001b[0msides\u001b[0m \u001b[1;33m=\u001b[0m \u001b[1;36m5\u001b[0m\u001b[1;33m\u001b[0m\u001b[1;33m\u001b[0m\u001b[0m\n",
      "\u001b[1;31mTypeError\u001b[0m: metaclass conflict: the metaclass of a derived class must be a (non-strict) subclass of the metaclasses of all its bases"
     ]
    }
   ],
   "source": [
    "class RedPentagon(Filled, Polygon):\n",
    "    color = 'red'\n",
    "    sides = 5"
   ]
  },
  {
   "cell_type": "markdown",
   "id": "vocational-corps",
   "metadata": {},
   "source": [
    "- its possible to fix this by creating a complex hierarchy of metaclass `type` definition to layer validation\n",
    "- but this ruines composability\n",
    "- if we want to use apply the color validation logic from `ValidateFilledPolygon` to another hierarchy of classes, we have to duplicat eall of the logic again, which reduces code reuse and increases boilerplate"
   ]
  },
  {
   "cell_type": "markdown",
   "id": "optical-orchestra",
   "metadata": {},
   "source": [
    "- the `__init_subclass__` special class method can also be used to solve this problem\n",
    "- it can be defined by multiple levels of a class hierarchy as long as the `super` built-in function is used to call any parent or siblings `__init_subclass__` definitions\n",
    "- here we define a class to represent region fill color that can be composed with `BetterPolygon` class from before"
   ]
  },
  {
   "cell_type": "code",
   "execution_count": 31,
   "id": "compliant-nature",
   "metadata": {},
   "outputs": [],
   "source": [
    "class Filled:\n",
    "    color = None # Must be specified by subclasses\n",
    "    \n",
    "    def __init_subclass__(cls):\n",
    "        super().__init_subclass__()\n",
    "        if cls.color not in ('red', 'green', 'blue'):\n",
    "            raise ValueError('Fills need a valid color')\n",
    "            \n",
    "class RedTriangle(Filled, Polygon):\n",
    "    color = 'red'\n",
    "    sides = 3\n",
    "    \n",
    "ruddy = RedTriangle()\n",
    "assert isinstance(ruddy, Filled)\n",
    "assert isinstance(ruddy, Polygon)"
   ]
  },
  {
   "cell_type": "markdown",
   "id": "visible-broadway",
   "metadata": {},
   "source": [
    "- if we specify the number of sides incorrectly, we get a validation error"
   ]
  },
  {
   "cell_type": "code",
   "execution_count": 33,
   "id": "spectacular-thread",
   "metadata": {},
   "outputs": [
    {
     "name": "stdout",
     "output_type": "stream",
     "text": [
      "Before class\n"
     ]
    },
    {
     "ename": "ValueError",
     "evalue": "Polygons need 3+ sides",
     "output_type": "error",
     "traceback": [
      "\u001b[1;31m---------------------------------------------------------------------------\u001b[0m",
      "\u001b[1;31mValueError\u001b[0m                                Traceback (most recent call last)",
      "\u001b[1;32m<ipython-input-33-c09f5b0b6f3e>\u001b[0m in \u001b[0;36m<module>\u001b[1;34m\u001b[0m\n\u001b[0;32m      1\u001b[0m \u001b[0mprint\u001b[0m\u001b[1;33m(\u001b[0m\u001b[1;34m'Before class'\u001b[0m\u001b[1;33m)\u001b[0m\u001b[1;33m\u001b[0m\u001b[1;33m\u001b[0m\u001b[0m\n\u001b[0;32m      2\u001b[0m \u001b[1;33m\u001b[0m\u001b[0m\n\u001b[1;32m----> 3\u001b[1;33m \u001b[1;32mclass\u001b[0m \u001b[0mBlueLine\u001b[0m\u001b[1;33m(\u001b[0m\u001b[0mFilled\u001b[0m\u001b[1;33m,\u001b[0m \u001b[0mPolygon\u001b[0m\u001b[1;33m)\u001b[0m\u001b[1;33m:\u001b[0m\u001b[1;33m\u001b[0m\u001b[1;33m\u001b[0m\u001b[0m\n\u001b[0m\u001b[0;32m      4\u001b[0m     \u001b[0mcolor\u001b[0m \u001b[1;33m=\u001b[0m \u001b[1;34m'blue'\u001b[0m\u001b[1;33m\u001b[0m\u001b[1;33m\u001b[0m\u001b[0m\n\u001b[0;32m      5\u001b[0m     \u001b[0msides\u001b[0m \u001b[1;33m=\u001b[0m \u001b[1;36m2\u001b[0m\u001b[1;33m\u001b[0m\u001b[1;33m\u001b[0m\u001b[0m\n",
      "\u001b[1;32m<ipython-input-17-80258a6a7e92>\u001b[0m in \u001b[0;36m__new__\u001b[1;34m(meta, name, bases, class_dict)\u001b[0m\n\u001b[0;32m      4\u001b[0m         \u001b[1;32mif\u001b[0m \u001b[0mbases\u001b[0m\u001b[1;33m:\u001b[0m\u001b[1;33m\u001b[0m\u001b[1;33m\u001b[0m\u001b[0m\n\u001b[0;32m      5\u001b[0m             \u001b[1;32mif\u001b[0m \u001b[0mclass_dict\u001b[0m\u001b[1;33m[\u001b[0m\u001b[1;34m'sides'\u001b[0m\u001b[1;33m]\u001b[0m \u001b[1;33m<\u001b[0m \u001b[1;36m3\u001b[0m\u001b[1;33m:\u001b[0m\u001b[1;33m\u001b[0m\u001b[1;33m\u001b[0m\u001b[0m\n\u001b[1;32m----> 6\u001b[1;33m                 \u001b[1;32mraise\u001b[0m \u001b[0mValueError\u001b[0m\u001b[1;33m(\u001b[0m\u001b[1;34m'Polygons need 3+ sides'\u001b[0m\u001b[1;33m)\u001b[0m\u001b[1;33m\u001b[0m\u001b[1;33m\u001b[0m\u001b[0m\n\u001b[0m\u001b[0;32m      7\u001b[0m         \u001b[1;32mreturn\u001b[0m \u001b[0mtype\u001b[0m\u001b[1;33m.\u001b[0m\u001b[0m__new__\u001b[0m\u001b[1;33m(\u001b[0m\u001b[0mmeta\u001b[0m\u001b[1;33m,\u001b[0m \u001b[0mname\u001b[0m\u001b[1;33m,\u001b[0m \u001b[0mbases\u001b[0m\u001b[1;33m,\u001b[0m \u001b[0mclass_dict\u001b[0m\u001b[1;33m)\u001b[0m\u001b[1;33m\u001b[0m\u001b[1;33m\u001b[0m\u001b[0m\n\u001b[0;32m      8\u001b[0m \u001b[1;33m\u001b[0m\u001b[0m\n",
      "\u001b[1;31mValueError\u001b[0m: Polygons need 3+ sides"
     ]
    }
   ],
   "source": [
    "print('Before class')\n",
    "\n",
    "class BlueLine(Filled, Polygon):\n",
    "    color = 'blue'\n",
    "    sides = 2\n",
    "\n",
    "print('After class')"
   ]
  },
  {
   "cell_type": "markdown",
   "id": "legitimate-updating",
   "metadata": {},
   "source": [
    "- if we specify the color incorrectly, we also get a validation error"
   ]
  },
  {
   "cell_type": "code",
   "execution_count": 35,
   "id": "elegant-torture",
   "metadata": {},
   "outputs": [
    {
     "name": "stdout",
     "output_type": "stream",
     "text": [
      "Before class\n"
     ]
    },
    {
     "ename": "ValueError",
     "evalue": "Fills need a valid color",
     "output_type": "error",
     "traceback": [
      "\u001b[1;31m---------------------------------------------------------------------------\u001b[0m",
      "\u001b[1;31mValueError\u001b[0m                                Traceback (most recent call last)",
      "\u001b[1;32m<ipython-input-35-8042334559da>\u001b[0m in \u001b[0;36m<module>\u001b[1;34m\u001b[0m\n\u001b[0;32m      1\u001b[0m \u001b[0mprint\u001b[0m\u001b[1;33m(\u001b[0m\u001b[1;34m'Before class'\u001b[0m\u001b[1;33m)\u001b[0m\u001b[1;33m\u001b[0m\u001b[1;33m\u001b[0m\u001b[0m\n\u001b[0;32m      2\u001b[0m \u001b[1;33m\u001b[0m\u001b[0m\n\u001b[1;32m----> 3\u001b[1;33m \u001b[1;32mclass\u001b[0m \u001b[0mBeigeSquare\u001b[0m\u001b[1;33m(\u001b[0m\u001b[0mFilled\u001b[0m\u001b[1;33m,\u001b[0m \u001b[0mPolygon\u001b[0m\u001b[1;33m)\u001b[0m\u001b[1;33m:\u001b[0m\u001b[1;33m\u001b[0m\u001b[1;33m\u001b[0m\u001b[0m\n\u001b[0m\u001b[0;32m      4\u001b[0m     \u001b[0mcolor\u001b[0m \u001b[1;33m=\u001b[0m \u001b[1;34m'beige'\u001b[0m\u001b[1;33m\u001b[0m\u001b[1;33m\u001b[0m\u001b[0m\n\u001b[0;32m      5\u001b[0m     \u001b[0msides\u001b[0m \u001b[1;33m=\u001b[0m \u001b[1;36m4\u001b[0m\u001b[1;33m\u001b[0m\u001b[1;33m\u001b[0m\u001b[0m\n",
      "\u001b[1;32m<ipython-input-17-80258a6a7e92>\u001b[0m in \u001b[0;36m__new__\u001b[1;34m(meta, name, bases, class_dict)\u001b[0m\n\u001b[0;32m      5\u001b[0m             \u001b[1;32mif\u001b[0m \u001b[0mclass_dict\u001b[0m\u001b[1;33m[\u001b[0m\u001b[1;34m'sides'\u001b[0m\u001b[1;33m]\u001b[0m \u001b[1;33m<\u001b[0m \u001b[1;36m3\u001b[0m\u001b[1;33m:\u001b[0m\u001b[1;33m\u001b[0m\u001b[1;33m\u001b[0m\u001b[0m\n\u001b[0;32m      6\u001b[0m                 \u001b[1;32mraise\u001b[0m \u001b[0mValueError\u001b[0m\u001b[1;33m(\u001b[0m\u001b[1;34m'Polygons need 3+ sides'\u001b[0m\u001b[1;33m)\u001b[0m\u001b[1;33m\u001b[0m\u001b[1;33m\u001b[0m\u001b[0m\n\u001b[1;32m----> 7\u001b[1;33m         \u001b[1;32mreturn\u001b[0m \u001b[0mtype\u001b[0m\u001b[1;33m.\u001b[0m\u001b[0m__new__\u001b[0m\u001b[1;33m(\u001b[0m\u001b[0mmeta\u001b[0m\u001b[1;33m,\u001b[0m \u001b[0mname\u001b[0m\u001b[1;33m,\u001b[0m \u001b[0mbases\u001b[0m\u001b[1;33m,\u001b[0m \u001b[0mclass_dict\u001b[0m\u001b[1;33m)\u001b[0m\u001b[1;33m\u001b[0m\u001b[1;33m\u001b[0m\u001b[0m\n\u001b[0m\u001b[0;32m      8\u001b[0m \u001b[1;33m\u001b[0m\u001b[0m\n\u001b[0;32m      9\u001b[0m \u001b[1;32mclass\u001b[0m \u001b[0mPolygon\u001b[0m\u001b[1;33m(\u001b[0m\u001b[0mmetaclass\u001b[0m\u001b[1;33m=\u001b[0m\u001b[0mValidatePolygon\u001b[0m\u001b[1;33m)\u001b[0m\u001b[1;33m:\u001b[0m\u001b[1;33m\u001b[0m\u001b[1;33m\u001b[0m\u001b[0m\n",
      "\u001b[1;32m<ipython-input-31-57af4bbf8b90>\u001b[0m in \u001b[0;36m__init_subclass__\u001b[1;34m(cls)\u001b[0m\n\u001b[0;32m      5\u001b[0m         \u001b[0msuper\u001b[0m\u001b[1;33m(\u001b[0m\u001b[1;33m)\u001b[0m\u001b[1;33m.\u001b[0m\u001b[0m__init_subclass__\u001b[0m\u001b[1;33m(\u001b[0m\u001b[1;33m)\u001b[0m\u001b[1;33m\u001b[0m\u001b[1;33m\u001b[0m\u001b[0m\n\u001b[0;32m      6\u001b[0m         \u001b[1;32mif\u001b[0m \u001b[0mcls\u001b[0m\u001b[1;33m.\u001b[0m\u001b[0mcolor\u001b[0m \u001b[1;32mnot\u001b[0m \u001b[1;32min\u001b[0m \u001b[1;33m(\u001b[0m\u001b[1;34m'red'\u001b[0m\u001b[1;33m,\u001b[0m \u001b[1;34m'green'\u001b[0m\u001b[1;33m,\u001b[0m \u001b[1;34m'blue'\u001b[0m\u001b[1;33m)\u001b[0m\u001b[1;33m:\u001b[0m\u001b[1;33m\u001b[0m\u001b[1;33m\u001b[0m\u001b[0m\n\u001b[1;32m----> 7\u001b[1;33m             \u001b[1;32mraise\u001b[0m \u001b[0mValueError\u001b[0m\u001b[1;33m(\u001b[0m\u001b[1;34m'Fills need a valid color'\u001b[0m\u001b[1;33m)\u001b[0m\u001b[1;33m\u001b[0m\u001b[1;33m\u001b[0m\u001b[0m\n\u001b[0m\u001b[0;32m      8\u001b[0m \u001b[1;33m\u001b[0m\u001b[0m\n\u001b[0;32m      9\u001b[0m \u001b[1;32mclass\u001b[0m \u001b[0mRedTriangle\u001b[0m\u001b[1;33m(\u001b[0m\u001b[0mFilled\u001b[0m\u001b[1;33m,\u001b[0m \u001b[0mPolygon\u001b[0m\u001b[1;33m)\u001b[0m\u001b[1;33m:\u001b[0m\u001b[1;33m\u001b[0m\u001b[1;33m\u001b[0m\u001b[0m\n",
      "\u001b[1;31mValueError\u001b[0m: Fills need a valid color"
     ]
    }
   ],
   "source": [
    "print('Before class')\n",
    "\n",
    "class BeigeSquare(Filled, Polygon):\n",
    "    color = 'beige'\n",
    "    sides = 4\n",
    "\n",
    "print('After class')"
   ]
  },
  {
   "cell_type": "markdown",
   "id": "after-sierra",
   "metadata": {},
   "source": [
    "- you can even use `__init_subclass__` in complex cases like diamond inheritance\n",
    "- below we define a basic diamong hierarchy to show this in action"
   ]
  },
  {
   "cell_type": "code",
   "execution_count": 36,
   "id": "dimensional-disposition",
   "metadata": {},
   "outputs": [
    {
     "name": "stdout",
     "output_type": "stream",
     "text": [
      "Top for <class '__main__.Left'>\n",
      "Top for <class '__main__.Right'>\n",
      "Top for <class '__main__.Bottom'>\n",
      "Right for <class '__main__.Bottom'>\n",
      "Left for <class '__main__.Bottom'>\n"
     ]
    }
   ],
   "source": [
    "class Top:\n",
    "    def __init_subclass__(cls):\n",
    "        super().__init_subclass__()\n",
    "        print(f'Top for {cls}')\n",
    "\n",
    "class Left(Top):\n",
    "    def __init_subclass__(cls):\n",
    "        super().__init_subclass__()\n",
    "        print(f'Left for {cls}')\n",
    "        \n",
    "class Right(Top):\n",
    "    def __init_subclass__(cls):\n",
    "        super().__init_subclass__()\n",
    "        print(f'Right for {cls}')\n",
    "        \n",
    "class Bottom(Left, Right):\n",
    "    def __init_subclass__(cls):\n",
    "        super().__init_subclass__()\n",
    "        print(f'Bottom for {cls}')"
   ]
  },
  {
   "cell_type": "markdown",
   "id": "vocal-bunny",
   "metadata": {},
   "source": [
    "- as expected, the `Top.__init_subclass` is called only a single time for each class, even though there are two paths to it for the `Bottom` class its `Left` and `right` parent classes"
   ]
  },
  {
   "cell_type": "markdown",
   "id": "dedicated-outreach",
   "metadata": {},
   "source": [
    "### Things to Remember"
   ]
  },
  {
   "cell_type": "markdown",
   "id": "allied-farmer",
   "metadata": {},
   "source": [
    "- the `__new__` method of metaclasses is run after the `class` statement's entire body has been processed\n",
    "- `metaclasses` can be used to inspect or modify a class after its defined by before its created, but they're often more heavyweight than what you need\n",
    "- use `__init_subclass__` to ensure that subclasses are well formed at the time they are defined, before objects of their type are constructed\n",
    "- be sure to call `super().__init_subclass__` from within your class's `__init_subclass__` definition to enable validation in multiple layers of classes and multiple inheritance"
   ]
  },
  {
   "cell_type": "markdown",
   "id": "appreciated-permission",
   "metadata": {},
   "source": [
    "## Item 50: Annotate Class Attributes with `__set_name__`"
   ]
  },
  {
   "cell_type": "markdown",
   "id": "widespread-concentration",
   "metadata": {},
   "source": [
    "- a useful feature enabled by metaclasses is the ability to modify or annotate properties after a class is define but before the class is actually used\n",
    "- this approach is commonly used with the `descriptors` to give them more introspection into how they're being used within their containing class\n",
    "- say we want to define a new class that represents a row in a customer database\n",
    "- we would like to have a corresponding property on the class for each column in the database table"
   ]
  },
  {
   "cell_type": "markdown",
   "id": "satellite-culture",
   "metadata": {},
   "source": [
    "- below we define a descriptor class to connect attributes to column names"
   ]
  },
  {
   "cell_type": "code",
   "execution_count": 38,
   "id": "maritime-compilation",
   "metadata": {},
   "outputs": [],
   "source": [
    "class Field:\n",
    "    def __init__(self, name):\n",
    "        self.name = name\n",
    "        self.internal_name = '_' + self.name\n",
    "        \n",
    "    def __get__(self, instance, instance_type):\n",
    "        if instance is None:\n",
    "            return self\n",
    "        return getattr(instance, self.internal_name, \"\")\n",
    "\n",
    "    def __set__(self, instance, value):\n",
    "        setattr(instance, self.internal_name, value)"
   ]
  },
  {
   "cell_type": "markdown",
   "id": "vocal-nature",
   "metadata": {},
   "source": [
    "- With the column name stored in the `Field` descriptor, we can save all of the per-instance state directly in the instance dictionary as protected fields by using the `setattr` built-in function, and later I can load state with `getattr`\n",
    "- at first, this seems to be much more convient than building `descriptors` with the `weakref` built-in module to avoid memory leaks\n",
    "- defining the class representing a row requires supplying the database tables column name for each class attribute"
   ]
  },
  {
   "cell_type": "code",
   "execution_count": 39,
   "id": "authentic-imagination",
   "metadata": {},
   "outputs": [],
   "source": [
    "class Customer:\n",
    "    # Class attributes\n",
    "    first_name = Field('first_name')\n",
    "    last_name = Field('last_name')\n",
    "    prefix = Field('prefix')\n",
    "    suffix = Field('suffix')"
   ]
  },
  {
   "cell_type": "markdown",
   "id": "heard-hello",
   "metadata": {},
   "source": [
    "- using the class is simple\n",
    "- here we can see how the `Field` descriptors modify the intance dictionary `__dict__` as expected"
   ]
  },
  {
   "cell_type": "code",
   "execution_count": 42,
   "id": "formed-likelihood",
   "metadata": {},
   "outputs": [
    {
     "name": "stdout",
     "output_type": "stream",
     "text": [
      "Before: '' {}\n",
      "After: 'Euclid' {'_first_name': 'Euclid'}\n"
     ]
    }
   ],
   "source": [
    "cust = Customer()\n",
    "print(f'Before: {cust.first_name!r} {cust.__dict__}')\n",
    "cust.first_name = 'Euclid'\n",
    "print(f'After: {cust.first_name!r} {cust.__dict__}')"
   ]
  },
  {
   "cell_type": "markdown",
   "id": "choice-detection",
   "metadata": {},
   "source": [
    "- but the class definition seems redundant\n",
    "- we already declared the name of the field for the class on the left (`field_name =`)\n",
    "- why do we also have to pass a string containing the same information to the `Field` constructor (`Field('first_name')`) on the right\n",
    "\n",
    "\n",
    "        class Customer:\n",
    "         # Left side is redundant with right side\n",
    "         first_name = Field('first_name')\n",
    "         ..."
   ]
  },
  {
   "cell_type": "markdown",
   "id": "pacific-synthetic",
   "metadata": {},
   "source": [
    "- the problem is that the order of operation in the `Customer` class definition is the opposite of how it reads from left to right\n",
    "- first the `Field` constructor is called as `Field('first_name')`\n",
    "- then the return value of that is assigned to `Customer.field_name`\n",
    "- there is no way for a `Field` instance to know upfront which class attribute it will be assigned to"
   ]
  },
  {
   "cell_type": "markdown",
   "id": "ranging-transaction",
   "metadata": {},
   "source": [
    "- to eliminate this redundancy we can use a `metaclass`\n",
    "- `metaclasses` let you hook into the `class` statement directly and take action as soon as a `class` body is finished\n",
    "- in this case, we can use the metaclass to assign `Field.name` and `Field.internal_name` on the descriptor automatically instead of manually specifying the field name multiple times"
   ]
  },
  {
   "cell_type": "code",
   "execution_count": 43,
   "id": "historical-association",
   "metadata": {},
   "outputs": [],
   "source": [
    "class Meta(type):\n",
    "    def __new__(meta, name, bases, class_dict):\n",
    "        for key, value in class_dict.items():\n",
    "            if isinstance(value, Field):\n",
    "                value.name = key\n",
    "                value.internal_name = '_' + key\n",
    "        cls = type.__new__(meta, name, bases, class_dict)\n",
    "        return cls"
   ]
  },
  {
   "cell_type": "markdown",
   "id": "statutory-device",
   "metadata": {},
   "source": [
    "- here we define a base class that uses the metaclass\n",
    "- all metaclasses representig batabase rows should inherit from the class to ensure that they use `metaclasses`"
   ]
  },
  {
   "cell_type": "code",
   "execution_count": 44,
   "id": "laden-argentina",
   "metadata": {},
   "outputs": [],
   "source": [
    "class DatabaseRow(metaclass=Meta):\n",
    "    pass"
   ]
  },
  {
   "cell_type": "markdown",
   "id": "confirmed-glance",
   "metadata": {},
   "source": [
    "- to work with metaclass, the `Field` descriptor is largely unchanged\n",
    "- the only difference is that it no longer requires arguments to be passed to its constructor\n",
    "- instead, its attributes are set by the `Meta.__new__` method"
   ]
  },
  {
   "cell_type": "code",
   "execution_count": 45,
   "id": "responsible-finnish",
   "metadata": {},
   "outputs": [],
   "source": [
    "class Field:\n",
    "    def __init__(self):\n",
    "        # these will be assigned by the metaclass\n",
    "        self.name = None\n",
    "        self.internal_name = None\n",
    "        \n",
    "    def __get__(self, instance, instance_tpye):\n",
    "        if instance is None:\n",
    "            return self\n",
    "        return getattr(instance, self.internal_name, \"\")\n",
    "    \n",
    "    def __set__(self, instance, value):\n",
    "        setattr(instance, self.internal_name, value)"
   ]
  },
  {
   "cell_type": "markdown",
   "id": "tough-draft",
   "metadata": {},
   "source": [
    "- by using the metaclasses, the new `DatabaseRow` base class, and the new `Field` descriptor, the class definition for a database row no longer has the redundancy from before"
   ]
  },
  {
   "cell_type": "code",
   "execution_count": 49,
   "id": "desperate-facial",
   "metadata": {},
   "outputs": [],
   "source": [
    "class BetterCustomer(DatabaseRow):\n",
    "    first_name = Field()\n",
    "    last_name = Field()\n",
    "    prefix = Field()\n",
    "    suffix = Field()"
   ]
  },
  {
   "cell_type": "markdown",
   "id": "electrical-amsterdam",
   "metadata": {},
   "source": [
    "- this behavior of the new class is identical to the behavior of the old one"
   ]
  },
  {
   "cell_type": "code",
   "execution_count": 51,
   "id": "subsequent-negotiation",
   "metadata": {},
   "outputs": [
    {
     "name": "stdout",
     "output_type": "stream",
     "text": [
      "Before: '' {}\n",
      "After: 'Euler' {'_first_name': 'Euler'}\n"
     ]
    }
   ],
   "source": [
    "cust = BetterCustomer()\n",
    "print(f'Before: {cust.first_name!r} {cust.__dict__}')\n",
    "cust.first_name = 'Euler'\n",
    "print(f'After: {cust.first_name!r} {cust.__dict__}')"
   ]
  },
  {
   "cell_type": "markdown",
   "id": "unsigned-daily",
   "metadata": {},
   "source": [
    "- the trouble with this approach is that you cant use the `Field` class for properties unless you also inherit from `DatabaseRow`\n",
    "- the solution to this problem is to use the `__set_name__` special method - this method is called for every descriptor instance when its containing class is defined\n",
    "- it receives as parameters the owning class that contains the descriptor instance and the attribute name to which the descriptor instance assigned\n",
    "- here we avoid defining a metaclass entirely and move what the `Meta.__new__` method from above was doing into `__set_name__:`"
   ]
  },
  {
   "cell_type": "code",
   "execution_count": 52,
   "id": "decimal-setting",
   "metadata": {},
   "outputs": [],
   "source": [
    "class Field:\n",
    "    def __int__(self):\n",
    "        self.name = None\n",
    "        self.internal_name = None\n",
    "        \n",
    "    def __set_name__(self, owner, name):\n",
    "        # Called on class creation for each descriptor\n",
    "        self.name = name\n",
    "        self.internal_name = '_' + name\n",
    "        \n",
    "    def __get__(self, instance, instance_type):\n",
    "        if instance is None:\n",
    "            return self\n",
    "        return getattr(instance, self.internal_name, '')\n",
    "    \n",
    "    def __self__(self, instance, value):\n",
    "        setattr(instance, self.internal_name, value)"
   ]
  },
  {
   "cell_type": "markdown",
   "id": "technological-mumbai",
   "metadata": {},
   "source": [
    "- now we get the benefits of the `Field` descriptor without having to inherit from a specific parent class or having to use a metaclass"
   ]
  },
  {
   "cell_type": "code",
   "execution_count": 54,
   "id": "advised-likelihood",
   "metadata": {},
   "outputs": [
    {
     "name": "stdout",
     "output_type": "stream",
     "text": [
      "Before: '' {}\n",
      "After: 'Mersenne' {'first_name': 'Mersenne'}\n"
     ]
    }
   ],
   "source": [
    "class FixedCustomer:\n",
    "    first_name = Field()\n",
    "    last_name = Field()\n",
    "    prefix = Field()\n",
    "    suffix = Field()\n",
    "    \n",
    "cust = FixedCustomer()\n",
    "print(f'Before: {cust.first_name!r} {cust.__dict__}')\n",
    "cust.first_name = 'Mersenne'\n",
    "print(f'After: {cust.first_name!r} {cust.__dict__}')"
   ]
  },
  {
   "cell_type": "markdown",
   "id": "imperial-progressive",
   "metadata": {},
   "source": [
    "### Things to Remember"
   ]
  },
  {
   "cell_type": "markdown",
   "id": "breathing-nurse",
   "metadata": {},
   "source": [
    "- metaclasses enable you to modify a class attributes before the class is fully defined\n",
    "- descriptors and metaclasses make a powerful combination for declarative behavior and runtime introspection\n",
    "- define `__set_name__` on your descriptor classes to allow them to take into account their surrounding class and its property names\n",
    "- avoid memoty leaks and the `weakref` built-in module by having descriptors store data they manipulate directly within a classes intance dictionary"
   ]
  },
  {
   "cell_type": "markdown",
   "id": "fifty-tribute",
   "metadata": {},
   "source": [
    "## Item 51: Perfer Class Decorators Over Metaclasses for Composable Class Extensions"
   ]
  },
  {
   "cell_type": "markdown",
   "id": "negative-spring",
   "metadata": {},
   "source": [
    "- although metaclasses allow you to customize class creation in multiple ways, they still falls short of handling every situation that may arise\n",
    "- for example, if we want to decorate all of the methods of a class with a helper that prints arguments, return values, and exceptions raised\n"
   ]
  },
  {
   "cell_type": "code",
   "execution_count": 75,
   "id": "inclusive-preservation",
   "metadata": {},
   "outputs": [],
   "source": [
    "from functools import wraps\n",
    "def trace_func(func):\n",
    "    if hasattr(func, 'tracing'): # Only decorate once\n",
    "        return func\n",
    "    @wraps(func)\n",
    "    def wrapper(*args, **kwargs):\n",
    "        result = None\n",
    "        try:\n",
    "            result = func(*args, **kwargs)\n",
    "            return result\n",
    "        except Exception as e:\n",
    "            result = e\n",
    "            raise\n",
    "        finally:\n",
    "            print(f'{func.__name__}({args!r}, {kwargs!r}) -> '\n",
    "                    f'{result!r}')\n",
    "    wrapper.tracing = True\n",
    "    return wrapper"
   ]
  },
  {
   "cell_type": "markdown",
   "id": "motivated-legend",
   "metadata": {},
   "source": [
    "- it can apply this decorator to various special methods the new `dict` subclass"
   ]
  },
  {
   "cell_type": "code",
   "execution_count": 76,
   "id": "enclosed-provision",
   "metadata": {},
   "outputs": [],
   "source": [
    "class TraceDict(dict):\n",
    "    @trace_func\n",
    "    def __init__(self, *args, **kwargs):\n",
    "        super().__init__(*args, **kwargs)\n",
    "    \n",
    "    @trace_func\n",
    "    def __setitem__(self, *args, **kwargs):\n",
    "        return super().__setitem__(*args, **kwargs)\n",
    "    \n",
    "    @trace_func\n",
    "    def __getitem__(self, *args, **kwargs):\n",
    "        return super().__getitem__(*args, **kwargs)"
   ]
  },
  {
   "cell_type": "markdown",
   "id": "daily-terrain",
   "metadata": {},
   "source": [
    "- we can verify that these methods are decorated by interacting with an instance of the class"
   ]
  },
  {
   "cell_type": "code",
   "execution_count": 78,
   "id": "chemical-straight",
   "metadata": {},
   "outputs": [
    {
     "name": "stdout",
     "output_type": "stream",
     "text": [
      "__init__(({'hi': 1}, [('hi', 1)]), {}) -> None\n",
      "__setitem__(({'hi': 1, 'there': 2}, 'there', 2), {}) -> None\n",
      "__getitem__(({'hi': 1, 'there': 2}, 'hi'), {}) -> 1\n",
      "__getitem__(({'hi': 1, 'there': 2}, 'does not exist'), {}) -> KeyError('does not exist')\n"
     ]
    }
   ],
   "source": [
    "trace_dict = TraceDict([('hi', 1)])\n",
    "trace_dict['there'] = 2\n",
    "trace_dict['hi']\n",
    "\n",
    "try:\n",
    "    trace_dict['does not exist']\n",
    "except KeyError:\n",
    "    pass # Expected"
   ]
  },
  {
   "cell_type": "markdown",
   "id": "biblical-cowboy",
   "metadata": {},
   "source": [
    "- the problem with the code is that we had to redefine all the methods that we wanted to decorate with `@trace_func`\n",
    "- this is redundant boiler-plate that's hard to read and error prone\n",
    "- further if a new method is later added to the dict superclass, it wont be decorated ubless we also define it in `TraceDict`"
   ]
  },
  {
   "cell_type": "markdown",
   "id": "necessary-involvement",
   "metadata": {},
   "source": [
    "- one way to solve this problem is to use a metaclass to automatically decorate all methods of a class\n",
    "- here we implement this behavior by wrapping each function or method in the new type with the `trace_func` decorator"
   ]
  },
  {
   "cell_type": "code",
   "execution_count": 88,
   "id": "european-association",
   "metadata": {},
   "outputs": [],
   "source": [
    "import types\n",
    "\n",
    "trace_types = (\n",
    "    types.MethodType,\n",
    "    types.FunctionType,\n",
    "    types.BuiltinFunctionType,\n",
    "    types.BuiltinMethodType,\n",
    "    types.MethodDescriptorType,\n",
    "    types.ClassMethodDescriptorType)\n",
    "\n",
    "class TraceMeta(type):\n",
    "    def __new__(meta, name, bases, class_dict):\n",
    "        klass = super().__new__(meta, name, bases, class_dict)\n",
    "        \n",
    "        for key in dir(klass):\n",
    "            value = getattr(klass, key)\n",
    "            if isinstance(value, trace_types):\n",
    "                wrapped = trace_func(value)\n",
    "                setattr(klass, key, wrapped)\n",
    "        return klass"
   ]
  },
  {
   "cell_type": "markdown",
   "id": "minus-delight",
   "metadata": {},
   "source": [
    "- now I can declare my `dict` subclass by using the `TraceMeta` metaclass and verify that it works as expected"
   ]
  },
  {
   "cell_type": "code",
   "execution_count": 85,
   "id": "toxic-bicycle",
   "metadata": {},
   "outputs": [],
   "source": [
    "class TraceDict(dict, metaclass=TraceMeta):\n",
    "    pass\n",
    "\n",
    "\n",
    "trace_dict = TraceDict([('hi', 1)])\n",
    "trace_dict['there'] = 2\n",
    "trace_dict['hi']\n",
    "\n",
    "try:\n",
    "    trace_dict['does not exist']\n",
    "except KeyError:\n",
    "    pass # Expected"
   ]
  },
  {
   "cell_type": "markdown",
   "id": "orange-moldova",
   "metadata": {},
   "source": [
    "- this works and it even prints out a call to `__new__` that was missing rom my earlier implementation\n",
    "- what happens if we try to use `TraceMeta` when a superclass already has specified a metaclass?"
   ]
  },
  {
   "cell_type": "code",
   "execution_count": 86,
   "id": "signed-glossary",
   "metadata": {},
   "outputs": [
    {
     "ename": "TypeError",
     "evalue": "metaclass conflict: the metaclass of a derived class must be a (non-strict) subclass of the metaclasses of all its bases",
     "output_type": "error",
     "traceback": [
      "\u001b[1;31m---------------------------------------------------------------------------\u001b[0m",
      "\u001b[1;31mTypeError\u001b[0m                                 Traceback (most recent call last)",
      "\u001b[1;32m<ipython-input-86-f9cd7b9c5140>\u001b[0m in \u001b[0;36m<module>\u001b[1;34m\u001b[0m\n\u001b[0;32m      5\u001b[0m     \u001b[1;32mpass\u001b[0m\u001b[1;33m\u001b[0m\u001b[1;33m\u001b[0m\u001b[0m\n\u001b[0;32m      6\u001b[0m \u001b[1;33m\u001b[0m\u001b[0m\n\u001b[1;32m----> 7\u001b[1;33m \u001b[1;32mclass\u001b[0m \u001b[0mTraceDict\u001b[0m\u001b[1;33m(\u001b[0m\u001b[0mSimpleDict\u001b[0m\u001b[1;33m,\u001b[0m \u001b[0mmetaclass\u001b[0m\u001b[1;33m=\u001b[0m\u001b[0mTraceMeta\u001b[0m\u001b[1;33m)\u001b[0m\u001b[1;33m:\u001b[0m\u001b[1;33m\u001b[0m\u001b[1;33m\u001b[0m\u001b[0m\n\u001b[0m\u001b[0;32m      8\u001b[0m     \u001b[1;32mpass\u001b[0m\u001b[1;33m\u001b[0m\u001b[1;33m\u001b[0m\u001b[0m\n",
      "\u001b[1;31mTypeError\u001b[0m: metaclass conflict: the metaclass of a derived class must be a (non-strict) subclass of the metaclasses of all its bases"
     ]
    }
   ],
   "source": [
    "class OtherMeta(type):\n",
    "    pass\n",
    "\n",
    "class SimpleDict(dict, metaclass=OtherMeta):\n",
    "    pass\n",
    "\n",
    "class TraceDict(SimpleDict, metaclass=TraceMeta):\n",
    "    pass"
   ]
  },
  {
   "cell_type": "markdown",
   "id": "special-compiler",
   "metadata": {},
   "source": [
    "- it fails because `TraceMeta` does not inherit from `OtherMeta`\n",
    "- we could use `metclass` inheritance to solve the problem by having `OtherMeta` inherit from `TraceMeta`"
   ]
  },
  {
   "cell_type": "code",
   "execution_count": 89,
   "id": "figured-portuguese",
   "metadata": {},
   "outputs": [
    {
     "name": "stdout",
     "output_type": "stream",
     "text": [
      "__init_subclass__((), {}) -> None\n",
      "__new__((<class '__main__.TraceDict'>, [('hi', 1)]), {}) -> {}\n",
      "__getitem__(({'hi': 1, 'there': 2}, 'hi'), {}) -> 1\n",
      "__getitem__(({'hi': 1, 'there': 2}, 'does not exist'), {}) -> KeyError('does not exist')\n"
     ]
    }
   ],
   "source": [
    "class TraceMeta(type):\n",
    "    def __new__(meta, name, bases, class_dict):\n",
    "        klass = super().__new__(meta, name, bases, class_dict)\n",
    "        \n",
    "        for key in dir(klass):\n",
    "            value = getattr(klass, key)\n",
    "            if isinstance(value, trace_types):\n",
    "                wrapped = trace_func(value)\n",
    "                setattr(klass, key, wrapped)\n",
    "        return klass\n",
    "\n",
    "class OtherMeta(TraceMeta):\n",
    "    pass\n",
    "\n",
    "class SimpleDict(dict, metaclass=OtherMeta):\n",
    "    pass\n",
    "\n",
    "class TraceDict(SimpleDict, metaclass=TraceMeta):\n",
    "    pass\n",
    "\n",
    "trace_dict = TraceDict([('hi', 1)])\n",
    "trace_dict['there'] = 2\n",
    "trace_dict['hi']\n",
    "\n",
    "try:\n",
    "    trace_dict['does not exist']\n",
    "except KeyError:\n",
    "    pass # Expected"
   ]
  },
  {
   "cell_type": "markdown",
   "id": "incorrect-forest",
   "metadata": {},
   "source": [
    "- the problem is that it wont work if the metaclass is from a library that we cant modify or if we want to use multiple utility metaclasses like `TraceMeta` at the same time\n",
    "- the metaclass approach puts too many constraints on the class that being modified"
   ]
  },
  {
   "cell_type": "markdown",
   "id": "statistical-cathedral",
   "metadata": {},
   "source": [
    "- we can use class `decorators`\n",
    "- class `decorators` work just like function decorators\n",
    "- the function is expected to modfiy or `re-create` the class accordingly and then return it"
   ]
  },
  {
   "cell_type": "code",
   "execution_count": 90,
   "id": "settled-score",
   "metadata": {},
   "outputs": [
    {
     "name": "stdout",
     "output_type": "stream",
     "text": [
      "<class '__main__.MyClass'>\n",
      "hello\n"
     ]
    }
   ],
   "source": [
    "def my_class_decorator(klass):\n",
    "    klass.extra_param = 'hello'\n",
    "    return klass\n",
    "\n",
    "@my_class_decorator\n",
    "class MyClass:\n",
    "    pass\n",
    "\n",
    "print(MyClass)\n",
    "print(MyClass.extra_param)"
   ]
  },
  {
   "cell_type": "markdown",
   "id": "decreased-compatibility",
   "metadata": {},
   "source": [
    "- we can implement a class decorator to apply `trace_func` to all methods and functions of a class by moving the core of the `TraceMeta.__new__` method aboce into a stand-alone function"
   ]
  },
  {
   "cell_type": "code",
   "execution_count": 91,
   "id": "assumed-vietnam",
   "metadata": {},
   "outputs": [],
   "source": [
    "def trace(klass):\n",
    "    for key in dir(klass):\n",
    "        value = getattr(klass, key)\n",
    "        if isinstance(value, trace_types):\n",
    "            wrapped = trace_func(value)\n",
    "            setattr(klass, key, wrapped)\n",
    "    return klass"
   ]
  },
  {
   "cell_type": "markdown",
   "id": "logical-citizenship",
   "metadata": {},
   "source": [
    "- we can apply this decorator to my `dict` subclass to get the sme behavior as I get by using the metaclass approach"
   ]
  },
  {
   "cell_type": "code",
   "execution_count": 93,
   "id": "abstract-airfare",
   "metadata": {},
   "outputs": [
    {
     "name": "stdout",
     "output_type": "stream",
     "text": [
      "__new__((<class '__main__.TraceDict'>, [('hi', 1)]), {}) -> {}\n",
      "__getitem__(({'hi': 1, 'there': 2}, 'hi'), {}) -> 1\n",
      "__getitem__(({'hi': 1, 'there': 2}, 'does not exist'), {}) -> KeyError('does not exist')\n"
     ]
    }
   ],
   "source": [
    "@trace\n",
    "class TraceDict(dict):\n",
    "    pass\n",
    "\n",
    "trace_dict = TraceDict([('hi', 1)])\n",
    "trace_dict['there'] = 2\n",
    "trace_dict['hi']\n",
    "\n",
    "try:\n",
    "    trace_dict['does not exist']\n",
    "except:\n",
    "    pass # Excepted"
   ]
  },
  {
   "cell_type": "markdown",
   "id": "suitable-copying",
   "metadata": {},
   "source": [
    "- class decorators also work when the class being decorated already has a metaclass"
   ]
  },
  {
   "cell_type": "code",
   "execution_count": 94,
   "id": "southeast-family",
   "metadata": {},
   "outputs": [
    {
     "name": "stdout",
     "output_type": "stream",
     "text": [
      "__new__((<class '__main__.TraceDict'>, [('hi', 1)]), {}) -> {}\n",
      "__getitem__(({'hi': 1, 'there': 2}, 'hi'), {}) -> 1\n",
      "__getitem__(({'hi': 1, 'there': 2}, 'does not exist'), {}) -> KeyError('does not exist')\n"
     ]
    }
   ],
   "source": [
    "class OtherMeta(type):\n",
    "    pass\n",
    "\n",
    "@trace\n",
    "class Trace(dict, metaclass=OtherMeta):\n",
    "    pass\n",
    "\n",
    "trace_dict = TraceDict([('hi', 1)])\n",
    "trace_dict['there'] = 2\n",
    "trace_dict['hi']\n",
    "\n",
    "try:\n",
    "    trace_dict['does not exist']\n",
    "except:\n",
    "    pass # Excepted"
   ]
  },
  {
   "cell_type": "markdown",
   "id": "binary-communication",
   "metadata": {},
   "source": [
    "- when your looking for composable ways to extend classes, class decorators are the best tool for the job"
   ]
  },
  {
   "cell_type": "markdown",
   "id": "potential-blank",
   "metadata": {},
   "source": [
    "### Things to Remeber"
   ]
  },
  {
   "cell_type": "markdown",
   "id": "competent-carolina",
   "metadata": {},
   "source": [
    "- a class decorator is a simple function that receives a `class` instance as a parameter and returns either a new class or modified version of the original class\n",
    "- class decorators are useful when you want to modify every method or attribute of a class with minimal boilerplate\n",
    "- metaclasses cant be composed together easily, while many class decorators can be used to extend the same class without conflicts"
   ]
  }
 ],
 "metadata": {
  "kernelspec": {
   "display_name": "Python 3",
   "language": "python",
   "name": "python3"
  },
  "language_info": {
   "codemirror_mode": {
    "name": "ipython",
    "version": 3
   },
   "file_extension": ".py",
   "mimetype": "text/x-python",
   "name": "python",
   "nbconvert_exporter": "python",
   "pygments_lexer": "ipython3",
   "version": "3.9.2"
  }
 },
 "nbformat": 4,
 "nbformat_minor": 5
}
