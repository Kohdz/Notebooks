{
 "cells": [
  {
   "cell_type": "markdown",
   "metadata": {},
   "source": [
    "# The Goal Of A Resume"
   ]
  },
  {
   "cell_type": "markdown",
   "metadata": {},
   "source": [
    "__The goal of the resume is to get you an interview for that position__ with a recuriter or hiring manager from a specific company "
   ]
  },
  {
   "cell_type": "markdown",
   "metadata": {},
   "source": [
    "The goal is to sell you for that specific position"
   ]
  },
  {
   "cell_type": "markdown",
   "metadata": {},
   "source": [
    "__Great resumes__ are ones where you grab the attention of the recruiter or the hiring manager, and they immediately want to talk with you"
   ]
  },
  {
   "cell_type": "markdown",
   "metadata": {},
   "source": [
    "Great resumes are ones that showcase rare and valuable expreance or skills that are _exactly_ what the job needs"
   ]
  },
  {
   "cell_type": "markdown",
   "metadata": {},
   "source": [
    "Great resumes are not generic, they are great for that specific role"
   ]
  },
  {
   "cell_type": "markdown",
   "metadata": {},
   "source": [
    "__Structuring your past expreances to showcase your best personal contributions is key in getting noticed__"
   ]
  },
  {
   "cell_type": "markdown",
   "metadata": {},
   "source": [
    "# Linkedin Is Not Enough"
   ]
  },
  {
   "cell_type": "markdown",
   "metadata": {},
   "source": [
    "__Linkedin is a tool for getting sourced for when you are in demand: it is a poor tool for directly applying__"
   ]
  },
  {
   "cell_type": "markdown",
   "metadata": {},
   "source": [
    "Negatives:\n",
    "- Not able to tailor to a specific position\n",
    "- Lack of history or versionin\n",
    "- No garuntee that linkedin will be around"
   ]
  },
  {
   "cell_type": "markdown",
   "metadata": {},
   "source": []
  },
  {
   "cell_type": "markdown",
   "metadata": {},
   "source": [
    "# The Hiring Pipeline"
   ]
  },
  {
   "cell_type": "markdown",
   "metadata": {},
   "source": [
    "The hiring pipeline has multiple people in it and their job is to reduce the traffic through the pipeline at every step"
   ]
  },
  {
   "cell_type": "markdown",
   "metadata": {},
   "source": [
    "__The hiring manager__\n",
    "- most important person and who runs the show\n",
    "- they open the position, write the job description, etc.\n",
    "- their goal is to hire people on their team who will help them excel"
   ]
  },
  {
   "cell_type": "markdown",
   "metadata": {},
   "source": [
    "__The Recuriter__:\n",
    "- coordinates everything on the recruitment side\n",
    "- they guide the interviewer through the proces \n",
    "- they find people who meet the hiring manager bar"
   ]
  },
  {
   "cell_type": "markdown",
   "metadata": {},
   "source": [
    "__The Sourcer__:\n",
    "- proactively reaches out on Linkedin and in other channels to soruce people\n",
    "- The sourcers job is to fill the pipeline with as many people as possible and send them to the recuriter"
   ]
  },
  {
   "cell_type": "markdown",
   "metadata": {},
   "source": [
    "__The inbound sourcer__:\n",
    "- screens all incomming job applications through the company job site\n",
    "- If your resume goes though the ATS system, the recuriter will scan it\n",
    "- Referrals will either go to inbound sourcers or to recruiters"
   ]
  },
  {
   "cell_type": "markdown",
   "metadata": {},
   "source": [
    "__The Reruitment Coordinator__:\n",
    "- manages the logistical process\n",
    "- once you get to the technical phone screen, onsite, etc, they manage this\n",
    "- if an interviwer cannot make it, they will swap them out, etc\n",
    "- if you are flown out, they handle the hotel, etc."
   ]
  },
  {
   "cell_type": "markdown",
   "metadata": {},
   "source": [
    "__The Interview panel__:\n",
    "- they will screen the technical interview, from the technical onsite, though the coding challenge, to the onsite\n",
    "- the hiring manager selects this group\n",
    "- their job is to keep the hiring bar fair, consistent and as bias-free as possible"
   ]
  },
  {
   "cell_type": "markdown",
   "metadata": {},
   "source": [
    "__Generally speaking, the smaller the company is, the more details you should be able to get__, and the deepr the relationship should be with your recuruiter"
   ]
  },
  {
   "cell_type": "markdown",
   "metadata": {},
   "source": [
    "# Typical Hiring Pipeline"
   ]
  },
  {
   "cell_type": "markdown",
   "metadata": {},
   "source": [
    "![](01.png)"
   ]
  },
  {
   "cell_type": "markdown",
   "metadata": {},
   "source": [
    "## Each Stage"
   ]
  },
  {
   "cell_type": "markdown",
   "metadata": {},
   "source": [
    "1. __Automated Ruseme Filtering__: Most large companies use an Applicant Tracking Systems (ATS) automatically scan your resume. Advance ATS systems grade the resume from 0-100 depending on key words and machine learning"
   ]
  },
  {
   "cell_type": "markdown",
   "metadata": {},
   "source": [
    "2. __Resume / CV screen__: In most companies, recruiters do the resume screening. Howerver, in some larger companies, like in Silicon Valley, they have inbound sourcers, who take on this screening. If they dont think your a good match, you might get an automated rejection message. They might set up a call with you if they feel it was good. "
   ]
  },
  {
   "cell_type": "markdown",
   "metadata": {},
   "source": [
    "3. __Recuriter Screen__: Only profiles who look promising to be a fit for the job market make it to the recuriter screen. This is a phone call with the recurier, confirming expreances, motivations and touching on soft skills"
   ]
  },
  {
   "cell_type": "markdown",
   "metadata": {},
   "source": [
    "4. __Technical Screen__: A technical phone screen and/or a takehome challenge focused on coding. Candidates almost always interact with software engineers at the company at this point"
   ]
  },
  {
   "cell_type": "markdown",
   "metadata": {},
   "source": [
    "5. __Onsite Interview__: Several onsite interviews such as coding, hiring manager and systems design. The hiring manager interview usually looks for soft skills, culture match and values alignment. System design interviews are usually scheduled only for more expreanced candidates"
   ]
  },
  {
   "cell_type": "markdown",
   "metadata": {},
   "source": [
    "6. __Offer__: Its common for a funnel that started with 100+ qualified resumes to result in a single offer"
   ]
  },
  {
   "cell_type": "markdown",
   "metadata": {},
   "source": [
    "# Why Referrals are Important"
   ]
  },
  {
   "cell_type": "markdown",
   "metadata": {},
   "source": [
    "Referrals are treated with priority because they work remarkably well. Refferals are more likely to go through interviews successfully, to get an offer and to accept an offer"
   ]
  },
  {
   "cell_type": "markdown",
   "metadata": {},
   "source": [
    "![](02.png)"
   ]
  },
  {
   "cell_type": "markdown",
   "metadata": {},
   "source": [
    "Referrals allow you to completely sidestep the automated resume filtering and have a human look at your resume. In many cases, you'll also make it to the recuiter call easier"
   ]
  },
  {
   "cell_type": "markdown",
   "metadata": {},
   "source": [
    "## Getting Refferals"
   ]
  },
  {
   "cell_type": "markdown",
   "metadata": {},
   "source": [
    "- __Check your network__: if someone you know happens to work at the company you are applying to\n"
   ]
  },
  {
   "cell_type": "markdown",
   "metadata": {},
   "source": [
    "- __See if you have second-degree connections on LinkedIn__:  where someone you know is connected with another person, who works at the company. See if you can ask for an introduction to get a referral."
   ]
  },
  {
   "cell_type": "markdown",
   "metadata": {},
   "source": [
    "- __Cold outreaches for referrals on LinkedIn__: It’s less likely to work than when you have a shared connection, but it can mean a large boost, compared to not having any referral. If you send a LinkedIn connection request, be sure to add a clear and concise message in the request on you looking for a referral"
   ]
  },
  {
   "cell_type": "markdown",
   "metadata": {},
   "source": [
    "- __For well-known tech companies__: consider asking for a referral on Blind. Blind is an anonymous professional network for people working at larger companies. It is common for people to ask for referrals. When you do, make sure to tag the company name, include your LinkedIn profile, describe why you are a good fit for the job, and link the job description"
   ]
  },
  {
   "cell_type": "markdown",
   "metadata": {},
   "source": [
    "If you ask for a referral, do this before you apply to the position. "
   ]
  },
  {
   "cell_type": "markdown",
   "metadata": {},
   "source": [
    "## Referrals: What developers working at tech companies say"
   ]
  },
  {
   "cell_type": "markdown",
   "metadata": {},
   "source": [
    "__Facebook__: “With a referral, you are 10x as likely to get an interview. If you are a borderline hire and your referral has worked with you, and they can vouch for you technically and professionally, it can turn a “maybe” into a yes. I’ve seen it happen before.”\n",
    "\n",
    "__Google__: “Almost all people I’ve referred, even without knowing them, have gotten an interview. Beyond that, cold referrals don’t help. Referrals, where the person has worked with you and has good enough knowledge of your work can help you get an offer, though.”\n",
    "\n",
    "__Amazon__: “A blind referral can get you a phone interview with a recruiter - this is what happened in my case, at least.”\n",
    "\n",
    "__Microsoft__: “A referral can get you an interview faster, but it doesn’t help you get an offer.”\n",
    "\n",
    "__Uber__: “It almost certainly gets you a response from the recruiter. If the person referring you knows you well, they might also ping the recruiter directly, increasing the chance for a recruiter call.”\n",
    "\n",
    "__Netflix__: “We usually only give referrals to people we know well - blind referrals are not a thing that I’ve seen.”\n",
    "\n",
    "__Tumblr__: “A referral gets your resume and application fast-tracked to the recruiter, but that’s about it.”"
   ]
  },
  {
   "cell_type": "markdown",
   "metadata": {},
   "source": [
    "# The Priority Of Your Resume"
   ]
  },
  {
   "cell_type": "markdown",
   "metadata": {},
   "source": [
    "The goal of a hiring manager is to hire people who are qualified for the job as quickly and efficently as possible"
   ]
  },
  {
   "cell_type": "markdown",
   "metadata": {},
   "source": [
    "The goal of the recruiter is to help the hiring manager in the process"
   ]
  },
  {
   "cell_type": "markdown",
   "metadata": {},
   "source": [
    "This is how they rank your resume"
   ]
  },
  {
   "cell_type": "markdown",
   "metadata": {},
   "source": [
    "![](03.png)"
   ]
  },
  {
   "cell_type": "markdown",
   "metadata": {},
   "source": [
    "1. __Referrals__: The recruiter and hiring manager almost always read through resumes that come through employee referrals, in-depth. While the hiring manager might have a policy of not moving forward with referrals who needs a visa or relocation might - this is also the most likely place where exceptions could be made, especially with a strong referral"
   ]
  },
  {
   "cell_type": "markdown",
   "metadata": {},
   "source": [
    "2. __Local candidates__: Recruiters and hiring managers perk up when seeing local candidates. Local means no paperwork to start, and no relocation needed. There’s also little risk for a candidate who accepted an offer to back out due to relocation concerns"
   ]
  },
  {
   "cell_type": "markdown",
   "metadata": {},
   "source": [
    "3. __Candidates not needing visas__: In these cases, once an offer is made, there's little paperwork needed, and there won't be visa-related delays for the person starting. They might need to relocate, but relocation would not add any uncertainties to the starting date."
   ]
  },
  {
   "cell_type": "markdown",
   "metadata": {},
   "source": [
    "4. __Candidates needing visas__: and relocation are usually people from abroad. This type of hire is the most time and cost consuming for the company. A company needs to be ready to wait for a longer visa process to go through, and pay for the additional costs like relocation, in these cases. These kinds of hires are usually reserved either for positions that are hard to fill, or for cases where the company needs to hire a large number of people. Someone needing a visa and relocation might mean an additional 2-3 months to start the job, with an additional 10k-15K in relocation and visa costs."
   ]
  },
  {
   "cell_type": "markdown",
   "metadata": {},
   "source": [
    "5. __Candidates from countries that are unusually difficult to get visas for__  this usually applies to US companies. In certain countries, and for certain companies, hiring developers from certain countries becomes very difficult, if not impossible. One specific case is hiring for US companies - even when the office is not in the US - from countries that are on the comprehensively sanctioned countries or the targeted sanction countries list. Getting a visa can be a difficult process that few - if any - companies will want to go through."
   ]
  },
  {
   "cell_type": "markdown",
   "metadata": {},
   "source": [
    "# Shorter Recruting Pipelines"
   ]
  },
  {
   "cell_type": "markdown",
   "metadata": {},
   "source": [
    "For instance, take the small company and small company recuriting"
   ]
  },
  {
   "cell_type": "markdown",
   "metadata": {},
   "source": [
    "![](04.png)"
   ]
  },
  {
   "cell_type": "markdown",
   "metadata": {},
   "source": [
    "__This kind of hiring process is one of the nicest onces, as a candiate__. Your resume is almost always read by a technical hiring manager, who works with developers. The technical screens rarely have algorithmic challenges and the onsite is shorter as well"
   ]
  },
  {
   "cell_type": "markdown",
   "metadata": {},
   "source": [
    "The catch is they are less well know and have lower compensation"
   ]
  },
  {
   "cell_type": "markdown",
   "metadata": {},
   "source": [
    "# Tech Resume Basics"
   ]
  },
  {
   "cell_type": "markdown",
   "metadata": {},
   "source": [
    "## The first glance"
   ]
  },
  {
   "cell_type": "markdown",
   "metadata": {},
   "source": [
    "These are the key information recruiters want to collect"
   ]
  },
  {
   "cell_type": "markdown",
   "metadata": {},
   "source": [
    "1. __Years of Expreance__: the first thing they'll scan for is how long you have been working for. The recruiter will then mentall compare you to the internal level of the positon. They will see your graudation date, do a quick calculation to see how many years you have worked. If they cannot find it, then they throw it into the reject pile, the samw way as you dont have sufficent years to warrent a hire"
   ]
  },
  {
   "cell_type": "markdown",
   "metadata": {},
   "source": [
    "2. __Relevant Technologies__: How many years do expreance with a technology do you have. This is why it is important to have all the technologies you use that are also on the job description"
   ]
  },
  {
   "cell_type": "markdown",
   "metadata": {},
   "source": [
    "3. __Work Expreance__: How much relevant work expreance do you have? Do you come across as someone who has consistently delivered impact? How was this impact measured? This is an area where quantifying things helps. If you mention the daily visitors on the site you worked on, the RPS for the services you wrote or an improvement % you made, this is easier to translate across employers than a qualitative description of the project"
   ]
  },
  {
   "cell_type": "markdown",
   "metadata": {},
   "source": [
    "4. __Work Authorization and visa status (when applying from aborad)__: Make it clear of your work authorization; if your name is different and the last place you have worked is not the USA, recruiters might put your resume in the \"need visa\" pile and they will prioritize local candidates"
   ]
  },
  {
   "cell_type": "markdown",
   "metadata": {},
   "source": [
    "5.  __Anything that stands out__: Could be your school, an award, company, patent, phD, open source product, etc."
   ]
  },
  {
   "cell_type": "markdown",
   "metadata": {},
   "source": [
    "Thus You should use bold lettering and coloring to stand out"
   ]
  },
  {
   "cell_type": "markdown",
   "metadata": {},
   "source": [
    "## Ground Rules"
   ]
  },
  {
   "cell_type": "markdown",
   "metadata": {},
   "source": [
    "1. __Good grammer and No typos__: Dont DO it"
   ]
  },
  {
   "cell_type": "markdown",
   "metadata": {},
   "source": [
    "2. __Basic Contact details__: Include your email adress and relevant contact information, like phone number and the city and country where you are a resident, at the top"
   ]
  },
  {
   "cell_type": "markdown",
   "metadata": {},
   "source": [
    "3. __Dates in reverse chronological order__: Mark your work and education expreances clearly with dates. List them with the latest one on the top, listing out earlier ones underneat"
   ]
  },
  {
   "cell_type": "markdown",
   "metadata": {},
   "source": [
    "4.  __Dont include photos or non-required personal information__"
   ]
  },
  {
   "cell_type": "markdown",
   "metadata": {},
   "source": [
    "5. __Two pages or less__: For two pages or more, should be 8-10 years of expreance"
   ]
  },
  {
   "cell_type": "markdown",
   "metadata": {},
   "source": [
    "## Simplicity and Consistency"
   ]
  },
  {
   "cell_type": "markdown",
   "metadata": {},
   "source": [
    "1. __Clear, neat and consistent formatting__: use the same formatiing through the resume. Use consistent font size and make reusme easy to scan"
   ]
  },
  {
   "cell_type": "markdown",
   "metadata": {},
   "source": [
    "2. __Bullet points for easy readability__: use bullet points that make the CV easy to read. Avoid sub-bullet points as they clutter your resume; dont use dashes"
   ]
  },
  {
   "cell_type": "markdown",
   "metadata": {},
   "source": [
    "3.  __Dates: use consistent and easy to read formats__: dont use \"06/11 - 07/12\" USe \"June 2011 - July 2020"
   ]
  },
  {
   "cell_type": "markdown",
   "metadata": {},
   "source": [
    "4.  __Use PDF Format__: Different machines can end up reading different formats differently"
   ]
  },
  {
   "cell_type": "markdown",
   "metadata": {},
   "source": [
    "5.  __Be concise and dont spell out trival things:__ Ruthlessly edit your resume and drop sections that add little to no information. An exception is when you do Keyword Stuffing."
   ]
  },
  {
   "cell_type": "markdown",
   "metadata": {},
   "source": [
    "# Resume Structure"
   ]
  },
  {
   "cell_type": "markdown",
   "metadata": {},
   "source": [
    "1.  __Real-word work software development expreance__: If you have any expreance, list this, together with your accomplishments. Show off what you have delivered and how you have already gone above and beyoned. "
   ]
  },
  {
   "cell_type": "markdown",
   "metadata": {},
   "source": [
    "2. __Your school details__: Especially if the school is well-known already and you have high-grades, this can be impressive."
   ]
  },
  {
   "cell_type": "markdown",
   "metadata": {},
   "source": [
    "3. __Internship__: Be specific on results, impact and your contribution. In FAANG companies, its not too uncommon to see FAANG Internships on their resume"
   ]
  },
  {
   "cell_type": "markdown",
   "metadata": {},
   "source": [
    "4.  __Sizeable contribution to real-word (open source) projects__: If you are a core or frequent contributor to a project, list this. If you have created a project that has now multiple contributions or many users, show this off. "
   ]
  },
  {
   "cell_type": "markdown",
   "metadata": {},
   "source": [
    "5. __Projects that stand out__: due to their impact, such as their complexity, number of users or other impressive metrics"
   ]
  },
  {
   "cell_type": "markdown",
   "metadata": {},
   "source": [
    "6. __Tutoring and leadership positions in student groups__: If you have already been teaching your peers, as a teaching or lab assistant, etc. If you lead a group project, its good, as it show you can mentor"
   ]
  },
  {
   "cell_type": "markdown",
   "metadata": {},
   "source": [
    "## Possible New Grad Resume Structure"
   ]
  },
  {
   "cell_type": "markdown",
   "metadata": {},
   "source": [
    "New Grads Use the \"Pragmatic Engineers Resume\""
   ]
  },
  {
   "cell_type": "markdown",
   "metadata": {},
   "source": [
    "### How can new grads and interns grab the attention of university recruiters?"
   ]
  },
  {
   "cell_type": "markdown",
   "metadata": {},
   "source": [
    "- A uber recruiter says the following\n",
    "- \"the resume that stands out are the ones that are a good match for the job description and show some relevant expreances. Could be internships, but it can be equally be projects the person has done\n",
    "- read the job description and amend your resume accordingly\n",
    "- they care about your passions, extracurricular activities, hackathons, etc."
   ]
  },
  {
   "cell_type": "markdown",
   "metadata": {},
   "source": [
    "## Structure With Work Expreance"
   ]
  },
  {
   "cell_type": "markdown",
   "metadata": {},
   "source": [
    "- __Work expreance at or near the top of the page__: Your current title, company and past few years of work expreance is something the recruiter and hiring manager will want to glance at"
   ]
  },
  {
   "cell_type": "markdown",
   "metadata": {},
   "source": [
    "- __Have a languages and technologies section on first page__: Only list relevent technolgies the company want"
   ]
  },
  {
   "cell_type": "markdown",
   "metadata": {},
   "source": [
    "- __When spending a long time at one workplace__: list out the key projects, you shipped and the titles you've had there. Have you been promoted? Treat it as a new \"sub-work\" section listing the projects you did at that point"
   ]
  },
  {
   "cell_type": "markdown",
   "metadata": {},
   "source": [
    "- __Education details become less important with seniority__: With 1-3 years of expreance, just leave your degree, school and thats it"
   ]
  },
  {
   "cell_type": "markdown",
   "metadata": {},
   "source": [
    "- __Spend less space on old positions__: the resume should sell you, not show every place you ever worked at"
   ]
  },
  {
   "cell_type": "markdown",
   "metadata": {},
   "source": [
    "- __Extracurricular__: Add patents, publications, talks, standout open source projects, published projects, etc. For open source and published projects, aim to be specific on why they are important"
   ]
  },
  {
   "cell_type": "markdown",
   "metadata": {},
   "source": [
    "- __Projects__: the more work expreance you have, the less relevant outside work projects tend to become. Use the result, impact and your contribution format to explain why the project was relevant and impactful"
   ]
  },
  {
   "cell_type": "markdown",
   "metadata": {},
   "source": [
    "- __Intrests__: Things that make you more human, if you stick with a one-page format and you're short on space, you can skip this"
   ]
  },
  {
   "cell_type": "markdown",
   "metadata": {},
   "source": [
    "### What recruiters typically look for in resume"
   ]
  },
  {
   "cell_type": "markdown",
   "metadata": {},
   "source": [
    "- Uber recruiter says\n",
    "- we are looking for specific technology the person has used\n",
    "- \"__And I'd stress how what really makes you stand out is having a tailored CV for the position__\"\n",
    "- This is about otimizing the top of the funnel to spreamline the workflow\n",
    "- Have 80% of what the company is looking for"
   ]
  },
  {
   "cell_type": "markdown",
   "metadata": {},
   "source": [
    "## Tell A Story with your resume"
   ]
  },
  {
   "cell_type": "markdown",
   "metadata": {},
   "source": [
    "- __Make promotions clearly visible__: Good hiring managers pick up on this because as a developer its easier to job hop, than get promoted within the organization"
   ]
  },
  {
   "cell_type": "markdown",
   "metadata": {},
   "source": [
    "- __Don't always stick to your \"formal\" titles__ Some companies will give you a title of \"Community Manager\" instead of \"Software Developer\""
   ]
  },
  {
   "cell_type": "markdown",
   "metadata": {},
   "source": [
    "- __Dec 2013 vs 2013: Drop the months__: for dates that are more than a few months old. If you have been working for 2-3 years, weeks wont matter "
   ]
  },
  {
   "cell_type": "markdown",
   "metadata": {},
   "source": [
    "- __Omit work expreances that doesn't support your story__: if you have worked as a pizza delivery guy, skip it"
   ]
  },
  {
   "cell_type": "markdown",
   "metadata": {},
   "source": [
    "## Languages and Technologies"
   ]
  },
  {
   "cell_type": "markdown",
   "metadata": {},
   "source": [
    "__Go to the company blog and read about their damn stack if you have to__"
   ]
  },
  {
   "cell_type": "markdown",
   "metadata": {},
   "source": [
    "__Aviod listing expertise__"
   ]
  },
  {
   "cell_type": "markdown",
   "metadata": {},
   "source": [
    "![](05.png)"
   ]
  },
  {
   "cell_type": "markdown",
   "metadata": {},
   "source": [
    "The one below is revised and adds thing from their blog that they mentioned"
   ]
  },
  {
   "cell_type": "markdown",
   "metadata": {},
   "source": [
    "Adding tools that anyone can pick up in a matter of hours -IDEs or sites like Github, etc."
   ]
  },
  {
   "cell_type": "markdown",
   "metadata": {},
   "source": [
    "## Summary Sections"
   ]
  },
  {
   "cell_type": "markdown",
   "metadata": {},
   "source": [
    "__Recruiters and hiring managers barely read this section on the first scan__ "
   ]
  },
  {
   "cell_type": "markdown",
   "metadata": {},
   "source": [
    "If you do have this, make it short add specific and pratical information; mention years of expreance and highlight why your a great fit"
   ]
  },
  {
   "cell_type": "markdown",
   "metadata": {},
   "source": [
    "When to have a summary section:\n",
    "- Resume submitted via refferals: in this case recruiters or hiring manager will read the resume. The few sentences summary can serve as a \"mini cover letter\", conveying motivation\n",
    "- Senior/standout profile: since your a great candiate, they will be egar to learn more and will read this section.\n",
    "- For fully remote positons: a summary that also mentions when you are only looking for remote positons or that you are highly adept at remote work\n",
    "- When changing roles compared to your last title: hiring manager might be curious to see summary if you were chemist and now software engineer\n",
    "- With a formatting that naturally lends itself to read: it is clear and consise and alot of white space"
   ]
  },
  {
   "cell_type": "markdown",
   "metadata": {},
   "source": [
    "## Standing Out"
   ]
  },
  {
   "cell_type": "markdown",
   "metadata": {},
   "source": [
    "- Your resume should showcase how you have consciously and proactively added value through your actions\n",
    "- responsibilities and accomplishment.\n",
    "- have 1 number in each bullet point"
   ]
  },
  {
   "cell_type": "markdown",
   "metadata": {},
   "source": [
    "![](06.png)"
   ]
  },
  {
   "cell_type": "markdown",
   "metadata": {},
   "source": [
    "https://blog.petdance.com/2011/11/14/track-your-stats-like-a-pro-athlete-to-give-your-resume-power/"
   ]
  },
  {
   "cell_type": "markdown",
   "metadata": {},
   "source": [
    "https://codewithoutrules.com/2020/05/18/job-search-skills/"
   ]
  },
  {
   "cell_type": "markdown",
   "metadata": {},
   "source": [
    "## Don't be humble"
   ]
  },
  {
   "cell_type": "markdown",
   "metadata": {},
   "source": [
    "- __Talk about yourself, not your team__: Do not use \"we\", use the first person instead. You also do not have to use \"I\""
   ]
  },
  {
   "cell_type": "markdown",
   "metadata": {},
   "source": [
    "- __Be Consise but not humble__: Dont hide your achievement and when in doubt, add them. Inflating them on the borderline will hurt less than hiding them"
   ]
  },
  {
   "cell_type": "markdown",
   "metadata": {},
   "source": [
    "- __Make your side projects & open-source contributions shine__: If you built impressive projects or have great open source contributions, bring attention to these in those sections of your resume. Follow the __Result-impact-contribution__ model. "
   ]
  },
  {
   "cell_type": "markdown",
   "metadata": {},
   "source": [
    "- __Do talk about extracurricular activited adjcent to tech__:If you organized tech meetups, have a tech blog, link a specific high-quality article, the reader can read, etc."
   ]
  },
  {
   "cell_type": "markdown",
   "metadata": {},
   "source": [
    "## Write a Resume for that Job"
   ]
  },
  {
   "cell_type": "markdown",
   "metadata": {},
   "source": [
    "There are more job seekers for every tech job than there have been in over a decade."
   ]
  },
  {
   "cell_type": "markdown",
   "metadata": {},
   "source": [
    "Create a \"master\" version of your resume where you list out lots of detials in your work expreance and projects section. Use the result, impact and your contribution language. Even if this resume goes more than one page, its fine"
   ]
  },
  {
   "cell_type": "markdown",
   "metadata": {},
   "source": [
    "__Then create a version of your resume for the specific job description__."
   ]
  },
  {
   "cell_type": "markdown",
   "metadata": {},
   "source": [
    "![](05.png)"
   ]
  },
  {
   "cell_type": "markdown",
   "metadata": {},
   "source": [
    "## Different Companies, Different Focus"
   ]
  },
  {
   "cell_type": "markdown",
   "metadata": {},
   "source": [
    "Top tech companies care far less about the specific languages used, but they do care about software engineering skills"
   ]
  },
  {
   "cell_type": "markdown",
   "metadata": {},
   "source": [
    "## Tech companies hiring generalist software engineers"
   ]
  },
  {
   "cell_type": "markdown",
   "metadata": {},
   "source": [
    "FAANG looks for generalists.  These companies look for good understanding of at least one programming language, and good knowladge of algorithms and data structures"
   ]
  },
  {
   "cell_type": "markdown",
   "metadata": {},
   "source": [
    "## Grab Attention"
   ]
  },
  {
   "cell_type": "markdown",
   "metadata": {},
   "source": [
    "- __Do mention programming languages__ you are proficient with, espically ones that the job description mention; knowing a few languages means you will be able to pick new ones up on the job"
   ]
  },
  {
   "cell_type": "markdown",
   "metadata": {},
   "source": [
    "- __Do tailor your resume to the job description__: Mentionin ghte area the job description ask for, assuming you are proficient with. Data structures and algorithms, computer science fundamental s, object-oriented design, distributed systems, and anything with scale and numbers to prove it are usually the type of expreances that catch recruiters' eyes at these places"
   ]
  },
  {
   "cell_type": "markdown",
   "metadata": {},
   "source": [
    "- __Do focus on imact, and engineering metrics__ of your work. Strong resumes at these places tend to mention things like RPS for systems people have built, test coverage % increases, cost savings on infrastructure, number of users, number of customer teams, latency reductions and others"
   ]
  },
  {
   "cell_type": "markdown",
   "metadata": {},
   "source": [
    "- __Don't list too many technologies__, frameworks, tools, databases and others. At these places, hiring managers assume that you can pick up any of these quickly. Also, recruiters are far more sensitive to keyword stuffing; it can reduce the value of your resume"
   ]
  },
  {
   "cell_type": "markdown",
   "metadata": {},
   "source": [
    "- __Don't list trival tools__ that require little to no engineering knowladge, or that are tird to a given technology. Dont say JIRA or Trello.\n"
   ]
  },
  {
   "cell_type": "markdown",
   "metadata": {},
   "source": [
    "## Uber Recuriter"
   ]
  },
  {
   "cell_type": "markdown",
   "metadata": {},
   "source": [
    "*Whatever role you apply for, make sure that you clearly highlight the technologies you have worked with that are relevant for the role you are applying for. I also always find it a good sign when someone has worked with multiple programming languages and frameworks. It indicated that they are curious professionally, like to learn new things, and are open to new idea*"
   ]
  },
  {
   "cell_type": "markdown",
   "metadata": {},
   "source": [
    "## Companies hiring for that specific technology"
   ]
  },
  {
   "cell_type": "markdown",
   "metadata": {},
   "source": [
    "You will know them because they will mention specific technologies"
   ]
  },
  {
   "cell_type": "markdown",
   "metadata": {},
   "source": [
    "__Do mention all relevant technologies in the job description__ that you are confortable with -even if you might not be fully proficient with all of them. Many of these companies ahve extensive keywords sutup in ATSes that can eaisly filter you out, if you have too few technologies matched"
   ]
  },
  {
   "cell_type": "markdown",
   "metadata": {},
   "source": [
    "__Do spell out how many years experience you have__ with the main language the company is looking for. It is worth having a short summary section, listing out this information for the recruiter (and the ATS) to see"
   ]
  },
  {
   "cell_type": "markdown",
   "metadata": {},
   "source": [
    "- __Repeat the technolgoies__ you'be used in your past work expreances, to confirm both to the hiring manager, the recruiter and to the ATS"
   ]
  },
  {
   "cell_type": "markdown",
   "metadata": {},
   "source": [
    "- __Do not list unrelated or trivial technologies__. While keyword stuffing is an important piece in applying for these types of companies, don’t go overboard. And do remove technologies that are not relevant. Do keep your resume easy to read. "
   ]
  },
  {
   "cell_type": "markdown",
   "metadata": {},
   "source": [
    "*Cite examples of your skills in action. Your CV must have examples of each of your skills, as well as how, and when, and in what context you used them, and to what effect. Three to four bullet points per role is perfect*"
   ]
  },
  {
   "cell_type": "markdown",
   "metadata": {},
   "source": [
    "## Keyword Stuffing"
   ]
  },
  {
   "cell_type": "markdown",
   "metadata": {},
   "source": [
    "- Most mid-size to larger companies discard resumes that dont have keywords\n",
    "- even for companies that dont use ATSes, hiring managers also search for relevant keywords. "
   ]
  },
  {
   "cell_type": "markdown",
   "metadata": {},
   "source": [
    "If a job asks for a backend python developer and you dont have those two words on it, it will get rejected. Recuriters are not technical and so will only look for keywords"
   ]
  },
  {
   "cell_type": "markdown",
   "metadata": {},
   "source": [
    "A workaround is to thow all possible relevant keywords into the reusme, this is know as keyword stuffing"
   ]
  },
  {
   "cell_type": "markdown",
   "metadata": {},
   "source": [
    "Problem is that while its good with the ATS, it makes the resume look unprofessional and you very desprate"
   ]
  },
  {
   "cell_type": "markdown",
   "metadata": {},
   "source": [
    "A good way to have keywords present in the resume, while also keeping it professional is to have a short \"technology\", \"skills\" or \"Languages and Technologies\" section"
   ]
  },
  {
   "cell_type": "markdown",
   "metadata": {},
   "source": [
    "Key is to also mention the technologies in the job, mentioning twice will help you"
   ]
  },
  {
   "cell_type": "markdown",
   "metadata": {},
   "source": [
    "![](08.png)"
   ]
  },
  {
   "cell_type": "markdown",
   "metadata": {},
   "source": [
    "![](09.png)"
   ]
  },
  {
   "cell_type": "markdown",
   "metadata": {},
   "source": [
    "## Recap: Actions To Improve Your Resume"
   ]
  },
  {
   "cell_type": "markdown",
   "metadata": {},
   "source": [
    "1. __Numbers and impact in your resume__. Do you have some, or most of your results expressed with numbers or percentages? If not, aim to change this. The more specifics, and the more measurable the impact, the more you convey your results."
   ]
  },
  {
   "cell_type": "markdown",
   "metadata": {},
   "source": [
    "2. __Are you using active language__:: Use active verbs that convey what you did, as opposed to things that happened, in a passive setting"
   ]
  },
  {
   "cell_type": "markdown",
   "metadata": {},
   "source": [
    "3.  __Are you mentioning technologies in your examples?__: On top of numbers, are you being specific on the tools that you used to achieve some of the results? You don't need to do this for every part, but repeating technologies that you also list on your languages and technologies section reinforces that you are hands-on with these"
   ]
  },
  {
   "cell_type": "markdown",
   "metadata": {},
   "source": [
    "4. __Have you customized your resume for that specific job, creating a specific version?__ You’ll want to have your resume reflect on the job you are applying for. Are you using similar language as the job description, to describe your activities? Are you explicitly calling out technologies and languages in the job description that you are proficient with? Are you using similar, active verbs, as the job description contains? Tailoring your resume, together with expressing the impact of your work, are the two most impactful changes you can make"
   ]
  },
  {
   "cell_type": "markdown",
   "metadata": {},
   "source": [
    "5. __Are you talking about yourself, not talking about \"we\" or \"the team?\"__ Make sure your resume is about your achievements. Don't be humble - err on the side of taking credit for the work that you were involved in"
   ]
  },
  {
   "cell_type": "markdown",
   "metadata": {},
   "source": [
    "6. __Do you mention impactful, complex or interesting side projects?__ Are you describing these projects in a way that it’s easy to understand why they are relevant? Don’t leave off some of your additional achievements that add value to your resume."
   ]
  },
  {
   "cell_type": "markdown",
   "metadata": {},
   "source": [
    "7. __Are you applying for a generalist engineering role, or one focused on one specific technology?__ Differentiate what type of position you are writing your resume for."
   ]
  },
  {
   "cell_type": "markdown",
   "metadata": {},
   "source": [
    "8. __Have you “stuffed” keywords in a sensible way?__ When comparing the job description and your resume, does your resume contain what could be the main “keywords” that recruiters will look for? Does your resume contain the key languages and technologies listed, the name of the position and the tech stack? If the position asks for a minimum number of years experience, does your resume convey this information, directly or indirectly?"
   ]
  },
  {
   "cell_type": "markdown",
   "metadata": {},
   "source": [
    "# Common Mistakes"
   ]
  },
  {
   "cell_type": "markdown",
   "metadata": {},
   "source": [
    "## Formating"
   ]
  },
  {
   "cell_type": "markdown",
   "metadata": {},
   "source": [
    "- Hard to scan resumes\n",
    "- too much bolding\n",
    "- too flashy resumes\n",
    "- inconsistent formatting\n",
    "- sloppy phrases"
   ]
  },
  {
   "cell_type": "markdown",
   "metadata": {},
   "source": [
    "## Forgetting Bout Your Audience"
   ]
  },
  {
   "cell_type": "markdown",
   "metadata": {},
   "source": [
    "- Using internal acronyms and jargon\n",
    "- not reflecting on the job and not tailoring the resume for the position\n",
    "    - if you have both frontend and backend expreances and applying for a backend job, always highlight backend expreances\n",
    "- using cliches\n",
    "    - \"I am a fast learner\" and \"I am a tream player\" does not tell them anything\n",
    "- Being too verbose\n",
    "     - attention is limited\n",
    "    - no blocks of text\n"
   ]
  },
  {
   "cell_type": "markdown",
   "metadata": {},
   "source": [
    "## Unnecessary Details"
   ]
  },
  {
   "cell_type": "markdown",
   "metadata": {},
   "source": [
    "- __Photos__\n",
    "- __Too many contack details /social profiles\n",
    "- __Spoken Languages__: no one cares speak english\n",
    "- __List of refrences__: waste of space people only care about that after you pass the interview\n",
    "- __Quotes from refrences praising you__: LOL DONT"
   ]
  },
  {
   "cell_type": "markdown",
   "metadata": {},
   "source": [
    "## Links"
   ]
  },
  {
   "cell_type": "markdown",
   "metadata": {},
   "source": [
    "- __Non-clickable links__\n",
    "- __do not link to stale githubs, linkedin or other websites\n",
    "- __Dont have the full link, just make it clickable__\n",
    "- __Links standing out too much in color and style: make them black and underline__\n",
    "- "
   ]
  },
  {
   "cell_type": "markdown",
   "metadata": {},
   "source": [
    "# Chapter 8: Exercises to polish your resume"
   ]
  },
  {
   "cell_type": "markdown",
   "metadata": {},
   "source": [
    "Use JobScan. Basically match the link fo the job description to your resume and it will return a calculation"
   ]
  },
  {
   "cell_type": "markdown",
   "metadata": {},
   "source": [
    "Write two different resumes "
   ]
  },
  {
   "cell_type": "markdown",
   "metadata": {},
   "source": [
    "Find out the impact of your past projcts\n",
    "- how much faster did you increase traffic\n",
    "- how much did you reduce code by? etc."
   ]
  },
  {
   "cell_type": "markdown",
   "metadata": {},
   "source": [
    "Do a grammer Check, not just Spelling. Use Hemingway editor"
   ]
  },
  {
   "cell_type": "markdown",
   "metadata": {},
   "source": [
    "Ask a friend to proof read it"
   ]
  },
  {
   "cell_type": "markdown",
   "metadata": {},
   "source": [
    " # Chapter 9 Beyond the Resume"
   ]
  },
  {
   "cell_type": "markdown",
   "metadata": {},
   "source": [
    "- Set a headline to represent what you want to be found for\n",
    "- Tweak your current position\n",
    "- Mention keyword in your summary and job description\n",
    "- Use a professional-looking photo that makes you look good\n",
    "- Have a summary that sell you\n",
    "    - two paragraphs are fine\n",
    "- Its fine to be verbose  on Linkedin\n",
    "- Omit work expreances that doesn't support your professional carrer story"
   ]
  },
  {
   "cell_type": "markdown",
   "metadata": {},
   "source": [
    "## How recruitrs do Booleans Searches"
   ]
  },
  {
   "cell_type": "markdown",
   "metadata": {},
   "source": [
    "Take the job description below"
   ]
  },
  {
   "cell_type": "markdown",
   "metadata": {},
   "source": [
    "![](10.png)"
   ]
  },
  {
   "cell_type": "markdown",
   "metadata": {},
   "source": [
    "The boolean searched the recuriter might do is the following"
   ]
  },
  {
   "cell_type": "markdown",
   "metadata": {},
   "source": [
    "![](11.png)"
   ]
  },
  {
   "cell_type": "markdown",
   "metadata": {},
   "source": [
    "If your porfile contains these phrases, you'll appear in the results. The closer the match - for example, when matching in the headline - and the closer you are in your network with the recruiter, the higher you will rank on the search results"
   ]
  },
  {
   "cell_type": "markdown",
   "metadata": {},
   "source": [
    "## Optimizing Linkedin When Job Searching"
   ]
  },
  {
   "cell_type": "markdown",
   "metadata": {},
   "source": [
    "- Always have a current position"
   ]
  },
  {
   "cell_type": "markdown",
   "metadata": {},
   "source": [
    "- Add more headline details\n",
    "    - Full-stack dev with 5 years experience | Go, Java, JavaScript, React, Swing | Distributed systems, developer tooling & fluid user interfaces"
   ]
  },
  {
   "cell_type": "markdown",
   "metadata": {},
   "source": [
    "- Connect with more people on LinkedIn, including recruiters. The closer you are connections-wise to the rercuiter doing the search, the heigher your profile will rank. As you start your job search, do consider adding current and former collagues and recruiters who have previously reached out to you"
   ]
  },
  {
   "cell_type": "markdown",
   "metadata": {},
   "source": [
    "- Consider updating your location when you have a definite destination in mind to move to"
   ]
  },
  {
   "cell_type": "markdown",
   "metadata": {},
   "source": [
    "## GitHub and StackOverFlow"
   ]
  },
  {
   "cell_type": "markdown",
   "metadata": {},
   "source": [
    "Only include a GitHub or StackOverFlow link if there is something you are proud to show off on these sited. "
   ]
  },
  {
   "cell_type": "markdown",
   "metadata": {},
   "source": [
    "Hiring Manager Look For The Following:\n",
    "- Context\n",
    "    - what side projects has this person published? What do they do? Do the pinned projects have a clear description on the profile page? Is there a read me?\n",
    "- Code Quality:\n",
    "    - How is this? Does it follow best pratices? Is naming decent, the code easy to read and clean?\n",
    "- Testing:\n",
    "    - does the project have unit or integration tests? If they do, i know this person is aware of testing and has at least played around with it\n",
    "- contributing to larger projects\n",
    "    - what larger open source projects have they contributed to?\n",
    "- standout repositiories\n",
    "    - is there anything with alot of stars?"
   ]
  },
  {
   "cell_type": "markdown",
   "metadata": {},
   "source": [
    "## Cover Letters"
   ]
  },
  {
   "cell_type": "markdown",
   "metadata": {},
   "source": [
    "Only small companies; not important"
   ]
  },
  {
   "cell_type": "markdown",
   "metadata": {},
   "source": [
    "Your cover letter must demonstrate you read the job ad and the website."
   ]
  },
  {
   "cell_type": "markdown",
   "metadata": {},
   "source": [
    "Cover Letter Need:\n",
    "- show off your good communication skills\n",
    "- Demonstrate an understanding of the role\n",
    "- briefly explain your qualifications of the role\n",
    "- mention the comany name\n",
    "- demonstrate that you read the company website\n",
    "- attach the cover as a PDF. It's just easier to read"
   ]
  },
  {
   "cell_type": "markdown",
   "metadata": {},
   "source": [
    "For highly competitive junior roles your motivation is relevant "
   ]
  },
  {
   "cell_type": "markdown",
   "metadata": {},
   "source": [
    "## Recap: Actons to improve your application beyond the resume"
   ]
  },
  {
   "cell_type": "markdown",
   "metadata": {},
   "source": [
    "- update your Linkedin based on what you want recruiters to find you for\n",
    "- make sure your linkedin is professional\n",
    "- if you are looking for a job change your settings on linkedin\n",
    "- make your github account sell you by handpicking projects you want to display\n",
    "- call out specific blog articles on your resume\n",
    "- if writting a cover letter, tailor it to the position"
   ]
  },
  {
   "cell_type": "markdown",
   "metadata": {},
   "source": [
    "# Chapter 10: Good Resume Template Principles"
   ]
  },
  {
   "cell_type": "markdown",
   "metadata": {},
   "source": []
  },
  {
   "cell_type": "markdown",
   "metadata": {},
   "source": []
  },
  {
   "cell_type": "markdown",
   "metadata": {},
   "source": []
  },
  {
   "cell_type": "markdown",
   "metadata": {},
   "source": []
  },
  {
   "cell_type": "markdown",
   "metadata": {},
   "source": []
  },
  {
   "cell_type": "markdown",
   "metadata": {},
   "source": []
  },
  {
   "cell_type": "markdown",
   "metadata": {},
   "source": []
  },
  {
   "cell_type": "markdown",
   "metadata": {},
   "source": []
  },
  {
   "cell_type": "markdown",
   "metadata": {},
   "source": []
  },
  {
   "cell_type": "markdown",
   "metadata": {},
   "source": [
    "Notes\n",
    "- the book is in beta and you will feel the \"beta\" going through it\n",
    "- Nothing here is groundbreaking; your milage will vary depending on how fammiliar you are at the hiring procees at the big tech companies and startups\n",
    "- raised my consince of keywords and Applicant Tracking systems\n",
    "- But he provides concrete steps you can take. Not wishy washy. \n",
    "- Might be good for beginners\n",
    "- not finalized (secotion comparing 2 resumes is missing the second resume)\n",
    "- https://www.linkedin.com/pulse/how-kickass-new-software-engineer-raymond-gan/\n",
    "- in the technoligy section only list technologies the company uses; only that\n",
    "- he talks about when to add summaries and what not\n",
    "- brakes it down into big comapneis/small companies\n",
    "    - what the ATS is looking for in each company\n",
    "- but definitly cali-related\n",
    "- he gives some templates to use, which i link to you if you dm me\n",
    "\n",
    "- number 1 tip thats repeated multiple times is \"always adapt your resume to job description. Large companies care less about technology and more about computer scicne skill so limit keywords; smaller companies only care about keywords\n",
    "\n",
    "- boolean searches on linkedin \n"
   ]
  }
 ],
 "metadata": {
  "kernelspec": {
   "display_name": "Python 3",
   "language": "python",
   "name": "python3"
  },
  "language_info": {
   "codemirror_mode": {
    "name": "ipython",
    "version": 3
   },
   "file_extension": ".py",
   "mimetype": "text/x-python",
   "name": "python",
   "nbconvert_exporter": "python",
   "pygments_lexer": "ipython3",
   "version": "3.8.3"
  }
 },
 "nbformat": 4,
 "nbformat_minor": 4
}
