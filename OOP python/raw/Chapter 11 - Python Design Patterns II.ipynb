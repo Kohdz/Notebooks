{
 "cells": [
  {
   "cell_type": "markdown",
   "id": "sporting-registration",
   "metadata": {},
   "source": [
    "## Adapter Pattern"
   ]
  },
  {
   "cell_type": "markdown",
   "id": "included-alpha",
   "metadata": {},
   "source": [
    "- designed to interact with existing code\n",
    "- adapters are used to allow two preexisting objects to work together, even if their interfaces are not `compatible`\n",
    "- sits between two different interfaces, translatin between them on the fly"
   ]
  },
  {
   "cell_type": "markdown",
   "id": "broadband-weather",
   "metadata": {},
   "source": [
    "- adapter pattern is simmular to the decorator pattern\n",
    "- decorators typically provide the same interface that they replace, whereas adapter map between two different interfaces\n",
    "- `interface1` is excepting to call a method called `make_action(some_arguments)`\n",
    "- we already have this perfect `Interface2` class that does everything we want and we dont want to rewrite it\n",
    "- but it provides a method called `different_action(other, arguments)` instead\n",
    "- the `Adapter` class implements the `make_action` interface and maps the arguments to existing interface"
   ]
  },
  {
   "cell_type": "markdown",
   "id": "smaller-repeat",
   "metadata": {},
   "source": [
    "![](images/10.png)"
   ]
  },
  {
   "cell_type": "markdown",
   "id": "sudden-runner",
   "metadata": {},
   "source": [
    "- thw advantage here is that the code that maps from one interface to another is all in one\n",
    "- the alternative would be really ugly; we'd have to perform the translation i multiple places whenever we need to access this code\n",
    "- image the case below where we are provided a date from a third party libary\n",
    "- we can use an adapator to use pythons built in `datetime` libary"
   ]
  },
  {
   "cell_type": "code",
   "execution_count": 1,
   "id": "palestinian-payday",
   "metadata": {},
   "outputs": [],
   "source": [
    "import datetime\n",
    "\n",
    "class AgeCalculator:\n",
    "    def __init__(self, birthday):\n",
    "        self.year, self.month, self.day = (\n",
    "            int(x) for x in birthday.split(\"-\")\n",
    "        )\n",
    "    \n",
    "    def calculate_age(self, date):\n",
    "        year, month, day = (int(x) for x in date.split(\"-\"))\n",
    "        age = year - self.year\n",
    "        if (month, day) < (self.month, self.day):\n",
    "            age -= 1\n",
    "        return age\n",
    "    \n",
    "class DateAgeAdapter:\n",
    "    def _str_date(self, date):\n",
    "        return date.strftime(\"%y-%m-%d\")\n",
    "    \n",
    "    def __init__(self, birthday):\n",
    "        birthday = self._str_date(birthday)\n",
    "        self.calculator = AgeCalculator(birthday)\n",
    "        \n",
    "    def get_age(self, date):\n",
    "        date = self._str_date(date)\n",
    "        return self.calculator.calculate_age(date)"
   ]
  },
  {
   "cell_type": "markdown",
   "id": "characteristic-ambassador",
   "metadata": {},
   "source": [
    "- the adapter converts `datetime.date` and `datetime.time` into a sring that our orginal `AgeCalculator` can use"
   ]
  },
  {
   "cell_type": "markdown",
   "id": "future-period",
   "metadata": {},
   "source": [
    "## Facade Pattern"
   ]
  },
  {
   "cell_type": "markdown",
   "id": "early-romantic",
   "metadata": {},
   "source": [
    "- the `facade` pattern is designed to provide a simple interface to a complex system of components\n",
    "- for complex tasks, we may need to interact with these objects directly, but there is often a `typical` usage for the system for which these complicated interactions are not necessary\n",
    "- the facade pattern allows us to define a new object that encapsulates this typical usage of the system\n",
    "- anytime we want to access to common functionality, we can use the single objects simplified interface"
   ]
  },
  {
   "cell_type": "markdown",
   "id": "atmospheric-paste",
   "metadata": {},
   "source": [
    "![](images/11.png)"
   ]
  },
  {
   "cell_type": "markdown",
   "id": "informative-bernard",
   "metadata": {},
   "source": [
    "- a facade is simmilar to an adapter\n",
    "- the primary difference is that a facade tried to abstract a simpler interface out of a complex one, while an adapter only tired to map one existing interface to another"
   ]
  },
  {
   "cell_type": "markdown",
   "id": "comfortable-directive",
   "metadata": {},
   "source": [
    "- the `EmailFacade` class is initialized with the hostname of the email server, a username and a password to log in"
   ]
  },
  {
   "cell_type": "code",
   "execution_count": 6,
   "id": "forward-flower",
   "metadata": {},
   "outputs": [],
   "source": [
    "import smtplib\n",
    "import imaplib\n",
    "\n",
    "class EmailFacade:\n",
    "    def __init__(self, host, username, password):\n",
    "        self.host = host\n",
    "        self.username = username\n",
    "        self.password = password\n",
    "        \n",
    "def send_email(self, to_email, subject, message):\n",
    "    if not \"@\" in self.username:\n",
    "        from_email = f\"{self.username}@{self.host}\"\n",
    "    else:\n",
    "        from_email = self.username\n",
    "        message = (\n",
    "            f\"From: {from_email}\\r\\n To: {to_email} \\r\\n Subject {subkect}\\r\\n\\r\\n {message}\"\n",
    "        )\n",
    "        smtp = smtplib,SMTP(self.host)\n",
    "        smpt.login(self.username, self.password)\n",
    "        smpt.sendmail(from_email, [to_email], message)\n",
    "        \n",
    "def get_inbox(self):\n",
    "    mailbox = imaplib.IMAP4(self.host)\n",
    "    mailbox.login(\n",
    "        bytes(self.username, \"utf8\"), bytes(self.password, \"utf8\")\n",
    "    )\n",
    "    mailbox.select()\n",
    "    x, data = mailbox.search(None, \"ALL\")\n",
    "    messages = []\n",
    "    for num in data[0].split():\n",
    "        x, message = mailbox.fetch(num, \"(RFC822)\")\n",
    "        messages.append(message[0][1])\n",
    "    return messages\n"
   ]
  },
  {
   "cell_type": "markdown",
   "id": "welcome-involvement",
   "metadata": {},
   "source": [
    "- taken together, we have simple facade class that can send and receive messages in a fairly straightforward manner"
   ]
  },
  {
   "cell_type": "markdown",
   "id": "smooth-polls",
   "metadata": {},
   "source": [
    "- facade pattern is an integral part of the python ecosystem \n",
    "- an example is `for` loops or `list` comprehensions\n",
    "- the `defaultdict` implementation is a facade that abstracts away annoying corner cases whena  key doesn't exist in a dictionary\n",
    "- the `requests` libary is a powerful facade over less readable libaries for `HTTP` requests, which are themselves a facade over managing the text-based `HTTP` protocol "
   ]
  },
  {
   "cell_type": "markdown",
   "id": "artificial-substitute",
   "metadata": {},
   "source": [
    "## Flyweight Pattern"
   ]
  },
  {
   "cell_type": "markdown",
   "id": "internal-terrain",
   "metadata": {},
   "source": [
    "- this is a memory optimization pattern\n",
    "- flyweight pattern ensures that objects that share a state can use the same memory for that shared state\n",
    "- implementd only after a program has demonstrated memeory problems\n"
   ]
  },
  {
   "cell_type": "markdown",
   "id": "juvenile-expansion",
   "metadata": {},
   "source": [
    "![](images/12.png) "
   ]
  },
  {
   "cell_type": "markdown",
   "id": "violent-logging",
   "metadata": {},
   "source": [
    "- each `Flyweight` has no specific state\n",
    "- any time it needs to perform an operation on `SpecificState`, that state needs to be passed into the `Flyweight` by calling code\n",
    "- traditionally, the factory that returns a flywieght is a seprate object\n",
    "- its purpose is to retunr a flywieght for a given key identifying that flyweight\n",
    "- if the flyweight exists, we return it, otherwise, we create a new one\n",
    "- works simmilar to the `signleton` pattern"
   ]
  },
  {
   "cell_type": "markdown",
   "id": "computational-consistency",
   "metadata": {},
   "source": [
    "- `flyweight` factory is often implemented using the `__new__constructor`\n",
    "- unlike the signleton pattern which only needs to return one instace of the class, we need to be able to return different instances depending on the key\n",
    "- we could store the items in a dictionary and look them up based on the key\n",
    "- the problem is that we want to get rid of the object from memory if there are no more"
   ]
  },
  {
   "cell_type": "markdown",
   "id": "gentle-kruger",
   "metadata": {},
   "source": [
    "- we can solve this by taking advantage of Pythons `weakref` module\n",
    "- the module provides a `WeakValueDictionary` object, which basically allows us to store items in a dictionary without the garbage collector caring about them\n",
    "- if a value is in a weak refrenced dictionary, and there are no other refrences to that object stored anywhere in the application, the garbase collector will eventually clean up for us"
   ]
  },
  {
   "cell_type": "code",
   "execution_count": 7,
   "id": "neither-scott",
   "metadata": {},
   "outputs": [],
   "source": [
    "import weakref\n",
    "\n",
    "class CarModel:\n",
    "    _models = weakref.WeakValueDictionary()\n",
    "    \n",
    "    def __new__(cls, model_name, *args, **kwargs):\n",
    "        model = cls._model.get(model_name)\n",
    "        if not model:\n",
    "            model = super().__new__(cls)\n",
    "            cls._models[model_name] = model\n",
    "        return model"
   ]
  },
  {
   "cell_type": "markdown",
   "id": "arranged-antarctica",
   "metadata": {},
   "source": [
    "- basically, whenever we construct a new flyweight with a given name, we first look up that name in the weak refrenced dictionary\n",
    "- if it exists, we return that model; if not, we create a new one"
   ]
  },
  {
   "cell_type": "markdown",
   "id": "combined-shore",
   "metadata": {},
   "source": [
    "- flyweight pattern is complex but it is designed for conserving memeory\n",
    "- if we have hundreds of thousands of similar objects, combining similar properties into a flyweight can have enormous impact on memory consumption"
   ]
  },
  {
   "cell_type": "markdown",
   "id": "capital-provider",
   "metadata": {},
   "source": [
    "## Command Pattern "
   ]
  },
  {
   "cell_type": "markdown",
   "id": "expired-spectrum",
   "metadata": {},
   "source": [
    "- the command pattern adds a level of abstraction between actions that must be done and the object that invokes those actions, normally at a later time\n",
    "- in the command pattern, client code creates a `Command` object that can be executed at a later date\n",
    "- the object knows about a receiver object that manages its own internal state when the command is executed on it\n",
    "- the `Command` object implements a specific interface \n",
    "- typically it has an `execute` or `do_action` method and also keeps track of any arguments required to perform the action\n",
    "- finally, one or more `Invoker` object executes the command at the correct time"
   ]
  },
  {
   "cell_type": "markdown",
   "id": "exciting-premises",
   "metadata": {},
   "source": [
    "![](images/13.png)"
   ]
  },
  {
   "cell_type": "markdown",
   "id": "conservative-administration",
   "metadata": {},
   "source": [
    "- an example of this can be seen on graphical window\n",
    "- often an action can be invoked by a menu item on the menu bar\n",
    "- these are all examples of `Invoker` objects \n",
    "- the action that actually occurs such as `Exit`, `Save`, or `Copy` are implementations of `CommandInterface`\n",
    "- a GUI window to receive exit, a dcoument to receive save and `ClipboardManager` to receive a copy command are all examples of possible `Receivers`"
   ]
  },
  {
   "cell_type": "markdown",
   "id": "designed-breast",
   "metadata": {},
   "source": [
    "- the command pattern does not feel pythonic\n",
    "- the one below is more pythonic but we have done some decoupling in exchange for it"
   ]
  },
  {
   "cell_type": "code",
   "execution_count": 8,
   "id": "seven-representative",
   "metadata": {},
   "outputs": [],
   "source": [
    "import sys\n",
    "\n",
    "class Window:\n",
    "    def exit(self):\n",
    "        sys.exit(0)\n",
    "        \n",
    "class MenuItem:\n",
    "    def click(self):\n",
    "        self.command()\n",
    "        \n",
    "window = Window()\n",
    "menu_item = MenuItem()\n",
    "menu_item.command = window.exit\n"
   ]
  },
  {
   "cell_type": "markdown",
   "id": "completed-complex",
   "metadata": {},
   "source": [
    "## Abstract Factory Pattern"
   ]
  },
  {
   "cell_type": "markdown",
   "id": "proud-german",
   "metadata": {},
   "source": [
    "- normally used when we have multiple possible implementations of a system that depend on some configuration or platform issue\n",
    "- the calling code requests an object from the abstract factory, not knowing what class of object will be returned\n",
    "- the underlying implementation returned may depend on a variety of factors, such as current locale, operating system or local configuration"
   ]
  },
  {
   "cell_type": "markdown",
   "id": "hydraulic-demonstration",
   "metadata": {},
   "source": [
    "- Django provides an abstract factory that returns a set of object relation classes for interacting with a specific database backend depending on a configuration"
   ]
  },
  {
   "cell_type": "markdown",
   "id": "greek-upset",
   "metadata": {},
   "source": [
    "- in the example below, we create a set of formatters that depend on a specific locale and help us format dates and currencies\n",
    "- there will be an abstract factory class that picks that specific factory, as well as a couple of example concrete factories\n",
    "- each of these will create formatter objects for dates and times, which can be queried to format a specific value"
   ]
  },
  {
   "cell_type": "markdown",
   "id": "previous-afghanistan",
   "metadata": {},
   "source": [
    "![](images/14.png)"
   ]
  },
  {
   "cell_type": "markdown",
   "id": "twenty-barrier",
   "metadata": {},
   "source": [
    "- the trick for the abstract factory is the `__init__.py` in the `localize` packagte can contain logic that redirects all requests to the correct backend\n",
    "- if we know that the backend is never going to change dynamically without a program restart, we can just put some `if` statements in `__init__.py` that check the current country code, import the stuff we need"
   ]
  },
  {
   "cell_type": "markdown",
   "id": "pursuant-republic",
   "metadata": {},
   "source": [
    "## Composite Pattern"
   ]
  },
  {
   "cell_type": "markdown",
   "id": "southeast-constraint",
   "metadata": {},
   "source": [
    "- the composite pattern allows complex tree-like structures to be built from simple components\n",
    "- these components, called composite objects, are able to behave sort of like a container and sort of like a variable, depending on whether they have child components\n",
    "- composite objects are container objects, where the contents may actually be another composite object\n",
    "- traditionally, each component in a composite object must be either a leaf node (that cannot contain other objects or a composite node\n",
    "- the key is that both composite and leaf nodes can have the same interface"
   ]
  },
  {
   "cell_type": "markdown",
   "id": "verbal-scale",
   "metadata": {},
   "source": [
    "![](images/15.png)"
   ]
  },
  {
   "cell_type": "markdown",
   "id": "internal-worst",
   "metadata": {},
   "source": [
    "- the simple pattern allows us to create arangements of elements all of whihc satisfy the interface of the component object\n",
    "- the diagram depicts a concrete instance of such a complecated arrangement"
   ]
  },
  {
   "cell_type": "markdown",
   "id": "expressed-pavilion",
   "metadata": {},
   "source": [
    "![](images/16.png)"
   ]
  },
  {
   "cell_type": "markdown",
   "id": "apparent-longitude",
   "metadata": {},
   "source": [
    "- composite pattern is commonly useful in a file/folder like tree\n",
    "- regardless of whether a node in the tree is a normal file or a folder, it is still subject to operations such as moving, copying or deleting the node\n",
    "- we can create a component interface that supports these operations, and then use a composite object to represent folders and leaf nodes to represent normal files "
   ]
  },
  {
   "cell_type": "markdown",
   "id": "falling-doctrine",
   "metadata": {},
   "source": [
    "- in python we can take advantage of duck typing to implicitly provide the interface\n"
   ]
  },
  {
   "cell_type": "markdown",
   "id": "mechanical-civilian",
   "metadata": {},
   "source": [
    "- the composite pattern is useful for a variety of tree-like structures, including GUI widget hierarchies, file hierarchies, tree sets, graphs and HTML DOM"
   ]
  }
 ],
 "metadata": {
  "kernelspec": {
   "display_name": "Python 3",
   "language": "python",
   "name": "python3"
  },
  "language_info": {
   "codemirror_mode": {
    "name": "ipython",
    "version": 3
   },
   "file_extension": ".py",
   "mimetype": "text/x-python",
   "name": "python",
   "nbconvert_exporter": "python",
   "pygments_lexer": "ipython3",
   "version": "3.9.2"
  }
 },
 "nbformat": 4,
 "nbformat_minor": 5
}
