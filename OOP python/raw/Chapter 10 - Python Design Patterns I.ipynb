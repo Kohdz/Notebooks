{
 "cells": [
  {
   "cell_type": "markdown",
   "id": "departmental-inventory",
   "metadata": {},
   "source": [
    "## Decorator Pattern\n"
   ]
  },
  {
   "cell_type": "markdown",
   "id": "another-talent",
   "metadata": {},
   "source": [
    "- allows us to wrap any object that provides core functionality with other objects that alter this functionality\n",
    "- the two primary uses of the decorator pattern are:\n",
    "    - enchancing the response of a component as it sends data to a second component\n",
    "    - supporting multiple optional behaviors\n",
    "- the second option is often a suitable alternative to multiple inhertance\n",
    "- we construct a core object, then create a decorator wrapping that core\n",
    "- since the decorator object has the same interface as the core object, we can wrap the new object in other decorators"
   ]
  },
  {
   "cell_type": "markdown",
   "id": "periodic-azerbaijan",
   "metadata": {},
   "source": [
    "- `Core` and all the decorators implement a specific `interface`\n",
    "- the decorators maintain a refrence to another instance of that `interface` via composition\n",
    "- when called, the decorator does some added processing before or after calling its wrapped interface\n",
    "- the wrapped object may be another decorator, or the core functionality\n",
    "- while multiple decorators may wrap each other, the object in the `center` of all those decorators provides the core functionality"
   ]
  },
  {
   "cell_type": "markdown",
   "id": "sufficient-arizona",
   "metadata": {},
   "source": [
    "![](images/03.png)"
   ]
  },
  {
   "cell_type": "markdown",
   "id": "enormous-spending",
   "metadata": {},
   "source": [
    "## Decorator Example"
   ]
  },
  {
   "cell_type": "markdown",
   "id": "broken-citizenship",
   "metadata": {},
   "source": [
    "- `response` function accepts a `socket` parameter and prompts for data to be sent as a reply, then sends it\n",
    "- to use it, we construct a server socket and tell it to listen to port `2401`\n",
    "- when a client conencts, it calls the response function, which requests data interactively and responds appropriately\n",
    "- notice that the `respond` function only cares about two methods of the socket interface `send` and `close`"
   ]
  },
  {
   "cell_type": "code",
   "execution_count": null,
   "id": "engaging-power",
   "metadata": {},
   "outputs": [],
   "source": [
    "import socket\n",
    "\n",
    "def respond(client):\n",
    "    response = input(\"Enter a value: \")\n",
    "    client.send(bytes(response, \"uft8\"))\n",
    "    client.close()\n",
    "    \n",
    "server = socket.socket(socket.AF_INET, socket.SOCK_STREAM)\n",
    "server.bind((\"localhost\", 2401))\n",
    "server.listen(1)\n",
    "\n",
    "try:\n",
    "    while True:\n",
    "        client, addr = server.accept()\n",
    "        respond(client)\n",
    "finally:\n",
    "    server.close()"
   ]
  },
  {
   "cell_type": "code",
   "execution_count": null,
   "id": "stretch-separate",
   "metadata": {},
   "outputs": [],
   "source": [
    "import socket\n",
    "\n",
    "client = socket.socket(socker.AF_INET, socket.SOCK_STREAM)\n",
    "client.connect((\"localhost\", 2401))\n",
    "print(\"Received: {0}\".format(client.recv(1024))\n",
    "client.close()"
   ]
  },
  {
   "cell_type": "markdown",
   "id": "appropriate-store",
   "metadata": {},
   "source": [
    "- we are going to create a pair of decorators that customize the socket behavior without having to extend or modify the socket itself"
   ]
  },
  {
   "cell_type": "code",
   "execution_count": null,
   "id": "killing-particle",
   "metadata": {},
   "outputs": [],
   "source": [
    "class LogSocket:\n",
    "    def __init__(self, socket):\n",
    "        self.socket = socket\n",
    "        \n",
    "    def send(send, data):\n",
    "        print(\n",
    "            f\"Sending {data} to {self.socket.getpeername()[0]}\"\n",
    "            )\n",
    "        self.socket.send(data)\n",
    "        \n",
    "    def close(self):\n",
    "        self.socket.close()"
   ]
  },
  {
   "cell_type": "markdown",
   "id": "bizarre-armstrong",
   "metadata": {},
   "source": [
    "- the `logSocket` class decorates a socket object and presents the `send` and `close` interface to client sockets\n",
    "- to use the decorator we only have to change one line\n",
    "- instead of calling `respond` with the socket, we call it with a decorated socket `respond(LogSocket(client))`\n",
    "- we could have just extended the `socket` class and overried its `send` method and called `super().send`\n",
    "- but we should always chose a decorator over inheritance when we need to modify the object dynamically, according to some condition"
   ]
  },
  {
   "cell_type": "markdown",
   "id": "located-botswana",
   "metadata": {},
   "source": [
    "### Decorators in Python\n"
   ]
  },
  {
   "cell_type": "markdown",
   "id": "fiscal-jones",
   "metadata": {},
   "source": [
    "- in python, functions are objects too\n",
    "- function decoration is so common in python that there is a special syntax to make it easy to apply decorators to functions"
   ]
  },
  {
   "cell_type": "markdown",
   "id": "emerging-pioneer",
   "metadata": {},
   "source": [
    "- the decorator function is simmilar to the example we explored earlier\n",
    "- in those cases the decorator took a socket-like object and created a socket-like object\n",
    "- this time, our decorator takes a function object and returns a new function object"
   ]
  },
  {
   "cell_type": "markdown",
   "id": "compressed-password",
   "metadata": {},
   "source": [
    "- A function, `log_calls` accepts another function\n",
    "- this function defines a new function named `wrapper` that does some extra work before calling the orginal function\n",
    "- the inner function is returned from the outer function"
   ]
  },
  {
   "cell_type": "markdown",
   "id": "banned-palestine",
   "metadata": {},
   "source": [
    "- the syntax allows us to build up decorated function objects dynamically, just as we did with the socket example\n",
    "- typically, these `decorators` are generally modifications that are applied permanently to different functions "
   ]
  },
  {
   "cell_type": "code",
   "execution_count": null,
   "id": "wired-grounds",
   "metadata": {},
   "outputs": [],
   "source": [
    "import time\n",
    "\n",
    "def log_calls(func):\n",
    "    def wrapper(*args, **kwargs):\n",
    "        now = time.time()\n",
    "        print(\n",
    "            f\"Calling {func.__name__} with {args} and {kwargs}\"\n",
    "        )\n",
    "        return_value = func(*args, **kwargs)\n",
    "        print(\n",
    "            f\"Executed {func.__name__} in {time.time() - now}ms\"\n",
    "        )\n",
    "        return return_value\n",
    "    return wrapper\n",
    "\n",
    "def test1(a, b, c):\n",
    "    print(\"\\ttest1 called\")\n",
    "    \n",
    "def test2(a, b):\n",
    "    print(\"\\ttest2 called\")\n",
    "\n",
    "def test3(a, b):\n",
    "    print(\"\\ttest3 called\")\n",
    "    time.sleep(1)\n",
    "\n",
    "test1 = log_calls(test1)\n",
    "test2 = log_calls(test2)\n",
    "test3 = log_calls(test3)\n",
    "test1(1, 2, 3)\n",
    "test2(4, b=5)\n",
    "test3(6, 7)"
   ]
  },
  {
   "cell_type": "markdown",
   "id": "obvious-winning",
   "metadata": {},
   "source": [
    "- instead of applying the decorator function after the method definition, we can use the `decorator` syntax to do it all at once\n",
    "- we apply it at the beginning so people know that the function is being modified"
   ]
  },
  {
   "cell_type": "code",
   "execution_count": null,
   "id": "stuffed-romance",
   "metadata": {},
   "outputs": [],
   "source": [
    "@log_calls\n",
    "def test1(a, b, c):\n",
    "    print(\"\\ttest1 called\")"
   ]
  },
  {
   "cell_type": "markdown",
   "id": "specialized-ethiopia",
   "metadata": {},
   "source": [
    "### Decorators Brakdown"
   ]
  },
  {
   "cell_type": "markdown",
   "id": "entertaining-shoot",
   "metadata": {},
   "source": [
    "- https://www.youtube.com/watch?v=leNjxtzTGAc"
   ]
  },
  {
   "cell_type": "markdown",
   "id": "english-civilian",
   "metadata": {},
   "source": [
    "- decorator is a function that takes in another function\n",
    "- decorators are possible because functions are objects in pytyhon\n",
    "- fucntions are first-order values\n",
    "- decorators are a part of functional programming"
   ]
  },
  {
   "cell_type": "markdown",
   "id": "fancy-indie",
   "metadata": {},
   "source": [
    "- you can nest decorators\n",
    "- order matters and the closer you are to the `def` the earlier you are called"
   ]
  },
  {
   "cell_type": "code",
   "execution_count": null,
   "id": "valuable-disaster",
   "metadata": {},
   "outputs": [],
   "source": [
    "def tracer(func):\n",
    "    @functools.wrap(func)\n",
    "    def wraper(*args, **kwargs):\n",
    "        print(\"Enterning...\")\n",
    "        answer = func(*args, **kwargs)\n",
    "        print('Exiting...')\n",
    "        return answer\n",
    "    return wrapper\n",
    "    \n",
    "    \n",
    "@tracer\n",
    "def hellow_word():\n",
    "    print(\"hello world\")\n",
    "    \n",
    "hello_world()"
   ]
  },
  {
   "cell_type": "markdown",
   "id": "varying-luxury",
   "metadata": {},
   "source": [
    "### Common Decorators"
   ]
  },
  {
   "cell_type": "markdown",
   "id": "sacred-tyler",
   "metadata": {},
   "source": [
    "![](images/04.png)"
   ]
  },
  {
   "cell_type": "markdown",
   "id": "determined-management",
   "metadata": {},
   "source": [
    "__@classmethod decorator__\n",
    "- the class method will turn any method into a class method instead of an instance method\n",
    "- that means the `hello` method below can be called directly from the class, rather then the object of the class\n",
    "- you can call the method from just the blueprint\n",
    "- notice that the class method uses `cls` by convention over using `self`"
   ]
  },
  {
   "cell_type": "code",
   "execution_count": null,
   "id": "subtle-person",
   "metadata": {},
   "outputs": [],
   "source": [
    "class Greeter\n",
    "\n",
    "    @classmethod\n",
    "    def hello(cls):\n",
    "        name = cls.__name__\n",
    "        print(f'hello from {name}')\n",
    "\n",
    "Greeter.hello()"
   ]
  },
  {
   "cell_type": "markdown",
   "id": "affected-cheese",
   "metadata": {},
   "source": [
    "__@staticmethod decorator__\n",
    "- does not pass refrence to the method\n",
    "- notice that there is no `cls` or `self`\n",
    "- `staticmethod` is a simpler method then the `classmethod`"
   ]
  },
  {
   "cell_type": "code",
   "execution_count": null,
   "id": "dated-spanking",
   "metadata": {},
   "outputs": [],
   "source": [
    "class Greeter:\n",
    "    \n",
    "    @staticmethod\n",
    "    def hello():\n",
    "        print('goodbye')"
   ]
  },
  {
   "cell_type": "markdown",
   "id": "proud-helena",
   "metadata": {},
   "source": [
    "## Observer Pattern"
   ]
  },
  {
   "cell_type": "markdown",
   "id": "congressional-friendship",
   "metadata": {},
   "source": [
    "- the observer pattern is useful for state monitoring and event handling situations\n",
    "- this pattern allows a given object to be monitored by an unknown and dynamic group of observer objects\n",
    "- whenever a value on the core object changes,it lets all the observer objects know that a change has occured, by calling an `update()` method"
   ]
  },
  {
   "cell_type": "markdown",
   "id": "measured-extreme",
   "metadata": {},
   "source": [
    "### Observer Example"
   ]
  },
  {
   "cell_type": "markdown",
   "id": "polyphonic-bubble",
   "metadata": {},
   "source": [
    "- might be useful in a redundant backup system\n",
    "- we can write a core object that maintains certain values and then have one or more observers create serialized copies of that object\n",
    "- these copies might be stored in a database, on a remote host, or in a local file"
   ]
  },
  {
   "cell_type": "markdown",
   "id": "independent-mining",
   "metadata": {},
   "source": [
    "- the object has two properties that, when set, call the `_update_observers` method on itself\n",
    "- all this method does is loop over any registered observers and let each know that something has changed\n",
    "- in this case, we call this observer object directly; the object will have to implement `__call__` to process the update"
   ]
  },
  {
   "cell_type": "code",
   "execution_count": null,
   "id": "violent-station",
   "metadata": {},
   "outputs": [],
   "source": [
    "class Inventory:\n",
    "    def __init__(self):\n",
    "        self.observers = []\n",
    "        self._product = None\n",
    "        self._quantity = 0\n",
    "        \n",
    "    def attach(self, observer):\n",
    "        self.observers.append(observers)\n",
    "        \n",
    "    @property\n",
    "    def product(self):\n",
    "        return self._product\n",
    "    \n",
    "    @product.setter\n",
    "    def product(self, value):\n",
    "        self._product = value\n",
    "        self._update_observers()\n",
    "        \n",
    "    @property\n",
    "    def quantity(self):\n",
    "        return self._quantity\n",
    "    \n",
    "    @quantity.setter\n",
    "    def quantity(self, value):\n",
    "        self._quantity = value\n",
    "        self._update_observers()\n",
    "        \n",
    "    def _update_observers(self):\n",
    "        for observer in self.observers:\n",
    "            observers()\n",
    "            "
   ]
  },
  {
   "cell_type": "markdown",
   "id": "significant-spyware",
   "metadata": {},
   "source": [
    "- below is a simple observe\n",
    "- the observed object is set up in the initializer and when the observer is called, we do _something_"
   ]
  },
  {
   "cell_type": "code",
   "execution_count": null,
   "id": "occupational-westminster",
   "metadata": {},
   "outputs": [],
   "source": [
    "class ConsoleObserver:\n",
    "    def __init__(self, inventory):\n",
    "        self.inventroy = inventory\n",
    "        \n",
    "    def __call__(self):\n",
    "        print(self.inventory.product)\n",
    "        print(self.inventory.quantity)\n",
    "        \n",
    "i = Inventory()\n",
    "c = ConsoleObserver(i)\n",
    "i.attach(c)\n",
    "i.product = 'Widget'\n",
    "i.quantity = 5"
   ]
  },
  {
   "cell_type": "markdown",
   "id": "institutional-arizona",
   "metadata": {},
   "source": [
    "- after attaching the observer to the `Inventory` object, whenever we change one of the two observed properties, the observer is called and its actions is invoked\n",
    "- the key idea here is that we can easily and add totaly different types of observations that back up the data in a file, database or internet application at the same time"
   ]
  },
  {
   "cell_type": "markdown",
   "id": "failing-noise",
   "metadata": {},
   "source": [
    "## Strategy Pattern"
   ]
  },
  {
   "cell_type": "markdown",
   "id": "fluid-soldier",
   "metadata": {},
   "source": [
    "- the pattern implements different solutions to a single problem, each in a different object\n",
    "- the client code can then choose the most appropriate implementation dynamically at runtime\n",
    "- typically, a different algorithms have different trade-offs\n",
    "    - one might be faster than another but uses a lot more memory and anohter may be useful when multiple CPUs are present or a distributed system is provided"
   ]
  },
  {
   "cell_type": "markdown",
   "id": "robust-hybrid",
   "metadata": {},
   "source": [
    "- the `User` code connecting to the stragety pattern simply needs to know that it is dealing with the `ABstraction` interface"
   ]
  },
  {
   "cell_type": "markdown",
   "id": "operating-greek",
   "metadata": {},
   "source": [
    "![](images/05.png)"
   ]
  },
  {
   "cell_type": "markdown",
   "id": "organic-sauce",
   "metadata": {},
   "source": [
    "### Strategy Example"
   ]
  },
  {
   "cell_type": "markdown",
   "id": "fixed-jason",
   "metadata": {},
   "source": [
    "- the classic example of the strategy pattern is sort routines\n",
    "- if we have a collection of objects we pass to the `sort` method, the object may be a `QuickSorter` or `MergeSorter` object\n",
    "- you can imagine a desktop image resizer\n",
    "- the advantage is we do not have to use akward `if/else` statements"
   ]
  },
  {
   "cell_type": "code",
   "execution_count": 1,
   "id": "composite-sunglasses",
   "metadata": {},
   "outputs": [],
   "source": [
    "class TiledStrategy:\n",
    "    def make_background(self, img_file, desktop_size):\n",
    "        pass\n",
    "    \n",
    "class CenteredStrategy:\n",
    "    def make_background(self, img_file, desktop_size):\n",
    "        pass\n",
    "    \n",
    "class ScaledStrategy:\n",
    "    def make_background(self, img_file, desktop_size):\n",
    "        pass"
   ]
  },
  {
   "cell_type": "markdown",
   "id": "attended-presence",
   "metadata": {},
   "source": [
    "### Strategy In Python"
   ]
  },
  {
   "cell_type": "markdown",
   "id": "worst-blair",
   "metadata": {},
   "source": [
    "- seen in most other OOP languages but not seen in python\n",
    "- since python has `first-class` functions, the stragety pattern is unnecessary"
   ]
  },
  {
   "cell_type": "markdown",
   "id": "thousand-aaron",
   "metadata": {},
   "source": [
    "## State Pattern"
   ]
  },
  {
   "cell_type": "markdown",
   "id": "mexican-collapse",
   "metadata": {},
   "source": [
    "- simmilar to the stragety pattern but the intern and the purpose are different\n",
    "- the goal of the state pattern is to represent `state-transition` systems\n",
    "    - systems where is is obvious that an object can be in a specicfic state and that certain activities may drive it to a different state"
   ]
  },
  {
   "cell_type": "markdown",
   "id": "moved-leather",
   "metadata": {},
   "source": [
    "- to make this work, we need a manager or context class that provides an interface for switching states\n",
    "- internally, this class contains a pointer to the current state\n",
    "- each state knows what the other state it is allowed to be in and will transition to those states depending on actions invoked upon it"
   ]
  },
  {
   "cell_type": "markdown",
   "id": "protecting-recruitment",
   "metadata": {},
   "source": [
    "- we have two types of classes: the context class and multiple state classes\n",
    "- the context class maintains the current state and forwards actions to the state class\n",
    "- the state classes are typically hidden from other objects that are calling the context\n",
    "- it acts like a black box that happens to perform state management internally"
   ]
  },
  {
   "cell_type": "markdown",
   "id": "patent-irish",
   "metadata": {},
   "source": [
    "![](images/06.png)"
   ]
  },
  {
   "cell_type": "markdown",
   "id": "fatal-lyric",
   "metadata": {},
   "source": [
    "### State Example"
   ]
  },
  {
   "cell_type": "markdown",
   "id": "appreciated-sector",
   "metadata": {},
   "source": [
    "- imagine a `XML` parsing tool\n",
    "- the context class will be the parser itself. It will take a string as input and place the tool in an initial parsing state\n",
    "- the verious parsing states will eat characters, looking for a specific value and when that value is found, change to a different state\n",
    "- the goal is to create a tree of node objects for each tag and its contents\n",
    "- we can imagine having the following states: `FirstTag`, `childNode`, `openTag`, `closeTag`, `Text`"
   ]
  },
  {
   "cell_type": "markdown",
   "id": "binary-lawrence",
   "metadata": {},
   "source": [
    "- the `FirstTag` state will switch to `ChildNode` which is resposible for deciding which of the other three states to switch to\n",
    "- when those states are done, they will switch back to `childNode`"
   ]
  },
  {
   "cell_type": "markdown",
   "id": "amazing-munich",
   "metadata": {},
   "source": [
    "![](images/07.png)"
   ]
  },
  {
   "cell_type": "markdown",
   "id": "compressed-pressure",
   "metadata": {},
   "source": [
    "## State vs Stragety "
   ]
  },
  {
   "cell_type": "markdown",
   "id": "legitimate-consequence",
   "metadata": {},
   "source": [
    "- the stragety pattern is used to choose an algorithm at runtime; generally, only one of those algorithms is going to be chosen for a particular use case \n",
    "- the state pattern on the other hand, is designed to allow switching between different states dynamically, as some process evolves\n",
    "- the primary difference is that the strategy pattern is not typically aware of other strategy patterns but the state pattern needs to know which other states that it can switch to"
   ]
  },
  {
   "cell_type": "markdown",
   "id": "straight-nowhere",
   "metadata": {},
   "source": [
    "## Singleton Pattern"
   ]
  },
  {
   "cell_type": "markdown",
   "id": "sharp-sending",
   "metadata": {},
   "source": [
    "- many have accused of it as being an anti-pattern\n",
    "- in python if someone is using this, they are doing something wrong"
   ]
  },
  {
   "cell_type": "markdown",
   "id": "coordinate-works",
   "metadata": {},
   "source": [
    "- basic idea behind the singleton pattern is to allow exactly one instance of a certain object to exist\n",
    "- typically this object is a sort of manager class\n",
    "- the problem with that is such objects often need to be refrenced by a wide varity of other objects, and passing reference to the manager object around to the methods and constructors that need them can be hard to read\n",
    "- instead, when a singleton is used, the separate objects request the single instance of the manager object from the class, so a refrence to it need not be passed around\n",
    "- in most programming enviorments, singletons are enforced by making the constructor private; this prevents others from making additional instances of it\n",
    "- you then provide a static method to retrieve the single instance\n",
    "- this creates a new instance the first time it is called and then returns that same instance for all subsequent calls"
   ]
  },
  {
   "cell_type": "markdown",
   "id": "prompt-content",
   "metadata": {},
   "source": [
    "![](images/08.png)"
   ]
  },
  {
   "cell_type": "markdown",
   "id": "alien-wages",
   "metadata": {},
   "source": [
    "### Singleton Implementation"
   ]
  },
  {
   "cell_type": "markdown",
   "id": "adjustable-adoption",
   "metadata": {},
   "source": [
    "- when `__new__` is called, it normally constructs a new instance of that class\n",
    "- when we overrride it, we first check whether our singleton instance had been created; if not, we create it using a `super` call\n",
    "- thus we will always get the exact same instance\n",
    "- generally dont use a `singleton` implementation"
   ]
  },
  {
   "cell_type": "code",
   "execution_count": 4,
   "id": "divided-phase",
   "metadata": {},
   "outputs": [],
   "source": [
    "class OneOnly:\n",
    "    _singleTon = None\n",
    "    \n",
    "    def __new__(cls, *args, **kwargs):\n",
    "        if not cls._singleton:\n",
    "            cls._singleton = super(OneOnly, cls\n",
    "                ).__new__(cls, *args, **kwargs)\n",
    "        return cls._singleton"
   ]
  },
  {
   "cell_type": "markdown",
   "id": "overall-armstrong",
   "metadata": {},
   "source": [
    "### Module Variables can Mimic Singletons"
   ]
  },
  {
   "cell_type": "markdown",
   "id": "equivalent-nirvana",
   "metadata": {},
   "source": [
    "- not as safe as a singleton in that people could reassign those varaible at any time, but that is acceptable\n",
    "- ideally we should give them a mechanism to get access to the `default singleton` value while also allowing them to create other instances\n",
    "- to use `module-level` variables instead of a singleton, we instantiate an instance of the class after we've defined it"
   ]
  },
  {
   "cell_type": "markdown",
   "id": "lesser-honduras",
   "metadata": {},
   "source": [
    "## Template Patern"
   ]
  },
  {
   "cell_type": "markdown",
   "id": "specialized-crisis",
   "metadata": {},
   "source": [
    "- template pattern is useful for the `Don't Repeat Yourself` principle\n",
    "- it is designed for situations where we have several different tasks to accomplish, that have some, but not all, steps in common\n",
    "- the commons teps are implemented in the base class and the distinct steps are overriden in subclasses to provide custom behavior"
   ]
  },
  {
   "cell_type": "markdown",
   "id": "controversial-symphony",
   "metadata": {},
   "source": [
    "![](images/09.png)"
   ]
  }
 ],
 "metadata": {
  "kernelspec": {
   "display_name": "Python 3",
   "language": "python",
   "name": "python3"
  },
  "language_info": {
   "codemirror_mode": {
    "name": "ipython",
    "version": 3
   },
   "file_extension": ".py",
   "mimetype": "text/x-python",
   "name": "python",
   "nbconvert_exporter": "python",
   "pygments_lexer": "ipython3",
   "version": "3.9.2"
  }
 },
 "nbformat": 4,
 "nbformat_minor": 5
}
