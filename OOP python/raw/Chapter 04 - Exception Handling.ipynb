{
 "cells": [
  {
   "cell_type": "markdown",
   "id": "dynamic-salmon",
   "metadata": {},
   "source": [
    "## Raising an Unexpected"
   ]
  },
  {
   "cell_type": "markdown",
   "id": "suitable-ghost",
   "metadata": {},
   "source": [
    "- `raise TypeError(\"\")` or `raise ValueError(\"\")`\n",
    "- you can extend built in methods like the append method"
   ]
  },
  {
   "cell_type": "code",
   "execution_count": 1,
   "id": "appointed-musician",
   "metadata": {},
   "outputs": [],
   "source": [
    "class EvenOnly(list):\n",
    "    def append(self, integer):\n",
    "        if not isinstance(integer, int):\n",
    "            raise TypeError(\"Only integers can be added\")\n",
    "        if integer % 2:\n",
    "            raise ValueError(\"Only even numbers can be added\")\n",
    "        super().append(integer)"
   ]
  },
  {
   "cell_type": "markdown",
   "id": "fifteen-rwanda",
   "metadata": {},
   "source": [
    "## The Effects of an Exception"
   ]
  },
  {
   "cell_type": "markdown",
   "id": "false-police",
   "metadata": {},
   "source": [
    "- exceptions stop program execution immediately "
   ]
  },
  {
   "cell_type": "markdown",
   "id": "indirect-helmet",
   "metadata": {},
   "source": [
    "## Handling Exceptions"
   ]
  },
  {
   "cell_type": "markdown",
   "id": "parallel-doctrine",
   "metadata": {},
   "source": [
    "- use `try/except`\n",
    "- dont just use `except` but with some exception\n",
    "- you can also use `finally`\n",
    "    - to clean up an open database connection\n",
    "    - closing an open file\n",
    "    - sending a closing handshake over the network\n",
    "- if you have an `else` block, it will not be executed if you have an `exception`\n",
    "- "
   ]
  },
  {
   "cell_type": "markdown",
   "id": "unnecessary-powell",
   "metadata": {},
   "source": [
    "## The Exception Hierarchy"
   ]
  },
  {
   "cell_type": "markdown",
   "id": "centered-sierra",
   "metadata": {},
   "source": [
    "- `Exception` inheir form a class called `BaseException`\n",
    "- all exceptions must extend the `BaseException` class or one of its subclasses"
   ]
  },
  {
   "cell_type": "markdown",
   "id": "junior-round",
   "metadata": {},
   "source": [
    "- there are two key built-in exception classes: `systemExit` and `KeyboardInterrupt` that derive directly from `BaseException` instead of `Exception`\n",
    "- `SystemExit` exception is raised whenever the program exits naturally, typically because we called the `sys.exit` function somewhere in our code\n",
    "    - the exception is designed to allow us to clean up code before the program ultimately exits\n",
    "- `KeyboardInterrupt` exception is common in command-line programs\n",
    "    - occurs when user stops programs\n",
    "    - always responds by stopping the program \n",
    "    - it should handle any cleanup tasks inside the finally block"
   ]
  },
  {
   "cell_type": "markdown",
   "id": "conventional-panama",
   "metadata": {},
   "source": [
    "![](images/02.png)"
   ]
  },
  {
   "cell_type": "markdown",
   "id": "accompanied-trunk",
   "metadata": {},
   "source": [
    "- when we use the `except` clause without specifying any type of exception, it will catch all subclasses of `BaseException` which is to say, it will catch all exceptions, including the two special ones\n",
    "- using `except` without those other two may by mistake call `systemExit` or `KeybordInterrupt`"
   ]
  },
  {
   "cell_type": "markdown",
   "id": "subject-officer",
   "metadata": {},
   "source": [
    "## Defining our Own Exceptions"
   ]
  },
  {
   "cell_type": "code",
   "execution_count": 6,
   "id": "valued-affect",
   "metadata": {},
   "outputs": [
    {
     "name": "stdout",
     "output_type": "stream",
     "text": [
      "I am sorry, but your withdrawl is more than your balance by $25\n"
     ]
    }
   ],
   "source": [
    "class InvalidWithdrawl(Exception):\n",
    "    def __init__(self, balance, amount):\n",
    "        super().__init__(f\"account doesn't have ${amount}\")\n",
    "        self.amount = amount\n",
    "        self.balance = balance\n",
    "        \n",
    "    def overage(self):\n",
    "        return self.amount - self.balance\n",
    "    \n",
    "# raise InvalidWithdrawl(25, 50)\n",
    "\n",
    "try:\n",
    "    raise InvalidWithdrawl(25, 50)\n",
    "except InvalidWithdrawl as e:\n",
    "    print(\"I am sorry, but your withdrawl is \"\n",
    "          \"more than your balance by \"\n",
    "          f\"${e.overage()}\"\n",
    "         )"
   ]
  },
  {
   "cell_type": "markdown",
   "id": "higher-apparel",
   "metadata": {},
   "source": [
    "- beauty of exceptions comes into light if you are creating your own framework, library or API that is intended for access by other programmers"
   ]
  },
  {
   "cell_type": "markdown",
   "id": "finnish-commission",
   "metadata": {},
   "source": [
    "- python programmers tend to _ask forgiveness rather than permission_ and not waste CPU cycle looking ofr an unusual situation that might not arise in the normal path\n",
    "- just try and exception and go from there"
   ]
  },
  {
   "cell_type": "markdown",
   "id": "monetary-fleece",
   "metadata": {},
   "source": [
    "- exceptions could be used to pass information to the backend"
   ]
  }
 ],
 "metadata": {
  "kernelspec": {
   "display_name": "Python 3",
   "language": "python",
   "name": "python3"
  },
  "language_info": {
   "codemirror_mode": {
    "name": "ipython",
    "version": 3
   },
   "file_extension": ".py",
   "mimetype": "text/x-python",
   "name": "python",
   "nbconvert_exporter": "python",
   "pygments_lexer": "ipython3",
   "version": "3.9.2"
  }
 },
 "nbformat": 4,
 "nbformat_minor": 5
}
