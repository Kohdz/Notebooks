{
 "cells": [
  {
   "cell_type": "markdown",
   "id": "extreme-representation",
   "metadata": {},
   "source": [
    "## Strings"
   ]
  },
  {
   "cell_type": "markdown",
   "id": "straight-corruption",
   "metadata": {},
   "source": [
    "- a string is an immutable sequence of chaeracters\n",
    "- the sequence of characters are Unicode and can represent any language"
   ]
  },
  {
   "cell_type": "markdown",
   "id": "informative-metropolitan",
   "metadata": {},
   "source": [
    "## String Manipulation"
   ]
  },
  {
   "cell_type": "markdown",
   "id": "photographic-princess",
   "metadata": {},
   "source": [
    "- if you have a really long string, you can just seprate out the quotes"
   ]
  },
  {
   "cell_type": "code",
   "execution_count": 3,
   "id": "egyptian-disco",
   "metadata": {},
   "outputs": [
    {
     "data": {
      "text/plain": [
       "'http://long_sequenceend'"
      ]
     },
     "execution_count": 3,
     "metadata": {},
     "output_type": "execute_result"
    }
   ],
   "source": [
    "e = ('http://' 'long_sequence'\n",
    "             'end')\n",
    "\n",
    "e"
   ]
  },
  {
   "cell_type": "markdown",
   "id": "consolidated-advocate",
   "metadata": {},
   "source": [
    "common boolean methods:\n",
    "- `isalpha`\n",
    "- `issupper/islower`\n",
    "- `startswith/endswith`\n",
    "- `isspace`\n",
    "- `istitle`\n",
    "- `isdigit`/`isdecimal`/`isnumeric`"
   ]
  },
  {
   "cell_type": "markdown",
   "id": "coral-amendment",
   "metadata": {},
   "source": [
    "- do not use Boolean numeric checks because of the inconsistencies, you better off using reqular expressions\n"
   ]
  },
  {
   "cell_type": "markdown",
   "id": "handmade-equilibrium",
   "metadata": {},
   "source": [
    "common non-boolean methods\n",
    "- `count`\n",
    "- `find`\n",
    "- `index\n",
    "- `rfind`\n",
    "- `rindex`"
   ]
  },
  {
   "cell_type": "markdown",
   "id": "figured-extreme",
   "metadata": {},
   "source": [
    "common reansforming methods:\n",
    "- `upper`\n",
    "- `lower`\n",
    "- `capitalize`\n",
    "- `title`\n",
    "- `translate`"
   ]
  },
  {
   "cell_type": "markdown",
   "id": "optical-catalyst",
   "metadata": {},
   "source": [
    "- when performing the transformation, it is better to assign the transfromed string to the orgnial string since you do not neet it anymore"
   ]
  },
  {
   "cell_type": "code",
   "execution_count": 4,
   "id": "ordered-depression",
   "metadata": {},
   "outputs": [
    {
     "data": {
      "text/plain": [
       "'TEST'"
      ]
     },
     "execution_count": 4,
     "metadata": {},
     "output_type": "execute_result"
    }
   ],
   "source": [
    "value = 'test'\n",
    "value = value.upper()\n",
    "value"
   ]
  },
  {
   "cell_type": "markdown",
   "id": "beneficial-purpose",
   "metadata": {},
   "source": [
    "common string methods that return or operate on lists\n",
    "- `split`\n",
    "- `rsplit`\n",
    "- `partition`\n",
    "- `rpartition`\n",
    "- `split`\n",
    "- `join`"
   ]
  },
  {
   "cell_type": "code",
   "execution_count": 9,
   "id": "academic-substitute",
   "metadata": {},
   "outputs": [
    {
     "name": "stdout",
     "output_type": "stream",
     "text": [
      "s partition: ('hello', ' ', 'world, how are you')\n",
      "s split: ['hello', 'world,', 'how', 'are', 'you']\n"
     ]
    }
   ],
   "source": [
    "s = \"hello world, how are you\"\n",
    "s_part = s.partition(\" \")\n",
    "s_split = s.split(' ')\n",
    "\n",
    "print(f's partition: {s_part}')\n",
    "print(f's split: {s_split}')"
   ]
  },
  {
   "cell_type": "markdown",
   "id": "sought-organization",
   "metadata": {},
   "source": [
    "## Escaping Braces"
   ]
  },
  {
   "cell_type": "markdown",
   "id": "hourly-fancy",
   "metadata": {},
   "source": [
    "- to escape braces, just use double braces `{{}}`"
   ]
  },
  {
   "cell_type": "markdown",
   "id": "boxed-capital",
   "metadata": {},
   "source": [
    "## Decimal Calculations"
   ]
  },
  {
   "cell_type": "markdown",
   "id": "australian-direction",
   "metadata": {},
   "source": [
    "- we should never use floating-point numbners in currency calculations\n",
    "- you should use `decimal.Decimal()` objects instead"
   ]
  },
  {
   "cell_type": "markdown",
   "id": "comparable-ticket",
   "metadata": {},
   "source": [
    "- to correct formatting issues with decimals, we can use sting formatting"
   ]
  },
  {
   "cell_type": "markdown",
   "id": "further-pizza",
   "metadata": {},
   "source": [
    "\n",
    "    print(\n",
    "        \"Sub: ${0:0.2f} Tax: ${1:0.2f} \"\n",
    "        \"Total: ${total:0.2f}\".format(subtotal, tax, total=total)\n",
    "    )"
   ]
  },
  {
   "cell_type": "markdown",
   "id": "swedish-trial",
   "metadata": {},
   "source": [
    "- the `0.2f` format specifier after the colon basically says the following, from left to right:\n",
    "    - `0`: for the values lower than one, make sure a zero is dispalyed on the left-hand of the decimal point\n",
    "    - `.`: show a decimal point\n",
    "    - `2`: show two places after the decimal\n",
    "    - `f`: format the input value as a float"
   ]
  },
  {
   "cell_type": "markdown",
   "id": "pursuant-finder",
   "metadata": {},
   "source": [
    "`{product:10s}`:\n",
    "- `s` means it s a string variable\n",
    "- `10` means it should take up 10 characters"
   ]
  },
  {
   "cell_type": "markdown",
   "id": "conditional-start",
   "metadata": {},
   "source": [
    "`{quantity: ^9d}`\n",
    "- `d` represents an integer value\n",
    "- `9` tells us the value should take up 9 characters on the screen\n",
    "- `^` tells us that the number should be aligned in the center of this avaialble padding; this makes the column look more professional\n",
    "- `(space)` tells us the formatter to use a space as the padding character\n",
    "\n"
   ]
  },
  {
   "cell_type": "markdown",
   "id": "positive-cannon",
   "metadata": {},
   "source": [
    "## Custom Formatters"
   ]
  },
  {
   "cell_type": "markdown",
   "id": "favorite-twenty",
   "metadata": {},
   "source": [
    "    import datetime\n",
    "    print(\"{the_date:%Y-%m-%d %I:%M%p }\".format(datetime.datetime.now()))\n"
   ]
  },
  {
   "cell_type": "markdown",
   "id": "modified-lawsuit",
   "metadata": {},
   "source": [
    "## Strings are Unicode"
   ]
  },
  {
   "cell_type": "markdown",
   "id": "every-painting",
   "metadata": {},
   "source": [
    "- if you get a string of bytes from a file or a socket, they wont be in `Unicode`\n",
    "- they will be the built-in type `bytes`\n",
    "- if we print a byte object, any bytes that map to `ASCII` representations will be printed as their original character, while non-ASCII bytes are printed as hex codes escaped by the `\\x` escape sequence\n",
    "- since there are many unicodes, bytes must be decoded using the same unicode they were encoded with"
   ]
  },
  {
   "cell_type": "markdown",
   "id": "assigned-terror",
   "metadata": {},
   "source": [
    "## Converting bytes to text"
   ]
  },
  {
   "cell_type": "markdown",
   "id": "olive-momentum",
   "metadata": {},
   "source": [
    "- the `decode()` method on the `byte` class accepts a string for the name of the character\n",
    "- this can be `ASCII`, `UTF-8`, etc"
   ]
  },
  {
   "cell_type": "code",
   "execution_count": 13,
   "id": "magnetic-rebel",
   "metadata": {},
   "outputs": [
    {
     "name": "stdout",
     "output_type": "stream",
     "text": [
      "b'clich\\xe9'\n",
      "cliché\n"
     ]
    }
   ],
   "source": [
    "characters = b'\\x63\\x6c\\x69\\x63\\x68\\xe9'\n",
    "print(characters)\n",
    "print(characters.decode(\"latin-1\"))"
   ]
  },
  {
   "cell_type": "markdown",
   "id": "terminal-structure",
   "metadata": {},
   "source": [
    "## Converting Text to Bytes"
   ]
  },
  {
   "cell_type": "markdown",
   "id": "adaptive-tomato",
   "metadata": {},
   "source": [
    "- we use the `encode` method on the `str` class"
   ]
  },
  {
   "cell_type": "markdown",
   "id": "certain-inspiration",
   "metadata": {},
   "source": [
    "- the `encode` method also takes in another paramater that decided what happend if it encounters a wrong encoder"
   ]
  },
  {
   "cell_type": "markdown",
   "id": "adapted-gibraltar",
   "metadata": {},
   "source": [
    "    characters = \"cliché\"\n",
    "    print(characters.encode(\"UTF-8\"))\n",
    "\n",
    "\n",
    "    print(\"encode('ascii' strategy)\")\n",
    "    print(characters.encode(\"ascii\", strategy))\n",
    "    print(\"\")\n",
    "    print(\"encode('ascii' replace)\")\n",
    "    print(characters.encode(\"ascii\", replace))\n",
    "    print(\"\")\n",
    "    print(\"encode('ascii' ignore)\")\n",
    "    print(characters.encode(\"ascii\", ignore))\n",
    "    print(\"\")\n",
    "    print(\"encode('ascii' xmlcharrefreplace)\")\n",
    "    print(characters.encode(\"ascii\", xmlcharrefreplace))\n",
    "    print(\"\")"
   ]
  },
  {
   "cell_type": "markdown",
   "id": "retired-amazon",
   "metadata": {},
   "source": [
    "## Mutable Byte Strings "
   ]
  },
  {
   "cell_type": "markdown",
   "id": "attached-salvation",
   "metadata": {},
   "source": [
    "- `bytearray` behaves like a list but it only holds bytes\n",
    "- the constructor for the class accepts a `bytes` object to initalize\n",
    "- the `extend` method can be used to append another `bytes` object to the existing array"
   ]
  },
  {
   "cell_type": "code",
   "execution_count": 22,
   "id": "opening-investment",
   "metadata": {},
   "outputs": [
    {
     "name": "stdout",
     "output_type": "stream",
     "text": [
      "bytearray(b'abcd\\x15\\xa3gh')\n"
     ]
    }
   ],
   "source": [
    "b = bytearray(b\"abcdefgh\")\n",
    "b[4:6] = b\"\\x15\\xa3\"\n",
    "print(b)"
   ]
  },
  {
   "cell_type": "markdown",
   "id": "understood-secretariat",
   "metadata": {},
   "source": [
    "- if we want to manipulate a single element in bytearray, we must pass an integer between `0` and `255` as the value\n",
    "- the integer represents a specifric `bytes` pattern\n",
    "- a single byte character can be onverted to an integer using the `ord` function"
   ]
  },
  {
   "cell_type": "code",
   "execution_count": 23,
   "id": "going-brief",
   "metadata": {},
   "outputs": [
    {
     "name": "stdout",
     "output_type": "stream",
     "text": [
      "bytearray(b'abcgDf')\n"
     ]
    }
   ],
   "source": [
    "b = bytearray(b\"abcdef\")\n",
    "b[3] = ord(b\"g\")\n",
    "b[4] = 68\n",
    "print(b)"
   ]
  },
  {
   "cell_type": "markdown",
   "id": "worthy-square",
   "metadata": {},
   "source": [
    "- the bytearray type has methods that allow it to behave like a list \n",
    "    - meaning we can append integer bytes to it\n",
    "- but it also has methods such as `count` and `find`\n",
    "- difference between `str` and `bytearray` is that a bytearrayt can be manipulated"
   ]
  },
  {
   "cell_type": "markdown",
   "id": "located-wealth",
   "metadata": {},
   "source": [
    "## Regular Expressions"
   ]
  },
  {
   "cell_type": "markdown",
   "id": "grateful-baptist",
   "metadata": {},
   "source": [
    "- regular expressions are not OOP but python has a libary\n",
    "- string parsing is almost always left to `re`"
   ]
  },
  {
   "cell_type": "markdown",
   "id": "obvious-wilderness",
   "metadata": {},
   "source": [
    "### Matching Patterns"
   ]
  },
  {
   "cell_type": "code",
   "execution_count": 25,
   "id": "square-savage",
   "metadata": {},
   "outputs": [
    {
     "name": "stdout",
     "output_type": "stream",
     "text": [
      "regex matches\n"
     ]
    }
   ],
   "source": [
    "import re\n",
    "\n",
    "search_string = \"hello world\"\n",
    "pattern = \"hello world\"\n",
    "match = re.match(pattern, search_string)\n",
    "\n",
    "if match:\n",
    "    print(\"regex matches\")"
   ]
  },
  {
   "cell_type": "markdown",
   "id": "optional-invitation",
   "metadata": {},
   "source": [
    "### Matching a Selection of Characters"
   ]
  },
  {
   "cell_type": "markdown",
   "id": "competent-distribution",
   "metadata": {},
   "source": [
    "- you have to use `[a-zA-z0-9]"
   ]
  },
  {
   "cell_type": "markdown",
   "id": "ecological-synthesis",
   "metadata": {},
   "source": [
    "## Escaping Characters "
   ]
  },
  {
   "cell_type": "markdown",
   "id": "standard-belize",
   "metadata": {},
   "source": [
    "- the backslash `\\` is the escape sequence "
   ]
  },
  {
   "cell_type": "markdown",
   "id": "turkish-information",
   "metadata": {},
   "source": [
    "## Special Classes"
   ]
  },
  {
   "cell_type": "markdown",
   "id": "moving-priest",
   "metadata": {},
   "source": [
    "- there are `\\n`, `\\t`, `\\d`, `\\w`"
   ]
  },
  {
   "cell_type": "markdown",
   "id": "auburn-supplement",
   "metadata": {},
   "source": [
    "### Matching multiple characters"
   ]
  },
  {
   "cell_type": "markdown",
   "id": "incident-railway",
   "metadata": {},
   "source": [
    "- use the wild card `*`\n",
    "- or you can jjust put a plus sign at the end of everything\n",
    "    - `[a-z`]+"
   ]
  },
  {
   "cell_type": "markdown",
   "id": "specific-issue",
   "metadata": {},
   "source": [
    "### Grouping Patterns Together"
   ]
  },
  {
   "cell_type": "markdown",
   "id": "viral-diesel",
   "metadata": {},
   "source": [
    "- we can use `{}`\n",
    "- `abcabcabc` == `(abc){3}`"
   ]
  },
  {
   "cell_type": "markdown",
   "id": "tender-cinema",
   "metadata": {},
   "source": [
    "### Getting information from regular expressions"
   ]
  },
  {
   "cell_type": "markdown",
   "id": "lesser-possibility",
   "metadata": {},
   "source": [
    "- the `group` method returns a tuple of all the groups matched inside the pattern, which you can index to access a specific value\n"
   ]
  },
  {
   "cell_type": "markdown",
   "id": "polar-belfast",
   "metadata": {},
   "source": [
    "- there is also the import `findall` function and the `search` method"
   ]
  },
  {
   "cell_type": "markdown",
   "id": "limited-holly",
   "metadata": {},
   "source": [
    "### Making repeated regular expressions efficient"
   ]
  },
  {
   "cell_type": "markdown",
   "id": "necessary-procedure",
   "metadata": {},
   "source": [
    "- when we use regular expressions, the engine has to convert the pattern string into an internal structutre that makes searching strings fast\n"
   ]
  },
  {
   "cell_type": "markdown",
   "id": "electrical-tunisia",
   "metadata": {},
   "source": [
    "- using `re.comple` method makes it so that the conversion step could be done only once\n",
    "- it returns an object-oriented version of the regular expression that has been complied down and has the methods we explored such as `match`, `search`, `findall`"
   ]
  },
  {
   "cell_type": "markdown",
   "id": "boxed-lodging",
   "metadata": {},
   "source": [
    "## Filesystem Paths "
   ]
  },
  {
   "cell_type": "markdown",
   "id": "wrong-presence",
   "metadata": {},
   "source": [
    "- python uses the `os,path` module\n",
    "- `os.path` is a pain to use\n",
    "- so python developers developed something called `pathlib`"
   ]
  },
  {
   "cell_type": "code",
   "execution_count": 29,
   "id": "studied-priority",
   "metadata": {},
   "outputs": [
    {
     "name": "stdout",
     "output_type": "stream",
     "text": [
      "C:\\Users\\Vicktree\\Desktop\\notebook Draft\\OOP python\\subdir\\ subsubdir\\file.ext\n"
     ]
    }
   ],
   "source": [
    "import pathlib\n",
    "\n",
    "path = (pathlib.Path(\".\") / \"subdir\" / \" subsubdir\" / \"file.ext\").absolute()\n",
    "print(path)"
   ]
  },
  {
   "cell_type": "markdown",
   "id": "golden-alaska",
   "metadata": {},
   "source": [
    "the common methods are:\n",
    "- `absolute()`, `parent`, `exists()`, `mkdir()`, `exist_ok`"
   ]
  },
  {
   "cell_type": "markdown",
   "id": "conservative-musician",
   "metadata": {},
   "source": [
    "- you can also get the path to objects like `ZIP` files"
   ]
  },
  {
   "cell_type": "markdown",
   "id": "together-membrane",
   "metadata": {},
   "source": [
    "    zipfile.ZipFile(Path('nothing.zip'), 'w').writestr('filename',\n",
    "    'contents')"
   ]
  },
  {
   "cell_type": "markdown",
   "id": "going-score",
   "metadata": {},
   "source": [
    "## Serializing Objects"
   ]
  },
  {
   "cell_type": "markdown",
   "id": "obvious-aside",
   "metadata": {},
   "source": [
    "- python `pickle` module is an OOP way to store objects directly in a special storage format\n",
    "- it converts an object into a sequence of bytes that are stored or transported howerver we see fit"
   ]
  },
  {
   "cell_type": "markdown",
   "id": "established-membrane",
   "metadata": {},
   "source": [
    "- the `dump` method accepts an object to write and a file-like object to write the searlized bytes to\n",
    "- the object must have a `write` method and that method must know how to handle `bytes` arguments"
   ]
  },
  {
   "cell_type": "markdown",
   "id": "enhanced-reach",
   "metadata": {},
   "source": [
    "- the `load` method does exactly the oppsite\n",
    "- it reads a serialized object from a file-like object\n",
    "- the object must have proper `read` and `readline` argument that must return `bytes\n"
   ]
  },
  {
   "cell_type": "markdown",
   "id": "expanded-maintenance",
   "metadata": {},
   "source": [
    "- the `pickle` module will load the object from these bytes and the `load` method will return a fully reconstructed object"
   ]
  },
  {
   "cell_type": "code",
   "execution_count": 31,
   "id": "through-hawaiian",
   "metadata": {},
   "outputs": [
    {
     "name": "stdout",
     "output_type": "stream",
     "text": [
      "['a list', 'containing', 5, 'values including another list', ['inner', 'list']]\n"
     ]
    }
   ],
   "source": [
    "import pickle\n",
    "some_data = [\"a list\", \"containing\", 5,\n",
    "             \"values including another list\",\n",
    "             [\"inner\", \"list\"]]\n",
    "\n",
    "with open(\"pickled_list\", 'wb') as file:\n",
    "    pickle.dump(some_data, file)\n",
    "\n",
    "with open(\"pickled_list\", 'rb') as file:\n",
    "    loaded_data = pickle.load(file)\n",
    "\n",
    "print(loaded_data)\n",
    "assert loaded_data == some_data"
   ]
  },
  {
   "cell_type": "markdown",
   "id": "radical-macedonia",
   "metadata": {},
   "source": [
    "- `dump` and `load` behave like the file opening methods except they return or accept `bytes`\n",
    "- `dump` returns a seralized object\n",
    "- the `load` takes bytes and returns a restored obejct"
   ]
  },
  {
   "cell_type": "markdown",
   "id": "competitive-nightlife",
   "metadata": {},
   "source": [
    "## Customizing Pickels"
   ]
  },
  {
   "cell_type": "markdown",
   "id": "boxed-climate",
   "metadata": {},
   "source": [
    "- basic primitives such as integers, floats, and strings can be pickled\n",
    "- container objects such as `lists`, `dictionaries` can also be pickled provided the contents fo those containers are also pickable\n",
    "- objects can also be pickled, provided all of its attributes are also pickable"
   ]
  },
  {
   "cell_type": "markdown",
   "id": "advised-awareness",
   "metadata": {},
   "source": [
    "- usually time dependent stuff is not pickable\n",
    "- things like socket conenctions, database conenctions, etc."
   ]
  },
  {
   "cell_type": "markdown",
   "id": "contemporary-eclipse",
   "metadata": {},
   "source": [
    "- when `pickle` tries to serialize an objectm it simply tries to stoe the objects `__dict__` attribute\n",
    "- the `__dict__` is a dictionary mapping all the attribute names on the object to their values\n",
    "- if there is a `__getstate__` method, it will try to get that value instead of the `__dict__`\n",
    "- by using `__getstate__` we dont have to worry about pickling time sensentive data such as the `Timer`"
   ]
  },
  {
   "cell_type": "markdown",
   "id": "canadian-acceptance",
   "metadata": {},
   "source": [
    "- we will lose our timer with that, so we need a way to get it back, luckely we can use `__setstate__\n",
    "- `__setstate__` can bewe used to implement customizing unpickling\n",
    "     - `def __setstate__(self, data): self.__dict__ = data self.schedule()`\n"
   ]
  },
  {
   "cell_type": "code",
   "execution_count": 33,
   "id": "acoustic-characteristic",
   "metadata": {},
   "outputs": [],
   "source": [
    "from threading import Timer\n",
    "import datetime\n",
    "from urllib.request import urlopen\n",
    "\n",
    "class UpdatedURL:\n",
    "    def __init__(self, url):\n",
    "        self.url = url\n",
    "        self.contents = ''\n",
    "        self.last_updated = None\n",
    "        self.update()\n",
    "        \n",
    "    def __getstate__(self):\n",
    "        new_state = self.__dict__.copy()\n",
    "        if 'timer' in new_state:\n",
    "            del new_state\n",
    "        return new_state\n",
    "    \n",
    "    def update(self):\n",
    "        self.contents = urlopen(self.url).read()\n",
    "        self.last_updated = datetime.datetime.now()\n",
    "        self.schedule()\n",
    "    \n",
    "    def schedule(self):\n",
    "        self.timer = Timer(3600, self.update)\n",
    "        self.timer.setDaemon(True)\n",
    "        self.timer.start()\n"
   ]
  },
  {
   "cell_type": "markdown",
   "id": "analyzed-equipment",
   "metadata": {},
   "source": [
    "## Serializing Web Objects"
   ]
  },
  {
   "cell_type": "markdown",
   "id": "adolescent-april",
   "metadata": {},
   "source": [
    "- it is not a good idea to load pickled objects from an untrusted source\n",
    "- another problem of pickled programs is that only `Python` can load them\n",
    "- `JSON` is the human-readable format for exchanging primitive data\n",
    "- in JSON, only data can be `serialized` and no code can be executed\n",
    "- thus you do not have to worry about inejcting malicious statements into it"
   ]
  },
  {
   "cell_type": "markdown",
   "id": "certain-farmer",
   "metadata": {},
   "source": [
    "- `json` module is simmilar to the `pickle` module with the exception to the output\n",
    "- the output is a valid `JSON` instead of a `picked` object\n",
    "- `json` functions operate on `str` objects and not `bytes`\n",
    "- thus when dumping or loading form a file, we create text files and not binary ones"
   ]
  },
  {
   "cell_type": "markdown",
   "id": "tutorial-justice",
   "metadata": {},
   "source": [
    "- `JSON` cannot represent classes or functions, etc.\n",
    "- `JSON` is not an object, it is only data; it has no behaviors\n",
    "- there are ways to use `JSONEncoder` to accpet an object and convert it into a dictionary that `json` can digest\n",
    "- if it does not know how to process the object, we can just call the `super()` method\n",
    "- note, you could use `json.dumps(c.__dict__)` but that is crass"
   ]
  },
  {
   "cell_type": "code",
   "execution_count": 39,
   "id": "present-paris",
   "metadata": {},
   "outputs": [
    {
     "data": {
      "text/plain": [
       "'{\"is_contact\": true, \"first\": \"John\", \"last\": \"Smith\", \"full\": \"John Smith\"}'"
      ]
     },
     "execution_count": 39,
     "metadata": {},
     "output_type": "execute_result"
    }
   ],
   "source": [
    "import json\n",
    "\n",
    "class Contact:\n",
    "    def __init__(self, first, last):\n",
    "        self.first = first\n",
    "        self.last = last\n",
    "        \n",
    "    @property\n",
    "    def full_name(self):\n",
    "        return (f\"{self.first} {self.last}\")\n",
    "\n",
    "class ContactEncoder(json.JSONEncoder):\n",
    "    def default(self, obj):\n",
    "        if isinstance(obj, Contact):\n",
    "            return {\n",
    "                \"is_contact\": True,\n",
    "                \"first\": obj.first,\n",
    "                \"last\": obj.last,\n",
    "                \"full\": obj.full_name\n",
    "            }\n",
    "        return super().default(obj)\n",
    "\n",
    "def decode_contact(dic):\n",
    "    if dic.get(\"is_contact\"):\n",
    "        return Contact(dic[\"first\"], dic[\"last\"])\n",
    "    else:\n",
    "        return dic\n",
    "\n",
    "    \n",
    "c = Contact(\"John\", \"Smith\")\n",
    "# json.dumps(c.__dict__)\n",
    "json.dumps(c, cls=ContactEncoder)"
   ]
  }
 ],
 "metadata": {
  "kernelspec": {
   "display_name": "Python 3",
   "language": "python",
   "name": "python3"
  },
  "language_info": {
   "codemirror_mode": {
    "name": "ipython",
    "version": 3
   },
   "file_extension": ".py",
   "mimetype": "text/x-python",
   "name": "python",
   "nbconvert_exporter": "python",
   "pygments_lexer": "ipython3",
   "version": "3.9.2"
  }
 },
 "nbformat": 4,
 "nbformat_minor": 5
}
