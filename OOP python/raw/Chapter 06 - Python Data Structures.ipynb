{
 "cells": [
  {
   "cell_type": "markdown",
   "id": "streaming-annual",
   "metadata": {},
   "source": [
    "## Empty Objects"
   ]
  },
  {
   "cell_type": "markdown",
   "id": "chemical-webmaster",
   "metadata": {},
   "source": [
    "- we can create an object with out a subclass\n",
    "- `o = object()`\n",
    "- we cant allow an non-subclass object to have an attribute\n",
    "- this is to save alot of memory\n",
    "- when an object has an attribute, it takes system memory to keep track of it\n",
    "- since every class uses object, If we add an atteribute to `object` and have thousands of classes, you now have that attribute stored thousands of times"
   ]
  },
  {
   "cell_type": "markdown",
   "id": "duplicate-village",
   "metadata": {},
   "source": [
    "- use __slots__ to restrict arbitrary properties when you have classes that are duplicated thousands of time "
   ]
  },
  {
   "cell_type": "code",
   "execution_count": 1,
   "id": "ceramic-constraint",
   "metadata": {},
   "outputs": [
    {
     "data": {
      "text/plain": [
       "'hello'"
      ]
     },
     "execution_count": 1,
     "metadata": {},
     "output_type": "execute_result"
    }
   ],
   "source": [
    "class MyObject:\n",
    "    pass\n",
    "\n",
    "m = MyObject()\n",
    "m.x = \"hello\"\n",
    "m.x"
   ]
  },
  {
   "cell_type": "markdown",
   "id": "related-metadata",
   "metadata": {},
   "source": [
    "## Tuples"
   ]
  },
  {
   "cell_type": "markdown",
   "id": "thorough-sugar",
   "metadata": {},
   "source": [
    "- objects that can store a specific number of other objects in order\n",
    "- they are `immutable`\n",
    "- primary benefit of a tuple is that we can use them as keys in dictionaries\n",
    "- we can also use them in other locations where objects require a hash value"
   ]
  },
  {
   "cell_type": "markdown",
   "id": "rental-globe",
   "metadata": {},
   "source": [
    "- tuples only store data, behavior cannot be associated with a tuple\n",
    "- the primary purpose of a tuple is to aggregate different pieces of data together into one container\n",
    "- thus a tuple can be easiest tool to replace the object with no data\n",
    "- we can use `slicing` to extract larger piecepieces of tuples\n"
   ]
  },
  {
   "cell_type": "markdown",
   "id": "small-bicycle",
   "metadata": {},
   "source": [
    "- major downside of a tuple is readability\n",
    "- how does anyone know what the second item in the tuple is used for"
   ]
  },
  {
   "cell_type": "markdown",
   "id": "intensive-environment",
   "metadata": {},
   "source": [
    "## Named Tuples"
   ]
  },
  {
   "cell_type": "markdown",
   "id": "promotional-consideration",
   "metadata": {},
   "source": [
    "- what do we do when we want to group values together but we know we are frequently going to need to access them individually?\n",
    "- we could use an empty object or dictionary\n",
    "- first we have to import `namedtuple` then we have to add values as paramaters"
   ]
  },
  {
   "cell_type": "code",
   "execution_count": 3,
   "id": "polished-progress",
   "metadata": {},
   "outputs": [
    {
     "data": {
      "text/plain": [
       "Stock(symbol='FB', current=177.46, high=178.67, low=175.79)"
      ]
     },
     "execution_count": 3,
     "metadata": {},
     "output_type": "execute_result"
    }
   ],
   "source": [
    "from collections import namedtuple\n",
    "\n",
    "Stock = namedtuple(\"Stock\", [\"symbol\", \"current\", \"high\", \"low\"])\n",
    "stock = Stock(\"FB\", 177.46, high=178.67, low=175.79)\n",
    "\n",
    "stock"
   ]
  },
  {
   "cell_type": "code",
   "execution_count": 4,
   "id": "young-columbus",
   "metadata": {},
   "outputs": [
    {
     "name": "stdout",
     "output_type": "stream",
     "text": [
      "178.67\n"
     ]
    }
   ],
   "source": [
    "# we can unpack that tuple\n",
    "\n",
    "print(stock.high)"
   ]
  },
  {
   "cell_type": "markdown",
   "id": "coordinated-roller",
   "metadata": {},
   "source": [
    "## Dataclasses"
   ]
  },
  {
   "cell_type": "markdown",
   "id": "proof-auction",
   "metadata": {},
   "source": [
    "- Dataclasses are regular objects with a clean syntax for predefining attributes"
   ]
  },
  {
   "cell_type": "code",
   "execution_count": 8,
   "id": "sweet-python",
   "metadata": {},
   "outputs": [
    {
     "data": {
      "text/plain": [
       "Stock(symbol='FB', current=177.46, high=178.67, low=175.79)"
      ]
     },
     "execution_count": 8,
     "metadata": {},
     "output_type": "execute_result"
    }
   ],
   "source": [
    "from dataclasses import make_dataclass\n",
    "\n",
    "Stock = make_dataclass(\"Stock\", [\"symbol\", \"current\", \"high\", \"low\"])\n",
    "stock = Stock(\"FB\", 177.46, high=178.67, low=175.79)\n",
    "\n",
    "stock"
   ]
  },
  {
   "cell_type": "markdown",
   "id": "australian-beginning",
   "metadata": {},
   "source": [
    "- obvious benefit of dataclass is that you can make it in 1 line and not 6\n",
    "- you also have a much more useful string representation then the regular version\n",
    "- it provides an equality comparision for free"
   ]
  },
  {
   "cell_type": "code",
   "execution_count": 13,
   "id": "palestinian-cincinnati",
   "metadata": {},
   "outputs": [],
   "source": [
    "from dataclasses import dataclass\n",
    "from typing import Any\n",
    "\n",
    "@dataclass\n",
    "class StockDecorated:\n",
    "    name: str\n",
    "    current: float = 0.0\n",
    "    high: float = 0.0\n",
    "    low: float = 0.0\n",
    "    want: Any = \"yes\""
   ]
  },
  {
   "cell_type": "markdown",
   "id": "toxic-cameroon",
   "metadata": {},
   "source": [
    "- with that we get comparisions for free\n",
    "- we can set `order=True` and it will by default compare the values based on each of the attributes in the order they are defined\n",
    "- you can customize the order by providing a `sort_index` attribute inside a `__post__init__` method on the class "
   ]
  },
  {
   "cell_type": "markdown",
   "id": "manufactured-advocate",
   "metadata": {},
   "source": [
    "## Dictionaries"
   ]
  },
  {
   "cell_type": "markdown",
   "id": "fitting-fishing",
   "metadata": {},
   "source": [
    "- dictionaries are increadibly useful containers that allow us to map objects directly to other objects\n",
    "- attributes and properties of classes are stored internally as dictionaries\n",
    "- dictionaries are objects that can hold other objects\n",
    "- dictionaries have a `get`  method\n",
    "- a `setdefault` method to eithe return what was already there or the new thing that was created "
   ]
  },
  {
   "cell_type": "code",
   "execution_count": 18,
   "id": "favorite-omaha",
   "metadata": {},
   "outputs": [
    {
     "data": {
      "text/plain": [
       "(10.87, 10.76, 10.9)"
      ]
     },
     "execution_count": 18,
     "metadata": {},
     "output_type": "execute_result"
    }
   ],
   "source": [
    "stocks = {\n",
    " \"GOOG\": (1235.20, 1242.54, 1231.06),\n",
    " \"MSFT\": (110.41, 110.45, 109.84),\n",
    "}\n",
    "stocks.setdefault(\"GOOG\", \"INVALID\")\n",
    "stocks.setdefault(\"BBRY\", (10.87, 10.76, 10.90))"
   ]
  },
  {
   "cell_type": "markdown",
   "id": "bored-houston",
   "metadata": {},
   "source": [
    "- we can use `items` to iterate over dictionary key and values\n",
    "- if you want ordered dictionary, use `OrderedDict`\n",
    "- we cannot use a `list` as a key as it is not hashable\n",
    "- objects that are `hashable` basically have a defined algorithm that converts the object into a unique integer value for rapid lookup\n",
    "- tuples can be hashed because they are immutable\n",
    "- lists can change and thus are unhashable\n",
    "- simmilarly `dictionaries` cannot be used as keys"
   ]
  },
  {
   "cell_type": "markdown",
   "id": "considered-significance",
   "metadata": {},
   "source": [
    "- we should use `dataclass` when we know exactly what attributes the data must store, espically if we also want to use the class definition as documentation for the end user\n",
    "- `Dataclasses` might replace named tuples\n",
    "- you cant loop over dataclases\n",
    "- `dictionares` would be better choice if the keys describing the object are not known in advance, or if different objects will have some variety in their keys"
   ]
  },
  {
   "cell_type": "markdown",
   "id": "educated-observer",
   "metadata": {},
   "source": [
    "- under the hood, most objects are implemented using dictionaries under the hood\n",
    "- you can check this by looking at the `obj.__dict__` magic attribute\n",
    "- when you use `obj.attr_name` it basically does the translation for you to `obj['attr_name']`"
   ]
  },
  {
   "cell_type": "markdown",
   "id": "chubby-daughter",
   "metadata": {},
   "source": [
    "### Using Defaultdict "
   ]
  },
  {
   "cell_type": "markdown",
   "id": "unauthorized-manitoba",
   "metadata": {},
   "source": [
    "- defaultdict comes with built in functions that handle alot for you\n",
    "- you can use `defaultdict` to create containers\n",
    "    - `graph = defaultdict(list)"
   ]
  },
  {
   "cell_type": "markdown",
   "id": "available-knife",
   "metadata": {},
   "source": [
    "### Counter"
   ]
  },
  {
   "cell_type": "markdown",
   "id": "outdoor-august",
   "metadata": {},
   "source": [
    "- use it to count the instances of keys\n",
    "- it has a `most_common()` attribute\n",
    "- it returns a list of `(key, count)` from greatest to smallest"
   ]
  },
  {
   "cell_type": "code",
   "execution_count": 22,
   "id": "collected-china",
   "metadata": {},
   "outputs": [
    {
     "name": "stdout",
     "output_type": "stream",
     "text": [
      "The children voted for vanilla ice cream\n"
     ]
    }
   ],
   "source": [
    "from collections import Counter\n",
    "responses = [\n",
    " \"vanilla\",\n",
    " \"chocolate\",\n",
    " \"vanilla\",\n",
    " \"vanilla\",\n",
    " \"caramel\",\n",
    " \"strawberry\",\n",
    " \"vanilla\"\n",
    "]\n",
    "print(\n",
    " \"The children voted for {} ice cream\".format( \n",
    " Counter(responses).most_common(1)[0][0]\n",
    " )\n",
    ")"
   ]
  },
  {
   "cell_type": "markdown",
   "id": "informed-chemical",
   "metadata": {},
   "source": [
    "- `most_common(1)[0][0]`\n",
    "    - you are requestion only 1 element\n",
    "    - the element stores the name of the top element at position `0`\n",
    "    - the key is the element `0`"
   ]
  },
  {
   "cell_type": "markdown",
   "id": "further-waters",
   "metadata": {},
   "source": [
    "## Lists"
   ]
  },
  {
   "cell_type": "markdown",
   "id": "loaded-studio",
   "metadata": {},
   "source": [
    "- lists are the least object oriented data structures\n",
    "- lists are used when we want to store several instances of the same type of object\n",
    "- the benefit is that you get the order at which they were inserted, if that is the criteria\n",
    "- we can modfiy a list how ever we see fit"
   ]
  },
  {
   "cell_type": "markdown",
   "id": "exposed-steel",
   "metadata": {},
   "source": [
    "- the question of lists is how we want to store it?\n",
    "- do we want to store it as a `stack`, a `queue`, `linked list`, etc\n",
    "- dont use lists for collecting different attributes of individual items"
   ]
  },
  {
   "cell_type": "markdown",
   "id": "modified-distributor",
   "metadata": {},
   "source": [
    "### Sorting Lists"
   ]
  },
  {
   "cell_type": "markdown",
   "id": "recorded-richardson",
   "metadata": {},
   "source": [
    "- if we want to place objects we define ourselves into a list and make those objects sortable, we have to do a bit more work\n",
    "- the special `__it__` method, which stands for __less than__ should be defined on the class to make instance of that class comparable"
   ]
  },
  {
   "cell_type": "code",
   "execution_count": 31,
   "id": "sensitive-heart",
   "metadata": {},
   "outputs": [
    {
     "name": "stdout",
     "output_type": "stream",
     "text": [
      "l\n",
      "[a:4, b:3, c:2, d:1]\n",
      "\n",
      "[d:1, c:2, b:3, a:4]\n"
     ]
    }
   ],
   "source": [
    "from functools import total_ordering\n",
    "\n",
    "@total_ordering\n",
    "class WeirdSortee:\n",
    "    def __init__(self, string, number, sort_num):\n",
    "        self.string = string\n",
    "        self.number = number\n",
    "        self.sort_num = sort_num\n",
    "    \n",
    "    def __lt__(self, object):\n",
    "        if self.sort_num:\n",
    "            return self.number < object.number\n",
    "        return self.string < object.string\n",
    "    \n",
    "    def __repr__(self):\n",
    "        return f\"{self.string}:{self.number}\"\n",
    "    \n",
    "    def __eq__(self, object):\n",
    "        return all((\n",
    "            self.string == object.string,\n",
    "            self.number == object.number,\n",
    "            self.sort_num == object.number\n",
    "        ))\n",
    "        \n",
    "\n",
    "a = WeirdSortee('a', 4, True)\n",
    "b = WeirdSortee('b', 3, True)\n",
    "c = WeirdSortee('c', 2, True)\n",
    "d = WeirdSortee('d', 1, True)\n",
    "\n",
    "l = [a, b, c, d]\n",
    "\n",
    "print(\"l\")\n",
    "print(l)\n",
    "print(\"\")\n",
    "l.sort()\n",
    "print(l)\n"
   ]
  },
  {
   "cell_type": "markdown",
   "id": "daily-clearing",
   "metadata": {},
   "source": [
    "- the sort function we have above can utilize duck-typing and as long as object has a `string`, `number` and `sort_num` attribute, it can sort it\n",
    "- normally we would have to define `__gt__`, `__eq__`, `__ne__` but if we use the `@total_ordering` decorator, we can get them for free as long as we define  `__it__` and `__eq__`"
   ]
  },
  {
   "cell_type": "markdown",
   "id": "downtown-genome",
   "metadata": {},
   "source": [
    "- normally, that above is overkill as we can just use `key` or `lambda`\n",
    "- it is also common to sort a list of tuples by something other than the first item in the list, we can use `itemgetter`"
   ]
  },
  {
   "cell_type": "code",
   "execution_count": 33,
   "id": "motivated-instrumentation",
   "metadata": {},
   "outputs": [
    {
     "data": {
      "text/plain": [
       "[('p', 1), ('y', 2), ('t', 3), ('h', 4), ('o', 5), ('n', 6)]"
      ]
     },
     "execution_count": 33,
     "metadata": {},
     "output_type": "execute_result"
    }
   ],
   "source": [
    "from operator import itemgetter\n",
    "\n",
    "# we could honestly use lambda function for this\n",
    "l = [('h', 4), ('n', 6), ('o', 5), ('p', 1), ('t', 3), ('y', 2)]\n",
    "l.sort(key=itemgetter(1))\n",
    "l"
   ]
  },
  {
   "cell_type": "markdown",
   "id": "suspected-stupid",
   "metadata": {},
   "source": [
    "## Sets"
   ]
  },
  {
   "cell_type": "markdown",
   "id": "sized-chile",
   "metadata": {},
   "source": [
    "- used for ensuring objects are unique\n",
    "- sets can hold any `hashable` object\n",
    "- sets are most useful when two or more of them are used in combination\n",
    "- imagine using something like the `union` method\n",
    "    - returns a new set with all elements that are in either of the two sets (| operator)\n",
    "- there is also the `intersection` method\n",
    "    - returns a new set that contains only those elements that are in both sets (& operator)\n",
    "- there is also the `symmetric_difference` method that tells us what left\n",
    "    - its the set of objects that are in one set or the other, but not both (^ operator)\n",
    "- `union`, `intersection`, and `difference` can take in multiple sets"
   ]
  },
  {
   "cell_type": "markdown",
   "id": "prescription-passion",
   "metadata": {},
   "source": [
    "- there are also methods such as `issubset` and `issuperset` which return a boolean\n",
    "- important to remember that unlike `union` and `intersection`, there is no symmetry\n",
    "    - you cant do `item1.issubset(item2)` and get same results as `item2.issubset(item1)`\n",
    "- `difference` returns all the elements that are in the __calling__ set but not the __passed__ set"
   ]
  },
  {
   "cell_type": "markdown",
   "id": "functioning-treasury",
   "metadata": {},
   "source": [
    "## Extending Built-in Functions"
   ]
  },
  {
   "cell_type": "markdown",
   "id": "loose-probe",
   "metadata": {},
   "source": [
    "- refer to `python data models` to know more\n",
    "- basically, you can use magic or dunder methods to override and extend built-in functions\n",
    "- they usually start with double underscores\n",
    "- to get the dunder methods all you have to do is type `dir(list)`"
   ]
  },
  {
   "cell_type": "code",
   "execution_count": 36,
   "id": "offensive-complexity",
   "metadata": {},
   "outputs": [
    {
     "data": {
      "text/plain": [
       "['__class__',\n",
       " '__delattr__',\n",
       " '__dir__',\n",
       " '__doc__',\n",
       " '__eq__',\n",
       " '__format__',\n",
       " '__ge__',\n",
       " '__getattribute__',\n",
       " '__gt__',\n",
       " '__hash__',\n",
       " '__init__',\n",
       " '__init_subclass__',\n",
       " '__le__',\n",
       " '__lt__',\n",
       " '__ne__',\n",
       " '__new__',\n",
       " '__reduce__',\n",
       " '__reduce_ex__',\n",
       " '__repr__',\n",
       " '__setattr__',\n",
       " '__sizeof__',\n",
       " '__str__',\n",
       " '__subclasshook__']"
      ]
     },
     "execution_count": 36,
     "metadata": {},
     "output_type": "execute_result"
    }
   ],
   "source": [
    "dir(object)"
   ]
  },
  {
   "cell_type": "markdown",
   "id": "gothic-montana",
   "metadata": {},
   "source": [
    "- if we need to somehow change any of the methods on the class, including speical methods, we definitly need to use inhertance\n",
    "- if we used composition, we could write methods that perform the validation or alternations and ask the caller to use those methods\n",
    "- dont try to extend"
   ]
  }
 ],
 "metadata": {
  "kernelspec": {
   "display_name": "Python 3",
   "language": "python",
   "name": "python3"
  },
  "language_info": {
   "codemirror_mode": {
    "name": "ipython",
    "version": 3
   },
   "file_extension": ".py",
   "mimetype": "text/x-python",
   "name": "python",
   "nbconvert_exporter": "python",
   "pygments_lexer": "ipython3",
   "version": "3.9.2"
  }
 },
 "nbformat": 4,
 "nbformat_minor": 5
}
