{
 "cells": [
  {
   "cell_type": "markdown",
   "id": "italian-butler",
   "metadata": {},
   "source": [
    "## Design Patterns in Brief"
   ]
  },
  {
   "cell_type": "markdown",
   "id": "charming-flexibility",
   "metadata": {},
   "source": [
    "- design patterns are an attempt to bring this same formal definition for correctly designed structure to software problems\n",
    "- there are common problems faced by developers, the desing principle then is a suggestion as to the idea solution for that problem, in terms of OOP design"
   ]
  },
  {
   "cell_type": "markdown",
   "id": "constant-thanksgiving",
   "metadata": {},
   "source": [
    "## Iterators"
   ]
  },
  {
   "cell_type": "markdown",
   "id": "inside-appointment",
   "metadata": {},
   "source": [
    "- an iterator is an object with a `next()` method and a `done()` method\n",
    "- `done()` returns True if there there are no items left in the sequence"
   ]
  },
  {
   "cell_type": "markdown",
   "id": "honest-yahoo",
   "metadata": {},
   "source": [
    "- in pyhton, iteration is a special feature, so the method gets a special name `__next__`\n",
    "- this method can be accessed using the `next(iterator)` built-in\n",
    "- rather than a `done` method, python iterator protocol raises `StopIteration` to notify the loop that it has complete \n",
    "- we also have the `foriteminiterator` syntax to actually access items in an iterator instead of messing around with a while loop"
   ]
  },
  {
   "cell_type": "markdown",
   "id": "minus-green",
   "metadata": {},
   "source": [
    "## The Iterator Protocol"
   ]
  },
  {
   "cell_type": "markdown",
   "id": "digital-marshall",
   "metadata": {},
   "source": [
    "- the `iterator` abstract base class, in the `collections.abc` module\n",
    "- any class that provides an `__iter__` method is iterable"
   ]
  },
  {
   "cell_type": "code",
   "execution_count": 2,
   "id": "engaging-thomas",
   "metadata": {},
   "outputs": [
    {
     "name": "stdout",
     "output_type": "stream",
     "text": [
      "The\n",
      "Quck\n",
      "Brown\n",
      "Fox\n",
      "Jumps\n",
      "Over\n",
      "The\n",
      "Lazy\n",
      "Dog\n"
     ]
    }
   ],
   "source": [
    "class CapitalIterable:\n",
    "    def __init__(self, string):\n",
    "        self.string = string\n",
    "        \n",
    "    def __iter__(self):\n",
    "        return CapitalIterator(self.string)\n",
    "    \n",
    "class CapitalIterator:\n",
    "    def __init__(self, string):\n",
    "        self.words = [w.capitalize() for w in string.split()]\n",
    "        self.index = 0\n",
    "        \n",
    "    def __next__(self):\n",
    "        if self.index == len(self.words):\n",
    "            raise StopIteration()\n",
    "            \n",
    "        word = self.words[self.index]\n",
    "        self.index += 1\n",
    "        return word\n",
    "    \n",
    "    def __iter__(self):\n",
    "        return self\n",
    "    \n",
    "iterable = CapitalIterable('the quck brown fox jumps over the lazy dog')\n",
    "iterator = iter(iterable)\n",
    "\n",
    "while True:\n",
    "    try:\n",
    "        print(next(iterator))\n",
    "    except StopIteration:\n",
    "        break"
   ]
  },
  {
   "cell_type": "markdown",
   "id": "split-sound",
   "metadata": {},
   "source": [
    "- the `iterable` is an object with elements that can be looped over\n",
    "- the `iterator` represents a specific location in that iterable\n",
    "- some items have been constructed and some have not\n",
    "- the iterables might be the same but the `iterators` might be at different locations\n",
    "- each time `next()` is called on the iterator, it returns another token from the iterable, in order"
   ]
  },
  {
   "cell_type": "markdown",
   "id": "engaged-kelly",
   "metadata": {},
   "source": [
    "## Comprehensions"
   ]
  },
  {
   "cell_type": "markdown",
   "id": "copyrighted-elephant",
   "metadata": {},
   "source": [
    "- powerful syntaxes that allow us to transform or filter an iterable object in as little as one line of code\n",
    "- the resultant object can be a perfectly normal list, set or dictionary or it can be a generator expression that can be effciently consumed while keeping just one element in memory at a time"
   ]
  },
  {
   "cell_type": "code",
   "execution_count": 6,
   "id": "roman-radiation",
   "metadata": {},
   "outputs": [],
   "source": [
    "# non - comprehensive method\n",
    "input_strings = [\"1\", \"5\", \"28\", \"131\", \"3\"]\n",
    "output_integers = []\n",
    "for num in input_strings:\n",
    "    output_integers.append(int(num))"
   ]
  },
  {
   "cell_type": "code",
   "execution_count": 7,
   "id": "critical-indicator",
   "metadata": {},
   "outputs": [],
   "source": [
    "# using comprehension\n",
    "input_strings = [\"1\", \"5\", \"28\", \"131\", \"3\"]\n",
    "output_integers = [int(num) for num in input_strings]"
   ]
  },
  {
   "cell_type": "markdown",
   "id": "deluxe-ensemble",
   "metadata": {},
   "source": [
    "- list comprehensions are faster than a `for` loop when looping over a large number of itmes"
   ]
  },
  {
   "cell_type": "code",
   "execution_count": 9,
   "id": "ranking-consistency",
   "metadata": {},
   "outputs": [],
   "source": [
    "output_integers = [int(num) for num in input_strings if len(num) < 3]"
   ]
  },
  {
   "cell_type": "markdown",
   "id": "preliminary-activation",
   "metadata": {},
   "source": [
    "## Set and Dictionary COmprehensions"
   ]
  },
  {
   "cell_type": "markdown",
   "id": "african-economics",
   "metadata": {},
   "source": [
    "- one way to create a `set` is to wrap a list comprehension inside of `set()` constructor"
   ]
  },
  {
   "cell_type": "markdown",
   "id": "productive-panama",
   "metadata": {},
   "source": [
    "## Generator Expressions"
   ]
  },
  {
   "cell_type": "markdown",
   "id": "upper-insurance",
   "metadata": {},
   "source": [
    "- sometimes we want to process a new sequence without pulling a new list, set or dictionary into system memory\n",
    "- when processing one item at a time, we only need the current object available in memory at any one moment"
   ]
  },
  {
   "cell_type": "markdown",
   "id": "australian-mainland",
   "metadata": {},
   "source": [
    "- `generator expression` use the same syntax as comprehensions but they dont create a final container object\n",
    "- to create a generator expression, wrap the comprehension in `()` instead of `[]` or `{}`"
   ]
  },
  {
   "cell_type": "code",
   "execution_count": 13,
   "id": "fitting-office",
   "metadata": {},
   "outputs": [],
   "source": [
    "import sys\n",
    "\n",
    "def log_parse():\n",
    "    inname = sys.argv[1]\n",
    "    outname = sys.argv[2]\n",
    "        \n",
    "    with open(inname) as infile:\n",
    "        with open(outname, \"w\") as outfile:\n",
    "            \n",
    "            warnings = (l for l in infile if 'WARNING' in 1)\n",
    "            for l in warnings:\n",
    "                outputfile.write(l)"
   ]
  },
  {
   "cell_type": "markdown",
   "id": "material-lithuania",
   "metadata": {},
   "source": [
    "- generator xpressions are most useful inside function calls\n",
    "- we can call `sum`, `min` or `max` on a generator expression instead of a list, since these functions process one object at a time\n",
    "- try to use generator expressions as much as possible"
   ]
  },
  {
   "cell_type": "markdown",
   "id": "adapted-shark",
   "metadata": {},
   "source": [
    "## Generators"
   ]
  },
  {
   "cell_type": "markdown",
   "id": "sharp-james",
   "metadata": {},
   "source": [
    "- generator comprehensions are a sort of comprehensions too \n",
    "- they compress the more advanced generator syntax into one line"
   ]
  },
  {
   "cell_type": "code",
   "execution_count": null,
   "id": "blond-reynolds",
   "metadata": {},
   "outputs": [],
   "source": [
    "import sys\n",
    "\n",
    "def warnings_filter(insequence):\n",
    "    for l in insequence:\n",
    "        if \"WARNING\" in l:\n",
    "            yield l.replace(\"\\tWARNING\", \"\")\n",
    "\n",
    "\n",
    "inname = sys.argv[0]\n",
    "outname = sys.argv[1]\n",
    "with open(inname) as infile:\n",
    "    with open(outname, \"w\") as outfile:\n",
    "        filter = WarningFilter(infile)\n",
    "        for l in filter:\n",
    "            outfile.write(l)"
   ]
  },
  {
   "cell_type": "markdown",
   "id": "attached-browse",
   "metadata": {},
   "source": [
    "- `yelid` is key to generators\n",
    "- when we see a yeild in a function, it takes that function and wraps it up in an object\n",
    "- think of a yeild statement simmilar to the return statement\n",
    "- it exits the function and returns a line\n",
    "- unlike `return`, when the function is called again via `next()` it will start where it left off -on the line after the yeild statement"
   ]
  },
  {
   "cell_type": "markdown",
   "id": "innovative-swedish",
   "metadata": {},
   "source": [
    "the `yeild` is basically creating an object\n",
    "- the power of `yeild` comes from when you have to make multiple calls to `yeild` in a single function, on each loop, the generator will simply pick up the most recent `yeild` and continue to the next one "
   ]
  },
  {
   "cell_type": "markdown",
   "id": "oriented-kruger",
   "metadata": {},
   "source": [
    "## Yeild items from another Iterable"
   ]
  },
  {
   "cell_type": "markdown",
   "id": "engaging-paragraph",
   "metadata": {},
   "source": [
    "- when ever possible we should operate on iterators as input, the same way function could be regardless of whether the log line came from a file, memory or the web"
   ]
  },
  {
   "cell_type": "markdown",
   "id": "prescribed-freeware",
   "metadata": {},
   "source": [
    "- when the code encounters a directory, it recursively asks `walk()` to generate a list of all the files subordinate to each of its children and then yeilds all the data plus its own filename\n",
    "- in the simple case that it has encountered a normal file, it just yields that name"
   ]
  },
  {
   "cell_type": "code",
   "execution_count": null,
   "id": "growing-newman",
   "metadata": {},
   "outputs": [],
   "source": [
    "class File:\n",
    "    def __init__(self, name):\n",
    "    self.name = name\n",
    "\n",
    "class Folder(File):\n",
    "    def __init__(self, name):\n",
    "    super().__init__(namme)\n",
    "    self.children = []\n",
    "\n",
    "def walk(file):\n",
    "    if isinstance(file, Folder):\n",
    "        yield file.name + \"/\"\n",
    "        for f in file.children:\n",
    "            yield from walk(f)\n",
    "        else:\n",
    "            yield file.name"
   ]
  },
  {
   "cell_type": "markdown",
   "id": "meaningful-liberal",
   "metadata": {},
   "source": [
    "## Coroutines"
   ]
  },
  {
   "cell_type": "markdown",
   "id": "quarterly-wedding",
   "metadata": {},
   "source": [
    "- outside the `asyncio` module, they are not used all that often\n",
    "- used in asynchronous programming or concurent programming\n",
    "- the simple ofbject could be used by a scoring application for a baseball team\n",
    "- seprate tallies could be kept for each team and their score could be incremented by the number of runs accumulated at the end of every half-innings"
   ]
  },
  {
   "cell_type": "markdown",
   "id": "major-statement",
   "metadata": {},
   "source": [
    "- we first construct two `tally` objects one for each team\n",
    "- they look like functions but as with generator objects, the fact that there is a yeild statement inside the function tells python to put a great deal of effort into turning the simple function into an object"
   ]
  },
  {
   "cell_type": "code",
   "execution_count": 23,
   "id": "advisory-tsunami",
   "metadata": {},
   "outputs": [
    {
     "name": "stdout",
     "output_type": "stream",
     "text": [
      "next(white_sox)\n",
      "0\n",
      "\n",
      "next(blue_jays)\n",
      "0\n",
      "\n",
      "white_sox.send(3)\n",
      "3\n",
      "\n",
      "blue_jays.send(2)\n",
      "2\n",
      "\n",
      "white_sox.send(2)\n",
      "5\n",
      "\n",
      "blue_jays.send(4)\n",
      "6\n"
     ]
    }
   ],
   "source": [
    "def tally():\n",
    "    score = 0\n",
    "    while True:\n",
    "        increment = yield score\n",
    "        score += increment\n",
    "        \n",
    "white_sox = tally()\n",
    "blue_jays = tally()\n",
    "\n",
    "print(\"next(white_sox)\")\n",
    "print(next(white_sox))\n",
    "print(\"\")\n",
    "print(\"next(blue_jays)\")\n",
    "print(next(blue_jays))\n",
    "print(\"\")\n",
    "print(\"white_sox.send(3)\")\n",
    "print(white_sox.send(3))\n",
    "print(\"\")\n",
    "print(\"blue_jays.send(2)\")\n",
    "print(blue_jays.send(2))\n",
    "print(\"\")\n",
    "print(\"white_sox.send(2)\")\n",
    "print(white_sox.send(2))\n",
    "print(\"\")\n",
    "print(\"blue_jays.send(4)\")\n",
    "print(blue_jays.send(4))\n"
   ]
  },
  {
   "cell_type": "markdown",
   "id": "legal-heading",
   "metadata": {},
   "source": [
    "- when we call the `next()` on each of the coroutne objects, this does the same things as calling next on any generator, which is to say, it executes each line of code until it encounters a yeild statement\n",
    "- then it returns the value at that point, and then pauses untill the next time  `next()` is called "
   ]
  },
  {
   "cell_type": "markdown",
   "id": "protective-satellite",
   "metadata": {},
   "source": [
    "- this `yeild` function looks like its supposed to return a vlaue and assign it to a variable\n",
    "- that is exactly whats happening\n",
    "- the coroutine is still paused at the `yeild` statement and waiting to be activated again by another call to `next()`\n",
    "- we dont call `next()` we call `send()`\n",
    "- except we dont call `next()`\n",
    "- we call the method `send()`\n",
    "- the method send() does exactly the same thing as next() except that in addition to advancing the generator, the value is what gets assigned to the left side of the `yeild` statement\n"
   ]
  },
  {
   "cell_type": "markdown",
   "id": "strange-likelihood",
   "metadata": {},
   "source": [
    "__High Overview Of Steps__\n",
    "- `yeild` occurs and the generator pauses\n",
    "- `send()` occurs from the outside the function and the generator wakes up\n",
    "- the value sent in is assigned to the left side of the `yeild` statement\n",
    "- the generator continues processing untill it encounters another `yeild` statement"
   ]
  },
  {
   "cell_type": "markdown",
   "id": "located-weekend",
   "metadata": {},
   "source": [
    "- the `yeild` becomes the most recent value of our `send`"
   ]
  },
  {
   "cell_type": "markdown",
   "id": "banner-fence",
   "metadata": {},
   "source": [
    "> A generator only produces values, while a coroutine can also consume them"
   ]
  },
  {
   "cell_type": "markdown",
   "id": "continued-fabric",
   "metadata": {},
   "source": [
    "## Closing Coroutines and throwing exceptions"
   ]
  },
  {
   "cell_type": "markdown",
   "id": "forbidden-porter",
   "metadata": {},
   "source": [
    "- coroutines don't normally follow the iteration mechanism\n",
    "- instead of pulling data through one until an exception is encountered, data is usally pushed into it using a `send`\n",
    "- the entity doing the pushing i s normally the one in charge of telling the corouutine when its finished"
   ]
  },
  {
   "cell_type": "markdown",
   "id": "interested-offense",
   "metadata": {},
   "source": [
    "- it is done using the `close()` method on the coroutine in question\n",
    "- when `close()` is called, it will raise a `GeneratorExit` exception at the point the coroutine was waiting for a value to be sent in\n",
    "- normally you want to wrap your `yeild` statements for `coroutines` in a try/finally block\n",
    "- if we ant to raise an error inside the couroutine, we can use the `throw()` method"
   ]
  },
  {
   "cell_type": "markdown",
   "id": "absent-national",
   "metadata": {},
   "source": [
    "## The relationship between coroutines, generators and fucntions "
   ]
  },
  {
   "cell_type": "markdown",
   "id": "first-monthly",
   "metadata": {},
   "source": [
    "- `coroutines` are considered more general and `generators` are considered more specialized\n",
    "- a `coroutine` is a routine that can have data passed in at one or more points and get it out at one or more points\n",
    "- a `function` is the simplest type of coroutine; while function can have multiple returns, only one is executed\n",
    "- a `generator` is a type of coroutine that can have data passed in one point, but can pass data out at multiple points"
   ]
  },
  {
   "cell_type": "markdown",
   "id": "outside-conjunction",
   "metadata": {},
   "source": [
    "- note with a generator, you cannot pass data out, but with a coroutine, you can use `send` to pass data in"
   ]
  },
  {
   "cell_type": "markdown",
   "id": "historical-jimmy",
   "metadata": {},
   "source": [
    "- functions are callable and return data, with generators, you have to explicity use next and with coroutines you have to use send\n"
   ]
  }
 ],
 "metadata": {
  "kernelspec": {
   "display_name": "Python 3",
   "language": "python",
   "name": "python3"
  },
  "language_info": {
   "codemirror_mode": {
    "name": "ipython",
    "version": 3
   },
   "file_extension": ".py",
   "mimetype": "text/x-python",
   "name": "python",
   "nbconvert_exporter": "python",
   "pygments_lexer": "ipython3",
   "version": "3.9.2"
  }
 },
 "nbformat": 4,
 "nbformat_minor": 5
}
