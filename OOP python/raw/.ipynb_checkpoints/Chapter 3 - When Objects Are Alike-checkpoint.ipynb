{
 "cells": [
  {
   "cell_type": "markdown",
   "id": "solid-municipality",
   "metadata": {},
   "source": [
    "## Basic Inheritance"
   ]
  },
  {
   "cell_type": "markdown",
   "id": "confidential-burton",
   "metadata": {},
   "source": [
    "- all python classes are subclasses of the special built-in class named `object`\n",
    "- `object` provides all of the double underscore methods intended for internal use\n",
    "- a `superclass` or parent class is a class that is being inherited from\n"
   ]
  },
  {
   "cell_type": "markdown",
   "id": "bored-hands",
   "metadata": {},
   "source": [
    "- a `class variable` is part of the class definition and is shared by all instances of this class\n",
    "- this means there is only one of it and we can access it as `self.<variable>`\n",
    "- downside is that if you ever __set__ `self.all_contacts` you will actually be creating a new instance variable associated just with the object"
   ]
  },
  {
   "cell_type": "code",
   "execution_count": 7,
   "id": "provincial-variety",
   "metadata": {},
   "outputs": [
    {
     "name": "stdout",
     "output_type": "stream",
     "text": [
      "Some Body somebody@email.net Sup Piler supplier@example.net\n"
     ]
    }
   ],
   "source": [
    "''' \n",
    "example to show that Supplier (subclass) can do what Contact (superclass) can\n",
    "\n",
    "'''\n",
    "class Contact:\n",
    "    all_contacts = []\n",
    "    \n",
    "    def __init__(self, name, email):\n",
    "        self.name = name\n",
    "        self.email = email\n",
    "        Contact.all_contacts.append(self)\n",
    "        \n",
    "class Supplier(Contact):\n",
    "    \n",
    "    def order(self, order):\n",
    "        print(\n",
    "            \"If this were a real system we would send \"\n",
    "            f\"'{order}' order to '{self.name}'\"\n",
    "        )\n",
    "\n",
    "        \n",
    "c = Contact(\"Some Body\", \"somebody@email.net\")\n",
    "s = Supplier(\"Sup Piler\", \"supplier@example.net\")\n",
    "print(c.name, c.email, s.name, s.email)"
   ]
  },
  {
   "cell_type": "markdown",
   "id": "broadband-strain",
   "metadata": {},
   "source": [
    "## Extending Built-Ins"
   ]
  },
  {
   "cell_type": "code",
   "execution_count": 10,
   "id": "funded-legend",
   "metadata": {},
   "outputs": [
    {
     "data": {
      "text/plain": [
       "['John A', 'John B']"
      ]
     },
     "execution_count": 10,
     "metadata": {},
     "output_type": "execute_result"
    }
   ],
   "source": [
    "class ContactList(list):\n",
    "    def search(self, name):\n",
    "        matching_contacts = []\n",
    "        for contact in self:\n",
    "            if name in contact.name:\n",
    "                matching_contacts.append(contact)\n",
    "        return matching_contacts\n",
    "    \n",
    "class Contact:\n",
    "    all_contacts = ContactList()\n",
    "    \n",
    "    def __init__(self, name, email):\n",
    "        self.name = name\n",
    "        self.email = email\n",
    "        Contact.all_contacts.append(self)\n",
    "        \n",
    "c1 = Contact(\"John A\", \"johna@example.net\")\n",
    "c2 = Contact(\"John B\", \"johnb@example.net\")\n",
    "c3 = Contact(\"Jenna C\", \"johnc@example.net\")\n",
    "\n",
    "[c.name for c in Contact.all_contacts.search('John')]"
   ]
  },
  {
   "cell_type": "markdown",
   "id": "vulnerable-bullet",
   "metadata": {},
   "source": [
    "## Overriding and Super"
   ]
  },
  {
   "cell_type": "markdown",
   "id": "mounted-barbados",
   "metadata": {},
   "source": [
    "- overriding means altering or replacing a method of the superclass with a new method in the subclass"
   ]
  },
  {
   "cell_type": "code",
   "execution_count": 11,
   "id": "compatible-differential",
   "metadata": {},
   "outputs": [],
   "source": [
    "class Friend(Contact):\n",
    "    def __init__(self, name, phone):\n",
    "        self.name = name\n",
    "        self.email = email\n",
    "        self.phone = phone"
   ]
  },
  {
   "cell_type": "markdown",
   "id": "acoustic-evening",
   "metadata": {},
   "source": [
    "- the problem with above is that we are writing name twice and we are forgetting to `all_contacts`\n",
    "- to fix that problem we need the `super` function\n",
    "- `super` call can be made inside any method"
   ]
  },
  {
   "cell_type": "code",
   "execution_count": 14,
   "id": "specialized-cursor",
   "metadata": {},
   "outputs": [],
   "source": [
    "class Friend(Contact):\n",
    "    def __init__(self, name, email, phone):\n",
    "        super().__init__(name, email)\n",
    "        self.phone = phone"
   ]
  },
  {
   "cell_type": "markdown",
   "id": "higher-barbados",
   "metadata": {},
   "source": [
    "## Multiple Inheritance"
   ]
  },
  {
   "cell_type": "markdown",
   "id": "unable-guitar",
   "metadata": {},
   "source": [
    "- if you think you need multiple inhertance you are wrong\n",
    "- the simplest amd most useful form of multiple inheritance is called a `mixin`\n",
    "- a `mixin` is a superclass that is not intended to exist on its own but meant to be inherited by some other class to provide extra functionality\n"
   ]
  },
  {
   "cell_type": "code",
   "execution_count": 16,
   "id": "generous-importance",
   "metadata": {},
   "outputs": [
    {
     "data": {
      "text/plain": [
       "[<__main__.Contact at 0x1bb0861f520>,\n",
       " <__main__.Contact at 0x1bb0861f4c0>,\n",
       " <__main__.Contact at 0x1bb0861f550>,\n",
       " <__main__.EmailableContact at 0x1bb085248b0>]"
      ]
     },
     "execution_count": 16,
     "metadata": {},
     "output_type": "execute_result"
    }
   ],
   "source": [
    "class MailSender:\n",
    "    def send_mail(self, message):\n",
    "        print(\"Sending mail to \" + self.email)\n",
    "        # Add e-mail logic here\n",
    "        \n",
    "class EmailableContact(Contact, MailSender):\n",
    "    pass\n",
    "\n",
    "e = EmailableContact(\"John Smith\", \"jsmith@example.net\")\n",
    "Contact.all_contacts"
   ]
  },
  {
   "cell_type": "code",
   "execution_count": 17,
   "id": "white-center",
   "metadata": {},
   "outputs": [
    {
     "name": "stdout",
     "output_type": "stream",
     "text": [
      "Sending mail to jsmith@example.net\n"
     ]
    }
   ],
   "source": [
    "e.send_mail(\"Hello, test e-email here\")"
   ]
  },
  {
   "cell_type": "markdown",
   "id": "permanent-delta",
   "metadata": {},
   "source": [
    "- we would use a standalone function over a class method because we dont have to duplicate the method for every class\n",
    "- this is perferable over using meultiple inhertance"
   ]
  },
  {
   "cell_type": "markdown",
   "id": "dated-symposium",
   "metadata": {},
   "source": [
    "## The Diamond Problem"
   ]
  },
  {
   "cell_type": "markdown",
   "id": "loved-kidney",
   "metadata": {},
   "source": [
    "- if you inherit from two different classes, the problem is that you have two different parent `__init__` methods, both of which need to be initialized\n",
    "- we could directly call the `__init__` function on each of the superclasses and explicitly pass the `self` arguments"
   ]
  },
  {
   "cell_type": "code",
   "execution_count": 23,
   "id": "later-fabric",
   "metadata": {},
   "outputs": [],
   "source": [
    "class AddressHolder:\n",
    "    def __init__(self, street, city, state, code):\n",
    "        self.street = street\n",
    "        self.city = city\n",
    "        self.state = state\n",
    "        self.code = code\n",
    "\n",
    "\n",
    "class Friend(Contact, AddressHolder):\n",
    "    def __init__(\n",
    "        self, name, email, phone, street, city, state, code):\n",
    "        Contact.__init__(self, name, email)\n",
    "        AddressHolder.__init__(self, street, city, state, code)\n",
    "        self.phone = phone"
   ]
  },
  {
   "cell_type": "markdown",
   "id": "outside-reasoning",
   "metadata": {},
   "source": [
    "- first problem is we could forget to initialize the superclas \n",
    "- a bigger problem might be that superclass is being called multiple times becaouse of the organization of the class hierachy"
   ]
  },
  {
   "cell_type": "markdown",
   "id": "lined-miller",
   "metadata": {},
   "source": [
    "![](images/01.png)"
   ]
  },
  {
   "cell_type": "markdown",
   "id": "addressed-assets",
   "metadata": {},
   "source": [
    "- `Friend` calls `Contact` which calls `Object`\n",
    "- `Friend` calls `AddressHolder` which calls `Object`\n",
    "- Notice how we are calling `Object` twice?\n",
    "- Base class should only be called once"
   ]
  },
  {
   "cell_type": "markdown",
   "id": "breeding-tutorial",
   "metadata": {},
   "source": [
    "## Different Set of Arguments"
   ]
  },
  {
   "cell_type": "markdown",
   "id": "liberal-crest",
   "metadata": {},
   "source": [
    "- we dont use `super()` because we might want to have some paramaters the same and some paramater different\n",
    "- we have no way of doing this\n",
    "- we must aslo ensure that the method freely accepts unexpected arguments and passes them on to its `super` call"
   ]
  },
  {
   "cell_type": "code",
   "execution_count": 25,
   "id": "olympic-slope",
   "metadata": {},
   "outputs": [],
   "source": [
    "class Contract:\n",
    "    all_contacts = []\n",
    "    \n",
    "    def __init__(self, name=\"\", email=\"\", **kwargs):\n",
    "        super().__init__(**kwargs)\n",
    "        self.name = name\n",
    "        self.email = email\n",
    "        self.all_contacts.append(self)\n",
    "\n",
    "class AddressHolder:\n",
    "    def __init__(self, street=\"\", city=\"\", state=\"\", code=\"\", **kwargs):\n",
    "        super().__init__(**kwargs)\n",
    "        self.street = street\n",
    "        self.city = city\n",
    "        self.state = state\n",
    "        self.code = code\n",
    "class Friend(Contact, AddressHolder):\n",
    "    def __init__(self, phone=\"\", **kwargs):\n",
    "        super().__init__(**kkwargs)\n",
    "        self.phone = phone\n"
   ]
  },
  {
   "cell_type": "markdown",
   "id": "daily-sociology",
   "metadata": {},
   "source": [
    "- `**kwargs` basically collects any keyword arguments passed into the method that were not explicitly listed in the parameter list\n",
    "- thse arguments are stored in a dictionary named `kwargs` \n",
    "- when we call a different method (super().__init__) with a `**kwargs` syntax, it unpacks the dictionary and passes the results to the method as normal keyyword arguments"
   ]
  },
  {
   "cell_type": "markdown",
   "id": "utility-momentum",
   "metadata": {},
   "source": [
    "## Polymorphism"
   ]
  },
  {
   "cell_type": "markdown",
   "id": "considerable-depression",
   "metadata": {},
   "source": [
    "- different behaviors happend depending on which subclass is being used, without having to explicitly know what the subclass actually is\n",
    "- basically the child can take the parent method and override it"
   ]
  },
  {
   "cell_type": "code",
   "execution_count": 32,
   "id": "comprehensive-functionality",
   "metadata": {},
   "outputs": [
    {
     "name": "stdout",
     "output_type": "stream",
     "text": [
      "playing myfile.ogg as ogg\n",
      "\n"
     ]
    },
    {
     "ename": "Exception",
     "evalue": "Invalid file format",
     "output_type": "error",
     "traceback": [
      "\u001b[1;31m---------------------------------------------------------------------------\u001b[0m",
      "\u001b[1;31mException\u001b[0m                                 Traceback (most recent call last)",
      "\u001b[1;32m<ipython-input-32-fa4e00d20b68>\u001b[0m in \u001b[0;36m<module>\u001b[1;34m\u001b[0m\n\u001b[0;32m     29\u001b[0m \u001b[0mprint\u001b[0m\u001b[1;33m(\u001b[0m\u001b[1;34m\"\"\u001b[0m\u001b[1;33m)\u001b[0m\u001b[1;33m\u001b[0m\u001b[1;33m\u001b[0m\u001b[0m\n\u001b[0;32m     30\u001b[0m \u001b[1;33m\u001b[0m\u001b[0m\n\u001b[1;32m---> 31\u001b[1;33m \u001b[0mnon_an_mp3\u001b[0m \u001b[1;33m=\u001b[0m \u001b[0mMP3File\u001b[0m\u001b[1;33m(\u001b[0m\u001b[1;34m\"myfile.ogg\"\u001b[0m\u001b[1;33m)\u001b[0m\u001b[1;33m\u001b[0m\u001b[1;33m\u001b[0m\u001b[0m\n\u001b[0m",
      "\u001b[1;32m<ipython-input-32-fa4e00d20b68>\u001b[0m in \u001b[0;36m__init__\u001b[1;34m(self, filename)\u001b[0m\n\u001b[0;32m      2\u001b[0m     \u001b[1;32mdef\u001b[0m \u001b[0m__init__\u001b[0m\u001b[1;33m(\u001b[0m\u001b[0mself\u001b[0m\u001b[1;33m,\u001b[0m \u001b[0mfilename\u001b[0m\u001b[1;33m)\u001b[0m\u001b[1;33m:\u001b[0m\u001b[1;33m\u001b[0m\u001b[1;33m\u001b[0m\u001b[0m\n\u001b[0;32m      3\u001b[0m         \u001b[1;32mif\u001b[0m \u001b[1;32mnot\u001b[0m \u001b[0mfilename\u001b[0m\u001b[1;33m.\u001b[0m\u001b[0mendswith\u001b[0m\u001b[1;33m(\u001b[0m\u001b[0mself\u001b[0m\u001b[1;33m.\u001b[0m\u001b[0mext\u001b[0m\u001b[1;33m)\u001b[0m\u001b[1;33m:\u001b[0m\u001b[1;33m\u001b[0m\u001b[1;33m\u001b[0m\u001b[0m\n\u001b[1;32m----> 4\u001b[1;33m             \u001b[1;32mraise\u001b[0m \u001b[0mException\u001b[0m\u001b[1;33m(\u001b[0m\u001b[1;34m\"Invalid file format\"\u001b[0m\u001b[1;33m)\u001b[0m\u001b[1;33m\u001b[0m\u001b[1;33m\u001b[0m\u001b[0m\n\u001b[0m\u001b[0;32m      5\u001b[0m \u001b[1;33m\u001b[0m\u001b[0m\n\u001b[0;32m      6\u001b[0m         \u001b[0mself\u001b[0m\u001b[1;33m.\u001b[0m\u001b[0mfilename\u001b[0m \u001b[1;33m=\u001b[0m \u001b[0mfilename\u001b[0m\u001b[1;33m\u001b[0m\u001b[1;33m\u001b[0m\u001b[0m\n",
      "\u001b[1;31mException\u001b[0m: Invalid file format"
     ]
    }
   ],
   "source": [
    "class AudioFile:\n",
    "    def __init__(self, filename):\n",
    "        if not filename.endswith(self.ext):\n",
    "            raise Exception(\"Invalid file format\")\n",
    "        \n",
    "        self.filename = filename\n",
    "        \n",
    "class MP3File(AudioFile):\n",
    "    ext = \"mp3\"\n",
    "    \n",
    "    def play(self):\n",
    "        return (\"playing {} as mp3\".format(self.filename))\n",
    "        \n",
    "\n",
    "class WavFile(AudioFile):\n",
    "    ext = \"wav\"\n",
    "    \n",
    "    def play(self):\n",
    "        return (\"playing {} as wav\".format(self.filename))\n",
    "        \n",
    "class OggFile(AudioFile):\n",
    "    ext = \"ogg\"\n",
    "    def play(self):\n",
    "        return (\"playing {} as ogg\".format(self.filename))\n",
    "        \n",
    "        \n",
    "ogg = OggFile(\"myfile.ogg\")\n",
    "print(ogg.play())\n",
    "print(\"\")\n",
    "\n",
    "non_an_mp3 = MP3File(\"myfile.ogg\")"
   ]
  },
  {
   "cell_type": "markdown",
   "id": "documentary-pillow",
   "metadata": {},
   "source": [
    "- polymorphism is one of the most important reasons to use inheritance in many object-oriented contexts\n",
    "- any object that supplies the correct interface can be used interchangeably in python \n",
    "- often when we think we need multiple inhertance, we can just use duck typing\n",
    "- duck typing is useful when dealing with mocks"
   ]
  },
  {
   "cell_type": "markdown",
   "id": "racial-dealer",
   "metadata": {},
   "source": [
    "## Abstract Base Classes"
   ]
  },
  {
   "cell_type": "markdown",
   "id": "potential-accreditation",
   "metadata": {},
   "source": [
    "- Abstract Base Classes define a set of methods and properties that a class must implement in order to be considered a duck-type instance of that class\n",
    "- the class can extend the abstract base class itself in order to be used as an instance of that class, but it must supply all the appropriate methods"
   ]
  },
  {
   "cell_type": "markdown",
   "id": "equal-flesh",
   "metadata": {},
   "source": [
    "## Using an Abstract Base Class"
   ]
  },
  {
   "cell_type": "markdown",
   "id": "rising-activation",
   "metadata": {},
   "source": [
    "- most abstract base classes live in the `collections` module"
   ]
  },
  {
   "cell_type": "code",
   "execution_count": 34,
   "id": "threaded-aerospace",
   "metadata": {},
   "outputs": [
    {
     "data": {
      "text/plain": [
       "frozenset({'__contains__'})"
      ]
     },
     "execution_count": 34,
     "metadata": {},
     "output_type": "execute_result"
    }
   ],
   "source": [
    "from collections.abc import Container\n",
    "Container.__abstractmethods__"
   ]
  },
  {
   "cell_type": "code",
   "execution_count": 38,
   "id": "personalized-castle",
   "metadata": {},
   "outputs": [],
   "source": [
    "class OddContainer:\n",
    "    def __contains__(self, x):\n",
    "        if not isinstance(x, int) or not x % 2:\n",
    "            return False\n",
    "        return True"
   ]
  },
  {
   "cell_type": "code",
   "execution_count": 40,
   "id": "blond-minister",
   "metadata": {},
   "outputs": [
    {
     "name": "stdout",
     "output_type": "stream",
     "text": [
      "isinstance(odd_container, Container)\n",
      "True\n",
      "\n",
      "isinstance(OddContainer, Container)\n",
      "False\n"
     ]
    }
   ],
   "source": [
    "from collections import Container\n",
    "\n",
    "odd_container = OddContainer()\n",
    "print('isinstance(odd_container, Container)')\n",
    "print(isinstance(odd_container, Container))\n",
    "print(\"\")\n",
    "print('isinstance(OddContainer, Container)')\n",
    "print(isinstance(OddContainer, Container))\n",
    "\n"
   ]
  },
  {
   "cell_type": "markdown",
   "id": "prompt-image",
   "metadata": {},
   "source": [
    "- the reson above duck typing is more awsome then classic polymorphism\n",
    "- one thing cool about `Containers` __ABC__ is that any class that implements it gets to use the `in` keyword for free\n",
    "- `in` is just syntax sugar that delegates to the `__contains__` method"
   ]
  },
  {
   "cell_type": "code",
   "execution_count": 44,
   "id": "sacred-jones",
   "metadata": {},
   "outputs": [
    {
     "name": "stdout",
     "output_type": "stream",
     "text": [
      "True\n",
      "False\n",
      "True\n",
      "False\n"
     ]
    }
   ],
   "source": [
    "print(1 in odd_container)\n",
    "print(2 in odd_container)\n",
    "print(3 in odd_container)\n",
    "print(\"a string\" in odd_container)"
   ]
  },
  {
   "cell_type": "markdown",
   "id": "twenty-ladder",
   "metadata": {},
   "source": [
    "## Creating an Abstract Base Class"
   ]
  },
  {
   "cell_type": "markdown",
   "id": "animal-warehouse",
   "metadata": {},
   "source": [
    "- imagine we want to create something with third-party plugins\n",
    "- its advisable to create an abstract base class in case to document what API the third-party plugins should provide\n",
    "- the `abc` module provides the tools you need to do this"
   ]
  },
  {
   "cell_type": "code",
   "execution_count": 45,
   "id": "specific-session",
   "metadata": {},
   "outputs": [],
   "source": [
    "import abc\n",
    "\n",
    "class MediaLoader(metaclass=abc.ABCMeta):\n",
    "    @abc.abstractmethod\n",
    "    def play(self):\n",
    "        pass\n",
    "    \n",
    "    @abc.abstractproperty\n",
    "    def ext(self):\n",
    "        pass\n",
    "    \n",
    "    @classmethod\n",
    "    def __subclasshook__(cls, C):\n",
    "        if cls is MediaLoader:\n",
    "            attrs = set(dir(C))\n",
    "            if set(cls.__abstractmethods__) <= attrs:\n",
    "                return True\n",
    "        \n",
    "        return NotImplemented\n"
   ]
  },
  {
   "cell_type": "markdown",
   "id": "complimentary-helicopter",
   "metadata": {},
   "source": [
    "## Demystifying The Magic"
   ]
  },
  {
   "cell_type": "markdown",
   "id": "prepared-street",
   "metadata": {},
   "source": [
    "- `@classmethod` decorator marks the method as a class method\n",
    "- it essentially says that the method can be called on a class instead of an instantiated object"
   ]
  },
  {
   "cell_type": "markdown",
   "id": "documentary-dispute",
   "metadata": {},
   "source": [
    "- `def __subclasshoot___(cls, C):`\n",
    "- this defines the `__subclasshook__` class method"
   ]
  }
 ],
 "metadata": {
  "kernelspec": {
   "display_name": "Python 3",
   "language": "python",
   "name": "python3"
  },
  "language_info": {
   "codemirror_mode": {
    "name": "ipython",
    "version": 3
   },
   "file_extension": ".py",
   "mimetype": "text/x-python",
   "name": "python",
   "nbconvert_exporter": "python",
   "pygments_lexer": "ipython3",
   "version": "3.9.2"
  }
 },
 "nbformat": 4,
 "nbformat_minor": 5
}
