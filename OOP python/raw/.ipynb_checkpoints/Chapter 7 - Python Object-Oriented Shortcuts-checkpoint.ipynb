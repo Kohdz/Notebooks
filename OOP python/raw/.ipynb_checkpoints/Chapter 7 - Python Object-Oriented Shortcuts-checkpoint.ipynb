{
 "cells": [
  {
   "cell_type": "markdown",
   "id": "occupational-zoning",
   "metadata": {},
   "source": [
    "## Overview "
   ]
  },
  {
   "cell_type": "markdown",
   "id": "amended-snapshot",
   "metadata": {},
   "source": [
    "- there are aspects of python that are more strucutral/functional programming"
   ]
  },
  {
   "cell_type": "markdown",
   "id": "interim-carroll",
   "metadata": {},
   "source": [
    "- __len()__:\n",
    "    - we use `len()` function over `__len___` because the underscore represents that we should not call it directly\n",
    "    - main reason is efficency\n",
    "    - calling `__len__` calls the `__getattribute__` method, etc..\\\n",
    "- __reversed()__:    \n",
    "   - we can customize `__reversed__` if we want some funky behavior\n",
    "- __enumerate()__:\n",
    "    - returns a sequence of tuples\n",
    "- __all/any__:\n",
    "    - accept an iteratable object and return `True` if all or any of the items evaluate to true\n",
    "- __eval/exec/compile__:\n",
    "    - execute string code as code inside the interputer; not safe\n",
    "- __hasattr/getattr/setattr/delattr__:\n",
    "    - allow attributes on an object to be manipulated by their string names\n",
    "- __zip__:\n",
    "    - takes two or more sequences and returns a new sequence of tuple "
   ]
  },
  {
   "cell_type": "markdown",
   "id": "fitting-stations",
   "metadata": {},
   "source": [
    "## File I/O"
   ]
  },
  {
   "cell_type": "markdown",
   "id": "choice-absorption",
   "metadata": {},
   "source": [
    "- the `open()` built-in function is used to open a file and return a file object\n",
    "- with open() you have `.write()` methods\n",
    "- `wb` is for writing bytes to a file and `rb` allows us to read them\n",
    "- once open we can use attributes such as `read`, `readline`, `readlines` methods to get the contents of the file \n",
    "- use a `for` loop for reading because it can read line by line instead of the entire god damn file\n",
    "- finally we need to use the `close` method"
   ]
  },
  {
   "cell_type": "markdown",
   "id": "seeing-sixth",
   "metadata": {},
   "source": [
    "### Placing it in context"
   ]
  },
  {
   "cell_type": "markdown",
   "id": "fancy-denial",
   "metadata": {},
   "source": [
    "- if we use `dir` on file-like objects, we see that they have two methods named `__enter__` and `__exit__`\n",
    "- these methods turnd the file object into what is known as a `context manager`\n",
    "- basically, if we use a special syntax called the `with` statement, these methods will be called before and after nested code is executed"
   ]
  },
  {
   "cell_type": "markdown",
   "id": "specified-paper",
   "metadata": {},
   "source": [
    "    with open('filename') as file:\n",
    "        for line in file:\n",
    "            print(line, end='')"
   ]
  },
  {
   "cell_type": "markdown",
   "id": "vanilla-delivery",
   "metadata": {},
   "source": [
    "- `with` statement is used in many placed where start-up or clean-up code needs to be executed\n",
    "- with statement can apply to anything that has `__enter__` or `-__exit__`"
   ]
  },
  {
   "cell_type": "code",
   "execution_count": 3,
   "id": "going-struggle",
   "metadata": {},
   "outputs": [
    {
     "name": "stdout",
     "output_type": "stream",
     "text": [
      "DebMJTXCDMXHtCG\n"
     ]
    }
   ],
   "source": [
    "import random, string\n",
    "\n",
    "class StringJoiner(list):\n",
    "    def __enter__(self):\n",
    "        return self\n",
    "    \n",
    "    def __exit__(self, type, value, tb):\n",
    "        self.result = \"\".join(self)\n",
    "        \n",
    "\n",
    "with StringJoiner() as joiner:\n",
    "    for i in range(15):\n",
    "        joiner.append(random.choice(string.ascii_letters))\n",
    "        \n",
    "print(joiner.result)"
   ]
  },
  {
   "cell_type": "markdown",
   "id": "considered-leonard",
   "metadata": {},
   "source": [
    "## An alternative to method overloading"
   ]
  },
  {
   "cell_type": "markdown",
   "id": "chubby-attachment",
   "metadata": {},
   "source": [
    "- python id duck typed and we only need one method that accepts any type of object\n",
    "- in c++ maybe you need different objects because they have different paramaters\n",
    "- `method overloading` is useful when we want a method with the same name to accept different numbers or sets of arguments"
   ]
  },
  {
   "cell_type": "markdown",
   "id": "historic-rebate",
   "metadata": {},
   "source": [
    "### Defualt Arguments"
   ]
  },
  {
   "cell_type": "markdown",
   "id": "miniature-position",
   "metadata": {},
   "source": [
    "- we can just do `default_args(x, y, z=None, a=False)`\n",
    "- in the function, we could skip having to provide default value for `z` if we just initalize `a=True` in the function call\n",
    "- you can place a `*` before the keyword-only arguments\n",
    "- "
   ]
  },
  {
   "cell_type": "code",
   "execution_count": 4,
   "id": "choice-knife",
   "metadata": {},
   "outputs": [
    {
     "name": "stdout",
     "output_type": "stream",
     "text": [
      "8\n",
      "5\n",
      "6\n"
     ]
    }
   ],
   "source": [
    "number = 5\n",
    "def funky_function(number=number):\n",
    "    print(number)\n",
    "    \n",
    "number = 6\n",
    "funky_function(8)\n",
    "funky_function()\n",
    "print(number)"
   ]
  },
  {
   "cell_type": "code",
   "execution_count": 8,
   "id": "superb-germany",
   "metadata": {},
   "outputs": [
    {
     "name": "stdout",
     "output_type": "stream",
     "text": [
      "['a']\n",
      "['a', 'a']\n"
     ]
    }
   ],
   "source": [
    "# Dont do this with lists, sets, dicts\n",
    "# just make the defualt value none\n",
    "def hello(b=[]):\n",
    "    b.append('a')\n",
    "    print(b)\n",
    "    \n",
    "hello()\n",
    "hello()"
   ]
  },
  {
   "cell_type": "markdown",
   "id": "ancient-designation",
   "metadata": {},
   "source": [
    "### Variable argument lists"
   ]
  },
  {
   "cell_type": "markdown",
   "id": "polish-anxiety",
   "metadata": {},
   "source": [
    "- in python we can write methods that accept an arbitrary number of positional or keyword arguments without explicitly naming them\n",
    "- we can also pass lists/dictionaries in some functions"
   ]
  },
  {
   "cell_type": "code",
   "execution_count": 9,
   "id": "unavailable-tobago",
   "metadata": {},
   "outputs": [],
   "source": [
    "def get_paged(*links):\n",
    "    for link in links:\n",
    "        print(link)"
   ]
  },
  {
   "cell_type": "markdown",
   "id": "unexpected-professional",
   "metadata": {},
   "source": [
    "- we can also accept arbitrary keyword arguments\n",
    "- these arrive in the function as a dictionary\n",
    "- they are specified with two asterisks `**` for example `**kwargs`\n",
    "- dictionary is basically a json and we accept json like `**kwargs`"
   ]
  },
  {
   "cell_type": "code",
   "execution_count": 13,
   "id": "streaming-quilt",
   "metadata": {},
   "outputs": [
    {
     "data": {
      "text/plain": [
       "'dusty'"
      ]
     },
     "execution_count": 13,
     "metadata": {},
     "output_type": "execute_result"
    }
   ],
   "source": [
    "class Options:\n",
    "    default_options = {\n",
    "        'port': 21,\n",
    "        'host': 'localhost',\n",
    "        'username': None,\n",
    "        'password': None,\n",
    "        'debug': False\n",
    "    }\n",
    "    \n",
    "    # we are making a copy of the dictionary\n",
    "    # then we try to update it using supplied values\n",
    "    def __init__(self, **kwargs):\n",
    "        self.options = dict(Options.default_options)\n",
    "        self.options.update(kwargs)\n",
    "        \n",
    "    def __getitem__(self, key):\n",
    "        return self.options[key]\n",
    "    \n",
    "options = Options(username='dusty', password='drowssap', debug=True)\n",
    "options['debug']\n",
    "options['port']\n",
    "options['username']"
   ]
  },
  {
   "cell_type": "markdown",
   "id": "foster-component",
   "metadata": {},
   "source": [
    "- `**kwargs` is dangerous when because someone can pass wrong stuff into it but useful when you dont really know what being passed in"
   ]
  },
  {
   "cell_type": "markdown",
   "id": "miniature-plant",
   "metadata": {},
   "source": [
    "### Unpacking Arguments"
   ]
  },
  {
   "cell_type": "markdown",
   "id": "built-greek",
   "metadata": {},
   "source": [
    "- given a list or dictionary of values, we can pass those values into a function as if they were normal positional or keyword arguments"
   ]
  },
  {
   "cell_type": "code",
   "execution_count": 15,
   "id": "dynamic-shade",
   "metadata": {},
   "outputs": [
    {
     "name": "stdout",
     "output_type": "stream",
     "text": [
      "Unpacking a sequence: 0 1 2\n",
      "Unpacking a dict: ONE TWO Three\n"
     ]
    }
   ],
   "source": [
    "def show_args(args1, args2, args3=\"Three\"):\n",
    "    print(args1, args2, args3)\n",
    "    \n",
    "some_args = range(3)\n",
    "more_args = {\n",
    "    \"args1\": \"ONE\",\n",
    "    \"args2\": \"TWO\"\n",
    "}\n",
    "\n",
    "print(\"Unpacking a sequence:\", end=\" \")\n",
    "\n",
    "show_args(*some_args)\n",
    "print(\"Unpacking a dict:\",  end=\" \")\n",
    "show_args(**more_args)"
   ]
  },
  {
   "cell_type": "markdown",
   "id": "streaming-destruction",
   "metadata": {},
   "source": [
    "    def __init__(self, **kwargs):\n",
    "        self.options = {**Options.default_options, **kwargs}"
   ]
  },
  {
   "cell_type": "markdown",
   "id": "handmade-direction",
   "metadata": {},
   "source": [
    "## Functions are Objects too"
   ]
  },
  {
   "cell_type": "markdown",
   "id": "assigned-currency",
   "metadata": {},
   "source": [
    "- in OOP languages, you're expected to create an object to sort of wrap the single method invloved\n",
    "- there are times where we would like to pass around a small object that is simply called to perform an action\n",
    "- in python, we don't need to wrap such methods in an object because funtions already are objects\n",
    "- we can set attributes on function and we can pass them around to be called at a later time"
   ]
  },
  {
   "cell_type": "code",
   "execution_count": 18,
   "id": "international-electronics",
   "metadata": {},
   "outputs": [
    {
     "name": "stdout",
     "output_type": "stream",
     "text": [
      "the description: A silly function\n",
      "The name: my_function\n",
      "The class: <class 'function'>\n",
      "Now I'll call the function passed in\n",
      "The Function was Called\n",
      "\n",
      "the description: A sillier function.\n",
      "The name: second_function\n",
      "The class: <class 'function'>\n",
      "Now I'll call the function passed in\n",
      "The second was called\n"
     ]
    }
   ],
   "source": [
    "def my_function():\n",
    "    print(\"The Function was Called\")\n",
    "    \n",
    "my_function.description = \"A silly function\"\n",
    "\n",
    "def second_function():\n",
    "    print(\"The second was called\")\n",
    "    \n",
    "second_function.description = \"A sillier function.\"\n",
    "    \n",
    "\n",
    "def another_function(function):\n",
    "    print(\"the description:\", end=\" \")\n",
    "    print(function.description)\n",
    "    print(\"The name:\", end=\" \")\n",
    "    print(function.__name__)\n",
    "    print(\"The class:\", end=\" \")\n",
    "    print(function.__class__)\n",
    "    print(\"Now I'll call the function passed in\")\n",
    "    function()\n",
    "\n",
    "another_function(my_function)\n",
    "print(\"\")\n",
    "another_function(second_function)"
   ]
  },
  {
   "cell_type": "markdown",
   "id": "changing-stress",
   "metadata": {},
   "source": [
    "- the code shows above the function really is an object because we were able to assing `.description` attribute to it and called it successfully"
   ]
  },
  {
   "cell_type": "markdown",
   "id": "incorrect-origin",
   "metadata": {},
   "source": [
    "- the fact that functions are top-level object is most often used to pass them around to be executed a later date\n",
    "- if we have a callback function, the function is passed around like any other object and the timer never knows or cares what the orginal name of the function is or where it was defined\n",
    "- when you call the `callback` function with the paramater, it is called"
   ]
  },
  {
   "cell_type": "markdown",
   "id": "square-sheriff",
   "metadata": {},
   "source": [
    "- methods are functions bound to an object"
   ]
  },
  {
   "cell_type": "markdown",
   "id": "cooperative-ceiling",
   "metadata": {},
   "source": [
    "### Using Functions as Attributes"
   ]
  },
  {
   "cell_type": "markdown",
   "id": "lasting-technician",
   "metadata": {},
   "source": [
    "- since functions are objects, they can be set as callback attributes on other objects\n",
    "- it is possible to add or change function to an instantiated object"
   ]
  },
  {
   "cell_type": "code",
   "execution_count": 19,
   "id": "combined-access",
   "metadata": {},
   "outputs": [
    {
     "name": "stdout",
     "output_type": "stream",
     "text": [
      "my class is A\n",
      "my class is not A\n"
     ]
    }
   ],
   "source": [
    "class A:\n",
    "    def print(self):\n",
    "        print(\"my class is A\")\n",
    "    \n",
    "def fake_print():\n",
    "    print(\"my class is not A\")\n",
    "    \n",
    "a = A()\n",
    "a.print()\n",
    "a.print = fake_print\n",
    "a.print()"
   ]
  },
  {
   "cell_type": "markdown",
   "id": "continental-greene",
   "metadata": {},
   "source": [
    "- replacing a method like that is bad but it has its use in `monkey patching` in an automated test\n",
    "- Monkey-patching can also be used to fix bugs or add features in third-party code"
   ]
  },
  {
   "cell_type": "markdown",
   "id": "reported-jerusalem",
   "metadata": {},
   "source": [
    "## Callable Objects"
   ]
  },
  {
   "cell_type": "markdown",
   "id": "criminal-massage",
   "metadata": {},
   "source": [
    "- we can create object that can be called as if they were functions\n",
    "- any object can be made callable by simply giving it a `__call__` method that accepts the required argument\n"
   ]
  }
 ],
 "metadata": {
  "kernelspec": {
   "display_name": "Python 3",
   "language": "python",
   "name": "python3"
  },
  "language_info": {
   "codemirror_mode": {
    "name": "ipython",
    "version": 3
   },
   "file_extension": ".py",
   "mimetype": "text/x-python",
   "name": "python",
   "nbconvert_exporter": "python",
   "pygments_lexer": "ipython3",
   "version": "3.9.2"
  }
 },
 "nbformat": 4,
 "nbformat_minor": 5
}
