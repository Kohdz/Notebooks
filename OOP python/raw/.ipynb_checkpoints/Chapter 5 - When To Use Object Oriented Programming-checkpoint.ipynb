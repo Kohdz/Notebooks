{
 "cells": [
  {
   "cell_type": "markdown",
   "id": "pacific-alias",
   "metadata": {},
   "source": [
    "## Treating Objects as Objects"
   ]
  },
  {
   "cell_type": "markdown",
   "id": "fabulous-moore",
   "metadata": {},
   "source": [
    "- give separate objects in your domain a special class in your code\n",
    "- first identify objects in the problem and then model the data and behavior\n",
    "- objects have both `data` and `behavior`\n",
    "- if we are working with just data, we are better just storing it as a list, set, dictionary or other Python data structure\n",
    "- if we are working with just behavior, we can just use a function "
   ]
  },
  {
   "cell_type": "markdown",
   "id": "essential-trail",
   "metadata": {},
   "source": [
    "- generally, unless there is a reason too, avoid using a class\n",
    "- if we are passing the same set of related variables to a set of functions, we might want to think about grouping the variables and functions into a class "
   ]
  },
  {
   "cell_type": "markdown",
   "id": "competitive-christopher",
   "metadata": {},
   "source": [
    "- one of the benefits of object oriented code is that it is relatively self-documenting\n",
    "- key point is still if you have multiple functions that take the same variables, then a `class` is apporpiate"
   ]
  },
  {
   "cell_type": "code",
   "execution_count": 5,
   "id": "scenic-dating",
   "metadata": {},
   "outputs": [
    {
     "data": {
      "text/plain": [
       "2.0"
      ]
     },
     "execution_count": 5,
     "metadata": {},
     "output_type": "execute_result"
    }
   ],
   "source": [
    "import math\n",
    "\n",
    "class Point:\n",
    "    def __init__(self, x, y):\n",
    "        self.x = x\n",
    "        self.y = y\n",
    "        \n",
    "    def distance(self, p2):\n",
    "        return math.sqrt((self.x - p2.x)**2 + (self.y - p2.y)**2)\n",
    "\n",
    "class Polygon:\n",
    "    def __init__(self):\n",
    "        self.vertices = []\n",
    "        \n",
    "    def add_point(self, point):\n",
    "        self.vertices.append((point))\n",
    "        \n",
    "    def perimeter(self):\n",
    "        perimeter = 0\n",
    "        points = self.vertices + [self.vertices[0]]\n",
    "        for i in range(len(self.vertices)):\n",
    "            perimeter += points[i].distance(points[i+1])\n",
    "        return perimeter\n",
    "    \n",
    "square = Polygon()\n",
    "square.add_point(Point(1, 1))\n",
    "square.add_point(Point(1, 2))\n",
    "square.perimeter()"
   ]
  },
  {
   "cell_type": "markdown",
   "id": "logical-thirty",
   "metadata": {},
   "source": [
    "- notice in the class above, we could just have `distance` and `perimeter` as seprate functions\n",
    "- but if there was another function, then the class definition becomes more apeasing"
   ]
  },
  {
   "cell_type": "markdown",
   "id": "celtic-atlas",
   "metadata": {},
   "source": [
    "- also look for interaction between objects\n",
    "- look for inheritance relationships\n",
    "- inheritance is hard to model elegantly without classes"
   ]
  },
  {
   "cell_type": "markdown",
   "id": "virtual-compatibility",
   "metadata": {},
   "source": [
    "## Adding Behaviors to Class Data With Properties"
   ]
  },
  {
   "cell_type": "markdown",
   "id": "collected-columbus",
   "metadata": {},
   "source": [
    "- in python, the distinction between behavior and data is blurry\n",
    "- some languages like java want you to `set` and then `get` variables, instead of just having accessable variables"
   ]
  },
  {
   "cell_type": "markdown",
   "id": "negative-parcel",
   "metadata": {},
   "source": [
    "#### Java Version"
   ]
  },
  {
   "cell_type": "code",
   "execution_count": 9,
   "id": "loose-objective",
   "metadata": {},
   "outputs": [
    {
     "name": "stdout",
     "output_type": "stream",
     "text": [
      "bright red\n"
     ]
    },
    {
     "data": {
      "text/plain": [
       "'red'"
      ]
     },
     "execution_count": 9,
     "metadata": {},
     "output_type": "execute_result"
    }
   ],
   "source": [
    "class Color:\n",
    "    def __init__(self, rgb_value, name):\n",
    "        self._rgb_value = rgb_value\n",
    "        self._name = name\n",
    "        \n",
    "    def set_name(self, name):\n",
    "        self._name = name\n",
    "    def get_name(self):\n",
    "        return self._name\n",
    "\n",
    "c = Color(\"#ff0000\", \"bright red\")\n",
    "print(c.get_name())\n",
    "c.set_name(\"red\")\n",
    "c.get_name()"
   ]
  },
  {
   "cell_type": "markdown",
   "id": "hired-watson",
   "metadata": {},
   "source": [
    "#### Python Version"
   ]
  },
  {
   "cell_type": "code",
   "execution_count": 10,
   "id": "difficult-honey",
   "metadata": {},
   "outputs": [
    {
     "name": "stdout",
     "output_type": "stream",
     "text": [
      "bright red\n",
      "red\n"
     ]
    }
   ],
   "source": [
    "class Color:\n",
    "    def __init__(self, rgb_value, name):\n",
    "        self.rgb_value = rgb_value\n",
    "        self.name = name\n",
    "        \n",
    "c = Color(\"#ff000\", \"bright red\")\n",
    "print(c.name)\n",
    "c.name = \"red\"\n",
    "print(c.name)"
   ]
  },
  {
   "cell_type": "markdown",
   "id": "theoretical-melissa",
   "metadata": {},
   "source": [
    "- the python `property` keyword can make methods that `look` like attributes\n",
    "- thus we can write our code to use direct memeber access"
   ]
  },
  {
   "cell_type": "code",
   "execution_count": 19,
   "id": "wireless-empty",
   "metadata": {},
   "outputs": [],
   "source": [
    "class Color:\n",
    "    def __init__(self, rgb_value, name):\n",
    "        self.rgb_value = rgb_value\n",
    "        self._name = name\n",
    "        \n",
    "    def _set_name(self, name):\n",
    "        if not name:\n",
    "            raise Exception(\"Invalid Name\")\n",
    "        self._name = name\n",
    "        \n",
    "    def _get_name(self):\n",
    "        return self._name\n",
    "    \n",
    "    name = property(_get_name, _set_name)"
   ]
  },
  {
   "cell_type": "markdown",
   "id": "stunning-retirement",
   "metadata": {},
   "source": [
    "- in the code above, we first changed the name attribute into a semi-private `_name` attribute\n",
    "- then we add two more semi-private methods to get and set that variable\n",
    "- the `property` declaration create a new attribute on `Color` class called name to replace the direct name attribute\n",
    "- it sets the attribute to be a __proprty__\n",
    "- under the hood, `property` calls the two methods we just created whenever the value is accessed or changes\n",
    "- this new version of the `Color` class can be used exactly the same way as the earlier version, yet it now performs validation when we set the `name` attribute"
   ]
  },
  {
   "cell_type": "code",
   "execution_count": 20,
   "id": "coupled-anatomy",
   "metadata": {},
   "outputs": [
    {
     "name": "stdout",
     "output_type": "stream",
     "text": [
      "bright red\n"
     ]
    }
   ],
   "source": [
    "c = Color(\"#000fff\", 'bright red')\n",
    "print(c.name)"
   ]
  },
  {
   "cell_type": "code",
   "execution_count": 21,
   "id": "legal-account",
   "metadata": {},
   "outputs": [
    {
     "name": "stdout",
     "output_type": "stream",
     "text": [
      "red\n"
     ]
    }
   ],
   "source": [
    "c.name = \"red\"\n",
    "print(c.name)"
   ]
  },
  {
   "cell_type": "code",
   "execution_count": 22,
   "id": "integral-machinery",
   "metadata": {},
   "outputs": [
    {
     "ename": "Exception",
     "evalue": "Invalid Name",
     "output_type": "error",
     "traceback": [
      "\u001b[1;31m---------------------------------------------------------------------------\u001b[0m",
      "\u001b[1;31mException\u001b[0m                                 Traceback (most recent call last)",
      "\u001b[1;32m<ipython-input-22-d163a332e13e>\u001b[0m in \u001b[0;36m<module>\u001b[1;34m\u001b[0m\n\u001b[1;32m----> 1\u001b[1;33m \u001b[0mc\u001b[0m\u001b[1;33m.\u001b[0m\u001b[0mname\u001b[0m \u001b[1;33m=\u001b[0m \u001b[1;34m\"\"\u001b[0m\u001b[1;33m\u001b[0m\u001b[1;33m\u001b[0m\u001b[0m\n\u001b[0m",
      "\u001b[1;32m<ipython-input-19-2cafe111ebdb>\u001b[0m in \u001b[0;36m_set_name\u001b[1;34m(self, name)\u001b[0m\n\u001b[0;32m      6\u001b[0m     \u001b[1;32mdef\u001b[0m \u001b[0m_set_name\u001b[0m\u001b[1;33m(\u001b[0m\u001b[0mself\u001b[0m\u001b[1;33m,\u001b[0m \u001b[0mname\u001b[0m\u001b[1;33m)\u001b[0m\u001b[1;33m:\u001b[0m\u001b[1;33m\u001b[0m\u001b[1;33m\u001b[0m\u001b[0m\n\u001b[0;32m      7\u001b[0m         \u001b[1;32mif\u001b[0m \u001b[1;32mnot\u001b[0m \u001b[0mname\u001b[0m\u001b[1;33m:\u001b[0m\u001b[1;33m\u001b[0m\u001b[1;33m\u001b[0m\u001b[0m\n\u001b[1;32m----> 8\u001b[1;33m             \u001b[1;32mraise\u001b[0m \u001b[0mException\u001b[0m\u001b[1;33m(\u001b[0m\u001b[1;34m\"Invalid Name\"\u001b[0m\u001b[1;33m)\u001b[0m\u001b[1;33m\u001b[0m\u001b[1;33m\u001b[0m\u001b[0m\n\u001b[0m\u001b[0;32m      9\u001b[0m         \u001b[0mself\u001b[0m\u001b[1;33m.\u001b[0m\u001b[0m_name\u001b[0m \u001b[1;33m=\u001b[0m \u001b[0mname\u001b[0m\u001b[1;33m\u001b[0m\u001b[1;33m\u001b[0m\u001b[0m\n\u001b[0;32m     10\u001b[0m \u001b[1;33m\u001b[0m\u001b[0m\n",
      "\u001b[1;31mException\u001b[0m: Invalid Name"
     ]
    }
   ],
   "source": [
    "c.name = \"\""
   ]
  },
  {
   "cell_type": "markdown",
   "id": "current-proceeding",
   "metadata": {},
   "source": [
    "- the whole purposse of the `property` is to keep accessing the variables safe"
   ]
  },
  {
   "cell_type": "markdown",
   "id": "graduate-shoot",
   "metadata": {},
   "source": [
    "## Properties In Detail"
   ]
  },
  {
   "cell_type": "markdown",
   "id": "exciting-engagement",
   "metadata": {},
   "source": [
    "- think of the property function as returning an object that proxies any request to set or access the attribute value through the methods we have specified\n",
    "- the property built-in is like a constructor for such an object and that object is set as the public-facing memeber for the given attribute\n",
    "- `property` constructor can also detect two additional arguments, a `delete` function and a docstring for the property\n",
    "- the `delete` function is rarely used but can keep track of if a value has been deleted or not"
   ]
  },
  {
   "cell_type": "code",
   "execution_count": 29,
   "id": "concrete-construction",
   "metadata": {},
   "outputs": [
    {
     "name": "stdout",
     "output_type": "stream",
     "text": [
      "You are making bacteria Alpha\n",
      "You are getting silly\n",
      "Alpha\n",
      "Woah, you killed bacteria\n"
     ]
    }
   ],
   "source": [
    "class Bacteria:\n",
    "    \n",
    "    def _get_bacteria(self):\n",
    "        print(\"You are getting silly\")\n",
    "        return self._bacteria\n",
    "    \n",
    "    def _set_bacteria(self, value):\n",
    "        print(f\"You are making bacteria {value}\")\n",
    "        self._bacteria = value\n",
    "        \n",
    "    def _del_bacteria(self):\n",
    "        print(\"Woah, you killed bacteria\")\n",
    "        \n",
    "    bacteria = property(_get_bacteria, _set_bacteria, _del_bacteria, \"This is bacteria property\")\n",
    "    \n",
    "b = Bacteria()\n",
    "b.bacteria = \"Alpha\"\n",
    "print(b.bacteria)\n",
    "del b.bacteria"
   ]
  },
  {
   "cell_type": "markdown",
   "id": "active-prime",
   "metadata": {},
   "source": [
    "## Decorators  - another way to create properties"
   ]
  },
  {
   "cell_type": "markdown",
   "id": "explicit-generic",
   "metadata": {},
   "source": [
    "- the `property` function can be used with the decorator syntax to turn a `get` function into a property function\n",
    "- code below is the equilivant to `foo = property(foo)`"
   ]
  },
  {
   "cell_type": "code",
   "execution_count": 34,
   "id": "accessible-jesus",
   "metadata": {},
   "outputs": [],
   "source": [
    "class Bacteria:\n",
    "    @property\n",
    "    def Bacteria(self):\n",
    "        return \"bar\"\n",
    "    \n",
    "    @Bacteria.setter\n",
    "    def Bacteria(self, value):\n",
    "        self._Bacteria = value\n",
    "        \n",
    "    @Bacteria.deleter\n",
    "    def Bacteria(self):\n",
    "        print(\"Woah, you deleted foo\")\n",
    "        del self._Bacteria"
   ]
  },
  {
   "cell_type": "markdown",
   "id": "statistical-corrections",
   "metadata": {},
   "source": [
    "- first we decorate the `foo` method as a getter\n",
    "- then we decorate a second method with exactly the same name by applying the `setter` attribute of the orginally decorated `foo` method\n",
    "- the `property` function returns an object; this object always comes with its own `setter` attribute, which can then be applied as a decorator to other functions\n",
    "- usingg the same name for the get and set method is not required, but it does help to group the multiple methods that access one property"
   ]
  },
  {
   "cell_type": "markdown",
   "id": "angry-franklin",
   "metadata": {},
   "source": [
    "## Deciding When To Use Properties"
   ]
  },
  {
   "cell_type": "markdown",
   "id": "nuclear-grounds",
   "metadata": {},
   "source": [
    "- when do you choose an attribute, a method or a property"
   ]
  },
  {
   "cell_type": "markdown",
   "id": "extreme-chamber",
   "metadata": {},
   "source": [
    "- for property, there is a pretty common use case\n",
    "- we have some data on a class that we later want to add behavior to\n",
    "- functions and methods themselves are normal objects\n",
    "- `methods` are just callable attributes and properties are just `customizable` attributes\n",
    "- `methods` should represet action; things that can be done to or performed by the object\n",
    "- if the attribute is not an action, we need to decide between data attributes and properties\n",
    "- always use standard attribute untill you need to control access to that property in some way"
   ]
  },
  {
   "cell_type": "markdown",
   "id": "italic-storage",
   "metadata": {},
   "source": [
    "- __the only difference between an attribute and a property is that we can invoke custom actions automatically when a property is retrieved, set, or deleted__"
   ]
  },
  {
   "cell_type": "markdown",
   "id": "psychological-cambridge",
   "metadata": {},
   "source": [
    "- an example is when you are caching\n",
    "- the first time the value is retrieved, we perform the lookup calculation\n",
    "- then we can locally cache the value as a private attribute on our object\n",
    "- the next time the value is requested, we return the stored data"
   ]
  },
  {
   "cell_type": "code",
   "execution_count": 43,
   "id": "tracked-andorra",
   "metadata": {},
   "outputs": [
    {
     "name": "stdout",
     "output_type": "stream",
     "text": [
      "Retriveing New Page...\n",
      "\n",
      "first time accesing url\n",
      "0.1132657527923584\n",
      "\n",
      "second time accessing url\n",
      "0.11429214477539062\n",
      "\n",
      "content1 == content2\n",
      "False\n"
     ]
    }
   ],
   "source": [
    "import time\n",
    "from urllib.request import urlopen\n",
    "\n",
    "class WebPage:\n",
    "    def __init__(self, url):\n",
    "        self.url = url\n",
    "        self._content = None\n",
    "        \n",
    "    @property\n",
    "    def content(self):\n",
    "        if not self._content:\n",
    "            print(\"Retriveing New Page...\")\n",
    "            print(\"\")\n",
    "        self._content = urlopen(self.url).read()\n",
    "        return self._content\n",
    "    \n",
    "webpage = WebPage('https://www.google.com/')\n",
    "now = time.time()\n",
    "content1 = webpage.content\n",
    "\n",
    "print('first time accesing url')\n",
    "print(time.time() - now)\n",
    "print(\"\")\n",
    "now = time.time()\n",
    "content2 = webpage.content\n",
    "\n",
    "print('second time accessing url')\n",
    "print(time.time() - now)\n",
    "print(\"\")\n",
    "print('content1 == content2')\n",
    "print(content1 == content2)"
   ]
  },
  {
   "cell_type": "markdown",
   "id": "peaceful-animal",
   "metadata": {},
   "source": [
    "## Manager Objects"
   ]
  },
  {
   "cell_type": "markdown",
   "id": "progressive-train",
   "metadata": {},
   "source": [
    "- the attributes on a management class tend to refer to other objects that do the _visible_ work\n",
    "- the behavior on such a class delegate to those other classes at the right time and pass messages between them"
   ]
  },
  {
   "cell_type": "markdown",
   "id": "proper-liabilities",
   "metadata": {},
   "source": [
    "- as an example we will write a program that find text, replaces it and then stores the file in a compressed zip file"
   ]
  },
  {
   "cell_type": "markdown",
   "id": "labeled-medium",
   "metadata": {},
   "source": [
    "- the manager object will just orchestrates the events\n",
    "- for us, the manager will be responsible for the following\n",
    "    - unzipping the compressed file\n",
    "    - performing the find-and-replace action\n",
    "    - zipping up the new files"
   ]
  },
  {
   "cell_type": "code",
   "execution_count": 45,
   "id": "saving-funeral",
   "metadata": {},
   "outputs": [],
   "source": [
    "import sys\n",
    "import shutil\n",
    "import zipfile\n",
    "from pathlib import Path\n",
    "\n",
    "class ZipReplace:\n",
    "    def __init__(self, filename, search_string, replace_string):\n",
    "        self.filename = filename\n",
    "        self.search_string = search_string\n",
    "        self.replace_string = replace_string\n",
    "        self.temp_directory = Path(f\"unzipped-{filename}\")\n",
    "        \n",
    "    def zip_find_replace(self):\n",
    "        self.unzip_files()\n",
    "        self.find_replace()\n",
    "        self.zip_files()"
   ]
  },
  {
   "cell_type": "markdown",
   "id": "practical-package",
   "metadata": {},
   "source": [
    "- we could have done everything above without having ever created an object but it does offer the following benefits"
   ]
  },
  {
   "cell_type": "markdown",
   "id": "fewer-forth",
   "metadata": {},
   "source": [
    "- __Readability__: the code for each step is in a self-contained unit that is easy to read and understand. the method name describes what the method does, and less additional documentation is required to understand what is going on\n",
    "- __Extensibility__: If a subclass wanted to use compressed `TAR` files instead of ZIP files, it could override `zip ` and `unzip` methods without having to duplicate the `find_replace` method\n",
    "- __partitioning__: an external class could create an instance of this class and call the `find_replace` method directly on some folder without having to `zip` the content"
   ]
  },
  {
   "cell_type": "markdown",
   "id": "specialized-leader",
   "metadata": {},
   "source": [
    "## Removing Duplicate Code"
   ]
  },
  {
   "cell_type": "markdown",
   "id": "gentle-sunset",
   "metadata": {},
   "source": [
    "- duplicate code is bad for readability and maintainability reasons\n",
    "- to solve code duplication, the simplest solution is often to move the code into a function that accepts parameters to account for whatever parts are different\n",
    "- try to make use of inheritance, composition also"
   ]
  }
 ],
 "metadata": {
  "kernelspec": {
   "display_name": "Python 3",
   "language": "python",
   "name": "python3"
  },
  "language_info": {
   "codemirror_mode": {
    "name": "ipython",
    "version": 3
   },
   "file_extension": ".py",
   "mimetype": "text/x-python",
   "name": "python",
   "nbconvert_exporter": "python",
   "pygments_lexer": "ipython3",
   "version": "3.9.2"
  }
 },
 "nbformat": 4,
 "nbformat_minor": 5
}
