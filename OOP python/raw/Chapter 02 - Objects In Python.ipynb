{
 "cells": [
  {
   "cell_type": "markdown",
   "id": "billion-shareware",
   "metadata": {},
   "source": [
    "## Creating Python Classes"
   ]
  },
  {
   "cell_type": "markdown",
   "id": "brutal-photographer",
   "metadata": {},
   "source": [
    "- creating an `instance` of a class is a simple matter of typing the class name, followed by a pair of parentheses "
   ]
  },
  {
   "cell_type": "markdown",
   "id": "protecting-oxford",
   "metadata": {},
   "source": [
    "## Adding Attibutes"
   ]
  },
  {
   "cell_type": "markdown",
   "id": "unsigned-instrumentation",
   "metadata": {},
   "source": [
    "- all we need to do to assign a value to an attribute on an object is use the `<object>.<attribute> = <value>` syntax\n",
    "- the `<value>` can be anything including python primitive, a built-in data type or another object, function or another class"
   ]
  },
  {
   "cell_type": "code",
   "execution_count": 5,
   "id": "induced-manufacturer",
   "metadata": {},
   "outputs": [
    {
     "name": "stdout",
     "output_type": "stream",
     "text": [
      "p1.x: 5, p1.y: 4\n",
      "p2.x: 3, p2.y: 6\n"
     ]
    }
   ],
   "source": [
    "class Point:\n",
    "    pass\n",
    "\n",
    "p1 = Point()\n",
    "p2 = Point()\n",
    "\n",
    "p1.x = 5\n",
    "p1.y = 4\n",
    "\n",
    "p2.x = 3\n",
    "p2.y = 6\n",
    "\n",
    "print(f\"p1.x: {p1.x}, p1.y: {p1.y}\")\n",
    "print(f\"p2.x: {p2.x}, p2.y: {p2.y}\")"
   ]
  },
  {
   "cell_type": "markdown",
   "id": "twenty-picnic",
   "metadata": {},
   "source": [
    "## Making It Do Something"
   ]
  },
  {
   "cell_type": "markdown",
   "id": "regional-lottery",
   "metadata": {},
   "source": [
    "- we have data and we want to add behaviors to our classes"
   ]
  },
  {
   "cell_type": "code",
   "execution_count": 7,
   "id": "quick-family",
   "metadata": {},
   "outputs": [
    {
     "name": "stdout",
     "output_type": "stream",
     "text": [
      "p.x: 0, p.y: 0\n"
     ]
    }
   ],
   "source": [
    "class Point:\n",
    "    def reset(self):\n",
    "        self.x = 0\n",
    "        self.y = 0\n",
    "        \n",
    "p = Point()\n",
    "p.reset()\n",
    "print(f\"p.x: {p.x}, p.y: {p.y}\")\n"
   ]
  },
  {
   "cell_type": "markdown",
   "id": "precise-islam",
   "metadata": {},
   "source": [
    "## Talking To Yourself"
   ]
  },
  {
   "cell_type": "markdown",
   "id": "opponent-thousand",
   "metadata": {},
   "source": [
    "- methods have the `self` requirement that functions do not have\n",
    "- pay attention to the difference between a `class` and an `object` \n",
    "- we think of the `method` as a function attached to a class\n",
    "- the `self` parameter is a specific instance of that class\n",
    "- when you call the method on two different objects, you are calling the same method twice, but passing two different `objects` as the `self` paramater"
   ]
  },
  {
   "cell_type": "markdown",
   "id": "accessible-planet",
   "metadata": {},
   "source": [
    "## More Arguments"
   ]
  },
  {
   "cell_type": "markdown",
   "id": "painful-switch",
   "metadata": {},
   "source": [
    "- you can call a method with arguments as such `point1.move(5, 0)`"
   ]
  },
  {
   "cell_type": "markdown",
   "id": "twenty-valuation",
   "metadata": {},
   "source": [
    "## Initializing The Object"
   ]
  },
  {
   "cell_type": "markdown",
   "id": "taken-sunrise",
   "metadata": {},
   "source": [
    "- most object-oriented programming languages have the concept of a `constructor`, a special method that creates and initializes the object when it is created\n",
    "- python has both a `constructor`, which is not generally used and an initializer, called `__init__`\n",
    "- the constructor is called `__new__` and you can use it to override behaviors"
   ]
  },
  {
   "cell_type": "code",
   "execution_count": 9,
   "id": "illegal-pizza",
   "metadata": {},
   "outputs": [],
   "source": [
    "class Point:\n",
    "    def __init__(self, x=0, y=0):\n",
    "        self.move(x, y)"
   ]
  },
  {
   "cell_type": "markdown",
   "id": "shared-image",
   "metadata": {},
   "source": [
    "## Explaining Yourself"
   ]
  },
  {
   "cell_type": "markdown",
   "id": "creative-crack",
   "metadata": {},
   "source": [
    "- a docstring should clearly and concisely summarize the purpose of the class or method it is describing\n",
    "- it should explain any parameters whos usage is not immediately obvious\n",
    "- it is a good place to include short examples of how to use the API"
   ]
  },
  {
   "cell_type": "code",
   "execution_count": 10,
   "id": "visible-raising",
   "metadata": {},
   "outputs": [],
   "source": [
    "import math\n",
    "\n",
    "class Point:\n",
    "    \"\"\"Represents a point in two-dimensional geometric coordinates\"\"\"\n",
    "    \n",
    "    def __init__(self, x=0, y=0):\n",
    "        \"\"\"Initializes the position of a new point\"\"\"\n",
    "        self.move(x, y)"
   ]
  },
  {
   "cell_type": "markdown",
   "id": "running-vehicle",
   "metadata": {},
   "source": [
    "## Organizing Modules"
   ]
  },
  {
   "cell_type": "markdown",
   "id": "gorgeous-wichita",
   "metadata": {},
   "source": [
    "- a `package` is a collection of modules in a folder\n",
    "- the name of the package is the name of the folder\n",
    "- to tell python that a folder is a package to distinguish it from other folders in the directory, we need to place a file in the folder named `__init__.py`\n",
    "- if we forget this file, we wont be able to import modules form that folder"
   ]
  },
  {
   "cell_type": "markdown",
   "id": "three-kidney",
   "metadata": {},
   "source": [
    "    parent_directory/\n",
    "        main.py\n",
    "        ecommerce/\n",
    "            __init__.py\n",
    "            database.py\n",
    "            products.py\n",
    "            payments/\n",
    "                __init__.py\n",
    "                square.py\n",
    "                stripe.py"
   ]
  },
  {
   "cell_type": "markdown",
   "id": "trying-thesaurus",
   "metadata": {},
   "source": [
    "## Absolute Imports"
   ]
  },
  {
   "cell_type": "markdown",
   "id": "daily-insider",
   "metadata": {},
   "source": [
    "    import ecommerce.products\n",
    "    prodduct = ecommerce.products.Product()\n",
    "\n",
    "    // or\n",
    "\n",
    "    from eccommerce.products import Products\n",
    "    product = Product()\n",
    "\n",
    "    //or \n",
    "    from ecommerce import products\n",
    "    product = products.Product()"
   ]
  },
  {
   "cell_type": "markdown",
   "id": "mathematical-phrase",
   "metadata": {},
   "source": [
    "## Relative Imports"
   ]
  },
  {
   "cell_type": "markdown",
   "id": "selective-warrant",
   "metadata": {},
   "source": [
    "- when working with related modules inside a package, it is redundant to specifiy the full path\n",
    "- thus we can use relative imports\n",
    "- `from .database import Database`\n",
    "- the period indicates to use the database inside the current package\n",
    "- we can use multiple periods to traverse further up the hierarchy\n"
   ]
  },
  {
   "cell_type": "markdown",
   "id": "otherwise-century",
   "metadata": {},
   "source": [
    "- we can also improt code directly from packages, as oppossed to just modules inside packages\n",
    "- the `__init__.py` file can contain any variable or class declarations we like and they will be available as part of the package\n",
    "- instead of having to do `import ecommerce.database.db` we could do `ecommerce.db`\n",
    "- generally avoid putting stuff in the `__init___.py` file"
   ]
  },
  {
   "cell_type": "markdown",
   "id": "acute-excerpt",
   "metadata": {},
   "source": [
    "## Organizing module content"
   ]
  },
  {
   "cell_type": "markdown",
   "id": "after-hearing",
   "metadata": {},
   "source": [
    "- use the keyword `global` to define variables one scope above it\n",
    "- like in recursive tree traversing you can have variable `global output`"
   ]
  },
  {
   "cell_type": "markdown",
   "id": "first-october",
   "metadata": {},
   "source": [
    "- always put your start code in a function\n",
    "- then have `__name__` == `\"__main__\":`\n",
    "- every module has a `__name__` special variable that specifies the name of the module when its imported"
   ]
  },
  {
   "cell_type": "markdown",
   "id": "laden-trinity",
   "metadata": {},
   "source": [
    "- classes can also be put inside functions and you should do that for one-off items"
   ]
  }
 ],
 "metadata": {
  "kernelspec": {
   "display_name": "Python 3",
   "language": "python",
   "name": "python3"
  },
  "language_info": {
   "codemirror_mode": {
    "name": "ipython",
    "version": 3
   },
   "file_extension": ".py",
   "mimetype": "text/x-python",
   "name": "python",
   "nbconvert_exporter": "python",
   "pygments_lexer": "ipython3",
   "version": "3.9.2"
  }
 },
 "nbformat": 4,
 "nbformat_minor": 5
}
