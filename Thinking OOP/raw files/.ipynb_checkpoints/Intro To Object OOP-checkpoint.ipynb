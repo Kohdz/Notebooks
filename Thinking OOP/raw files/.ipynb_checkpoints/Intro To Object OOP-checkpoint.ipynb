{
 "cells": [
  {
   "cell_type": "markdown",
   "metadata": {},
   "source": [
    "## Overview"
   ]
  },
  {
   "cell_type": "markdown",
   "metadata": {},
   "source": [
    "- object oriented programming is a process on how to discover and implement a conceptual machine to realize that desired output"
   ]
  },
  {
   "cell_type": "markdown",
   "metadata": {},
   "source": [
    "### Goals Of OOP"
   ]
  },
  {
   "cell_type": "markdown",
   "metadata": {},
   "source": [
    "- Modularity\n",
    "    - goal is to increase code modularity\n",
    "    - so a change in one module shouldn't break things in other modules\n",
    "    - improves code maintenance -adding or removing features does nto break thing, and you can change faster and more reliably\n",
    "    - enables code re-use: meaning you can package bits of code\n",
    "    - enable team collaboration: different people can work on different parts\n",
    "    - enable easier integration: easily abstract and isolate large systems"
   ]
  },
  {
   "cell_type": "markdown",
   "metadata": {},
   "source": [
    "- Improve Process of Analysis, Design and Communication\n",
    "    - this has to do with improving the process of breaking down a problem domain and designing a candidate solution and communicating it to others "
   ]
  },
  {
   "cell_type": "markdown",
   "metadata": {},
   "source": [
    "- a software machinery is simmilar to physical machinery. A software application is constructed from parts. These parts -- software objects -- interact by sending messages to request information or action from others. Through its lifetime, each object remains resposible for responding to a fixed set of requests. \n",
    "- To fulfull these requests, objects encapsulate scripted responses and the information that they base them on. If an object is designed to emember certain facts, it can use them to respond differently to future requests\n",
    "- building an object-oriented application means inventing appropriate machinery. We represent real-world information, processes, interactions, relationships, even errors, by inventing objecects that dont exist in the real world\n",
    "- we give life and intelligence to inanimate things. We take difficult-to-comprehent real-world objects and split them into simpler, more managable software ones. We invent new objects\n",
    "-  Each has a specific role to play in the application. Our measure of success lies in how clearly we invent a software reality that satisfies our applications requirements --and not in how closely it resembles the real world\n",
    "- Beacuse they have machine-like behaviors and because they can be plugged togheter to work in concert, objects used to  build very complex machines\n",
    "- to manage this compelxity, we divvy the systems behaviors into objects that play well-defined roles. If we keep out focus on the behavior, we can design the application using several complementary perspectives"
   ]
  },
  {
   "cell_type": "markdown",
   "metadata": {},
   "source": [
    "#### How to invent new software machines"
   ]
  },
  {
   "cell_type": "markdown",
   "metadata": {},
   "source": [
    "- we invent new objects. Each object has a specific role in the application. Out measure of success lies in how clearly we invent a software reality that satisfies our application's requirements --and not in how closely it resembles the realy world"
   ]
  },
  {
   "cell_type": "markdown",
   "metadata": {},
   "source": [
    "## Application lifecycles"
   ]
  },
  {
   "cell_type": "markdown",
   "metadata": {},
   "source": [
    "- Big design upfront is a bad stragety\n",
    "- design only takes into account the \"happy path\"\n",
    "- 80% of code is desgined to take care of 20% of the edge cases\n",
    "- edge case may take entire redesgin of application\n",
    "- took forver to build the application and business changes by the time software developers get it\n",
    "- keeping design documentation updated is too hard and abandoned"
   ]
  },
  {
   "cell_type": "markdown",
   "metadata": {},
   "source": [
    "## Agile Methodology"
   ]
  },
  {
   "cell_type": "markdown",
   "metadata": {},
   "source": [
    "- oppsite of big desgin upfront up\n",
    "- development team was invloved in the design\n",
    "- the business domain experts were in same office as developers\n",
    "- the PM would outline \"sprints\" which are boxes of time in which work is performed\n",
    "- you see things like continous builds or continous deployments\n",
    "- at the end of the day, you would have to come with working peice of software that can excuete\n",
    "- unit testing made it possible do multiple changes without major errors\n"
   ]
  },
  {
   "cell_type": "markdown",
   "metadata": {},
   "source": [
    "## How the process can affect the design"
   ]
  },
  {
   "cell_type": "markdown",
   "metadata": {},
   "source": [
    "- in agile approach, the code is the desgin\n",
    "- and the desgin is discovered with coding\n",
    "- agile methodology is incooperated with OOP"
   ]
  },
  {
   "cell_type": "markdown",
   "metadata": {},
   "source": [
    "-  OOP is about creating flexible, interchangable objects that decrease the complexity and implementation and decrease the resistance of the application to change, eases the maintance of the system, makes it more resileance to change long term"
   ]
  },
  {
   "cell_type": "markdown",
   "metadata": {},
   "source": [
    "## Abstracting The Real World Into A Domain Model"
   ]
  },
  {
   "cell_type": "markdown",
   "metadata": {},
   "source": [
    "- OOP models the real world\n",
    "- think about a model of an Amimal"
   ]
  },
  {
   "cell_type": "markdown",
   "metadata": {},
   "source": [
    "![](images/002.png)"
   ]
  },
  {
   "cell_type": "markdown",
   "metadata": {},
   "source": [
    "- you dont model the real world directly, you create an abstraction of the real world that satisfies the requirements of the application"
   ]
  },
  {
   "cell_type": "markdown",
   "metadata": {},
   "source": [
    "- OOP is about abstracting the real world into a bunch of subsets or supersets of objects that we need to consider for a specific problem domain and how to implement it"
   ]
  },
  {
   "cell_type": "markdown",
   "metadata": {},
   "source": [
    "- with OOP we are building conceptional machines"
   ]
  },
  {
   "cell_type": "markdown",
   "metadata": {},
   "source": [
    "![](images/001.png)"
   ]
  },
  {
   "cell_type": "markdown",
   "metadata": {},
   "source": [
    "## Establishing Roles and Delegating Responsibilities to Objects"
   ]
  },
  {
   "cell_type": "markdown",
   "metadata": {},
   "source": [
    "### Role"
   ]
  },
  {
   "cell_type": "markdown",
   "metadata": {},
   "source": [
    "- each object plays a part of a larger conceptual machine\n",
    "- we delegate one or more responsibilites to an object\n",
    "- that object has to take care of that task or hold that information\n",
    "- think about roles as different machines such as a giant robot ARM that moves things\n",
    "- if one machine fails, the assambly line fails\n",
    "- maintaining a machine that does alot of things might not do each task well"
   ]
  },
  {
   "cell_type": "markdown",
   "metadata": {},
   "source": [
    "- we should be able to replace that object if need be"
   ]
  },
  {
   "cell_type": "markdown",
   "metadata": {},
   "source": [
    " ### Contracts"
   ]
  },
  {
   "cell_type": "markdown",
   "metadata": {},
   "source": [
    "- what makes OOP intresting is the collobration aspect\n",
    "- objects need to collobrate, thing of a cell, it needs to collobrate with others cells\n",
    "- think of a method signatures\n",
    "- you need to give me these and I return this to you\n",
    "- if i cant figure this out, then i give an error "
   ]
  },
  {
   "cell_type": "markdown",
   "metadata": {},
   "source": [
    "- these is also a concept of interface, these are things that a class must implement\n",
    "- an interface is like receptors on cells "
   ]
  },
  {
   "cell_type": "markdown",
   "metadata": {},
   "source": [
    "## Collaborations and Object Role Sterotypes"
   ]
  },
  {
   "cell_type": "markdown",
   "metadata": {},
   "source": [
    "![](images/003.png)"
   ]
  },
  {
   "cell_type": "markdown",
   "metadata": {},
   "source": [
    "- objects are partners, not isolated\n",
    "- steriotypes are common roles\n",
    "- one object may have one or more of these roles, but too many roles and it may lose its effiecny\n",
    "- if an object has too little role, then it may be anemic, for instance, if it is just an information holder\n"
   ]
  },
  {
   "cell_type": "markdown",
   "metadata": {},
   "source": [
    "__A well defined Object supports a clearly defined role. Design is an interative and incremental process of envisioning objects and their responsibilities and inventing flexible collaborations__"
   ]
  },
  {
   "cell_type": "markdown",
   "metadata": {},
   "source": [
    "## Collaborations: Conditions of Use and After Effect Guarantees"
   ]
  },
  {
   "cell_type": "markdown",
   "metadata": {},
   "source": [
    "- fine print can be handled through exceptions\n",
    "- if you get wrong data types then you return error\n",
    "- in typed language, you verify the data type\n",
    "- you can check if data is null or not \n",
    "- you can check if data is between boundaries\n",
    "- you can have unit tests "
   ]
  },
  {
   "cell_type": "markdown",
   "metadata": {},
   "source": [
    "- each object should garuntee an output\n",
    "- it should return the correct type\n",
    "- how much should the object trust its collobarator\n",
    "- best way to verify the return is to use unit tests"
   ]
  },
  {
   "cell_type": "markdown",
   "metadata": {},
   "source": [
    "## Domain vs. Application Specific Objects"
   ]
  },
  {
   "cell_type": "markdown",
   "metadata": {},
   "source": [
    "- there are domain specific objects and there are application specific objects"
   ]
  },
  {
   "cell_type": "markdown",
   "metadata": {},
   "source": [
    "- domain specific objects are objects that model the real world into obstractions that we will use in our conceptional machinary to create a solution"
   ]
  },
  {
   "cell_type": "markdown",
   "metadata": {},
   "source": [
    "- application specific objects are stuff that performs system specific tasks\n",
    "- use them for persistance, display, communication, etc"
   ]
  },
  {
   "cell_type": "markdown",
   "metadata": {},
   "source": [
    "### Domain Specific Objects"
   ]
  },
  {
   "cell_type": "markdown",
   "metadata": {},
   "source": [
    "- Domain Specific Obejcts are born from an analysis of our problem domain\n",
    "- Domain is made up of information and services user needs along with structures that can relate the two\n",
    "- there are containers for domain/business logic"
   ]
  },
  {
   "cell_type": "markdown",
   "metadata": {},
   "source": [
    "- imagine the problem is tax collection\n",
    "- we might need to collect tax depending on state, country, object, etc.\n",
    "- a tax expert can understand this domain"
   ]
  },
  {
   "cell_type": "markdown",
   "metadata": {},
   "source": [
    "- another domain could be books\n",
    "- which has author, date published, etc."
   ]
  },
  {
   "cell_type": "markdown",
   "metadata": {},
   "source": [
    "### Application Specific Objects"
   ]
  },
  {
   "cell_type": "markdown",
   "metadata": {},
   "source": [
    "- born purely from imagination\n",
    "- they are bridges between the domain world and software world\n",
    "- they are objects \n",
    "- it displays things, it interacts with the database, it interacts with file systems "
   ]
  },
  {
   "cell_type": "markdown",
   "metadata": {},
   "source": [
    "## Components As Neighborhoods Of Objects"
   ]
  },
  {
   "cell_type": "markdown",
   "metadata": {},
   "source": [
    "- a component is a reuseable package of objects\n",
    "- components should have either domain specific or application specific objects\n",
    "- interfaces should allow other services to inject dependencies into the application\n",
    "- birds of a feather should stick together\n",
    "- classes that do simmilar things should stick together "
   ]
  },
  {
   "cell_type": "markdown",
   "metadata": {},
   "source": [
    "## Architectural Layers of Responsibility using Objects"
   ]
  },
  {
   "cell_type": "markdown",
   "metadata": {},
   "source": [
    "- a layer is composed of several collobrating components that are tasked with the same type of work but more from a system perspective\n",
    "- you have objects related to business functions (accounting, inventroy, etc) \n",
    "- those layers fit into domain layer"
   ]
  },
  {
   "cell_type": "markdown",
   "metadata": {},
   "source": [
    "- application layer is the presistance layer, presentation layer, web server layer, etc\n",
    "- inner faces exits between all of these squares, such as between accounting presentation or accounting domain\n",
    "- it can also be presentation accounting and presentation marketing\n",
    "- "
   ]
  },
  {
   "cell_type": "markdown",
   "metadata": {},
   "source": [
    "![](images/04.png)"
   ]
  },
  {
   "cell_type": "markdown",
   "metadata": {},
   "source": [
    "- information ususally flows from persistence to presentation while clien objects are usually above domain/web server objects and flow downword"
   ]
  },
  {
   "cell_type": "markdown",
   "metadata": {},
   "source": [
    "- call backs are needed (think asynchronous requests) to tell the layers above them that they are working on it and will get back to them later "
   ]
  },
  {
   "cell_type": "markdown",
   "metadata": {},
   "source": [
    "## Why Encapsulation"
   ]
  },
  {
   "cell_type": "markdown",
   "metadata": {},
   "source": [
    "- a mechnism to hide implementation details of a class\n",
    "- a class is made up of information and functions (methods)\n",
    "- the methods operate on the information/fields\n",
    "- properties have getters/setters and we use these as gatekeepers because they safeguard the data\n",
    "- encapsulation is for security concerns\n",
    "- object shares as little as possible "
   ]
  },
  {
   "cell_type": "markdown",
   "metadata": {},
   "source": [
    "## Why Implementation Inheritance?"
   ]
  },
  {
   "cell_type": "markdown",
   "metadata": {},
   "source": [
    "- there is both implementation inhertiance and interface inhertiance"
   ]
  },
  {
   "cell_type": "markdown",
   "metadata": {},
   "source": [
    "- there is the parent class and then their is the child class\n",
    "- the child class gets its inhertance from its parent\n",
    "- good for code reuse and allows you to override\n",
    "- this also gives you flexibility for better collobaration"
   ]
  },
  {
   "cell_type": "markdown",
   "metadata": {},
   "source": [
    "- makes our collobratation flexiable because we are able to generalize our collobrations between objects allowing for specialized  child versions for child objects in liu of parent objects\n",
    "- generalization and spelization of collobarating objects"
   ]
  },
  {
   "cell_type": "markdown",
   "metadata": {},
   "source": [
    "## Why Interface Inheritance?"
   ]
  },
  {
   "cell_type": "markdown",
   "metadata": {},
   "source": [
    "- when you have multiple objects with same shape, they can be using interchangablly \n",
    "- interfaces only define public memebrs of a class that must be implemented by a class inorder to satisify a contract between two or more objects\n",
    "- no implementation where you can rely on parent\n",
    "- this is because the purpose of interface is to define an abstraction that breaks a dependency\n",
    "- interface is a contract for services that I need rendered\n",
    "- i need something done i put a contract that other can satisfy\n",
    "- the other object can accept contract and "
   ]
  },
  {
   "cell_type": "markdown",
   "metadata": {},
   "source": [
    "- with interface inheritance we remove tight coupling that our object has to other objects\n",
    "- since object is not coupled, any obeject can implement interface inheritance we can test any object more throughly"
   ]
  },
  {
   "cell_type": "markdown",
   "metadata": {},
   "source": [
    "- inheritance is a tenent because it allows up to decouple where you do not have to make a change in more than one or more place"
   ]
  },
  {
   "cell_type": "markdown",
   "metadata": {},
   "source": [
    "## Why Polymorphism"
   ]
  },
  {
   "cell_type": "markdown",
   "metadata": {},
   "source": [
    "- means many forms or shapes \n",
    "- allows you to call same method on different objects as long as it really is the same objects\n",
    "- methods can be owerwritten"
   ]
  },
  {
   "cell_type": "markdown",
   "metadata": {},
   "source": [
    "## Understanding Relationships: Coupling and Dependency"
   ]
  },
  {
   "cell_type": "markdown",
   "metadata": {},
   "source": [
    "- when one object is creating an instance to another object inorder to collobrate with it\n",
    "- that is good only if the two objects live in the same neighborhood\n",
    "- if they are not in the same layer, it can be a problem"
   ]
  },
  {
   "cell_type": "markdown",
   "metadata": {},
   "source": [
    "- cross domains is also bad\n",
    "- dont go from account object to the tax object\n"
   ]
  },
  {
   "cell_type": "markdown",
   "metadata": {},
   "source": [
    "- an example of this is when our domain layer interacts with out perisitance layer\n",
    "- if tax domain creates a class using the new keyword, then saves it to DB, it is bad\n",
    "- it makes it hard to unit test, etc."
   ]
  },
  {
   "cell_type": "markdown",
   "metadata": {},
   "source": [
    "- high coupling makes out appliation brittle\n",
    "- S in solid means solid and that means seperation of services"
   ]
  },
  {
   "cell_type": "markdown",
   "metadata": {},
   "source": [
    "## Understanding Relationships: Inversion Of Control and Dependency Injections"
   ]
  },
  {
   "cell_type": "markdown",
   "metadata": {},
   "source": [
    "- to decouple, you simply flip dependencies\n",
    "- thus you need to get an outsider to coordinate the dependency and inject that dependecy inside of it"
   ]
  },
  {
   "cell_type": "markdown",
   "metadata": {},
   "source": [
    "## Understanding Relationships: Aggregation"
   ]
  },
  {
   "cell_type": "markdown",
   "metadata": {},
   "source": [
    "- \"has a\" style\n",
    "- aggeration is when one object keeps refrences to other instances of objects\n",
    "- this object is a part of a larger object\n",
    "- you can have teachers in different departments \n",
    "- some teaches can exist in multiple departments\n",
    "- thus if you eliminate a teacher, it does not eliminate the department"
   ]
  },
  {
   "cell_type": "markdown",
   "metadata": {},
   "source": [
    "- there we are talking about the lifecycle (when they life/die) and ownership\n",
    "- objects should live and die seprately "
   ]
  },
  {
   "cell_type": "markdown",
   "metadata": {},
   "source": [
    "- aggeration means there is ownership but there is no life/death situation\n",
    "- one can surive even if another is destroyed"
   ]
  },
  {
   "cell_type": "markdown",
   "metadata": {},
   "source": [
    "## Understanding Relationships: Composition"
   ]
  },
  {
   "cell_type": "markdown",
   "metadata": {},
   "source": [
    "- stronger version of aggergation\n",
    "- in composition the child cannot exist without parent\n",
    "- think about a house with room\n",
    "- if you destroy the house, you destory the rooms"
   ]
  },
  {
   "cell_type": "markdown",
   "metadata": {},
   "source": [
    "- you can have a class inside of a class and initilaize a class inside of another class\n",
    "- Composition over inheritance\n",
    "- better something has a method then to extend it\n",
    "- the child does not have to worry about parents or grandparents funky behavior\n",
    "- use inhertance sparingly\n",
    "- in domain context, less inhertance, the better\n"
   ]
  }
 ],
 "metadata": {
  "kernelspec": {
   "display_name": "Python 3",
   "language": "python",
   "name": "python3"
  },
  "language_info": {
   "codemirror_mode": {
    "name": "ipython",
    "version": 3
   },
   "file_extension": ".py",
   "mimetype": "text/x-python",
   "name": "python",
   "nbconvert_exporter": "python",
   "pygments_lexer": "ipython3",
   "version": "3.8.3"
  }
 },
 "nbformat": 4,
 "nbformat_minor": 4
}
