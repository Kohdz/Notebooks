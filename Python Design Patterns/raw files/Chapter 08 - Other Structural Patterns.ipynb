{
 "cells": [
  {
   "cell_type": "markdown",
   "id": "amber-disability",
   "metadata": {},
   "source": [
    "## Overview"
   ]
  },
  {
   "cell_type": "markdown",
   "id": "planned-swiss",
   "metadata": {},
   "source": [
    "- other common structural patterns are `flyweight`, `model-view-controller` (`MVC`), and `proxy`"
   ]
  },
  {
   "cell_type": "markdown",
   "id": "lonely-proposition",
   "metadata": {},
   "source": [
    "__flyweight__:\n",
    "- the `flyweight` pattern teacher programmers how to minimize memory usage by sharing resources with simmilar objects as much as possible\n",
    "- memory issues can over the overhead of object creation\n",
    "- we can have issues where we need to create a very large number of objects (and possibly users) that need to coexist at the same time"
   ]
  },
  {
   "cell_type": "markdown",
   "id": "unavailable-mortality",
   "metadata": {},
   "source": [
    "__MVC__\n",
    "- the `MVC` pattern is useful mainly in application development and helps developers improve the maintainability of their applications by avoiding mixing the business logic with the user interface"
   ]
  },
  {
   "cell_type": "markdown",
   "id": "australian-inspection",
   "metadata": {},
   "source": [
    "__proxy__\n",
    "- in some applications, we want to execute one or more important actions before accessing an object, and this is where the `proxy` pattern comes in\n",
    "- an example is the accessing of sensitive information. Before allowing any user to access sensitive information, we want to make sure that the user has sufficient privilages\n",
    "- another case might be `Lazy initialization`; we want to delay the creation of a computationally expensive object untill the first time the user actually needs to use it\n",
    "- the idea of the `proxy` pattern is to help with performing such actions before accessing the actual object"
   ]
  },
  {
   "cell_type": "markdown",
   "id": "auburn-toddler",
   "metadata": {},
   "source": [
    "## The Flightweight Pattern"
   ]
  },
  {
   "cell_type": "markdown",
   "id": "innocent-freight",
   "metadata": {},
   "source": [
    "- the `flyweight` design pattern is a technique used to minimize memory usage and improve performance by introducing data sharing between objetcs\n",
    "- a `flyweight` is a shared object that contains state-independent, immutable data\n",
    "- the state-dependent, mutable dats should not be part of the `flyweight` because this is information that cannot be shared, since it differs per object\n",
    "- if `flyweight` needs extrinsic data, it should be provided explicitly by the client code"
   ]
  },
  {
   "cell_type": "markdown",
   "id": "impaired-upper",
   "metadata": {},
   "source": [
    "- lets assume that we are creating a performance-critical game, a `first-person shooter`\n",
    "- in `FPS` games, player/soldiers on the same team share some states, such as representation and behavior\n",
    "- all soldiers have some common actions, such as jump, duck and so forth\n",
    "- this means that a `flyweight` that will contain all of the common data\n",
    "- not everything is shared such as `health`, `location`, `etc.`"
   ]
  },
  {
   "cell_type": "markdown",
   "id": "distributed-auction",
   "metadata": {},
   "source": [
    "### Real-world Examples"
   ]
  },
  {
   "cell_type": "markdown",
   "id": "academic-velvet",
   "metadata": {},
   "source": [
    "- since this is an optimization design pattern, there is not an easy non-computing example of it\n",
    "- we can think of `flyweight` as caching in real life\n",
    "- many bookstores have dedicated shelves with the newest and most popular publications; this is similar to caching\n",
    "- first, you can take a look at the dedicated shelves for the book you are looking for, and if you cannot find it, you can ask the bookseller to assist you "
   ]
  },
  {
   "cell_type": "markdown",
   "id": "handy-marijuana",
   "metadata": {},
   "source": [
    "### Use Cases"
   ]
  },
  {
   "cell_type": "markdown",
   "id": "noble-picnic",
   "metadata": {},
   "source": [
    "- flyweight is all about improving performance and memory usage\n",
    "- all embeded systems and performance-critical applications (games, 3-D graphics), can benefit from it"
   ]
  },
  {
   "cell_type": "markdown",
   "id": "interesting-surrey",
   "metadata": {},
   "source": [
    "__Gang of Four's Requirements__:\n",
    "- the application needs to use a large number of objects\n",
    "- there are so many objects that it's too expensive to store/render them. Once the mutable state is removed (because if it is required, it should be passed explicitly to flyweight by the client code), many groups of distince objects can be replaced by relatively few shared objects\n",
    "- objects identity is not important for the application. We cannot rely on object identity ebcause objects sharing causes identity comparisions to fail (objects that appear different to the client code end up having the same identy"
   ]
  },
  {
   "cell_type": "markdown",
   "id": "pediatric-thing",
   "metadata": {},
   "source": [
    "### Implementation"
   ]
  },
  {
   "cell_type": "markdown",
   "id": "dominican-tournament",
   "metadata": {},
   "source": [
    "- we will create a small car park to illustrate the idea, making sure that the whole output is readable in a signle terminal page\n",
    "- howerver, it is important to note that no matter how large you make the car park, the memory allocation stays the same\n"
   ]
  },
  {
   "cell_type": "markdown",
   "id": "altered-kingdom",
   "metadata": {},
   "source": [
    "- `memoization` and the `flyweight` pattern may seem similar, but there is an important difference\n",
    "- `memoization` is an optimization technique that uses a cache to avoid recomputing results that were already computed in an earlier execution step\n",
    "- `memoization` does not focus on a specific programming paradigm such as `OOP`\n",
    "- in Python, memoization can be applied to both methods and simple functions\n",
    "- `flyweight` is an `OOP`-specific optimization design pattern that focuses on sharing object data"
   ]
  },
  {
   "cell_type": "markdown",
   "id": "numerous-caribbean",
   "metadata": {},
   "source": [
    "- first we will need an `Enum` parameter that describes the three different types of car that are in the car park"
   ]
  },
  {
   "cell_type": "code",
   "execution_count": 12,
   "id": "normal-tension",
   "metadata": {},
   "outputs": [],
   "source": [
    "from enum import Enum\n",
    "\n",
    "CarType = Enum('CarType', 'subcompact compact suv')"
   ]
  },
  {
   "cell_type": "markdown",
   "id": "scenic-scanner",
   "metadata": {},
   "source": [
    "- then we will define the class at the core of our implementation: `Car`\n",
    "- the `pool` variable is the object pool (in other words, our cache)`\n",
    "- notice that `pool` is a class attribute (a variable shared by all instances\n",
    "- using the `__new__()` special method, which is called before `__init__()`, we are converting the `Car` class to a metaclass that supports self-refrences\n",
    "- this means that `cls` references the `Car` class\n",
    "- when the client cod3e creates an instance of `Car`, they pass the type of the car as `car_type`\n",
    "- the type of the car is used to check if a car of the same type has already been created\n",
    "- if that's the case, the perviously created object is returned\n",
    "- otherwise, the new car type is added to the pool and returned"
   ]
  },
  {
   "cell_type": "markdown",
   "id": "decimal-prime",
   "metadata": {},
   "source": [
    "- the `render()` method is what will be used ot render a car on the screen\n",
    "- notice how all the mutable information not known by `flyweight` needs to be explicitly passed by the client code\n",
    "- in this case, a random `color` and the coordinates of a location (of form `x, y`) are used for each car\n",
    "- also note that to make `render()` more useful, it is necessary to ensure that no cars are rendered on top of each other"
   ]
  },
  {
   "cell_type": "code",
   "execution_count": 15,
   "id": "valued-intent",
   "metadata": {},
   "outputs": [],
   "source": [
    "class Car:\n",
    "    \n",
    "    pool = dict()\n",
    "    \n",
    "    def __new__(cls, car_type):\n",
    "        obj = cls.pool.get(car_type, None)\n",
    "        if not obj:\n",
    "            obj = object.__new__(cls)\n",
    "            cls.pool[car_type] = obj\n",
    "            obj.car_type = car_type\n",
    "        return obj\n",
    "\n",
    "    def render(self, color, x, y):\n",
    "        type = self.car_type\n",
    "        msg = f'render a car of type {type} and  color {color} at ({x}, {y})'\n",
    "        print(msg)"
   ]
  },
  {
   "cell_type": "markdown",
   "id": "overall-entertainment",
   "metadata": {},
   "source": [
    "- the `main()` function shows how we can use the flyweight pattern\n",
    "- the color of a car is a random value from a predefined list of colors\n",
    "- the coordinates use random values between 1 and 100\n",
    "- although `18` cars are rendered, memory is allocated only for `3`\n",
    "- the last line of the output proves that when using `flyweight`, we cannot rely on object identity\n",
    "- the `id()` function returns the a unique `ID` (or memory address of an object as an integer) for each object\n",
    "- in our case, even if two objects appear to be different, they actually have the same identity if they belong to the same `flyweight family` (in this case, the family is defined by `car_type`\n",
    "- Of course, different identity comparisons can be still used by objects of different families, but that is possible only if the client knows the implementation details"
   ]
  },
  {
   "cell_type": "code",
   "execution_count": 17,
   "id": "engaging-distributor",
   "metadata": {},
   "outputs": [
    {
     "name": "stdout",
     "output_type": "stream",
     "text": [
      "render a car of type CarType.subcompact and  color black at (6, 12)\n",
      "render a car of type CarType.subcompact and  color beige at (80, 14)\n",
      "render a car of type CarType.subcompact and  color brown at (32, 0)\n",
      "render a car of type CarType.subcompact and  color black at (42, 68)\n",
      "render a car of type CarType.subcompact and  color brown at (96, 74)\n",
      "render a car of type CarType.subcompact and  color black at (3, 90)\n",
      "render a car of type CarType.subcompact and  color white at (2, 40)\n",
      "render a car of type CarType.subcompact and  color silver at (52, 79)\n",
      "render a car of type CarType.subcompact and  color black at (2, 25)\n",
      "render a car of type CarType.subcompact and  color green at (40, 35)\n",
      "render a car of type CarType.compact and  color beige at (8, 58)\n",
      "render a car of type CarType.compact and  color silver at (58, 3)\n",
      "render a car of type CarType.compact and  color silver at (1, 80)\n",
      "render a car of type CarType.suv and  color yellow at (35, 0)\n",
      "render a car of type CarType.suv and  color silver at (28, 98)\n",
      "render a car of type CarType.suv and  color white at (20, 74)\n",
      "render a car of type CarType.suv and  color gray at (24, 54)\n",
      "render a car of type CarType.suv and  color blue at (30, 40)\n",
      "cars rendered: 18\n",
      "cars actually created: 3\n",
      "2578857432448 == 2578857432448? True\n",
      "2578857432448 == 2578858283264? False\n"
     ]
    }
   ],
   "source": [
    "import random\n",
    "\n",
    "\n",
    "def main():\n",
    "    rnd = random.Random()\n",
    "    colors = 'white black silver gray red blue brown beige yellow green'.split()\n",
    "    min_point, max_point = 0, 100\n",
    "    car_counter = 0\n",
    "    \n",
    "    for _ in range(10):\n",
    "        c1 = Car(CarType.subcompact)\n",
    "        c1.render(random.choice(colors),\n",
    "                        rnd.randint(min_point, max_point),\n",
    "                        rnd.randint(min_point, max_point))\n",
    "        car_counter += 1\n",
    "\n",
    "    for _ in range(3):\n",
    "        c2 = Car(CarType.compact)\n",
    "        c2.render(random.choice(colors),\n",
    "                    rnd.randint(min_point, max_point),\n",
    "                    rnd.randint(min_point, max_point))\n",
    "        car_counter += 1\n",
    "\n",
    "    for _ in range(5):\n",
    "        c3 = Car(CarType.suv)\n",
    "        c3.render(random.choice(colors),\n",
    "                    rnd.randint(min_point, max_point),\n",
    "                    rnd.randint(min_point, max_point))\n",
    "        car_counter += 1\n",
    "        \n",
    "    print(f'cars rendered: {car_counter}')\n",
    "    print(f'cars actually created: {len(Car.pool)}')\n",
    "    \n",
    "    c4 = Car(CarType.subcompact)\n",
    "    c5 = Car(CarType.subcompact)\n",
    "\n",
    "    c6 = Car(CarType.suv)\n",
    "    print(f'{id(c4)} == {id(c5)}? {id(c4) == id(c5)}')\n",
    "    print(f'{id(c5)} == {id(c6)}? {id(c5) == id(c6)}')\n",
    "\n",
    "\n",
    "if __name__ == '__main__':\n",
    "    main()\n",
    "  \n"
   ]
  },
  {
   "cell_type": "markdown",
   "id": "dominican-freeze",
   "metadata": {},
   "source": [
    "## Model View Controller Pattern"
   ]
  },
  {
   "cell_type": "markdown",
   "id": "completed-constraint",
   "metadata": {},
   "source": [
    "- one of the design principles related to software engineering is the `sepration of concerns` (`SoC`) principle\n",
    "- the idea behind the `SoC` principle is to split an application into distinct sections, where each section is addresses a separate concern\n",
    "- examples of such concerns are the layers used in a layered design (`data access layer`, `business logic layer`, `presentation layer`, etc)"
   ]
  },
  {
   "cell_type": "markdown",
   "id": "mechanical-politics",
   "metadata": {},
   "source": [
    "- the `MVC` pattern is nothing more than the `SoC` principle applied to `OOP`\n",
    "- the name of the pattern comes from the three main components used to split a software application\n",
    "    - the `model`, `view` and the `controller\n",
    "- `MVC` is considered an architectural pattern rather than a design pattern\n",
    "- the difference between an architectural and a design pattern is that the former has a broader score than the latter"
   ]
  },
  {
   "cell_type": "markdown",
   "id": "environmental-peripheral",
   "metadata": {},
   "source": [
    "- the `model` is the core component\n",
    "    - it representing knowladge\n",
    "    - it contains and manages the (business logic), data, state and rules of an application\n",
    "- the `view` is a visual representation of the model\n",
    "    - examples of views are a computer GUI, the text output of a computer terminal, etc\n",
    "    - the view only displays the data; it doesn't handle it\n",
    "- the `controller` is the link/glue between the model and view\n",
    "- all communication between the model and the view happens through a controller\n"
   ]
  },
  {
   "cell_type": "markdown",
   "id": "forty-accuracy",
   "metadata": {},
   "source": [
    "A typical use of an application that uses `MVC`, after the initial screen is rendered to the user is as follows:\n",
    "1. the user triggers a view by clicking (typing, touching, and so on) a button\n",
    "2. the view informs the controller of the user's actions\n",
    "3. the controller processes user input and interacts with the model\n",
    "4. the model performs all the necessary validation and state changes and informs the controller about what should be done\n",
    "5. the controller instructs the view to upgrade and display the output appropraitely, following the instructions that are given by the model"
   ]
  },
  {
   "cell_type": "markdown",
   "id": "expected-treasure",
   "metadata": {},
   "source": [
    "### Use Cases"
   ]
  },
  {
   "cell_type": "markdown",
   "id": "classical-tourism",
   "metadata": {},
   "source": [
    "- the separation between the view and model allows graphical designers to focus on the UI part and programmers to focus on development, without interfering with each other\n",
    "- because of the loose coupling between the view and model, each part can be modified/extended without affectiong the other; for example, adding a new view is trivial; just implement a new controller for it\n",
    "- maintaining each part is easier because the responsibilities are clear"
   ]
  },
  {
   "cell_type": "markdown",
   "id": "fiscal-moisture",
   "metadata": {},
   "source": [
    "- ideally, you want to create smart models, thin controllers and dumb views"
   ]
  },
  {
   "cell_type": "markdown",
   "id": "assigned-external",
   "metadata": {},
   "source": [
    "A `model` is considered smart because it does the following\n",
    "- contains all the validation/business rules/logic\n",
    "- handles the state of the application\n",
    "- has access to application data (database, cloud, and so on)\n",
    "- does not depend on the `UI`"
   ]
  },
  {
   "cell_type": "markdown",
   "id": "efficient-somerset",
   "metadata": {},
   "source": [
    "A `controller` is considered thin because it does the following\n",
    "- updates the model when the user interacts with the view\n",
    "- updates the view when the model changes\n",
    "- processes the data before delivering it to the model/view if necessary\n",
    "- does not display the data\n",
    "- does not access the application data directly\n",
    "- does not contain validation/business rules/logic"
   ]
  },
  {
   "cell_type": "markdown",
   "id": "communist-error",
   "metadata": {},
   "source": [
    "A `view` is considered dumb because it does the following\n",
    "- display the data\n",
    "- allows the user to interact with it\n",
    "- does only minimal processing, ususally provided by a template language\n",
    "- does not store any data\n",
    "- does not access the application data directly  "
   ]
  },
  {
   "cell_type": "markdown",
   "id": "innocent-legislation",
   "metadata": {},
   "source": [
    "### Implementation"
   ]
  },
  {
   "cell_type": "markdown",
   "id": "warming-naples",
   "metadata": {},
   "source": [
    "- we will implement a `MVC` from scratch, using a very simple example:  a quote printer\n",
    "- the user enters a number and sees the quote related to the number\n"
   ]
  },
  {
   "cell_type": "markdown",
   "id": "miniature-street",
   "metadata": {},
   "source": [
    "- the quotes are stored in a quotes tuple\n",
    "- this is the data that normally exists in a database, file, and so on, and only the model has direct access to it"
   ]
  },
  {
   "cell_type": "code",
   "execution_count": 3,
   "id": "about-think",
   "metadata": {},
   "outputs": [],
   "source": [
    "quotes = (\n",
    " 'A man is not complete until he is married. Then he is finished.',\n",
    " 'As I said before, I never repeat myself.',\n",
    " 'Behind a successful man is an exhausted woman.',\n",
    " 'Black holes really suck...',\n",
    " 'Facts are stubborn things.'\n",
    ")\n"
   ]
  },
  {
   "cell_type": "markdown",
   "id": "eastern-armor",
   "metadata": {},
   "source": [
    "the `model` is minimalistic; it only has a `get_quote()` method that returns the quote (string) of the quotes tuple based on its index `n`\n",
    "- note that `n` can be less than or equal to zero, due to the way indexing works in Python\n",
    "- improving this behavior is given as an excerise for you at the end of this section"
   ]
  },
  {
   "cell_type": "code",
   "execution_count": 4,
   "id": "professional-profile",
   "metadata": {},
   "outputs": [],
   "source": [
    "class QuoteModel:\n",
    "    def get_quote(self, n):\n",
    "        try:\n",
    "            value = quotes[n]\n",
    "        except IndexError as err:\n",
    "            value = 'Not found!'\n",
    "        return value"
   ]
  },
  {
   "cell_type": "markdown",
   "id": "engaged-slovak",
   "metadata": {},
   "source": [
    "- the `view` has three methods \n",
    "    - `show()`, which is used to print a quote (or the message `Not found`) on the screen\n",
    "    - `error()`, which is used to print an error message on the screen\n",
    "    - `select_quote()`, which reads the user's selection"
   ]
  },
  {
   "cell_type": "code",
   "execution_count": 5,
   "id": "radical-average",
   "metadata": {},
   "outputs": [],
   "source": [
    "class QuoteTerminalView:\n",
    "    def show(self, quote):\n",
    "        print(f'And the quote is: \"{quote}\"')\n",
    "    def error(self, msg):\n",
    "        print(f'Error: {msg}')\n",
    "    def select_quote(self):\n",
    "        return input('Which quote number would like to see? ')"
   ]
  },
  {
   "cell_type": "markdown",
   "id": "following-freedom",
   "metadata": {},
   "source": [
    "- the controller does the coordination\n",
    "- the `__init__()` method initializes the model and view\n",
    "- the `run()` method validates the quoted index given by the user, gets the quote from the model, and passes it back to the view to be displayed as shown"
   ]
  },
  {
   "cell_type": "code",
   "execution_count": 7,
   "id": "exterior-coupon",
   "metadata": {},
   "outputs": [],
   "source": [
    "class QuoteTerminalController:\n",
    "    def __init__(self):\n",
    "        self.model = QuoteModel()\n",
    "        self.view = QuoteTerminalView()\n",
    "    def run(self):\n",
    "        valid_input = False\n",
    "        while not valid_input:\n",
    "            try:\n",
    "                n = self.view.select_quote()\n",
    "                n = int(n)\n",
    "                valid_input = True\n",
    "            except ValueError as err:\n",
    "                self.view.error(f\"Incorrect index '{n}'\")\n",
    "        quote = self.model.get_quote(n)\n",
    "        self.view.show(quote)"
   ]
  },
  {
   "cell_type": "code",
   "execution_count": 9,
   "id": "featured-crown",
   "metadata": {},
   "outputs": [
    {
     "name": "stdout",
     "output_type": "stream",
     "text": [
      "Which quote number would like to see? 1\n",
      "And the quote is: \"As I said before, I never repeat myself.\"\n"
     ]
    },
    {
     "ename": "KeyboardInterrupt",
     "evalue": "Interrupted by user",
     "output_type": "error",
     "traceback": [
      "\u001b[1;31m---------------------------------------------------------------------------\u001b[0m",
      "\u001b[1;31mKeyboardInterrupt\u001b[0m                         Traceback (most recent call last)",
      "\u001b[1;32m<ipython-input-9-24dec0390828>\u001b[0m in \u001b[0;36m<module>\u001b[1;34m\u001b[0m\n\u001b[0;32m      5\u001b[0m \u001b[1;33m\u001b[0m\u001b[0m\n\u001b[0;32m      6\u001b[0m \u001b[1;32mif\u001b[0m \u001b[0m__name__\u001b[0m \u001b[1;33m==\u001b[0m \u001b[1;34m'__main__'\u001b[0m\u001b[1;33m:\u001b[0m\u001b[1;33m\u001b[0m\u001b[1;33m\u001b[0m\u001b[0m\n\u001b[1;32m----> 7\u001b[1;33m  \u001b[0mmain\u001b[0m\u001b[1;33m(\u001b[0m\u001b[1;33m)\u001b[0m\u001b[1;33m\u001b[0m\u001b[1;33m\u001b[0m\u001b[0m\n\u001b[0m",
      "\u001b[1;32m<ipython-input-9-24dec0390828>\u001b[0m in \u001b[0;36mmain\u001b[1;34m()\u001b[0m\n\u001b[0;32m      2\u001b[0m     \u001b[0mcontroller\u001b[0m \u001b[1;33m=\u001b[0m \u001b[0mQuoteTerminalController\u001b[0m\u001b[1;33m(\u001b[0m\u001b[1;33m)\u001b[0m\u001b[1;33m\u001b[0m\u001b[1;33m\u001b[0m\u001b[0m\n\u001b[0;32m      3\u001b[0m     \u001b[1;32mwhile\u001b[0m \u001b[1;32mTrue\u001b[0m\u001b[1;33m:\u001b[0m\u001b[1;33m\u001b[0m\u001b[1;33m\u001b[0m\u001b[0m\n\u001b[1;32m----> 4\u001b[1;33m         \u001b[0mcontroller\u001b[0m\u001b[1;33m.\u001b[0m\u001b[0mrun\u001b[0m\u001b[1;33m(\u001b[0m\u001b[1;33m)\u001b[0m\u001b[1;33m\u001b[0m\u001b[1;33m\u001b[0m\u001b[0m\n\u001b[0m\u001b[0;32m      5\u001b[0m \u001b[1;33m\u001b[0m\u001b[0m\n\u001b[0;32m      6\u001b[0m \u001b[1;32mif\u001b[0m \u001b[0m__name__\u001b[0m \u001b[1;33m==\u001b[0m \u001b[1;34m'__main__'\u001b[0m\u001b[1;33m:\u001b[0m\u001b[1;33m\u001b[0m\u001b[1;33m\u001b[0m\u001b[0m\n",
      "\u001b[1;32m<ipython-input-7-22a1287faa3f>\u001b[0m in \u001b[0;36mrun\u001b[1;34m(self)\u001b[0m\n\u001b[0;32m      7\u001b[0m         \u001b[1;32mwhile\u001b[0m \u001b[1;32mnot\u001b[0m \u001b[0mvalid_input\u001b[0m\u001b[1;33m:\u001b[0m\u001b[1;33m\u001b[0m\u001b[1;33m\u001b[0m\u001b[0m\n\u001b[0;32m      8\u001b[0m             \u001b[1;32mtry\u001b[0m\u001b[1;33m:\u001b[0m\u001b[1;33m\u001b[0m\u001b[1;33m\u001b[0m\u001b[0m\n\u001b[1;32m----> 9\u001b[1;33m                 \u001b[0mn\u001b[0m \u001b[1;33m=\u001b[0m \u001b[0mself\u001b[0m\u001b[1;33m.\u001b[0m\u001b[0mview\u001b[0m\u001b[1;33m.\u001b[0m\u001b[0mselect_quote\u001b[0m\u001b[1;33m(\u001b[0m\u001b[1;33m)\u001b[0m\u001b[1;33m\u001b[0m\u001b[1;33m\u001b[0m\u001b[0m\n\u001b[0m\u001b[0;32m     10\u001b[0m                 \u001b[0mn\u001b[0m \u001b[1;33m=\u001b[0m \u001b[0mint\u001b[0m\u001b[1;33m(\u001b[0m\u001b[0mn\u001b[0m\u001b[1;33m)\u001b[0m\u001b[1;33m\u001b[0m\u001b[1;33m\u001b[0m\u001b[0m\n\u001b[0;32m     11\u001b[0m                 \u001b[0mvalid_input\u001b[0m \u001b[1;33m=\u001b[0m \u001b[1;32mTrue\u001b[0m\u001b[1;33m\u001b[0m\u001b[1;33m\u001b[0m\u001b[0m\n",
      "\u001b[1;32m<ipython-input-5-4f924dce09ed>\u001b[0m in \u001b[0;36mselect_quote\u001b[1;34m(self)\u001b[0m\n\u001b[0;32m      5\u001b[0m         \u001b[0mprint\u001b[0m\u001b[1;33m(\u001b[0m\u001b[1;34mf'Error: {msg}'\u001b[0m\u001b[1;33m)\u001b[0m\u001b[1;33m\u001b[0m\u001b[1;33m\u001b[0m\u001b[0m\n\u001b[0;32m      6\u001b[0m     \u001b[1;32mdef\u001b[0m \u001b[0mselect_quote\u001b[0m\u001b[1;33m(\u001b[0m\u001b[0mself\u001b[0m\u001b[1;33m)\u001b[0m\u001b[1;33m:\u001b[0m\u001b[1;33m\u001b[0m\u001b[1;33m\u001b[0m\u001b[0m\n\u001b[1;32m----> 7\u001b[1;33m         \u001b[1;32mreturn\u001b[0m \u001b[0minput\u001b[0m\u001b[1;33m(\u001b[0m\u001b[1;34m'Which quote number would like to see? '\u001b[0m\u001b[1;33m)\u001b[0m\u001b[1;33m\u001b[0m\u001b[1;33m\u001b[0m\u001b[0m\n\u001b[0m",
      "\u001b[1;32mc:\\users\\vicktree\\appdata\\local\\programs\\python\\python39\\lib\\site-packages\\ipykernel\\kernelbase.py\u001b[0m in \u001b[0;36mraw_input\u001b[1;34m(self, prompt)\u001b[0m\n\u001b[0;32m    846\u001b[0m                 \u001b[1;34m\"raw_input was called, but this frontend does not support input requests.\"\u001b[0m\u001b[1;33m\u001b[0m\u001b[1;33m\u001b[0m\u001b[0m\n\u001b[0;32m    847\u001b[0m             )\n\u001b[1;32m--> 848\u001b[1;33m         return self._input_request(str(prompt),\n\u001b[0m\u001b[0;32m    849\u001b[0m             \u001b[0mself\u001b[0m\u001b[1;33m.\u001b[0m\u001b[0m_parent_ident\u001b[0m\u001b[1;33m,\u001b[0m\u001b[1;33m\u001b[0m\u001b[1;33m\u001b[0m\u001b[0m\n\u001b[0;32m    850\u001b[0m             \u001b[0mself\u001b[0m\u001b[1;33m.\u001b[0m\u001b[0m_parent_header\u001b[0m\u001b[1;33m,\u001b[0m\u001b[1;33m\u001b[0m\u001b[1;33m\u001b[0m\u001b[0m\n",
      "\u001b[1;32mc:\\users\\vicktree\\appdata\\local\\programs\\python\\python39\\lib\\site-packages\\ipykernel\\kernelbase.py\u001b[0m in \u001b[0;36m_input_request\u001b[1;34m(self, prompt, ident, parent, password)\u001b[0m\n\u001b[0;32m    890\u001b[0m             \u001b[1;32mexcept\u001b[0m \u001b[0mKeyboardInterrupt\u001b[0m\u001b[1;33m:\u001b[0m\u001b[1;33m\u001b[0m\u001b[1;33m\u001b[0m\u001b[0m\n\u001b[0;32m    891\u001b[0m                 \u001b[1;31m# re-raise KeyboardInterrupt, to truncate traceback\u001b[0m\u001b[1;33m\u001b[0m\u001b[1;33m\u001b[0m\u001b[1;33m\u001b[0m\u001b[0m\n\u001b[1;32m--> 892\u001b[1;33m                 \u001b[1;32mraise\u001b[0m \u001b[0mKeyboardInterrupt\u001b[0m\u001b[1;33m(\u001b[0m\u001b[1;34m\"Interrupted by user\"\u001b[0m\u001b[1;33m)\u001b[0m \u001b[1;32mfrom\u001b[0m \u001b[1;32mNone\u001b[0m\u001b[1;33m\u001b[0m\u001b[1;33m\u001b[0m\u001b[0m\n\u001b[0m\u001b[0;32m    893\u001b[0m             \u001b[1;32mexcept\u001b[0m \u001b[0mException\u001b[0m \u001b[1;32mas\u001b[0m \u001b[0me\u001b[0m\u001b[1;33m:\u001b[0m\u001b[1;33m\u001b[0m\u001b[1;33m\u001b[0m\u001b[0m\n\u001b[0;32m    894\u001b[0m                 \u001b[0mself\u001b[0m\u001b[1;33m.\u001b[0m\u001b[0mlog\u001b[0m\u001b[1;33m.\u001b[0m\u001b[0mwarning\u001b[0m\u001b[1;33m(\u001b[0m\u001b[1;34m\"Invalid Message:\"\u001b[0m\u001b[1;33m,\u001b[0m \u001b[0mexc_info\u001b[0m\u001b[1;33m=\u001b[0m\u001b[1;32mTrue\u001b[0m\u001b[1;33m)\u001b[0m\u001b[1;33m\u001b[0m\u001b[1;33m\u001b[0m\u001b[0m\n",
      "\u001b[1;31mKeyboardInterrupt\u001b[0m: Interrupted by user"
     ]
    }
   ],
   "source": [
    "def main():\n",
    "    controller = QuoteTerminalController()\n",
    "    while True:\n",
    "        controller.run()\n",
    "        \n",
    "if __name__ == '__main__':\n",
    "    main()"
   ]
  },
  {
   "cell_type": "markdown",
   "id": "featured-aquatic",
   "metadata": {},
   "source": [
    "## The Proxy Pattern"
   ]
  },
  {
   "cell_type": "markdown",
   "id": "signed-grace",
   "metadata": {},
   "source": [
    "- the `proxy` design pattern gets its name from the proxy object used to perform an important action before accessing the actual object"
   ]
  },
  {
   "cell_type": "markdown",
   "id": "amended-mercury",
   "metadata": {},
   "source": [
    "Four different well-known `proxy` types:\n",
    "- a `remote proxy`, which acts as the local representation of an object that really exists in a different address space (for example, a network server)\n",
    "- a `virtual proxy`, which uses lazy initialization to defer the creating of a computationally expensive object untill the moment it is actually needed\n",
    "- a `protection/protective proxy`, which controls access to a sensitive object\n",
    "- a `smart (reference) proxy`, which performs extra actions when an object is accessed; examples of such actions are reference counting and thread-safety checks"
   ]
  },
  {
   "cell_type": "markdown",
   "id": "becoming-impossible",
   "metadata": {},
   "source": [
    "- we will be implementiong a virtual proxy\n",
    "- first we create a `LazyProperty` class that can be used as a decorator\n",
    "- when it decorates property, `LazyProperty` loads the property lazily (on the first use), instead of instantly\n",
    "- the `__init__()` method creates two variables that are used as aliases to the method that initialize a property\n",
    "- the `method` variable is an alias to the actual method, and the `method_name` variable is an alias to the methods name"
   ]
  },
  {
   "cell_type": "markdown",
   "id": "adaptive-relevance",
   "metadata": {},
   "source": [
    "- to get a better understanding of how the two aliases are used, print their value to the output (uncomment the two commented lines in the code)"
   ]
  },
  {
   "cell_type": "code",
   "execution_count": 18,
   "id": "circular-parade",
   "metadata": {},
   "outputs": [],
   "source": [
    "class LazyProperty:\n",
    "    def __init__(self, method):\n",
    "        self.method = method\n",
    "        self.method_name = method.__name__\n",
    "        print(f\"function overriden: {self.method}\")\n",
    "        print(f\"function's name: {self.method_name}\")\n",
    "        \n",
    "    def __get__(self, obj, cls):\n",
    "        if not obj:\n",
    "            return None\n",
    "        value = self.method(obj)\n",
    "        print(f'value {value}')\n",
    "        setattr(obj, self.method_name, value)\n",
    "        return value"
   ]
  },
  {
   "cell_type": "markdown",
   "id": "sexual-result",
   "metadata": {},
   "source": [
    "- the `LazyProperty` class is actually a descriptor\n",
    "- descriptors are the reccomended mechanisms to use in Python to override the default behavior of its attributes access methods\n",
    "    - `__get__()`, `__set__()`, `__delete__()`\n",
    "- the `LazyProperty` class overrides only `__set__()` becuase that is the only accessed method it needs to override\n",
    "- in other words, we don't have to override all access methods\n",
    "- the `__get__()` method access the value of the property, the underlying method wants to assign, and use `setattr()` to do the assignment manually\n",
    "- what `__get__()` actually does is very neat; it replaces the method with the value!\n",
    "- this means that not only is the property lazily loaded, it can also be set only once"
   ]
  },
  {
   "cell_type": "markdown",
   "id": "hazardous-split",
   "metadata": {},
   "source": [
    "- the `Test` class shows how we can use the `LazyProperty` class\n",
    "- there are three attributes: `x`, `y`, and `_resource`\n",
    "- we want the `_resource` variable to be loaded lazily; \n",
    "- thus we initialize it to `None` "
   ]
  },
  {
   "cell_type": "code",
   "execution_count": 48,
   "id": "decreased-disco",
   "metadata": {},
   "outputs": [
    {
     "name": "stdout",
     "output_type": "stream",
     "text": [
      "function overriden: <function Test.resource at 0x0000028C891E8550>\n",
      "function's name: resource\n"
     ]
    }
   ],
   "source": [
    "class Test:\n",
    "    def __init__(self):\n",
    "        self.x = 'foo'\n",
    "        self.y = 'bar'\n",
    "        self._resource = None\n",
    "\n",
    "    @LazyProperty\n",
    "    def resource(self):\n",
    "        print(f'initializing self._resource which is: {self._resource}')\n",
    "        self._resource = tuple(range(5)) # expensive\n",
    "        return self._resource"
   ]
  },
  {
   "cell_type": "markdown",
   "id": "facial-officer",
   "metadata": {},
   "source": [
    "- the `resource()` method is decorated with the `LazyProperty` class\n",
    "- for demonstration purposes, the `LazyProperty` class initializes the `_resource` attributes as a tuple\n",
    "- normally this would be a slow/expensive initialization (database, graphics, and so on"
   ]
  },
  {
   "cell_type": "markdown",
   "id": "comprehensive-reynolds",
   "metadata": {},
   "source": [
    "- the `main()` function, as follows, shows how lazy initialization behaves"
   ]
  },
  {
   "cell_type": "code",
   "execution_count": 49,
   "id": "subject-flesh",
   "metadata": {},
   "outputs": [],
   "source": [
    "def main():\n",
    "    t = Test()\n",
    "    print(t.x)\n",
    "    print(t.y)\n",
    "    # do more work\n",
    "    print(t.resource)\n",
    "    print(t.resource)"
   ]
  },
  {
   "cell_type": "markdown",
   "id": "premier-tiffany",
   "metadata": {},
   "source": [
    "- notice how overriding the `__get__()` access method makes it possible to treat the `resource()` method as a simpel attribute\n",
    "- we can use `t.resource` instead of `t.resource()`"
   ]
  },
  {
   "cell_type": "markdown",
   "id": "challenging-corner",
   "metadata": {},
   "source": [
    "In executation output of this example, we can see that:\n",
    "- the `_resource` variable is indeed initialized not by the time the `t` instane is created, but the first time that we use `t.resource\n",
    "- the second time `t.resource` is used, the variable is not initialized again\n",
    "- that's why the initialization string initializing `self._resource` is shown only once"
   ]
  },
  {
   "cell_type": "code",
   "execution_count": 51,
   "id": "outer-howard",
   "metadata": {},
   "outputs": [
    {
     "name": "stdout",
     "output_type": "stream",
     "text": [
      "foo\n",
      "bar\n",
      "initializing self._resource which is: None\n",
      "value (0, 1, 2, 3, 4)\n",
      "(0, 1, 2, 3, 4)\n",
      "(0, 1, 2, 3, 4)\n"
     ]
    }
   ],
   "source": [
    "main()"
   ]
  },
  {
   "cell_type": "markdown",
   "id": "protecting-limit",
   "metadata": {},
   "source": [
    "there are two baisc, different kinds of lazy initialization in `OOP`\n",
    "- at the `instance level`: this means that an object's property is initialized lazily, but the property has an object scope. Each instance (object) of the same class has its own (different) copy of the property\n",
    "- at the `class or module level`: in this case, we do not want a different copy per instance, but all the instances share the same property, which is lazily initialized"
   ]
  },
  {
   "cell_type": "markdown",
   "id": "relative-percentage",
   "metadata": {},
   "source": [
    "### Real-World Examples"
   ]
  },
  {
   "cell_type": "markdown",
   "id": "polished-puppy",
   "metadata": {},
   "source": [
    "- the `Chip` in your card is a good example of how protective proxy is used in real life\n",
    "- the debit/card cintains a chip that first needs to be read by the `ATM` or card reaser\n",
    "- after the chip is verified, a password (PIN) is required to complete the transaction\n",
    "- this means that you cannot make any transactions without phyiscally presenting the card and knowing the PIN"
   ]
  },
  {
   "cell_type": "markdown",
   "id": "sustainable-recruitment",
   "metadata": {},
   "source": [
    "- in software, the `weakref` module of Python contains a `proxy()` method that accepts an input object and returns a smart proxy to it\n",
    "- Weak references are recommended way to add reference-counting support to an object"
   ]
  },
  {
   "cell_type": "markdown",
   "id": "qualified-possible",
   "metadata": {},
   "source": [
    "## Use Cases"
   ]
  },
  {
   "cell_type": "markdown",
   "id": "characteristic-delhi",
   "metadata": {},
   "source": [
    "- it is used when creating a distributed system using either a private network or the cloud\n",
    "- in a distributed system, some objects exist in the local memeory and some objects exist in the memory of remote computers. if we dont want the client code to be aware of such differences, we can create a remote proxy that hides/encapsulates them, making the distributed nature of the application transparent\n",
    "- it is used when our application is suffering from performace issues due to the early creation of expensive objects; introducing lazy initialization using a virtual proxy to create the objects only at the moment they are actually required can give us significant performance improvements\n",
    "- it is used to check if a user has sufficient privilages to access a piece of information; if our application handles sensitive information, we want to make sure that the user trying to access/modify it is allowed to do so. A protection/protective proxy can handle all security-related actions\n",
    "- it is used when our application (or library, framework, etc) uses multiple threads and we want to move the burdan of thread safety from the client code to the application. In this case, we can create a smart proxy to hide the thread-safety complexities from client\n",
    "- an `object-relational mapping` (`ORM`) API is also an example of how to use a remote proxy; `ORM` provides OOP-like access to a relational database. `ORM`'s act as a proxy to a relation database that can be actually located anywhere either at a local or remote server"
   ]
  },
  {
   "cell_type": "markdown",
   "id": "baking-criticism",
   "metadata": {},
   "source": [
    "### Implementation"
   ]
  },
  {
   "cell_type": "markdown",
   "id": "forced-march",
   "metadata": {},
   "source": [
    "we will implement a simple protection proxy to view and add users; the service provides two options:\n",
    "- `viewing the list of users`: the operation does not require special privileges\n",
    "- `adding a new user`: this operation requires the client to provide a speical secret message"
   ]
  },
  {
   "cell_type": "markdown",
   "id": "instructional-constitution",
   "metadata": {},
   "source": [
    "- the `SensitiverInfo` class contains the information that we want to protect\n",
    "- the users variable is the list of exisiting users\n",
    "- the `read()` method prints the list of the users\n",
    "- the `add()` method adds a new user to the list"
   ]
  },
  {
   "cell_type": "code",
   "execution_count": 52,
   "id": "threaded-throat",
   "metadata": {},
   "outputs": [],
   "source": [
    "class SensitiveInfo:\n",
    "    def __init__(self):\n",
    "        self.users = ['nick', 'tom', 'ben', 'mike']\n",
    "    def read(self):\n",
    "        nb = len(self.users)\n",
    "        print(f\"there are {nb} users: {' '.join(self.users)}\")\n",
    "    def add(self, user):\n",
    "        self.users.append(user)\n",
    "        print(f'Added user {user}')\n",
    "    "
   ]
  },
  {
   "cell_type": "markdown",
   "id": "magnetic-wyoming",
   "metadata": {},
   "source": [
    "- the `Info` class is a protection proxy of `SensitiveInfo`\n",
    "- the `secret` variable is the message required to be known/provided by the client code to add a new user\n",
    "- note that this is just an example; in reality, you should never store passwords like this"
   ]
  },
  {
   "cell_type": "markdown",
   "id": "thorough-blade",
   "metadata": {},
   "source": [
    "- the `Info` class, as we can see next, the `read()` method is a wrapper to `SensitiveInfo.read()` and `add()` method ensures that a new user can be adde "
   ]
  },
  {
   "cell_type": "code",
   "execution_count": 54,
   "id": "special-formation",
   "metadata": {},
   "outputs": [],
   "source": [
    "class Info:\n",
    "    '''protection proxy to SensitiveInfo'''\n",
    "    def __init__(self):\n",
    "        self.protected = SensitiveInfo()\n",
    "        self.secret = '0xdeadbeef'\n",
    "    def read(self):\n",
    "        self.protected.read()\n",
    "    def add(self, user):\n",
    "        sec = input('what is the secret? ')\n",
    "        self.protected.add(user) if sec == self.secret else print(\"That's wrong!\")"
   ]
  },
  {
   "cell_type": "code",
   "execution_count": 55,
   "id": "departmental-comparison",
   "metadata": {},
   "outputs": [],
   "source": [
    "def main():\n",
    "    info = Info()\n",
    "    while True:\n",
    "        print('1. read list |==| 3. add user |==| 3.quit')\n",
    "    if key == '1':\n",
    "        info.read()\n",
    "    elif key == '2':\n",
    "        name = input('choose username: ')\n",
    "        info.add(name)\n",
    "    elif key == '3':\n",
    "        exit()\n",
    "    else:\n",
    "        print(f'unknown option: {key}')\n",
    "        "
   ]
  }
 ],
 "metadata": {
  "kernelspec": {
   "display_name": "Python 3",
   "language": "python",
   "name": "python3"
  },
  "language_info": {
   "codemirror_mode": {
    "name": "ipython",
    "version": 3
   },
   "file_extension": ".py",
   "mimetype": "text/x-python",
   "name": "python",
   "nbconvert_exporter": "python",
   "pygments_lexer": "ipython3",
   "version": "3.9.2"
  }
 },
 "nbformat": 4,
 "nbformat_minor": 5
}
