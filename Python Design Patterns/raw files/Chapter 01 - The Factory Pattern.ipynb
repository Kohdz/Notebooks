{
 "cells": [
  {
   "cell_type": "markdown",
   "id": "imported-fault",
   "metadata": {},
   "source": [
    "## Overview"
   ]
  },
  {
   "cell_type": "markdown",
   "id": "accredited-computer",
   "metadata": {},
   "source": [
    "- factories typically come in two forms - the `factory method`, which is a method that returns a different object per input parameter and the `abstract factory`, which is a group of factory methods used to create a family of related objects"
   ]
  },
  {
   "cell_type": "markdown",
   "id": "hydraulic-bowling",
   "metadata": {},
   "source": [
    "## The Factory Method"
   ]
  },
  {
   "cell_type": "markdown",
   "id": "sixth-survivor",
   "metadata": {},
   "source": [
    "- the factory method is based on a single function written to handle our object creation taks\n",
    "- we execute it, passing a parameter that provides information about what we want and, as a result, the object is created"
   ]
  },
  {
   "cell_type": "markdown",
   "id": "quiet-munich",
   "metadata": {},
   "source": [
    "### Real-World Examples"
   ]
  },
  {
   "cell_type": "markdown",
   "id": "fundamental-decrease",
   "metadata": {},
   "source": [
    "- think of factory methods as a plastic toy construction kit\n",
    "- the molding material used to construct plaatic toys is the same, but different toys can be produced using the right plastic molds"
   ]
  },
  {
   "cell_type": "markdown",
   "id": "greatest-harvard",
   "metadata": {},
   "source": [
    "- this is like having a factory method in which the input is the name of the toy that we want (duck or car) and the output (after the modling) is the plastic toy that was requested"
   ]
  },
  {
   "cell_type": "markdown",
   "id": "about-garden",
   "metadata": {},
   "source": [
    "### Use Cases"
   ]
  },
  {
   "cell_type": "markdown",
   "id": "identical-stretch",
   "metadata": {},
   "source": [
    "- if you realize that you cannot track the objects created by your application because the code that creates them is in may different places instead of a dingle function/method, you should consider using the factory method pattern\n",
    "- the factory method centralize object creation and tracking your objects becomes much easier"
   ]
  },
  {
   "cell_type": "markdown",
   "id": "proud-reporter",
   "metadata": {},
   "source": [
    "- there is more than one factory method and each factory method logically groups the creation of objects that have similarities"
   ]
  },
  {
   "cell_type": "markdown",
   "id": "corresponding-hunger",
   "metadata": {},
   "source": [
    "- one factory method might be responsible for conencting you to a different database (`MySQL`, `SQLite`) and another factory method might be responsible for creating the geometrical object that you requested"
   ]
  },
  {
   "cell_type": "markdown",
   "id": "sudden-agenda",
   "metadata": {},
   "source": [
    "- fatory method is also useful when you want to decouple object creation from object usage\n",
    "- we are not coupled/bound to a specific class when creating an object; we just provide partial information about what we want by calling a function\n",
    "- this means that introducing changes to the function is easy and does not require any changes to the code"
   ]
  },
  {
   "cell_type": "markdown",
   "id": "noticed-africa",
   "metadata": {},
   "source": [
    "- another use case is related to improving performance and memory usage of an application\n",
    "- a factory method can improve the performance and memory usage by creating new objects only if its absolutely necessary\n",
    "- when we create objects using a direct class instantiation, extra memeory is allocated every time a new object is created\n",
    "- "
   ]
  },
  {
   "cell_type": "markdown",
   "id": "attended-integration",
   "metadata": {},
   "source": [
    "### Implementing the factory method"
   ]
  },
  {
   "cell_type": "markdown",
   "id": "acquired-sucking",
   "metadata": {},
   "source": [
    "- the two types of data files are `human-readable` or `binary`\n",
    "- we have some input data stored in an `XML` and a `JSON` file and we want to parse them and retrieve some information\n",
    "- at the same time we want to centralize the clients conenction to those (and all future) external services\n",
    "- we will use the factory method to solve the problem"
   ]
  },
  {
   "cell_type": "markdown",
   "id": "bigger-arctic",
   "metadata": {},
   "source": [
    "- the `JSON` is a data set containing information about movies\n",
    "- the `XML` file contains information baout individuals \n",
    "- we have the global container `persons` anf then their detials as tags\n",
    "- we can use two libraries to work with `JSON` and `XML`"
   ]
  },
  {
   "cell_type": "code",
   "execution_count": 2,
   "id": "lightweight-cotton",
   "metadata": {},
   "outputs": [],
   "source": [
    "import json\n",
    "import xml.etree.ElementTree as etree"
   ]
  },
  {
   "cell_type": "markdown",
   "id": "applicable-hayes",
   "metadata": {},
   "source": [
    "- the `JSONDataExtractor` class parses the JSON file and has a `parsed_data()` method that returns all data as a dictionary (`dict`)\n",
    "- the property decorator is used to make `parsed_data()` appear as a normal attribute instead of a method"
   ]
  },
  {
   "cell_type": "code",
   "execution_count": 3,
   "id": "laughing-marathon",
   "metadata": {},
   "outputs": [],
   "source": [
    "class JSONDataExtractor:\n",
    "    def __init__(self, filepath):\n",
    "        self.data = dict()\n",
    "        with open(filepath, mode='r', encoding='utfc') as f:\n",
    "            self.data = json.load(f)\n",
    "        \n",
    "        @property\n",
    "        def parsed_data(self):\n",
    "            return self.data"
   ]
  },
  {
   "cell_type": "markdown",
   "id": "twenty-cliff",
   "metadata": {},
   "source": [
    "- the `XMLDataExtractor` class parses the XML file and has a `parsed_data()` method that returns all data as a list of `xml.etree.Element`"
   ]
  },
  {
   "cell_type": "code",
   "execution_count": 4,
   "id": "governmental-creature",
   "metadata": {},
   "outputs": [],
   "source": [
    "class XMLDataExtractor:\n",
    "    def __init__(self, filepath):\n",
    "        self.tree = etree.parse(filepath)\n",
    "    \n",
    "    @property\n",
    "    def parsed_data(self):\n",
    "        return self.tree"
   ]
  },
  {
   "cell_type": "markdown",
   "id": "mechanical-pocket",
   "metadata": {},
   "source": [
    "- the `dataextraction_factory()` function is a factory method\n",
    "- it returns an instance of `JSONDataExtractor` or `XMLDataExtractor` depending on the extension of the input file path as "
   ]
  },
  {
   "cell_type": "code",
   "execution_count": 7,
   "id": "announced-monaco",
   "metadata": {},
   "outputs": [],
   "source": [
    "def dataextraction_factory(filepath):\n",
    "    if filepath.endswith('json'):\n",
    "        extractor = JSONDataExtractor\n",
    "    elif filepath.endswith('xml'):\n",
    "        extractor = XMLDataExtractor\n",
    "    else:\n",
    "        raise ValueError('Cannot extract data from {}'.format(filepath))\n",
    "    return extractor(filepath)"
   ]
  },
  {
   "cell_type": "markdown",
   "id": "baking-celtic",
   "metadata": {},
   "source": [
    "- the `extract_data_from()` function is a wrapper of `dataextraction_factory()`\n",
    "- it adds exception handling as follows"
   ]
  },
  {
   "cell_type": "code",
   "execution_count": 8,
   "id": "grave-imagination",
   "metadata": {},
   "outputs": [],
   "source": [
    "def extract_data_from(filepath):\n",
    "    factory_obj = None\n",
    "    try:\n",
    "        factory_obj = dataextraction_factory(filepath)\n",
    "    except ValueError as e:\n",
    "        print(e)\n",
    "    return factory_obj"
   ]
  },
  {
   "cell_type": "markdown",
   "id": "rotary-pepper",
   "metadata": {},
   "source": [
    "- the `main` function demonstrates how the factory method design pattern can be used\n",
    "- the first part makes sure that exception handling is effective"
   ]
  },
  {
   "cell_type": "code",
   "execution_count": 9,
   "id": "answering-community",
   "metadata": {},
   "outputs": [],
   "source": [
    "def main():\n",
    "    sqlite_factory = extract_data_from('data/person.sq3')"
   ]
  },
  {
   "cell_type": "code",
   "execution_count": 12,
   "id": "pediatric-recovery",
   "metadata": {},
   "outputs": [],
   "source": [
    "# json_factory = extract_data_from('data/movies.json')\n",
    "# xml_factory = extract_data_from('data/person.xml')"
   ]
  },
  {
   "cell_type": "markdown",
   "id": "cross-equivalent",
   "metadata": {},
   "source": [
    "## Abstract Factory"
   ]
  },
  {
   "cell_type": "markdown",
   "id": "respective-yesterday",
   "metadata": {},
   "source": [
    "- the `abstract factory` design pattern is a generalization of the factory method\n",
    "- basically an `abstract factory` is a (logical) group of factory methods, where each factory method is responsible for generating a different kind of object"
   ]
  },
  {
   "cell_type": "markdown",
   "id": "million-cedar",
   "metadata": {},
   "source": [
    "### Real-World Examples"
   ]
  },
  {
   "cell_type": "markdown",
   "id": "included-press",
   "metadata": {},
   "source": [
    "- abstract factory is used in car manufacturing\n",
    "- the same machinery is used for stamping the parts (doors, pannels, hoods) of different car models\n",
    "- the model that is assembled by the machinery is configurable and easy to change at any time"
   ]
  },
  {
   "cell_type": "markdown",
   "id": "amber-boxing",
   "metadata": {},
   "source": [
    "- the `factory_boy` provides an abstract factory implementation for creating Django models in tests\n",
    "- it is used for creating instances of models that support `test-specific attributes`"
   ]
  },
  {
   "cell_type": "markdown",
   "id": "enormous-thousand",
   "metadata": {},
   "source": [
    "### Use Cases"
   ]
  },
  {
   "cell_type": "markdown",
   "id": "powerful-spelling",
   "metadata": {},
   "source": [
    "- sicne the abstract factory pattern is a generalization of the factory method pattern, it offers the same benefits, it makes tracking an object creation easier\n",
    "- it decouples object creation from object usage and it gives us the potential to improve the memeory usage and performance of our application"
   ]
  },
  {
   "cell_type": "markdown",
   "id": "numeric-metabolism",
   "metadata": {},
   "source": [
    "- always start with the `factory method` and if you find your application requiring many `factory methods` its time to switch to the `abstract factory` method "
   ]
  },
  {
   "cell_type": "markdown",
   "id": "corporate-hindu",
   "metadata": {},
   "source": [
    "- another importat benefit is that it gives us the ability to modify the behavior of our application dynamically (at runtime) by changing the active factory method"
   ]
  },
  {
   "cell_type": "markdown",
   "id": "sharing-texture",
   "metadata": {},
   "source": [
    "### Implementing the Abstract Factory pattern"
   ]
  },
  {
   "cell_type": "markdown",
   "id": "alternative-stand",
   "metadata": {},
   "source": [
    "- imagine we are creating a game or we want to include a mini-game as part of our application to entertain our users\n",
    "- we want to include at least two games, one for children and one for adults\n",
    "- we will decide which game to create and launch at runtime, based on user input"
   ]
  },
  {
   "cell_type": "markdown",
   "id": "banned-jefferson",
   "metadata": {},
   "source": [
    "- lets start with the kids game, called `FrogWorld`\n",
    "- the main hero is a frog who enjoys eating bugs\n",
    "- every hero needs a good name and the name is given by the user at runtime\n",
    "- the `interact_with()` method is used to describe the interaction of the frog with an obstacle"
   ]
  },
  {
   "cell_type": "code",
   "execution_count": 15,
   "id": "formal-lawrence",
   "metadata": {},
   "outputs": [],
   "source": [
    "class Frog:\n",
    "    def __init__(self, name):\n",
    "        self.name = name\n",
    "        \n",
    "    def __str__(self):\n",
    "        return self.name\n",
    "    \n",
    "    def interact_with(self, obstacle):\n",
    "        act = obstacle.action()\n",
    "        msg = f'{self} the Frong encounters {obstacle} and {act}'\n",
    "        print(msg)\n",
    "        "
   ]
  },
  {
   "cell_type": "markdown",
   "id": "finite-nickname",
   "metadata": {},
   "source": [
    "- there can be many different kinds of obstacles but for our example, an obstacle can only be a bug\n",
    "- when the frog encounters a bug, only one action is supported, it eats it"
   ]
  },
  {
   "cell_type": "code",
   "execution_count": 16,
   "id": "consolidated-boating",
   "metadata": {},
   "outputs": [],
   "source": [
    "class Bug:\n",
    "    def __str__(self):\n",
    "        return 'a bug'\n",
    "    \n",
    "    def action(self):\n",
    "        return 'eats it'"
   ]
  },
  {
   "cell_type": "markdown",
   "id": "important-fiber",
   "metadata": {},
   "source": [
    "- the `FrogWorld` class is an abstract factory\n",
    "- its main responsibilities are creating the main character and the obstacles in the game\n",
    "- keeping the creating methods separate and their names generic (for example `make_character()` and `make_obstacle()` allows us to change the active factory (and therefore the active game) dynamically without any code changes\n",
    "- in a statically typed language, the abstract factory would be an abstract class/interface with empty methods, but in Python, this is not required because the types are checked at runtime"
   ]
  },
  {
   "cell_type": "code",
   "execution_count": null,
   "id": "retired-brave",
   "metadata": {},
   "outputs": [],
   "source": [
    "class FrogWorld:\n",
    "    def __init__(self, name):\n",
    "        print(self)\n",
    "        self.player_name = name\n",
    "        \n",
    "    def __str__(self):\n",
    "        return '\\n\\n\\t-------- Frog World -------'\n",
    "    \n",
    "    def make_character(self):\n",
    "        return Frog(self.player_name)\n",
    "    \n",
    "    def make_obstacle(self):\n",
    "        return Bug()"
   ]
  },
  {
   "cell_type": "markdown",
   "id": "organizational-exhibition",
   "metadata": {},
   "source": [
    "- the `WizardWorld` game is similar\n",
    "- the only difference is that the wizard battles against monsters such as `orks` instead of eating bugs"
   ]
  },
  {
   "cell_type": "code",
   "execution_count": 18,
   "id": "contemporary-mayor",
   "metadata": {},
   "outputs": [],
   "source": [
    "class Wizard:\n",
    "    def __init__(self, name):\n",
    "        self.name = name\n",
    "        \n",
    "    def __str__(self):\n",
    "        return self.name\n",
    "    \n",
    "    def interact_with(self, obstacle):\n",
    "        act = obstacle.action()\n",
    "        msg = f'{self} the Wizard battles against {obstacle} and {act}!'\n",
    "        print(msg)\n",
    "        \n",
    "class Ork:\n",
    "    def __str__(self):\n",
    "        return 'an evil ork'\n",
    "    \n",
    "    def action(self):\n",
    "        return 'kills it'\n"
   ]
  },
  {
   "cell_type": "markdown",
   "id": "south-effects",
   "metadata": {},
   "source": [
    "- we also need to define the `WizardWorld` class similar to the `FrogWorld` one that we have discussed"
   ]
  },
  {
   "cell_type": "code",
   "execution_count": null,
   "id": "undefined-oasis",
   "metadata": {},
   "outputs": [],
   "source": [
    "class WizardWorld:\n",
    "    def __init__(self, name):\n",
    "        print(self)\n",
    "        self.player_name = name\n",
    "        \n",
    "    def __str__(self):\n",
    "        return '\\n\\n\\t------- Wizard World -------'\n",
    "    \n",
    "    def make_character(self):\n",
    "        return Wizard(self.player_name)\n",
    "    \n",
    "    def make_obstacle(self):\n",
    "        return Ork()"
   ]
  },
  {
   "cell_type": "markdown",
   "id": "transparent-guide",
   "metadata": {},
   "source": [
    "- the `GameEnvironment` class is the main entry point of our game\n",
    "- it accepts the factory as an input and uses it to create the world of the game\n",
    "- the `play()` method initates the interaction betweeen the created hero and the obstacle"
   ]
  },
  {
   "cell_type": "code",
   "execution_count": 19,
   "id": "typical-gregory",
   "metadata": {},
   "outputs": [],
   "source": [
    "class GameEnvironment:\n",
    "    def __init__(self, factory):\n",
    "        self.hero = factory.make_character()\n",
    "        self.obstacle = factory.make_obstacle()\n",
    "        \n",
    "    def play(self):\n",
    "        self.hero.interact_with(self.obstacle)"
   ]
  },
  {
   "cell_type": "markdown",
   "id": "based-reset",
   "metadata": {},
   "source": [
    "- the `validate_age()` function prompts the user to give a valid age\n",
    "- if the age is not valid, it returns a tuple with the first element set to `False`\n",
    "- if the age is fine, the first element of the tuple is set to `True` and thats the case where we actually care about the second element of the tuple, which is the age given by the user"
   ]
  },
  {
   "cell_type": "code",
   "execution_count": 21,
   "id": "statistical-construction",
   "metadata": {},
   "outputs": [],
   "source": [
    "def validate_age(name):\n",
    "    try:\n",
    "        age = input(f'Welcome {name}. How old are you? ')\n",
    "        age = int(age)\n",
    "    except ValueError as err:\n",
    "        print(f\"Age {age} is invalid, please try again...\")\n",
    "        return (False, age)\n",
    "        return (True, age)"
   ]
  },
  {
   "cell_type": "markdown",
   "id": "occupied-corps",
   "metadata": {},
   "source": [
    "- finally, we need the `main()` function\n",
    "- it asks for the user's name and age, and decides which game should be palyed, given the age of the user, as follows"
   ]
  },
  {
   "cell_type": "code",
   "execution_count": null,
   "id": "alive-encoding",
   "metadata": {},
   "outputs": [],
   "source": [
    "def main():\n",
    "    name = input('Hello. Whats your name? ')\n",
    "    valid_input = False\n",
    "    while not valid_input:\n",
    "        valid_input, agae = validate_age(name)\n",
    "    game = FrogWorld if age < 18 else WizardWorld\n",
    "    environment = GameEnvironment(game(name))\n",
    "    environment.play()"
   ]
  }
 ],
 "metadata": {
  "kernelspec": {
   "display_name": "Python 3",
   "language": "python",
   "name": "python3"
  },
  "language_info": {
   "codemirror_mode": {
    "name": "ipython",
    "version": 3
   },
   "file_extension": ".py",
   "mimetype": "text/x-python",
   "name": "python",
   "nbconvert_exporter": "python",
   "pygments_lexer": "ipython3",
   "version": "3.9.2"
  }
 },
 "nbformat": 4,
 "nbformat_minor": 5
}
