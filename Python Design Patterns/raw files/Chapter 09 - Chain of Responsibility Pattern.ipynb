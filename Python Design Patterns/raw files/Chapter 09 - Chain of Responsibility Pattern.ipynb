{
 "cells": [
  {
   "cell_type": "markdown",
   "id": "loved-revolution",
   "metadata": {},
   "source": [
    " ## Overview"
   ]
  },
  {
   "cell_type": "markdown",
   "id": "medical-credit",
   "metadata": {},
   "source": [
    "- the `Chain of Responsibility` pattern is used when we want to give a chance to multiple objects to satisfy a single request, or when we don't know in advance which object (form a chain of objects) should process a specific request"
   ]
  },
  {
   "cell_type": "markdown",
   "id": "welcome-daniel",
   "metadata": {},
   "source": [
    "imagine a chain (linked list, tree, or any other convient data structure) of objects, and the following flow:\n",
    "1. we start by sending a request to the first object in the chain\n",
    "2. the object decides whether it should satisfy the request or not\n",
    "3. the object forwards the request to the next object\n",
    "4. the procedure is repeated untill we reach the end of the chain"
   ]
  },
  {
   "cell_type": "markdown",
   "id": "adopted-surname",
   "metadata": {},
   "source": [
    "- at the application level, instead of talking about cables or network nodes, we can focus on objects and the flow of a request\n",
    "- the client code can send a request to the `first` processing element\n",
    "- each processing element knows about its `successor` and not all processing element\n",
    "- this is usually a one-way relationship,  which in programming terms means a signly linked list in contrast to a doubly linked list\n",
    "- a singly linked list does not allow navigation in both ways, while a doubly linked list allows that\n",
    "- this chain organization is used for a good reason as it achieves decoupling between the sender (`client`) and the recievers (`processing elements`)"
   ]
  },
  {
   "cell_type": "markdown",
   "id": "blind-location",
   "metadata": {},
   "source": [
    "## Real-World Examples"
   ]
  },
  {
   "cell_type": "markdown",
   "id": "express-appliance",
   "metadata": {},
   "source": [
    "- `ATMs` and any kind of machine that accepts/returns banknotes or coins (for example, a snack-vending maching) use the `Chain of Responsibility` pattern\n",
    "- there is always a single slot for all banknotes\n",
    "- when a banknote is dropped, it is routed to the appropriate receptacle\n",
    "- when it is returned, it is taken from the appropriate receptacle"
   ]
  },
  {
   "cell_type": "markdown",
   "id": "smaller-antenna",
   "metadata": {},
   "source": [
    "## Use cases"
   ]
  },
  {
   "cell_type": "markdown",
   "id": "median-reaction",
   "metadata": {},
   "source": [
    "- by using the `Chain of Responsibility` pattern, we provide a chance to a number of different objects to satisfy a specific request\n",
    "- this is useful  when we dont know which object should satisfy a request in advance\n",
    "- an example is a purchase system\n",
    "    - there are many approval authorties\n",
    "    - one approval authority might be able to order up to a certain value like 100 dollars\n",
    "    - if the order is for more than 100 dollars, the order is sent to the next approval authority in the chain that can approve orders up to 200 dollars"
   ]
  },
  {
   "cell_type": "markdown",
   "id": "deluxe-magazine",
   "metadata": {},
   "source": [
    "- another case where the `Chain of Responsibility` is useful is when we know that more than one object might need to process a single request\n",
    "- this is what happens in event-based programming\n",
    "- a signle event, such as a left-mouse click, can be caught by more than one listener"
   ]
  },
  {
   "cell_type": "markdown",
   "id": "every-school",
   "metadata": {},
   "source": [
    "- the `Chain of Responsibility` pattern is not very useful if all the requests can be taken care of by a single processing element, unless we really dont know which element that is\n",
    "- the value of this pattern is the decoupling that it offers\n",
    "- instead of having many-to-many relationship with a client and all processing elements \n",
    "    - and the same is true regarding the relationship between a processing element and all other processing elements\n",
    "- a client only needs to know how to communicate witht he start (head) of the chain"
   ]
  },
  {
   "cell_type": "markdown",
   "id": "framed-worst",
   "metadata": {},
   "source": [
    "![](images/01.png)"
   ]
  },
  {
   "cell_type": "markdown",
   "id": "israeli-forty",
   "metadata": {},
   "source": [
    "## Implementation"
   ]
  },
  {
   "cell_type": "markdown",
   "id": "cordless-crossing",
   "metadata": {},
   "source": [
    "- we will be using `Vespe's` implementation which uses dynamic dispatching in a Pythonic style to handle requests"
   ]
  },
  {
   "cell_type": "markdown",
   "id": "medium-workplace",
   "metadata": {},
   "source": [
    "![](images/02.png)"
   ]
  },
  {
   "cell_type": "markdown",
   "id": "human-supervision",
   "metadata": {},
   "source": [
    "- the `Event` class describes an event"
   ]
  },
  {
   "cell_type": "code",
   "execution_count": 1,
   "id": "precise-bookmark",
   "metadata": {},
   "outputs": [],
   "source": [
    "class Event:\n",
    "    def __init__(self, name):\n",
    "        self.name = name\n",
    "    \n",
    "    def __str__(self):\n",
    "        return self.name"
   ]
  },
  {
   "cell_type": "markdown",
   "id": "center-pioneer",
   "metadata": {},
   "source": [
    "- the `Widget` class is the core class of the application\n",
    "- the `parent` aggregation shown in the `UML` diagram indicates that each widget can have a reference to a `parent` object, which by convention, we assume is a `Widget` instance\n",
    "- note, howerver, that according to the rules of inheritance, an instance of any subclass of `Widget` (like `MsgText`) is also an instance of `Widget`\n",
    "- the default value of `parent` is `None`"
   ]
  },
  {
   "cell_type": "markdown",
   "id": "australian-bottom",
   "metadata": {},
   "source": [
    "- the `handle()` method uses dynamic dispatching through `hasattr()` and `getattr()` to decide who is handler of a specific request (event)\n",
    "- if the widget that is asked to handle and event does not support it, there are two fallback mechanisms"
   ]
  },
  {
   "cell_type": "code",
   "execution_count": 3,
   "id": "dedicated-default",
   "metadata": {},
   "outputs": [],
   "source": [
    "class Widget:\n",
    "    def __init__(self, parent=None):\n",
    "        self.parent = parent\n",
    "        \n",
    "    def handle(self, event):\n",
    "        handler = f'handle_{event}'\n",
    "        \n",
    "        if hasattr(self, handler):\n",
    "            method = getattr(self, handler)\n",
    "            method(event)\n",
    "        elif self.parent is not None:\n",
    "            self.parent.handle(event)\n",
    "        elif hasattr(self, 'handle_default'):\n",
    "            self.handle_default(event)\n",
    "        "
   ]
  },
  {
   "cell_type": "markdown",
   "id": "developed-biology",
   "metadata": {},
   "source": [
    "- on a note, you might be thinking why the `Widget` and `Event` classes are only associated (no aggregation or composition relationship) in the diagram above\n",
    "- the association is used to show that the `Widget` class knows about the `Event` class but does not have any strict references to it, since an event needs to be passed only as a parameter to `handle()`"
   ]
  },
  {
   "cell_type": "markdown",
   "id": "invalid-commons",
   "metadata": {},
   "source": [
    "- `MainWindow`, `MsgText`, and `SendDialog` are all widgets with different behaviors\n",
    "- not all these three widgets are expected to be able to handle the same events, and even if they can handle the same event, they might behave differently"
   ]
  },
  {
   "cell_type": "markdown",
   "id": "royal-advance",
   "metadata": {},
   "source": [
    "- `MainWindow` can handle only the close and default events"
   ]
  },
  {
   "cell_type": "code",
   "execution_count": 4,
   "id": "stock-capital",
   "metadata": {},
   "outputs": [],
   "source": [
    "class MainWindow(Widget):\n",
    "    def handle_close(self, event):\n",
    "        print(f'MainWindow: {event}')\n",
    "    \n",
    "    def handle_default(self, event):\n",
    "        print(f'MainWindow Default: {event}')"
   ]
  },
  {
   "cell_type": "markdown",
   "id": "seeing-night",
   "metadata": {},
   "source": [
    "- `SendDialog` can also handle only the paint event"
   ]
  },
  {
   "cell_type": "code",
   "execution_count": 5,
   "id": "spectacular-consortium",
   "metadata": {},
   "outputs": [],
   "source": [
    "class SendDialog(Widget):\n",
    "    def handle_paint(self, event):\n",
    "        print(f'SendDialog: {event}')"
   ]
  },
  {
   "cell_type": "markdown",
   "id": "toxic-mechanics",
   "metadata": {},
   "source": [
    "- Finally `MsgText` can handle only the down event"
   ]
  },
  {
   "cell_type": "code",
   "execution_count": 6,
   "id": "heard-marble",
   "metadata": {},
   "outputs": [],
   "source": [
    "class MsgText(Widget):\n",
    "    def handle_down(self, event):\n",
    "        print(f'MsgText: {event}')"
   ]
  },
  {
   "cell_type": "markdown",
   "id": "needed-gentleman",
   "metadata": {},
   "source": [
    "- the `main()` function shows how we can create a few widgets and events, and how the widget react to those events\n",
    "- all events are sent to all the widgets\n",
    "- note the parent relationship of each widget\n",
    "- the `sd` object (and instance of `SendDialog`) has as its parent the `mw` object (an instance of `MainWindow`)\n",
    "- howerver, not all objects need to have a parent that is an instance of `MainWindow`\n",
    "- for example, the `msg` object (an instance of `MsgText`) has the `sd` object as a parent"
   ]
  },
  {
   "cell_type": "code",
   "execution_count": 8,
   "id": "worse-terminology",
   "metadata": {},
   "outputs": [
    {
     "name": "stdout",
     "output_type": "stream",
     "text": [
      "Sending event -down- to MainWindow\n",
      "MainWindow Default: down\n",
      "Sending event -down- to SendDialog\n",
      "MainWindow Default: down\n",
      "Sending event -down- to MsgText\n",
      "MsgText: down\n",
      "Sending event -paint- to MainWindow\n",
      "MainWindow Default: paint\n",
      "Sending event -paint- to SendDialog\n",
      "SendDialog: paint\n",
      "Sending event -paint- to MsgText\n",
      "SendDialog: paint\n",
      "Sending event -unhandled- to MainWindow\n",
      "MainWindow Default: unhandled\n",
      "Sending event -unhandled- to SendDialog\n",
      "MainWindow Default: unhandled\n",
      "Sending event -unhandled- to MsgText\n",
      "MainWindow Default: unhandled\n",
      "Sending event -close- to MainWindow\n",
      "MainWindow: close\n",
      "Sending event -close- to SendDialog\n",
      "MainWindow: close\n",
      "Sending event -close- to MsgText\n",
      "MainWindow: close\n"
     ]
    }
   ],
   "source": [
    "def main():\n",
    "    mw = MainWindow()\n",
    "    sd = SendDialog(mw)\n",
    "    msg = MsgText(sd)\n",
    "    \n",
    "    for e in ('down', 'paint', 'unhandled', 'close'):\n",
    "        evt = Event(e)\n",
    "        print(f'Sending event -{evt}- to MainWindow')\n",
    "        mw.handle(evt)\n",
    "        print(f'Sending event -{evt}- to SendDialog')\n",
    "        sd.handle(evt)\n",
    "        print(f'Sending event -{evt}- to MsgText')\n",
    "        msg.handle(evt)\n",
    "        \n",
    "main()"
   ]
  }
 ],
 "metadata": {
  "kernelspec": {
   "display_name": "Python 3",
   "language": "python",
   "name": "python3"
  },
  "language_info": {
   "codemirror_mode": {
    "name": "ipython",
    "version": 3
   },
   "file_extension": ".py",
   "mimetype": "text/x-python",
   "name": "python",
   "nbconvert_exporter": "python",
   "pygments_lexer": "ipython3",
   "version": "3.9.2"
  }
 },
 "nbformat": 4,
 "nbformat_minor": 5
}
