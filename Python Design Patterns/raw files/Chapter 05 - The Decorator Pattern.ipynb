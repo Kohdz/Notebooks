{
 "cells": [
  {
   "cell_type": "markdown",
   "id": "impressive-palestine",
   "metadata": {},
   "source": [
    "## Overview"
   ]
  },
  {
   "cell_type": "markdown",
   "id": "phantom-response",
   "metadata": {},
   "source": [
    "- also a `structural pattern`\n",
    "- structural patterns encourage composition over inheritance\n",
    "- the `decorator` pattern allows a programmer to add responsibilities to an object dynamically, and in a transparent manner"
   ]
  },
  {
   "cell_type": "markdown",
   "id": "reliable-single",
   "metadata": {},
   "source": [
    "- in python, we can write decorators in a pythonic way using the build in decorator feature\n",
    "- a python decorator is a `callable` (function, method, or class) that gets a function object `func_in` as input and returns another function object `func_out`\n",
    "- there is a one-to-one relationship between a decorator pattern and python's decorator feature\n",
    "- python's decorators can actually do much more than the decorator pattern"
   ]
  },
  {
   "cell_type": "markdown",
   "id": "former-south",
   "metadata": {},
   "source": [
    "## Use Cases"
   ]
  },
  {
   "cell_type": "markdown",
   "id": "frank-jordan",
   "metadata": {},
   "source": [
    "- the decorator pattern shines when used for implementing cross-cutting concerns\n",
    "- example of cross-cutting concerns are:\n",
    "    - data validation\n",
    "    - caching\n",
    "    - logging\n",
    "    - monitoring\n",
    "    - debugging\n",
    "    - business rules\n",
    "    - encryption"
   ]
  },
  {
   "cell_type": "markdown",
   "id": "received-circus",
   "metadata": {},
   "source": [
    "- in general, all parts of an application that are generic and can be applied to many other parts of it are considered to be corss-cutting concerns\n",
    "- another popular example of using the decorator pattern is `GUI` toolkits\n",
    "- in a GUI toolkit, we want to be able to add features such as borders, shadows, colors and scrolling to individual components/widgets"
   ]
  },
  {
   "cell_type": "markdown",
   "id": "loved-psychology",
   "metadata": {},
   "source": [
    "## Implementation"
   ]
  },
  {
   "cell_type": "markdown",
   "id": "compact-commonwealth",
   "metadata": {},
   "source": [
    "- as an example we will implment a memoization decorator"
   ]
  },
  {
   "cell_type": "code",
   "execution_count": 2,
   "id": "entertaining-creator",
   "metadata": {},
   "outputs": [
    {
     "name": "stdout",
     "output_type": "stream",
     "text": [
      "Time:  6.310352899999998\n"
     ]
    }
   ],
   "source": [
    "def number_sum(n):\n",
    "    '''Returns the sum of the first n numbers'''\n",
    "    assert(n >= 0), 'n must be >= 0'\n",
    "    if n == 0:\n",
    "        return 0\n",
    "    else:\n",
    "        return n + number_sum(n-1)\n",
    "    \n",
    "if __name__ == '__main__':\n",
    "    from timeit import Timer\n",
    "    t = Timer('number_sum(30)', 'from __main__ import number_sum')\n",
    "    print('Time: ', t.timeit())"
   ]
  },
  {
   "cell_type": "markdown",
   "id": "distributed-forum",
   "metadata": {},
   "source": [
    "- it takes 6 seconds to do this calculation\n",
    "- we can memoize to improve the performance number\n",
    "- in the code, we use a `dict` for caching the already computed sums\n",
    "- we will also change the parameter passed to the `number_sum()` function\n",
    "- we want to calculate the sum of the first 300 numbers instead of only the first 30"
   ]
  },
  {
   "cell_type": "code",
   "execution_count": 3,
   "id": "recreational-technique",
   "metadata": {},
   "outputs": [
    {
     "name": "stdout",
     "output_type": "stream",
     "text": [
      "Time:  0.25533679999989545\n"
     ]
    }
   ],
   "source": [
    "sum_cache = {0:0}\n",
    "\n",
    "def number_sum(n):\n",
    "    assert (n >= 0), 'n numst be >= 0'\n",
    "    if n in sum_cache:\n",
    "        return sum_cache[n]\n",
    "    res = n + number_sum(n-1)\n",
    "    # add the value to the cache\n",
    "    sum_cache[n] = res\n",
    "    return res\n",
    "\n",
    "if __name__ == '__main__':\n",
    "    from timeit import Timer\n",
    "    t = Timer('number_sum(30)', 'from __main__ import number_sum')\n",
    "    print('Time: ', t.timeit())"
   ]
  },
  {
   "cell_type": "markdown",
   "id": "prospective-coaching",
   "metadata": {},
   "source": [
    "- there are already a few problems with this approach\n",
    "- the code is not as clean as it was when not using memoization\n",
    "- the code is also not reusable, if for instance, we wanted to get the fibonacci number"
   ]
  },
  {
   "cell_type": "markdown",
   "id": "lesbian-relations",
   "metadata": {},
   "source": [
    "- to solve the problem, we first create a `memoize()` decorator \n",
    "- our decorator accepts the function `fn` that needs to be memoized as an imput\n",
    "- it uses a `dict` names `cache` as the cached data container\n",
    "- the `functools.wraps()` function is used for convenience when creating decorators\n",
    "- it is not mandatory but a good pratice to use it, since it makes sure that the documentation, and the signature of the function that is decorated, are preserved\n",
    "- the argument list `*args` is required in this case because the functions that we want to decorate accepts input arguments"
   ]
  },
  {
   "cell_type": "code",
   "execution_count": 4,
   "id": "progressive-nomination",
   "metadata": {},
   "outputs": [],
   "source": [
    "import functools\n",
    "\n",
    "def memoize(fn):\n",
    "    cache = dict()\n",
    "    \n",
    "    @functools.wraps(fn)\n",
    "    def memoizer(*args):\n",
    "        if args not in cache:\n",
    "            cache[args] = fn(*args)\n",
    "        return cache[args]\n",
    "    return memoizer"
   ]
  },
  {
   "cell_type": "markdown",
   "id": "finite-geometry",
   "metadata": {},
   "source": [
    "- now we can use our `memoize()` decorator with the naive version of our functions\n",
    "- we apply the decorator using the `@name` syntax"
   ]
  },
  {
   "cell_type": "code",
   "execution_count": 6,
   "id": "electric-kitchen",
   "metadata": {},
   "outputs": [],
   "source": [
    "@memoize\n",
    "\n",
    "def number_sum(n):\n",
    "    '''Returns the sum of the first n numbers'''\n",
    "    assert(n >= 0), 'n must be >= 0'\n",
    "    if n == 0:\n",
    "        return 0\n",
    "    else:\n",
    "        return n + number_sum(n-1)\n",
    "\n",
    "@memoize\n",
    "def fibonacci(n):\n",
    "    '''Returns the suite of Fibonacci numbers'''\n",
    "    assert(n >= 0), 'n must be >= 0'\n",
    "    if n in (0, 1):\n",
    "        return n\n",
    "    else:\n",
    "        return fibonacci(n-1) + fibonacci(n-2)\n"
   ]
  },
  {
   "cell_type": "markdown",
   "id": "danish-anthony",
   "metadata": {},
   "source": [
    "- in the last part oif the code, via `main()` we can see how to use the decorated functions and measure their performance\n",
    "- the `to_execute` variable is used to hold a list of tuples containing the refrence to each function and the corresponding `timeit.Timer()` call"
   ]
  },
  {
   "cell_type": "code",
   "execution_count": 7,
   "id": "senior-heritage",
   "metadata": {},
   "outputs": [
    {
     "name": "stdout",
     "output_type": "stream",
     "text": [
      "Function \"number_sum\": Returns the sum of the first n numbers\n",
      "Time: 0.2522417000000132\n",
      "\n",
      "Function \"fibonacci\": Returns the suite of Fibonacci numbers\n",
      "Time: 0.25787690000015573\n",
      "\n"
     ]
    }
   ],
   "source": [
    "def  main():\n",
    "    from timeit import Timer\n",
    "    \n",
    "    to_execute = [\n",
    "        (number_sum,\n",
    "        Timer('number_sum(300)', 'from __main__ import number_sum')),\n",
    "        (fibonacci,\n",
    "        Timer('fibonacci(100)', 'from __main__ import fibonacci'))\n",
    "    ]\n",
    "    \n",
    "    for item in to_execute:\n",
    "        fn = item[0]\n",
    "        print(f'Function \"{fn.__name__}\": {fn.__doc__}')\n",
    "        t = item[1]\n",
    "        print(f'Time: {t.timeit()}')\n",
    "        print()\n",
    "        \n",
    "if __name__ == '__main__':\n",
    "    main()"
   ]
  }
 ],
 "metadata": {
  "kernelspec": {
   "display_name": "Python 3",
   "language": "python",
   "name": "python3"
  },
  "language_info": {
   "codemirror_mode": {
    "name": "ipython",
    "version": 3
   },
   "file_extension": ".py",
   "mimetype": "text/x-python",
   "name": "python",
   "nbconvert_exporter": "python",
   "pygments_lexer": "ipython3",
   "version": "3.9.2"
  }
 },
 "nbformat": 4,
 "nbformat_minor": 5
}
