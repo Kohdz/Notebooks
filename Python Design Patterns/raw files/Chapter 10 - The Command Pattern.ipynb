{
 "cells": [
  {
   "cell_type": "markdown",
   "id": "maritime-textbook",
   "metadata": {},
   "source": [
    "## Overview"
   ]
  },
  {
   "cell_type": "markdown",
   "id": "contemporary-mirror",
   "metadata": {},
   "source": [
    "- we will try to implement an `undo` feature with the `Command` pattern"
   ]
  },
  {
   "cell_type": "markdown",
   "id": "homeless-torture",
   "metadata": {},
   "source": [
    "- the `Command` pattern helps us encapsulate an operation (undo, redo, copy, paste, etc) as an object\n",
    "- what this simply means is that we can create a class that contains all the logic and the methods required to implement the operation"
   ]
  },
  {
   "cell_type": "markdown",
   "id": "important-sterling",
   "metadata": {},
   "source": [
    "the advantage of doing this are as follows\n",
    "- we dont have to execute a command directly; it can be executed at will\n",
    "- the object that invokes the command is decoupled from the object that knows how to perform it; the invoker does not need to know any implementation details about the command\n",
    "- if it makes sense, multiple commands can be grouped to allow the invoker to execute them in order; this is useful, for instance, when implementing a multilevel undo command"
   ]
  },
  {
   "cell_type": "markdown",
   "id": "destroyed-execution",
   "metadata": {},
   "source": [
    "## Real-world examples"
   ]
  },
  {
   "cell_type": "markdown",
   "id": "global-launch",
   "metadata": {},
   "source": [
    "- we go to a restaurant for dinner, we give the order to the waiter\n",
    "- the check that they use to write the order is an example of a command\n",
    "- after writting the order, the waiter places it in the check queue that is executed by the cook\n",
    "- each check is independent and can be used to execute many different commands, for example, one command for each item that will be cooked"
   ]
  },
  {
   "cell_type": "markdown",
   "id": "egyptian-amazon",
   "metadata": {},
   "source": [
    "## Use cases"
   ]
  },
  {
   "cell_type": "markdown",
   "id": "communist-newman",
   "metadata": {},
   "source": [
    "many developers use the undo example as the only case of the `Command` pattern; with the `Command` pattern however, you can do so much more"
   ]
  },
  {
   "cell_type": "markdown",
   "id": "vanilla-apple",
   "metadata": {},
   "source": [
    "- __GUI buttons and menu items__: the `PyQt` example that was already mentioned uses the `Command` pattern to implement actions on buttons and menu items\n",
    "- __other operations__: Apart form undo, commands can be used to implement any operation such as cut, copy, pste, redo and capitalize text\n",
    "- __Transactional behavior and logging__: Transcational behavior and logging are important to keep a persistent log of changes\n",
    "- __Macros__: By macros, we mean a sequence of actions that can be recorded and executed on demand at any point in time"
   ]
  },
  {
   "cell_type": "markdown",
   "id": "continent-american",
   "metadata": {},
   "source": [
    "## Implementation"
   ]
  },
  {
   "cell_type": "markdown",
   "id": "inner-coupon",
   "metadata": {},
   "source": [
    "In this section, we will use the `Command` pattern to implement the most basic file utilities:\n",
    "- creating a file and optionally writing text (a string) to it\n",
    "- reading the contents of a file\n",
    "- renaming a file \n",
    "- deleting a file"
   ]
  },
  {
   "cell_type": "markdown",
   "id": "italic-porcelain",
   "metadata": {},
   "source": [
    "we are not going to implement these utilies from scratch, but just add an extra abstraction level on top of them so that they can be treaded as commands"
   ]
  },
  {
   "cell_type": "markdown",
   "id": "municipal-variable",
   "metadata": {},
   "source": [
    "- from the operations shown, renaming and creating a file support `undo`\n",
    "- deleting a file and reading the contents of a file do not support undo\n",
    "- `Undo` can actually be implemented on delete file operations\n",
    "- one technique is to use a special trash/wastebasket directory that sotres all the deleted files, so that they can be restored when the user requests it\n",
    "- this is the default behavior used on all modern desktop enviorments"
   ]
  },
  {
   "cell_type": "markdown",
   "id": "interested-strand",
   "metadata": {},
   "source": [
    "Each command has two parts:\n",
    "- __The initialization part__: it is taken care of by the `__init__()` method and contains all the information required by the command to be able to do something useful (the path of a file, the contents that will be written to teh file, etc)\n",
    "- __The execution part__: it is taken care of by the `execute()` method; we call the `execute()` method when we want to actually run a command; this is not necessarily right after initializing it"
   ]
  },
  {
   "cell_type": "code",
   "execution_count": 1,
   "id": "divided-wrestling",
   "metadata": {},
   "outputs": [],
   "source": [
    "import os\n",
    "verbose = True\n",
    "\n",
    "class RenameFile:\n",
    "    def __init__(self, src, dest):\n",
    "        self.src = src\n",
    "        self.dest = dest\n",
    "        \n",
    "    def execute(self):\n",
    "        if verbose:\n",
    "            print(f\"[renaming 'self.src' to '{self.dest}']\")\n",
    "        os.rename(self.src, self.dest)\n",
    "        \n",
    "    def undo(self):\n",
    "        if verbose:\n",
    "            print(f\"[renaming '{self.dest}' back to '{self.src}']\")\n",
    "        os.rename(self.dest, self.src)\n"
   ]
  },
  {
   "cell_type": "markdown",
   "id": "wicked-content",
   "metadata": {},
   "source": [
    "Lets start with the rename utility\n",
    "- it is implemented using the `RenameFile` class\n",
    "- the `__init__()` method accepts the source (`src`) and destination (`dest`) file paths as parameters (strings)\n",
    "- if no path separators are used, the current directory is used to create the file\n",
    "- an example of using a path separator is passing the `/tmp/file1` string as `src` and the `/home/user/file2` string as `dest`\n",
    "- another example, where we would not use a path, is passing `file1` and `src` and `file2` an"
   ]
  },
  {
   "cell_type": "markdown",
   "id": "crazy-titanium",
   "metadata": {},
   "source": [
    "we will add the `execute()` method to the class\n",
    "- the method does the actual renaming using `os.rename()`\n",
    "- the `verbose` veriable corresponds to a global __flag__, which, when activated gives feedback to the user about the operation that is performed\n",
    "- you can deactivate it if you perfer silent commands\n",
    "- note that although `print()` is good enough for an example, normally something more mature and powerful can be use used, for example the `logging` module"
   ]
  },
  {
   "cell_type": "markdown",
   "id": "careful-inclusion",
   "metadata": {},
   "source": [
    "- our `rename` utility (`RenameFile`) supports the undo operation through its `undo()` method\n",
    "- in this case, we use `os.rename()` again to revert the anme of the file to its original value"
   ]
  },
  {
   "cell_type": "markdown",
   "id": "champion-background",
   "metadata": {},
   "source": [
    "In this example, deleting a file is implemented in a function, instead of a class\n",
    "- this is to show it is not mandatory to create a new class for every command that you want to add\n",
    "- the `delete_file()` function accepts a file path as a string and uses `os.remove()` to delete it"
   ]
  },
  {
   "cell_type": "code",
   "execution_count": 2,
   "id": "beneficial-austria",
   "metadata": {},
   "outputs": [],
   "source": [
    "def delete_file(path):\n",
    "    if verbose:\n",
    "        print(f\"deleting file {path}\")\n",
    "    os.remove(path)"
   ]
  },
  {
   "cell_type": "markdown",
   "id": "earned-surgery",
   "metadata": {},
   "source": [
    "The `CreateFile` class is used to create a file\n",
    "- the `__init__()` method for that class accepts the familiar `path` parameter and a `txt` parameter for the content (a string) that will be written to the file\n",
    "- if nothing is passed as `txt`, the default `hello world` text is written to the file\n",
    "- normally the sane default behavior is to create an empty file, but for the needs of this example, I decided to write a default string in it"
   ]
  },
  {
   "cell_type": "code",
   "execution_count": 9,
   "id": "blind-catalyst",
   "metadata": {},
   "outputs": [],
   "source": [
    "class CreateFile:\n",
    "    def __init__(self, path, text='hello world\\n'):\n",
    "        self.path = path\n",
    "        self.txt = txt\n",
    "        \n",
    "    def execute(self):\n",
    "        if verbose:\n",
    "            print(f\"[creating file '{self.path}']\")\n",
    "        with open(self.path, mode='w', encoding='utf-8') as out_file:\n",
    "            out_file.write(self.txt)\n",
    "\n",
    "    def undo(self):\n",
    "        delete_file(self.path)"
   ]
  },
  {
   "cell_type": "markdown",
   "id": "dirty-harris",
   "metadata": {},
   "source": [
    "- we then add an `execute()` method, in which we use the `with` statement and pythons `open()` built in function to open the file (`mode='w'`) and the `write()` function to write the `txt` string to it"
   ]
  },
  {
   "cell_type": "markdown",
   "id": "lonely-crowd",
   "metadata": {},
   "source": [
    "- the undo for this operation of creating a file is delete that file\n",
    "- so the `undo()` method, which we add to the class, simply uses the `delete_file()` function to achieve that, as follows"
   ]
  },
  {
   "cell_type": "markdown",
   "id": "ready-physics",
   "metadata": {},
   "source": [
    "- the last utility gives us the ability to read the contents fo a file\n",
    "- the `execute()` method of the `ReadFile` class uses `open()` again, this time in read mode and just prints the content of the file using `print()`"
   ]
  },
  {
   "cell_type": "code",
   "execution_count": 8,
   "id": "fossil-bankruptcy",
   "metadata": {},
   "outputs": [],
   "source": [
    "class ReadFile:\n",
    "    def __init__(self, path):\n",
    "        self.path = path\n",
    "    \n",
    "    def execute(self):\n",
    "        if verbose:\n",
    "            print(f\"[reading file '{self.path}']\")\n",
    "        with open(self.path, mode='r', encoding='utf-8') as in_file:\n",
    "            print(in_file.read(), end='')"
   ]
  },
  {
   "cell_type": "markdown",
   "id": "processed-scanning",
   "metadata": {},
   "source": [
    "- the `main()` function makes uses of the utilities we have defined\n",
    "- the `orgi_name` and `new_name` parameters are the orginal and new name of the file that is created and renamed\n",
    "- a command list is used to add (and configure) all the commands that we want to execute at a later point\n",
    "- note that the commands are not executed unless we explicitly call `execute()` for each command"
   ]
  },
  {
   "cell_type": "markdown",
   "id": "color-console",
   "metadata": {},
   "source": [
    "- the next step is to ask the users if they want to undo the executed commands or not\n",
    "- the user selects whether the commands will be undone or not\n",
    "- if they choose to undo them, `undo()` is executed for all commands in the commands list\n",
    "- howerver, since not all commands support undo, exception handling is used to catch (and ignore) the `AttributeError` exception generated when the `undo()` method is missing"
   ]
  },
  {
   "cell_type": "code",
   "execution_count": 14,
   "id": "massive-teddy",
   "metadata": {},
   "outputs": [],
   "source": [
    "def main():\n",
    "    orig_name, new_name = 'file1', 'file2'\n",
    "    commands = (\n",
    "        CreateFile(orig_name),\n",
    "        ReadFile(orig_name),\n",
    "        RenameFile(orig_name, new_name)\n",
    "    )\n",
    "    [c.execute() for c in commands]\n",
    "\n",
    "    answer = input('reverse the executed command [y/n] ')\n",
    "    if answer not in 'yY':\n",
    "        print(f\"the result is {new_name}\")\n",
    "        exit()\n",
    "    for c in reversed(commands):\n",
    "        try:\n",
    "            c.undo()\n",
    "        except AttributeError as e:\n",
    "            print(\"Error\", str(e))"
   ]
  }
 ],
 "metadata": {
  "kernelspec": {
   "display_name": "Python 3",
   "language": "python",
   "name": "python3"
  },
  "language_info": {
   "codemirror_mode": {
    "name": "ipython",
    "version": 3
   },
   "file_extension": ".py",
   "mimetype": "text/x-python",
   "name": "python",
   "nbconvert_exporter": "python",
   "pygments_lexer": "ipython3",
   "version": "3.9.2"
  }
 },
 "nbformat": 4,
 "nbformat_minor": 5
}
