{
 "cells": [
  {
   "cell_type": "markdown",
   "id": "technical-accused",
   "metadata": {},
   "source": [
    "## Overview"
   ]
  },
  {
   "cell_type": "markdown",
   "id": "municipal-strain",
   "metadata": {},
   "source": [
    "- this category of patterns is called _structual design patterns_\n",
    "- a structural design pattern proposes a way of composing objects for creating new functionality\n",
    "- the first of these patterns we will cover is the _adapter_ pattern"
   ]
  },
  {
   "cell_type": "markdown",
   "id": "provincial-juice",
   "metadata": {},
   "source": [
    "- the _adapter_ pattern is a structural design pattern that helps us make two incompatiable interfacer compatiable\n",
    "- if we have an old component and we want to use it in a new system, or a new component that we want to use in an old system, the two can rarely communicate, without requiring any code changes\n",
    "- we might not be able to make code changes because we may not have access to it (might be library)\n",
    "- what we need to do is write an extra layer that makes all required modifications for enabling the communication between the two interfaces\n",
    "- this layer is called an `adapter`"
   ]
  },
  {
   "cell_type": "markdown",
   "id": "agricultural-browser",
   "metadata": {},
   "source": [
    "- in general, if you want to use an interface that expects `function_a()` but you only have `function_b()`, you can use an adapter to convert (adapt) `function_b()` to `function_a()`"
   ]
  },
  {
   "cell_type": "markdown",
   "id": "prospective-timeline",
   "metadata": {},
   "source": [
    "## Use Cases"
   ]
  },
  {
   "cell_type": "markdown",
   "id": "grateful-response",
   "metadata": {},
   "source": [
    "- usually. one of the two incompatible interfaces is either foreign or old/legacy\n",
    "- if the interface is foreign, it means that we have no access to the source code\n",
    "- if it is old, it is usually impractical to refactor it\n",
    "- using an adapter for making things work after that have been implemented is a good approach because it does not require access to the source code of the foreign interface"
   ]
  },
  {
   "cell_type": "markdown",
   "id": "ruled-australia",
   "metadata": {},
   "source": [
    "## Implementation"
   ]
  },
  {
   "cell_type": "markdown",
   "id": "atmospheric-volleyball",
   "metadata": {},
   "source": [
    "- we will implement a club's activities, mainly, the need to organize performance and events for the entertainment of its clients, by hiring talented artists\n",
    "- at the core, we have a `Club` class that represents the club where hired artists perform some evenings\n",
    "- the `organize_performance()` method is the main action that the club can perform"
   ]
  },
  {
   "cell_type": "code",
   "execution_count": 1,
   "id": "chicken-therapist",
   "metadata": {},
   "outputs": [],
   "source": [
    "class Club:\n",
    "    def __init__(self, name):\n",
    "        self.name = name\n",
    "        \n",
    "    def __str__(self):\n",
    "        return f'the club {self.name}'\n",
    "    \n",
    "    def organize_event(self):\n",
    "        return 'hires an artist to perform for the people'"
   ]
  },
  {
   "cell_type": "markdown",
   "id": "miniature-environment",
   "metadata": {},
   "source": [
    "- most of the time our club hires a DJ to perform, but our application addresses the need to organize a diversity of performances, by a musician or music band, by a dancer, a one-man or one-woman show"
   ]
  },
  {
   "cell_type": "markdown",
   "id": "chubby-fellow",
   "metadata": {},
   "source": [
    "- we find an open source contributed library that brings us two intresting classes: `Musician` and `Dancer`\n",
    "- in the `Musican` class, the main action is performed by the `play()` method\n",
    "- in the `Dancer` class, it is performed by the `dance()` method\n",
    "- in our example, to indicate that these two classes are external, we place them in a seprate module"
   ]
  },
  {
   "cell_type": "code",
   "execution_count": 3,
   "id": "convertible-divorce",
   "metadata": {},
   "outputs": [],
   "source": [
    "class Musician:\n",
    "    def __init__(self, name):\n",
    "        self.name = name\n",
    "        \n",
    "    def __str__(self):\n",
    "        return f'the musician {self.name}'\n",
    "    \n",
    "    def play(self):\n",
    "        return 'play music'\n",
    "    \n",
    "\n",
    "class Dancer:\n",
    "    def __init__(self, name):\n",
    "        self.name = name\n",
    "    \n",
    "    def __str__(self):\n",
    "        return f'the dancer: {self.name}'\n",
    "    \n",
    "    def dance(self):\n",
    "        return 'does a dance performanc '"
   ]
  },
  {
   "cell_type": "markdown",
   "id": "micro-modification",
   "metadata": {},
   "source": [
    "- the client code, using these classes, only knows how to call `organize_performance()` method on the `Club` class\n",
    "- it has no idea about the `play()` or `dance()` "
   ]
  },
  {
   "cell_type": "markdown",
   "id": "liquid-digest",
   "metadata": {},
   "source": [
    "- we create a generic `Adapter` class that allows us to adapt a number of objects with different interfaces, into one unified interface\n",
    "- the `obj` argument of the `__init__()` method is the object we want to adapt and `adapted_methods` is a dictionary containing key/value pairs matching the method the client calls and the method that should be called"
   ]
  },
  {
   "cell_type": "code",
   "execution_count": null,
   "id": "fiscal-friend",
   "metadata": {},
   "outputs": [],
   "source": [
    "class Adapter:\n",
    "    def __init-_(self, obj, adapter_methods):\n",
    "        self.obj = obj\n",
    "        self.__dict__.update(adapter_methods)\n",
    "        \n",
    "    def __str__(self):\n",
    "        return str(self.obj)"
   ]
  },
  {
   "cell_type": "markdown",
   "id": "collect-affair",
   "metadata": {},
   "source": [
    "- when dealing with the different instances of the classes, we have two choices:\n",
    "    - the compatible object that belongs to the `Club` class needs no adaptation. We can treat it as it is\n",
    "    - the incompatible objects need to be adapted first, using the `Adapter` class"
   ]
  },
  {
   "cell_type": "markdown",
   "id": "therapeutic-photographer",
   "metadata": {},
   "source": [
    "- the result is that the client code can continue using the known `organize_performance()` method on all objects without the need to be aware of any interface differences between the used classes"
   ]
  },
  {
   "cell_type": "code",
   "execution_count": 4,
   "id": "connected-factor",
   "metadata": {},
   "outputs": [],
   "source": [
    "def main():\n",
    "    objects = [club('Jazz Cafe'), Musician('Roy Ayers'), Dancer('Shane Sparks')]\n",
    "    for obj in objects:\n",
    "        if hasattr(obj, 'play') or hasattr(obj, 'dance'):\n",
    "            if hasattr(obj, 'play'):\n",
    "                adapted_methods = dict(organize_event=obj.play)\n",
    "            elif hasattr(obj, 'dance'):\n",
    "                adapted_methods = dict(organize_event=obj.dance)\n",
    "            # refrencing the adapted object here\n",
    "            obj = Adapter(obj, adapted_methods)\n",
    "        print(f'{obj} {obj.organize_event()}')"
   ]
  },
  {
   "cell_type": "markdown",
   "id": "bound-merchandise",
   "metadata": {},
   "source": [
    "- the adapter takes an instance of `Musican` or `Dancer` and makes a relationship between the old `organize event` and the new `play()` or `dance()` methods\n",
    "- `organize event` becomes part of the object dictionary and we can do `Musician.organize_event` and it will work"
   ]
  }
 ],
 "metadata": {
  "kernelspec": {
   "display_name": "Python 3",
   "language": "python",
   "name": "python3"
  },
  "language_info": {
   "codemirror_mode": {
    "name": "ipython",
    "version": 3
   },
   "file_extension": ".py",
   "mimetype": "text/x-python",
   "name": "python",
   "nbconvert_exporter": "python",
   "pygments_lexer": "ipython3",
   "version": "3.9.2"
  }
 },
 "nbformat": 4,
 "nbformat_minor": 5
}
