{
 "cells": [
  {
   "cell_type": "markdown",
   "id": "excellent-chemistry",
   "metadata": {},
   "source": [
    "## Overview"
   ]
  },
  {
   "cell_type": "markdown",
   "id": "pursuant-climb",
   "metadata": {},
   "source": [
    "- imagine that we want to create an object that is composed of multiple parts and the composition needs to be done step by step\n",
    "- the object is not complete unless all its parts are fully created\n",
    "- the `builder desgin` pattern seprates the construction of a complex object from its representation\n",
    "- by keeping the construction seprate from the representation, the same construction can be used to create several different representations"
   ]
  },
  {
   "cell_type": "markdown",
   "id": "amber-engine",
   "metadata": {},
   "source": [
    "### Example"
   ]
  },
  {
   "cell_type": "markdown",
   "id": "awful-civilization",
   "metadata": {},
   "source": [
    "- suppose that we want to create an HTML page generator\n",
    "- the basic structure of an HTML page is always the same\n",
    "    - starts with `<html>` and ends with `</html>`\n",
    "    - inside can be `<title>` elements\n",
    "- the representation of the page can differ however\n",
    "- each page can have its own headings and a different body\n",
    "- important to note that the page is usually built in steps\n",
    "    - one function adds the title, another adss the main heading, another the footer, etc.\n",
    "- only after the whole structure of a page is compelte can it be shown to the client using a final render function"
   ]
  },
  {
   "cell_type": "markdown",
   "id": "usual-tongue",
   "metadata": {},
   "source": [
    "- the HTML page generation problem can be solved using the builder pattern\n",
    "- in this pattern, there are two main participants"
   ]
  },
  {
   "cell_type": "markdown",
   "id": "overall-spanish",
   "metadata": {},
   "source": [
    "- __the builder__: the component responsible for creating the various parts of a complex object. in this example, these parts are the title, heading, body, and the footer of the page\n",
    "- __the director__: the component that controls the building process using a `builder` instance. It calls the builder's functions for setting the title, the heading and so on. And, using a different `builder` instance allows us to create a different HTML page without touching any of the code of the director"
   ]
  },
  {
   "cell_type": "markdown",
   "id": "stupid-uncle",
   "metadata": {},
   "source": [
    "## Builder vs Factory Pattern"
   ]
  },
  {
   "cell_type": "markdown",
   "id": "drawn-france",
   "metadata": {},
   "source": [
    "- builder is useful when you need to do alot of things to build an object, such as the `DOM`\n",
    "- a factory is used when the factory can easily create the entire object within one method call\n",
    "- builder creates objects in multiple steps through a director\n",
    "- factory pattern returns a created object immediately, in the builder pattern the client code explicitly asks the director to return the final object when its needed"
   ]
  },
  {
   "cell_type": "markdown",
   "id": "assured-advocate",
   "metadata": {},
   "source": [
    "## Real-World Examples"
   ]
  },
  {
   "cell_type": "markdown",
   "id": "metallic-variation",
   "metadata": {},
   "source": [
    "- builder design pattern is used in fast-food restaurants\n",
    "- the same procedure is always used to prepare a burger and the packaging (box and paper bag), even if there are many different kinds of burgers and different packages\n",
    "- the difference between a classic burger and a cheeseburger is the representation, and not in the construction procedure"
   ]
  },
  {
   "cell_type": "markdown",
   "id": "scheduled-retention",
   "metadata": {},
   "source": [
    "- in this case, the `director` is the cashier who gives instructions about what needs to be prepared to the crew, and the `builder` is the person from the crew that takes care of the specific order"
   ]
  },
  {
   "cell_type": "markdown",
   "id": "located-induction",
   "metadata": {},
   "source": [
    "- the `django CMS` uses the builder pattern"
   ]
  },
  {
   "cell_type": "markdown",
   "id": "valid-collins",
   "metadata": {},
   "source": [
    "## Use Cases"
   ]
  },
  {
   "cell_type": "markdown",
   "id": "south-antique",
   "metadata": {},
   "source": [
    "- use the builder pattern when we know that an object must be created in multiple steps and different representations of the same construction are required "
   ]
  },
  {
   "cell_type": "markdown",
   "id": "chubby-disease",
   "metadata": {},
   "source": [
    "- sine resources mention that the builder pattern can also be used as a solution to the telescopic construction problem\n",
    "- the telescopic constructor problem occurs when we are forced to create a new constructor for supporting different ways of creating an object\n",
    "- the problem is that we end up with many constructors and long parameter lists, which are hard to manage\n",
    "- this problem does not exist in python because of named variable and argument list unpacking"
   ]
  },
  {
   "cell_type": "markdown",
   "id": "knowing-isaac",
   "metadata": {},
   "source": [
    "__New Computer Analogy__:\n",
    "- assume that you want to buy a new computer, if you decide to by a specific, preconfigured computer model, for example, the latest Apple 1.4 GHz Mac Mimi, you use the factory pattern\n",
    "- all hardware specifications are already predefined by the manufacture, who knows what to do without consulting you"
   ]
  },
  {
   "cell_type": "code",
   "execution_count": 13,
   "id": "adverse-lease",
   "metadata": {},
   "outputs": [
    {
     "name": "stdout",
     "output_type": "stream",
     "text": [
      "Model: 1.4GHz Mac mini\n",
      "Memory: 4GB\n",
      "Hard Disk: 500GB\n",
      "Graphics Card: Intel HD Graphics 5000\n"
     ]
    }
   ],
   "source": [
    "MINI14 = '1.4GHz Mac mini'\n",
    "\n",
    "class AppleFactory:\n",
    "    class MacMini14:\n",
    "        def __init__(self):\n",
    "            self.memory = 4 # in gigabytes\n",
    "            self.hdd = 500 # in gigabytes\n",
    "            self.gpu = 'Intel HD Graphics 5000'\n",
    "            \n",
    "        def __str__(self):\n",
    "            info = (f'Model: {MINI14}',\n",
    "                f'Memory: {self.memory}GB',\n",
    "                f'Hard Disk: {self.hdd}GB',\n",
    "                f'Graphics Card: {self.gpu}')\n",
    "            return '\\n'.join(info)\n",
    "\n",
    "    def build_computer(self, model):\n",
    "            if model == MINI14:\n",
    "                return self.MacMini14()\n",
    "            else:\n",
    "                msg = f'I dont know how to build {mode}'\n",
    "                print(msg)\n",
    "\n",
    "# main part of the program, which uses the AppleFactory CLass\n",
    "if __name__ == '__main__':\n",
    "    afac = AppleFactory()\n",
    "    mac_mini = afac.build_computer(MINI14)\n",
    "    print(mac_mini)"
   ]
  },
  {
   "cell_type": "markdown",
   "id": "incorporated-anthropology",
   "metadata": {},
   "source": [
    "- another option would be to buy a custom PC\n",
    "- in this care, you use the builder pattern\n",
    "- you are the director that gives orders to the manufacturer (`builder`) about your ideal computer"
   ]
  },
  {
   "cell_type": "code",
   "execution_count": 15,
   "id": "committed-great",
   "metadata": {},
   "outputs": [
    {
     "name": "stdout",
     "output_type": "stream",
     "text": [
      "Memory: 8GB\n",
      "Hard Disk: 500GB\n",
      "Graphics Card: GeForce GTX 650 Ti\n"
     ]
    }
   ],
   "source": [
    "# define the computer class\n",
    "class Computer:\n",
    "    def __init__(self, serial_number):\n",
    "        self.serial = serial_number\n",
    "        self.memory = None # in gigabytes\n",
    "        self.hdd = None # in gigabytes\n",
    "        self.gpu = None\n",
    "        \n",
    "    def __str__(self):\n",
    "        info = (f'Memory: {self.memory}GB',\n",
    "        f'Hard Disk: {self.hdd}GB',\n",
    "        f'Graphics Card: {self.gpu}')\n",
    "        return '\\n'.join(info)\n",
    "\n",
    "# define the ComputerBuilder class\n",
    "class ComputerBuilder:\n",
    "    def __init__(self):\n",
    "        self.computer = Computer('AG23385193')\n",
    "        \n",
    "    def configure_memory(self, amount):\n",
    "        self.computer.memory = amount\n",
    "    \n",
    "    def configure_hdd(self, amount):\n",
    "        self.computer.hdd = amount\n",
    "        \n",
    "    def configure_gpu(self, gpu_model):\n",
    "        self.computer.gpu = gpu_model\n",
    "        \n",
    "# define the HardwareEngineer\n",
    "class HardwareEngineer:\n",
    "    def __init__(self):\n",
    "        self.builder = None\n",
    "        \n",
    "    def construct_computer(self, memory, hdd, gpu):\n",
    "        self.builder = ComputerBuilder()\n",
    "        steps = (self.builder.configure_memory(memory),\n",
    "                 self.builder.configure_hdd(hdd),\n",
    "                 self.builder.configure_gpu(gpu))\n",
    "        [step for step in steps]\n",
    "        \n",
    "    @property\n",
    "    def computer(self):\n",
    "        return self.builder.computer\n",
    "\n",
    "# we end the code with the main() function followed by the trick to call\n",
    "# it when the file is called from the commandline\n",
    "\n",
    "def main():\n",
    "    engineer = HardwareEngineer()\n",
    "    engineer.construct_computer(hdd=500,\n",
    "                               memory=8,\n",
    "                               gpu='GeForce GTX 650 Ti')\n",
    "    computer = engineer.computer\n",
    "    print(computer)\n",
    "\n",
    "if __name__ == '__main__':\n",
    "    main()"
   ]
  },
  {
   "cell_type": "markdown",
   "id": "indian-concept",
   "metadata": {},
   "source": [
    "- the basic changes are the introduction of a builder (`ComputerBuilder`), a director (`HardwareEngineer`) and the step-by-step construction of a computer, which now supports different configurations (notice that `memory`, `hdd` and `gpu` are parameters and are not preconfigured "
   ]
  },
  {
   "cell_type": "markdown",
   "id": "determined-longitude",
   "metadata": {},
   "source": [
    "## Implementation"
   ]
  },
  {
   "cell_type": "markdown",
   "id": "liked-submission",
   "metadata": {},
   "source": [
    "- we will be be building a pizza-ordering application\n",
    "- pizza is a good example because things in pizza need to be built in order\n",
    "- also each pizza requires different thickness of its dough and toppings used"
   ]
  },
  {
   "cell_type": "markdown",
   "id": "south-kinase",
   "metadata": {},
   "source": [
    "- we start by importing the required modules and declaring a few `Enum` parameters plus a constant that is used many times in the application\n",
    "- the `STEP_DELAY` constant is used to add a time delay between the different steps of preparing a pizza (prepare the dough, add the sauce, and so on)\n"
   ]
  },
  {
   "cell_type": "code",
   "execution_count": 19,
   "id": "western-medicare",
   "metadata": {},
   "outputs": [],
   "source": [
    "import time\n",
    "from enum import Enum\n",
    "\n",
    "\n",
    "PizzaProgress = Enum('PizzaProgress', 'queued preparation baking ready')\n",
    "PizzaDough = Enum('PizzaDough', 'thin thick')\n",
    "PizzaSauce = Enum('PizzaSauce', 'tomato creme_fraiche')\n",
    "PizzaTopping = Enum('PizzaTopping', 'mozzarella double_mozzarella bacon ham mushrooms red_onion oregano')\n",
    "\n",
    "STEP_DELAY = 3 # in seconds for the sake of the example"
   ]
  },
  {
   "cell_type": "markdown",
   "id": "timely-madrid",
   "metadata": {},
   "source": [
    "- our end product is a pizza, which is described by the `Pizza` class\n",
    "- when using the builder pattern, then end product does not have many responsibilities, since it is not supposed to be instantiated directly\n",
    "- the builder creates an instance of the end product and makes sure that it is properly prepared\n",
    "- thats why the `Pizza` class is so minimal\n",
    "- it basically initializes all data to sane default values\n",
    "- an exception is the `prepare_dough()` method"
   ]
  },
  {
   "cell_type": "markdown",
   "id": "electronic-saver",
   "metadata": {},
   "source": [
    "- the `prepare_dough()` method is defined in the `Pizza` class instead of a builder for two reasons\n",
    "    - firstly, to clarify the fact that the end product is typically minimal, which does not mean that you should never assign it any responsibilities\n",
    "    - secondly, to promote code reuse through composition"
   ]
  },
  {
   "cell_type": "code",
   "execution_count": null,
   "id": "sonic-blond",
   "metadata": {},
   "outputs": [],
   "source": [
    "class Pizza:\n",
    "    def __init__(self, name):\n",
    "        self.name = name\n",
    "        self.dough = None\n",
    "        self.sauce = None\n",
    "        self.topping = []\n",
    "        \n",
    "    def __str__(self):\n",
    "        return self.name\n",
    "    \n",
    "    def prepare_dough(self, dough):\n",
    "        self.dough = dough\n",
    "        print (f'preparing the {self.dough.name} dough of your {self}...')\n",
    "        time.sleep(STEP_DELAY)\n",
    "        print(f'done with the {self.dough,name} dough')"
   ]
  },
  {
   "cell_type": "markdown",
   "id": "collective-middle",
   "metadata": {},
   "source": [
    "- there are two builders: one for creating a margarita pizza (`MargaritaBuilder`) and another for creating a creamy bacon pizza (`CreamyBaconBuilder`)\n",
    "- each builder creates a `Pizza` instance and contains methods that follow the pizza-making procedures:\n",
    "    - `prepare_dough()`, `add_sauce()`, `add_toppings()` and `bake()`\n",
    "    - to be precise, `prepare_dough()` is just a wraper to the `Pizza` class"
   ]
  },
  {
   "cell_type": "markdown",
   "id": "sharing-waste",
   "metadata": {},
   "source": [
    "- notice how each builder takes care of all the pizza-specific details\n",
    "- for example, the topping of the margarita pizza is double mozzarella and oregano, while the topping of the creamy bacon pizza is mozzarella, bacon, ham, mushroom, red onion, and oregano"
   ]
  },
  {
   "cell_type": "code",
   "execution_count": 22,
   "id": "indoor-linux",
   "metadata": {},
   "outputs": [],
   "source": [
    "class MargaritaBuilder:\n",
    "    def __init__(self):\n",
    "        self.pizza = Pizza('margarita')\n",
    "        self.progress = PizzaProgress.queue\n",
    "        self.backing_time = 5 # in seconds for the sake of this example\n",
    "        \n",
    "    def prepare_dough(self):\n",
    "        self.progress = PizzaProgress.preparation\n",
    "        self.pizza.prepare_dough(PizzaDough,thin)\n",
    "     \n",
    "    def add_sauce(self):\n",
    "        print('adding the tomato sauce to your margarita...')\n",
    "        self.pizza.sauce = PizzaSauce.tomato\n",
    "        time.sleep(STEP_DELAY)\n",
    "        print('done with the tomato sauce')\n",
    "\n",
    "    def add_topping(self):\n",
    "        topping_desc = 'double mozzarella, oregano'\n",
    "        topping_items = (PizzaTopping.double_mozzarella, PizzaTopping.oregano)\n",
    "        print(f'adding the topping ({topping_desc}) to your margarita')\n",
    "        self.pizza.topping.append([t for t in topping_items])\n",
    "        time.sleep(STEP_DELAY)\n",
    "        print(f'done with the topping ({topping_desc})')\n",
    "              \n",
    "    def bake(self):\n",
    "        self.progress = PizzaProgress.baking\n",
    "        print(f'baking your margarita for {self.baking_time} seconds')\n",
    "        time.sleep(self.baking_time)\n",
    "        self.progress = PizzaProgress.ready\n",
    "        print('your margarita is ready')\n",
    "              "
   ]
  },
  {
   "cell_type": "code",
   "execution_count": 25,
   "id": "complete-administration",
   "metadata": {},
   "outputs": [],
   "source": [
    "class CreamyBaconBuilder:\n",
    "    def __init__(self):\n",
    "        self.pizza = Pizza('creamy bacon')\n",
    "        self.progress = PizzaProgress.queued\n",
    "        self.baking_time = 7 # in seconds for the sake of the example\n",
    "    \n",
    "    def prepare_dough(self):\n",
    "        self.progress = PizzaProgress.preparation\n",
    "        self.pizza.prepare_dough(PizzaDough.thick)\n",
    "    \n",
    "    def add_sauce(self):\n",
    "        print('adding the crème fraîche sauce to your creamy bacon')\n",
    "        self.pizza.sauce = PizzaSauce.creme_fraiche\n",
    "        time.sleep(STEP_DELAY)\n",
    "        print('done with the crème fraîche sauce')\n",
    "    \n",
    "    def add_topping(self):\n",
    "        topping_desc = 'mozzarella, bacon, ham, mushrooms, red onion, oregano'\n",
    "        topping_items = (PizzaTopping.mozzarella,\n",
    "        PizzaTopping.bacon,\n",
    "        PizzaTopping.ham,\n",
    "        PizzaTopping.mushrooms,\n",
    "        PizzaTopping.red_onion,\n",
    "        PizzaTopping.oregano)\n",
    "        print(f'adding the topping ({topping_desc}) to your creamy bacon')\n",
    "        self.pizza.topping.append([t for t in topping_items])\n",
    "        time.sleep(STEP_DELAY)\n",
    "        print(f'done with the topping ({topping_desc})')\n",
    "    def bake(self):\n",
    "        self.progress = PizzaProgress.baking\n",
    "        print(f'baking your creamy bacon for {self.baking_time} seconds')\n",
    "        time.sleep(self.baking_time)\n",
    "        self.progress = PizzaProgress.ready\n",
    "        print('your creamy bacon is ready')\n"
   ]
  },
  {
   "cell_type": "markdown",
   "id": "finished-number",
   "metadata": {},
   "source": [
    "- the director in this example is the waiter\n",
    "- the core of the `Waiter` class is the `constuct_pizza()` method which acecepts a builder as a parameter and executes allthe pizza-preparation steps in the right order\n",
    "- choosing the apporpriate builder, which can be even done at runtime, gives us the ability to create a different pizza style withoug modifying any of the code of the director (`Waiter`)\n",
    "- the `Waiter` class also contains the `pizza()` method, which returns the end product (prepared pizza) as a variable to the caller"
   ]
  },
  {
   "cell_type": "code",
   "execution_count": 26,
   "id": "natural-drink",
   "metadata": {},
   "outputs": [],
   "source": [
    "class Waiter:\n",
    "    def __init__(self):\n",
    "        self.builder = None\n",
    "        \n",
    "    def construct_pizza(self, builder):\n",
    "        self.builder = builder\n",
    "        steps = (builder.prepare_dough,\n",
    "                 builder.add_sauce,\n",
    "                 builder.add_topping,\n",
    "                 builder.bake)\n",
    "        [step() for step in steps]\n",
    "    \n",
    "    @property\n",
    "    def pizza(self):\n",
    "        return self.builder.pizza\n",
    "        "
   ]
  },
  {
   "cell_type": "markdown",
   "id": "civil-graduation",
   "metadata": {},
   "source": [
    "- `validate_stype()` function is similar to the `validate_age()` function described in the `Factory Pattern`\n",
    "- it is used to make sure that the user gives valid input, which in this case is a character that is mapped to a pizza builder\n",
    "- the `m` character uses the `MargaritaBuilder` class and the `c` character uses the `CreamyBaconBuilder` class\n",
    "- these mappings are the builder parameter\n",
    "- a tuple is returned, with the first element set to `True` id the input is valid, or `False` if it is invalid"
   ]
  },
  {
   "cell_type": "code",
   "execution_count": 27,
   "id": "dangerous-limit",
   "metadata": {},
   "outputs": [],
   "source": [
    "def validate_style(builders):\n",
    "    try:\n",
    "        input_msg = 'What pizza would you like, [m]argarita or [c]reamy bacon? '\n",
    "        pizza_style = input(input_msg)\n",
    "        builder = builders[pizza_style]()\n",
    "        valid_input = True\n",
    "    except KeyError:\n",
    "        error_msg = 'Sorry, only margarita (key m) and creamy bacon (key c) are available'\n",
    "        print(error_msg)\n",
    "        return (False, None)\n",
    "    return (True, builder)\n"
   ]
  },
  {
   "cell_type": "markdown",
   "id": "rapid-craft",
   "metadata": {},
   "source": [
    "- the last part is the `main()` function\n",
    "- the `main()` fucntion contains code for instantiating a pizza builder\n",
    "- the pizza builder is then used byt the `Waiter` director for preparing the pizza\n",
    "- the created pizza can be delivered to the client at any later point"
   ]
  },
  {
   "cell_type": "code",
   "execution_count": 28,
   "id": "secret-teach",
   "metadata": {},
   "outputs": [],
   "source": [
    "def main():\n",
    "    builders = dict(m=MargaritaBuilder, c=CreamyBaconBuilder)\n",
    "    valid_input = False\n",
    "    while not valid_input:\n",
    "        valid_input, builder = validate_style(builders)\n",
    "    print()\n",
    "    waiter = Waiter()\n",
    "    waiter.construct_pizza(builder)\n",
    "    pizza = waiter.pizza\n",
    "    print()\n",
    "    print(f'Enjoy your {pizza}!')"
   ]
  },
  {
   "cell_type": "markdown",
   "id": "willing-faculty",
   "metadata": {},
   "source": [
    "__Summary__:\n",
    "1. we imported `time` and `Enum`\n",
    "2. we declared the variables for a few constants: `PizzaProgress`, `PizzaDough`, `PizzaSauce`, `PizzaTopping`, `STEP_DELAY`\n",
    "3. we define our `Pizza` class\n",
    "4. we define the classes for two builders, `MargaritaBuilder` and `CreamyBaconBuilder`\n",
    "5. we define our `Waiter` class\n",
    "6. we add the `validate_style()` function to improve things regarding exception handling\n",
    "7. finally we have the `main()` function followed by the snippet for calling it when the program is run\n",
    "    - we make it possible to choose the pizza builder based on the users input, after validation via the `validate_style()` function\n",
    "    - the pizza builder is used by the waiter preparing the pizza\n",
    "    - the created pizza is then delivered"
   ]
  },
  {
   "cell_type": "markdown",
   "id": "regular-referral",
   "metadata": {},
   "source": [
    "__Builder Pattern Variation__\n",
    "- an intresting variation of the builder pattern is on where calls to builder methods are chained\n",
    "- this is accomplished by defining the builder itself as an inner class and returning itself from each of the setter-like methods on it\n",
    "- the `build()` method returns the final object\n",
    "- the pattern is called `fluent builder`"
   ]
  },
  {
   "cell_type": "code",
   "execution_count": 29,
   "id": "round-ensemble",
   "metadata": {},
   "outputs": [
    {
     "name": "stdout",
     "output_type": "stream",
     "text": [
      "Garlic: yes\n",
      "Extra cheese: yes\n"
     ]
    }
   ],
   "source": [
    "class Pizza:\n",
    "    def __init__(self, builder):\n",
    "        self.garlic = builder.garlic\n",
    "        self.extra_cheese = builder.extra_cheese\n",
    "        \n",
    "    def __str__(self):\n",
    "        garlic = 'yes' if self.garlic else 'no'\n",
    "        cheese = 'yes' if self.extra_cheese else 'no'\n",
    "        info = (f'Garlic: {garlic}', f'Extra cheese: {cheese}')\n",
    "        return '\\n'.join(info)\n",
    "    \n",
    "    class PizzaBuilder:\n",
    "        def __init__(self):\n",
    "            self.extra_cheese = False\n",
    "            self.garlic = False\n",
    "            \n",
    "        def add_garlic(self):\n",
    "            self.garlic = True\n",
    "            return self\n",
    "        \n",
    "        def add_extra_cheese(self):\n",
    "            self.extra_cheese = True\n",
    "            return self\n",
    "        \n",
    "        def build(self):\n",
    "            return Pizza(self)\n",
    "        \n",
    "if __name__ == '__main__':\n",
    "    pizza = Pizza.PizzaBuilder().add_garlic().add_extra_cheese().build()\n",
    "    print(pizza)"
   ]
  }
 ],
 "metadata": {
  "kernelspec": {
   "display_name": "Python 3",
   "language": "python",
   "name": "python3"
  },
  "language_info": {
   "codemirror_mode": {
    "name": "ipython",
    "version": 3
   },
   "file_extension": ".py",
   "mimetype": "text/x-python",
   "name": "python",
   "nbconvert_exporter": "python",
   "pygments_lexer": "ipython3",
   "version": "3.9.2"
  }
 },
 "nbformat": 4,
 "nbformat_minor": 5
}
