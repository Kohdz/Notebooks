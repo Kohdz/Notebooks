{
 "cells": [
  {
   "cell_type": "markdown",
   "id": "educated-addition",
   "metadata": {},
   "source": [
    "## Overview"
   ]
  },
  {
   "cell_type": "markdown",
   "id": "otherwise-athens",
   "metadata": {},
   "source": [
    "- other creational patterns are the `prototype` pattern and the `singleton` pattern"
   ]
  },
  {
   "cell_type": "markdown",
   "id": "legitimate-microphone",
   "metadata": {},
   "source": [
    "__prototype__:\n",
    "- the `prototype` pattern is useful when one needs to create objects based on an existing object using a `cloning` technique\n",
    "- the idea is to use a copy of that objects complete structure to produce the new object\n",
    "- this is almost natural in python because we have a `copy feature` that helps"
   ]
  },
  {
   "cell_type": "markdown",
   "id": "cheap-natural",
   "metadata": {},
   "source": [
    "__singleton__:\n",
    "- the `singleton` pattern offers a way to implement a class from which you can only create one object\n",
    "- some consider this an `anti-pattern`\n",
    "- its useful when you need to create one and only one object, for example, to store and maintain a global state for our program"
   ]
  },
  {
   "cell_type": "markdown",
   "id": "drawn-beginning",
   "metadata": {},
   "source": [
    "## Prototype Pattern"
   ]
  },
  {
   "cell_type": "markdown",
   "id": "covered-profession",
   "metadata": {},
   "source": [
    "- assume that you want to create an application for storing, sharing and editing presentation and marketing content for products promoted by a group of salespeople\n",
    "- this is simmilar to `network marketing`, where the individuals partner with a company to distribute products withing their social networks, using promotional tools\n",
    "- `Bob` has a bunch of presentation material he show to customers\n",
    "- `Alice` joins his team and uses his material\n",
    "- one day, `Alice` realizes that they could get more customers if the video was ubtitled in french\n",
    "- to help everyone, the system could allow the distributors with certian rank or trust levels, such as `Bob` to create independent copies of the orginal presentation video, as long as the new verison is validated by the `compliance team` of the `backing company`\n",
    "- `Bob` makes the copy and gives it to `Alice` who can make changes"
   ]
  },
  {
   "cell_type": "markdown",
   "id": "awful-recipe",
   "metadata": {},
   "source": [
    "- the alternative is that each person had a refrence to a single object and one person making changes to that object change it for everyone"
   ]
  },
  {
   "cell_type": "markdown",
   "id": "dimensional-glory",
   "metadata": {},
   "source": [
    "- the prototype design pattern helps us with creating object clones\n",
    "- in the simplest version, this pattern is just a `clone()` function that accepts an object as an input parameter and returns a clone of it\n",
    "- in python this can be done using `copy.deepcopy()`"
   ]
  },
  {
   "cell_type": "markdown",
   "id": "blind-devices",
   "metadata": {},
   "source": [
    "### Use Cases"
   ]
  },
  {
   "cell_type": "markdown",
   "id": "enormous-investment",
   "metadata": {},
   "source": [
    "- the prototype is useful when we have an existing object that needs to stay untouched, and we want to create an exact copy of it, allowing changes in some parts of the copy\n",
    "- there is also the frequent need for duplicating an object that is populated from a database and has refrences to other database-based object\n",
    "- it is costly (multiple queries to a database) to clone such a complex object, so prototype is a conventient way to solve the problem"
   ]
  },
  {
   "cell_type": "markdown",
   "id": "mighty-specialist",
   "metadata": {},
   "source": [
    "### Implementation"
   ]
  },
  {
   "cell_type": "markdown",
   "id": "civil-vienna",
   "metadata": {},
   "source": [
    "- when you have to manage multiple websites, there is a point where it becomes difficult to follow\n",
    "- you need to access information quickly, such as `IP addresses` that are involved, domain names and their expriation dates, and maybe details about the DNS parameters\n",
    "- so we need a kind of inventory tool"
   ]
  },
  {
   "cell_type": "markdown",
   "id": "heavy-detective",
   "metadata": {},
   "source": [
    "- lets imagine how those teams deal with this type of data daily activites, and touch on the implementation of a piece of software that helps consolidate and maintain the data"
   ]
  },
  {
   "cell_type": "markdown",
   "id": "valued-gather",
   "metadata": {},
   "source": [
    "- at the heart of this system, we will have a `Website` class for holding all the useful information such as the name, the domain name, the description, the author of a website we are managing and so on"
   ]
  },
  {
   "cell_type": "markdown",
   "id": "restricted-colony",
   "metadata": {},
   "source": [
    "- in the `__init__()` method of the class, only some parameters are fixed: `name`, `domain`, `description` and `author`\n",
    "- but we also want flexibility and client code can pass more parameters in th form of keywords using `kwargs` variable lenght collection"
   ]
  },
  {
   "cell_type": "markdown",
   "id": "diagnostic-lawsuit",
   "metadata": {},
   "source": [
    "- note that there is a Python idiom to set an arbitrary attribute named `attr` with a value `val` on an object `obj` using hte `setattr()` built-in function: `setattr(obj, attr, val)`\n",
    "- so we are using this technique for the optimal attributes of our class, at the end of the initialization method, this way:\n",
    "\n",
    "        for key in kwargs:\n",
    "            setattr(self, key, kwargs[key])"
   ]
  },
  {
   "cell_type": "code",
   "execution_count": 16,
   "id": "saved-prediction",
   "metadata": {},
   "outputs": [],
   "source": [
    "import copy\n",
    "\n",
    "class Website:\n",
    "    def __init__(self, name, domain, description, author, **kwargs):\n",
    "        self.name = name\n",
    "        self.domain = domain\n",
    "        self.description = description\n",
    "        self.author = author\n",
    "        for key in kwargs:\n",
    "            setattr(self, key, kwargs[key])\n",
    "        \n",
    "        def __str__(self):\n",
    "            summary = [f'Website \"{self.name}\"\\n',]\n",
    "            infos = vars(self).items()\n",
    "            ordered_infos = sorted(infos)\n",
    "            \n",
    "            for attr, val in ordered_infos:\n",
    "                if attr == 'name':\n",
    "                    continue\n",
    "                summary.append(f'{attr}: {val}\\n')\n",
    "            return ''.join(summary)\n"
   ]
  },
  {
   "cell_type": "markdown",
   "id": "pending-ultimate",
   "metadata": {},
   "source": [
    "- next the `Prototype` class implements the prototype design pattern\n",
    "- the heart of the `Prototype` class is the `clone()` method which is incharge of cloning the objects using `copy.deepcopy()` function\n",
    "- since cloning means we allow setting values for optional attributes, notice how we use the `setattr()` technique here with the `attrs` dictionary"
   ]
  },
  {
   "cell_type": "markdown",
   "id": "frozen-electron",
   "metadata": {},
   "source": [
    "- for more convenience, the `Prototype` class contains the `register()` and `unregister()` methods, which can be used to keep track of the cloned objects in a dictionary"
   ]
  },
  {
   "cell_type": "code",
   "execution_count": 17,
   "id": "suburban-intermediate",
   "metadata": {},
   "outputs": [],
   "source": [
    "class Prototype:\n",
    "    def __init__(self):\n",
    "        self.objects = dict()\n",
    "    \n",
    "    def register(self, identifier, obj):\n",
    "        self.objects[identifier] = obj\n",
    "    \n",
    "    def unregister(self, identifier):\n",
    "        del self.objects[identifier]\n",
    "    \n",
    "    def clone(self, identifier, **attrs):\n",
    "        found = self.objects.get(identifier)\n",
    "        if not found:\n",
    "            raise ValueError(f'Incorrect object identifier: {identifier}')\n",
    "        \n",
    "        obj = copy.deepcopy(found)\n",
    "        for key in attrs:\n",
    "            setattr(obj, key, attrs[key])\n",
    "        return obj\n"
   ]
  },
  {
   "cell_type": "markdown",
   "id": "sophisticated-financing",
   "metadata": {},
   "source": [
    "- in the `main()` function, we can clone a first `Website` instance (`site1`), to get a second objects `site2`\n",
    "- basically we instantiate the `prototype` class and we use its `.clone()` method"
   ]
  },
  {
   "cell_type": "code",
   "execution_count": 27,
   "id": "tough-touch",
   "metadata": {},
   "outputs": [],
   "source": [
    "def main():\n",
    "    keywords = ('python', 'data', 'apis', 'automation')\n",
    "    site1 = Website('ContentGardening',\n",
    "                    domain='contentgardening.com',\n",
    "                    description='Automation and data-driven apps',\n",
    "                    author='Kamon Ayeva',\n",
    "                    category='Blog',\n",
    "                    keywords=keywords)\n",
    "\n",
    "\n",
    "    prototype = Prototype()\n",
    "    identifier = 'ka-cg-1'\n",
    "    prototype.register(identifier, site1)\n",
    "    site2 = prototype.clone(identifier,\n",
    "                            name='ContentGardeningPlayground',\n",
    "                            domain='play.contentgardening.com',\n",
    "                            description='Experimentation for techniques featured on the blog',\n",
    "                            category='Membership site',\n",
    "                            creation_date='2018-08-01')\n"
   ]
  },
  {
   "cell_type": "markdown",
   "id": "surprised-confidentiality",
   "metadata": {},
   "source": [
    "- to end that function, we can use the `id()` function which returns the memeory address of an object, for comparing both objects addresses\n",
    "- when we clone an object using a deep copy, the memeory address of the clone must be different from the memeory addresses of the orginal object"
   ]
  },
  {
   "cell_type": "markdown",
   "id": "legitimate-feature",
   "metadata": {},
   "source": [
    "        for site in (site1, site2):\n",
    "            print(site)\n",
    "\n",
    "        print(f'ID site1 : {id(site1)} != ID site2 : {id(site2)}')"
   ]
  },
  {
   "cell_type": "markdown",
   "id": "supreme-provincial",
   "metadata": {},
   "source": [
    "__Summary__:\n",
    "1. define the `Website` class, with its initialization method (`__init__()`) and its string representation method (`__str__()`)\n",
    "2. define the `Prototype` class\n",
    "3. have a main function that:\n",
    "    - defines the `keywords` list we need\n",
    "    - create the instance of the `Website` class, called `site`\n",
    "    - create the `Prototype` object and we use its `register()` method to register `site` with its identifiers\n",
    "    - we clone the `site1` object to get `site2`"
   ]
  },
  {
   "cell_type": "markdown",
   "id": "proved-handy",
   "metadata": {},
   "source": [
    "> use the `id()` function to see if they have different memeory addresses"
   ]
  },
  {
   "cell_type": "markdown",
   "id": "advance-activity",
   "metadata": {},
   "source": [
    "## Singleton"
   ]
  },
  {
   "cell_type": "markdown",
   "id": "generic-sixth",
   "metadata": {},
   "source": [
    "- singleton pattern restricts the instantiation of a class to `one` object, which is useful when you need one object to coordinate actions for the system\n",
    "- the basic idea is that only one instance of a particular class, doing a job, is created for the needs of the program\n",
    "- to enusre this works, we need mechanism that prevent the instantiation of the class more than once and also prevent cloning"
   ]
  },
  {
   "cell_type": "markdown",
   "id": "explicit-amendment",
   "metadata": {},
   "source": [
    "### Real-world examples"
   ]
  },
  {
   "cell_type": "markdown",
   "id": "bacterial-electric",
   "metadata": {},
   "source": [
    "- thing of a captain of a boat or a ship\n",
    "- on the ship he is in charge and responsible for important decisions and a number of requests are directed to him because of this responsibility"
   ]
  },
  {
   "cell_type": "markdown",
   "id": "renewable-astronomy",
   "metadata": {},
   "source": [
    "- in software, the Plone CMS has, as its core, an implementation of the singleton\n",
    "- there are several singleton objects available at the root of a Plone site, called `tools`, each in charge of providing a specific set of features for the site\n",
    "- for example, the `Catalog tools` deals with content indexation and search features (built in search)\n",
    "- the `Membership tool` which deals with things releated to user profiles\n",
    "- each tool is global to the site, created from a specific `singleton` class and you cant create another instance of that `singleton` class in the context of the site"
   ]
  },
  {
   "cell_type": "markdown",
   "id": "british-function",
   "metadata": {},
   "source": [
    "### Use Cases"
   ]
  },
  {
   "cell_type": "markdown",
   "id": "multiple-testament",
   "metadata": {},
   "source": [
    "- is useful when you need to create only one object or need some sort of object capable of maintaining a global state for your program"
   ]
  },
  {
   "cell_type": "markdown",
   "id": "legislative-integration",
   "metadata": {},
   "source": [
    "- other possible use cases:\n",
    "    - controlling concurrent access to a shared resource. For example, the class managing the connection to a database\n",
    "    - a service or resource that is transversal in the sense that it can be accessed from different parts of the application or by different users and do its work; for example, the class at the core of the logging system or utility"
   ]
  },
  {
   "cell_type": "markdown",
   "id": "whole-tribune",
   "metadata": {},
   "source": [
    "### Implementation"
   ]
  },
  {
   "cell_type": "markdown",
   "id": "chronic-preliminary",
   "metadata": {},
   "source": [
    "- lets implement a program to fetch content from web pages inspired by the tutorial from `Micheal Ford`\n",
    "- we want to be able to track the list of web pages that were tracked, hence use of the singleton pattern: we need a signle object to maintain that global state"
   ]
  },
  {
   "cell_type": "code",
   "execution_count": 31,
   "id": "damaged-australia",
   "metadata": {},
   "outputs": [],
   "source": [
    "import urllib.parse\n",
    "import urllib.request\n",
    "\n",
    "class URLFetcher:\n",
    "    def __init__(self):\n",
    "        self.urls = []\n",
    "    def fetch(self, url):\n",
    "        req = urllib.request.Request(url)\n",
    "        with urllib.request.urlopen(req) as response:\n",
    "            if response.code == 200:\n",
    "                this_page = response.read()\n",
    "                print(the_page)\n",
    "                urls = self.urls\n",
    "                self.urls = urls"
   ]
  },
  {
   "cell_type": "markdown",
   "id": "designed-research",
   "metadata": {},
   "source": [
    "- to create a singleton, we need to make sure one can only create one instance of it\n",
    "- to see if our class implements a singleton or not, we could use a trick which consistgs of comparing two instances, using the `is` oeprator"
   ]
  },
  {
   "cell_type": "code",
   "execution_count": 32,
   "id": "universal-scout",
   "metadata": {},
   "outputs": [
    {
     "name": "stdout",
     "output_type": "stream",
     "text": [
      "False\n"
     ]
    }
   ],
   "source": [
    "if __name__ == '__main__':\n",
    "    f1 = URLFetcher()\n",
    "    f2 = URLFetcher()\n",
    "    print(f1 is f2)\n",
    "    #print(URLFetcher() is URLFetcher())\n"
   ]
  },
  {
   "cell_type": "markdown",
   "id": "equipped-communications",
   "metadata": {},
   "source": [
    "- the reccomended technique is to use `metaclass`\n",
    "- we first implement a metaclass for the singleton, meaning the class (or type) of the class that implements the singleton pattern, as follows"
   ]
  },
  {
   "cell_type": "code",
   "execution_count": 33,
   "id": "joint-banana",
   "metadata": {},
   "outputs": [],
   "source": [
    "class SingletonType(type):\n",
    "    _instances = {}\n",
    "    def __call__(cls, *args, **kwargs):\n",
    "        if cls not in cls._instances:\n",
    "            cls._instances[cls] = super(SingletonType, cls).__call__(*args, **kwargs)\n",
    "        return cls._instances[cls]"
   ]
  },
  {
   "cell_type": "markdown",
   "id": "colored-heart",
   "metadata": {},
   "source": [
    "- now we can rewrite the `URLFetcher` class to use that metaclass\n",
    "- we also add a `dump_url_registry()` method, which is useful to get the current list of URLs tracked"
   ]
  },
  {
   "cell_type": "code",
   "execution_count": 34,
   "id": "clear-monitoring",
   "metadata": {},
   "outputs": [
    {
     "name": "stdout",
     "output_type": "stream",
     "text": [
      "True\n"
     ]
    }
   ],
   "source": [
    "class URLFetcher(metaclass=SingletonType):\n",
    "    \n",
    "    def fetch(self, url):\n",
    "        req = urllib.request.Request(url)\n",
    "        with urllib.request.urlopen(req) as response:\n",
    "            if response.code == 200:\n",
    "                the_page = response.read()\n",
    "                print(the_page)\n",
    "                urls = self.urls\n",
    "                urls.append(url)\n",
    "                self.urls = urls\n",
    "        \n",
    "    def dump_url_registry(self):\n",
    "        return ', '.join(self.urls)\n",
    "            \n",
    "if __name__ == '__main__':\n",
    "    print(URLFetcher() is URLFetcher())"
   ]
  },
  {
   "cell_type": "code",
   "execution_count": 35,
   "id": "august-store",
   "metadata": {},
   "outputs": [],
   "source": [
    "def main():\n",
    "    MY_URLS = ['http://www.voidspace.org.uk',\n",
    "            'http://google.com',\n",
    "            'http://python.org',\n",
    "            'https://www.python.org/error',\n",
    "            ]\n",
    "    \n",
    "    print(URLFetcher() is URLFetcher())\n",
    "    \n",
    "    fetcher = URLFetcher()\n",
    "    for url in MY_URLS:\n",
    "        try:\n",
    "            fetcher.fetch(url)\n",
    "        except Exception as e:\n",
    "            print(e)\n",
    "    print('-------')\n",
    "    done_urls = fetcher.dump_url_registry()\n",
    "    print(f'Done URLs: {done_urls}')"
   ]
  },
  {
   "cell_type": "markdown",
   "id": "burning-carter",
   "metadata": {},
   "source": [
    "__Summary__:\n",
    "1. we define the `SingletonType` class, with its special `__call__()` method\n",
    "2. we define `URLFetcher`, the class implementing the fetcher for the web page, initalizing it with the `urls` attribute; we add its `fetch()` and `dump_url_registry()` methods"
   ]
  },
  {
   "cell_type": "markdown",
   "id": "minus-primary",
   "metadata": {},
   "source": []
  },
  {
   "cell_type": "markdown",
   "id": "communist-boundary",
   "metadata": {},
   "source": []
  },
  {
   "cell_type": "markdown",
   "id": "exceptional-socket",
   "metadata": {},
   "source": []
  },
  {
   "cell_type": "markdown",
   "id": "another-noise",
   "metadata": {},
   "source": []
  },
  {
   "cell_type": "markdown",
   "id": "deluxe-twins",
   "metadata": {},
   "source": []
  },
  {
   "cell_type": "markdown",
   "id": "higher-retailer",
   "metadata": {},
   "source": []
  },
  {
   "cell_type": "markdown",
   "id": "spectacular-installation",
   "metadata": {},
   "source": []
  },
  {
   "cell_type": "markdown",
   "id": "isolated-deviation",
   "metadata": {},
   "source": []
  },
  {
   "cell_type": "markdown",
   "id": "focused-midwest",
   "metadata": {},
   "source": []
  },
  {
   "cell_type": "markdown",
   "id": "random-armor",
   "metadata": {},
   "source": []
  },
  {
   "cell_type": "markdown",
   "id": "incorporated-episode",
   "metadata": {},
   "source": []
  }
 ],
 "metadata": {
  "kernelspec": {
   "display_name": "Python 3",
   "language": "python",
   "name": "python3"
  },
  "language_info": {
   "codemirror_mode": {
    "name": "ipython",
    "version": 3
   },
   "file_extension": ".py",
   "mimetype": "text/x-python",
   "name": "python",
   "nbconvert_exporter": "python",
   "pygments_lexer": "ipython3",
   "version": "3.9.2"
  }
 },
 "nbformat": 4,
 "nbformat_minor": 5
}
