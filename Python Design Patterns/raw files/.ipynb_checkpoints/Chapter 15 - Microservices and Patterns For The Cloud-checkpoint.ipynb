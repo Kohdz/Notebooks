{
 "cells": [
  {
   "cell_type": "markdown",
   "id": "lesbian-management",
   "metadata": {},
   "source": [
    " "
   ]
  },
  {
   "cell_type": "markdown",
   "id": "adopted-roads",
   "metadata": {},
   "source": [
    "## Overview"
   ]
  },
  {
   "cell_type": "markdown",
   "id": "brilliant-jacob",
   "metadata": {},
   "source": [
    "- microservices fall into `Modern Architecture-style` design patterns\n",
    "- the idea is that we can build an application as a set of loosely coupled, collaborating services\n",
    "- increasing number of applications are deployed in the cloud and must be designed upfront with this type of environment and its constraints in mind\n"
   ]
  },
  {
   "cell_type": "markdown",
   "id": "accurate-stock",
   "metadata": {},
   "source": [
    "- the microservice patterns we will focus on are: `Retry`, `Circuit Breaker` and `Cache-Aside` and `Throttling`"
   ]
  },
  {
   "cell_type": "markdown",
   "id": "acoustic-trace",
   "metadata": {},
   "source": [
    "## Microservice Pattern"
   ]
  },
  {
   "cell_type": "markdown",
   "id": "american-tournament",
   "metadata": {},
   "source": [
    "problems with Monolithic Model\n",
    "- sicne a signle code base is used, the development team has to work on maintaining the whole code base simultaneously\n",
    "- it is more difficult to organize testing and reproduce and fix bugs\n",
    "- tests and development becomes difficult to manage as the application and its user base grows and its constraints increase"
   ]
  },
  {
   "cell_type": "markdown",
   "id": "pointed-honey",
   "metadata": {},
   "source": [
    "### Use Cases "
   ]
  },
  {
   "cell_type": "markdown",
   "id": "blond-eight",
   "metadata": {},
   "source": [
    "microservice is a good choice when:\n",
    "- the requirement to support different clients, including desktop and mobile\n",
    "- there is an API for third parties to consume\n",
    "- we have to communicate with other applications using messaging\n",
    "- we serve requests by accessing a database, communicating with other systems, and returning the right type of response (`JSON`, `XML`, `HTML` or even `PDF`)\n",
    "- there are logical components corresponding to different functional areas of the application"
   ]
  },
  {
   "cell_type": "markdown",
   "id": "aboriginal-mauritius",
   "metadata": {},
   "source": [
    "### Implementation"
   ]
  },
  {
   "cell_type": "markdown",
   "id": "unauthorized-evaluation",
   "metadata": {},
   "source": [
    "- we will have to use docker because you need container when running multiple services\n",
    "- to use `RabbitMQ` using `Docker`\n",
    "    - `docker run -d -p 5672:5672 -p 15672:15672 --name rabbitmq rabbitmq`"
   ]
  },
  {
   "cell_type": "code",
   "execution_count": 1,
   "id": "damaged-watson",
   "metadata": {},
   "outputs": [],
   "source": [
    "def wrapper():\n",
    "    \n",
    "    fake = Faker()\n",
    "    \n",
    "    class PeopleListService:\n",
    "        name = 'peoplelist'\n",
    "        \n",
    "        @rpc\n",
    "        def populate(self, number=20):\n",
    "            names = []\n",
    "            for _ in range(0, number):\n",
    "                n = fake.name()\n",
    "                names.append(n)\n",
    "            return names"
   ]
  },
  {
   "cell_type": "code",
   "execution_count": 2,
   "id": "respective-irish",
   "metadata": {},
   "outputs": [],
   "source": [
    "def test_wrapper():\n",
    "    from nameko.testing.services import worker_factory\n",
    "    from service_first import PeopleListService\n",
    "    def test_people():\n",
    "        service_worker = worker_factory(PeopleListService)\n",
    "        result = service_worker.populate()\n",
    "        for name in result:\n",
    "            print(name)\n",
    "    if __name__ == \"__main__\":\n",
    "        test_people()\n"
   ]
  },
  {
   "cell_type": "markdown",
   "id": "ecological-subject",
   "metadata": {},
   "source": [
    "## Retry Pattern"
   ]
  },
  {
   "cell_type": "markdown",
   "id": "secondary-fusion",
   "metadata": {},
   "source": [
    "- `Retrying` is an approach that is more and more needed with microservices\n",
    "- there might be networking issues and we need to retry"
   ]
  },
  {
   "cell_type": "markdown",
   "id": "eight-jimmy",
   "metadata": {},
   "source": [
    "### Real-World Examples"
   ]
  },
  {
   "cell_type": "markdown",
   "id": "sunset-cooling",
   "metadata": {},
   "source": [
    "- in python the `Retrying` library is available to simplify the taks of adding retry behavior to our functions"
   ]
  },
  {
   "cell_type": "markdown",
   "id": "associate-blues",
   "metadata": {},
   "source": [
    "## Use Cases"
   ]
  },
  {
   "cell_type": "markdown",
   "id": "given-gravity",
   "metadata": {},
   "source": [
    "- `retrying` approach is not recommened for handling failures such as internal exceptions caused by errors in the application logic itself\n",
    "- also if there is frequent `retrying`, there might be scaling issues with the application"
   ]
  },
  {
   "cell_type": "code",
   "execution_count": 7,
   "id": "inside-italic",
   "metadata": {},
   "outputs": [],
   "source": [
    "import time\n",
    "import sys\n",
    "import os\n",
    "\n",
    "def create_file(filename, after_delay=5):\n",
    "    time.sleep(after_delay)\n",
    "    \n",
    "    with open(filename, 'w') as f:\n",
    "        f.write('A file creation test')\n",
    "\n",
    "def append_data_to_file(filename):\n",
    "    if os.path.exists(filename):\n",
    "        with open(filename, 'a') as f:\n",
    "            f.write(' ...Updating the file')\n",
    "    else:\n",
    "        raise OSError"
   ]
  },
  {
   "cell_type": "markdown",
   "id": "iraqi-width",
   "metadata": {},
   "source": [
    "- in the main part of the code, we use the right function depending on what is passed\n"
   ]
  },
  {
   "cell_type": "code",
   "execution_count": 9,
   "id": "modular-tennessee",
   "metadata": {},
   "outputs": [],
   "source": [
    "def wrapper():\n",
    "    FILENAME = 'file1.txt'\n",
    "    if __name__ == \"__main__\":\n",
    "        args = sys.argv\n",
    "\n",
    "        if args[1] == 'create':\n",
    "            create_file(FILENAME)\n",
    "            print(f\"Created file '{FILENAME}'\")\n",
    "        elif args[1] == 'update':\n",
    "            while True:\n",
    "                try:\n",
    "                    append_data_to_file(FILENAME)\n",
    "                    print(\"Success! We are done!\")\n",
    "                    break\n",
    "                except OSError as e:\n",
    "                    print(\"Error... Try again\")"
   ]
  },
  {
   "cell_type": "markdown",
   "id": "disturbed-nebraska",
   "metadata": {},
   "source": [
    "- we can also do this with a third party module"
   ]
  },
  {
   "cell_type": "code",
   "execution_count": 11,
   "id": "political-cassette",
   "metadata": {},
   "outputs": [],
   "source": [
    "def wrapper():\n",
    "    \n",
    "    import time\n",
    "    import sys\n",
    "    import os\n",
    "    from retrying import retry\n",
    "    \n",
    "    def create_file(filename, after_delay=5):\n",
    "        time.sleep(after_delay)\n",
    "        \n",
    "        with open(filename, 'w') as f:\n",
    "            f.write('A file creation test')\n",
    "            \n",
    "    @retry\n",
    "    def append_data_to_file(filename):\n",
    "        if os.path.exists(filename):\n",
    "            print(\"got the file... let's proceed!\")\n",
    "            with open(filename, 'a') as f:\n",
    "                f.write(' ...Updating the file')\n",
    "            return \"OK\"\n",
    "        else:\n",
    "            print(\"Error: Missing file, so we can't proceed. Retrying...\")\n",
    "            raise OSError"
   ]
  },
  {
   "cell_type": "markdown",
   "id": "unique-shame",
   "metadata": {},
   "source": [
    "- the `retry` module is not maintained\n",
    "- we can use the `tenacity module`"
   ]
  },
  {
   "cell_type": "code",
   "execution_count": 14,
   "id": "junior-species",
   "metadata": {},
   "outputs": [],
   "source": [
    "def wrapper():\n",
    "    import tenacity\n",
    "    \n",
    "    #@tenacity.retry(wait=tenacity.wait_exponential())\n",
    "    @tenacity.retry(wait=tenacity.wait_fixed(2))\n",
    "    def append_data_to_file(filename):\n",
    "        # code that could raise an exception\n",
    "        pass"
   ]
  },
  {
   "cell_type": "markdown",
   "id": "vietnamese-necessity",
   "metadata": {},
   "source": [
    "## Circuit Breaker Pattern"
   ]
  },
  {
   "cell_type": "markdown",
   "id": "downtown-causing",
   "metadata": {},
   "source": [
    "- when a failure to due to communication with an external component is likely to be long-lasting, using a retry mechanism can affect the responsiveness of the application"
   ]
  },
  {
   "cell_type": "markdown",
   "id": "appointed-latex",
   "metadata": {},
   "source": [
    "- with `circuit breaker`, you wrap a fragile function call in a special object, which monitors for failure\n",
    "- once the failures reach a certain threshold, the circuit breaker `trips` and all further call to the circuit breaker return with an error"
   ]
  },
  {
   "cell_type": "markdown",
   "id": "attended-phenomenon",
   "metadata": {},
   "source": [
    "- in python we use `pybreaker`"
   ]
  },
  {
   "cell_type": "markdown",
   "id": "cleared-discharge",
   "metadata": {},
   "source": [
    "### Implementation"
   ]
  },
  {
   "cell_type": "code",
   "execution_count": 16,
   "id": "convinced-cloud",
   "metadata": {},
   "outputs": [],
   "source": [
    "def wrapper():\n",
    "\n",
    "    import pybreaker\n",
    "    from datetime import datetime\n",
    "    import random\n",
    "    from time import sleep\n",
    "\n",
    "    \n",
    "    breaker = pybreaker.CircuitBreaker(fail_max=2, reset_timeout=5)\n",
    "\n",
    "    @breaker\n",
    "    def fragile_function():\n",
    "        if not random.choice([True, False]):\n",
    "            print(' / OK', end='')\n",
    "        else:\n",
    "            print(' / FAIL', end='')\n",
    "            raise Exception('This is a sample Exception')\n",
    "    \n",
    "    \n",
    "    if __name__ == \"__main__\":\n",
    "        while True:\n",
    "            print(datetime.now().strftime('%Y-%m-%d %H:%M:%S'), end='')\n",
    "        \n",
    "        try:\n",
    "            fragile_function()\n",
    "        except Exception as e:\n",
    "            print(' / {} {}'.format(type(e), e), end='')\n",
    "        finally:\n",
    "            print('')\n",
    "            sleep(1)"
   ]
  },
  {
   "cell_type": "markdown",
   "id": "polished-softball",
   "metadata": {},
   "source": [
    "## The Cache-Aside Pattern"
   ]
  },
  {
   "cell_type": "markdown",
   "id": "focused-small",
   "metadata": {},
   "source": [
    "- a situation where data is more frequently read than updated, applications use a cache to optimize repeated access to information stored in a database or data store "
   ]
  },
  {
   "cell_type": "markdown",
   "id": "involved-miracle",
   "metadata": {},
   "source": [
    "> Load data on demand into a cache from a data store, as an attempt to improve performance, while maintaining consistency between data held in the cache and the data in the underlying data store"
   ]
  },
  {
   "cell_type": "markdown",
   "id": "narrow-browser",
   "metadata": {},
   "source": [
    "### Realworld-examples"
   ]
  },
  {
   "cell_type": "markdown",
   "id": "contemporary-indiana",
   "metadata": {},
   "source": [
    "- realworld examples are `Memcached`; which is a popular in-memeory `key-value` store for small chunks of data\n",
    "- `Redis` is another server solution"
   ]
  },
  {
   "cell_type": "markdown",
   "id": "dynamic-sunday",
   "metadata": {},
   "source": [
    "- Amazons `ElastiCache`, according to the documentation is a web service that makes it easy to set up, manage and scale distributed in-memeory data store or cache environment in the cloud"
   ]
  },
  {
   "cell_type": "markdown",
   "id": "elder-problem",
   "metadata": {},
   "source": [
    "### Use cases"
   ]
  },
  {
   "cell_type": "markdown",
   "id": "verified-retirement",
   "metadata": {},
   "source": [
    "- useful for data that does not change often and for data storage that doesn't depend on consistency of a set of entries in the storage\n",
    "- pattern might not be suitable in the case where cached data set is static or for caching session state information in a web application hosted in a web farm"
   ]
  },
  {
   "cell_type": "markdown",
   "id": "cooperative-transport",
   "metadata": {},
   "source": [
    "### Implementation"
   ]
  },
  {
   "cell_type": "markdown",
   "id": "interpreted-transparency",
   "metadata": {},
   "source": [
    "__Case 1__:\n",
    "- when we want to fetch a data item: return the item from cache if found in it. If not found in cache, read the data from the database. Put the read item in the cache and return it\n",
    "__Case 2__:\n",
    "- when we want to update a data item: write the item in the database and remove the corresponding entry from the cache"
   ]
  },
  {
   "cell_type": "code",
   "execution_count": 21,
   "id": "absolute-mixture",
   "metadata": {},
   "outputs": [],
   "source": [
    "def wrapper():\n",
    "    \n",
    "    import sys\n",
    "    import sqlite3\n",
    "    import csv\n",
    "    from random import randint\n",
    "    from faker import Faker\n",
    "    fake = Faker()\n",
    "\n",
    "    def setup_db():\n",
    "        try:\n",
    "            db = sqlite3.connect('data/quotes.sqlite3')\n",
    "            # Get a cursor object\n",
    "            cursor = db.cursor()\n",
    "            cursor.execute('''\n",
    "                CREATE TABLE quotes(id INTEGER PRIMARY KEY, text TEXT)\n",
    "            ''')\n",
    "            db.commit()\n",
    "        except Exception as e:\n",
    "            print(e)\n",
    "        finally:\n",
    "            db.close()\n",
    "            \n",
    "    def add_quotes(quotes_list):\n",
    "        quotes = []\n",
    "        try:\n",
    "            db =  db = sqlite3.connect('data/quotes.sqlite3')\n",
    "            cursor = db.cursor()\n",
    "            \n",
    "            quotes = []\n",
    "            for quote_text in quotes_list:\n",
    "                quote_id = randint(1, 100)\n",
    "                quote = (quote_id, quote_text)\n",
    "                try:\n",
    "                    cursor.execute('''INSERT INTO quotes(id, text) VALUES(?, ?)''', quote)\n",
    "                    quotes.append(quotes)\n",
    "                except Exception as e:\n",
    "                    print(f\"Error with quote id {quote_id}: {e}\")\n",
    "            db.commit()\n",
    "        except Exception as e:\n",
    "            print(e)\n",
    "        finally:\n",
    "            db.close()\n",
    "        return quotes\n",
    "    \n",
    "def main():\n",
    "    args = sys.argv\n",
    "    if args[1] == 'init':\n",
    "        setup_db()\n",
    "    \n",
    "    elif args[1] == 'update_db_and_cache':\n",
    "        quotes_list = [fake.sentence() for _ in range(1, 11)]\n",
    "        quotes = add_quotes(quotes_list)\n",
    "        print(\"New (fake) quotes added to the database:\")\n",
    "        for q in quotes:\n",
    "            print(f\"Added to DB: {q}\")\n",
    "    \n",
    "        # Populate the cache with this content\n",
    "        with open('data/quotes_cache.csv', \"a\", newline=\"\") as csv_file:\n",
    "            writer = csv.DictWriter(csv_file,\n",
    "                                    fieldnames=['id', 'text'],\n",
    "                                    delimiter=\";\")\n",
    "            for q in quotes:\n",
    "                print(f\"Adding '{q[1]}' to cache\")\n",
    "                writer.writerow({'id': str(q[0]), 'text': q[1]})\n",
    "    elif args[1] == 'update_db_only':\n",
    "        quotes_list = [fake.sentence() for _ in range(1, 11)]\n",
    "        quotes = add_quotes(quotes_list)\n",
    "        print(\"New (fake) quotes added to the database ONLY:\")\n",
    "        for q in quotes:\n",
    "            print(f\"Added to DB: {q}\")\n",
    "\n",
    "# if __name__ == \"__main__\":\n",
    "#     main()"
   ]
  },
  {
   "cell_type": "code",
   "execution_count": 26,
   "id": "executive-shark",
   "metadata": {},
   "outputs": [],
   "source": [
    "def wrapper_cache_aside():\n",
    "    import sys\n",
    "    import sqlite3\n",
    "    import csv\n",
    "    \n",
    "    cache_key_prefix = \"quotes\"\n",
    "    \n",
    "    class QuoteCache:\n",
    "        def __init__(self, filename=\"\"):\n",
    "            self.filename = filename\n",
    "            \n",
    "        def get(self, key):\n",
    "            with open(self.filename) as csv_file:\n",
    "                items = csv.reader(csv_file, delimiter=';')\n",
    "                for item in items:\n",
    "                    if item[0] == key.split('.')[1]:\n",
    "                        return item[1]\n",
    "        def set(self, key, quote):\n",
    "            existing = []\n",
    "            with open(self.filename) as csv_file:\n",
    "                items = csv.reader(csv_file, delimiter=';')\n",
    "                existing = [cache_key_prefix + \".\" + item[0] for item in items]\n",
    "            \n",
    "            if key in existing:\n",
    "                print(\"This is weird. The key already exists.\")\n",
    "            else:\n",
    "                # save the new data\n",
    "                with open(self.filename, \"a\", newline=\"\") as csv_file:\n",
    "                    writer = csv.DictWriter(csv_file,\n",
    "                                            fieldnames=['id', 'text'],\n",
    "                                            delimiter=\";\")\n",
    "                    writer.writerow({'id': key.split('.')[1], 'text': quote})\n",
    "\n",
    "        cache = QuoteCache('data/quotes_cache.csv')\n",
    "\n",
    "        def get_quote(quote_id):\n",
    "            quote = cache.get(f\"quote.{quote_id}\")\n",
    "            out = \"\"\n",
    "\n",
    "            if quote is None:\n",
    "                try:\n",
    "                    db = sqlite3.connect('data/quotes.sqlite3')\n",
    "                    cursor = db.cursor()\n",
    "                    cursor.execute(f\"SELECT text FROM quotes WHERE id = {quote_id}\")\n",
    "                    for row in cursor:\n",
    "                        quote = row[0]\n",
    "                        print(f\"Got '{quote}' FROM DB\")\n",
    "                except Exception as e:\n",
    "                    print(e)\n",
    "                finally:\n",
    "                    # Close the db connection\n",
    "                    db.close()\n",
    "\n",
    "                # and add it to the cache\n",
    "                key = f\"{cache_key_prefix}.{quote_id}\"\n",
    "                cache.set(key, quote)\n",
    "            if quote:\n",
    "                out = f\"{quote} (FROM CACHE, with key 'quote.{quote_id}')\"\n",
    "            return out\n",
    "\n",
    "    if __name__ == \"__main__\":\n",
    "        args = sys.argv\n",
    "        \n",
    "        if args[1] == 'fetch':\n",
    "            while True:\n",
    "                quote_id = input('Enter the ID of the quote: ')\n",
    "                q = get_quote(quote_id)\n",
    "                if q:\n",
    "                    print(q)\n"
   ]
  },
  {
   "cell_type": "markdown",
   "id": "recent-morrison",
   "metadata": {},
   "source": [
    "## Throttling"
   ]
  },
  {
   "cell_type": "markdown",
   "id": "weird-legislature",
   "metadata": {},
   "source": [
    "- throttling is based on limiting the number of requests a user can send to a given web service in a given amount of time"
   ]
  },
  {
   "cell_type": "markdown",
   "id": "efficient-mobility",
   "metadata": {},
   "source": [
    "### Implementation"
   ]
  },
  {
   "cell_type": "markdown",
   "id": "pleasant-ukraine",
   "metadata": {},
   "source": [
    "- differnet types of limiters limit based on `IP` or `session` or `account`\n"
   ]
  },
  {
   "cell_type": "code",
   "execution_count": 27,
   "id": "cubic-writer",
   "metadata": {},
   "outputs": [],
   "source": [
    "def wrapper():\n",
    "    from flask import Flask\n",
    "    app = Flask(__name__)\n",
    "\n",
    "    limiter = Limiter(\n",
    "        app,\n",
    "        key_func=get_remote_address,\n",
    "        default_limits=[\"100 per day\", \"10 per hour\"]\n",
    "    )\n",
    "    \n",
    "    @app.route(\"/limited\")\n",
    "    def limited_api():\n",
    "        return \"Welcome to our API!\"\n",
    "    \n",
    "    @app.route(\"/more_limited\")\n",
    "    @limiter.limit(\"2/minute\")\n",
    "    def more_limited_api():\n",
    "        return \"Welcome to our expensive, thus very limited, API!\""
   ]
  }
 ],
 "metadata": {
  "kernelspec": {
   "display_name": "Python 3",
   "language": "python",
   "name": "python3"
  },
  "language_info": {
   "codemirror_mode": {
    "name": "ipython",
    "version": 3
   },
   "file_extension": ".py",
   "mimetype": "text/x-python",
   "name": "python",
   "nbconvert_exporter": "python",
   "pygments_lexer": "ipython3",
   "version": "3.9.2"
  }
 },
 "nbformat": 4,
 "nbformat_minor": 5
}
