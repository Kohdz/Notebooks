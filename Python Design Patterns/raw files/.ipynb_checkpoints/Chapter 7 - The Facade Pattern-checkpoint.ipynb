{
 "cells": [
  {
   "cell_type": "markdown",
   "id": "varying-ethics",
   "metadata": {},
   "source": [
    "## Overview"
   ]
  },
  {
   "cell_type": "markdown",
   "id": "annual-attack",
   "metadata": {},
   "source": [
    "- The `facade` pattern helps us to hide internal complexity of our systems and expose only what is neccessary to the client through a simplified inteface. \n",
    "- `facade` is an abstraction layer implemented over an existing complex system\n",
    "- on OOP this means that you can have several classes, but only one should be exposed to the client"
   ]
  },
  {
   "cell_type": "markdown",
   "id": "single-belize",
   "metadata": {},
   "source": [
    "## Real-world examples"
   ]
  },
  {
   "cell_type": "markdown",
   "id": "pending-tuning",
   "metadata": {},
   "source": [
    "- when you call a bank, the customer service employee acts as a `facade` between you and the actual department\n",
    "- a `key` to a car can be a `facade` to the complex process of starting a car"
   ]
  },
  {
   "cell_type": "markdown",
   "id": "dirty-logan",
   "metadata": {},
   "source": [
    "## Use Cases"
   ]
  },
  {
   "cell_type": "markdown",
   "id": "billion-heater",
   "metadata": {},
   "source": [
    "- most usual reason to use the `facade` pattern is for providing a single, simple entry point to a complex system\n",
    "- by introducing the `facade`. the client code can use a system by simply calling a single method/function\n",
    "- when you have more than one layer in your system, you can introduce one `facade` entry point per layer, and let all layers communicate with each other through their facades\n",
    "- this promotes `loose coupling` and keeps the layers as independent as possible"
   ]
  },
  {
   "cell_type": "markdown",
   "id": "noted-model",
   "metadata": {},
   "source": [
    "## Implementation"
   ]
  },
  {
   "cell_type": "markdown",
   "id": "spanish-european",
   "metadata": {},
   "source": [
    "- assume we want to create an operating system using a multi-server approach, similar to how it is done in `MINIX 3` or `GNU Hurd`\n",
    "- a multiserver operating system has a minimal kernal, called a `microkernel`, which runs in privileged mode\n",
    "- all the other services of the system are following a server architecture (driver server, process server, etc)\n",
    "- each server belongs to a different memory address space and runs on top of the microkernel in user mode"
   ]
  },
  {
   "cell_type": "markdown",
   "id": "presidential-auction",
   "metadata": {},
   "source": [
    "- the pros of this approach are that the operating system can become more fault-tolerant, reliable ans secure\n",
    "- for example, since all drivers are running in user mode on a driver server, a bug in a driver cannot crash the whole system, nor can it affect the other servers"
   ]
  },
  {
   "cell_type": "markdown",
   "id": "hourly-cookbook",
   "metadata": {},
   "source": [
    "- the cons of the approachare the performance overhead and the complexity of system programming, because the communication between a server and the `microkernel`, as well as between the independent servers, happens using message passing\n",
    "- message passing is more complex than the shared memeory model used in monolithic kernels such as `Linux`"
   ]
  },
  {
   "cell_type": "markdown",
   "id": "common-chest",
   "metadata": {},
   "source": [
    "- we begin with a `Server` interface. An `Enum` parameter describes the different possible states of a server\n",
    "- we use the `ABC` module to forbid direct instantiation of the `Service` interface and make the fundamental `boot()` and `kill()` methods mandatory, assuming that different actions are needed to be taken for booting, killing, and restarting each server"
   ]
  },
  {
   "cell_type": "markdown",
   "id": "banned-universe",
   "metadata": {},
   "source": [
    "__ABC Module__:\n",
    "- we need to subclass `ABCMeta` using the `metaclass` keyword\n",
    "- we use the `@abstractmethod` decorator for starting which methods should be implemented (mandatory) by all subclasses of servers"
   ]
  },
  {
   "cell_type": "code",
   "execution_count": 6,
   "id": "decreased-hawaiian",
   "metadata": {},
   "outputs": [],
   "source": [
    "from abc import abstractmethod, ABCMeta\n",
    "from enum import Enum\n",
    "\n",
    "State = Enum('State', 'new running sleeping restart zombie')\n",
    "\n",
    "class Server(metaclass=ABCMeta):\n",
    "    def __init__(self):\n",
    "        pass\n",
    "    def __str__(self):\n",
    "        return self.name\n",
    "    \n",
    "    @abstractmethod\n",
    "    def boot(self):\n",
    "        pass\n",
    "    \n",
    "    @abstractmethod\n",
    "    def kill(self, restart=True):\n",
    "        pass"
   ]
  },
  {
   "cell_type": "markdown",
   "id": "chemical-calibration",
   "metadata": {},
   "source": [
    "- a modular operating system can have a great number of intersting servers: a file server, processing server, an authentication server, a network server, a graphical/window server, etc.\n",
    "- the following example includes two stub servers: the `FileServer` and the `ProcessServer`\n",
    "- Apart form the methods required to be implemented by the `Server` interface, each server can have its own specific method\n",
    "- for instance, the `FileServer` has a `create_file()` method for creating files, and the `ProcessServer` has a `create_process()` method for creating processes"
   ]
  },
  {
   "cell_type": "code",
   "execution_count": 8,
   "id": "rural-marking",
   "metadata": {},
   "outputs": [],
   "source": [
    "class FileServer(Server):\n",
    "    def __init__(self):\n",
    "        '''actions required for initializing the file server'''\n",
    "        self.name = 'FileServer'\n",
    "        self.state = State.new\n",
    "        \n",
    "    def boot(self):\n",
    "        print(f'booting the {self}')\n",
    "        '''actions required for booting the file server'''\n",
    "        self.state = State.running\n",
    "        \n",
    "    def kill(self, restart=True):\n",
    "        print(f'Killing {self}')\n",
    "        '''actions required for killing the file server'''\n",
    "        self.state = State.restart if restart else State.zombie\n",
    "        \n",
    "    def create_file(self, user, name, permissions):\n",
    "        '''check validity of permissions, users rights, etc.'''\n",
    "        print(f\"trying to create the file '{name}' for user '{user}' with permissions {permissions}\")\n",
    "        \n",
    "class ProcessServer(Server):\n",
    "    def __init__(self):\n",
    "        '''actions required for initializing the process server'''\n",
    "        self.name = 'ProcessServer'\n",
    "        self.state = State.new\n",
    "    \n",
    "    def boot(self):\n",
    "        print(f'booting the {self}')\n",
    "        '''actions required for bootin'''\n",
    "        self.state = State.running\n",
    "        \n",
    "    def kill(self, restart=True):\n",
    "        print(f'Killing {self}')\n",
    "        '''actions required for killing the process server'''\n",
    "        self.state = State.restart if restart else State.zombie\n",
    "    def create_process(self, user, name):\n",
    "        '''check user rights, generate PID, etc.'''\n",
    "        print(f\"trying to create the process '{name}' for user '{user}'\")\n"
   ]
  },
  {
   "cell_type": "markdown",
   "id": "weekly-extra",
   "metadata": {},
   "source": [
    "- the `OperatingSystem` class is a `facade`\n",
    "- in the `__init__()`, all the necessary server instances are created\n",
    "- the `start()` method  used by the client code, is the entry point to the system\n",
    "- more wrapper methods  can be added, if necessary, as access points to the services of the servers, such as the wrappers, `create_files()` and `create_process()`\n",
    "- from the clients point of view, all those services are provided by the `OperatingSystem` class\n",
    "- the client should not be confused by unnecessary details such as the existence of server and the responsibility of each server"
   ]
  },
  {
   "cell_type": "code",
   "execution_count": 10,
   "id": "decimal-conservative",
   "metadata": {},
   "outputs": [],
   "source": [
    "class OperatingSystem:\n",
    "    '''The Facade'''\n",
    "    def __init__(self):\n",
    "        self.fs = FileServer()\n",
    "        self.ps = ProcessServer()\n",
    "\n",
    "    def start(self):\n",
    "        [i.boot() for i in (self.fs, self.ps)]\n",
    "        \n",
    "    def create_file(self, user, name, permissions):\n",
    "        return self.fs.create_file(user, name, permissions)\n",
    "    \n",
    "    def create_process(self, user, name):\n",
    "        return self.ps.create_process(user, name)"
   ]
  },
  {
   "cell_type": "code",
   "execution_count": 13,
   "id": "atlantic-albany",
   "metadata": {},
   "outputs": [],
   "source": [
    "class User:\n",
    "    pass\n",
    "\n",
    "class Process:\n",
    "    pass\n",
    "\n",
    "class File:\n",
    "    pass\n",
    "\n",
    "\n",
    "class WindowServer:\n",
    "    '''dummy class'''\n",
    "    pass\n",
    "\n",
    "\n",
    "class NetworkServer:\n",
    "    '''dummy class'''\n",
    "    pass\n",
    "\n",
    "\n",
    "def main():\n",
    "    os = OperatingSystem()\n",
    "    os.start()\n",
    "    os.create_file('foo', 'hello', '-rw-r-r')\n",
    "    os.create_process('bar', 'ls', '/tmp')\n",
    "    \n",
    "    if __name__ == '__main__':\n",
    "        main()"
   ]
  },
  {
   "cell_type": "markdown",
   "id": "seeing-credits",
   "metadata": {},
   "source": [
    "    //output from code above\n",
    "\n",
    "    booting the FileServer\n",
    "    booting the ProcessServer\n",
    "    trying to create the file 'hello' for user 'foo' with permissions -rw-r-r\n",
    "    trying to create the process 'ls /tmp' for user 'bar'\n"
   ]
  },
  {
   "cell_type": "markdown",
   "id": "central-consumption",
   "metadata": {},
   "source": [
    "## Summary"
   ]
  },
  {
   "cell_type": "markdown",
   "id": "threaded-darkness",
   "metadata": {},
   "source": [
    "- the `facade` pattern is ideal for providing a simple interface to client code that wants to use a complex system but does not need to be aware of the system' complexity"
   ]
  }
 ],
 "metadata": {
  "kernelspec": {
   "display_name": "Python 3",
   "language": "python",
   "name": "python3"
  },
  "language_info": {
   "codemirror_mode": {
    "name": "ipython",
    "version": 3
   },
   "file_extension": ".py",
   "mimetype": "text/x-python",
   "name": "python",
   "nbconvert_exporter": "python",
   "pygments_lexer": "ipython3",
   "version": "3.9.2"
  }
 },
 "nbformat": 4,
 "nbformat_minor": 5
}
