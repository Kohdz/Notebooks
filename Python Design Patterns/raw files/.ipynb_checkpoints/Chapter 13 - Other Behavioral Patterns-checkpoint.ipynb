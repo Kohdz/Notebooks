{
 "cells": [
  {
   "cell_type": "markdown",
   "id": "gross-source",
   "metadata": {},
   "source": [
    "## Overview"
   ]
  },
  {
   "cell_type": "markdown",
   "id": "incorrect-particular",
   "metadata": {},
   "source": [
    "the rest of the `Behavioral Patterns` are:\n",
    "- `Interpreter`\n",
    "- `Memento`\n",
    "- `Iterator`\n",
    "- `Template`"
   ]
  },
  {
   "cell_type": "markdown",
   "id": "dramatic-memory",
   "metadata": {},
   "source": [
    "`Interpreter Pattern`:\n",
    "- the pattern is intersting for the advanced user of an application\n",
    "- the main idea behind this pattern is to give the ability to non-begginer `users` and domain experts to use a simple language, to get more productive in doing what they need to with the application\n"
   ]
  },
  {
   "cell_type": "markdown",
   "id": "cooked-mississippi",
   "metadata": {},
   "source": [
    "`Stragety Pattern`\n",
    "- the pattern promotes using multiple algorithms to solve a problem\n",
    "- for example, if you have two algorithms to solve a problem with some difference in performance depending on the input data, you can use stragety to decide which alogirhtm to use based on the input data at runtime"
   ]
  },
  {
   "cell_type": "markdown",
   "id": "empirical-handy",
   "metadata": {},
   "source": [
    "`Memento Pattern`\n",
    "- the memento pattern helps add support for `Undo` and/or `History` in an application\n",
    "- when implemented,  for a given object, the user is able to restore a previous state that was created and kept for later possible use"
   ]
  },
  {
   "cell_type": "markdown",
   "id": "african-possibility",
   "metadata": {},
   "source": [
    "`Iterator Pattern`\n",
    "- the pattern offers an efficient way to handle a container of objects and traverse to these memebers once at a time, using the famous `next` semantic\n",
    "- it really useful since, in programming, we use sequences and collections of objects alot, particularly in algorithms"
   ]
  },
  {
   "cell_type": "markdown",
   "id": "employed-rehabilitation",
   "metadata": {},
   "source": [
    "`Template Pattern`\n",
    "- the pattern focus on eliminating code redundancy\n",
    "- the idea is that we should be able to redefine certain parts of an algorithm without changing its structure"
   ]
  },
  {
   "cell_type": "markdown",
   "id": "sorted-stretch",
   "metadata": {},
   "source": [
    "## Interpreter Pattern"
   ]
  },
  {
   "cell_type": "markdown",
   "id": "speaking-glucose",
   "metadata": {},
   "source": [
    "- usually what we want to do is create a `domain-specific language` (`DSL`)\n",
    "- a `DSL` is a computer language of limited expressiveness targeting a particular domain\n",
    "- `DSLs` are used for different things, such as combact simulation, billing, visualization, configuration, communication protocols, and so on\n",
    "- `DSLs` are devided into internal `DSLs` and external `DSLs`"
   ]
  },
  {
   "cell_type": "markdown",
   "id": "deadly-dominant",
   "metadata": {},
   "source": [
    "`Internal DSLs` are built on top of a host programming language\n",
    "- an example is a language that solves linear equations using Python\n",
    "- the benefits is that we dont have to wory about creating, compiling and parsing grammer because the host language does that\n",
    "- the disadvantage is taht we are limited to the features of the host language"
   ]
  },
  {
   "cell_type": "markdown",
   "id": "interesting-routine",
   "metadata": {},
   "source": [
    "`External DSLs` do not depend on any host language\n",
    "- the creater of the DSL can decide al aspects of the language (grammer, sytnax, etc) but are also responsible for creating a parser and compiler"
   ]
  },
  {
   "cell_type": "markdown",
   "id": "caroline-cylinder",
   "metadata": {},
   "source": [
    "- the `interpreter` pattern is related only to internal `DSLs`\n",
    "- the interpreter does not address parsing at all\n",
    "- it assumes that we already have the parsed data in some convenient form\n",
    "- this can be an `abstract syntax tree (AST)` or any other handy data structure"
   ]
  },
  {
   "cell_type": "markdown",
   "id": "serial-uncle",
   "metadata": {},
   "source": [
    "### Real World Example"
   ]
  },
  {
   "cell_type": "markdown",
   "id": "municipal-panic",
   "metadata": {},
   "source": [
    "- a musician is an example of the `Interpreter` pattern\n",
    "- musical notation represents the pitch and duration of a sound graphically\n",
    "- the musician is able to reproduce a sound precisely based on its notation"
   ]
  },
  {
   "cell_type": "markdown",
   "id": "aerial-plaintiff",
   "metadata": {},
   "source": [
    "## Use Cases"
   ]
  },
  {
   "cell_type": "markdown",
   "id": "pediatric-castle",
   "metadata": {},
   "source": [
    "- used when we want to offer a simple language to domain experts and advanced users to solve their problems\n",
    "- the interpreter should only be used to implement simple languages, other wise use an `external DSL`"
   ]
  },
  {
   "cell_type": "markdown",
   "id": "amateur-laugh",
   "metadata": {},
   "source": [
    "- the goal is to offer the right programming abstractions to the specialist (who are often not a programmers) so that they are more productive\n",
    "- the focus is on offering a language that hides the peculiarities of the host language and offers a more human-readable syntax"
   ]
  },
  {
   "cell_type": "markdown",
   "id": "accurate-calculator",
   "metadata": {},
   "source": [
    "## Implementation"
   ]
  },
  {
   "cell_type": "markdown",
   "id": "incorporated-liberal",
   "metadata": {},
   "source": [
    "- we will create a `DSL` to control a smart home\n",
    "- this fits into the `Internet of Things` era\n",
    "- the user is able to control their home using a very simple event notation\n",
    "- an event notation has the form of:\n",
    "    - `command -> receiver -> argument`\n",
    "- the `argument` part is optional\n",
    "- not all events require arguments:\n",
    "    - `open -> game`\n",
    "- some events require arguments\n",
    "    - `increase -> boiler temperature -> 3 degrees`"
   ]
  },
  {
   "cell_type": "markdown",
   "id": "completed-mayor",
   "metadata": {},
   "source": [
    "- the symbol `->` is used to mark the end of one part of an event and state the beginning of the next\n",
    "- we will use regular expressions to parse this stuff\n",
    "- the parsing part will be created using a tool called `Pyparsing`\n",
    "-  `pip install pyparsing`"
   ]
  },
  {
   "cell_type": "markdown",
   "id": "changing-combination",
   "metadata": {},
   "source": [
    "- we will define simple grammer for our language\n",
    "- we can define the grammer using the `Backus-Naur Form` (`BNF`) notation\n",
    "\n",
    "        event ::= command token receiver token arguments\n",
    "        command ::= word+\n",
    "        word ::= a collection of one or more alphanumeric characters\n",
    "        token ::= ->\n",
    "        receiver ::= word+\n",
    "        arguments ::= word+\n"
   ]
  },
  {
   "cell_type": "markdown",
   "id": "internal-change",
   "metadata": {},
   "source": [
    "- what the grammer tells us is that an event has the form of `command -> receiver -> argument` and that commands, receivers and arguments have the same form\n",
    "    - the form is one or more alphanumeric characters\n",
    "    - if you are woundering about the necessity of the numeric part, it is included to allow us to pass the arughments, such as degrees at the `increase -> boiler temperature -> 3 degrees` command\n"
   ]
  },
  {
   "cell_type": "markdown",
   "id": "outstanding-designer",
   "metadata": {},
   "source": [
    "- the basic difference between the code and grammer definition is the code needs to be written in the bottom-up approach\n",
    "- we cannot use a word without first assigning it a value\n",
    "- `Suppress` is used to state that we want the `->` symbol to be skipped from the parsed results\n"
   ]
  },
  {
   "cell_type": "markdown",
   "id": "bibliographic-arbor",
   "metadata": {},
   "source": [
    "- we will focus on just one placeholder class called the `Boiler` class\n",
    "- a boiler has a default temperature of `83 Celsius`\n",
    "- there are also two methods to increase and decrease the current tempature"
   ]
  },
  {
   "cell_type": "code",
   "execution_count": 4,
   "id": "occupational-combining",
   "metadata": {},
   "outputs": [],
   "source": [
    "class Boiler:\n",
    "    def __init__(self):\n",
    "        self.temperature = 83 # in celsius\n",
    "    def __str__(self):\n",
    "        return f'boiler temperature: {self.temperature}'\n",
    "    def increase_temperature(self, amount):\n",
    "        print(f\"increasing the boiler's temperature by {amount} degrees\")\n",
    "    def decrease_temperature(self, amount):\n",
    "        print(f\"decreasing the boilers tempature by {amount} degrees\")\n",
    "        self.temperature -= amount"
   ]
  },
  {
   "cell_type": "markdown",
   "id": "alternative-rachel",
   "metadata": {},
   "source": [
    "- the next step is to add the grammar, which we already covered\n",
    "- we will create a `boiler` instance and print the default behavior"
   ]
  },
  {
   "cell_type": "code",
   "execution_count": 9,
   "id": "retained-eating",
   "metadata": {},
   "outputs": [],
   "source": [
    "'''\n",
    "from pyparsing import Word, OneOrMore, Optional, Group, Suppress,\n",
    "alphanums'''\n",
    "\n",
    "\n",
    "def grammer_to_code():\n",
    "    word = Word(alphanums)\n",
    "    command = Group(OneOrMore(word))\n",
    "    token = Suppress(\"->\")\n",
    "    device = Group(OneOrMore(word))\n",
    "    argument = Group(OneOrMore(word))\n",
    "    event = command + token + device + Optional(token + argument)\n",
    "    \n",
    "    boiler = Boiler()\n",
    "    print(boiler)\n",
    "    \n",
    "    # simplest way to retrieve the parsed output is using pyparsing\n",
    "    print(event.parseString('increase -> boiler temperature -> 3 degrees'))\n",
    "    \n",
    "    cmd, vev, arg = event.parseString('increase -> boiler temperature -> 3 degrees')\n",
    "    cmd_str = ' '.join(cmd)\n",
    "    dev_str = ' '.join(dev)\n",
    "    \n",
    "    if 'increase' in cmd_str and 'boiler' in dev_str:\n",
    "        boiler.increase_temperature(int(arg[0]))\n",
    "    print(boiler)"
   ]
  },
  {
   "cell_type": "markdown",
   "id": "understanding-glossary",
   "metadata": {},
   "source": [
    "## Stragety Pattern"
   ]
  },
  {
   "cell_type": "markdown",
   "id": "adverse-engagement",
   "metadata": {},
   "source": [
    "- most problems can be solved in more than one way\n",
    "- take, for example, the sorting proble, which is related to putting elements of a list in a specific order\n",
    "- we can use the stragety pattern to pick out the best sorting algorithm"
   ]
  },
  {
   "cell_type": "markdown",
   "id": "aging-traveler",
   "metadata": {},
   "source": [
    "- the `Stragety` pattern promotes using multiple algorithms to solve a problem\n",
    "- it killer feature is that it makes it possible to switch algorithms at runtime transparently (the client code is unaware of the change)\n",
    "- so if you have two algorithms and you know that one works better with small input sizes, while the other works better with large input sizes, you can use `Strategy` to decide which algorithm to use based on the input data at runtime"
   ]
  },
  {
   "cell_type": "markdown",
   "id": "engaged-recovery",
   "metadata": {},
   "source": [
    "### Real-world Example"
   ]
  },
  {
   "cell_type": "markdown",
   "id": "deluxe-chair",
   "metadata": {},
   "source": [
    "- reaching an airport to catch a flight\n",
    "- if you want to save money, leave early by bus/train and not pay for parking or taxi"
   ]
  },
  {
   "cell_type": "markdown",
   "id": "wooden-tenant",
   "metadata": {},
   "source": [
    "- in python you have `sorted()` and `list.sort()`\n",
    "- one does it in plase while the other returns a new sorted array"
   ]
  },
  {
   "cell_type": "markdown",
   "id": "industrial-thirty",
   "metadata": {},
   "source": [
    "### Use Cases"
   ]
  },
  {
   "cell_type": "markdown",
   "id": "collectible-writing",
   "metadata": {},
   "source": [
    "- `Strategy` is a very generic design pattern with many use cases\n",
    "- in general, whenever we want to be able to apply different algorithms dynamically and transparently, `Stragety` is the way to go\n",
    "- by different algorithm, we mean different implementation of the same algorithm\n",
    "- the __result__ should be exactly the same, but each implementation has a different performance and code complexity"
   ]
  },
  {
   "cell_type": "markdown",
   "id": "partial-calculation",
   "metadata": {},
   "source": [
    "- this is not limited to sorting, it can be used to create all kinds of different resource filters (authentication, logging, data compression, encryption, etc)\n",
    "- another use of the pattern is to create different formatting representations, either to achieve portability or dynamically change the representation of data"
   ]
  },
  {
   "cell_type": "markdown",
   "id": "cutting-layer",
   "metadata": {},
   "source": [
    "### Implementation"
   ]
  },
  {
   "cell_type": "markdown",
   "id": "demographic-spirit",
   "metadata": {},
   "source": [
    "- in languages where functions are not first-class citizens, each `Stragety` should be implemented in a different function\n",
    "- Python treats functions as normal variables and this simplifies the implementation of the `Stragety` pattern"
   ]
  },
  {
   "cell_type": "markdown",
   "id": "potential-probability",
   "metadata": {},
   "source": [
    "- assume that we are also asked to implement an algorithm to chewck if all characters in a string are unique\n",
    "- for example, the algorithm should return `true` if we enter the `dream`  string because none of the characters are repeated\n",
    "- if we enter the `pizza` string, it should return `false` because the letter `z` exists two times\n",
    "- the letters do not need to be consecutive"
   ]
  },
  {
   "cell_type": "code",
   "execution_count": 10,
   "id": "smoking-ratio",
   "metadata": {},
   "outputs": [],
   "source": [
    "def pairs(seq):\n",
    "    n = len(seq)\n",
    "    for i in range(n):\n",
    "        yield seq[i], seq[(i + 1) % n]"
   ]
  },
  {
   "cell_type": "markdown",
   "id": "lovely-closure",
   "metadata": {},
   "source": [
    "- next we implement the `allUniqueSort()` function\n",
    "- this accepts a string `s` and return `True` if all characters in the string are unique\n",
    "- otherwise it returns `False`\n",
    "- to demonstrate the `Stragety` pattern, we will make a simplification by assuming that this algorithm fails to scale\n",
    "- we assume that it works fine for strings that are up to five characters\n",
    "- for longer strings, we simulate a slowdown by inserting `sleep` statement"
   ]
  },
  {
   "cell_type": "code",
   "execution_count": null,
   "id": "facial-vienna",
   "metadata": {},
   "outputs": [],
   "source": [
    "import time\n",
    "\n",
    "SLOW = 3\n",
    "LIMIT = 5\n",
    "WARNING = 'too bad, you picked the slow algorithm :('\n",
    "\n",
    "def allUniqueSort(s):\n",
    "    if len(s) > LIMIT:\n",
    "        print(WARNING)\n",
    "        time.sleep(SLOW)\n",
    "    strStr = sorted(s)\n",
    "    for (c1, c2) in pairs(strStr):\n",
    "        if c1 == c2:\n",
    "            return False\n",
    "    return True\n",
    "\n",
    "\n",
    "def allUniqueSet(s):\n",
    "    if len(s) < LIMIT:\n",
    "        print(WARNING)\n",
    "        time.sleep(SLOW)\n",
    "    return True if len(set(s) == len(s)) else False"
   ]
  },
  {
   "cell_type": "markdown",
   "id": "curious-fantasy",
   "metadata": {},
   "source": [
    "- unfortunately while `AllUniqueSet()` has no scaling problems, for some strange reason, this has worse performance than `allUniqueSort()` when checking slow strings\n",
    "- we need to have our algorithm select one of the sorts"
   ]
  },
  {
   "cell_type": "code",
   "execution_count": 13,
   "id": "mobile-closing",
   "metadata": {},
   "outputs": [],
   "source": [
    "def main():\n",
    "    while True:\n",
    "        word = None\n",
    "        while not word:\n",
    "            word = input('Insert word (type quit to exit)> ')\n",
    "            if word == 'quit':\n",
    "                print('bye')\n",
    "                return\n",
    "            strategy_picked = None\n",
    "            strategies = { '1': allUniqueSet, '2': allUniqueSort }\n",
    "            while strategy_picked not in strategies.keys():\n",
    "                strategy_picked = input('Choose strategy: [1] Use a set [2] Sort and pair ')\n",
    "                try:\n",
    "                    strategy = strategies[strategy_picked]\n",
    "                    print(f'allUnique({word}): {allUnique(word, strategy)}')\n",
    "                except KeyError as err:\n",
    "                    print(f'Incorrect option: {strategy_picked}')\n"
   ]
  },
  {
   "cell_type": "markdown",
   "id": "fitting-residence",
   "metadata": {},
   "source": [
    "- normally the user should not be incharge of picking the stragety\n",
    "- the point of the pattern is to make it possible to use different algorithms transparently"
   ]
  },
  {
   "cell_type": "markdown",
   "id": "internal-spider",
   "metadata": {},
   "source": [
    "- if the person using this is not a user but a `developer` you want to encapsulate the two functions in a common class\n",
    "- in this case, the other developer will just need to create an instance of `allUnique` and execute a single method, for instance, `test()`"
   ]
  },
  {
   "cell_type": "markdown",
   "id": "macro-hungarian",
   "metadata": {},
   "source": [
    "## Memento Pattern"
   ]
  },
  {
   "cell_type": "markdown",
   "id": "smoking-myanmar",
   "metadata": {},
   "source": [
    "- in many situations, we need a way to easily take a snapshot of the internal state of an object, so that we can restore the object with it\n",
    "- `Memento` is a design pattern that can help us implement a solution for such situations"
   ]
  },
  {
   "cell_type": "markdown",
   "id": "stuffed-treasury",
   "metadata": {},
   "source": [
    "The `Memento` design pattern has three key components:\n",
    "- `Memento` a simple object that contains basic state storage and retrieval capabilities\n",
    "- `Originator` an object that gets and sets values of `Memento` instances\n",
    "- `Caretaker` an object that can store and retrieve all previously created `Memento` instances"
   ]
  },
  {
   "cell_type": "markdown",
   "id": "broadband-intermediate",
   "metadata": {},
   "source": [
    "- `Memento` shares many similarities with the `Command Pattern`"
   ]
  },
  {
   "cell_type": "markdown",
   "id": "second-benjamin",
   "metadata": {},
   "source": [
    "### Real-world Examples"
   ]
  },
  {
   "cell_type": "markdown",
   "id": "typical-fireplace",
   "metadata": {},
   "source": [
    "- an example can be found in the dictionary we use for a language, such as `English` or `French`\n",
    "- the dictionary is often updated\n",
    "- so sometimes, we might want to use an old version of a dictionary for research"
   ]
  },
  {
   "cell_type": "markdown",
   "id": "regional-smoke",
   "metadata": {},
   "source": [
    "- `Zope` with its integrated object database called `Zope Object Database` (`ZOBD`) offers a good examle of the `Memento` patterns\n",
    "- it is famous for its object, Undo support, exposed _Through The Web_ for context managers\n",
    "- ZODB is an object database for Python and is in heavy use in the `Pyramid` and `Plone` communities "
   ]
  },
  {
   "cell_type": "markdown",
   "id": "given-pregnancy",
   "metadata": {},
   "source": [
    "### Use cases"
   ]
  },
  {
   "cell_type": "markdown",
   "id": "extreme-aspect",
   "metadata": {},
   "source": [
    "- `Memento` is usually used when you want to provide some sort of `undo` and `redo` capabilities for your users\n",
    "- another usage is the implementation of a `UI` dialog with `OK/Cancel` buttons, where we would store the state of the object on load, and let user decide if we restore the initial state or not"
   ]
  },
  {
   "cell_type": "markdown",
   "id": "linear-cooperative",
   "metadata": {},
   "source": [
    "### Implementation"
   ]
  },
  {
   "cell_type": "markdown",
   "id": "romantic-spectacular",
   "metadata": {},
   "source": [
    "- we will approach the `Memento` in a simplified way, and by doing things in a natural way for the Python language\n",
    "- this means we do not necessarily need several classes\n",
    "- one thing we will use is Pythons `pickle` module"
   ]
  },
  {
   "cell_type": "markdown",
   "id": "closed-display",
   "metadata": {},
   "source": [
    "- `pickle` module can transform a complex object into a byte stream and it can transform the byte stream into an object with the same internal structure"
   ]
  },
  {
   "cell_type": "markdown",
   "id": "early-volume",
   "metadata": {},
   "source": [
    "- lets thake a `Quote` class with the attributes `text` and `author`\n",
    "- to create the memento, we will use a method on that class, `save_state()`, which as the name suggets will dump the state of the object, using the `pickle.dumps()` function\n",
    "- `picke.dumps()` creates the `memento`"
   ]
  },
  {
   "cell_type": "markdown",
   "id": "oriented-sister",
   "metadata": {},
   "source": [
    "- that state can be restored later\n",
    "- for that, we add the `restore_state()` method, making use of the `pickle.loads()` function"
   ]
  },
  {
   "cell_type": "code",
   "execution_count": 15,
   "id": "great-photography",
   "metadata": {},
   "outputs": [],
   "source": [
    "class Quote:\n",
    "    def __init__(self, text, author):\n",
    "        self.text = text\n",
    "        self.author = author\n",
    "        \n",
    "    def save_state(self):\n",
    "        current_state = pickle.dumps(self.__dict__)\n",
    "        return current_state\n",
    "    \n",
    "    def restore_state(self, memento):\n",
    "        previous_state = pickle.loads(memento)\n",
    "        self.__dict__.clear()\n",
    "        self.__dict__.update(previous_state)\n",
    "        \n",
    "    def __str__(self):\n",
    "        return f'{self.text} - By {self.author}'\n",
    "    "
   ]
  },
  {
   "cell_type": "code",
   "execution_count": 21,
   "id": "worthy-indie",
   "metadata": {},
   "outputs": [],
   "source": [
    "import pickle\n",
    "\n",
    "def main():\n",
    "\n",
    "    print('Quote 1')\n",
    "    q1 = Quote(\"A room without books is like a body without a soul.\" 'Unknown author')\n",
    "    print(f'\\nOriginal version:\\n{q1}')\n",
    "    q1_mem = q1.save_state()\n",
    "    \n",
    "    q1.author = 'Marcus Tullius Cicero'\n",
    "    print(f'\\nWe found the author, and did an updated:\\n{q1}')\n",
    "    \n",
    "    q1.restore_state(q1_mem)\n",
    "    print(f'\\nWe had to restore the previous version:\\n{q1}')\n",
    "    print()\n",
    "    print('Quote 2')\n",
    "    q2 = Quote(\"To be you in a world that is constantly trying to make you be something else is the greatest accomplishment.\", 'Ralph Waldo Emerson')\n",
    "    print(f'\\nOriginal version:\\n{q2}')\n",
    "    q2_mem1 = q2.save_state()\n",
    "    \n",
    "    q2.text = \"To be yourself in a world that is constantly trying to mak you something else is the greatest accomplishment.\"\n",
    "    print(f'\\nWe fixed the text:\\n{q2}')\n",
    "    q2_mem2 = q2.save_state()\n",
    "    q2.text = \"To be yourself when the world is constantly trying to makeyou something else is the greatest accomplishment.\"\n",
    "    print(f'\\nWe fixed the text again:\\n{q2}')\n",
    "    q2.restore_state(q2_mem2)\n",
    "    print(f'\\nWe had to restore the 2nd version, the correct one:\\n{q2}')\n"
   ]
  },
  {
   "cell_type": "markdown",
   "id": "strange-third",
   "metadata": {},
   "source": [
    "## Iterator Pattern"
   ]
  },
  {
   "cell_type": "markdown",
   "id": "boolean-selection",
   "metadata": {},
   "source": [
    "- in programming we use sequences or collections of objects alot, particularly in algorithms and when writing programs that manipulate date\n",
    "- one can think of automation scripts, APIs, data-driven apps, and other domains"
   ]
  },
  {
   "cell_type": "markdown",
   "id": "framed-premises",
   "metadata": {},
   "source": [
    "- this pattern is useful when we have to handle collection of objects "
   ]
  },
  {
   "cell_type": "markdown",
   "id": "black-onion",
   "metadata": {},
   "source": [
    "> Iterator is a design pattern in which an iterator is used to traverse a container and access the container's elements. The iterator patter decouples algoriths from containers; in some cases, algortihms are necessarily container-specific and thus cannot be decoupled"
   ]
  },
  {
   "cell_type": "markdown",
   "id": "proud-anaheim",
   "metadata": {},
   "source": [
    "- `Iterator` pattern is extensively used in the Python context\n",
    "- it is actually turned into a language feature"
   ]
  },
  {
   "cell_type": "markdown",
   "id": "olympic-protection",
   "metadata": {},
   "source": [
    "## Real-World Examples"
   ]
  },
  {
   "cell_type": "markdown",
   "id": "potential-dodge",
   "metadata": {},
   "source": [
    "- when ever we have to go through things, such as a waiter in a restaurant asking peoples orders\n"
   ]
  },
  {
   "cell_type": "markdown",
   "id": "chief-leonard",
   "metadata": {},
   "source": [
    "- in Python we have iterable objects and iterators\n",
    "- `Containers` or `sequences` types (_list_, _string_, _tuple_, _dictionary set_, etc.) are `iterable`, meaning we can iterate through them\n",
    "- iteration is done automatically for you whenever you use the `for` or `while` loop to traverse through objects and access their members"
   ]
  },
  {
   "cell_type": "markdown",
   "id": "final-stupid",
   "metadata": {},
   "source": [
    "- the magic `iter()` function helps us transform any object into an iterator"
   ]
  },
  {
   "cell_type": "markdown",
   "id": "optical-mortality",
   "metadata": {},
   "source": [
    "### Use Cases"
   ]
  },
  {
   "cell_type": "markdown",
   "id": "temporal-measure",
   "metadata": {},
   "source": [
    "- it is tood to use this whenever you want one or several of the following behaviors\n",
    "- make it easy to navigate through a collection\n",
    "- get the next object in the collection at any point\n",
    "- stop when you are done traversing through the collection"
   ]
  },
  {
   "cell_type": "markdown",
   "id": "absolute-corporation",
   "metadata": {},
   "source": [
    "### Implementation"
   ]
  },
  {
   "cell_type": "markdown",
   "id": "saved-campaign",
   "metadata": {},
   "source": [
    "- `iterator` is implemented in Python for us, within the `for` loops, list comprehensions, etc\n",
    "- we can do our own implementation for special cases, using the Iterator protocol, meaning that our iterator object must implement two speical methods: `__iter__()` and `__next__()`"
   ]
  },
  {
   "cell_type": "markdown",
   "id": "competitive-demand",
   "metadata": {},
   "source": [
    "- an object is called `iterable` if we can get an iterator from it\n",
    "- the `iter()` function (which calls `__iter__()` returns an iterator from them"
   ]
  },
  {
   "cell_type": "markdown",
   "id": "waiting-response",
   "metadata": {},
   "source": [
    "- lets consider a footbal team we want to implement with the help of `FootbalTeam` class\n",
    "- if we want to make an iterator out of it, we have to implement the iterator protocol, since it is not a built-in container type such as the _list_ type\n",
    "- basically, built-in `iter()` and `next()` functions would not work on it unless they are added to the implementation"
   ]
  },
  {
   "cell_type": "markdown",
   "id": "bulgarian-shadow",
   "metadata": {},
   "source": [
    "- first we define the class of the iterator (`FootballTeamIterator`) that will be used to iterate through the football team object\n",
    "- the `memebers` attribute allows us to initialize the iterator object with out container object (which will be a `FootballTeam` instance)"
   ]
  },
  {
   "cell_type": "markdown",
   "id": "published-plant",
   "metadata": {},
   "source": [
    "- we add a `__iter__()` method to it, which would return the object itself, and a `__next__()` method to return the next person from the team at each call untill we reach the last person\n",
    "- these will allow looping over the memebers of the footbal team via the iterator"
   ]
  },
  {
   "cell_type": "code",
   "execution_count": 22,
   "id": "antique-audience",
   "metadata": {},
   "outputs": [],
   "source": [
    "class FootbalTeamIterator:\n",
    "    def __init__(self, memebers):\n",
    "        self.memebers = memebers\n",
    "        self.index = 0\n",
    "        \n",
    "    def __iter__(self):\n",
    "        return self\n",
    "    \n",
    "    def __next__(self):\n",
    "        if self.index < len(self.members):\n",
    "            val = self.members[self.index]\n",
    "            self.index += 1\n",
    "            return val\n",
    "        else:\n",
    "            raise StopIteration()\n",
    "        "
   ]
  },
  {
   "cell_type": "markdown",
   "id": "pregnant-accounting",
   "metadata": {},
   "source": [
    "- so for now the `FootballTeam` class itself\n",
    "- the new thing is adding a `__iter__()` method to it that will initialize the iterator object that it needs (thus using `FootballTeamIterator(self.members))` and return it"
   ]
  },
  {
   "cell_type": "code",
   "execution_count": 23,
   "id": "appreciated-synthesis",
   "metadata": {},
   "outputs": [],
   "source": [
    "class FootballTeam:\n",
    "    def __init__(self, memebers):\n",
    "        self.members = members\n",
    "    def __iter__(self):\n",
    "        return FootballTeamIterator(self.memebers)"
   ]
  },
  {
   "cell_type": "markdown",
   "id": "comic-crack",
   "metadata": {},
   "source": [
    "- once we have a `FootballTeam` instance, we call the `iter()` function on it to create the iterator, and we loop though it using `while` loop"
   ]
  },
  {
   "cell_type": "code",
   "execution_count": 24,
   "id": "knowing-fruit",
   "metadata": {},
   "outputs": [],
   "source": [
    "def main():\n",
    "    members = [f'player{str(x)}' for x in range(1, 23)]\n",
    "    members = members + ['coach1', 'coach2', 'coach3']\n",
    "    team = FootballTeam(members)\n",
    "    team_it = iter(team)\n",
    "    \n",
    "    while True:\n",
    "        print(next(team_it))"
   ]
  },
  {
   "cell_type": "markdown",
   "id": "placed-intro",
   "metadata": {},
   "source": [
    "## Template Pattern"
   ]
  },
  {
   "cell_type": "markdown",
   "id": "honey-conversation",
   "metadata": {},
   "source": [
    "- good code is one that avoids redundancy\n",
    "- in `OOP`, methods and functions are important tools that we can use to avoid writing redundant code\n",
    "- remember the `sorted()` examples we saw when discussing the `Strategy` pattern\n",
    "- the `sorted()` function is generic enough that it can be used to sort more than one data structure (_lists_, _tuple_, etc.) using arbitrary keys"
   ]
  },
  {
   "cell_type": "markdown",
   "id": "demonstrated-coating",
   "metadata": {},
   "source": [
    "- the `Template Pattern` solves the problem of code redundancy\n",
    "- the idea is that we should be able to redefine certain parts of an algorithm without changing its structure"
   ]
  },
  {
   "cell_type": "markdown",
   "id": "thousand-paradise",
   "metadata": {},
   "source": [
    "### Real-World Example"
   ]
  },
  {
   "cell_type": "markdown",
   "id": "responsible-sewing",
   "metadata": {},
   "source": [
    "- daily routine for workers at `Amazon` warehouses is very close to the `Template design pattern`\n",
    "- all workers follow more or less the same routine, but specifc parts of the routine are very different\n"
   ]
  },
  {
   "cell_type": "markdown",
   "id": "requested-marathon",
   "metadata": {},
   "source": [
    "- in python the `cmd` module uses the Template pattern\n",
    "- `cmd` builds line-oriented command interpreters\n",
    "- another example is `asyncore`, which is used to implement asynchronous socket serive client/servers"
   ]
  },
  {
   "cell_type": "markdown",
   "id": "virtual-calcium",
   "metadata": {},
   "source": [
    "## Use cases"
   ]
  },
  {
   "cell_type": "markdown",
   "id": "motivated-investigation",
   "metadata": {},
   "source": [
    "- the idea is that if we see code reuse, we keep the `invarient` or common parts of the algorithm and abstract them out"
   ]
  },
  {
   "cell_type": "markdown",
   "id": "meaning-borough",
   "metadata": {},
   "source": [
    "- `Pagination` is a good use of the `Template` pattern\n",
    "- pagination algorithms can be split into an abstract `invarient` part and a concrete `variant` part\n",
    "- the invariant part takes care of things such as the maximum number of lines/pages\n",
    "- the variant part contains functionality to show the header and footer of a specific page thjat is paginated"
   ]
  },
  {
   "cell_type": "markdown",
   "id": "japanese-hands",
   "metadata": {},
   "source": [
    "- all application frameworks make use of some form of the `Template` patrern "
   ]
  },
  {
   "cell_type": "markdown",
   "id": "charged-motorcycle",
   "metadata": {},
   "source": [
    "### Implementation"
   ]
  },
  {
   "cell_type": "markdown",
   "id": "configured-apparel",
   "metadata": {},
   "source": [
    "- in this example we will implement a banner generator\n",
    "- we want to send some text to a function and the function should generate a banner containing the text\n",
    "- banners have some sort of style (dots or dashes)\n",
    "- the banner generator has a default style, but we should be able to provide our own style"
   ]
  },
  {
   "cell_type": "markdown",
   "id": "possible-greeting",
   "metadata": {},
   "source": [
    "- the `generate_banner()` function is our `Template` function\n",
    "- it accepts, as an input, the text (`msg`) that we want our banner to contain, and the style (`style`) that we want to use\n",
    "- the `generate_banner()` function wraps the styled text with a simple header and footer"
   ]
  },
  {
   "cell_type": "code",
   "execution_count": 25,
   "id": "spare-blake",
   "metadata": {},
   "outputs": [],
   "source": [
    "def generate_banner(msg, style):\n",
    "    print('-- start of banner --')\n",
    "    print(style(msg))\n",
    "    print('-- end of banner --nn')"
   ]
  },
  {
   "cell_type": "markdown",
   "id": "metric-multimedia",
   "metadata": {},
   "source": [
    "- the `dots_style()` function simply capitalizes `msg` and prints `10` dots before and after it"
   ]
  },
  {
   "cell_type": "code",
   "execution_count": 26,
   "id": "adolescent-scout",
   "metadata": {},
   "outputs": [],
   "source": [
    "def dots_style(msg):\n",
    "    msg = msg.capitalize()\n",
    "    msg = '.' * 10 + msg + '.' * 10\n",
    "    return msg"
   ]
  },
  {
   "cell_type": "markdown",
   "id": "leading-saturn",
   "metadata": {},
   "source": [
    "- another style that is supported by the generator is `admire_style()`\n",
    "- this style shows the text in uppercase and puts an exclamation mark between each character of the text"
   ]
  },
  {
   "cell_type": "code",
   "execution_count": 28,
   "id": "polyphonic-assist",
   "metadata": {},
   "outputs": [],
   "source": [
    "def admire_style(msg):\n",
    "    msg = msg.upper()\n",
    "    return '!'.join(msg)"
   ]
  },
  {
   "cell_type": "markdown",
   "id": "induced-night",
   "metadata": {},
   "source": [
    "- the next style is the `cow_style()`\n",
    "- this style executes the `milk_random_cow()` method of `cowpy` which is used to generate a random `ASCII` art every time `cow_style()` is executed\n",
    "- `pip install cowpy`"
   ]
  },
  {
   "cell_type": "code",
   "execution_count": 31,
   "id": "heavy-constitution",
   "metadata": {},
   "outputs": [],
   "source": [
    "'''from cowpy import cow'''\n",
    "\n",
    "def cow_style(msg):\n",
    "    msg = cow.milk_random_cow(msg)\n",
    "    return msg"
   ]
  },
  {
   "cell_type": "code",
   "execution_count": 32,
   "id": "dominant-bearing",
   "metadata": {},
   "outputs": [],
   "source": [
    "def main():\n",
    "    msg = 'happy coding'\n",
    "    [generate_banner(msg, style) for style in (dots_style, admire_style, cow_style)]\n"
   ]
  }
 ],
 "metadata": {
  "kernelspec": {
   "display_name": "Python 3",
   "language": "python",
   "name": "python3"
  },
  "language_info": {
   "codemirror_mode": {
    "name": "ipython",
    "version": 3
   },
   "file_extension": ".py",
   "mimetype": "text/x-python",
   "name": "python",
   "nbconvert_exporter": "python",
   "pygments_lexer": "ipython3",
   "version": "3.9.2"
  }
 },
 "nbformat": 4,
 "nbformat_minor": 5
}
