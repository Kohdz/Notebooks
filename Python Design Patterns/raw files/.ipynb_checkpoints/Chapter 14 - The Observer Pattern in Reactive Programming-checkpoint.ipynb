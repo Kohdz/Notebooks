{
 "cells": [
  {
   "cell_type": "markdown",
   "id": "suitable-lewis",
   "metadata": {},
   "source": [
    "## Overview"
   ]
  },
  {
   "cell_type": "markdown",
   "id": "fluid-delaware",
   "metadata": {},
   "source": [
    "- the `Observer` pattern is useful for notifying an object or a gorup of objects when the state of a given object changes\n",
    "- this type of traditional Observer applies the publish-subscribe principle, which allows us to react to some object change events\n",
    "- it provides a nice solution for many cases, but in a situation here we have to deal with many events, some of them depending on each other, the traditional way could lead to complicated, difficult-to-maintain code\n",
    "- this is where another paradigm called `reactive programming` gives us an intersting option\n",
    "- in simple terms, the concept of reactive programming is to react to many events `streams of events` while keeping our code clean "
   ]
  },
  {
   "cell_type": "markdown",
   "id": "informational-hours",
   "metadata": {},
   "source": [
    "- we will focus on the framework `ReactiveX` as part of reactive programming\n",
    "- the core entity in reactiveX is called an `Observable`\n",
    "- `ReactiveX` is defined as an API for asychronous programming with observable streams\n",
    "- in addition to that, we also have the Observer"
   ]
  },
  {
   "cell_type": "markdown",
   "id": "fatty-worth",
   "metadata": {},
   "source": [
    "- you can think of an observable as a stream that can push or emit data to the observer\n",
    "- and it can also emit events"
   ]
  },
  {
   "cell_type": "markdown",
   "id": "standard-satellite",
   "metadata": {},
   "source": [
    "## Real-World Examples"
   ]
  },
  {
   "cell_type": "markdown",
   "id": "signed-plane",
   "metadata": {},
   "source": [
    "- streams of water that accumulates somewhere resembles an Observable\n",
    "- a spreadsheet application can be seen as an example of reactive programming, based on its internal behavior\n",
    "- all spreadsheet applications, interactively changing any one cell in the sheet will result in immediately reevaluating all formulas that directly or indirectly depend on that cell and updating the display to reflect these reevaluations"
   ]
  },
  {
   "cell_type": "markdown",
   "id": "reported-album",
   "metadata": {},
   "source": [
    "## Use Cases"
   ]
  },
  {
   "cell_type": "markdown",
   "id": "accurate-tsunami",
   "metadata": {},
   "source": [
    "- one use case is the idea of the `Collection Pipeline` \n",
    "- collection pipelines are programming patterns where you organize some computation as a sequence of operations which compose by taking a collection as output of one operation and feeding it into the next"
   ]
  },
  {
   "cell_type": "markdown",
   "id": "smart-identity",
   "metadata": {},
   "source": [
    "- we can use an observable to do operations such as `map` and `reduce` or `groupby` on sequences of objects when processing data\n",
    "- observables can be created for diverse functions such as button events, requests and RSS/Twitter feeds\n"
   ]
  },
  {
   "cell_type": "markdown",
   "id": "thermal-forest",
   "metadata": {},
   "source": [
    "## Implementation"
   ]
  },
  {
   "cell_type": "markdown",
   "id": "russian-cleveland",
   "metadata": {},
   "source": [
    "### Example 1"
   ]
  },
  {
   "cell_type": "code",
   "execution_count": 1,
   "id": "scenic-potential",
   "metadata": {},
   "outputs": [
    {
     "name": "stdout",
     "output_type": "stream",
     "text": [
      "The Zen of Python, by Tim Peters\n",
      "\n",
      "Beautiful is better than ugly.\n",
      "Explicit is better than implicit.\n",
      "Simple is better than complex.\n",
      "Complex is better than complicated.\n",
      "Flat is better than nested.\n",
      "Sparse is better than dense.\n",
      "Readability counts.\n",
      "Special cases aren't special enough to break the rules.\n",
      "Although practicality beats purity.\n",
      "Errors should never pass silently.\n",
      "Unless explicitly silenced.\n",
      "In the face of ambiguity, refuse the temptation to guess.\n",
      "There should be one-- and preferably only one --obvious way to do it.\n",
      "Although that way may not be obvious at first unless you're Dutch.\n",
      "Now is better than never.\n",
      "Although never is often better than *right* now.\n",
      "If the implementation is hard to explain, it's a bad idea.\n",
      "If the implementation is easy to explain, it may be a good idea.\n",
      "Namespaces are one honking great idea -- let's do more of those!\n",
      "\n"
     ]
    }
   ],
   "source": [
    "import contextlib, io\n",
    "zen = io.StringIO()\n",
    "with contextlib.redirect_stdout(zen):\n",
    "    import this\n",
    "print(zen.getvalue())"
   ]
  },
  {
   "cell_type": "code",
   "execution_count": null,
   "id": "casual-belly",
   "metadata": {},
   "outputs": [],
   "source": [
    "def get_quotes():\n",
    "    from rx import Observable, Observer\n",
    "\n",
    "    import contextlib, io\n",
    "    zen = io.StringIO()\n",
    "    with contextlib.redirect_stdout(zen):\n",
    "    import this\n",
    "    quotes = zen.getvalue().split('\\n')[1:]\n",
    "    return quotes\n",
    "\n"
   ]
  },
  {
   "cell_type": "markdown",
   "id": "innovative-parliament",
   "metadata": {},
   "source": [
    "to create an observable from the list of quotes we get, the way to do it is\n",
    "1. define a function that hands data items to the `Observer` \n",
    "2. use an `observable.create()` factory, and pass it that function, to set up the source or stream of data\n",
    "3. make the `obsserver` subscribe to the source"
   ]
  },
  {
   "cell_type": "markdown",
   "id": "minute-macedonia",
   "metadata": {},
   "source": [
    "the observer class itself has three methods used for this type of communication\n",
    "- the `on_next()` is used to pass items\n",
    "- the `on_completed()` will signal that no more items are comming\n",
    "- the `on_error()` signals an error"
   ]
  },
  {
   "cell_type": "markdown",
   "id": "quarterly-maryland",
   "metadata": {},
   "source": [
    "- we have a function `push_quotes()` that takes an `Observer` object `obs` as input and using a the sequence of quotes, sends each quote using the `on_next()` and signals the end using `on_completed()`"
   ]
  },
  {
   "cell_type": "code",
   "execution_count": 5,
   "id": "standard-evening",
   "metadata": {},
   "outputs": [],
   "source": [
    "def push_quotes(obs):\n",
    "    quotes = get_quotes()\n",
    "    for q in quotes:\n",
    "        if q: # skip empty\n",
    "            obs.on_next(q)\n",
    "    obs.on_complete()"
   ]
  },
  {
   "cell_type": "markdown",
   "id": "cordless-wings",
   "metadata": {},
   "source": [
    "- we implement the `Observer` to be used, u sing a subclass of `Observer` base class"
   ]
  },
  {
   "cell_type": "code",
   "execution_count": 8,
   "id": "hawaiian-mumbai",
   "metadata": {},
   "outputs": [
    {
     "data": {
      "text/plain": [
       "'\\nfrom rx import Observable, Observer\\n\\n\\nclass ZenQuotesObserver(Observer):\\n    def on_next(self, value):\\n        print(f\"Received: {value}\")\\n        \\n    def on_complete(self):\\n        print(\"Done!\")\\n        \\n    def on_error(self, error):\\n        print(f\"Error Occurred: {error}\")\\n'"
      ]
     },
     "execution_count": 8,
     "metadata": {},
     "output_type": "execute_result"
    }
   ],
   "source": [
    "'''\n",
    "from rx import Observable, Observer\n",
    "\n",
    "\n",
    "class ZenQuotesObserver(Observer):\n",
    "    def on_next(self, value):\n",
    "        print(f\"Received: {value}\")\n",
    "        \n",
    "    def on_complete(self):\n",
    "        print(\"Done!\")\n",
    "        \n",
    "    def on_error(self, error):\n",
    "        print(f\"Error Occurred: {error}\")\n",
    "'''"
   ]
  },
  {
   "cell_type": "markdown",
   "id": "funny-speaker",
   "metadata": {},
   "source": [
    "- next, we define the source to be observed:\n",
    "   \n",
    "        source = Observable.create(push_quotes)\n",
    "        \n",
    "- finally we define the subscription to the `Observable`, without nothing would happend\n",
    "    \n",
    "        source.subscribe(ZenQuotesObserver())\n",
    "        "
   ]
  },
  {
   "cell_type": "markdown",
   "id": "outdoor-cookie",
   "metadata": {},
   "source": [
    "### Second Example"
   ]
  },
  {
   "cell_type": "markdown",
   "id": "integral-tower",
   "metadata": {},
   "source": [
    "- we will rewrite the code from example one to obtain a similar result"
   ]
  },
  {
   "cell_type": "markdown",
   "id": "southeast-windows",
   "metadata": {},
   "source": [
    "- we adopt the `get_quotes()` function in order to return an enumeration of the sequence, using Python's built-in `enumerate()` function"
   ]
  },
  {
   "cell_type": "code",
   "execution_count": 9,
   "id": "fifth-congo",
   "metadata": {},
   "outputs": [],
   "source": [
    "def get_quotes():\n",
    "    import contextlib, io\n",
    "    zen = io.StringIO()\n",
    "    with contextlib.redirect_stdout(zen):\n",
    "        import this\n",
    "    \n",
    "    quotes = zen.getvalue().split('\\n')[1:]\n",
    "    return enumerate(quotes)"
   ]
  },
  {
   "cell_type": "markdown",
   "id": "nasty-sheriff",
   "metadata": {},
   "source": [
    "- we then call that function and store its result in a variable `zen_quotes`\n",
    "\n",
    "        zen_quotes = get_quotes()\n",
    "        \n",
    "- we create the observable using the special `Observable.from_()` function and chain operations such as `filter()` on the sequence, and finally use the `subscribe()` to subscribe to the observable\n",
    "\n",
    "    Observable.from_(zen_quotes) \\\n",
    "        .filter(lambda q: len(q[1]) > 0) \\\n",
    "        .subscribe(lambda value: print(f\"Received: {value[0]} - {value[1]}\"))"
   ]
  },
  {
   "cell_type": "markdown",
   "id": "deadly-consensus",
   "metadata": {},
   "source": [
    "### Third Example"
   ]
  },
  {
   "cell_type": "markdown",
   "id": "russian-montreal",
   "metadata": {},
   "source": [
    "- in this third example, we react to the `Observable` (the stream of quotes created using the `get_quotes()` function, using a chain of `flat_map()`, `filter()` and `map()` operations "
   ]
  },
  {
   "cell_type": "markdown",
   "id": "warming-perspective",
   "metadata": {},
   "source": [
    "- the main difference from the previous example is that we schedule the streaming of items so that a new item is emitted every five seconds (`the interval`) using the `Observable.interval()` function\n",
    "- furthermore, we use the `flat_map()` method to map each emission to an Observable and merge their emissions together into a single Observable "
   ]
  },
  {
   "cell_type": "markdown",
   "id": "crucial-sociology",
   "metadata": {},
   "source": [
    "- the main part of the code is follows\n",
    "\n",
    "        Observable.interval(5000) \\\n",
    "            .flat_map(lambda seq: Observable.from_(zen_quotes)) \\\n",
    "            .flat_map(lambda q: Observable.from_(q[1].split())) \\\n",
    "            .filter(lambda s: len(s) > 2) \\\n",
    "            .map(lambda s: s.replace('.', '').replace(',', '').replace('!',\n",
    "            '').replace('-', '')) \\\n",
    "            .map(lambda s: s.lower()) \\\n",
    "            .subscribe(lambda value: print(f\"Received: {value}\"))"
   ]
  },
  {
   "cell_type": "markdown",
   "id": "accessible-technology",
   "metadata": {},
   "source": [
    "- we also add te following line at the end, using the `input()` function to make sure we can stop the execution when the user wants\n",
    "\n",
    "        input(\"Starting... Press any key to quit\\n\")"
   ]
  },
  {
   "cell_type": "markdown",
   "id": "resistant-symbol",
   "metadata": {},
   "source": [
    "### Fourth Example"
   ]
  },
  {
   "cell_type": "markdown",
   "id": "continuing-ireland",
   "metadata": {},
   "source": [
    "- we will use `Faker` to build a stream of the list of people and an Observable based on it\n"
   ]
  },
  {
   "cell_type": "code",
   "execution_count": 11,
   "id": "shaped-verse",
   "metadata": {},
   "outputs": [],
   "source": [
    "def populate_people():\n",
    "    from faker import Faker\n",
    "    fake = Faker()\n",
    "    \n",
    "    def populate():\n",
    "        persons = []\n",
    "        for _ in range(0, 20):\n",
    "            p = {'firstname': fake.first_name(), 'lastname': fake.last_name()} \n",
    "            persons.append(p)\n",
    "        return iter(persons)\n"
   ]
  },
  {
   "cell_type": "markdown",
   "id": "honey-integration",
   "metadata": {},
   "source": [
    "- in the main part of the program, we write the names of the people in the list that were generated in the `text` file"
   ]
  },
  {
   "cell_type": "markdown",
   "id": "accessory-hurricane",
   "metadata": {},
   "source": [
    "    if __name__ == '__main__':\n",
    "         new_persons = populate()\n",
    "         new_data = [f\"{p['firstname']} {p['lastname']}\" for p in new_persons]\n",
    "         new_data = \", \".join(new_data) + \", \"\n",
    "         with open('people.txt', 'a') as f:\n",
    "         f.write(new_data)\n"
   ]
  },
  {
   "cell_type": "markdown",
   "id": "preliminary-recycling",
   "metadata": {},
   "source": [
    "- we define a function, `firstnames_from_db()` which returns a Observable from text file containing the names, with transformations using `flat_map()`, `filter()` and `map()` methods and a new operation, `group_by()` to emit items from another sequence"
   ]
  },
  {
   "cell_type": "code",
   "execution_count": 13,
   "id": "assisted-findings",
   "metadata": {},
   "outputs": [],
   "source": [
    "def first_name_db_wrapper():\n",
    "    from rx import Observable\n",
    "    \n",
    "    def firstnames_from_db(file_name):\n",
    "        file = open(file_name)\n",
    "        # collect and push stored people firstnames\n",
    "        return Observable.from_(file) \\\n",
    "            .flat_map(lambda content: content.split(', ')) \\\n",
    "            .filter(lambda name: name!='') \\\n",
    "            .map(lambda name: name.split()[0]) \\\n",
    "            .group_by(lambda firstname: firstname) \\\n",
    "            .flat_map(lambda grp: grp.count().map(lambda ct: (grp.key, ct)))\n"
   ]
  },
  {
   "cell_type": "markdown",
   "id": "operational-interval",
   "metadata": {},
   "source": [
    "- then we define an Observable, as in the previous example, which emits data every five seconds, merging its emission with what is returned from `firstnames_from_db(db_file)` after setting the `db_file` to the `people.txt` file as:\n",
    "\n",
    "        db_file = \"people.txt\"\n",
    "        # Emit data every 5 seconds\n",
    "        Observable.interval(5000) \\\n",
    "         .flat_map(lambda i: firstnames_from_db(db_file)) \\\n",
    "         .subscribe(lambda value: print(str(value)))\n",
    "        input(\"Starting... Press any key to quit\\n\")\n"
   ]
  },
  {
   "cell_type": "markdown",
   "id": "outside-cargo",
   "metadata": {},
   "source": [
    "- to improve the code above, we will try to get an emission of only the first names that are present at least four times\n",
    "- we need another observable and filter it \n",
    "- compared to ones we used in the first version, we have to use the `filter()` operation to only keep the first name groups for which the count of occurrences (`ct`) value is bigger than three\n",
    "- if you check the code again, based on the group obtained, we get a tuple containing the group's key as the first element and the count as the second element using the lambda function `n lambda grp: grp.count().map(lambda ct: (grp.key, ct)) `, which is emitted thanks to the `.flat_map()` operator\n",
    "- the next thing to do is further filter using `.filter(lambda name_and_ct: name_and_ct[1] > 3)` in order to only get first names that currently appear at leadt four times"
   ]
  },
  {
   "cell_type": "code",
   "execution_count": 15,
   "id": "extensive-performance",
   "metadata": {},
   "outputs": [],
   "source": [
    "def frequent_firstnames_from_db(file_name):\n",
    "    file = open(file_name)\n",
    "    # collect and push only the frequent firstnames\n",
    "    return Observable.from_(file) \\\n",
    "        .flat_map(lambda content: content.split(', ')) \\\n",
    "        .filter(lambda name: name!='') \\\n",
    "        .map(lambda name: name.split()[0]) \\\n",
    "        .group_by(lambda firstname: firstname) \\\n",
    "        .flat_map(lambda grp: grp.count().map(lambda ct: (grp.key, ct))) \\\n",
    "        .filter(lambda name_and_ct: name_and_ct[1] > 3)"
   ]
  },
  {
   "cell_type": "markdown",
   "id": "absent-overhead",
   "metadata": {},
   "source": [
    "- we add almost the same code for the Observable\n",
    "- we change only the name of the referenced function accordingly\n",
    "\n",
    "        # Emit data every 5 seconds\n",
    "        Observable.interval(5000) \\\n",
    "            .flat_map(lambda i: frequent_firstnames_from_db(db_file)) \\\n",
    "            .subscribe(lambda value: print(str(value)))\n",
    "        # Keep alive until user presses any key\n",
    "        input(\"Starting... Press any key to quit\\n\")"
   ]
  }
 ],
 "metadata": {
  "kernelspec": {
   "display_name": "Python 3",
   "language": "python",
   "name": "python3"
  },
  "language_info": {
   "codemirror_mode": {
    "name": "ipython",
    "version": 3
   },
   "file_extension": ".py",
   "mimetype": "text/x-python",
   "name": "python",
   "nbconvert_exporter": "python",
   "pygments_lexer": "ipython3",
   "version": "3.9.2"
  }
 },
 "nbformat": 4,
 "nbformat_minor": 5
}
