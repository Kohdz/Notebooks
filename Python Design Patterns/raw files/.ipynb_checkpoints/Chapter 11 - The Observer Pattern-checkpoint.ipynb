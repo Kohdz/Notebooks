{
 "cells": [
  {
   "cell_type": "markdown",
   "id": "dress-cinema",
   "metadata": {},
   "source": [
    "## Overview"
   ]
  },
  {
   "cell_type": "markdown",
   "id": "intellectual-titanium",
   "metadata": {},
   "source": [
    "- when we need to update a group of objects when the state of another object changes, a popular solution is offered by the `Model-View-Controller (MVC)` pattern\n",
    "- assume that we are using the data of the same `model` in two `views`, for instance in a pie chart and in a spreadsheet\n",
    "- whenever the model is modified, both the vieews need to be updated"
   ]
  },
  {
   "cell_type": "markdown",
   "id": "hungry-verse",
   "metadata": {},
   "source": [
    "- the observer pattern describes a publish-subscribe relationship between a single object, the publisher, which is also known as the `subject` or the `observable`, and one or more objects, the subscribers, also known as `observers`\n",
    "- in the case of `MVC`, the publisher is the model and the subscribers are the views"
   ]
  },
  {
   "cell_type": "markdown",
   "id": "compact-baseline",
   "metadata": {},
   "source": [
    "- the ideas behind Observer are the same as those behind the separation of concerns principle, that is, to increase decoupling between the publisher and subscribers, and to make it easy to add/remove subscribers at runtime"
   ]
  },
  {
   "cell_type": "markdown",
   "id": "scientific-professor",
   "metadata": {},
   "source": [
    "## Real-world examples"
   ]
  },
  {
   "cell_type": "markdown",
   "id": "attractive-range",
   "metadata": {},
   "source": [
    "- `RabbitMQ` library can be used to add asynchronous messaging support to an application\n",
    "- several messaging protocols are supported such as `HTTP` and `AMQP`\n",
    "- `RabbitMQ` can be used in a Python application to implement a publish-subscribe pattern, which is nothing more than the Observer design pattern"
   ]
  },
  {
   "cell_type": "markdown",
   "id": "religious-entrepreneur",
   "metadata": {},
   "source": [
    "## Use cases"
   ]
  },
  {
   "cell_type": "markdown",
   "id": "incorporate-warning",
   "metadata": {},
   "source": [
    "- we generally use the Observer pattern when we want to inform/update one or more objects (observers/subscribers) about a change that happened on a `given object` (subject/publisher/observer)\n",
    "- the number of observers, as well as who those observer are may vary and can be changed dynamically"
   ]
  },
  {
   "cell_type": "markdown",
   "id": "included-jacob",
   "metadata": {},
   "source": [
    "- we can think of many cases where Observers can be useful\n",
    "- one such use case is `news feeds`\n",
    "- with RSS, Atom, or other related formats, you follow a feed, ans everytime it is updated, you receive a notification about the update"
   ]
  },
  {
   "cell_type": "markdown",
   "id": "arranged-strike",
   "metadata": {},
   "source": [
    "- `Event-driven systems` are another example where `Observer` is usually used\n",
    "- in such sysems, you have `listeners` that `listen` for specific events\n",
    "- the listeners are triggered when an event thay are listening to is created\n",
    "- this can be typing a specific key, moving the mouse, etc\n",
    "- the even plays the role of the publisher and the listeners play the role of the observers\n",
    "- the key point in this case is that multiple listeners (observers) can be attached to a single event (publisher)"
   ]
  },
  {
   "cell_type": "markdown",
   "id": "rubber-bride",
   "metadata": {},
   "source": [
    "## Implementation"
   ]
  },
  {
   "cell_type": "markdown",
   "id": "given-criminal",
   "metadata": {},
   "source": [
    "- we will be implementing a data formatter\n",
    "- the ideas described here are based on the `AtiveState` Python Observer code recipe\n",
    "- there is a default formatter that shows a value in decimal format\n",
    "- howerver, we can add/register more formatters\n",
    "- in this example, we will add a hex and binary formatter\n",
    "- every time the value of the default formatter is updated, the registered formatters are notified and take action\n",
    "- in this case, the action is to show the new value in the relevant format"
   ]
  },
  {
   "cell_type": "markdown",
   "id": "iraqi-producer",
   "metadata": {},
   "source": [
    "- `Observer` is actually one of the patterns where inheritance makes sense\n",
    "- we can have a base `Publisher` class that contains the common functionality of adding, removing and notifying observers\n",
    "- our `DefaultFormatter` class derives from `Publishers` and adds the formatter-specific functionality\n",
    "- and we can dynamically add and remove observers on demand"
   ]
  },
  {
   "cell_type": "markdown",
   "id": "moving-cable",
   "metadata": {},
   "source": [
    "- we begin with the `Publisher` class\n",
    "- the observers are kept in the observers list\n",
    "- the `add()` method registers a new observer, or throws an error it is already exists\n",
    "- the `remove()` method unregisters an existing observer, or thows an exception if it does not exist\n",
    "- finally the `notify()` method informs all observers about a change"
   ]
  },
  {
   "cell_type": "code",
   "execution_count": 8,
   "id": "residential-baghdad",
   "metadata": {},
   "outputs": [],
   "source": [
    "class Publisher:\n",
    "    def __init__(self):\n",
    "        self.observers = []\n",
    "        \n",
    "    def add(self, observer):\n",
    "        if observer not in self.observers:\n",
    "            self.observers.append(observer)\n",
    "        else:\n",
    "            print(f'Failed to add {observer}')\n",
    "            \n",
    "    def remove(self, observer):\n",
    "        try:\n",
    "            self.observers.remove(observer)\n",
    "        except ValueError:\n",
    "            print(f'Failed to remove: {observer}')\n",
    "            \n",
    "    def notify(self):\n",
    "        [o.notify(self) for o in self.observers]"
   ]
  },
  {
   "cell_type": "markdown",
   "id": "annual-enough",
   "metadata": {},
   "source": [
    "- lets continue with the `DefaultFormatter` class\n",
    "- the first thing that its `__init__()` does is call the `__init__()` method of the base class, since this is not odne automatically in python\n",
    "- a `DefaultFormatter` instance has a name to make it easier for us to track its status\n",
    "- we use name mangling in the `_data` variable to state that it should not be accessed directly\n",
    "- note that this is always possible in Python but fellow developers have no excuse for doing so, since the code already states that they shouldent\n",
    "- there is a serious reason for using name mangling in this case\n",
    "- `DefaultFormatter` treats the `_data` variable as an integer, and the defualt value is zero"
   ]
  },
  {
   "cell_type": "markdown",
   "id": "southeast-celtic",
   "metadata": {},
   "source": [
    "- the `__str__()` method returns information about the name of the publisher and the v alue of the `_data` attribute\n",
    "- `type(self).__name__` is a handy trick to get the name of a class without hardcoding it"
   ]
  },
  {
   "cell_type": "markdown",
   "id": "divided-repair",
   "metadata": {},
   "source": [
    "- there are two `data()` methods\n",
    "- the first one uses the `@property` decorator to give read access to the `_data` variable\n",
    "- using this, we can just execute `object.data` instead of `object.data()`"
   ]
  },
  {
   "cell_type": "markdown",
   "id": "imposed-forum",
   "metadata": {},
   "source": [
    "- the second `data()` method is more interesting\n",
    "- it uses the `@setter` decorator, which is called every time the assignment (`=`) operator is used to assign a new value to the `_data` variable\n",
    "- this method also tries to cast a new value to an integer, and does exception handling in case this operation fails "
   ]
  },
  {
   "cell_type": "code",
   "execution_count": 9,
   "id": "younger-humor",
   "metadata": {},
   "outputs": [],
   "source": [
    "class DefaultFormatter(Publisher):\n",
    "    def __init__(self, name):\n",
    "        Publisher.__init__(self)\n",
    "        self.name = name\n",
    "        self._data = 0\n",
    "        \n",
    "    def __str__(self):\n",
    "        return f\"{type(self).__name__}: '{self.name}' has data = {self._data}\"\n",
    "    \n",
    "    @property\n",
    "    def data(self):\n",
    "        return self._data\n",
    "    \n",
    "    @data.setter\n",
    "    def data(self, new_value):\n",
    "        try:\n",
    "            self._data = int(new_value)\n",
    "        except ValueError as e:\n",
    "            print(f'Error: {e}')\n",
    "        else:\n",
    "            self.notify()"
   ]
  },
  {
   "cell_type": "markdown",
   "id": "medical-vanilla",
   "metadata": {},
   "source": [
    "- the next step is to add the observers\n",
    "- the functionality of `HexFormatter` and `BinaryFormatter` is very similar\n",
    "- the only differnece between them is how they format the value of data received by the publisher, that is, in hexadecimal and binary"
   ]
  },
  {
   "cell_type": "code",
   "execution_count": 10,
   "id": "caroline-search",
   "metadata": {},
   "outputs": [],
   "source": [
    "class HexFormatterObs:\n",
    "    def notify(self, publisher):\n",
    "        value = hex(publisher.data)\n",
    "        print(f\"{type(self).__name__}: '{publisher.name}' has now hex dat = {value}\")\n",
    "\n",
    "class BinaryFormatterObs:\n",
    "    def notify(self, publisher):\n",
    "        value = bin(publisher.data)\n",
    "        print(f\"{type(self).__name__}: '{publisher.name}' has now bin data = {value}\")\n",
    "        "
   ]
  },
  {
   "cell_type": "markdown",
   "id": "identified-british",
   "metadata": {},
   "source": [
    "- to help us use those classes, the `main()` function initially creates a `DefaultFormatter` instance named `test1` and afterwords, attaches (and detaches) the two available observers"
   ]
  },
  {
   "cell_type": "code",
   "execution_count": 11,
   "id": "heard-salmon",
   "metadata": {},
   "outputs": [
    {
     "name": "stdout",
     "output_type": "stream",
     "text": [
      "DefaultFormatter: 'test1' has data = 0\n",
      "\n",
      "HexFormatterObs: 'test1' has now hex dat = 0x3\n",
      "DefaultFormatter: 'test1' has data = 3\n",
      "\n",
      "HexFormatterObs: 'test1' has now hex dat = 0x15\n",
      "BinaryFormatterObs: 'test1' has now bin data = 0b10101\n",
      "DefaultFormatter: 'test1' has data = 21\n"
     ]
    }
   ],
   "source": [
    "def main():\n",
    "    df = DefaultFormatter('test1')\n",
    "    print(df)\n",
    "    \n",
    "    print()\n",
    "    hf = HexFormatterObs()\n",
    "    df.add(hf)\n",
    "    df.data = 3\n",
    "    print(df)\n",
    "    \n",
    "    print()\n",
    "    bf = BinaryFormatterObs()\n",
    "    df.add(bf)\n",
    "    df.data = 21\n",
    "    print(df)\n",
    "\n",
    "main()"
   ]
  }
 ],
 "metadata": {
  "kernelspec": {
   "display_name": "Python 3",
   "language": "python",
   "name": "python3"
  },
  "language_info": {
   "codemirror_mode": {
    "name": "ipython",
    "version": 3
   },
   "file_extension": ".py",
   "mimetype": "text/x-python",
   "name": "python",
   "nbconvert_exporter": "python",
   "pygments_lexer": "ipython3",
   "version": "3.9.2"
  }
 },
 "nbformat": 4,
 "nbformat_minor": 5
}
