{
 "cells": [
  {
   "cell_type": "markdown",
   "id": "retained-legislature",
   "metadata": {},
   "source": [
    "## Overview"
   ]
  },
  {
   "cell_type": "markdown",
   "id": "right-powell",
   "metadata": {},
   "source": [
    "- another structural pattern is the `bridge` pattern\n",
    "- the bridge pattern and the adapter pattern are very simmilar\n",
    "- while the `adapter` is used later to make unrelated classes work together, the `bridge` pattern is designed up-front to decouple implementation from its abstractions"
   ]
  },
  {
   "cell_type": "markdown",
   "id": "structural-toilet",
   "metadata": {},
   "source": [
    "## Real-World Examples"
   ]
  },
  {
   "cell_type": "markdown",
   "id": "worthy-experiment",
   "metadata": {},
   "source": [
    "- an example of the bridge pattern can be the digital economy (information products)\n",
    "- nowadays, the information product or `infoproduct` is part of the resources one can find online for training, self-improvement, or one's ideas and business development\n",
    "- purpose of an information product that you find on certain marketplaces, or the website of the provider, is to deliver information on a given topic in a way such that it is easy to access and consume\n",
    "- the provided material can be a PDF document or ebook, an ebook series, a video, a video series, etc."
   ]
  },
  {
   "cell_type": "markdown",
   "id": "false-tolerance",
   "metadata": {},
   "source": [
    "- in SWE, device drivers are often cited as an example of the bridge pattern, when the developers of an OS define the interface for device vendors to implement it"
   ]
  },
  {
   "cell_type": "markdown",
   "id": "current-significance",
   "metadata": {},
   "source": [
    "## Use Cases"
   ]
  },
  {
   "cell_type": "markdown",
   "id": "allied-watts",
   "metadata": {},
   "source": [
    "- the bridge pattern is a good idea when you want to share an implementation among multiple objects\n",
    "- basically instead of implementing several specialized classes, defining all that is required withing each class, you can define the following components\n",
    "    - an abstration that applies to the classes\n",
    "    - a seprate interface for the different objects involved"
   ]
  },
  {
   "cell_type": "markdown",
   "id": "valid-romania",
   "metadata": {},
   "source": [
    "### Bridge pattern vs Abstract Factory pattern"
   ]
  },
  {
   "cell_type": "markdown",
   "id": "found-break",
   "metadata": {},
   "source": [
    "- the bridge pattern is more for when both the class and what it does varies often\n",
    "- the class itself can be considered as the implementation and the behavior of the class as the abstraction"
   ]
  },
  {
   "cell_type": "markdown",
   "id": "separated-vaccine",
   "metadata": {},
   "source": [
    "- the abstract factory provides an interface for creating groups of related or dependent objects, without specifying their concrete classes or their implementation concerns"
   ]
  },
  {
   "cell_type": "markdown",
   "id": "hydraulic-johnson",
   "metadata": {},
   "source": [
    "## Implementation"
   ]
  },
  {
   "cell_type": "markdown",
   "id": "upset-brass",
   "metadata": {},
   "source": [
    "- we will be building an application where the user is going to manage and deliver content after fetching it from diverse sources:\n",
    "    - a web page (based on its URL)\n",
    "    - a resource accessed on an FTP server\n",
    "    - a file on local file system\n",
    "    - a database server"
   ]
  },
  {
   "cell_type": "markdown",
   "id": "compound-cancellation",
   "metadata": {},
   "source": [
    "- instead of implementing several content classes, each holding the methods responsible for getting the content pieces, assembling them, and showing them inside an application, we can define an abstraction for the `Resource Content` and a separate interface for the objects that are responsible for fetching the content"
   ]
  },
  {
   "cell_type": "markdown",
   "id": "interim-writer",
   "metadata": {},
   "source": [
    "- we begin with the class for our `Resource Content` abstraction, called `ResourceContent`\n",
    "- then we will need to define the interface for implementation classes that help fetch content, that is, the `ResourceContentFetcher` class\n",
    "- the concept is called `the Implementor`"
   ]
  },
  {
   "cell_type": "markdown",
   "id": "twelve-partition",
   "metadata": {},
   "source": [
    "- the first trick we use here is that, via an attribute `_imp` on the `ResourceContent` class, we maintain a reference to the object which represents the `implementor`"
   ]
  },
  {
   "cell_type": "code",
   "execution_count": 1,
   "id": "devoted-quantum",
   "metadata": {},
   "outputs": [],
   "source": [
    "class ResourceContent:\n",
    "    '''\n",
    "    Define the abstraction's interface\n",
    "    Maintain a reference to an object which represents the Implementor\n",
    "    '''\n",
    "    \n",
    "    def __init__(self, imp):\n",
    "        self._imp = imp\n",
    "        \n",
    "    def show_content(self, path):\n",
    "        self._imp.fetch(patch)"
   ]
  },
  {
   "cell_type": "markdown",
   "id": "limiting-taxation",
   "metadata": {},
   "source": [
    "- we define the equivalent of an interface in python using two features of the language, the `metaclass` feature (which helps define the `type of a type`, and __abstrace base classes (ABC)__"
   ]
  },
  {
   "cell_type": "code",
   "execution_count": 3,
   "id": "diagnostic-pollution",
   "metadata": {},
   "outputs": [],
   "source": [
    "import abc\n",
    "\n",
    "class ResourceContentFetcher(metaclass=abc.ABCMeta):\n",
    "    '''\n",
    "    Define the interface for implementation classes that fetch \n",
    "    '''\n",
    "    \n",
    "    @abc.abstractmethod\n",
    "    def fetch(path):\n",
    "        pass"
   ]
  },
  {
   "cell_type": "markdown",
   "id": "celtic-roulette",
   "metadata": {},
   "source": [
    "- now we can add an `implementation` class to fetch content from a web page or resource"
   ]
  },
  {
   "cell_type": "code",
   "execution_count": 4,
   "id": "crazy-student",
   "metadata": {},
   "outputs": [],
   "source": [
    "class URLFetcher(ResourceContentFetcher):\n",
    "    '''\n",
    "    Implement the Implementor interface and define its concrete \n",
    "    implementation\n",
    "    '''\n",
    "    def fetch(self, path):\n",
    "        # path is an URL\n",
    "        req = urllib.request.Request(path)\n",
    "        with urllib.request.urlopen(req) as response:\n",
    "            if response.code == 200:\n",
    "                the_page = response.read()\n",
    "                print(the_page)"
   ]
  },
  {
   "cell_type": "markdown",
   "id": "printable-justice",
   "metadata": {},
   "source": [
    "- we can also add an `implementation` class to fetch content from afile on the local filesystem"
   ]
  },
  {
   "cell_type": "code",
   "execution_count": 6,
   "id": "angry-selling",
   "metadata": {},
   "outputs": [],
   "source": [
    "class LocalFileFetcher(ResourceContentFetcher):\n",
    "    '''\n",
    "    Implement the Implementor interface and define its concrete \n",
    "    implementation\n",
    "    '''\n",
    "    def fetch(self, path):\n",
    "        # path is the filepath to a text file\n",
    "        with open(path) as f:\n",
    "            print(f.read())"
   ]
  },
  {
   "cell_type": "markdown",
   "id": "partial-contents",
   "metadata": {},
   "source": [
    "- based on our `main` function to show content using both `content fetchers` could look like the following"
   ]
  },
  {
   "cell_type": "code",
   "execution_count": 7,
   "id": "fantastic-smoke",
   "metadata": {},
   "outputs": [],
   "source": [
    "def main():\n",
    "    url_fetcher = URLFetcher()\n",
    "    iface = ResourceContent(url_fetcher)\n",
    "    iface.show_content('http://python.org')\n",
    "    \n",
    "    print('========================')\n",
    "    localfs_fetcher = LocalFileFetcher()\n",
    "    iface = ResourceContent(localfs_fetcher)\n",
    "    iface.show_content('file.txt')"
   ]
  },
  {
   "cell_type": "markdown",
   "id": "contrary-asian",
   "metadata": {},
   "source": [
    "__Summary__:\n",
    "1. define `ResourceContent` class for the interface of the `abstraction`\n",
    "2. define the `ResourceContentFetcher` class for the `Implementator`\n",
    "3. define two `implementation` classes\n",
    "    - `URLFetcher` for fetching content from an URL\n",
    "    - `LocalFileFetcher` for fetching content from the local filesystem\n",
    "    - finally, we add the `man()` function as shown earlier, and the ususal trick to call it"
   ]
  }
 ],
 "metadata": {
  "kernelspec": {
   "display_name": "Python 3",
   "language": "python",
   "name": "python3"
  },
  "language_info": {
   "codemirror_mode": {
    "name": "ipython",
    "version": 3
   },
   "file_extension": ".py",
   "mimetype": "text/x-python",
   "name": "python",
   "nbconvert_exporter": "python",
   "pygments_lexer": "ipython3",
   "version": "3.9.2"
  }
 },
 "nbformat": 4,
 "nbformat_minor": 5
}
