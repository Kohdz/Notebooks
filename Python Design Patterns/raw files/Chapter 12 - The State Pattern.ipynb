{
 "cells": [
  {
   "cell_type": "markdown",
   "id": "guided-amateur",
   "metadata": {},
   "source": [
    "## Overview"
   ]
  },
  {
   "cell_type": "markdown",
   "id": "handy-boating",
   "metadata": {},
   "source": [
    "- `OOP` focuses on maintaining the states of objects that interact with each other\n",
    "- a very handy tool to model `state transitions` when solving many problems is known as a `finite-state machine` or `state machine`"
   ]
  },
  {
   "cell_type": "markdown",
   "id": "accessible-marine",
   "metadata": {},
   "source": [
    "- a state machine is an abstract machine that has two key components, that is `state` and `transitions`\n",
    "- a state is the current (active) status of a system \n"
   ]
  },
  {
   "cell_type": "markdown",
   "id": "skilled-lending",
   "metadata": {},
   "source": [
    "- for example if we have a radio receiver, two possible states for it are to be tuned to `FM` or `AM`\n",
    "- another state is for it to be switching from one `FM/AM` radio station to another\n",
    "- a transition is a switch from one state to another\n",
    "- a transition is initiated by triggering event or conditions\n",
    "- usually, an action or set of actions is executed before or after a transition occurs"
   ]
  },
  {
   "cell_type": "markdown",
   "id": "rotary-better",
   "metadata": {},
   "source": [
    "- a nice feature of state machines is that they can be represented as `graphs`, where each state is a node and each transition is an edge between two nodes\n",
    "- state machines can be used to solve many kinds of problems, but non-computational and computational\n",
    "- non-computational examples include vending-machines, elevators, traffic lights, combination locks, parking meters, and automated gas pumps\n",
    "- computational examples include game programming and other categories of computer programming, hardware design, protocol desgin, and programming languages parsing"
   ]
  },
  {
   "cell_type": "markdown",
   "id": "narrow-standard",
   "metadata": {},
   "source": [
    "- the question remains, how are `state machines` related to `state design pattern`?\n",
    "- it turns out that state pattern is nothing more than a state machine applied to a particular software engineering problem"
   ]
  },
  {
   "cell_type": "markdown",
   "id": "senior-anthropology",
   "metadata": {},
   "source": [
    "## Real-World Examples"
   ]
  },
  {
   "cell_type": "markdown",
   "id": "pleasant-innocent",
   "metadata": {},
   "source": [
    "- vending machines have different states and react differently depending on the amount of money that we insert\n",
    "- depending on our selection and the money we insert, the machine can do the following\n",
    "    - reject our selection because the product we requested is out of stock\n",
    "    - deliver the product and give change"
   ]
  },
  {
   "cell_type": "markdown",
   "id": "indonesian-optimization",
   "metadata": {},
   "source": [
    "## Use Cases"
   ]
  },
  {
   "cell_type": "markdown",
   "id": "answering-pulse",
   "metadata": {},
   "source": [
    "- all problems that can be solved using state machines are a good use case for the `State` pattern\n",
    "- programming language compiler implementation or process model are good use cases for the state pattern\n",
    "- lexical and syntactic analysis can use states to build abstract syntax trees"
   ]
  },
  {
   "cell_type": "markdown",
   "id": "adverse-objective",
   "metadata": {},
   "source": [
    "- event-driven systems are yet another example\n",
    "- in event-driven systems, the transition from one state to aonther triggers an event/message\n",
    "- many computer games use this technique\n",
    "- for example, if a monster might move from the guard state to the attach statw when the main hero approaches it"
   ]
  },
  {
   "cell_type": "markdown",
   "id": "faced-injection",
   "metadata": {},
   "source": [
    "## Implementation"
   ]
  },
  {
   "cell_type": "markdown",
   "id": "empty-stanley",
   "metadata": {},
   "source": [
    "- our state machine should cover the different states of a process and the transitions between them\n",
    "- the `State` design pattern is ususally implemented using a parent `State` class that contains the common functionality of all the states, and a number of concrete classes derived from `State`, where each derived class contains only the state-specific required functionality\n",
    "- the `State` pattern focuses on implementing a state machine\n",
    "- the core parts of a state machine are the states and transitions between the states\n",
    "- it doesn't matter how those parts are implemented"
   ]
  },
  {
   "cell_type": "markdown",
   "id": "posted-consultation",
   "metadata": {},
   "source": [
    "- to avoid reinventing the wheel, we can make use of existing Python modules that not only help us create state machines, but also do it in a Pythonic way\n",
    "- a module that we will use is `state_machine`"
   ]
  },
  {
   "cell_type": "markdown",
   "id": "ambient-phrase",
   "metadata": {},
   "source": [
    "- lets start with the `Process` class\n",
    "- each created process has its own state machine\n",
    "- the first step to create a state machine using the `state_machine` module is to use the `@acts_as_state_machine` decorator\n",
    "- we then define the states of our state machine\n",
    "- this is a one-to-one mapping of what we see in the state diagram\n",
    "- the only difference is that we should give a hint about the initial state of the state machine\n",
    "- we do this by setting the `initial` attribute value to `True`\n",
    "- next we are going to define the transitions\n",
    "- in the `state_machine` module, a transition is an instance of the `Event` class\n",
    "- we define the possible transitions using the arguments `from_states` and `to_state`"
   ]
  },
  {
   "cell_type": "markdown",
   "id": "bridal-assistant",
   "metadata": {},
   "source": [
    "- each process has a name\n",
    "- ofically, a process name needs to have much more information to be useful (for example, ID, priority, status, and so forth) but let's keep it simple to focus on the pattern"
   ]
  },
  {
   "cell_type": "markdown",
   "id": "fiscal-going",
   "metadata": {},
   "source": [
    "- transitions are not very useful if nothing happens when they occur\n",
    "- the `state_machine` provides us with the `@before`/`@after` decorators that can be used to execute actions before or after a transition occurs, respectively\n",
    "- you can imagine updating some objects withing the system or sending an email or notification to someone\n",
    "- for the purpose of this example, the actions are limited to printing information about the state change of the process "
   ]
  },
  {
   "cell_type": "code",
   "execution_count": 21,
   "id": "challenging-bread",
   "metadata": {},
   "outputs": [
    {
     "ename": "TypeError",
     "evalue": "'NoneType' object is not callable",
     "output_type": "error",
     "traceback": [
      "\u001b[1;31m---------------------------------------------------------------------------\u001b[0m",
      "\u001b[1;31mTypeError\u001b[0m                                 Traceback (most recent call last)",
      "\u001b[1;32m<ipython-input-21-1459bb4c4d5b>\u001b[0m in \u001b[0;36m<module>\u001b[1;34m\u001b[0m\n\u001b[0;32m     19\u001b[0m \u001b[1;33m\u001b[0m\u001b[0m\n\u001b[0;32m     20\u001b[0m \u001b[1;33m@\u001b[0m\u001b[0macts_as_state_machine\u001b[0m\u001b[1;33m\u001b[0m\u001b[1;33m\u001b[0m\u001b[0m\n\u001b[1;32m---> 21\u001b[1;33m \u001b[1;32mclass\u001b[0m \u001b[0mProcess\u001b[0m\u001b[1;33m:\u001b[0m\u001b[1;33m\u001b[0m\u001b[1;33m\u001b[0m\u001b[0m\n\u001b[0m\u001b[0;32m     22\u001b[0m     \u001b[0mcreated\u001b[0m \u001b[1;33m=\u001b[0m \u001b[0mState\u001b[0m\u001b[1;33m(\u001b[0m\u001b[0minitial\u001b[0m\u001b[1;33m=\u001b[0m\u001b[1;32mTrue\u001b[0m\u001b[1;33m)\u001b[0m\u001b[1;33m\u001b[0m\u001b[1;33m\u001b[0m\u001b[0m\n\u001b[0;32m     23\u001b[0m     \u001b[0mwaiting\u001b[0m \u001b[1;33m=\u001b[0m \u001b[0mState\u001b[0m\u001b[1;33m(\u001b[0m\u001b[1;33m)\u001b[0m\u001b[1;33m\u001b[0m\u001b[1;33m\u001b[0m\u001b[0m\n",
      "\u001b[1;32m<ipython-input-21-1459bb4c4d5b>\u001b[0m in \u001b[0;36mProcess\u001b[1;34m()\u001b[0m\n\u001b[0;32m     52\u001b[0m \u001b[1;33m\u001b[0m\u001b[0m\n\u001b[0;32m     53\u001b[0m     \u001b[1;33m@\u001b[0m\u001b[0mafter\u001b[0m\u001b[1;33m(\u001b[0m\u001b[1;34m'wait'\u001b[0m\u001b[1;33m)\u001b[0m\u001b[1;33m\u001b[0m\u001b[1;33m\u001b[0m\u001b[0m\n\u001b[1;32m---> 54\u001b[1;33m     \u001b[1;32mdef\u001b[0m \u001b[0mwait_info\u001b[0m\u001b[1;33m(\u001b[0m\u001b[0mself\u001b[0m\u001b[1;33m)\u001b[0m\u001b[1;33m:\u001b[0m\u001b[1;33m\u001b[0m\u001b[1;33m\u001b[0m\u001b[0m\n\u001b[0m\u001b[0;32m     55\u001b[0m         \u001b[0mprint\u001b[0m\u001b[1;33m(\u001b[0m\u001b[1;34mf'{self.name} entered waiting mode'\u001b[0m\u001b[1;33m)\u001b[0m\u001b[1;33m\u001b[0m\u001b[1;33m\u001b[0m\u001b[0m\n\u001b[0;32m     56\u001b[0m \u001b[1;33m\u001b[0m\u001b[0m\n",
      "\u001b[1;31mTypeError\u001b[0m: 'NoneType' object is not callable"
     ]
    }
   ],
   "source": [
    "'''\n",
    "from state_machine import (State, Event, acts_as_state_machine,\n",
    " after, before, InvalidStateTransition)\n",
    "'''\n",
    "\n",
    "def acts_as_state_machine():\n",
    "    pass\n",
    "\n",
    "class State:\n",
    "    def __init__(self, initial=True):\n",
    "        self.initalized = initial\n",
    "\n",
    "\n",
    "\n",
    "class Event:\n",
    "    def __init__(self, from_states=True, to_state=False):\n",
    "        self.From_states = from_states\n",
    "        self.to_state = to_state\n",
    "\n",
    "@acts_as_state_machine\n",
    "class Process:\n",
    "    created = State(initial=True)\n",
    "    waiting = State()\n",
    "    running = State()\n",
    "    terminated = State()\n",
    "    blocked = State()\n",
    "    swapped_out_waiting = State()\n",
    "    swapped_out_blocked = State()\n",
    "    \n",
    "    wait = Event(from_states=(created, \n",
    "                              running, \n",
    "                              blocked, \n",
    "                              swapped_out_waiting), \n",
    "                 to_state=waiting)\n",
    "    \n",
    "    run = Event(from_states=waiting, to_state=running)\n",
    "    \n",
    "    terminate = Event(from_states=running, to_state=terminated)\n",
    "    \n",
    "    block = Event(from_states=(running, \n",
    "                               swapped_out_blocked), \n",
    "                  to_state=blocked)\n",
    "    \n",
    "    swap_wait = Event(from_states=waiting, \n",
    "                      to_state=swapped_out_waiting)\n",
    "    \n",
    "    swap_block = Event(from_states=blocked, \n",
    "                       to_state=swapped_out_blocked)\n",
    "    \n",
    "    def __init__(self, name):\n",
    "        self.name = name\n",
    "        \n",
    "    @after('wait')\n",
    "    def wait_info(self):\n",
    "        print(f'{self.name} entered waiting mode')\n",
    "    \n",
    "    @after('run')\n",
    "    def run_info(self):\n",
    "        print(f'{self.name} is running')\n",
    "    \n",
    "    @before('terminate')\n",
    "    def terminate_info(self):\n",
    "        print(f'{self.name} terminated')\n",
    "    \n",
    "    @after('block')\n",
    "    def block_info(self):\n",
    "        print(f'{self.name} is blocked')\n",
    "    \n",
    "    @after('swap_wait')\n",
    "    def swap_wait_info(self):\n",
    "        print(f'{self.name} is swapped out and waiting')\n",
    "    \n",
    "    @after('swap_block')\n",
    "    def swap_block_info(self):\n",
    "        print(f'{self.name} is swapped out and blocked')\n",
    "        \n",
    "        "
   ]
  },
  {
   "cell_type": "markdown",
   "id": "massive-plumbing",
   "metadata": {},
   "source": [
    "- next we need the `transition()` function, which accepts three arguments\n",
    "    - `process`, which is an instance of `Process`\n",
    "    - `event`, which is an instance of `Event` (`wait`, `run`, `terminate` and so forth)\n",
    "    - `event_name`, which is the name of the event\n",
    "- and the name of the event is printed if something goes wrong when trying to execute an `event`"
   ]
  },
  {
   "cell_type": "code",
   "execution_count": 22,
   "id": "deadly-beads",
   "metadata": {},
   "outputs": [],
   "source": [
    "def transition(process, event, event_name):\n",
    "    try:\n",
    "        event()\n",
    "    except InvalidStateTransition as err:\n",
    "        print(f'Error: transition of {process.name} from {process.current_state} to {event_name} failed'\n",
    "              )"
   ]
  },
  {
   "cell_type": "markdown",
   "id": "different-serial",
   "metadata": {},
   "source": [
    "- the `state_info()` function shows some basic infomation about the current (active) state of the process"
   ]
  },
  {
   "cell_type": "code",
   "execution_count": 23,
   "id": "united-first",
   "metadata": {},
   "outputs": [],
   "source": [
    "def state_info(process):\n",
    "    print(f'state of {process.name}: {process.current_state}')"
   ]
  },
  {
   "cell_type": "markdown",
   "id": "listed-juvenile",
   "metadata": {},
   "source": [
    "- at the beginning of the `main()` function, we define some string constants, which are passed as `event_name`"
   ]
  },
  {
   "cell_type": "code",
   "execution_count": 24,
   "id": "hollywood-feelings",
   "metadata": {},
   "outputs": [],
   "source": [
    "def main():\n",
    "    RUNNING = 'running'\n",
    "    WAITING = 'waiting'\n",
    "    BLOCKED = 'blocked'\n",
    "    TERMINATED = 'terminated'\n",
    "    \n",
    "    p1, p2 = Process('process1'), Process('process2')\n",
    "    [state_info(p) for p in (p1, p2)]\n",
    "    \n",
    "    print()\n",
    "    transition(p1, p1.wait, WAITING)\n",
    "    transition(p2, p2.terminate, TERMINATED)\n",
    "    [state_info(p) for p in (p1, p2)]\n",
    "    print()\n",
    "    transition(p1, p1.run, RUNNING)\n",
    "    transition(p2, p2.wait, WAITING)\n",
    "    [state_info(p) for p in (p1, p2)]\n",
    "    print()\n",
    "    transition(p2, p2.run, RUNNING)\n",
    "    [state_info(p) for p in (p1, p2)]\n",
    "    print()\n",
    "    [transition(p, p.block, BLOCKED) for p in (p1, p2)]\n",
    "    [state_info(p) for p in (p1, p2)]\n",
    "    print()\n",
    "    [transition(p, p.terminate, TERMINATED) for p in (p1, p2)]\n",
    "    [state_info(p) for p in (p1, p2)]"
   ]
  },
  {
   "cell_type": "markdown",
   "id": "lightweight-joining",
   "metadata": {},
   "source": [
    "- notice how using a good `state_machine` eliminates conditional logic\n",
    "- there's no need to use long and error-prone `if...else` statements that check for each and every state transition and react to them"
   ]
  }
 ],
 "metadata": {
  "kernelspec": {
   "display_name": "Python 3",
   "language": "python",
   "name": "python3"
  },
  "language_info": {
   "codemirror_mode": {
    "name": "ipython",
    "version": 3
   },
   "file_extension": ".py",
   "mimetype": "text/x-python",
   "name": "python",
   "nbconvert_exporter": "python",
   "pygments_lexer": "ipython3",
   "version": "3.9.2"
  }
 },
 "nbformat": 4,
 "nbformat_minor": 5
}
