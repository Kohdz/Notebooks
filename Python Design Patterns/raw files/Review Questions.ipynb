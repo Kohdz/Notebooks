{
 "cells": [
  {
   "cell_type": "markdown",
   "id": "periodic-jungle",
   "metadata": {},
   "source": [
    "## Builder Pattern"
   ]
  },
  {
   "cell_type": "markdown",
   "id": "blocked-macedonia",
   "metadata": {},
   "source": [
    "- what does the builder pattern seprate?\n",
    "    - seprates the construction fo a complex object from its representation\n",
    "- what are the two main participants of the pattern\n",
    "    - builder and director\n",
    "- what use cases does the builder pattern have\n",
    "    - useful when you have to initalize alot of parameters in some kind of order\n",
    "- how does it differe from the factory method\n",
    "    - factory pattern returns a created object immediately, in the builder pattern the client code explicitly asks the director to return the final object when its needed\n",
    "- what are three cases where we can implement this pattern?\n",
    "    - DOM\n",
    "    - pizza builder\n",
    "    - apple computer builder"
   ]
  },
  {
   "cell_type": "markdown",
   "id": "several-wisconsin",
   "metadata": {},
   "source": [
    "## Prototype Pattern"
   ]
  },
  {
   "cell_type": "markdown",
   "id": "nervous-geneva",
   "metadata": {},
   "source": []
  },
  {
   "cell_type": "markdown",
   "id": "unavailable-moisture",
   "metadata": {},
   "source": []
  },
  {
   "cell_type": "markdown",
   "id": "olympic-category",
   "metadata": {},
   "source": []
  },
  {
   "cell_type": "markdown",
   "id": "graphic-fellowship",
   "metadata": {},
   "source": []
  },
  {
   "cell_type": "markdown",
   "id": "universal-vancouver",
   "metadata": {},
   "source": [
    "## Singleton Pattern"
   ]
  },
  {
   "cell_type": "markdown",
   "id": "piano-dictionary",
   "metadata": {},
   "source": []
  },
  {
   "cell_type": "markdown",
   "id": "collective-lease",
   "metadata": {},
   "source": []
  },
  {
   "cell_type": "markdown",
   "id": "living-aging",
   "metadata": {},
   "source": []
  },
  {
   "cell_type": "markdown",
   "id": "ordered-filling",
   "metadata": {},
   "source": []
  }
 ],
 "metadata": {
  "kernelspec": {
   "display_name": "Python 3",
   "language": "python",
   "name": "python3"
  },
  "language_info": {
   "codemirror_mode": {
    "name": "ipython",
    "version": 3
   },
   "file_extension": ".py",
   "mimetype": "text/x-python",
   "name": "python",
   "nbconvert_exporter": "python",
   "pygments_lexer": "ipython3",
   "version": "3.9.2"
  }
 },
 "nbformat": 4,
 "nbformat_minor": 5
}
