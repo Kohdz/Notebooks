{
 "cells": [
  {
   "cell_type": "markdown",
   "id": "level-tiffany",
   "metadata": {},
   "source": [
    "## Iterables"
   ]
  },
  {
   "cell_type": "markdown",
   "id": "nonprofit-december",
   "metadata": {},
   "source": [
    "- objects are iterables\n",
    "- if you can use it in a for loop it is an iterable\n",
    "- in order be an iterable, I have to be able to obtain an iterator\n",
    "- iterators are a one time run through unlike lists"
   ]
  },
  {
   "cell_type": "code",
   "execution_count": 1,
   "id": "knowing-spirit",
   "metadata": {},
   "outputs": [
    {
     "name": "stdout",
     "output_type": "stream",
     "text": [
      "x\n",
      "[0, 1, 2, 3, 4]\n",
      "\n",
      "n\n",
      "0\n",
      "1\n",
      "2\n",
      "3\n",
      "4\n"
     ]
    }
   ],
   "source": [
    "x = list(range(5))\n",
    "print('x')\n",
    "print(x)\n",
    "print(\"\")\n",
    "print(\"n\")\n",
    "for n in x:\n",
    "    print(n)"
   ]
  },
  {
   "cell_type": "code",
   "execution_count": 13,
   "id": "grateful-vanilla",
   "metadata": {},
   "outputs": [
    {
     "name": "stdout",
     "output_type": "stream",
     "text": [
      "speed\n",
      "stealth\n",
      "\n",
      "speed\n",
      "stealth\n"
     ]
    }
   ],
   "source": [
    "class Bacteria:\n",
    "    def __init__(self, size, color, abilities=[]):\n",
    "        self.size = size\n",
    "        self.color = color\n",
    "        self.abilities = abilities\n",
    "        self.index = -1\n",
    "    \n",
    "    # send back an iterator if an object has a dunder next\n",
    "    def __iter__(self):\n",
    "        return self\n",
    "        # return (a for a in self.abilities)\n",
    "    \n",
    "    def __len__(self):\n",
    "        return len(self.abilities)\n",
    "    \n",
    "    def __next__(self):\n",
    "        self.index += 1\n",
    "        if self.index >= len(self.abilities):\n",
    "            self.index = -1\n",
    "            raise StopIteration()\n",
    "        return self.abilities[self.index]\n",
    "        \n",
    "    def __reversed__(self):\n",
    "        for i in range(len(self) - 1, -1, -1):\n",
    "            yield self.abilities[i]\n",
    "    \n",
    "b1 = Bacteria(5, 'red', ['speed', 'stealth'])\n",
    "\n",
    "for a in b1:\n",
    "    print(a)\n",
    "    \n",
    "print(\"\")\n",
    "print(next(b1))\n",
    "print(next(b1))"
   ]
  },
  {
   "cell_type": "markdown",
   "id": "interracial-nothing",
   "metadata": {},
   "source": [
    "## Getting, Setrting and Deleting Items"
   ]
  },
  {
   "cell_type": "code",
   "execution_count": 27,
   "id": "union-genesis",
   "metadata": {},
   "outputs": [
    {
     "name": "stdout",
     "output_type": "stream",
     "text": [
      "<Inventory>\n",
      "leds:$1.000000\n",
      "batteries:$3.000000\n",
      "solder:$5.000000\n",
      "</Inventory>\n",
      "\n",
      "inventory['solder']\n",
      "5.0\n",
      "\n",
      "inventory['leds']\n",
      "7.0\n"
     ]
    }
   ],
   "source": [
    "class Inventory:\n",
    "    def __init__(self):\n",
    "        self._products = ['leds', 'batteries', 'solder']\n",
    "        self._prices = [1.00, 3.000, 5.00]\n",
    "        \n",
    "    def __repr__(self):\n",
    "        product_price_pairs = ('{}:${:2f}'.format(*pair) \n",
    "                              for pair in zip(self._products, self._prices))\n",
    "        listing = '\\n'.join(product_price_pairs)\n",
    "        return '<Inventory>\\n{listing}\\n</Inventory>'.format(listing=listing)\n",
    "    \n",
    "    def __setitem__(self, key, value):\n",
    "        if key in self:\n",
    "            self._prices[self._products.index(key)] = value\n",
    "        else:\n",
    "            self._products.append(key)\n",
    "            self._prices.append(value)\n",
    "            \n",
    "    def __getitem__(self, key):\n",
    "        for index, product in enumerate(self._products):\n",
    "            if product == key:\n",
    "                return self._prices[index]\n",
    "        return self.__missing__(key)\n",
    "            \n",
    "    def __contains__(self, key):\n",
    "        return key in self._products\n",
    "    \n",
    "    def __missing__(self, notfoundKey):\n",
    "        return \"We are currently out of stock\"\n",
    "    \n",
    "    def __delitem__(self, key):\n",
    "        if key in self:\n",
    "            index = self._products.index(key)\n",
    "            del self._products[index]\n",
    "            del self._prices[index]\n",
    "        else:\n",
    "            raise KeyError('That product does not exits')\n",
    "    \n",
    "inventory = Inventory()\n",
    "print(inventory)\n",
    "print(\"\")\n",
    "print(\"inventory['solder']\")\n",
    "print(inventory['solder'])\n",
    "print(\"\")\n",
    "inventory['leds'] = 7.00\n",
    "print(\"inventory['leds']\")\n",
    "print(inventory['leds'])"
   ]
  }
 ],
 "metadata": {
  "kernelspec": {
   "display_name": "Python 3",
   "language": "python",
   "name": "python3"
  },
  "language_info": {
   "codemirror_mode": {
    "name": "ipython",
    "version": 3
   },
   "file_extension": ".py",
   "mimetype": "text/x-python",
   "name": "python",
   "nbconvert_exporter": "python",
   "pygments_lexer": "ipython3",
   "version": "3.9.2"
  }
 },
 "nbformat": 4,
 "nbformat_minor": 5
}
