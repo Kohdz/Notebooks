{
 "cells": [
  {
   "cell_type": "markdown",
   "id": "respected-hurricane",
   "metadata": {},
   "source": [
    "## Getting Attributes"
   ]
  },
  {
   "cell_type": "markdown",
   "id": "pharmaceutical-replication",
   "metadata": {},
   "source": [
    "- in other languages if you wanted `.color` you would have getters and setters\n",
    "- in python you just write `Object.color`\n",
    "- `.` is called an attribute"
   ]
  },
  {
   "cell_type": "markdown",
   "id": "twelve-carpet",
   "metadata": {},
   "source": [
    "- `__getattr__` is a little more funky then the `__getattribute__`\n",
    "- getattr will run if it cannot find the attribute but getattribute will always run"
   ]
  },
  {
   "cell_type": "code",
   "execution_count": 19,
   "id": "brave-sacramento",
   "metadata": {},
   "outputs": [
    {
     "name": "stdout",
     "output_type": "stream",
     "text": [
      "__getattribute__ z\n",
      "__getattribute__ a\n"
     ]
    },
    {
     "data": {
      "text/plain": [
       "'Singularity has occured'"
      ]
     },
     "execution_count": 19,
     "metadata": {},
     "output_type": "execute_result"
    }
   ],
   "source": [
    "class Point:\n",
    "    def __init__(self, x, y):\n",
    "        self.x = x\n",
    "        self.y = y\n",
    "        \n",
    "    def __repr__(self):\n",
    "        return f'<Pair (x={self.x}, y={self.y})>'\n",
    "    \n",
    "    def __getattr__(self, attrname):\n",
    "        if attrname == 'z':\n",
    "            return 'cheese'\n",
    "        else:\n",
    "            return 'Singularity has occured'\n",
    "    \n",
    "    def __getattribute__(self, attrname):\n",
    "        print('__getattribute__ ' + attrname)\n",
    "        if attrname == 'z':\n",
    "            return 'cheese'\n",
    "        return super().__getattribute__(attrname)\n",
    "    \n",
    "    def __dir__(self):\n",
    "        return [key for key in self.__dict__] + ['z']\n",
    "        \n",
    "        \n",
    "point = Point(3, 7)\n",
    "point.z\n",
    "point.a"
   ]
  },
  {
   "cell_type": "markdown",
   "id": "sharp-dress",
   "metadata": {},
   "source": [
    "## Setting Attributes"
   ]
  },
  {
   "cell_type": "markdown",
   "id": "obvious-prediction",
   "metadata": {},
   "source": [
    "- we can normally assing items using the `=` sign\n",
    "- but maybe we want to hijack it\n",
    "- `__setattr__` runs everytime we set an attribute"
   ]
  },
  {
   "cell_type": "code",
   "execution_count": 36,
   "id": "micro-nicaragua",
   "metadata": {},
   "outputs": [
    {
     "name": "stdout",
     "output_type": "stream",
     "text": [
      "size:5\n",
      "color:red\n",
      "habitat:hot springs\n",
      "habitat:swamp\n",
      "No!!\n",
      "You cannot delete that\n"
     ]
    }
   ],
   "source": [
    "class Bacteria:\n",
    "    def __init__(self, size, color, habitat):\n",
    "        self.size = size\n",
    "        self.color = color\n",
    "        self.habitat = habitat\n",
    "    \n",
    "    def __repr__(self):\n",
    "        return f'<Resturant name={self.size} color={self.color}>'\n",
    "    \n",
    "    def __setattr__(self, name, value):\n",
    "        print(f'{name}:{value}')\n",
    "        if name == 'habitat' and hasattr(self, 'habitat'):\n",
    "            print('No!!')\n",
    "            return\n",
    "        self.__dict__[name] = value\n",
    "        \n",
    "    def __delattr__(self, name):\n",
    "        if name == 'location':\n",
    "            del self.__dict[name]\n",
    "        else:\n",
    "            print('You cannot delete that')\n",
    "    \n",
    "bacteria = Bacteria(5, 'red', 'hot springs')\n",
    "bacteria.habitat = 'swamp'\n",
    "\n",
    "del bacteria.size"
   ]
  },
  {
   "cell_type": "markdown",
   "id": "intimate-heater",
   "metadata": {},
   "source": [
    "## Descriptors Property Decorators"
   ]
  },
  {
   "cell_type": "markdown",
   "id": "lucky-geography",
   "metadata": {},
   "source": [
    "- we hang new functionality over functions using decorators\n",
    "- we can use decorators to set up descriptors, which allows us to create a property that has certain behaviors\n",
    "- descriptors are objects of properties that have a `get`, `set` and `delete`\n",
    "- property decorator is actually a class that's creating an object for the class your setting up"
   ]
  },
  {
   "cell_type": "code",
   "execution_count": 49,
   "id": "daily-sleep",
   "metadata": {},
   "outputs": [
    {
     "name": "stdout",
     "output_type": "stream",
     "text": [
      "Help on class property in module builtins:\n",
      "\n",
      "class property(object)\n",
      " |  property(fget=None, fset=None, fdel=None, doc=None)\n",
      " |  \n",
      " |  Property attribute.\n",
      " |  \n",
      " |    fget\n",
      " |      function to be used for getting an attribute value\n",
      " |    fset\n",
      " |      function to be used for setting an attribute value\n",
      " |    fdel\n",
      " |      function to be used for del'ing an attribute\n",
      " |    doc\n",
      " |      docstring\n",
      " |  \n",
      " |  Typical use is to define a managed attribute x:\n",
      " |  \n",
      " |  class C(object):\n",
      " |      def getx(self): return self._x\n",
      " |      def setx(self, value): self._x = value\n",
      " |      def delx(self): del self._x\n",
      " |      x = property(getx, setx, delx, \"I'm the 'x' property.\")\n",
      " |  \n",
      " |  Decorators make defining new properties or modifying existing ones easy:\n",
      " |  \n",
      " |  class C(object):\n",
      " |      @property\n",
      " |      def x(self):\n",
      " |          \"I am the 'x' property.\"\n",
      " |          return self._x\n",
      " |      @x.setter\n",
      " |      def x(self, value):\n",
      " |          self._x = value\n",
      " |      @x.deleter\n",
      " |      def x(self):\n",
      " |          del self._x\n",
      " |  \n",
      " |  Methods defined here:\n",
      " |  \n",
      " |  __delete__(self, instance, /)\n",
      " |      Delete an attribute of instance.\n",
      " |  \n",
      " |  __get__(self, instance, owner, /)\n",
      " |      Return an attribute of instance, which is of type owner.\n",
      " |  \n",
      " |  __getattribute__(self, name, /)\n",
      " |      Return getattr(self, name).\n",
      " |  \n",
      " |  __init__(self, /, *args, **kwargs)\n",
      " |      Initialize self.  See help(type(self)) for accurate signature.\n",
      " |  \n",
      " |  __set__(self, instance, value, /)\n",
      " |      Set an attribute of instance to value.\n",
      " |  \n",
      " |  deleter(...)\n",
      " |      Descriptor to change the deleter on a property.\n",
      " |  \n",
      " |  getter(...)\n",
      " |      Descriptor to change the getter on a property.\n",
      " |  \n",
      " |  setter(...)\n",
      " |      Descriptor to change the setter on a property.\n",
      " |  \n",
      " |  ----------------------------------------------------------------------\n",
      " |  Static methods defined here:\n",
      " |  \n",
      " |  __new__(*args, **kwargs) from builtins.type\n",
      " |      Create and return a new object.  See help(type) for accurate signature.\n",
      " |  \n",
      " |  ----------------------------------------------------------------------\n",
      " |  Data descriptors defined here:\n",
      " |  \n",
      " |  __isabstractmethod__\n",
      " |  \n",
      " |  fdel\n",
      " |  \n",
      " |  fget\n",
      " |  \n",
      " |  fset\n",
      "\n"
     ]
    }
   ],
   "source": [
    "help(property)"
   ]
  },
  {
   "cell_type": "markdown",
   "id": "coated-wheat",
   "metadata": {},
   "source": [
    "- the `proproty` decorator lets you fine point control how users interact with your class\n",
    "- you maybe do not want them to change around stuff\n",
    "- by the way, you need to make your function name match your decorator name"
   ]
  },
  {
   "cell_type": "code",
   "execution_count": 52,
   "id": "working-puzzle",
   "metadata": {},
   "outputs": [
    {
     "name": "stdout",
     "output_type": "stream",
     "text": [
      "some calculation\n"
     ]
    },
    {
     "data": {
      "text/plain": [
       "'red'"
      ]
     },
     "execution_count": 52,
     "metadata": {},
     "output_type": "execute_result"
    }
   ],
   "source": [
    "class Bacteria:\n",
    "    def __init__(self, color):\n",
    "        self._color = color\n",
    "        \n",
    "    @property\n",
    "    def color(self):\n",
    "        print('some calculation')\n",
    "        return self._color\n",
    "        \n",
    "    @color.setter\n",
    "    def color(self, value):\n",
    "        if value not in {'red', 'green', 'blue'}:\n",
    "            raise ValueError(f'the color {value} is not valid')\n",
    "        self._color = value\n",
    "        \n",
    "    @color.deleter\n",
    "    def color(self):\n",
    "        raise AttributeError(\"you cannot delete\")\n",
    "        del self._color\n",
    "        \n",
    "        \n",
    "bacteria = Bacteria('red')\n",
    "bacteria.color"
   ]
  },
  {
   "cell_type": "markdown",
   "id": "identical-drove",
   "metadata": {},
   "source": [
    "## Descriptors Creating A Custom Descriptor"
   ]
  },
  {
   "cell_type": "markdown",
   "id": "empty-gauge",
   "metadata": {},
   "source": [
    "- you can basically have a class with data and that class basically forces you to adhere to some rule if you want to get or assign to that class attributes\n",
    "- in other programnming languages, you have to use `get` and `set` but not in python"
   ]
  },
  {
   "cell_type": "code",
   "execution_count": 68,
   "id": "greatest-simple",
   "metadata": {},
   "outputs": [
    {
     "name": "stdout",
     "output_type": "stream",
     "text": [
      "some calculation\n",
      "<__main__.BATCH object at 0x000001DBC67730D0>\n",
      "<__main__.Bacteria object at 0x000001DBC67735E0>\n",
      "<class '__main__.Bacteria'>\n",
      "getting the vin\n",
      "setting the vin to 012\n"
     ]
    }
   ],
   "source": [
    "import re\n",
    "\n",
    "class BATCH:\n",
    "    _validation_regex = re.compile('\\d{3}')\n",
    "    def __init__(self, batch='000'):\n",
    "        self._batch = batch\n",
    "\n",
    "    def __get__(self, instance, owner):\n",
    "        print(self)\n",
    "        print(instance)\n",
    "        print(owner)\n",
    "        print('getting the vin')\n",
    "        return self._batch\n",
    "    \n",
    "    def __set__(self, instance, new_value):\n",
    "        print('setting the vin to ' + new_value)\n",
    "        if not self._validation_regex.match(new_value):\n",
    "            print('your batch must adhere to the appropriate formatting')\n",
    "            return\n",
    "        self._batch = new_value\n",
    "    \n",
    "    def __delete__(self):\n",
    "        print('deleting the vin')\n",
    "    \n",
    "class Bacteria:\n",
    "    \n",
    "    batch = BATCH()\n",
    "    \n",
    "    def __init__(self, color, batch=None):\n",
    "        self._color = color\n",
    "        if batch is not None:\n",
    "               self.batch = BATCH(batch)  \n",
    "        \n",
    "    @property\n",
    "    def color(self):\n",
    "        print('some calculation')\n",
    "        return self._color\n",
    "        \n",
    "    @color.setter\n",
    "    def color(self, value):\n",
    "        if value not in {'red', 'green', 'blue'}:\n",
    "            raise ValueError(f'the color {value} is not valid')\n",
    "        self._color = value\n",
    "        \n",
    "    @color.deleter\n",
    "    def color(self):\n",
    "        raise AttributeError(\"you cannot delete\")\n",
    "        del self._color\n",
    "        \n",
    "        \n",
    "bacteria = Bacteria('red')\n",
    "bacteria.color\n",
    "bacteria.batch\n",
    "bacteria.batch = '012'"
   ]
  }
 ],
 "metadata": {
  "kernelspec": {
   "display_name": "Python 3",
   "language": "python",
   "name": "python3"
  },
  "language_info": {
   "codemirror_mode": {
    "name": "ipython",
    "version": 3
   },
   "file_extension": ".py",
   "mimetype": "text/x-python",
   "name": "python",
   "nbconvert_exporter": "python",
   "pygments_lexer": "ipython3",
   "version": "3.9.2"
  }
 },
 "nbformat": 4,
 "nbformat_minor": 5
}
