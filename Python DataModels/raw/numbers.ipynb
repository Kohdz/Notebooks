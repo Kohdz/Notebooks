{
 "cells": [
  {
   "cell_type": "markdown",
   "id": "better-labor",
   "metadata": {},
   "source": [
    "## Adding"
   ]
  },
  {
   "cell_type": "code",
   "execution_count": 14,
   "id": "dressed-jacob",
   "metadata": {},
   "outputs": [
    {
     "name": "stdout",
     "output_type": "stream",
     "text": [
      "<Point (x=2, y=6)>\n"
     ]
    }
   ],
   "source": [
    "class Point:\n",
    "    def __init__(self, x, y):\n",
    "        self.x = x\n",
    "        self.y = y\n",
    "        \n",
    "    def __repr__(self):\n",
    "        return f\"<Point (x={self.x}, y={self.y})>\"\n",
    "    \n",
    "    \n",
    "    def __add__(self, other):\n",
    "        return Point(self.x + other.x, self.y + other.y)\n",
    "    \n",
    "    def __radd__(self, other):\n",
    "        if isinstance(other, (float, int)):\n",
    "            return Point(self.x, other, self.y + other)\n",
    "        else:\n",
    "            return self.__add__(other)\n",
    "    \n",
    "    def __iadd__(self, other):\n",
    "        if isinstance(other, (float, int)):\n",
    "            self.x += other\n",
    "            self.y += other\n",
    "        else:\n",
    "            self.x += other.x\n",
    "            self.y += other.y\n",
    "        return self\n",
    "    \n",
    "\n",
    "p1 = Point(0, 0)\n",
    "p2 = Point(1, 3)\n",
    "p3 = Point(-2, -4)\n",
    "\n",
    "p2 + p3\n",
    "print(sum([p1, p2, p2], Point(0, 0)))\n",
    "p1 += p2"
   ]
  },
  {
   "cell_type": "markdown",
   "id": "cleared-mainstream",
   "metadata": {},
   "source": [
    "## Subtracting"
   ]
  },
  {
   "cell_type": "code",
   "execution_count": 19,
   "id": "allied-upset",
   "metadata": {},
   "outputs": [
    {
     "name": "stdout",
     "output_type": "stream",
     "text": [
      "in place\n"
     ]
    }
   ],
   "source": [
    "class Point:\n",
    "    def __init__(self, x, y):\n",
    "        self.x = x\n",
    "        self.y = y\n",
    "        \n",
    "    def __repr__(self):\n",
    "        return f\"<Point (x={self.x}, y={self.y})>\"\n",
    "    \n",
    "    def __sub__(self, other):\n",
    "        if not isinstance(other, (Point, int, float)):\n",
    "              raise TypeError(f\"Subtraction is not supported for a Point and {other}\")\n",
    "        if isinstance(other, (int, float)):\n",
    "            return Point(self.x - other, self.y - other)\n",
    "        else:\n",
    "            return Point(self.x - other.x, self.y - other.y)\n",
    "    \n",
    "    # if you want to do reverse calculation\n",
    "    def __rsub__(self, other):\n",
    "        if not isinstance(other, Point):\n",
    "            raise TypeError(\"Try the reverse order. Be careful difference may change\")\n",
    "        return self.__sub__(other)\n",
    "    \n",
    "    # if you want to do inplace calculation\n",
    "    def __isub__(self, other):\n",
    "        print('in place')\n",
    "        return self.__sub__(other)\n",
    "    \n",
    "p1 = Point(0, 0)\n",
    "p2 = Point(1, 3)\n",
    "p3 = Point(-2, -4)\n",
    "\n",
    "p2 - p1\n",
    "p2 -= 5 "
   ]
  },
  {
   "cell_type": "markdown",
   "id": "opened-dependence",
   "metadata": {},
   "source": [
    "## Multiplying"
   ]
  },
  {
   "cell_type": "markdown",
   "id": "smooth-proposition",
   "metadata": {},
   "source": [
    "- instresting behavioris when you do `5 * 'abc'`, you except failure but because of `rsub/radd` type behavior, it will try `'abc' * 5` and that is valid and would work"
   ]
  },
  {
   "cell_type": "code",
   "execution_count": 25,
   "id": "cardiac-alignment",
   "metadata": {},
   "outputs": [
    {
     "data": {
      "text/plain": [
       "<Point (x=-2, y=-12)>"
      ]
     },
     "execution_count": 25,
     "metadata": {},
     "output_type": "execute_result"
    }
   ],
   "source": [
    "class Point:\n",
    "    def __init__(self, x, y):\n",
    "        self.x = x\n",
    "        self.y = y\n",
    "        \n",
    "    def __repr__(self):\n",
    "        return f\"<Point (x={self.x}, y={self.y})>\"\n",
    "    \n",
    "    def __mul__(self, other):\n",
    "        if isinstance(other, (int, float)):\n",
    "            return Point(self.x * other, self.y * other)\n",
    "        return Point(self.x * other.x, self.y * other.y)\n",
    "    \n",
    "    def __rmul__(self, other):\n",
    "        return self.__mul__(other)\n",
    "    \n",
    "    def __imul__(self, other):\n",
    "        return self.__mul__(other)\n",
    "    \n",
    "p1 = Point(0, 0)\n",
    "p2 = Point(1, 3)\n",
    "p3 = Point(-2, -4)\n",
    "\n",
    "p2 * p3"
   ]
  },
  {
   "cell_type": "markdown",
   "id": "binding-press",
   "metadata": {},
   "source": [
    "## Dividing"
   ]
  },
  {
   "cell_type": "markdown",
   "id": "environmental-cattle",
   "metadata": {},
   "source": [
    "- `divmod(5, 4)` returns a tuple with the `div` and the `modulus`"
   ]
  },
  {
   "cell_type": "code",
   "execution_count": 40,
   "id": "abstract-anderson",
   "metadata": {},
   "outputs": [
    {
     "name": "stdout",
     "output_type": "stream",
     "text": [
      "<Point (x=-0.5, y=-0.75)>\n",
      "<Point (x=-1, y=-1)>\n"
     ]
    }
   ],
   "source": [
    "class Point:\n",
    "    def __init__(self, x, y):\n",
    "        self.x = x\n",
    "        self.y = y\n",
    "        \n",
    "    def __repr__(self):\n",
    "        return f\"<Point (x={self.x}, y={self.y})>\"\n",
    "    \n",
    "    def __truediv__(self, other):\n",
    "        if isinstance(other, (int, float)):\n",
    "            return Point(self.x / other, self.y / other)\n",
    "        return Point(self.x / other.x, self.y / other.y)\n",
    "    \n",
    "    def __rtruediv__(self, other):\n",
    "        return self.__truediv__(other)\n",
    "    \n",
    "    def __itruedive__(self, other):\n",
    "        return self.__truediv__(other)\n",
    "    \n",
    "    def __floordiv__(self, other):\n",
    "        if isinstance(other, (int, float)):\n",
    "            return Point(self.x // other , self.y // other)\n",
    "        return Point(self.x // other.x, self.y // other.y)\n",
    "    \n",
    "    def __rfloordiv__(self, other):\n",
    "        return self.__floordiv__(other)\n",
    "    \n",
    "    def __ifloordiv__(self, other):\n",
    "        return self.__floordiv__(other)\n",
    "    \n",
    "    \n",
    "p1 = Point(0, 0)\n",
    "p2 = Point(1, 3)\n",
    "p3 = Point(-2, -4)    \n",
    "\n",
    "print(p2 / p3)\n",
    "p2 //= p3\n",
    "print(p2)"
   ]
  },
  {
   "cell_type": "markdown",
   "id": "african-knight",
   "metadata": {},
   "source": [
    "## Modulo and Powers"
   ]
  },
  {
   "cell_type": "markdown",
   "id": "floating-collect",
   "metadata": {},
   "source": [
    "- mod is used defined for number and string formatting"
   ]
  },
  {
   "cell_type": "code",
   "execution_count": 6,
   "id": "under-pendant",
   "metadata": {},
   "outputs": [
    {
     "data": {
      "text/plain": [
       "<Point (x=-1, y=-1)>"
      ]
     },
     "execution_count": 6,
     "metadata": {},
     "output_type": "execute_result"
    }
   ],
   "source": [
    "class Point:\n",
    "    def __init__(self, x, y):\n",
    "        self.x = x\n",
    "        self.y = y\n",
    "        \n",
    "    def __repr__(self):\n",
    "        return f\"<Point (x={self.x}, y={self.y})>\"\n",
    "    \n",
    "    def __mod__(self, other):\n",
    "        return Point(self.x % other.x, self.y % other.y)\n",
    "    \n",
    "    def __rmod__(self, other):\n",
    "        print('rmod')\n",
    "    \n",
    "    # mutate object iself or mutate something and then return that\n",
    "    def __imod__(self, other):\n",
    "        self.x %= other.x\n",
    "        self.y %= other.y\n",
    "        return self\n",
    "    \n",
    "    def __pow__(self, other):\n",
    "        return Point(self.x ** other.x, self.y ** other.y)\n",
    "    \n",
    "    def __rpow__(self, other):\n",
    "        return other ** self.x\n",
    "    \n",
    "    def __ipow__(self):\n",
    "        self.x **= other.x\n",
    "        self.y **= other.y\n",
    "        return self\n",
    "    \n",
    "p1 = Point(0, 0)\n",
    "p2 = Point(1, 3)\n",
    "p3 = Point(-2, -4)\n",
    "\n",
    "p2 % p3"
   ]
  },
  {
   "cell_type": "markdown",
   "id": "raised-indian",
   "metadata": {},
   "source": [
    "## Bit Shifting Operations"
   ]
  },
  {
   "cell_type": "code",
   "execution_count": 15,
   "id": "hazardous-sentence",
   "metadata": {},
   "outputs": [
    {
     "data": {
      "text/plain": [
       "<Binary number=1 binnumber=0b1>"
      ]
     },
     "execution_count": 15,
     "metadata": {},
     "output_type": "execute_result"
    }
   ],
   "source": [
    "class Binary:\n",
    "    def __init__(self, number):\n",
    "        self.number = number\n",
    "        self._binnumber = bin(number)\n",
    "        \n",
    "    def __repr__(self):\n",
    "        return f'<Binary number={self.number} binnumber={self._binnumber}>'\n",
    "    \n",
    "    def __lshift__(self, other):\n",
    "        return Binary(self.number << other.number)\n",
    "\n",
    "    def __rshift__(self, other):\n",
    "        return Binary(self.number >> other.number)\n",
    "    \n",
    "    def __rlshift__(self, other):\n",
    "        return Binary(self .number << other.number)\n",
    "    \n",
    "    def __rrshift__(self, other):\n",
    "        if isinstance(other, int):\n",
    "            return Binary(self.number >> other)\n",
    "        return Binary(self.number >> other.number)\n",
    "    \n",
    "    def __irshift__(self, other):\n",
    "        self.number >>= other.number\n",
    "        self._binnumber = bin(self.number)\n",
    "        return self\n",
    "    \n",
    "    def __ilshift__(self, other):\n",
    "        self.number <<= other.number\n",
    "        self._binnumber = bin(self.number)\n",
    "        return self\n",
    "    \n",
    "    \n",
    "b1 = Binary(2)\n",
    "b2 = Binary(32)\n",
    "        \n",
    "b1 << b2\n",
    "\n",
    "1 >> b1"
   ]
  },
  {
   "cell_type": "markdown",
   "id": "threaded-chain",
   "metadata": {},
   "source": [
    "## Bitwise Logical Operations"
   ]
  },
  {
   "cell_type": "markdown",
   "id": "assured-perfume",
   "metadata": {},
   "source": [
    "- you can use bitwise operators to get bitwise `or-ing`/`and-ing`\n",
    "- `bin(5 & 7)`"
   ]
  },
  {
   "cell_type": "code",
   "execution_count": 19,
   "id": "nominated-pressing",
   "metadata": {},
   "outputs": [
    {
     "data": {
      "text/plain": [
       "<Binary number=5 binnumber=0b101>"
      ]
     },
     "execution_count": 19,
     "metadata": {},
     "output_type": "execute_result"
    }
   ],
   "source": [
    "class Binary:\n",
    "    def __init__(self, number):\n",
    "        self.number = number\n",
    "        self._binnumber = bin(number)\n",
    "        \n",
    "    def __repr__(self):\n",
    "        return f'<Binary number={self.number} binnumber={self._binnumber}>'\n",
    "    \n",
    "    def __and__(self, other):\n",
    "        return Binary(self.number & other.number)\n",
    "    \n",
    "    def __or__(self, other):\n",
    "        return Binary(self.number | other.number)\n",
    "    \n",
    "    def __xor__(self, other):\n",
    "        return Binary(self.number ^ other.number)\n",
    "    \n",
    "    def __rand__(self, other):\n",
    "        if isinstance(other, int):\n",
    "            return Binary(self.number & other)\n",
    "        return Binary(self.number & other.number)\n",
    "    \n",
    "    def __ror__(self, other):\n",
    "        if isinstance(other, int):\n",
    "            return Binary(self.number | other)\n",
    "        return Binary(self.number | other.number)\n",
    "    \n",
    "    def __rxor__(self, other):\n",
    "        if isinstance(other, int):\n",
    "            return Binary(self.number ^ other)\n",
    "        return Binary(self.number ^ other.number)\n",
    "    \n",
    "    def __iand__(self, other):\n",
    "        temp = self.__and__(other)\n",
    "        self.number = temp.number\n",
    "        self._binnumber = temp._binnumber\n",
    "        return self\n",
    "    \n",
    "    def __ior__(self, other):\n",
    "        temp = self.__or__(other)\n",
    "        self.number = temp.number\n",
    "        self._binnumber = temp._binnumber\n",
    "        return self\n",
    "    \n",
    "    def __ixor__(self, other):\n",
    "        temp = self.__xor__(other)\n",
    "        self.number = temp.number\n",
    "        self._binnumber = temp._binnumber\n",
    "        return self\n",
    "\n",
    "b1 = Binary(5)\n",
    "b2 = Binary(7)\n",
    "\n",
    "b1 & b2\n",
    "        "
   ]
  },
  {
   "cell_type": "markdown",
   "id": "resident-trunk",
   "metadata": {},
   "source": [
    "## Negative and Postive"
   ]
  },
  {
   "cell_type": "markdown",
   "id": "operational-experiment",
   "metadata": {},
   "source": [
    "- we are going to be trying to deal with things like these `--1`/`+4`/`+-1`\n",
    "- we can do `fraction` addition or subtractions"
   ]
  },
  {
   "cell_type": "code",
   "execution_count": 25,
   "id": "available-webcam",
   "metadata": {},
   "outputs": [
    {
     "name": "stdout",
     "output_type": "stream",
     "text": [
      "x\n",
      "1/4\n",
      "\n",
      "+x\n",
      "1/4\n",
      "\n",
      "-x\n",
      "-1/4\n"
     ]
    }
   ],
   "source": [
    "from fractions import Fraction\n",
    "\n",
    "x = Fraction(1, 4)\n",
    "x.numerator\n",
    "\n",
    "print('x')\n",
    "print(x)\n",
    "print(\"\")\n",
    "print(\"+x\")\n",
    "print(+x)\n",
    "print(\"\")\n",
    "print(\"-x\")\n",
    "print(-x)\n"
   ]
  },
  {
   "cell_type": "code",
   "execution_count": 30,
   "id": "known-programmer",
   "metadata": {},
   "outputs": [
    {
     "data": {
      "text/plain": [
       "1.234"
      ]
     },
     "execution_count": 30,
     "metadata": {},
     "output_type": "execute_result"
    }
   ],
   "source": [
    "from datetime import datetime\n",
    "\n",
    "class Date(datetime):\n",
    "    def __pos__(self):\n",
    "        return self.timestamp()\n",
    "    \n",
    "    def __neg__(self):\n",
    "        return -self.timestamp()\n",
    "    \n",
    "\n",
    "class JString(str):\n",
    "    def __pos__(self):\n",
    "        return float(self)\n",
    "\n",
    "class Point:\n",
    "    def __init__(self, x, y):\n",
    "        self.x = x\n",
    "        self.y = y\n",
    "        \n",
    "    def __repr__(self):\n",
    "        return f\"<Point (x={self.x}, y={self.y})>\"\n",
    "    \n",
    "    def __pos__(self):\n",
    "        return self\n",
    "    \n",
    "    def __neg__(self):\n",
    "        return Point(-self.x, -self.y)\n",
    "    \n",
    "dt = Date.now()\n",
    "\n",
    "+dt\n",
    "-dt\n",
    "\n",
    "js = JString('1.234')\n",
    "+js"
   ]
  },
  {
   "cell_type": "markdown",
   "id": "centered-climb",
   "metadata": {},
   "source": [
    "## Absolute Values and Inverse"
   ]
  },
  {
   "cell_type": "markdown",
   "id": "rocky-rover",
   "metadata": {},
   "source": [
    "- `~` is also called inverse\n",
    "- used in loops to acces other end\n",
    "- `~` means bounce to the other side -1\n",
    "- whats happening is its taking binary and then flips it"
   ]
  },
  {
   "cell_type": "code",
   "execution_count": 45,
   "id": "expected-youth",
   "metadata": {},
   "outputs": [
    {
     "data": {
      "text/plain": [
       "<Fraction (2/2)"
      ]
     },
     "execution_count": 45,
     "metadata": {},
     "output_type": "execute_result"
    }
   ],
   "source": [
    "class Fraction:\n",
    "    def __init__(self, num, denom):\n",
    "        self.num = num\n",
    "        self.denom = denom\n",
    "        \n",
    "    def __repr__(self):\n",
    "        return f'<Fraction ({self.num}/{self.denom})'\n",
    "\n",
    "    def __mul__(self, other):\n",
    "        return Fraction(self.num * other.num, self.denom * other.denom)\n",
    "    \n",
    "    def __invert__(self):\n",
    "        return Fraction(self.denom, self.num)\n",
    "        \n",
    "    \n",
    "class Point:\n",
    "    def __init__(self, x, y):\n",
    "        self.x = x\n",
    "        self.y = y\n",
    "        \n",
    "    def __repr__(self):\n",
    "        return f\"<Point (x={self.x}, y={self.y})>\"\n",
    "    \n",
    "    # you can use this to return a number an not just point object\n",
    "    def __abs__(self):\n",
    "        return Point(abs(self.x), abs(self.y))\n",
    "    \n",
    "    def __invert__(self):\n",
    "        return Point(self.y, self.x)\n",
    "    \n",
    "p1 = Point(1, 2)\n",
    "p2 = Point(3, 2)\n",
    "p3 = Point(-5, -4)\n",
    "\n",
    "abs(p1)\n",
    "~p1\n",
    "\n",
    "f = Fraction(1, 2)\n",
    "~f\n",
    "f * ~f"
   ]
  },
  {
   "cell_type": "markdown",
   "id": "duplicate-onion",
   "metadata": {},
   "source": [
    "## Integers and Floats"
   ]
  },
  {
   "cell_type": "markdown",
   "id": "architectural-steps",
   "metadata": {},
   "source": [
    "- integers are whole numbers\n",
    "- floats are anything with decimals\n",
    "- what if you want an interger representation of a string"
   ]
  },
  {
   "cell_type": "code",
   "execution_count": 2,
   "id": "legislative-cornell",
   "metadata": {},
   "outputs": [
    {
     "name": "stdout",
     "output_type": "stream",
     "text": [
      "1.23\n",
      "1\n"
     ]
    }
   ],
   "source": [
    "s = '1.23'\n",
    "print(float(s))\n",
    "\n",
    "f = 1.23\n",
    "print(int(f))\n"
   ]
  },
  {
   "cell_type": "code",
   "execution_count": 9,
   "id": "authentic-solid",
   "metadata": {},
   "outputs": [
    {
     "data": {
      "text/plain": [
       "10.5"
      ]
     },
     "execution_count": 9,
     "metadata": {},
     "output_type": "execute_result"
    }
   ],
   "source": [
    "class Point:\n",
    "    def __init__(self, x, y):\n",
    "        self.x = x\n",
    "        self.y = y\n",
    "        \n",
    "    def __repr__(self):\n",
    "        return f\"<Point (x={self.x}, y={self.y})>\"\n",
    "    \n",
    "    def __int__(self):\n",
    "        distance = (self.x **2 + self.y **2) ** 0.5\n",
    "        return int(distance)\n",
    "    \n",
    "    def __float__(self):\n",
    "        distance = (self.x **2 + self.y **2) ** 0.5\n",
    "        return float(distance)\n",
    "    \n",
    "\n",
    "# Bad do not do\n",
    "class Bacteria:\n",
    "    def __init__(self, size, color):\n",
    "        self.size = size\n",
    "        self.color = color\n",
    "        \n",
    "    def __float__(self):\n",
    "        return float(self.size)\n",
    "\n",
    "p1 = Point(3, 5)\n",
    "int(p1)\n",
    "float(p1)\n",
    "\n",
    "bacteria = Bacteria(10.5, \"red\")\n",
    "float(bacteria)"
   ]
  },
  {
   "cell_type": "markdown",
   "id": "micro-status",
   "metadata": {},
   "source": [
    "## Rounding"
   ]
  },
  {
   "cell_type": "markdown",
   "id": "similar-tennessee",
   "metadata": {},
   "source": [
    "- be careful about rounding when you have whole numbers verus when you have decimals\n",
    "- so `3.5` rounding is different than `3.15`\n",
    "- round can take negative numbers and it basically goes and rounds to the right"
   ]
  },
  {
   "cell_type": "code",
   "execution_count": 15,
   "id": "bacterial-railway",
   "metadata": {},
   "outputs": [
    {
     "name": "stdout",
     "output_type": "stream",
     "text": [
      "round(i)\n",
      "3\n",
      "\n",
      "round(f, 2)\n",
      "3.21\n"
     ]
    }
   ],
   "source": [
    "i = 3\n",
    "f = 3.214\n",
    "\n",
    "print('round(i)')\n",
    "print(round(i))\n",
    "print(\"\")\n",
    "print('round(f, 2)')\n",
    "print(round(f, 2))"
   ]
  },
  {
   "cell_type": "code",
   "execution_count": 14,
   "id": "governmental-switch",
   "metadata": {},
   "outputs": [
    {
     "name": "stdout",
     "output_type": "stream",
     "text": [
      "6.0\n"
     ]
    }
   ],
   "source": [
    "class Point:\n",
    "    def __init__(self, x, y):\n",
    "        self.x = x\n",
    "        self.y = y\n",
    "        \n",
    "    def __repr__(self):\n",
    "        return f\"<Point (x={self.x}, y={self.y})>\"\n",
    "    \n",
    "    def __round__(self, n=0):\n",
    "        distance = (self.x **2 + self.y **2) ** 0.5\n",
    "        return round(distance, n)\n",
    "        \n",
    "p1 = Point(3, 5)\n",
    "print(round(p1))"
   ]
  },
  {
   "cell_type": "markdown",
   "id": "statewide-submission",
   "metadata": {},
   "source": [
    "## Floor and Ceiling"
   ]
  },
  {
   "cell_type": "markdown",
   "id": "otherwise-bumper",
   "metadata": {},
   "source": [
    "- celing gives us the next highest number\n",
    "- floor gives us the next lowest number\n",
    "- basically celing is rounding up and floor is rounding down\n",
    "- `truncate` gives us the whole number\n",
    "- floor and truncate closely related but behave a bit differently depending on situation"
   ]
  },
  {
   "cell_type": "markdown",
   "id": "bearing-aquarium",
   "metadata": {},
   "source": [
    "- if you define `float`, you can get `floor` and `ceil` for free"
   ]
  },
  {
   "cell_type": "code",
   "execution_count": 25,
   "id": "advance-listing",
   "metadata": {},
   "outputs": [
    {
     "name": "stdout",
     "output_type": "stream",
     "text": [
      "floor(p)\n",
      "6\n",
      "\n",
      "ceil(p)\n",
      "7\n",
      "\n",
      "trunc(p)\n",
      "<Point (x=3, y=2)>\n"
     ]
    }
   ],
   "source": [
    "from math import floor, ceil, trunc\n",
    "\n",
    "class Point:\n",
    "    def __init__(self, x, y):\n",
    "        self.x = x\n",
    "        self.y = y\n",
    "        \n",
    "    def __repr__(self):\n",
    "        return f\"<Point (x={self.x}, y={self.y})>\"\n",
    "\n",
    "\n",
    "    def __floor__(self):\n",
    "        s = self.x + self.y\n",
    "        return floor(s)\n",
    "    \n",
    "    def __ceil__(self):\n",
    "        s = self.x + self.y\n",
    "        return ceil(s)\n",
    "    \n",
    "    def __trunc__(self):\n",
    "        return Point(trunc(self.x), trunc(self.y))\n",
    "    \n",
    "    \n",
    "p = Point(3.6, 2.7)\n",
    "print('floor(p)')\n",
    "print(floor(p))\n",
    "print(\"\")\n",
    "print('ceil(p)')\n",
    "print(ceil(p))\n",
    "print(\"\")\n",
    "print(\"trunc(p)\")\n",
    "print(trunc(p))"
   ]
  },
  {
   "cell_type": "markdown",
   "id": "packed-carrier",
   "metadata": {},
   "source": []
  },
  {
   "cell_type": "markdown",
   "id": "union-kitty",
   "metadata": {},
   "source": []
  },
  {
   "cell_type": "markdown",
   "id": "dressed-latest",
   "metadata": {},
   "source": [
    "## Indexing"
   ]
  },
  {
   "cell_type": "markdown",
   "id": "iraqi-collar",
   "metadata": {},
   "source": [
    "- we can use a custom object with indexing\n",
    "- it woul dbe intersting if we could index chars: `letters[\n",
    "'a':'c']`\n",
    "- `__index__` has to return an index\n",
    "- documentation says that you need to define `int` along with index"
   ]
  },
  {
   "cell_type": "code",
   "execution_count": 28,
   "id": "standing-indianapolis",
   "metadata": {},
   "outputs": [
    {
     "data": {
      "text/plain": [
       "'A'"
      ]
     },
     "execution_count": 28,
     "metadata": {},
     "output_type": "execute_result"
    }
   ],
   "source": [
    "class Character:\n",
    "    \n",
    "    first = 'A'\n",
    "    \n",
    "    def __init__(self, char):\n",
    "        self.char = char\n",
    "        \n",
    "    def __repr__(self):\n",
    "        return f'<Character (\"{self.char}\")>'\n",
    "    \n",
    "    def __index__(self):\n",
    "        return ord(self.char) - ord(self.__class__.first)\n",
    "\n",
    "    def __int__(self):\n",
    "        return ord(self.char) - ord(self.__class__.first)\n",
    "    \n",
    "a = Character('A')\n",
    "b = Character('B')\n",
    "p = Character('P')\n",
    "\n",
    "letters = 'ABCDEFGHIJKLMNOPQRSTUVWXYZ'\n",
    "\n",
    "\n",
    "letters[a]"
   ]
  },
  {
   "cell_type": "markdown",
   "id": "convertible-nigeria",
   "metadata": {},
   "source": [
    "## Complex Numbers"
   ]
  },
  {
   "cell_type": "markdown",
   "id": "advised-nitrogen",
   "metadata": {},
   "source": [
    "- `complex` is a class\n",
    "- `complex(1)` gives us `(1+0j)"
   ]
  },
  {
   "cell_type": "code",
   "execution_count": 29,
   "id": "dirty-semiconductor",
   "metadata": {},
   "outputs": [
    {
     "name": "stdout",
     "output_type": "stream",
     "text": [
      "<class 'complex'>\n",
      "\n",
      "complex(1)\n",
      "(1+0j)\n",
      "\n",
      "complex(1, 1)\n",
      "(1+1j)\n",
      "\n",
      "complex(1) + complex(2, 3)\n",
      "(3+3j)\n"
     ]
    }
   ],
   "source": [
    "print(complex)\n",
    "print('')\n",
    "print('complex(1)')\n",
    "print(complex(1))\n",
    "print('')\n",
    "print('complex(1, 1)')\n",
    "print(complex(1, 1))\n",
    "print('')\n",
    "print('complex(1) + complex(2, 3)')\n",
    "print(complex(1) + complex(2, 3))"
   ]
  },
  {
   "cell_type": "code",
   "execution_count": 41,
   "id": "wired-blend",
   "metadata": {},
   "outputs": [
    {
     "name": "stdout",
     "output_type": "stream",
     "text": [
      "complex(v)\n",
      "(120-5.1740965224206694e-12j)\n",
      "\n",
      "[(120+0j),\n",
      " (120-3.526982781544377e-13j),\n",
      " (120-7.053965563088754e-13j),\n",
      " (120-4.468699966111794e-12j),\n",
      " (120-1.4107931126177507e-12j)]\n"
     ]
    }
   ],
   "source": [
    "from pprint import pprint\n",
    "from math import pi, cos, sin\n",
    "\n",
    "\n",
    "class Vector2D:\n",
    "    def __init__(self, x, y):\n",
    "        self.x = x\n",
    "        self.y = y\n",
    "        \n",
    "    def __complex__(self):\n",
    "        return complex(self.x, self.y)\n",
    "    \n",
    "    \n",
    "class Voltage:\n",
    "    def __init__(self, base_voltage, frequency):\n",
    "        self.base_voltage = base_voltage\n",
    "        self.afrequency = 2 * pi * frequency\n",
    "    \n",
    "    def __complex__(self):\n",
    "        \n",
    "        # assumption is time = 1\n",
    "        real = cos(self.afrequency) * self.base_voltage\n",
    "        imag = sin(self.afrequency) * self.base_voltage\n",
    "        return complex(real, imag)\n",
    "    \n",
    "    def at(self, t=0):\n",
    "        real = cos(self.afrequency * t) * self.base_voltage\n",
    "        imag = sin(self.afrequency * t) * self.base_voltage\n",
    "        return complex(real, imag)\n",
    "        \n",
    "        \n",
    "v = Voltage(120, 60)\n",
    "print('complex(v)')\n",
    "print(complex(v))\n",
    "print('')\n",
    "seconds = [s/len(seconds) for s in seconds]\n",
    "results = [v.at(s) for s in seconds]\n",
    "pprint(results)"
   ]
  }
 ],
 "metadata": {
  "kernelspec": {
   "display_name": "Python 3",
   "language": "python",
   "name": "python3"
  },
  "language_info": {
   "codemirror_mode": {
    "name": "ipython",
    "version": 3
   },
   "file_extension": ".py",
   "mimetype": "text/x-python",
   "name": "python",
   "nbconvert_exporter": "python",
   "pygments_lexer": "ipython3",
   "version": "3.9.2"
  }
 },
 "nbformat": 4,
 "nbformat_minor": 5
}
