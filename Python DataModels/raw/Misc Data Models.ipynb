{
 "cells": [
  {
   "cell_type": "markdown",
   "id": "burning-arlington",
   "metadata": {},
   "source": [
    "## Making An Object Callable"
   ]
  },
  {
   "cell_type": "markdown",
   "id": "resident-arbor",
   "metadata": {},
   "source": [
    "- we can actually create an object that behaves like a function\n",
    "- we can call it like a function and it does function stuff"
   ]
  },
  {
   "cell_type": "code",
   "execution_count": null,
   "id": "front-result",
   "metadata": {},
   "outputs": [],
   "source": [
    "from concurrent.futures import ProcessPoolExecutor \n",
    "\n",
    "class Adder:\n",
    "    def __init__(self, add_number):\n",
    "            self.number = add_number\n",
    "     \n",
    "    def __call__(self, value):\n",
    "        return self.number + value\n",
    "\n",
    "add_one = Adder(1)\n",
    "add_three = Adder(3)\n",
    "\n",
    "numbers = [1, 2, 3, 4, 5]\n",
    "with ProcessPoolExecutor() as e:\n",
    "    results = e.map(add_one, numbers)\n",
    "    print(list(results))"
   ]
  },
  {
   "cell_type": "markdown",
   "id": "practical-bachelor",
   "metadata": {},
   "source": [
    "## Clean Up With Context Managers"
   ]
  },
  {
   "cell_type": "markdown",
   "id": "sitting-economics",
   "metadata": {},
   "source": [
    "- make sure a process starts and stop a proceess\n",
    "- basically a setup and a cleanup"
   ]
  },
  {
   "cell_type": "markdown",
   "id": "valued-improvement",
   "metadata": {},
   "source": [
    "    with open('data.txt') as f:\n",
    "        data = f.readline()\n",
    "        print(data)\n",
    "        print(f.closed)"
   ]
  },
  {
   "cell_type": "code",
   "execution_count": 24,
   "id": "running-tuesday",
   "metadata": {},
   "outputs": [
    {
     "name": "stdout",
     "output_type": "stream",
     "text": [
      "bacteria has moved 20 micrometer\n",
      "bacteria has moved 450 degrees\n"
     ]
    }
   ],
   "source": [
    "class Bacteria:\n",
    "    def __init__(self):\n",
    "        self.moving = False\n",
    "        self.speed = 0\n",
    "        self.direction = 90\n",
    "    \n",
    "    def move(self, amt):\n",
    "        if self.moving:\n",
    "            self.speed += amt\n",
    "            \n",
    "    def _turn(self, amt):\n",
    "        if self.moving:\n",
    "            self.direction += amt\n",
    "            \n",
    "    def turn_right(self):\n",
    "        self._turn(90)\n",
    "        \n",
    "    def turn_around(self):\n",
    "        self._turn(180)\n",
    "        \n",
    "    \n",
    "    def __enter__(self):\n",
    "        self.moving = True\n",
    "        return self\n",
    "    \n",
    "    def __exit__(self, *args, **kwargs):\n",
    "        self.moving = False\n",
    "        print(f'bacteria has moved {self.speed} micrometer')\n",
    "        print(f'bacteria has moved {self.direction} degrees')\n",
    "            \n",
    "        \n",
    "with Bacteria() as bacteria:\n",
    "    bacteria.move(10)\n",
    "    bacteria.turn_around()\n",
    "    bacteria.move(10)\n",
    "    bacteria.turn_around()\n",
    "    "
   ]
  },
  {
   "cell_type": "markdown",
   "id": "numerous-christian",
   "metadata": {},
   "source": [
    "## Copying Objects"
   ]
  },
  {
   "cell_type": "markdown",
   "id": "equipped-cotton",
   "metadata": {},
   "source": [
    "- copy objects in memory\n",
    "- sometimes you might just end up changing refrences or pointers\n",
    "- a deep copy is basically just a completely new object\n",
    "- `copy` module works when you a simple data structure but a more compelx data structure is alot harder"
   ]
  },
  {
   "cell_type": "code",
   "execution_count": 26,
   "id": "essential-frequency",
   "metadata": {},
   "outputs": [],
   "source": [
    "from copy import copy\n",
    "from copy import deepcopy\n",
    "\n",
    "a = [1, 2, 3, 4]\n",
    "b = copy(a)\n",
    "a[0] = 10\n",
    "\n",
    "c = deepcopy(a)"
   ]
  },
  {
   "cell_type": "code",
   "execution_count": 40,
   "id": "english-intensity",
   "metadata": {},
   "outputs": [
    {
     "data": {
      "text/plain": [
       "'Red'"
      ]
     },
     "execution_count": 40,
     "metadata": {},
     "output_type": "execute_result"
    }
   ],
   "source": [
    "from copy import copy\n",
    "from copy import deepcopy\n",
    "\n",
    "class Bacteria:\n",
    "    def __init__(self, size, behavior):\n",
    "        self.size = size\n",
    "        self.behavior = behavior\n",
    "        \n",
    "    def __repr__(self):\n",
    "        return f'<Bacteria size={self.size}>'\n",
    "    \n",
    "    def __copy__(self, *args, **kwargs):\n",
    "        daughter = Bacteria(self.size, self.behavior)\n",
    "        daughter.color = 'Red'\n",
    "        return daughter\n",
    "    \n",
    "    def __deepcopy__(self, *args, **kwargs):\n",
    "        print(args)\n",
    "        print(kwargs)\n",
    "        daughter = Bacteria(self.size, deepcopy(self.behavior))\n",
    "        daughter.color = 'Red'\n",
    "\n",
    "bacteria = Bacteria(5, 'mellow')\n",
    "\n",
    "daughter = copy(bacteria)\n",
    "daughter\n",
    "daughter.color"
   ]
  },
  {
   "cell_type": "markdown",
   "id": "normal-hebrew",
   "metadata": {},
   "source": [
    "## Pickling Get and Set State"
   ]
  },
  {
   "cell_type": "markdown",
   "id": "following-backup",
   "metadata": {},
   "source": [
    "- if we want the information that represents an object at this moment and seralize to `binary` it so that we can store it or transmit it somewhere\n",
    "- seralizing is a way of taking a complex object and putting it in a format that has a vert particular structure\n",
    "- we can then `unsearlize` and put it back together\n",
    "- `!!! never unpickle from the internet`"
   ]
  },
  {
   "cell_type": "markdown",
   "id": "atlantic-library",
   "metadata": {},
   "source": [
    "- there are times i want to pickle an object but add or remove things from it before storing it\n",
    "- dumpying and loading with pickle returns two different things\n",
    "- you can save data in a file to pickle it for yourself"
   ]
  },
  {
   "cell_type": "code",
   "execution_count": 60,
   "id": "tight-joyce",
   "metadata": {},
   "outputs": [
    {
     "name": "stdout",
     "output_type": "stream",
     "text": [
      "{'size': 5, 'color': 'Blue', 'parent': ['..', '..', '..']}\n",
      "{'size': 5, 'color': 'Blue', 'parent': ['..', '..', '..'], 'save_data': datetime.datetime(2021, 3, 13, 14, 20, 46, 23112)}\n",
      "{'size': 5, 'color': 'Blue', 'parent': ['..', '..', '..'], 'save_data': datetime.datetime(2021, 3, 13, 14, 20, 46, 23112)}\n",
      "{'size': 5, 'color': 'Blue', 'parent': ['..', '..', '..'], 'save_data': datetime.datetime(2021, 3, 13, 14, 20, 46, 23112)}\n"
     ]
    },
    {
     "data": {
      "text/plain": [
       "b'\\x80\\x04\\x95\\x84\\x00\\x00\\x00\\x00\\x00\\x00\\x00\\x8c\\x08__main__\\x94\\x8c\\x08Bacteria\\x94\\x93\\x94)\\x81\\x94}\\x94(\\x8c\\x04size\\x94K\\x05\\x8c\\x05color\\x94\\x8c\\x04Blue\\x94\\x8c\\x06parent\\x94]\\x94(\\x8c\\x02..\\x94h\\nh\\ne\\x8c\\tsave_data\\x94\\x8c\\x08datetime\\x94\\x8c\\x08datetime\\x94\\x93\\x94C\\n\\x07\\xe5\\x03\\r\\x0e\\x14.\\x00ZH\\x94\\x85\\x94R\\x94ub.'"
      ]
     },
     "execution_count": 60,
     "metadata": {},
     "output_type": "execute_result"
    }
   ],
   "source": [
    "import pickle\n",
    "from datetime import datetime\n",
    "\n",
    "class Bacteria:\n",
    "    def __init__(self, size, color, parent):\n",
    "        self.size = size\n",
    "        self.color = color\n",
    "        self.parent = parent\n",
    "        \n",
    "    def __repr__(self):\n",
    "        return f'<Bacteria name={self.name} title={self.title} parent={self.parent}>'\n",
    "    \n",
    "    \n",
    "    def __getstate__(self, *args, **kwargs):\n",
    "        state = self.__dict__\n",
    "        print(state)\n",
    "        #del state['parent']\n",
    "        state['save_data'] = datetime.now()\n",
    "        print(state)\n",
    "        return state\n",
    "        \n",
    "    \n",
    "    def __setstate__(self, state):\n",
    "        self.parent = []\n",
    "        for piece in state:\n",
    "            print(f'setting the {piece} piece to {state[piece]}')\n",
    "            setattr(self, piece, state[piece])\n",
    "    \n",
    "    \n",
    "bacteria = Bacteria(5, 'Blue', ['..', '..', '..'])\n",
    "\n",
    "\n",
    "pickle.dumps(bacteria)\n",
    "\n",
    "d = pickle.dumps(bacteria)\n",
    "d"
   ]
  }
 ],
 "metadata": {
  "kernelspec": {
   "display_name": "Python 3",
   "language": "python",
   "name": "python3"
  },
  "language_info": {
   "codemirror_mode": {
    "name": "ipython",
    "version": 3
   },
   "file_extension": ".py",
   "mimetype": "text/x-python",
   "name": "python",
   "nbconvert_exporter": "python",
   "pygments_lexer": "ipython3",
   "version": "3.9.2"
  }
 },
 "nbformat": 4,
 "nbformat_minor": 5
}
