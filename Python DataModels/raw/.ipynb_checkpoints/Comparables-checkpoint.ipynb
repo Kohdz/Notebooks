{
 "cells": [
  {
   "cell_type": "markdown",
   "id": "reserved-lindsay",
   "metadata": {},
   "source": [
    "## Obtaining the Boolean Representation"
   ]
  },
  {
   "cell_type": "code",
   "execution_count": 6,
   "id": "abandoned-berlin",
   "metadata": {},
   "outputs": [
    {
     "name": "stdout",
     "output_type": "stream",
     "text": [
      "<Point(x=0, y=0)>\n",
      "<Point(x=1, y=3)>\n",
      "\n",
      "bool(p1)\n",
      "False\n",
      "bool(p2)\n",
      "True\n"
     ]
    }
   ],
   "source": [
    "class Point:\n",
    "    def __init__(self, x, y):\n",
    "        self.x = x\n",
    "        self.y = y\n",
    "        \n",
    "    def __repr__(self):\n",
    "        return f'<Point(x={self.x}, y={self.y})>'\n",
    "    \n",
    "    def __bool__(self):\n",
    "        return bool(self.y / self.y) if self.x != 0 else bool(self.y / (self.x + 1))\n",
    "    \n",
    "p1 = Point(0, 0)\n",
    "p2 = Point(1, 3)\n",
    "\n",
    "print(p1)\n",
    "print(p2)\n",
    "print(\"\")\n",
    "print(\"bool(p1)\")\n",
    "print(bool(p1))\n",
    "print(\"bool(p2)\")\n",
    "print(bool(p2))"
   ]
  },
  {
   "cell_type": "markdown",
   "id": "institutional-metallic",
   "metadata": {},
   "source": [
    "## Equality/Inequality and Greater/Less "
   ]
  },
  {
   "cell_type": "markdown",
   "id": "cellular-equilibrium",
   "metadata": {},
   "source": [
    "- in python `eq` and `ne` are the comparison operators"
   ]
  },
  {
   "cell_type": "code",
   "execution_count": 11,
   "id": "furnished-valve",
   "metadata": {},
   "outputs": [
    {
     "data": {
      "text/plain": [
       "False"
      ]
     },
     "execution_count": 11,
     "metadata": {},
     "output_type": "execute_result"
    }
   ],
   "source": [
    "from operator import eq\n",
    "from operator import ne\n",
    "from operator import ge, lt, le, gt\n",
    "\n",
    "x = 1\n",
    "y = 2\n",
    "\n",
    "eq(x, y)"
   ]
  },
  {
   "cell_type": "markdown",
   "id": "signal-violin",
   "metadata": {},
   "source": [
    "- when comparing objects, you are comparing memory adresses"
   ]
  },
  {
   "cell_type": "code",
   "execution_count": 21,
   "id": "opening-cathedral",
   "metadata": {},
   "outputs": [
    {
     "name": "stdout",
     "output_type": "stream",
     "text": [
      "p1 == p2\n",
      "True\n",
      "\n",
      "p1 < p2\n",
      "False\n",
      "\n",
      "p1 <= p2\n",
      "True\n"
     ]
    }
   ],
   "source": [
    "class Point:\n",
    "    def __init__(self, x, y):\n",
    "        self.x = x\n",
    "        self.y = y\n",
    "        \n",
    "    def __repr__(self):\n",
    "        return f'<Point(x={self.x}, y={self.y})>'\n",
    "    \n",
    "    def __eq__(self, other):\n",
    "        return self.x == other.x and self.y == other.y\n",
    "    \n",
    "    def __ne__(self, other):\n",
    "        return not self.__eq__(other)\n",
    "        #return self.x != other.x or self.y != other.y\n",
    "        \n",
    "    def __lt__(self, other):\n",
    "        return self.x < other.x and self.y < other.y\n",
    "    \n",
    "    def __gt__(self, other):\n",
    "        return self.x > other.x and self.y > other.y\n",
    "    \n",
    "    def __le__(self, other):\n",
    "        return self.x <= other.x and self.y <= other.y\n",
    "    \n",
    "    def __ge__(self, other):\n",
    "        return self.x >= other.x and self.y >= other.y\n",
    "    \n",
    "p1 = Point(0, 0)\n",
    "p2 = Point(0, 0)\n",
    "p3 = Point(1, -4)\n",
    "\n",
    "print('p1 == p2')\n",
    "print(p1 == p2)\n",
    "print(\"\")\n",
    "print(\"p1 < p2\")\n",
    "print(p1 < p2)\n",
    "print(\"\")\n",
    "print(\"p1 <= p2\")\n",
    "print(p1 <= p2)"
   ]
  },
  {
   "cell_type": "markdown",
   "id": "sexual-speech",
   "metadata": {},
   "source": [
    "## Hashing and Slots"
   ]
  },
  {
   "cell_type": "markdown",
   "id": "initial-young",
   "metadata": {},
   "source": [
    "- dictionary keys have to be hashable inorder to have fast lookups\n",
    "- implementing `__eq__` makes `__hash__ = None`\n",
    "- meaning using `__eq__` makes you lose ability to hash \n",
    "- `__slots__` property makes it so that an object can only have properties that you initialize it with\n",
    "    - `__slots__ = ('size', 'color')`\n",
    "    - how many slots are you getting per property\n",
    "    - normally objects are dynamic because there is a backing dictionary to every object that can grow in size as it needs to \n",
    "    - slots says you get two spaces\n",
    "- you have to be careful if you use these as key in a dictionary, because they will not be garbage collected"
   ]
  },
  {
   "cell_type": "code",
   "execution_count": 26,
   "id": "preliminary-flesh",
   "metadata": {},
   "outputs": [
    {
     "name": "stdout",
     "output_type": "stream",
     "text": [
      "b1\n",
      "<__main__.Bacteria object at 0x0000015A5BFBCEC0>\n",
      "\n",
      "hash(b1)\n",
      "5611925501173293849\n",
      "\n",
      "hash(b2)\n",
      "-1871468954426514467\n"
     ]
    }
   ],
   "source": [
    "from random import randint\n",
    "\n",
    "class Bacteria:\n",
    "    \n",
    "    __slots__ = ('color', 'size', 'id')\n",
    "    \n",
    "    def __init__(self, size, color):\n",
    "        self.color = color\n",
    "        self.size = size\n",
    "        self.id = randint(0, 10000)\n",
    "    \n",
    "    def __hash__(self):\n",
    "        # removes ability to have different object with same hash\n",
    "        return hash((self.size, self.color, self.id))\n",
    "    \n",
    "    # if two things are equal, it assumes their hashes are equal\n",
    "    def __eq__(self, other):\n",
    "        return (\n",
    "            self.__class__ == other.__class__ and\n",
    "            self.size == other.size and\n",
    "            self.color == other.color and\n",
    "            self.id == other.id\n",
    "        )\n",
    "        \n",
    "b1 = Bacteria(5, 'red')\n",
    "b2 = Bacteria(10, 'blue')\n",
    "\n",
    "reviews = {}\n",
    "reviews[b1] = 'small but fast'\n",
    "reviews[b2] = 'bigh but slow'\n",
    "\n",
    "print(\"b1\")\n",
    "print(b1)\n",
    "print(\"\")\n",
    "print(\"hash(b1)\")\n",
    "print(hash(b1))\n",
    "print(\"\")\n",
    "print(\"hash(b2)\")\n",
    "print(hash(b2))"
   ]
  }
 ],
 "metadata": {
  "kernelspec": {
   "display_name": "Python 3",
   "language": "python",
   "name": "python3"
  },
  "language_info": {
   "codemirror_mode": {
    "name": "ipython",
    "version": 3
   },
   "file_extension": ".py",
   "mimetype": "text/x-python",
   "name": "python",
   "nbconvert_exporter": "python",
   "pygments_lexer": "ipython3",
   "version": "3.9.2"
  }
 },
 "nbformat": 4,
 "nbformat_minor": 5
}
