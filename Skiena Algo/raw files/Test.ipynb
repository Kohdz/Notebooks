{
 "cells": [
  {
   "cell_type": "markdown",
   "metadata": {},
   "source": [
    "<img src='images/chap5/01.png' width=700 />\n",
    "<!-- ![Loss](images/chap5/01.png) -->\n",
    "\n",
    "\n",
    "\n",
    "__Figure 1__: Modeling road networks and electronic circuits as graph"
   ]
  },
  {
   "cell_type": "markdown",
   "metadata": {},
   "source": []
  }
 ],
 "metadata": {
  "kernelspec": {
   "display_name": "Python 3",
   "language": "python",
   "name": "python3"
  }
 },
 "nbformat": 4,
 "nbformat_minor": 4
}
