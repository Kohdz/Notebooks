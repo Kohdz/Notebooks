{
 "cells": [
  {
   "cell_type": "markdown",
   "metadata": {},
   "source": [
    "# Introducition"
   ]
  },
  {
   "cell_type": "markdown",
   "metadata": {},
   "source": [
    "A graph $ G = (V, E) $ consists of a set of _vertices_ $ V $ together with a set $ E $ of vertex pairs or edges "
   ]
  },
  {
   "cell_type": "markdown",
   "metadata": {},
   "source": [
    "Graphs can be used to represent any relationships. Graph theory provides a language for talking about the properties of relationships"
   ]
  },
  {
   "cell_type": "markdown",
   "metadata": {},
   "source": [
    "<center><img src=\"images/chap5/01.png\" width=700 /></center>\n",
    "<!-- <img src='images/denoising.png' />  -->\n",
    "\n",
    "__Figure 1__: Modeling road networks and electronic circuits as graph"
   ]
  },
  {
   "cell_type": "markdown",
   "metadata": {},
   "source": [
    "# Flavors of Graphs"
   ]
  },
  {
   "cell_type": "markdown",
   "metadata": {},
   "source": [
    "## Undirected vs Directed"
   ]
  },
  {
   "cell_type": "markdown",
   "metadata": {},
   "source": [
    "A graph $ G = (V, E) $ is undirected if edge $ (x, y)  ∈ E $ implies that $ (x, y) $ is also in $ E $. If not, we say that the graph is _directed_.  "
   ]
  },
  {
   "cell_type": "markdown",
   "metadata": {},
   "source": [
    "Most graphs of graph-theoretic intrest are undirected"
   ]
  },
  {
   "cell_type": "markdown",
   "metadata": {},
   "source": [
    "## Weighted vs. Unweighted"
   ]
  },
  {
   "cell_type": "markdown",
   "metadata": {},
   "source": [
    "Each Edge (or vertex) in a weighted graph $ G $ is assigned a numerical value, or weight. The edge of a road network graph might be weighted with thieir lenght, drive-time, or speed limit, etc. In unweighted graphs, thee is no cost distinction between various edges and vertices"
   ]
  },
  {
   "cell_type": "markdown",
   "metadata": {},
   "source": [
    "## Simple vs. Non-Simple"
   ]
  },
  {
   "cell_type": "markdown",
   "metadata": {},
   "source": [
    "Certian types of edges complicate the taks of working with graphs. A _self-loop_ is an edge (x, x) involving only one vertes. An edge $ (x, y) $ is a multiedge if it occurs more than once in the graph. "
   ]
  },
  {
   "cell_type": "markdown",
   "metadata": {},
   "source": [
    "Both of the above graph require special care so any graph that avoids them is called a simple graph"
   ]
  },
  {
   "cell_type": "markdown",
   "metadata": {},
   "source": [
    "## Sparse vs. Dense"
   ]
  },
  {
   "cell_type": "markdown",
   "metadata": {},
   "source": [
    "Graphs are sparce when only a small fraction of the possible vertex pairs ($ n/2 $ for a simple, undirected graph on $ n $ vertices) actually have edges defined between them."
   ]
  },
  {
   "cell_type": "markdown",
   "metadata": {},
   "source": [
    "Graphs where a large fraction of the vertex pairs define edges are called _dense_. "
   ]
  },
  {
   "cell_type": "markdown",
   "metadata": {},
   "source": [
    "Typically dense graphs have a quadratic number of edges, while sparse graphs are linear in size"
   ]
  },
  {
   "cell_type": "markdown",
   "metadata": {},
   "source": [
    "## Cyclic vs. Acyclic"
   ]
  },
  {
   "cell_type": "markdown",
   "metadata": {},
   "source": [
    "An _acyclic_ graph does not contain any cycles. _Trees_ are connected, acyclic undirected graphs. Trees are the simplest interesting graph, and are inherently recursive structures because cutting any edge leave two smaller trees"
   ]
  },
  {
   "cell_type": "markdown",
   "metadata": {},
   "source": [
    "Directed acyclic graphs are called $ DAGs $. They arise naturalyl in scheduling problems, where a directe edge $ (x, y) $ indicates that activity $ x $ must occur before $ y $."
   ]
  },
  {
   "cell_type": "markdown",
   "metadata": {},
   "source": [
    "An operation called $ topological sorting $ orders the vertices of a $ DAG $ to respect these precedence constraints. Topological sorting is the first terp of any algorithm on a $ DAG $"
   ]
  },
  {
   "cell_type": "markdown",
   "metadata": {},
   "source": [
    "## Embedded vs. Topological"
   ]
  },
  {
   "cell_type": "markdown",
   "metadata": {},
   "source": [
    "A graph is _embedded_ if the vertices and edges are assigned geometric position. Thus, any drawing of a graph is embedding which may or may not have algorithmic significance"
   ]
  },
  {
   "cell_type": "markdown",
   "metadata": {},
   "source": [
    "For example, when given a collection of points in the plane, and seek the minimum cost tour visiting all of them (traveling salesman problem), the underlying topology is the _complete graph_ connecting each pair of vertices. The weights are typically defined by Euclidean distance between each pair of points"
   ]
  },
  {
   "cell_type": "markdown",
   "metadata": {},
   "source": [
    "Grids of points are another example of topology from geometry. Many problems on a $ n * m $ grid involve walking between neightborhood points, so the edges re implicitly defined from the geometry"
   ]
  },
  {
   "cell_type": "markdown",
   "metadata": {},
   "source": [
    "## Implicit vs Explicit"
   ]
  },
  {
   "cell_type": "markdown",
   "metadata": {},
   "source": [
    "Certain graphs are not explicitly constructed and then traversed, but built as we use them."
   ]
  },
  {
   "cell_type": "markdown",
   "metadata": {},
   "source": [
    "A good example is the backtrack search. The vertices of this implicit search graph are the state of the search vector, while edges link pairs of that can be directly generated from each other."
   ]
  },
  {
   "cell_type": "markdown",
   "metadata": {},
   "source": [
    "Because you do not have to have to store the entire graph, it is often easier to work with an implicit graph then explicitly construct it prior to analysis"
   ]
  },
  {
   "cell_type": "markdown",
   "metadata": {},
   "source": [
    "## Labled vs Unlabled"
   ]
  },
  {
   "cell_type": "markdown",
   "metadata": {},
   "source": [
    "Each vertex is assigned a unique name or identifier in a _labled_ graph to distinquish it from all other vertices. In unlabled graphs, no such distinctions have been made."
   ]
  },
  {
   "cell_type": "markdown",
   "metadata": {},
   "source": [
    "Most graph labels naturally emerge such as city names, etc. but unlabled graphs have their value. For instance, a common problem is _isomorphism testing_ , which is determining whether the topological structure of two graphs are identical if we ignore any lables. These problems are gnerally solved using backtracking, by trying to assign each vertex in each graph a label such that the structure are identical"
   ]
  },
  {
   "cell_type": "markdown",
   "metadata": {},
   "source": [
    "<center><img src=\"images/chap5/02.png\" width=700></center>"
   ]
  },
  {
   "cell_type": "markdown",
   "metadata": {},
   "source": [
    "<center><img src=\"images/chap5/03.png\" width=700></center>"
   ]
  },
  {
   "cell_type": "markdown",
   "metadata": {},
   "source": [
    "<center><img src=\"images/chap5/04.png\" width=700></center>\n",
    "\n",
    "__Figure 2__: Important properties / flavors of graphs"
   ]
  },
  {
   "cell_type": "markdown",
   "metadata": {},
   "source": [
    "<center><img src=\"images/chap5/05.png\" width=700></center>"
   ]
  },
  {
   "cell_type": "markdown",
   "metadata": {},
   "source": [
    "# Friendship Graph"
   ]
  },
  {
   "cell_type": "markdown",
   "metadata": {},
   "source": [
    "<center><img src=\"images/chap5/06.png\" width=400></center>\n",
    "\n",
    "__Figure 3__: A portion of the friendship graph"
   ]
  },
  {
   "cell_type": "markdown",
   "metadata": {},
   "source": [
    "Most graphs that one encounters in real life are sparse. The friendship graph is a good example of that"
   ]
  },
  {
   "cell_type": "markdown",
   "metadata": {},
   "source": [
    "## If i am your friend, dows that mean you are my friend?"
   ]
  },
  {
   "cell_type": "markdown",
   "metadata": {},
   "source": [
    "This question really asks whether the graph is directed. A graph is undirectt if edges $ (x, y) $ always implies $ (y, x) $. Otherwise its directed. Friendships are undirected because it take a pair to make friends"
   ]
  },
  {
   "cell_type": "markdown",
   "metadata": {},
   "source": [
    "## How close of a fried are you?"
   ]
  },
  {
   "cell_type": "markdown",
   "metadata": {},
   "source": [
    "In _weighted_ graphs, each edge has an associated numerical attribute. We could model the strenght of a friendship by associating each edge with an appropriate value, perhaps from $ -10$ (enemies) to $ 10 $ (blood brothers). The edges of a road network might be weighted with their lenghts, speed limit, etc. A graph is said to be _unweighted_ if all edges are assumed to be of equal weight"
   ]
  },
  {
   "cell_type": "markdown",
   "metadata": {},
   "source": [
    "## Am i my own friend?"
   ]
  },
  {
   "cell_type": "markdown",
   "metadata": {},
   "source": [
    "This question adresses whether the graph is simple, meaning it contains no loops or multipl edges. An edge of the form $ (x, x) $ is said to be a loop. Sometimes people are friends in several different ways. Perhaps $ x $ and $ y $ were collage classmates and now work together at the same company. We can model such relationshipd using _multiedges_ - multiple edges $ (x, y) $ perhaps distinguished by different lables. "
   ]
  },
  {
   "cell_type": "markdown",
   "metadata": {},
   "source": [
    "Since simple graphs are oftern eaiser to work with, we might be better off declaring that no one is their own friend"
   ]
  },
  {
   "cell_type": "markdown",
   "metadata": {},
   "source": [
    "## Who has the most friends"
   ]
  },
  {
   "cell_type": "markdown",
   "metadata": {},
   "source": [
    "The _degree_ of a vertex is the number of edges adjacent to it. The most popular person defines the vertex of highest degree in the friendship graph. Remote hermits are associated wit degree-zero  vertices"
   ]
  },
  {
   "cell_type": "markdown",
   "metadata": {},
   "source": [
    "In dense graphs, most vertices have high degrees, as opposed to _sparse_ graphs with relatively few edges. In a _regular graph_ , each vertex has exactly the same degree."
   ]
  },
  {
   "cell_type": "markdown",
   "metadata": {},
   "source": [
    "## Do my friends live near me?"
   ]
  },
  {
   "cell_type": "markdown",
   "metadata": {},
   "source": [
    "Social networds are not divorced from geography. Many of your friends are your friends only because they happen to live near you or uded to live near you."
   ]
  },
  {
   "cell_type": "markdown",
   "metadata": {},
   "source": [
    "Thus, a full understanding of social networks requires and _embedded graph_ where each vertex is asoociated with the point on this world where they live. The geographic information may not be explicitly encoded, but the fact that the graph is inherently embedded in the plane shapes our interpretation of any analysis"
   ]
  },
  {
   "cell_type": "markdown",
   "metadata": {},
   "source": [
    "## Oh, you also know her?"
   ]
  },
  {
   "cell_type": "markdown",
   "metadata": {},
   "source": [
    "Social networks are build on the premise of explicitly defining the links between members and their member-friends. Such graphs consist of directed edges from person/vertex $ x $ professing his friendship to person/vertex $ y $"
   ]
  },
  {
   "cell_type": "markdown",
   "metadata": {},
   "source": [
    "That said, the complete friendhsip graph of the world is represented implicitly. Each person knows who their friends are, but cannot find out about the other people's friendships except by asking them. "
   ]
  },
  {
   "cell_type": "markdown",
   "metadata": {},
   "source": [
    "The six degree of separation theory argues that there is a short path linking every two people in the world but offers us no help in actually finding the path"
   ]
  },
  {
   "cell_type": "markdown",
   "metadata": {},
   "source": [
    "## Are you truely individual, or just one of the faceless crowd?"
   ]
  },
  {
   "cell_type": "markdown",
   "metadata": {},
   "source": [
    "Does each vertex have a name/label which reflects its identity, and is this label important for our analysis?"
   ]
  },
  {
   "cell_type": "markdown",
   "metadata": {},
   "source": [
    "Alot of the time, we just lable the vertex with an index. A person studying infectious disease may label each vertex with whether the person is healthy or sick but the name of the person is irrelevant"
   ]
  },
  {
   "cell_type": "markdown",
   "metadata": {},
   "source": [
    "# Data Structures for Graphs"
   ]
  },
  {
   "cell_type": "markdown",
   "metadata": {},
   "source": [
    "The basic choices are __adjacency matrices__ and __adjacency lists__. We assume $ G = (V, E) $ contains $ n $ vertices and $ m $ edges"
   ]
  },
  {
   "cell_type": "markdown",
   "metadata": {},
   "source": [
    "<center><img src=\"images/chap5/07.png\" width=700></center>\n",
    "\n",
    "__Figure 4__: The adjacency matrix and adjacency list of a given graph"
   ]
  },
  {
   "cell_type": "markdown",
   "metadata": {},
   "source": [
    "<center><img src=\"images/chap5/08.png\" width=700></center>\n",
    "\n",
    "__Figure 5__: Relative advantages of adjacency lists and matrices"
   ]
  },
  {
   "cell_type": "markdown",
   "metadata": {},
   "source": [
    "__Adjacency lists are the right data strucutre for most applications of graphs__"
   ]
  },
  {
   "cell_type": "markdown",
   "metadata": {},
   "source": [
    "## Adjacency Matrix"
   ]
  },
  {
   "cell_type": "markdown",
   "metadata": {},
   "source": [
    "We can represent $ G $ using an $ n * n $ matrix $ M $, where element $ M[i, j] = 1 $ if $ (i, j)$ is an edge of $ G $, and $ 0 $ if it isn't."
   ]
  },
  {
   "cell_type": "markdown",
   "metadata": {},
   "source": [
    "This allows us to answer fastly, \"is $(i,j)$ in G?\" "
   ]
  },
  {
   "cell_type": "markdown",
   "metadata": {},
   "source": [
    "It allows for rapid updates for edge insertion and deletion"
   ]
  },
  {
   "cell_type": "markdown",
   "metadata": {},
   "source": [
    "It may use excessive space for graphs with many verties and relatively few edges."
   ]
  },
  {
   "cell_type": "markdown",
   "metadata": {},
   "source": [
    "Adjacency Matrix's are good because they are simple to represent but inherent problem is that they are quadratic space on sparse graphs"
   ]
  },
  {
   "cell_type": "markdown",
   "metadata": {},
   "source": [
    "## Adjacency Lists"
   ]
  },
  {
   "cell_type": "markdown",
   "metadata": {},
   "source": [
    "Make it harder to verify whether a given edge $ (i, j) $ is in $ G $, since we must search through the appropriate list to find the edge."
   ]
  },
  {
   "cell_type": "markdown",
   "metadata": {},
   "source": [
    "Howerver, it is surprisingly easy to design graph algorithms that avoid any need for such queries"
   ]
  },
  {
   "cell_type": "markdown",
   "metadata": {},
   "source": [
    "Typically, we sweep through all the edges of the graph in one pass via a __BFS__ or __DFS__ traversal and update the implications of the current edge as we visit it"
   ]
  },
  {
   "cell_type": "markdown",
   "metadata": {},
   "source": [
    "Below is code for an Adjacency list; We represent edges using an array of linked lists"
   ]
  },
  {
   "cell_type": "markdown",
   "metadata": {},
   "source": [
    "    #define MAXV 1000 /* maximum number of vertices */\n",
    "\n",
    "    typedef struct {\n",
    "        int y; /* adjacency info */\n",
    "        int weight; /* edge weight, if any */\n",
    "        struct edgenode *next; /* next edge in list */\n",
    "    } edgenode;\n",
    "\n",
    "    typedef struct {\n",
    "        edgenode *edges[MAXV+1]; /* adjacency info */\n",
    "        int degree[MAXV+1]; /* outdegree of each vertex */\n",
    "        int nvertices; /* number of vertices in graph */\n",
    "        int nedges; /* number of edges in graph */\n",
    "        bool directed; /* is the graph directed? */\n",
    "    } graph;"
   ]
  },
  {
   "cell_type": "markdown",
   "metadata": {},
   "source": [
    "We represent directed edge $ (x, y)$ by an edgenode $ y $ in $ x's $ adjacency list. the degree feild of the `graph` counts the number of meaninful entries for the given vertex. "
   ]
  },
  {
   "cell_type": "markdown",
   "metadata": {},
   "source": [
    "An undirected edge $ (x, y)$ appears twice in any adjacency-based graph structure, once as $ y $ in $ x$'s list and once as $ x $ in $ y$'s list.  The boolean flag `directed` identifies whether the given graph is to be interperted as directed or undirected"
   ]
  },
  {
   "cell_type": "markdown",
   "metadata": {},
   "source": [
    "    initialize_graph(graph *g, bool directed)\n",
    "    {\n",
    "        int i; /* counter */\n",
    "        g -> nvertices = 0;\n",
    "        g -> nedges = 0;\n",
    "        g -> directed = directed;\n",
    "\n",
    "        for (i=1; i<=MAXV; i++) g->degree[i] = 0;\n",
    "        for (i=1; i<=MAXV; i++) g->edges[i] = NULL;\n",
    "    }"
   ]
  },
  {
   "cell_type": "markdown",
   "metadata": {},
   "source": [
    "Actually reading the graph requires inserting each edge into this structure"
   ]
  },
  {
   "cell_type": "markdown",
   "metadata": {},
   "source": [
    "    read_graph(graph *g, bool directed)\n",
    "    {\n",
    "        int i; /* counter */\n",
    "        int m; /* number of edges */\n",
    "        int x, y; /* vertices in edge (x,y) */\n",
    "\n",
    "        initialize_graph(g, directed);\n",
    "\n",
    "        scanf(\"%d %d\",&(g->nvertices),&m);\n",
    "\n",
    "        for (i=1; i<=m; i++) {\n",
    "        scanf(\"%d %d\",&x,&y);\n",
    "        insert_edge(g,x,y,directed);\n",
    "        }\n",
    "    }"
   ]
  },
  {
   "cell_type": "markdown",
   "metadata": {},
   "source": [
    "the critical routine is `insert_edge`. The new `edgenode` is inserted at the begining of the appropriate adjacency list, since the order doesen't matter.  We parameterize our insertion with the `directed` Boolean flag, to identify whether we need to insert two copies of each edge or only one"
   ]
  },
  {
   "cell_type": "markdown",
   "metadata": {},
   "source": [
    "    insert_edge(graph *g, int x, int y, bool directed)\n",
    "    {\n",
    "        edgenode *p; /* temporary pointer */\n",
    "\n",
    "        p = malloc(sizeof(edgenode)); /* allocate edgenode storage */\n",
    "\n",
    "        p->weight = NULL;\n",
    "        p->y = y;\n",
    "        p->next = g->edges[x];\n",
    "\n",
    "        g->edges[x] = p; /* insert at head of list */\n",
    "\n",
    "        g->degree[x] ++;\n",
    "\n",
    "        if (directed == FALSE)\n",
    "            insert_edge(g,y,x,TRUE);\n",
    "        else\n",
    "            g->nedges ++;\n",
    "    }"
   ]
  },
  {
   "cell_type": "markdown",
   "metadata": {},
   "source": [
    "Printing the associated graph is just a matter of two nested loops, one through vertices, the other through adjacent edges"
   ]
  },
  {
   "cell_type": "markdown",
   "metadata": {},
   "source": [
    "    print_graph(graph *g)\n",
    "    {\n",
    "        int i; /* counter */\n",
    "        edgenode *p; /* temporary pointer */\n",
    "\n",
    "        for (i=1; i<=g->nvertices; i++) {\n",
    "            printf(\"%d: \",i);\n",
    "            p = g->edges[i];\n",
    "            while (p != NULL) {\n",
    "                printf(\" %d\",p->y);\n",
    "                p = p->next;\n",
    "            }\n",
    "            printf(\"\\n\");\n",
    "        }\n",
    "    }"
   ]
  },
  {
   "cell_type": "markdown",
   "metadata": {},
   "source": [
    "# Traversing A Graph"
   ]
  },
  {
   "cell_type": "markdown",
   "metadata": {},
   "source": [
    "we have to have a systematic way of going through a graph while keeping of where we have gone"
   ]
  },
  {
   "cell_type": "markdown",
   "metadata": {},
   "source": [
    "## Idea"
   ]
  },
  {
   "cell_type": "markdown",
   "metadata": {},
   "source": [
    "The ifea behind graph traversal is to mark each vertex when we first vitit it and keep track of what we have not yet explored."
   ]
  },
  {
   "cell_type": "markdown",
   "metadata": {},
   "source": [
    "We realy on Boolean flags (or sets) to keep track of visited"
   ]
  },
  {
   "cell_type": "markdown",
   "metadata": {},
   "source": [
    "Each vertex will exist in one of the three states\n",
    "- Undiscovered: the vertex is in its initial, virgin state\n",
    "- Discovered: the vertex has been found, but we have not yey checked out all its incident edges\n",
    "- Processed: the vertex after we have visited all its incident edges"
   ]
  },
  {
   "cell_type": "markdown",
   "metadata": {},
   "source": [
    "## Steps"
   ]
  },
  {
   "cell_type": "markdown",
   "metadata": {},
   "source": [
    "State of vertex goes from `undiscovered` -> `discovered` -> `processed` "
   ]
  },
  {
   "cell_type": "markdown",
   "metadata": {},
   "source": [
    "Initially, only the single start vertex is considered to be discovered. To completely explore a vertex $ v $, we must evaluate each edge, leaving $ v $. "
   ]
  },
  {
   "cell_type": "markdown",
   "metadata": {},
   "source": [
    "If an edge goes to an undiscovered vertex $ v $, we must evaluate each edge leaving $ v $. If an edge goes to aan undiscovred vertex $ x $, we mark $ x $ undiscovered and add it to the list of work to do"
   ]
  },
  {
   "cell_type": "markdown",
   "metadata": {},
   "source": [
    "We ignore an edge that goes to a processed vertex, because further contemplation will tell us nothing new about the graph"
   ]
  },
  {
   "cell_type": "markdown",
   "metadata": {},
   "source": [
    "We can also ignore any edge going to a discovered but not procesed vertex, because the destination already resides on the list of vertices to process"
   ]
  },
  {
   "cell_type": "markdown",
   "metadata": {},
   "source": [
    "Each undirected edge will be considered exactly twice, once when each of its endpoints is explored. Directed edges will be considered only once, when exploring the source vertex. "
   ]
  },
  {
   "cell_type": "markdown",
   "metadata": {},
   "source": [
    "Every edge and vertex in the connected component must eventually be visited. "
   ]
  },
  {
   "cell_type": "markdown",
   "metadata": {},
   "source": [
    "# Breadth First Search "
   ]
  },
  {
   "cell_type": "markdown",
   "metadata": {},
   "source": [
    "<center><img src=\"images/chap5/09.png\" width=700></center>\n",
    "\n",
    "__Figure 9__: An undirected graph and its breadth-first search tree"
   ]
  },
  {
   "cell_type": "markdown",
   "metadata": {},
   "source": [
    "In a breadth-first search of an undirected graph, we assign a direction to each edge, from the discovered $ u $ to the discovered $ v $. We thus denote $ u $ to be the parent of $ v $."
   ]
  },
  {
   "cell_type": "markdown",
   "metadata": {},
   "source": [
    "Since each node has exactly one parent, except for the root, this defines a tree on the vertices of the graph"
   ]
  },
  {
   "cell_type": "markdown",
   "metadata": {},
   "source": [
    "In figure 9, the tree illustrates the shortest path from one one to another node"
   ]
  },
  {
   "cell_type": "markdown",
   "metadata": {},
   "source": [
    "    BFS(G,s)\n",
    "        for each vertex u ∈ V [G] − {s} do\n",
    "            state[u] = “undiscovered”\n",
    "            p[u] = nil, i.e. no parent is in the BFS tree\n",
    "        state[s] = “discovered”\n",
    "        p[s] = nil\n",
    "        Q = {s}\n",
    "        while Q != ∅ do\n",
    "        u = dequeue[Q]\n",
    "        process vertex u as desired\n",
    "        for each v ∈ Adj[u] do\n",
    "            process edge (u,v) as desired\n",
    "            if state[v] = “undiscovered” then\n",
    "            state[v] = “discovered”\n",
    "            p[v] = u\n",
    "            enqueue[Q,v]\n",
    "        state[u] = “processed”"
   ]
  },
  {
   "cell_type": "markdown",
   "metadata": {},
   "source": [
    "## Implementation"
   ]
  },
  {
   "cell_type": "markdown",
   "metadata": {},
   "source": [
    "Our breath-first search implementation uses two Boolean arrays to maintain our knowladge about each vertex in the graph. A vertex is `discovered` the first time we visit it"
   ]
  },
  {
   "cell_type": "markdown",
   "metadata": {},
   "source": [
    "A vertex is considered `processed` after we have traversed all outgoing edges from it. Thus each vertex passes from undiscovered to discovered to processed over the course of rh search. This information could have been maintained using one enumerated type variable, but we used two Boolean variables instead"
   ]
  },
  {
   "cell_type": "markdown",
   "metadata": {},
   "source": [
    "    bool processed[MAXV+1]; /* which vertices have been processed */\n",
    "    bool discovered[MAXV+1]; /* which vertices have been found */\n",
    "    int parent[MAXV+1]; /* discovery relation */\n",
    "\n",
    "        Each vertex is initialized as undiscovered:\n",
    "\n",
    "    initialize_search(graph *g)\n",
    "    {\n",
    "        int i; /* counter */\n",
    "        for (i=1; i<=g->nvertices; i++) {\n",
    "            processed[i] = discovered[i] = FALSE;\n",
    "            parent[i] = -1;\n",
    "        }\n",
    "    }"
   ]
  },
  {
   "cell_type": "markdown",
   "metadata": {},
   "source": [
    "Onces a vertex is discovered, it is places on a queue. Since we process these vertices in first-in, first-out order, the oldest vertices are expanded first, which are exactly those closest to the root"
   ]
  },
  {
   "cell_type": "markdown",
   "metadata": {},
   "source": [
    "    bfs(graph *g, int start)\n",
    "    {\n",
    "        queue q; /* queue of vertices to visit */\n",
    "        int v; /* current vertex */\n",
    "        int y; /* successor vertex */\n",
    "        edgenode *p; /* temporary pointer */\n",
    "\n",
    "        init_queue(&q);\n",
    "        enqueue(&q,start);\n",
    "        discovered[start] = TRUE;\n",
    "    \n",
    "        while (empty_queue(&q) == FALSE) {\n",
    "            v = dequeue(&q);\n",
    "            process_vertex_early(v);\n",
    "            processed[v] = TRUE;\n",
    "            p = g->edges[v];\n",
    "            while (p != NULL) {\n",
    "                y = p->y;\n",
    "                if ((processed[y] == FALSE) || g->directed)\n",
    "                    process_edge(v,y);\n",
    "                if (discovered[y] == FALSE) {\n",
    "                    enqueue(&q,y);\n",
    "                    discovered[y] = TRUE;\n",
    "                    parent[y] = v;\n",
    "                }\n",
    "                p = p->next;\n",
    "            }\n",
    "            process_vertex_late(v);\n",
    "        }\n",
    "    }"
   ]
  },
  {
   "cell_type": "markdown",
   "metadata": {},
   "source": [
    "## Finding Paths"
   ]
  },
  {
   "cell_type": "markdown",
   "metadata": {},
   "source": [
    "Except for the root every node has a parent. The parent defines a tree of discovery with the inital search node as the root of the tree"
   ]
  },
  {
   "cell_type": "markdown",
   "metadata": {},
   "source": [
    "Because vertices are discovered in order of increasing distance of the root, this tree has a very important property. The unique tree path from the toor of each node $ x ∈ V $ uses the smallest number of edges (or equivalently, intermediate nodes) possible on any root-to-$x$ path in the graph"
   ]
  },
  {
   "cell_type": "markdown",
   "metadata": {},
   "source": [
    "We can reconstruct the path by following the chain of ancestory from $x$ to the root."
   ]
  },
  {
   "cell_type": "markdown",
   "metadata": {},
   "source": [
    "    find_path(int start, int end, int parents[])\n",
    "    {\n",
    "        if ((start == end) || (end == -1))\n",
    "            printf(\"\\n%d\",start);\n",
    "        else {\n",
    "            find_path(start,parents[end],parents);\n",
    "            printf(\" %d\",end);\n",
    "        }\n",
    "    }"
   ]
  },
  {
   "cell_type": "markdown",
   "metadata": {},
   "source": [
    "Breadth-First Search on figure 9 graph generates the following parent relation\n",
    "\n",
    "\n",
    "<center><img src=\"images/chap5/10.png\" width=400></center>"
   ]
  },
  {
   "cell_type": "markdown",
   "metadata": {},
   "source": [
    "# Application of BFS"
   ]
  },
  {
   "cell_type": "markdown",
   "metadata": {},
   "source": [
    "BFS runs in $ O (n + m) $ time on both directed or undirected graphs; $ n $-vertex and $ m$-edfes"
   ]
  },
  {
   "cell_type": "markdown",
   "metadata": {},
   "source": [
    "## Connected Components"
   ]
  },
  {
   "cell_type": "markdown",
   "metadata": {},
   "source": [
    "We say that a graph is connected if there is a path between any two vertices."
   ]
  },
  {
   "cell_type": "markdown",
   "metadata": {},
   "source": [
    "A connected component of an undirected graph is a maximal set of vertices such that there is a path between every pair of vertices"
   ]
  },
  {
   "cell_type": "markdown",
   "metadata": {},
   "source": [
    "Simply put, all vertices (nodes) need to have an edge going to them"
   ]
  },
  {
   "cell_type": "markdown",
   "metadata": {},
   "source": [
    "Testing whether a puzzle such as a Rubik's cube or the 15-puzzle can be solved from any position is really asking whether the graph of legal configurations is connected"
   ]
  },
  {
   "cell_type": "markdown",
   "metadata": {},
   "source": [
    "This is a good BFS problem because the vertex order does not matter. We take a node and check its connections, and continue with all other nodes/components"
   ]
  },
  {
   "cell_type": "markdown",
   "metadata": {},
   "source": [
    "    connected_components(graph *g)\n",
    "    {\n",
    "        int c; /* component number */\n",
    "        int i; /* counter */\n",
    "        \n",
    "        initialize_search(g);\n",
    "\n",
    "        c = 0;\n",
    "        for (i=1; i<=g->nvertices; i++)\n",
    "            if (discovered[i] == FALSE) {\n",
    "                c = c+1;\n",
    "                printf(\"Component %d:\",c);\n",
    "                bfs(g,i);\n",
    "                printf(\"\\n\");\n",
    "        }\n",
    "    }\n",
    "    \n",
    "    process_vertex_early(int v)\n",
    "    {\n",
    "        printf(\" %d\",v);\n",
    "    }\n",
    "        process_edge(int x, int y)\n",
    "    {\n",
    "    }"
   ]
  },
  {
   "cell_type": "markdown",
   "metadata": {},
   "source": [
    "Important to note that the counter $ c $ is labeling all nodes/vertices that are the same with the same number"
   ]
  },
  {
   "cell_type": "markdown",
   "metadata": {},
   "source": [
    "## Two-Coloring Graphs"
   ]
  },
  {
   "cell_type": "markdown",
   "metadata": {},
   "source": [
    "The vertex-coloring problem seeks to assign a label to each vertex of a graph such that no edge links any two vertices of the same color. We could avoid this by assigning each vertex a unique color"
   ]
  },
  {
   "cell_type": "markdown",
   "metadata": {},
   "source": [
    "Howerver, the goal is to use a few colors as possible. Vertex coloring problems oftern arise in scheduling applications such as register allocation in compilers"
   ]
  },
  {
   "cell_type": "markdown",
   "metadata": {},
   "source": [
    "A graph is bipartite__ if it can be colored without conflicts while using two colors. Bipartite graphs aise in \"had-sex\" graph in heterosexual world. "
   ]
  },
  {
   "cell_type": "markdown",
   "metadata": {},
   "source": [
    "Men have sen only with women, and vice versa. Thus gender defines a legal two-coloring int the model"
   ]
  },
  {
   "cell_type": "markdown",
   "metadata": {},
   "source": [
    "For the model, we can augment breadth-first search so that whenever we discover a new vertex, we color it the oppsite of its parent. We check whether any nondiscovery edge links two vertices of the same color"
   ]
  },
  {
   "cell_type": "markdown",
   "metadata": {},
   "source": [
    "Such conflict means that the graph cannot be-two colored. Otherwise, we will have constructed a proper two-coloring whenever we terminate without conflict"
   ]
  },
  {
   "cell_type": "markdown",
   "metadata": {},
   "source": [
    "    twocolor(graph *g)\n",
    "    {\n",
    "        int i; /* counter */\n",
    "        for (i=1; i<=(g->nvertices); i++)\n",
    "            color[i] = UNCOLORED;\n",
    "\n",
    "        bipartite = TRUE;\n",
    "\n",
    "        initialize_search(&g);\n",
    "\n",
    "        for (i=1; i<=(g->nvertices); i++)\n",
    "            if (discovered[i] == FALSE) {\n",
    "                color[i] = WHITE;\n",
    "                bfs(g,i);\n",
    "            }\n",
    "    }\n",
    "\n",
    "    process_edge(int x, int y)\n",
    "    {\n",
    "        if (color[x] == color[y]) {\n",
    "            bipartite = FALSE;\n",
    "        printf(\"Warning: not bipartite due to (%d,%d)\\n\",x,y);\n",
    "        }\n",
    "        color[y] = complement(color[x]);\n",
    "    }\n",
    "    \n",
    "    complement(int color)\n",
    "    {\n",
    "        if (color == WHITE) return(BLACK);\n",
    "        if (color == BLACK) return(WHITE);\n",
    "        return(UNCOLORED);\n",
    "    }"
   ]
  },
  {
   "cell_type": "markdown",
   "metadata": {},
   "source": [
    "BFS can seprate the men from the women, but we can't tell them apart just by using the graph structure"
   ]
  },
  {
   "cell_type": "markdown",
   "metadata": {},
   "source": [
    "# Depth First Search"
   ]
  },
  {
   "cell_type": "markdown",
   "metadata": {},
   "source": [
    "DSF and BFS differe on the datastucture to store the discovered vertexes but not processes"
   ]
  },
  {
   "cell_type": "markdown",
   "metadata": {},
   "source": [
    "Queue:\n",
    "> By storing the vertices in a first-in, first-out (FIFO) queue, we explore the oldest unexplored vertices first. Thus our explorations radiate out slowly from the starting vertex, defining a BFS"
   ]
  },
  {
   "cell_type": "markdown",
   "metadata": {},
   "source": [
    "Stack:\n",
    "> By storing the vertices in the last-in, first-out stack, we explore the vertices by lurching along a path, visiting a new neighbor if one is available, and backing up only whne we are surrounded by previously discovere vertices. Thus, out explorations quickly wander away from our starting point, defining a DFS"
   ]
  },
  {
   "cell_type": "markdown",
   "metadata": {},
   "source": [
    "Our implementation of dfs maintains a notion of traversal time for each vertex. Our time clock ticks each time we enter or exit any vertex. We keep track of the entry and exit times for each vertex. We keep track of the entry and exit times for each vertex"
   ]
  },
  {
   "cell_type": "markdown",
   "metadata": {},
   "source": [
    "## DFS recursive implementation"
   ]
  },
  {
   "cell_type": "markdown",
   "metadata": {},
   "source": [
    "    DFS(G,u)\n",
    "        state[u] = “discovered”\n",
    "        process vertex u if desired\n",
    "        entry[u] = time\n",
    "        time = time + 1\n",
    "        for each v ∈ Adj[u] do\n",
    "            process edge (u,v) if desired\n",
    "            if state[v] = “undiscovered” then\n",
    "                p[v] = u\n",
    "                DFS(G,v)\n",
    "        state[u] = “processed”\n",
    "        exit[u] = time\n",
    "        time = time + 1\n"
   ]
  },
  {
   "cell_type": "markdown",
   "metadata": {},
   "source": [
    "The time intervals have intersting and useful properties with respect to depth-first search"
   ]
  },
  {
   "cell_type": "markdown",
   "metadata": {},
   "source": [
    "Time Properties:\n",
    "- Who is an ancestor:\n",
    "    - Suppose that $ x $ is an ancestor of $ y $ in the DFS tree. That implies that we must enter $ x $ before $ y $ since there is no eay we can be born before our own father or grandfather! We also must exit $ y $ before we exit $ x $, because the mechanics of $ DFS $ ensures we cannot exit $ x $ untill after we have backed up from the search of all its descendants. Thus the time interval of $ y $ must be properly nested within ancestor $ x $\n",
    "- How mant Descendants:\n",
    "    - The difference between the exit and entry times for $ v $ tells us how many descendents $ v $ has in the DFS tree. The clock gets incremented on each vertex entry and vertex exit, so half the time difference denotes the number of descendents of $ v $"
   ]
  },
  {
   "cell_type": "markdown",
   "metadata": {},
   "source": [
    "These entry/exit times are important in several applications particularly topological sorting and biconnected/strongly-connected components"
   ]
  },
  {
   "cell_type": "markdown",
   "metadata": {},
   "source": [
    "DFS partitions the edges of an undirected graph into two classes: _tree edges_ and _back edges_. The tree edges and discover new vertices and are those encoded in the parent relation. Back edges are those whos other endpoint is an ancestor of the vertex being expanded, so they point back into the tree."
   ]
  },
  {
   "cell_type": "markdown",
   "metadata": {},
   "source": [
    "All edges fall  into those two classes in DFS. This edge classification proves fundamental to the corectness of DFS-based algorithms"
   ]
  },
  {
   "cell_type": "markdown",
   "metadata": {},
   "source": [
    "<center><img src=\"images/chap5/11.png\" width=600></center>\n",
    "\n",
    "__Figure 5.10__: An undirected graph and its depth-first search tree"
   ]
  },
  {
   "cell_type": "markdown",
   "metadata": {},
   "source": [
    "## Implementation"
   ]
  },
  {
   "cell_type": "markdown",
   "metadata": {},
   "source": [
    "A depth-first search can be though of as a breadth-first search with a stack instead of a queue. The beauty of implementing dfs recursively is that recursion eliminates the need to keep an explicit stack"
   ]
  },
  {
   "cell_type": "markdown",
   "metadata": {},
   "source": [
    "    dfs(graph *g, int v)\n",
    "    {\n",
    "        edgenode *p; /* temporary pointer */\n",
    "        int y; /* successor vertex */\n",
    "\n",
    "        if (finished) return; /* allow for search termination */\n",
    "\n",
    "        discovered[v] = TRUE;\n",
    "        time = time + 1;\n",
    "        entry_time[v] = time;\n",
    "\n",
    "        process_vertex_early(v);\n",
    "\n",
    "        p = g->edges[v];\n",
    "\n",
    "        while (p != NULL) {\n",
    "            y = p->y;\n",
    "            if (discovered[y] == FALSE) {\n",
    "                parent[y] = v;\n",
    "                process_edge(v,y);\n",
    "                dfs(g,y);\n",
    "            }\n",
    "            else if ((!processed[y]) || (g->directed))\n",
    "                process_edge(v,y);\n",
    "            \n",
    "                if (finished) return;\n",
    "\n",
    "                p = p->next;\n",
    "            }\n",
    "\n",
    "            process_vertex_late(v);\n",
    "        \n",
    "            time = time + 1;\n",
    "            exit_time[v] = time;\n",
    "\n",
    "            processed[v] = TRUE;\n",
    "    }"
   ]
  },
  {
   "cell_type": "markdown",
   "metadata": {},
   "source": [
    "Depth-first search uses essentially the same idea as backtracking. Both involve exhaustively searching all possibilities by advancing if it is possible, and backing up as soon as there is no unexplored possibility for further advancement"
   ]
  },
  {
   "cell_type": "markdown",
   "metadata": {},
   "source": [
    "In undirected graphs, each edge $(x, y)$ stis in the adjacency list of vertex $ x $ and $ y $. So there are two potiental times we see an edge. The first time we see an edge, we may want to either process it or take a different action"
   ]
  },
  {
   "cell_type": "markdown",
   "metadata": {},
   "source": [
    "To konw if we have seen an edge before or not is easy, just see if the vertex that make the edges $(x, y)$ are seen or not"
   ]
  },
  {
   "cell_type": "markdown",
   "metadata": {},
   "source": [
    "<center><img src=\"images/chap5/19.png\" width=500></center>"
   ]
  },
  {
   "cell_type": "markdown",
   "metadata": {},
   "source": [
    "## Finding Cycles"
   ]
  },
  {
   "cell_type": "markdown",
   "metadata": {},
   "source": [
    "Back edges are key in finding a cycle in a undirected graph. If there are no back edges, all edges are tree edges, and no cycle exists in a tree."
   ]
  },
  {
   "cell_type": "markdown",
   "metadata": {},
   "source": [
    "    process_edge(int x, int y)\n",
    "    {\n",
    "    if (parent[x] != y) { /* found back edge! */\n",
    "        printf(\"Cycle from %d to %d:\",y,x);\n",
    "        find_path(y,x,parent);\n",
    "        printf(\"\\n\\n\");\n",
    "        finished = TRUE;\n",
    "        }\n",
    "    }"
   ]
  },
  {
   "cell_type": "markdown",
   "metadata": {},
   "source": [
    "## Articulation Vertices"
   ]
  },
  {
   "cell_type": "markdown",
   "metadata": {},
   "source": [
    "<center><img src=\"images/chap5/12.png\" width=500></center>\n",
    "\n",
    "__Figure 11__: An articulation vertex is the weakest point in the graph "
   ]
  },
  {
   "cell_type": "markdown",
   "metadata": {},
   "source": [
    "If you were a vandal and you wanted to distrupt the telephone network, which vertex would you destroy"
   ]
  },
  {
   "cell_type": "markdown",
   "metadata": {},
   "source": [
    "You would delete an _articulation vertex_ or _cut node_. "
   ]
  },
  {
   "cell_type": "markdown",
   "metadata": {},
   "source": [
    "The connectivity of a graph is the smallest number of vertices whos deletion will disconnect the graph"
   ]
  },
  {
   "cell_type": "markdown",
   "metadata": {},
   "source": [
    "Brute force tests are easy. Simpyl delete each vertex $ v $ and then do a BFS or DFS traversal of the remaining graph to see if its connected or not,  but time is $ O (n(n + m ))$> "
   ]
  },
  {
   "cell_type": "markdown",
   "metadata": {},
   "source": [
    "<center><img src=\"images/chap5/13.png\" width=250></center>\n",
    "\n",
    "__Figure 12__: DFS tree of a graph contains two articulation vertices (namely $ 1 $ and $ 2$). Back edge $( 5, 2)$. keeps vertices $ 3 $ and $ 4 $ from being cut-nodes. Vertices $ 5 $ and $ 6 $ escape as leaves of the DFS tree"
   ]
  },
  {
   "cell_type": "markdown",
   "metadata": {},
   "source": [
    "The better more clever linear-time algo tests all the vertices of a connected graph using a single depth-first search"
   ]
  },
  {
   "cell_type": "markdown",
   "metadata": {},
   "source": [
    "The DFS tree tells us that this tree connects all the vertices of the graph. If the $ DFS $ tree represented the entirety of the graph, all internal (nonleaf) nodes would be articulation vertices, since deleting any one of them would seprate a leaf from the root. Blowing up a leaf $ 2 $ and $ 6 $ cannot disconnect the tree, since it connects no one but itself to the main trunk "
   ]
  },
  {
   "cell_type": "markdown",
   "metadata": {},
   "source": [
    "The root of the search tree is a special case because if it has only once child, it functions as a leaf. Else it is an articulation vertex"
   ]
  },
  {
   "cell_type": "markdown",
   "metadata": {},
   "source": [
    "Finding articulation vertices requires maintaining the extent to which back edges (i.e., security cables) link chunks of the DFS tree back to ancestor nodes"
   ]
  },
  {
   "cell_type": "markdown",
   "metadata": {},
   "source": [
    "let `reachable_ancestor[v]` denote the earliest reachable ancestor of vertex $ v $, meaning the oldest ancestor of $ v $ that we can reach by a combination of tree edges and back edges. Initially, ` reachable_ancestor[v] = v:`"
   ]
  },
  {
   "cell_type": "markdown",
   "metadata": {},
   "source": [
    "    int reachable_ancestor[MAXV+1]; /* earliest reachable ancestor of v */\n",
    "    int tree_out_degree[MAXV+1]; /* DFS tree outdegree of v */\n",
    "\n",
    "    process_vertex_early(int v)\n",
    "    {\n",
    "    reachable_ancestor[v] = v;\n",
    "    }"
   ]
  },
  {
   "cell_type": "markdown",
   "metadata": {},
   "source": [
    "We update `reachable_ancestor[v]` whenever we encounter a back edge that takes us to an earlier ancestor than we have previously seen. The relative age/rank of our ancestor can be determined from their `entry_time's`."
   ]
  },
  {
   "cell_type": "markdown",
   "metadata": {},
   "source": [
    "    process_edge(int x, int y)\n",
    "    {\n",
    "\n",
    "        int class; /* edge class */\n",
    "\n",
    "        class = edge_classification(x,y);\n",
    "\n",
    "        if (class == TREE)\n",
    "            tree_out_degree[x] = tree_out_degree[x] + 1;\n",
    "\n",
    "        if ((class == BACK) && (parent[x] != y)) {\n",
    "            if (entry_time[y] < entry_time[ reachable_ancestor[x] ] )\n",
    "                reachable_ancestor[x] = y;\n",
    "        }\n",
    "    }"
   ]
  },
  {
   "cell_type": "markdown",
   "metadata": {},
   "source": [
    "The key issue is determining how the reachability rlation impacts whether vertex $ v $ is an articulation vertex. "
   ]
  },
  {
   "cell_type": "markdown",
   "metadata": {},
   "source": [
    "<center><img src=\"images/chap5/14.png\" width=400></center>\n",
    "\n",
    "__Figure 13__: The three cases of articulation vertices: root, bridge, and parent cut-nodes"
   ]
  },
  {
   "cell_type": "markdown",
   "metadata": {},
   "source": [
    "__Cases__:\n",
    "- Root cut-nodes\n",
    "    - If the root of the DFS tree has two or more children, it must be an articulation vertex. No edges from the subtree of the second child can possibly connect to the subtree of the first child\n",
    "- Bridge cut-nodes\n",
    "    - If the earliest reachable vertex is from $ v $ is $ v $, then deleting the single edge $(parent[v], v) $ disconnects the graph. Clearly $ parent[v] $ must be an articulation vertex since it cuts $ v $ from the graph. Vertex $ v $ is also an articulation vertex unless it is a leaf of the DFS tree. For any leaf, nothing falls off when you cut it.\n",
    "- Parent cut nodes\n",
    "    - If the earliest reachable vertex from $ v $ is the parent of $ v $ then deleting the parent must serve $ v $ from the tree unless the parent it the root"
   ]
  },
  {
   "cell_type": "markdown",
   "metadata": {},
   "source": [
    "The following routin below systematicall evaluates each of the three conditions as we back up from the vertex after traversing all outgoing edges. We use `entry_time[v]` to represent the age of the vertex $ v $. The reachability time `time_v` calculated below denotes the oldest vertex that can be reached using back edges. "
   ]
  },
  {
   "cell_type": "markdown",
   "metadata": {},
   "source": [
    "    process_vertex_late(int v)\n",
    "    {\n",
    "        bool root; /* is the vertex the root of the DFS tree? */\n",
    "        int time_v; /* earliest reachable time for v */\n",
    "        int time_parent; /* earliest reachable time for parent[v] */\n",
    "\n",
    "        if (parent[v] < 1) { /* test if v is the root */\n",
    "            if (tree_out_degree[v] > 1)\n",
    "                printf(\"root articulation vertex: %d \\n\",v);\n",
    "            return;\n",
    "        }\n",
    "\n",
    "        root = (parent[parent[v]] < 1); /* is parent[v] the root? */\n",
    "        if ((reachable_ancestor[v] == parent[v]) && (!root))\n",
    "            printf(\"parent articulation vertex: %d \\n\",parent[v]);\n",
    "\n",
    "        if (reachable_ancestor[v] == v) {\n",
    "            printf(\"bridge articulation vertex: %d \\n\",parent[v]);\n",
    "            if (tree_out_degree[v] > 0) /* test if v is not a leaf */\n",
    "                printf(\"bridge articulation vertex: %d \\n\",v);\n",
    "        }\n",
    "\n",
    "        time_v = entry_time[reachable_ancestor[v]];\n",
    "        time_parent = entry_time[ reachable_ancestor[parent[v]] ];\n",
    "\n",
    "        if (time_v < time_parent)\n",
    "            reachable_ancestor[parent[v]] = reachable_ancestor[v];\n",
    "    }"
   ]
  },
  {
   "cell_type": "markdown",
   "metadata": {},
   "source": [
    "<center><img src=\"images/chap5/15.png\" width=600></center>\n",
    "\n",
    "__Figure 14__: Possible edge cases for __BFS/DFS__ traversal"
   ]
  },
  {
   "cell_type": "markdown",
   "metadata": {},
   "source": [
    "We talked mostly about vertex disruption. But we could have easily talked about edge disruption. A single edge whos deletion disconnects the graph is called a _bridge_ ; any graph without such an edge is said to be _edge-biconencted_. "
   ]
  },
  {
   "cell_type": "markdown",
   "metadata": {},
   "source": [
    "Identifying wheter a given edge $(x, y)$ is a bridge is easily done in linear time by deleting the edge and testing whether the resulting graph is connected. "
   ]
  },
  {
   "cell_type": "markdown",
   "metadata": {},
   "source": [
    "All bridges can be identified in the same $ O (n + m ) $ time. Edge $ (x, y )$ is a bridge if $(1)$ it is a tree edge and $ (2) $ no back edge connects from $ y $ or below to $ x $ or above."
   ]
  },
  {
   "cell_type": "markdown",
   "metadata": {},
   "source": [
    "# Depth-First Search on Directed Graphs"
   ]
  },
  {
   "cell_type": "markdown",
   "metadata": {},
   "source": [
    "For directed graphs, DFS labeling can take on a wider range of possibilities. Indeed, all four of the cases in __Figure 5.14__ can occur in traversing directed graphs."
   ]
  },
  {
   "cell_type": "markdown",
   "metadata": {},
   "source": [
    "The correct labeling of each edge can be readily determined from the state, discovery time, and parent of each vertex as encoded in the following function"
   ]
  },
  {
   "cell_type": "markdown",
   "metadata": {},
   "source": [
    "    int edge_classification(int x, int y)\n",
    "    {\n",
    "        if (parent[y] == x) return(TREE);\n",
    "        if (discovered[y] && !processed[y]) return(BACK);\n",
    "        if (processed[y] && (entry_time[y]>entry_time[x])) return(FORWARD);\n",
    "        if (processed[y] && (entry_time[y]<entry_time[x])) return(CROSS);\n",
    "        printf(\"Warning: unclassified edge (%d,%d)\\n\",x,y);\n",
    "    }"
   ]
  },
  {
   "cell_type": "markdown",
   "metadata": {},
   "source": [
    "Both BFS/DFS algortithms will traverse all edges in the same connected component as the starting point. Since we need to start with a vertex in each component to traverse a disconencted graph, we must start from any vertex remaining undiscovered after a component search"
   ]
  },
  {
   "cell_type": "markdown",
   "metadata": {},
   "source": [
    "    DFS-graph(G)\n",
    "        for each vertex u ∈ V [G] do\n",
    "            state[u] = “undiscovered”\n",
    "                for each vertex u ∈ V [G] do\n",
    "            if state[u] = “undiscovered” then\n",
    "                initialize new component, if desired\n",
    "                DFS(G,u)"
   ]
  },
  {
   "cell_type": "markdown",
   "metadata": {},
   "source": [
    "## Topological Sorting"
   ]
  },
  {
   "cell_type": "markdown",
   "metadata": {},
   "source": [
    "<center><img src=\"images/chap5/16.png\" width=350></center>\n",
    "\n",
    "__Figure 15__: A DAG with only one topological sort $ (G, A, B, C, F, E, D) $"
   ]
  },
  {
   "cell_type": "markdown",
   "metadata": {},
   "source": [
    "Topological sorting is the most important operation on directed acyclic graphs $ (DAGs)$."
   ]
  },
  {
   "cell_type": "markdown",
   "metadata": {},
   "source": [
    "Such a graph of ordering cannot exist if there is a cycle"
   ]
  },
  {
   "cell_type": "markdown",
   "metadata": {},
   "source": [
    "Topological sorting can help us finding the shortest path in a $ DAG $."
   ]
  },
  {
   "cell_type": "markdown",
   "metadata": {},
   "source": [
    "Topological sorting can be performed efficently using DFS searching. A directed graph is a DAG if and only if no back edges are encountered."
   ]
  },
  {
   "cell_type": "markdown",
   "metadata": {},
   "source": [
    "> Labeling the vertices in the reverse order that they are marked _processed_ finds a topological sort of a $ DAG $."
   ]
  },
  {
   "cell_type": "markdown",
   "metadata": {},
   "source": [
    "The statement above is true because of the following"
   ]
  },
  {
   "cell_type": "markdown",
   "metadata": {},
   "source": [
    "Consider that happens to each directed edge $ {x, y} $ s we encoutner it exploring vertex $ x $"
   ]
  },
  {
   "cell_type": "markdown",
   "metadata": {},
   "source": [
    "- If $ y $ is currently discovered, then we start a DFS of $ y $ before we continue with $ x $. Thus $ y $ is marked completed before $ x $ is, and $ x $ appears before $ y $ in the topological order, as it must"
   ]
  },
  {
   "cell_type": "markdown",
   "metadata": {},
   "source": [
    "- If $ y$ is discovered but not copleted, then ${x, y}$ is a back edge, whic is forbidden in a $ DAG $"
   ]
  },
  {
   "cell_type": "markdown",
   "metadata": {},
   "source": [
    "- If $ y $ processed, then it will have been so labeled before $ x$. Therefore, $ x $ appears before $ y $ in the topological order, as it must"
   ]
  },
  {
   "cell_type": "markdown",
   "metadata": {},
   "source": [
    "    process_vertex_late(int v)\n",
    "    {\n",
    "        push(&sorted,v);\n",
    "    }\n",
    "\n",
    "    process_edge(int x, int y)\n",
    "    {\n",
    "        int class; /* edge class */\n",
    "\n",
    "        class = edge_classification(x,y);\n",
    "\n",
    "        if (class == BACK)\n",
    "            printf(\"Warning: directed cycle found, not a DAG\\n\");\n",
    "    }\n",
    "    \n",
    "    topsort(graph *g)\n",
    "    {\n",
    "        int i; /* counter */\n",
    "\n",
    "        init_stack(&sorted);\n",
    "\n",
    "        for (i=1; i<=g->nvertices; i++)\n",
    "            if (discovered[i] == FALSE)\n",
    "                dfs(g,i);\n",
    "\n",
    "        print_stack(&sorted); /* report topological order */\n",
    "    }"
   ]
  },
  {
   "cell_type": "markdown",
   "metadata": {},
   "source": [
    "We push each vertex on the stack as soon as we have evaluated all outgoing edges. The top vertex on the stack always has no incoming edges from any vertex on the stack. Repeatedly popping them off yeilds a topological ordering"
   ]
  },
  {
   "cell_type": "markdown",
   "metadata": {},
   "source": [
    "## Strongle Connected Components"
   ]
  },
  {
   "cell_type": "markdown",
   "metadata": {},
   "source": [
    "<center><img src=\"images/chap5/17.png\" width=700></center>\n",
    "\n",
    "__Figure 16__: The strongly-conencted components of a graph, with the associated DFS tree"
   ]
  },
  {
   "cell_type": "markdown",
   "metadata": {},
   "source": [
    "strongly connected components are components formed after partitioning a graph into chunks such that directed paths exist between all pairs of vertices within a given chunk. "
   ]
  },
  {
   "cell_type": "markdown",
   "metadata": {},
   "source": [
    "A directed path is strongly connected if there is a directed path between any vertices."
   ]
  },
  {
   "cell_type": "markdown",
   "metadata": {},
   "source": [
    "It is stragithforward to use graph traversal to test whether a graph $ G = (V, E) $ is strongly conencted in linear time."
   ]
  },
  {
   "cell_type": "markdown",
   "metadata": {},
   "source": [
    "- first do a traversal from some arbitrary vertex $ v $. Every vertex in the graph had better be reachable from $ v $ (and hence discovered on the $ BFS $ or $ DFS $ starting from $ v $, other wise $ G $ cannot possibly be strongly connected. "
   ]
  },
  {
   "cell_type": "markdown",
   "metadata": {},
   "source": [
    "- next construct $ G' = (V, E')$ with the same vertex and edge set as $ G $, but with all edges reversed- i.e, directed edge $  (x,y) ∈ E $ iff $ (y,x) ∈ E $. Thus, any path from $ v $ to $ z $ in $ G' $ corresponds to a path from $ z $ to $ v $ in $ G $.  By doing a DFS from $ v $ in $ G'$, we find all vertices with path to $ v $ in $ G $. The graph is strongly connected iif all vertices in $ G $ can $ (1) $ reach $ v $ and $ (2)$ are reachable from $ v $"
   ]
  },
  {
   "cell_type": "markdown",
   "metadata": {},
   "source": [
    "Graphs that are not strongly connected can be partitioned into strongly connected components"
   ]
  },
  {
   "cell_type": "markdown",
   "metadata": {},
   "source": [
    "The set of such components and the weakly-connected edges that link them together can be determined using $ DFS $. The algorithm is based on the observarion that is is easy to find a directed cycle using a depth-first search"
   ]
  },
  {
   "cell_type": "markdown",
   "metadata": {},
   "source": [
    "All vertices in this cycle must be in the same strongly connected component. This we can shrink (contract) the vertices on this cycle down to a single vertex representing the component and then repeat. The process terminates when no directed cycles remains, and each vertex represents a different strongly conencted component"
   ]
  },
  {
   "cell_type": "markdown",
   "metadata": {},
   "source": [
    "### Implementation"
   ]
  },
  {
   "cell_type": "markdown",
   "metadata": {},
   "source": [
    "we update our notion of the oldest-reachable vertex in respose to $ (1) $ nontree edges and $(2)$ backing up from a vertex. Due to the directed nature, we must also contend with fordward edges (from a vertex to a descendant) and cross edges (from a vertex back to an nonancestor but previously discovered vertex)"
   ]
  },
  {
   "cell_type": "markdown",
   "metadata": {},
   "source": [
    "Our algorithm will peal one storng component off the tree at a time, and assign each of its vertices the number of component it is in"
   ]
  },
  {
   "cell_type": "markdown",
   "metadata": {},
   "source": [
    "    strong_components(graph *g)\n",
    "    {\n",
    "        int i; /* counter */\n",
    "\n",
    "        for (i=1; i<=(g->nvertices); i++) {\n",
    "            low[i] = i;\n",
    "            scc[i] = -1;\n",
    "        }\n",
    "        components_found = 0;\n",
    "        init_stack(&active);\n",
    "        initialize_search(&g);\n",
    "\n",
    "        for (i=1; i<=(g->nvertices); i++)\n",
    "            if (discovered[i] == FALSE) {\n",
    "                dfs(g,i);\n",
    "            }\n",
    "    }"
   ]
  },
  {
   "cell_type": "markdown",
   "metadata": {},
   "source": [
    "Define `low[v]` to be the oldest vertex know to be in the strongly conencted component as $ v $. This vertex is not necessarily an ancestor, buy may be a distant cousin of $ v $ becauseo of cross edges. Cross edges that point vertices from _prviosuly_ strong connected compoennts of the graph cannot help us, because there can be no way back from them to $ v $, but otherwise cross edges are fair game. Forward edges have no impack on reachability over the depth-first three edges, and hence can be disregarded"
   ]
  },
  {
   "cell_type": "markdown",
   "metadata": {},
   "source": [
    "    process_edge(int x, int y)\n",
    "        {\n",
    "        int class; /* edge class */\n",
    "        \n",
    "        class = edge_classification(x,y);\n",
    "\n",
    "        if (class == BACK) {\n",
    "            if (entry_time[y] < entry_time[ low[x] ] )\n",
    "                low[x] = y;\n",
    "        }\n",
    "\n",
    "        if (class == CROSS) {\n",
    "            if (scc[y] == -1) /* component not yet assigned */\n",
    "                if (entry_time[y] < entry_time[ low[x] ] )\n",
    "                    low[x] = y;\n",
    "        }\n",
    "    }"
   ]
  },
  {
   "cell_type": "markdown",
   "metadata": {},
   "source": [
    "A new strongly conencted compoennt is found whenever the lowest reachable vertex from $ v $ is $ v $. If so, we can clear the stack of this component. Otherwise, we give our parent the benefit of the oldest ancestor we can reach and backtrack"
   ]
  },
  {
   "cell_type": "markdown",
   "metadata": {},
   "source": [
    "    process_vertex_early(int v)\n",
    "    {\n",
    "        push(&active,v);\n",
    "    }\n",
    "    \n",
    "    process_vertex_late(int v)\n",
    "    {\n",
    "        if (low[v] == v) { /* edge (parent[v],v) cuts off scc */\n",
    "        pop_component(v);\n",
    "    }\n",
    "\n",
    "        if (entry_time[low[v]] < entry_time[low[parent[v]]])\n",
    "            low[parent[v]] = low[v];\n",
    "    }\n",
    "\n",
    "    pop_component(int v)\n",
    "    {\n",
    "        int t; /* vertex placeholder */\n",
    "        \n",
    "        components_found = components_found + 1;\n",
    "\n",
    "        scc[ v ] = components_found;\n",
    "        while ((t = pop(&active)) != v) {\n",
    "            scc[ t ] = components_found;\n",
    "        }\n",
    "    }"
   ]
  }
 ],
 "metadata": {
  "kernelspec": {
   "display_name": "Python 3",
   "language": "python",
   "name": "python3"
  },
  "language_info": {
   "codemirror_mode": {
    "name": "ipython",
    "version": 3
   },
   "file_extension": ".py",
   "mimetype": "text/x-python",
   "name": "python",
   "nbconvert_exporter": "python",
   "pygments_lexer": "ipython3",
   "version": "3.8.3"
  }
 },
 "nbformat": 4,
 "nbformat_minor": 4
}
