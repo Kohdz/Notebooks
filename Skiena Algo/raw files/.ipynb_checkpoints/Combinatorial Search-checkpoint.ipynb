{
 "cells": [
  {
   "cell_type": "markdown",
   "metadata": {},
   "source": [
    "# Backtracking"
   ]
  },
  {
   "cell_type": "markdown",
   "metadata": {},
   "source": [
    "Backtracking is a technique for listing all possible solutions for a combinatorial algorithm problem. "
   ]
  },
  {
   "cell_type": "markdown",
   "metadata": {},
   "source": [
    "Backtracking is a systematic way to iterate through all the possible configurations of a search space. "
   ]
  },
  {
   "cell_type": "markdown",
   "metadata": {},
   "source": [
    "These configurations may represent all possible arrangements of objects $(permutations)$ or all possible ways of building a collection of them $(subsets)$"
   ]
  },
  {
   "cell_type": "markdown",
   "metadata": {},
   "source": [
    "What these problems have in common is that we must generate each one possible configuration exactly once. Avoiding both repetition and missing configurations means that we must define a systematic generation order"
   ]
  },
  {
   "cell_type": "markdown",
   "metadata": {},
   "source": [
    "We will model our combinatorial search solution as a vector $ a = (a_1, a_2, ..., a_n)$ where each element $ a_i $ is selected from a finite ordered set $ S_i $. Such a vector might represent an arrangement where $ a_i $ contains the $ ith $ element of the permutation. Or the vector might represent a given subset $ S $, where $ a_i $ is true if and only if the $ ith $ element of the universe is in $ S $. The vector can even represent a sequwnce of moves in a game or a path in a graph, where $ a_i $ contains the $ ith $ event in the sequence"
   ]
  },
  {
   "cell_type": "markdown",
   "metadata": {},
   "source": [
    "At each step in the backtracking algorithm, we try to extend a given partial solution $ a = (a_1, a_2, ..., a_k)$ by adding another element at the end. After extending it, we must test whether what we now have is a solution: if so, we should print it or count it. If not, we must check whether the partial solution is still potentiall extendable to some complete solution"
   ]
  },
  {
   "cell_type": "markdown",
   "metadata": {},
   "source": [
    "The vector can even represent a sequwnce of moves in a game or a path in a graph, where $ a_i $ contains the $ ith $ event in the sequence"
   ]
  },
  {
   "cell_type": "markdown",
   "metadata": {},
   "source": [
    "Backtracking constructs a tree of partial solutions, where each vertex represents a partial solution. There is an edfe from $ x $ to $ y $ if node $ y $ was created by advancing from $ x $"
   ]
  },
  {
   "cell_type": "markdown",
   "metadata": {},
   "source": [
    "This tree of partial solutions provides an alternative way to think about backtracking, for the process of constructing the solutions corresponds exactly to doing a depth-first traversal of the backtrack tree.  Viewing backtracking as a depth-first search on an implicit graph yields a natural recursive implementation of the basic algortihm "
   ]
  },
  {
   "cell_type": "markdown",
   "metadata": {},
   "source": [
    "    Backtrack-DFS(A,k)\n",
    "    if A = (a1,a2,...,ak) is a solution, report it.\n",
    "    else\n",
    "        k = k + 1\n",
    "        compute Sk\n",
    "        while Sk != ∅ do\n",
    "            ak = an element in Sk\n",
    "            Sk = Sk − ak\n",
    "            Backtrack-DFS(A,k)"
   ]
  },
  {
   "cell_type": "markdown",
   "metadata": {},
   "source": [
    "DFS is perfered over BFS because of the space saved.  The curent state of a search is completely represented by the path from the root to the current search depth-first node. "
   ]
  },
  {
   "cell_type": "markdown",
   "metadata": {},
   "source": [
    "This requires space proportional to the height of the tree. In BFS, the queue stores all the nodes at the current height, which is proportional to the width of the search tree. The tree grows exponentially in its widith compared to its height"
   ]
  },
  {
   "cell_type": "markdown",
   "metadata": {},
   "source": [
    "Backtracking ensures correctness by enumerating all possibilites. It ensures effciency by never visiting a state more than once"
   ]
  },
  {
   "cell_type": "markdown",
   "metadata": {},
   "source": [
    "## Implementation"
   ]
  },
  {
   "cell_type": "markdown",
   "metadata": {},
   "source": [
    "    bool finished = FALSE; /* found all solutions yet? */\n",
    "    \n",
    "    backtrack(int a[], int k, data input)\n",
    "    {\n",
    "        int c[MAXCANDIDATES]; /* candidates for next position */\n",
    "        int ncandidates; /* next position candidate count */\n",
    "        int i; /* counter */\n",
    "\n",
    "        if (is_a_solution(a,k,input))\n",
    "            process_solution(a,k,input);\n",
    "        else {\n",
    "            k = k+1;\n",
    "            construct_candidates(a,k,input,c,&ncandidates);\n",
    "            for (i=0; i<ncandidates; i++) {\n",
    "                a[k] = c[i];\n",
    "                make_move(a,k,input);\n",
    "                backtrack(a,k,input);\n",
    "                unmake_move(a,k,input);\n",
    "                if (finished) return; /* terminate early */\n",
    "            }\n",
    "        }\n",
    "    }"
   ]
  },
  {
   "cell_type": "markdown",
   "metadata": {},
   "source": [
    "- `is_a_solution(a, k, input)`: the Boolean function tests whether the first $ k $ element is a vector $ a $ from a complete solution for the given problem. __input__, allows us to pass general information into the routine. We can use it to specifiy $ n $-the size of a target solution. This makes sense when consturcting permutations or subsets of $ n $ elements, but other data may be relevent when constructing variable-sized objects such as sequences of moves in a game \n",
    "- `construct_candidates(a, k, input, c, ncandidates)`: this routine or policy fills an array $ c $ with the complete set of possible candiates for the $ kth $ position of $ a $, given the contents of the first $ k - 1 $ positions. The number of candidates returns in the array is denoted by `ncandidates`. Again __input__ maybe used to pass auxiliary information\n",
    "- `process_solution(a, k, input)`: This routine prints, counts or however processes a complete solution once it is constructed\n",
    "- `make_move(a, k, input)` and `unmake_move(a, k, input)`: these routines enable us to modify a data structure in response to the lastest move, as well as clean up this data structre if we decide to take back the move. Such a data structure could be rebuilt from scratc from the solution vector $ a $ as needed, but this is inefficient when each move involved incremental changes that can easily be undone"
   ]
  },
  {
   "cell_type": "markdown",
   "metadata": {},
   "source": [
    "## Constructing All Subsets"
   ]
  },
  {
   "cell_type": "markdown",
   "metadata": {},
   "source": [
    "Problem with combinatorial objects is how many objects need representing. Each new element doubles the number of possibilities, so there are $ 2^n $ subsets of $ n $ elements"
   ]
  },
  {
   "cell_type": "markdown",
   "metadata": {},
   "source": [
    "To consturct all $ 2^n $ subsets, we set up an array of $ n $ cells, where the value of $ a_i $ (true or false) signifies whether the $ ith $item is in the given subset. In the scheme of our general backtrack algorithm, $ S_k = (true, false) $ and $ a $ is a solutuon whenever $ k = n $"
   ]
  },
  {
   "cell_type": "markdown",
   "metadata": {},
   "source": [
    "    is_a_solution(int a[], int k, int n)\n",
    "    {\n",
    "        return (k == n); /* is k == n? */\n",
    "    }\n",
    "\n",
    "    construct_candidates(int a[], int k, int n, int c[], int *ncandidates)\n",
    "    {\n",
    "        c[0] = TRUE;\n",
    "        c[1] = FALSE;\n",
    "        *ncandidates = 2;\n",
    "    }\n",
    "\n",
    "    process_solution(int a[], int k)\n",
    "    {\n",
    "        int i; /* counter */\n",
    "        printf(\"{\");\n",
    "        \n",
    "        for (i=1; i<=k; i++)\n",
    "            if (a[i] == TRUE) printf(\" %d\",i);\n",
    "        printf(\" }\\n\");\n",
    "    }"
   ]
  },
  {
   "cell_type": "markdown",
   "metadata": {},
   "source": [
    "Finally we must instantiate the call to `backtrack` with the right arugments. Specifically, this means giving a pointer to the empty solution vector, setting $ k = 0 $ to denote that it is empty, and specifiying the number of elements in the universal set:"
   ]
  },
  {
   "cell_type": "markdown",
   "metadata": {},
   "source": [
    "    generate_subsets(int n)\n",
    "    {\n",
    "        int a[NMAX]; /* solution vector */\n",
    "\n",
    "        backtrack(a,0,n);\n",
    "    }"
   ]
  },
  {
   "cell_type": "markdown",
   "metadata": {},
   "source": [
    "What order will subset of $ {1, 2, 3 } $ be generated? \n",
    "    \n",
    "- $ (123), (12), (13), (1), (23), (2), (3), () $ "
   ]
  },
  {
   "cell_type": "markdown",
   "metadata": {},
   "source": [
    "## Constructing All Permutations"
   ]
  },
  {
   "cell_type": "markdown",
   "metadata": {},
   "source": [
    "Counting permutations of $ 1,..., n $ is a necessary prerequsite to generating them. There are $ n $ distincy choices for the value of the first element of a permutation. "
   ]
  },
  {
   "cell_type": "markdown",
   "metadata": {},
   "source": [
    "Once we have a fixed $ a_1 $, there are $ n - 1 $ candiates remaining for the second position, since we can have any value except $ a_1 $ (repetitions, are forbidden in permutation"
   ]
  },
  {
   "cell_type": "markdown",
   "metadata": {},
   "source": [
    "Repeating this argument yields a total of $ n! $ distinct permutations"
   ]
  },
  {
   "cell_type": "markdown",
   "metadata": {},
   "source": [
    "Set up an array $ a $ of $ n $ cells. The set of candiates for the $ ith $ position will be the set of elements that have not appeared in the $ (i - 1)$ elements of the partial solution, corresponding to the first $ i - 1 $ elements of the permutation"
   ]
  },
  {
   "cell_type": "markdown",
   "metadata": {},
   "source": [
    "In the scheme of the genral backtracking algortihms, $ S_k = (1, ..., n) - a $ and $ a $ is a solution whenever $ k = n $"
   ]
  },
  {
   "cell_type": "markdown",
   "metadata": {},
   "source": [
    "    construct_candidates(int a[], int k, int n, int c[], int *ncandidates)\n",
    "    {\n",
    "        int i; /* counter */\n",
    "        bool in_perm[NMAX]; /* who is in the permutation? */\n",
    "\n",
    "        for (i=1; i<NMAX; i++) in_perm[i] = FALSE;\n",
    "        for (i=0; i<k; i++) in_perm[ a[i] ] = TRUE;\n",
    "\n",
    "        *ncandidates = 0;\n",
    "        for (i=1; i<=n; i++)\n",
    "            if (in_perm[i] == FALSE) {\n",
    "                c[ *ncandidates] = i;\n",
    "                *ncandidates = *ncandidates + 1;\n",
    "        }\n",
    "    }"
   ]
  },
  {
   "cell_type": "markdown",
   "metadata": {},
   "source": [
    "Testing whether $ i $ is a candidate for the $ kth $ slot in the permutation can be done by iterating through all $ k - 1 $ elements of $ a $ and verifying that none of them matched. Howerver, we perfer to set up a bit-vector data structure to maintain which elements are in the partial solution. This gives a constant-time legality check"
   ]
  },
  {
   "cell_type": "markdown",
   "metadata": {},
   "source": [
    "Completing the job requres specifying `process_solution` and `is_a_solution`, as well as setting the appropriate arguments to `backtrack`. All are essentially the same for subsets:"
   ]
  },
  {
   "cell_type": "markdown",
   "metadata": {},
   "source": [
    "    process_solution(int a[], int k)\n",
    "    {\n",
    "        int i; /* counter */\n",
    "\n",
    "        for (i=1; i<=k; i++) printf(\" %d\",a[i]);\n",
    "\n",
    "        printf(\"\\n\");\n",
    "    }"
   ]
  },
  {
   "cell_type": "markdown",
   "metadata": {},
   "source": [
    "    is_a_solution(int a[], int k, int n)\n",
    "    {\n",
    "        return (k == n);\n",
    "    }\n",
    "\n",
    "    generate_permutations(int n)\n",
    "    {\n",
    "        int a[NMAX]; /* solution vector */\n",
    "        backtrack(a,0,n);\n",
    "    }"
   ]
  },
  {
   "cell_type": "markdown",
   "metadata": {},
   "source": [
    "Solution to $ 123$ is\n",
    "- $ 123, 132, 213, 312, 321 $"
   ]
  },
  {
   "cell_type": "markdown",
   "metadata": {},
   "source": [
    "## Constructing All Paths in a Graph"
   ]
  },
  {
   "cell_type": "markdown",
   "metadata": {},
   "source": [
    "![](images/chap7/01.png)\n",
    "\n",
    "__Figure 1__: Search tree enumerating all simple $ s- t $ paths in the given graph (left). "
   ]
  },
  {
   "cell_type": "markdown",
   "metadata": {},
   "source": [
    "Enumerating all the simple $ s $ to $ t $ paths through a given graph is more complicated problem than listing permutations or subsets. "
   ]
  },
  {
   "cell_type": "markdown",
   "metadata": {},
   "source": [
    "There is no exlicit formula that counts the number of solutions because the number of solutions depends upon the structure of the graph"
   ]
  },
  {
   "cell_type": "markdown",
   "metadata": {},
   "source": [
    "The starting point of ant path from $ s $ to $ t $ is always $ s $. Thus $ S_1 = (s) $. The possible candiates for the second position are the vertices $ v $ such that $ (s, v) $ is an edge of the graph, for the path wanders from vertex to vertex using edges to define the legal steps"
   ]
  },
  {
   "cell_type": "markdown",
   "metadata": {},
   "source": [
    "In general $ S_{k+1} $ conssits of the set of vertices adjacent to $ a_k $ that have not been used elsewhere in the partial solution $ A $ "
   ]
  },
  {
   "cell_type": "markdown",
   "metadata": {},
   "source": [
    "    construct_candidates(int a[], int k, int n, int c[], int *ncandidates)\n",
    "    {\n",
    "        int i; /* counters */\n",
    "        bool in_sol[NMAX]; /* what’s already in the solution? */\n",
    "        edgenode *p; /* temporary pointer */\n",
    "        int last; /* last vertex on current path */\n",
    "\n",
    "        for (i=1; i<NMAX; i++) in_sol[i] = FALSE;\n",
    "        for (i=1; i<k; i++) in_sol[ a[i] ] = TRUE;\n",
    "\n",
    "        if (k==1) { /* always start from vertex 1 */\n",
    "            c[0] = 1;\n",
    "            *ncandidates = 1;\n",
    "        }\n",
    "        else {\n",
    "            *ncandidates = 0;\n",
    "            last = a[k-1];\n",
    "            p = g.edges[last];\n",
    "            while (p != NULL) {\n",
    "                if (!in_sol[ p->y ]) {\n",
    "                    c[*ncandidates] = p->y;\n",
    "                    *ncandidates = *ncandidates + 1;\n",
    "                }\n",
    "                p = p->next;\n",
    "            }\n",
    "        }\n",
    "    }"
   ]
  },
  {
   "cell_type": "markdown",
   "metadata": {},
   "source": [
    "We report a successful path whenever $ a_k = t $"
   ]
  },
  {
   "cell_type": "markdown",
   "metadata": {},
   "source": [
    "    is_a_solution(int a[], int k, int t)\n",
    "    {\n",
    "        return (a[k] == t);\n",
    "    }\n",
    "    process_solution(int a[], int k)\n",
    "    {\n",
    "        solution_count ++; /* count all s to t paths */\n",
    "    }"
   ]
  },
  {
   "cell_type": "markdown",
   "metadata": {},
   "source": [
    "The solution vector $ A $ must have room for all $ n $ vertices, althoug most paths are likely shorter than this. Figure 1 shows the search tree giving all paths form a particular vertex in an example graph"
   ]
  },
  {
   "cell_type": "markdown",
   "metadata": {},
   "source": [
    "# Search Pruning"
   ]
  },
  {
   "cell_type": "markdown",
   "metadata": {},
   "source": [
    "Backtracking ensures correctness by enumerating all possibilities. Enumerating all $ n! $ permutations of $ n $ vertices of the graph and selecting the best one yeilds the correct algorithm to find the optimal traveling salesman tour.  "
   ]
  },
  {
   "cell_type": "markdown",
   "metadata": {},
   "source": [
    "For each permutation, we could see wether all edges implied by the tour really exists in the graph $ G $, and if so, add the weights of these edges together"
   ]
  },
  {
   "cell_type": "markdown",
   "metadata": {},
   "source": [
    "It would be a wasteful to construct all the permutations first and then analyze them later. Suppose our search started from vertex $ v_1 $, and it happened that edge $ (v_1, v_2)$ was not in $ G $. The next $ (n-2)!$ permutations enumerated starting with $ (v_1, v_2)$ would be a complete waste of effort. "
   ]
  },
  {
   "cell_type": "markdown",
   "metadata": {},
   "source": [
    "Much better we would be to prune the search after $ v_1, v_2 $ and continue with $ v_1, v_3 $. By restricting th set of next elements to reflect only moves that are legal from the current partial configuration, we significantly reduce the search complexity"
   ]
  },
  {
   "cell_type": "markdown",
   "metadata": {},
   "source": [
    "_Pruning_ is the technique of curring off the search the instant we have established that a partial solution cannot be extended into full solution"
   ]
  },
  {
   "cell_type": "markdown",
   "metadata": {},
   "source": [
    "For the traveling salesman problem we seek the cheapest tour that visits all vertices. Suppose that in the course of our search we find a tour $ t $ whos cost is $ C_t $. Later, we may have a partial solution $ a $ whos edge sum $ C_A > C_t."
   ]
  },
  {
   "cell_type": "markdown",
   "metadata": {},
   "source": [
    "Is there any reason to continue exploring this node? No, because any tour with the prefix $ a_1, ..., a_k $ will have cost greater than tour $ t $, and hence is doomed to be non-optimal"
   ]
  },
  {
   "cell_type": "markdown",
   "metadata": {},
   "source": [
    "Exploiting symmetry is another avenue for reducing combinatorial searches. Pruning away partial solutions identical to those previously considered requires recognizing underlying symmetries in the search space. "
   ]
  },
  {
   "cell_type": "markdown",
   "metadata": {},
   "source": [
    "Consider the state our Traveling Salesmen Problem stearch after we have tried all partial positions beginning with $ v_1 $. Does it pay to continue the search with partial solution beginning with $ v_2 $? No. any tour starting and ending at $ v_2 $ can be viewed  as a rotation of one starting and ending at $ v_1 $ for these tours are cycles. "
   ]
  },
  {
   "cell_type": "markdown",
   "metadata": {},
   "source": [
    "There are thus only $ (n-1)!)$ distinct tours on $ n $ vertices, not $ n! $. By restricting the first element of the tour to $ v_1 $, we save a factor of $ n $ in time without missing any intersting solutions"
   ]
  },
  {
   "cell_type": "markdown",
   "metadata": {},
   "source": [
    "- __Take-Home Lesson: Combinatorial searches, when augmented with tree pruning techniques, can be used to find the otpimal solutions of small optimization problems. How small depends upon the specific problem, but typical size limits are somewhere between $ 15 <= n <= 50 $ items__"
   ]
  },
  {
   "cell_type": "markdown",
   "metadata": {},
   "source": [
    "# Sudoku"
   ]
  },
  {
   "cell_type": "markdown",
   "metadata": {},
   "source": [
    "![](images/chap7/02.png)\n",
    "\n",
    "__Figure 2__: Challenging Sudoku puzzle $ (1) $ with solution $ (r) $"
   ]
  },
  {
   "cell_type": "markdown",
   "metadata": {},
   "source": [
    "We will use the puzzle here to illustrate an algorithmic technique of backtracking"
   ]
  },
  {
   "cell_type": "markdown",
   "metadata": {},
   "source": [
    "Our state space will be the sequence of open squares, each of which must ultimately be filled in with a number. The candiates for open squares $ (i, j) $ are exactly the integers from $ 1 $ to $ 9 $ that have not yey appeared in row $ i $, column $ j $, or the $ 3 * 3 $ sector containing $ (i, j) $."
   ]
  },
  {
   "cell_type": "markdown",
   "metadata": {},
   "source": [
    "We backtrack as soon as we are out o candiates for a square."
   ]
  },
  {
   "cell_type": "markdown",
   "metadata": {},
   "source": [
    "The solution vector $ a $ supported by `backtrack` only accepts a single integer per position. This is enough to store contents of a board square $ (1-9)$ but not the coordinates of the board square."
   ]
  },
  {
   "cell_type": "markdown",
   "metadata": {},
   "source": [
    "Thus we keep a seprate array of __move__ positions as part of our __board__ data type provided below"
   ]
  },
  {
   "cell_type": "markdown",
   "metadata": {},
   "source": [
    "The data structure needed is below"
   ]
  },
  {
   "cell_type": "markdown",
   "metadata": {},
   "source": [
    "    #define DIMENSION 9 /* 9*9 board */\n",
    "    #define NCELLS DIMENSION*DIMENSION /* 81 cells in a 9*9 problem */\n",
    "    typedef struct {\n",
    "        int x, y;\n",
    "    } point;\n",
    "\n",
    "    typedef struct {\n",
    "        int m[DIMENSION+1][DIMENSION+1]; /* matrix of board contents */\n",
    "        int freecount; /* how many open squares remain? */\n",
    "        point move[NCELLS+1]; /* how did we fill the squares? */\n",
    "    } boardtype;"
   ]
  },
  {
   "cell_type": "markdown",
   "metadata": {},
   "source": [
    "Constructing the candiates for the next solution prosition involves first picking the open square we want to fill next `(next_square)`, and then identifying which numbers are candiates to fill that square `(possible_value`). These routines are basically bookkeeping, although the subtle details of how they work can have an enormous impact on performace"
   ]
  },
  {
   "cell_type": "markdown",
   "metadata": {},
   "source": [
    "    construct_candidates(int a[], int k, boardtype *board, int c[], int *ncandidates)\n",
    "    {\n",
    "        int x,y; /* position of next move */\n",
    "        int i; /* counter */\n",
    "        bool possible[DIMENSION+1]; /* what is possible for the square */\n",
    "\n",
    "        next_square(&x,&y,board); /* which square should we fill next? */\n",
    "\n",
    "        board->move[k].x = x; /* store our choice of next position */\n",
    "        board->move[k].y = y;\n",
    "    \n",
    "        *ncandidates = 0;\n",
    "\n",
    "        if ((x<0) && (y<0)) return; /* error condition, no moves possible */\n",
    "\n",
    "        possible_values(x,y,board,possible);\n",
    "\n",
    "        for (i=0; i<=DIMENSION; i++)\n",
    "            if (possible[i] == TRUE) {\n",
    "                c[*ncandidates] = i;\n",
    "            *ncandidates = *ncandidates + 1;\n",
    "        }\n",
    "    }"
   ]
  },
  {
   "cell_type": "markdown",
   "metadata": {},
   "source": [
    "We must update our `board` data structure to reflect the effect of filling a candiate value into a square, as well as remove these changes should we backtrack away from this position. These updates are handled by `make_move` and `unmake_move` both of wich are called directly from `backtrack:`"
   ]
  },
  {
   "cell_type": "markdown",
   "metadata": {},
   "source": [
    "    make_move(int a[], int k, boardtype *board)\n",
    "    {\n",
    "        fill_square(board->move[k].x,board->move[k].y,a[k],board);\n",
    "    }\n",
    "\n",
    "    unmake_move(int a[], int k, boardtype *board)\n",
    "    {\n",
    "    free_square(board->move[k].x,board->move[k].y,board);\n",
    "    }"
   ]
  },
  {
   "cell_type": "markdown",
   "metadata": {},
   "source": [
    "One important job for these board update routines is maintained how many free squares remain on the board. A solution is found when there are no more free squares remaining to be filled"
   ]
  },
  {
   "cell_type": "markdown",
   "metadata": {},
   "source": [
    "    is_a_solution(int a[], int k, boardtype *board)\n",
    "    {\n",
    "        if (board->freecount == 0)\n",
    "            return (TRUE);\n",
    "        else\n",
    "            return(FALSE);\n",
    "    }"
   ]
  },
  {
   "cell_type": "markdown",
   "metadata": {},
   "source": [
    "Offical Sudoku puzzles are only allowed to have one solution. There can be enormous number of solutions to nonoffical Sudoku puzzles. Indeed, the empty puzzle (where no number is initiall specified) can be filled a god teir number of ways. We can ensure we dont see them by turning off search once we solved the board"
   ]
  },
  {
   "cell_type": "markdown",
   "metadata": {},
   "source": [
    "    process_solution(int a[], int k, boardtype *board)\n",
    "    {\n",
    "        print_board(board);\n",
    "        finished = TRUE;\n",
    "    }"
   ]
  },
  {
   "cell_type": "markdown",
   "metadata": {},
   "source": [
    "Square Selection Method\n",
    "- Arbitrary Square Selection: Pick the first open square we encounter, possibly picking the first, the last or a random open square. ALl are equivalent in that there seems to be no reason to belive that one heuristic will perform any better than the other\n",
    "- Most Constrained Square Selection: Here, we check each of the open squares $ (i, j)$ to see how many number of candidates remain for each- i.e., have not already been used in either row $ i $, column $ j $, or the sector containing $(i, j) $. We pick the square with the fewest number of candiates"
   ]
  },
  {
   "cell_type": "markdown",
   "metadata": {},
   "source": [
    "Second Option is better, because it reduces possibilites"
   ]
  },
  {
   "cell_type": "markdown",
   "metadata": {},
   "source": [
    "If the most constrained square has two possibilites, we have at $ 1/2 $ probability of guessing right the first time, as opposed to a $ (1/9)^th $ probability for a completely unconstrained square. "
   ]
  },
  {
   "cell_type": "markdown",
   "metadata": {},
   "source": [
    "Value Selection Method\n",
    "- Local Count: Our backtrack search works correctly if the routine generating candidated for board position $ (i, j) $ (`possible_values`) does the obvious thing and allows all numbers from $ 1 $ to $ 9 $ that have not appeared in the given row, column or sector\n",
    "- Look ahead: But what if our current partial solution has some othe ropen square where there are no candidates remaining under the local count criteria? There is no possible way to complete this parital solution in a full Sudoku gird. Thus there really are zero possible moves to consider for $ (i,j) $ becuase of what is happening elsewhere on the board! We are better off backtracking immediately and moving head"
   ]
  },
  {
   "cell_type": "markdown",
   "metadata": {},
   "source": [
    "Successful pruning requires looking ahead to see when a solution is doomed to go nowhere, and backing off as soon as possible"
   ]
  },
  {
   "cell_type": "markdown",
   "metadata": {},
   "source": [
    "![](images/chap7/03.png)\n",
    "\n",
    "__Figure 3__: Sudoku run times (in number of steps) under different pruning stragtegies"
   ]
  },
  {
   "cell_type": "markdown",
   "metadata": {},
   "source": [
    "Pruning Has Magic Powers: If we select the most constrained square with look ahead, we can finish Hard puzzles in a fraction of the time without these prunings"
   ]
  },
  {
   "cell_type": "markdown",
   "metadata": {},
   "source": [
    "# Heuristic Search Methods"
   ]
  },
  {
   "cell_type": "markdown",
   "metadata": {},
   "source": [
    "Heuristics provide an alternative way to approach difficult combinatorial optimiaztion problems"
   ]
  },
  {
   "cell_type": "markdown",
   "metadata": {},
   "source": [
    "Backtracking gives us a method to find the best of all possible solutions, as scored by a given objective function. Howerver, any algorithm searching all configurations is doomed to be impossible on large instances"
   ]
  },
  {
   "cell_type": "markdown",
   "metadata": {},
   "source": [
    "The Three different heurisitic search methods are: __random sampling__, __gradient-descent search__ and __simulated annealing__"
   ]
  },
  {
   "cell_type": "markdown",
   "metadata": {},
   "source": [
    "### Properties of Heuristics"
   ]
  },
  {
   "cell_type": "markdown",
   "metadata": {},
   "source": [
    "- Solution space representation \n",
    "    - This is a complete yet concise description of the set of possible solutions for the problem. For the traveling salesman, the solution space consists of $ (n- 1)! $ elements- namely all possible circular permutations of the vertices. We usually need a data structure to represent each element of the solution space. For the traveling space salesman, the candidate solutions can be naturally be represented using an array $ S $ of $ n - 2 $ vertices, where $ S_i $ define the $ (i + 1)st $ vertex on the tour starting from $ v_1 $\n",
    "- Cost Function\n",
    "    - Search methods need a _cost_ or _evaluation_ function to access the quality of each element of the solution space. Our heuristic identifies the element with the best possible socre- either highest or lowest depending upon the nature of the problem. For the traveling salesman problem, the cost function for evaluating a given candidate solution $ S $ should just sum the costs involved, namely the weight of all edges $ (S_i, S_{i+1})$, where  $ S_{n+1}$  denotes $ v_1 $"
   ]
  },
  {
   "cell_type": "markdown",
   "metadata": {},
   "source": [
    "## Random Sampling"
   ]
  },
  {
   "cell_type": "markdown",
   "metadata": {},
   "source": [
    "The simplest method to search in a solution space uses random sampling. It is also called the _Monte Carlo method_. We repeatedly construct random solutions and evaluate them, stopping as soon as we get a good enough solution, or (more likely) when we are tired of waiting. We report the best solution over the course of our sampling"
   ]
  },
  {
   "cell_type": "markdown",
   "metadata": {},
   "source": [
    "True random sampling requres that we are able to select elements from the solution space _uniformly at random_. This means that each of the elements of the solution space must have an equal probability of being the next candidate selected"
   ]
  },
  {
   "cell_type": "markdown",
   "metadata": {},
   "source": [
    "    random_sampling(tsp_instance *t, int nsamples, tsp_solution *bestsol)\n",
    "    {\n",
    "        tsp_solution s; /* current tsp solution */\n",
    "        double best_cost; /* best cost so far */\n",
    "        double cost_now; /* current cost */\n",
    "        int i; /* counter */\n",
    "\n",
    "        initialize_solution(t->n,&s);\n",
    "        best_cost = solution_cost(&s,t);\n",
    "        copy_solution(&s,bestsol);\n",
    "\n",
    "        for (i=1; i<=nsamples; i++) {\n",
    "            random_solution(&s);\n",
    "            cost_now = solution_cost(&s,t);\n",
    "            if (cost_now < best_cost) {\n",
    "                best_cost = cost_now;\n",
    "                copy_solution(&s,bestsol);\n",
    "            }\n",
    "        }\n",
    "    }"
   ]
  },
  {
   "cell_type": "markdown",
   "metadata": {},
   "source": [
    "### What might random sampling do well?"
   ]
  },
  {
   "cell_type": "markdown",
   "metadata": {},
   "source": [
    "- When there are a high proportion of acceptable solutions\n",
    "    - Finding s piece of hay in a haystack is easy, since almost anything you grab is a straw. When solutions are plentiful, a random search should find one quickly. Finding prime numbers is domain whenre a random search proves successufl. Generating large random prime numbers for key is important in cryptographic systems.\n",
    " "
   ]
  },
  {
   "cell_type": "markdown",
   "metadata": {},
   "source": [
    "- When There is no coherence in the solution space\n",
    "    - Random sampling is the right thing to do when there is no sense of when we are getting closer to a solution. Suppose you wanted to find one of your friends who has a SSN that ends in 00. There is not much you can hope to do buy tap an arbitrary fellow on their shoulders and ask. "
   ]
  },
  {
   "cell_type": "markdown",
   "metadata": {},
   "source": [
    "## Picking The Pair"
   ]
  },
  {
   "cell_type": "markdown",
   "metadata": {},
   "source": [
    "Problem: We need an efficient and unbiased way to generate random pairs of\n",
    "vertices to perform random vertex swaps. Propose an efficient algorithm to generate elements from the $ n/2 $ unordered pairs on {1,...,n} uniformly at random"
   ]
  },
  {
   "cell_type": "markdown",
   "metadata": {},
   "source": [
    "Solution: Uniformly generating random structures is a surprisingly subtle problem."
   ]
  },
  {
   "cell_type": "markdown",
   "metadata": {},
   "source": [
    "Randomly generating the $ n^2 $ ordered pairs uniformly is easy. Just pick two integers independently of each other. Ignoring the ordering (i.e., permuting the ordered pair to unordered pair $ (x, y)$ so that $ x < y $) gives a $ 2/n^2 $ propability of generating each unordered pair of distinct elements"
   ]
  },
  {
   "cell_type": "markdown",
   "metadata": {},
   "source": [
    "If we denerate $ (x, x) $ we discard it and try again. We will get unordered pairs uniformly at random in constant expected time using the following algortihm"
   ]
  },
  {
   "cell_type": "markdown",
   "metadata": {},
   "source": [
    "    do {\n",
    "        i = random int(1,n);\n",
    "        j = random int(1,n);\n",
    "        if (i > j) swap(&i,&j);\n",
    "    } while (i==j);"
   ]
  },
  {
   "cell_type": "markdown",
   "metadata": {},
   "source": [
    "## Local Search"
   ]
  },
  {
   "cell_type": "markdown",
   "metadata": {},
   "source": [
    "![](images/chap7/05.png)\n",
    "\n",
    "__Figure 4__ Improving a Traveling Salesman Problem tour by swapping vertices $ 2 $ and $ 6 $"
   ]
  },
  {
   "cell_type": "markdown",
   "metadata": {},
   "source": [
    "Suppose you wanted to call a plummer. You could call random numbers, ask if they are plummers untill you find a plummer. "
   ]
  },
  {
   "cell_type": "markdown",
   "metadata": {},
   "source": [
    "But if what if instead you call someone, ask if they know a plummer and then call that plumemr"
   ]
  },
  {
   "cell_type": "markdown",
   "metadata": {},
   "source": [
    "A local search employes _local neighborhood_ around every element in the solution space. "
   ]
  },
  {
   "cell_type": "markdown",
   "metadata": {},
   "source": [
    "Think of each element $ x $ in the solution space as a vertex, with a directed edge $ (x, y) $ to every candidate solution $ y $ that is a neighbor of $ x $. Our search proceeds from $ x $ to the most promising candidate in $ x's $ neighborhood"
   ]
  },
  {
   "cell_type": "markdown",
   "metadata": {},
   "source": [
    "We want a general transition mechanism that takes us to the next solution by slightly modifying the current one. Typical transition mechanism include swapping a random pair of items or changing (insert/delete) a single item in the solution"
   ]
  },
  {
   "cell_type": "markdown",
   "metadata": {},
   "source": [
    "Ideally, the effect that these incremental changes have on measuring the quality of the solution can be computed incrementally so cost function evaluation takes time proportional to the size of the change (typically constant) instead of linear to the size of the solution"
   ]
  },
  {
   "cell_type": "markdown",
   "metadata": {},
   "source": [
    "For Traveling Salesman, our transition in the neightborhood, would be to find the edge that lowers the cost of the tour"
   ]
  },
  {
   "cell_type": "markdown",
   "metadata": {},
   "source": [
    "Hill-Climbing and closely related heuristics such as greedy search or gradient descent search are great at finding local optima quickly, but often fail to find the globally best solution"
   ]
  },
  {
   "cell_type": "markdown",
   "metadata": {},
   "source": [
    "    hill_climbing(tsp_instance *t, tsp_solution *s)\n",
    "    {\n",
    "        double cost; /* best cost so far */\n",
    "        double delta; /* swap cost */\n",
    "        int i,j; /* counters */\n",
    "        bool stuck; /* did I get a better solution? */\n",
    "        double transition();\n",
    "    \n",
    "        initialize_solution(t->n,s);\n",
    "        random_solution(s);\n",
    "        cost = solution_cost(s,t);\n",
    "    \n",
    "        do {\n",
    "            stuck = TRUE;\n",
    "            for (i=1; i<t->n; i++)\n",
    "                for (j=i+1; j<=t->n; j++) {\n",
    "                    delta = transition(s,t,i,j);\n",
    "                    if (delta < 0) {\n",
    "                        stuck = FALSE;\n",
    "                        cost = cost + delta;\n",
    "                    }\n",
    "                    else\n",
    "                        transition(s,t,j,i);\n",
    "                    }\n",
    "        } while (!stuck);\n",
    "    }"
   ]
  },
  {
   "cell_type": "markdown",
   "metadata": {},
   "source": [
    "### What do local search do well?"
   ]
  },
  {
   "cell_type": "markdown",
   "metadata": {},
   "source": [
    "- When there is great coherence in the solution space\n",
    "    - Hill climbing is at its best when solution space is convex, meaning it consists of exactly one hill, no matter where you start on the hill, there is alway one direction you can go untill you are at the global maximum. Think binary search or think Maximum Stock Sell"
   ]
  },
  {
   "cell_type": "markdown",
   "metadata": {},
   "source": [
    "- Whenever the cost of incremental evaluation is much cheaper than global evaluation\n",
    "    - It costs $ Θ(n) $ to evaluate the cost of an arbitrary $ n-vertex $ candidate traveling sales man problem solution, because we must total the cost of each edge in the circular permutation describing the tour. Once that is found, howerver, the cost of the tour after swapping a given pair of vertices can be determined in constant time"
   ]
  },
  {
   "cell_type": "markdown",
   "metadata": {},
   "source": [
    "Drawback of local search is that soon there isn't anything left for us to do as we find the local optimum"
   ]
  },
  {
   "cell_type": "markdown",
   "metadata": {},
   "source": [
    "## Simulated Annealing"
   ]
  },
  {
   "cell_type": "markdown",
   "metadata": {},
   "source": [
    "Simulated annealing is a heuristic search procedure that allows occasional transitions leading to more expensive (and hence inferior) solutions"
   ]
  },
  {
   "cell_type": "markdown",
   "metadata": {},
   "source": [
    "This keeps our search from getting stuck in a local optima. "
   ]
  },
  {
   "cell_type": "markdown",
   "metadata": {},
   "source": [
    "In thermodynamics theory, the energy of a system is described by the energy state of each particle constituting it. A particles eanergy state jumps about randomply with such transitions govered by the tempature of the system"
   ]
  },
  {
   "cell_type": "markdown",
   "metadata": {},
   "source": [
    "The probability of moving from a high-energy state to a lower-energy state is very high, but its still a non-zero probability of accepting a transition into a high-energy state, with such small jumps much more likely than big ones"
   ]
  },
  {
   "cell_type": "markdown",
   "metadata": {},
   "source": [
    "The higher the temperature, the more likely energy jumps will cocur"
   ]
  },
  {
   "cell_type": "markdown",
   "metadata": {},
   "source": [
    "    Simulated-Annealing()\n",
    "        Create initial solution S\n",
    "        Initialize temperature t\n",
    "        repeat\n",
    "            for i = 1 to iteration-length do\n",
    "            Generate a random transition from S to Si\n",
    "            If (C(S) ≥ C(S_i)) then S = S_i\n",
    "            else if (e^(C(S)−C(S_i))/(k·t) > random[0, 1)) then S = Si\n",
    "        Reduce temperature t\n",
    "        until (no change in C(S))\n",
    "        Return S"
   ]
  },
  {
   "cell_type": "markdown",
   "metadata": {},
   "source": [
    "Through random transitions generated according to the given probability distribution, we can mimic the physics to solve arbitrary combinatorial optimization problems"
   ]
  },
  {
   "cell_type": "markdown",
   "metadata": {},
   "source": [
    "- __Forget about this molten metal business. Simulated annealing is effective because it spends much more of its time working on good elements of the solution space than on bad ones, and because it avoids getting trapped repeatedly in the same local optima.__"
   ]
  },
  {
   "cell_type": "markdown",
   "metadata": {},
   "source": [
    "Initally we are eager to use randomness to explore the search space widely, so the probability of accepting a negative transition should be high, But as the search progresses, we seek to limit transitions to local improvements and optimizations. "
   ]
  },
  {
   "cell_type": "markdown",
   "metadata": {},
   "source": [
    "Cooling Scheduling Parameters:\n",
    "- Inital state tempature is intially $ t_1 = 1 $\n",
    "- Tempature decrement function: Typically $ t_k = a*t_{k-1}$. This implies an expodential decay in tempature, as oposed to a linear cecay\n",
    "- Number of iterations between tempature change- typically 100 to 1,000 iterations might be permitted before lowering the tempature\n",
    "- Acceptance criteria- A typical criterion is to accept any transition from $s_i$ to $S_{i+1} $ when $ C(s_{i+1}) < C(s_i)$, and also accept a negative transition whenever $ e − (C(s_i)−C(s_{i+1}))/ k*t_i ≥ r$, where r is a random number $ 0 ≤ r < 1$. The constant k normalizes this cost function so that almost all transitions are accepted at the starting temperature\n",
    "- Stop criteria- typically when the value of the current solution has not changed or improved within the last iteration or so, search is terminated and the current solution is reported"
   ]
  },
  {
   "cell_type": "markdown",
   "metadata": {},
   "source": [
    "Anneling Solutions work very well it should be a method of choice"
   ]
  },
  {
   "cell_type": "markdown",
   "metadata": {},
   "source": [
    "### Implementation"
   ]
  },
  {
   "cell_type": "markdown",
   "metadata": {},
   "source": [
    "    anneal(tsp_instance *t, tsp_solution *s)\n",
    "    {\n",
    "        int i1, i2; /* pair of items to swap */\n",
    "        int i,j; /* counters */\n",
    "        double temperature; /* the current system temp */\n",
    "        double current_value; /* value of current state */\n",
    "        double start_value; /* value at start of loop */\n",
    "        double delta; /* value after swap */\n",
    "        double merit, flip; /* hold swap accept conditions*/\n",
    "        double exponent; /* exponent for energy funct*/\n",
    "        double random_float();\n",
    "        double solution_cost(), transition();\n",
    "        \n",
    "        temperature = INITIAL_TEMPERATURE;\n",
    "        \n",
    "        initialize_solution(t->n,s);\n",
    "        current_value = solution_cost(s,t);\n",
    "        \n",
    "        for (i=1; i<=COOLING_STEPS; i++) {\n",
    "            temperature *= COOLING_FRACTION;\n",
    "        \n",
    "            start_value = current_value;\n",
    "            \n",
    "            for (j=1; j<=STEPS_PER_TEMP; j++) {\n",
    "                /* pick indices of elements to swap */\n",
    "                i1 = random_int(1,t->n);\n",
    "                i2 = random_int(1,t->n);\n",
    "\n",
    "                flip = random_float(0,1);\n",
    "                \n",
    "                delta = transition(s,t,i1,i2);\n",
    "                exponent = (-delta/current_value)/(K*temperature);\n",
    "                merit = pow(E,exponent);\n",
    "                \n",
    "                if (delta < 0) /*ACCEPT-WIN*/\n",
    "                    current_value = current_value+delta;\n",
    "                else { if (merit > flip) /*ACCEPT-LOSS*/\n",
    "                    current_value = current_value+delta;\n",
    "                else /* REJECT */\n",
    "                    transition(s,t,i1,i2);\n",
    "                }\n",
    "            }\n",
    "            /* restore temperature if progress has been made */\n",
    "            if ((current_value-start_value) < 0.0)\n",
    "                temperature = temperature/COOLING_FRACTION;\n",
    "        }\n",
    "    }"
   ]
  },
  {
   "cell_type": "markdown",
   "metadata": {},
   "source": [
    "### Applications of Simulated Annealing"
   ]
  },
  {
   "cell_type": "markdown",
   "metadata": {},
   "source": [
    "#### Maximum Cut"
   ]
  },
  {
   "cell_type": "markdown",
   "metadata": {},
   "source": [
    "The \"maximum cut\" problem seeks to partition the vertices of a weighted graph $ G $ into sets $ V_1 $ and $ V_2 $ to maximize the weight (or number) of edges with one vertex in each set"
   ]
  },
  {
   "cell_type": "markdown",
   "metadata": {},
   "source": [
    "For graphs that specifiy an electronic circuit, the maximum cut in the graph defines the largest amount of data communication that can take plave in the circuit simultaneously"
   ]
  },
  {
   "cell_type": "markdown",
   "metadata": {},
   "source": [
    "A natural transition mechanism selects one vertex at random and moves it across the partition simply by flipping the corresponding bit in the bit vector. The change in the cost function will be the weight of its old neigthbors minus the wieght of the new neightbors. This can be computed in time proportional to the degree of the vertex"
   ]
  },
  {
   "cell_type": "markdown",
   "metadata": {},
   "source": [
    "#### Circuit Board Placement"
   ]
  },
  {
   "cell_type": "markdown",
   "metadata": {},
   "source": [
    "In designing printed circuit boards, we are faced with the problem of positioning modules (typically, integrated circuits) on the board. Desired criteria in a layout may include (1) minimizing the area or aspect ratio of the board so that it properly fits within the allotted space, and (2) minimizing the total or longest wire length in connecting the components. Circuit board placement is representative of the kind of messy, multicriterion optimization problems for which simulated annealing is ideally suited"
   ]
  },
  {
   "cell_type": "markdown",
   "metadata": {},
   "source": [
    "We seek a placement of rectangles that minimize area and wire lenght subject to the constraints that no two rectangles ovelap each other"
   ]
  },
  {
   "cell_type": "markdown",
   "metadata": {},
   "source": [
    "#### Independent Set"
   ]
  },
  {
   "cell_type": "markdown",
   "metadata": {},
   "source": [
    "An “independent set” of a graph G is a subset of vertices S such that there is no edge with both endpoints in S. The maximum independent set of a graph is the largest such empty induced subgraph. Finding large independent sets arises in dispersion problems associated with facility location and coding theory"
   ]
  },
  {
   "cell_type": "markdown",
   "metadata": {},
   "source": [
    "# Other Heuristic Search Methods"
   ]
  },
  {
   "cell_type": "markdown",
   "metadata": {},
   "source": [
    "## Genetic Algortims"
   ]
  },
  {
   "cell_type": "markdown",
   "metadata": {},
   "source": [
    "Genetic algorithm report to work because they try to encapsulate randomness of evolution and biology but do not work"
   ]
  },
  {
   "cell_type": "markdown",
   "metadata": {},
   "source": [
    "## Parallel Algorithms"
   ]
  },
  {
   "cell_type": "markdown",
   "metadata": {},
   "source": [
    "If you had more power, you could potientally just let it run"
   ]
  },
  {
   "cell_type": "markdown",
   "metadata": {},
   "source": [
    "__Problmes__:\n",
    "- There is often a small upper bound on the potential win. Sometimes its better to tweak the algortihm and gain massive improvements\n",
    "- Speedups mean nothing. Even if you have massive horse power, does not matter because again, good algortihms can still be faster\n",
    "- Parallel algorithms are tough to debug. Its not linear, how do you follow the algorithm and where its going"
   ]
  },
  {
   "cell_type": "markdown",
   "metadata": {},
   "source": []
  },
  {
   "cell_type": "markdown",
   "metadata": {},
   "source": []
  },
  {
   "cell_type": "markdown",
   "metadata": {},
   "source": []
  },
  {
   "cell_type": "markdown",
   "metadata": {},
   "source": []
  },
  {
   "cell_type": "markdown",
   "metadata": {},
   "source": []
  },
  {
   "cell_type": "markdown",
   "metadata": {},
   "source": [
    "![](images/chap7/.png)"
   ]
  }
 ],
 "metadata": {
  "kernelspec": {
   "display_name": "Python 3",
   "language": "python",
   "name": "python3"
  },
  "language_info": {
   "codemirror_mode": {
    "name": "ipython",
    "version": 3
   },
   "file_extension": ".py",
   "mimetype": "text/x-python",
   "name": "python",
   "nbconvert_exporter": "python",
   "pygments_lexer": "ipython3",
   "version": "3.8.3"
  }
 },
 "nbformat": 4,
 "nbformat_minor": 4
}
